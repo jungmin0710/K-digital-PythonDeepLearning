{
  "nbformat": 4,
  "nbformat_minor": 0,
  "metadata": {
    "colab": {
      "name": "DNN_mnist_Categorical_Classification_Overfitting.pynb",
      "provenance": [],
      "authorship_tag": "ABX9TyMAJR4VetyaHIJAz+Rkkd4I",
      "include_colab_link": true
    },
    "kernelspec": {
      "name": "python3",
      "display_name": "Python 3"
    },
    "language_info": {
      "name": "python"
    },
    "accelerator": "GPU"
  },
  "cells": [
    {
      "cell_type": "markdown",
      "metadata": {
        "id": "view-in-github",
        "colab_type": "text"
      },
      "source": [
        "<a href=\"https://colab.research.google.com/github/jungmin0710/K-digital-PythonDeepLearning/blob/main/DNN_mnist_Categorical_Classification_Overfitting_pynb.ipynb\" target=\"_parent\"><img src=\"https://colab.research.google.com/assets/colab-badge.svg\" alt=\"Open In Colab\"/></a>"
      ]
    },
    {
      "cell_type": "markdown",
      "metadata": {
        "id": "RPif9R491-aS"
      },
      "source": [
        "# MNIST - Categorical Classification\n",
        "다중분류 + Overfitting Issue\n",
        "## 0. Import Tensorflow & Keras"
      ]
    },
    {
      "cell_type": "code",
      "metadata": {
        "id": "ME78yNgL13Xf"
      },
      "source": [
        "import warnings\n",
        "warnings.filterwarnings('ignore')"
      ],
      "execution_count": 1,
      "outputs": []
    },
    {
      "cell_type": "markdown",
      "metadata": {
        "id": "nyQMVSxG2N4G"
      },
      "source": [
        "* import Tensorflow"
      ]
    },
    {
      "cell_type": "code",
      "metadata": {
        "colab": {
          "base_uri": "https://localhost:8080/",
          "height": 35
        },
        "id": "oGRHzs6_2NBb",
        "outputId": "fec9eeaa-4b3c-4005-a246-120ccc2b4cab"
      },
      "source": [
        "import tensorflow as tf\n",
        "\n",
        "tf.__version__ "
      ],
      "execution_count": 2,
      "outputs": [
        {
          "output_type": "execute_result",
          "data": {
            "application/vnd.google.colaboratory.intrinsic+json": {
              "type": "string"
            },
            "text/plain": [
              "'2.4.1'"
            ]
          },
          "metadata": {
            "tags": []
          },
          "execution_count": 2
        }
      ]
    },
    {
      "cell_type": "markdown",
      "metadata": {
        "id": "e72BvXOL2Wok"
      },
      "source": [
        "* GPU 설정 확인"
      ]
    },
    {
      "cell_type": "code",
      "metadata": {
        "colab": {
          "base_uri": "https://localhost:8080/",
          "height": 35
        },
        "id": "UGSRP3Jm2SyN",
        "outputId": "ee076535-d37b-4f9e-8bcd-fa795122e7fd"
      },
      "source": [
        "tf.test.gpu_device_name()"
      ],
      "execution_count": 3,
      "outputs": [
        {
          "output_type": "execute_result",
          "data": {
            "application/vnd.google.colaboratory.intrinsic+json": {
              "type": "string"
            },
            "text/plain": [
              "'/device:GPU:0'"
            ]
          },
          "metadata": {
            "tags": []
          },
          "execution_count": 3
        }
      ]
    },
    {
      "cell_type": "markdown",
      "metadata": {
        "id": "BpoI5w782i7i"
      },
      "source": [
        "* Import Keras"
      ]
    },
    {
      "cell_type": "code",
      "metadata": {
        "colab": {
          "base_uri": "https://localhost:8080/",
          "height": 35
        },
        "id": "uQqFNB442UlG",
        "outputId": "719208a1-cea2-448d-a18b-0de9a83f9e08"
      },
      "source": [
        "import keras\n",
        "keras.__version__"
      ],
      "execution_count": 4,
      "outputs": [
        {
          "output_type": "execute_result",
          "data": {
            "application/vnd.google.colaboratory.intrinsic+json": {
              "type": "string"
            },
            "text/plain": [
              "'2.4.3'"
            ]
          },
          "metadata": {
            "tags": []
          },
          "execution_count": 4
        }
      ]
    },
    {
      "cell_type": "markdown",
      "metadata": {
        "id": "QpvxqSPf2nbD"
      },
      "source": [
        "## 1.MNIST Data_Set Load & Review\n",
        "### 1)Load MNIST_Data_Set"
      ]
    },
    {
      "cell_type": "code",
      "metadata": {
        "id": "LXQIbNvq2mNw"
      },
      "source": [
        "from keras.datasets import mnist\n",
        "\n",
        "(X_train, y_train), (X_test, y_test) = mnist.load_data()"
      ],
      "execution_count": 5,
      "outputs": []
    },
    {
      "cell_type": "markdown",
      "metadata": {
        "id": "mv1TcvlY3A-C"
      },
      "source": [
        "* Train_Data Information"
      ]
    },
    {
      "cell_type": "code",
      "metadata": {
        "colab": {
          "base_uri": "https://localhost:8080/"
        },
        "id": "x_oe8wva23sh",
        "outputId": "c0fd4711-d9c4-4136-fbbf-d2a614c387f4"
      },
      "source": [
        "print(len(X_train))\n",
        "print(X_train.shape)\n",
        "print(len(y_train))\n",
        "print(y_train[0:5])"
      ],
      "execution_count": 6,
      "outputs": [
        {
          "output_type": "stream",
          "text": [
            "60000\n",
            "(60000, 28, 28)\n",
            "60000\n",
            "[5 0 4 1 9]\n"
          ],
          "name": "stdout"
        }
      ]
    },
    {
      "cell_type": "markdown",
      "metadata": {
        "id": "av1K6Lug3PJ3"
      },
      "source": [
        "* Test_Data Information"
      ]
    },
    {
      "cell_type": "code",
      "metadata": {
        "colab": {
          "base_uri": "https://localhost:8080/"
        },
        "id": "r8dIdUqQ3LpB",
        "outputId": "88f3c2f5-f5b1-4437-e1da-68ffb66df30e"
      },
      "source": [
        "print(len(X_test))\n",
        "print(X_test.shape)\n",
        "print(len(y_test))\n",
        "print(y_test[0:5])"
      ],
      "execution_count": 7,
      "outputs": [
        {
          "output_type": "stream",
          "text": [
            "10000\n",
            "(10000, 28, 28)\n",
            "10000\n",
            "[7 2 1 0 4]\n"
          ],
          "name": "stdout"
        }
      ]
    },
    {
      "cell_type": "markdown",
      "metadata": {
        "id": "sHMMSmV53Z5v"
      },
      "source": [
        "### 2)Visualization"
      ]
    },
    {
      "cell_type": "code",
      "metadata": {
        "colab": {
          "base_uri": "https://localhost:8080/",
          "height": 265
        },
        "id": "s_S8W7OC3W5A",
        "outputId": "978d4def-441e-462e-c057-6d13713c58d0"
      },
      "source": [
        "import matplotlib.pyplot as plt\n",
        "\n",
        "digit = X_train[4]\n",
        "plt.imshow(digit, cmap = 'gray')\n",
        "plt.show()"
      ],
      "execution_count": 8,
      "outputs": [
        {
          "output_type": "display_data",
          "data": {
            "image/png": "[encoded data removed]",
            "text/plain": [
              "<Figure size 432x288 with 1 Axes>"
            ]
          },
          "metadata": {
            "tags": [],
            "needs_background": "light"
          }
        }
      ]
    },
    {
      "cell_type": "code",
      "metadata": {
        "colab": {
          "base_uri": "https://localhost:8080/"
        },
        "id": "K8POsbvo3hVs",
        "outputId": "4ebe07e4-50e4-4d9e-90dc-3ad62c6d2378"
      },
      "source": [
        "import numpy as np\n",
        "\n",
        "np.set_printoptions(linewidth = 150)\n",
        "\n",
        "print(X_train[4])"
      ],
      "execution_count": 9,
      "outputs": [
        {
          "output_type": "stream",
          "text": [
            "[[  0   0   0   0   0   0   0   0   0   0   0   0   0   0   0   0   0   0   0   0   0   0   0   0   0   0   0   0]\n",
            " [  0   0   0   0   0   0   0   0   0   0   0   0   0   0   0   0   0   0   0   0   0   0   0   0   0   0   0   0]\n",
            " [  0   0   0   0   0   0   0   0   0   0   0   0   0   0   0   0   0   0   0   0   0   0   0   0   0   0   0   0]\n",
            " [  0   0   0   0   0   0   0   0   0   0   0   0   0   0   0   0   0   0   0   0   0   0   0   0   0   0   0   0]\n",
            " [  0   0   0   0   0   0   0   0   0   0   0   0   0   0   0   0   0   0   0   0   0   0   0   0   0   0   0   0]\n",
            " [  0   0   0   0   0   0   0   0   0   0   0   0   0   0   0   0   0   0   0   0   0   0   0   0   0   0   0   0]\n",
            " [  0   0   0   0   0   0   0   0   0   0   0   0   0   0   0   0   0   0   0   0   0   0   0   0   0   0   0   0]\n",
            " [  0   0   0   0   0   0   0   0   0   0   0   0  55 148 210 253 253 113  87 148  55   0   0   0   0   0   0   0]\n",
            " [  0   0   0   0   0   0   0   0   0   0   0  87 232 252 253 189 210 252 252 253 168   0   0   0   0   0   0   0]\n",
            " [  0   0   0   0   0   0   0   0   0   4  57 242 252 190  65   5  12 182 252 253 116   0   0   0   0   0   0   0]\n",
            " [  0   0   0   0   0   0   0   0   0  96 252 252 183  14   0   0  92 252 252 225  21   0   0   0   0   0   0   0]\n",
            " [  0   0   0   0   0   0   0   0 132 253 252 146  14   0   0   0 215 252 252  79   0   0   0   0   0   0   0   0]\n",
            " [  0   0   0   0   0   0   0 126 253 247 176   9   0   0   8  78 245 253 129   0   0   0   0   0   0   0   0   0]\n",
            " [  0   0   0   0   0   0  16 232 252 176   0   0   0  36 201 252 252 169  11   0   0   0   0   0   0   0   0   0]\n",
            " [  0   0   0   0   0   0  22 252 252  30  22 119 197 241 253 252 251  77   0   0   0   0   0   0   0   0   0   0]\n",
            " [  0   0   0   0   0   0  16 231 252 253 252 252 252 226 227 252 231   0   0   0   0   0   0   0   0   0   0   0]\n",
            " [  0   0   0   0   0   0   0  55 235 253 217 138  42  24 192 252 143   0   0   0   0   0   0   0   0   0   0   0]\n",
            " [  0   0   0   0   0   0   0   0   0   0   0   0   0  62 255 253 109   0   0   0   0   0   0   0   0   0   0   0]\n",
            " [  0   0   0   0   0   0   0   0   0   0   0   0   0  71 253 252  21   0   0   0   0   0   0   0   0   0   0   0]\n",
            " [  0   0   0   0   0   0   0   0   0   0   0   0   0   0 253 252  21   0   0   0   0   0   0   0   0   0   0   0]\n",
            " [  0   0   0   0   0   0   0   0   0   0   0   0   0  71 253 252  21   0   0   0   0   0   0   0   0   0   0   0]\n",
            " [  0   0   0   0   0   0   0   0   0   0   0   0   0 106 253 252  21   0   0   0   0   0   0   0   0   0   0   0]\n",
            " [  0   0   0   0   0   0   0   0   0   0   0   0   0  45 255 253  21   0   0   0   0   0   0   0   0   0   0   0]\n",
            " [  0   0   0   0   0   0   0   0   0   0   0   0   0   0 218 252  56   0   0   0   0   0   0   0   0   0   0   0]\n",
            " [  0   0   0   0   0   0   0   0   0   0   0   0   0   0  96 252 189  42   0   0   0   0   0   0   0   0   0   0]\n",
            " [  0   0   0   0   0   0   0   0   0   0   0   0   0   0  14 184 252 170  11   0   0   0   0   0   0   0   0   0]\n",
            " [  0   0   0   0   0   0   0   0   0   0   0   0   0   0   0  14 147 252  42   0   0   0   0   0   0   0   0   0]\n",
            " [  0   0   0   0   0   0   0   0   0   0   0   0   0   0   0   0   0   0   0   0   0   0   0   0   0   0   0   0]]\n"
          ],
          "name": "stdout"
        }
      ]
    },
    {
      "cell_type": "markdown",
      "metadata": {
        "id": "NVhIEgT831Ah"
      },
      "source": [
        "## 2.Data Preprocessing\n",
        "### 1)Reshape and Normalization\n",
        "* reshape\n",
        "  * (60000, 28, 28) to (60000, 784)"
      ]
    },
    {
      "cell_type": "code",
      "metadata": {
        "colab": {
          "base_uri": "https://localhost:8080/"
        },
        "id": "iRSjQn9t3yeo",
        "outputId": "1d6815b0-8abf-43a6-cbae-09735014e8af"
      },
      "source": [
        "#한줄로 쭉 펴준다\n",
        "X_train = X_train.reshape((60000, 28 * 28))\n",
        "X_test = X_test.reshape((10000, 28 * 28))\n",
        "\n",
        "X_train.shape, X_test.shape"
      ],
      "execution_count": 10,
      "outputs": [
        {
          "output_type": "execute_result",
          "data": {
            "text/plain": [
              "((60000, 784), (10000, 784))"
            ]
          },
          "metadata": {
            "tags": []
          },
          "execution_count": 10
        }
      ]
    },
    {
      "cell_type": "markdown",
      "metadata": {
        "id": "5fJTF8b64WDg"
      },
      "source": [
        "* Normalization"
      ]
    },
    {
      "cell_type": "code",
      "metadata": {
        "colab": {
          "base_uri": "https://localhost:8080/"
        },
        "id": "bFERRefZ4PG7",
        "outputId": "ea061cc4-9a32-4d46-df2f-6f9175fe0133"
      },
      "source": [
        "X_train = X_train.astype(float) / 255\n",
        "X_test = X_test.astype(float) / 255\n",
        "\n",
        "print(X_train[4])"
      ],
      "execution_count": 11,
      "outputs": [
        {
          "output_type": "stream",
          "text": [
            "[0.         0.         0.         0.         0.         0.         0.         0.         0.         0.         0.         0.         0.\n",
            " 0.         0.         0.         0.         0.         0.         0.         0.         0.         0.         0.         0.         0.\n",
            " 0.         0.         0.         0.         0.         0.         0.         0.         0.         0.         0.         0.         0.\n",
            " 0.         0.         0.         0.         0.         0.         0.         0.         0.         0.         0.         0.         0.\n",
            " 0.         0.         0.         0.         0.         0.         0.         0.         0.         0.         0.         0.         0.\n",
            " 0.         0.         0.         0.         0.         0.         0.         0.         0.         0.         0.         0.         0.\n",
            " 0.         0.         0.         0.         0.         0.         0.         0.         0.         0.         0.         0.         0.\n",
            " 0.         0.         0.         0.         0.         0.         0.         0.         0.         0.         0.         0.         0.\n",
            " 0.         0.         0.         0.         0.         0.         0.         0.         0.         0.         0.         0.         0.\n",
            " 0.         0.         0.         0.         0.         0.         0.         0.         0.         0.         0.         0.         0.\n",
            " 0.         0.         0.         0.         0.         0.         0.         0.         0.         0.         0.         0.         0.\n",
            " 0.         0.         0.         0.         0.         0.         0.         0.         0.         0.         0.         0.         0.\n",
            " 0.         0.         0.         0.         0.         0.         0.         0.         0.         0.         0.         0.         0.\n",
            " 0.         0.         0.         0.         0.         0.         0.         0.         0.         0.         0.         0.         0.\n",
            " 0.         0.         0.         0.         0.         0.         0.         0.         0.         0.         0.         0.         0.\n",
            " 0.         0.         0.         0.         0.         0.         0.         0.         0.         0.         0.         0.         0.\n",
            " 0.21568627 0.58039216 0.82352941 0.99215686 0.99215686 0.44313725 0.34117647 0.58039216 0.21568627 0.         0.         0.         0.\n",
            " 0.         0.         0.         0.         0.         0.         0.         0.         0.         0.         0.         0.         0.\n",
            " 0.         0.34117647 0.90980392 0.98823529 0.99215686 0.74117647 0.82352941 0.98823529 0.98823529 0.99215686 0.65882353 0.         0.\n",
            " 0.         0.         0.         0.         0.         0.         0.         0.         0.         0.         0.         0.         0.\n",
            " 0.         0.01568627 0.22352941 0.94901961 0.98823529 0.74509804 0.25490196 0.01960784 0.04705882 0.71372549 0.98823529 0.99215686 0.45490196\n",
            " 0.         0.         0.         0.         0.         0.         0.         0.         0.         0.         0.         0.         0.\n",
            " 0.         0.         0.         0.37647059 0.98823529 0.98823529 0.71764706 0.05490196 0.         0.         0.36078431 0.98823529 0.98823529\n",
            " 0.88235294 0.08235294 0.         0.         0.         0.         0.         0.         0.         0.         0.         0.         0.\n",
            " 0.         0.         0.         0.         0.51764706 0.99215686 0.98823529 0.57254902 0.05490196 0.         0.         0.         0.84313725\n",
            " 0.98823529 0.98823529 0.30980392 0.         0.         0.         0.         0.         0.         0.         0.         0.         0.\n",
            " 0.         0.         0.         0.         0.         0.49411765 0.99215686 0.96862745 0.69019608 0.03529412 0.         0.         0.03137255\n",
            " 0.30588235 0.96078431 0.99215686 0.50588235 0.         0.         0.         0.         0.         0.         0.         0.         0.\n",
            " 0.         0.         0.         0.         0.         0.         0.0627451  0.90980392 0.98823529 0.69019608 0.         0.         0.\n",
            " 0.14117647 0.78823529 0.98823529 0.98823529 0.6627451  0.04313725 0.         0.         0.         0.         0.         0.         0.\n",
            " 0.         0.         0.         0.         0.         0.         0.         0.         0.08627451 0.98823529 0.98823529 0.11764706 0.08627451\n",
            " 0.46666667 0.77254902 0.94509804 0.99215686 0.98823529 0.98431373 0.30196078 0.         0.         0.         0.         0.         0.\n",
            " 0.         0.         0.         0.         0.         0.         0.         0.         0.         0.         0.0627451  0.90588235 0.98823529\n",
            " 0.99215686 0.98823529 0.98823529 0.98823529 0.88627451 0.89019608 0.98823529 0.90588235 0.         0.         0.         0.         0.\n",
            " 0.         0.         0.         0.         0.         0.         0.         0.         0.         0.         0.         0.         0.\n",
            " 0.21568627 0.92156863 0.99215686 0.85098039 0.54117647 0.16470588 0.09411765 0.75294118 0.98823529 0.56078431 0.         0.         0.\n",
            " 0.         0.         0.         0.         0.         0.         0.         0.         0.         0.         0.         0.         0.\n",
            " 0.         0.         0.         0.         0.         0.         0.         0.         0.24313725 1.         0.99215686 0.42745098 0.\n",
            " 0.         0.         0.         0.         0.         0.         0.         0.         0.         0.         0.         0.         0.\n",
            " 0.         0.         0.         0.         0.         0.         0.         0.         0.         0.         0.27843137 0.99215686 0.98823529\n",
            " 0.08235294 0.         0.         0.         0.         0.         0.         0.         0.         0.         0.         0.         0.\n",
            " 0.         0.         0.         0.         0.         0.         0.         0.         0.         0.         0.         0.         0.\n",
            " 0.99215686 0.98823529 0.08235294 0.         0.         0.         0.         0.         0.         0.         0.         0.         0.\n",
            " 0.         0.         0.         0.         0.         0.         0.         0.         0.         0.         0.         0.         0.\n",
            " 0.         0.27843137 0.99215686 0.98823529 0.08235294 0.         0.         0.         0.         0.         0.         0.         0.\n",
            " 0.         0.         0.         0.         0.         0.         0.         0.         0.         0.         0.         0.         0.\n",
            " 0.         0.         0.         0.41568627 0.99215686 0.98823529 0.08235294 0.         0.         0.         0.         0.         0.\n",
            " 0.         0.         0.         0.         0.         0.         0.         0.         0.         0.         0.         0.         0.\n",
            " 0.         0.         0.         0.         0.         0.17647059 1.         0.99215686 0.08235294 0.         0.         0.         0.\n",
            " 0.         0.         0.         0.         0.         0.         0.         0.         0.         0.         0.         0.         0.\n",
            " 0.         0.         0.         0.         0.         0.         0.         0.         0.85490196 0.98823529 0.21960784 0.         0.\n",
            " 0.         0.         0.         0.         0.         0.         0.         0.         0.         0.         0.         0.         0.\n",
            " 0.         0.         0.         0.         0.         0.         0.         0.         0.         0.         0.37647059 0.98823529 0.74117647\n",
            " 0.16470588 0.         0.         0.         0.         0.         0.         0.         0.         0.         0.         0.         0.\n",
            " 0.         0.         0.         0.         0.         0.         0.         0.         0.         0.         0.         0.         0.05490196\n",
            " 0.72156863 0.98823529 0.66666667 0.04313725 0.         0.         0.         0.         0.         0.         0.         0.         0.\n",
            " 0.         0.         0.         0.         0.         0.         0.         0.         0.         0.         0.         0.         0.\n",
            " 0.         0.         0.05490196 0.57647059 0.98823529 0.16470588 0.         0.         0.         0.         0.         0.         0.\n",
            " 0.         0.         0.         0.         0.         0.         0.         0.         0.         0.         0.         0.         0.\n",
            " 0.         0.         0.         0.         0.         0.         0.         0.         0.         0.         0.         0.         0.\n",
            " 0.         0.         0.         0.        ]\n"
          ],
          "name": "stdout"
        }
      ]
    },
    {
      "cell_type": "markdown",
      "metadata": {
        "id": "2smwfSor4jSM"
      },
      "source": [
        "### 2)One Hot Encoding"
      ]
    },
    {
      "cell_type": "code",
      "metadata": {
        "colab": {
          "base_uri": "https://localhost:8080/"
        },
        "id": "7A7rMhl54dlR",
        "outputId": "f3bca22b-f6da-4d4d-bc88-486c3534208a"
      },
      "source": [
        "from keras.utils import to_categorical\n",
        "\n",
        "y_train = to_categorical(y_train)\n",
        "y_test = to_categorical(y_test)\n",
        "\n",
        "print(y_train[:5])"
      ],
      "execution_count": 12,
      "outputs": [
        {
          "output_type": "stream",
          "text": [
            "[[0. 0. 0. 0. 0. 1. 0. 0. 0. 0.]\n",
            " [1. 0. 0. 0. 0. 0. 0. 0. 0. 0.]\n",
            " [0. 0. 0. 0. 1. 0. 0. 0. 0. 0.]\n",
            " [0. 1. 0. 0. 0. 0. 0. 0. 0. 0.]\n",
            " [0. 0. 0. 0. 0. 0. 0. 0. 0. 1.]]\n"
          ],
          "name": "stdout"
        }
      ]
    },
    {
      "cell_type": "markdown",
      "metadata": {
        "id": "QmHwT9gn5Gfo"
      },
      "source": [
        "## 3.MNIST Keras Modeling\n",
        "### 1)Model Define\n",
        "* 모델 신경망 구조 정의\n",
        "  * 2개의 Hidden Layers & 768개의 Nodes\n",
        "  * 복잡한 Model Capacity로 인한 Overfitting"
      ]
    },
    {
      "cell_type": "code",
      "metadata": {
        "id": "_kzp48sL4t79"
      },
      "source": [
        "from keras import models\n",
        "from keras import layers\n",
        "\n",
        "mnist = models.Sequential()\n",
        "mnist.add(layers.Dense(512, activation = 'relu', input_shape = (28 * 28,)))\n",
        "mnist.add(layers.Dense(256, activation = 'relu'))\n",
        "mnist.add(layers.Dense(10, activation = 'softmax'))"
      ],
      "execution_count": 13,
      "outputs": []
    },
    {
      "cell_type": "markdown",
      "metadata": {
        "id": "ad2SBreP5zPO"
      },
      "source": [
        "* 모델 구조 확인"
      ]
    },
    {
      "cell_type": "code",
      "metadata": {
        "colab": {
          "base_uri": "https://localhost:8080/"
        },
        "id": "oiQR7i_x5XXd",
        "outputId": "40dde58b-7a02-468a-ed8f-fbdb2635c3a5"
      },
      "source": [
        "mnist.summary()"
      ],
      "execution_count": 14,
      "outputs": [
        {
          "output_type": "stream",
          "text": [
            "Model: \"sequential\"\n",
            "_________________________________________________________________\n",
            "Layer (type)                 Output Shape              Param #   \n",
            "=================================================================\n",
            "dense (Dense)                (None, 512)               401920    \n",
            "_________________________________________________________________\n",
            "dense_1 (Dense)              (None, 256)               131328    \n",
            "_________________________________________________________________\n",
            "dense_2 (Dense)              (None, 10)                2570      \n",
            "=================================================================\n",
            "Total params: 535,818\n",
            "Trainable params: 535,818\n",
            "Non-trainable params: 0\n",
            "_________________________________________________________________\n"
          ],
          "name": "stdout"
        }
      ]
    },
    {
      "cell_type": "markdown",
      "metadata": {
        "id": "t-5xfoRX55L3"
      },
      "source": [
        "### 2)Model Compile\n",
        "* 모델 학습방법 설정"
      ]
    },
    {
      "cell_type": "code",
      "metadata": {
        "id": "TxStfclx51G5"
      },
      "source": [
        "mnist.compile(loss = 'categorical_crossentropy',\n",
        "              optimizer = 'rmsprop',\n",
        "              metrics = ['accuracy'])"
      ],
      "execution_count": 15,
      "outputs": []
    },
    {
      "cell_type": "markdown",
      "metadata": {
        "id": "sb9suqV-6GDN"
      },
      "source": [
        "### 3)Model Fit\n",
        "* 약 3분"
      ]
    },
    {
      "cell_type": "code",
      "metadata": {
        "colab": {
          "base_uri": "https://localhost:8080/"
        },
        "id": "fzzDXAk36E0Y",
        "outputId": "cb25b155-279f-4ee5-c95b-9f4fba9e68f3"
      },
      "source": [
        "%%time\n",
        "\n",
        "Hist_mnist = mnist.fit(X_train, y_train,\n",
        "                       epochs = 100,\n",
        "                       batch_size = 128,\n",
        "                       validation_split = 0.2)"
      ],
      "execution_count": 16,
      "outputs": [
        {
          "output_type": "stream",
          "text": [
            "Epoch 1/100\n",
            "375/375 [==============================] - 5s 4ms/step - loss: 0.4639 - accuracy: 0.8558 - val_loss: 0.1273 - val_accuracy: 0.9629\n",
            "Epoch 2/100\n",
            "375/375 [==============================] - 1s 3ms/step - loss: 0.1011 - accuracy: 0.9688 - val_loss: 0.1213 - val_accuracy: 0.9647\n",
            "Epoch 3/100\n",
            "375/375 [==============================] - 1s 3ms/step - loss: 0.0577 - accuracy: 0.9816 - val_loss: 0.0942 - val_accuracy: 0.9735\n",
            "Epoch 4/100\n",
            "375/375 [==============================] - 1s 3ms/step - loss: 0.0393 - accuracy: 0.9874 - val_loss: 0.0996 - val_accuracy: 0.9753\n",
            "Epoch 5/100\n",
            "375/375 [==============================] - 1s 3ms/step - loss: 0.0303 - accuracy: 0.9906 - val_loss: 0.1091 - val_accuracy: 0.9738\n",
            "Epoch 6/100\n",
            "375/375 [==============================] - 1s 3ms/step - loss: 0.0196 - accuracy: 0.9934 - val_loss: 0.1023 - val_accuracy: 0.9780\n",
            "Epoch 7/100\n",
            "375/375 [==============================] - 1s 3ms/step - loss: 0.0159 - accuracy: 0.9947 - val_loss: 0.1379 - val_accuracy: 0.9688\n",
            "Epoch 8/100\n",
            "375/375 [==============================] - 1s 3ms/step - loss: 0.0128 - accuracy: 0.9954 - val_loss: 0.1695 - val_accuracy: 0.9678\n",
            "Epoch 9/100\n",
            "375/375 [==============================] - 1s 3ms/step - loss: 0.0114 - accuracy: 0.9966 - val_loss: 0.1172 - val_accuracy: 0.9800\n",
            "Epoch 10/100\n",
            "375/375 [==============================] - 1s 3ms/step - loss: 0.0097 - accuracy: 0.9966 - val_loss: 0.1316 - val_accuracy: 0.9770\n",
            "Epoch 11/100\n",
            "375/375 [==============================] - 1s 3ms/step - loss: 0.0082 - accuracy: 0.9974 - val_loss: 0.1340 - val_accuracy: 0.9771\n",
            "Epoch 12/100\n",
            "375/375 [==============================] - 1s 3ms/step - loss: 0.0078 - accuracy: 0.9977 - val_loss: 0.1496 - val_accuracy: 0.9778\n",
            "Epoch 13/100\n",
            "375/375 [==============================] - 1s 3ms/step - loss: 0.0056 - accuracy: 0.9980 - val_loss: 0.1552 - val_accuracy: 0.9780\n",
            "Epoch 14/100\n",
            "375/375 [==============================] - 1s 3ms/step - loss: 0.0064 - accuracy: 0.9980 - val_loss: 0.1500 - val_accuracy: 0.9799\n",
            "Epoch 15/100\n",
            "375/375 [==============================] - 1s 3ms/step - loss: 0.0051 - accuracy: 0.9984 - val_loss: 0.1667 - val_accuracy: 0.9793\n",
            "Epoch 16/100\n",
            "375/375 [==============================] - 1s 3ms/step - loss: 0.0036 - accuracy: 0.9990 - val_loss: 0.1762 - val_accuracy: 0.9784\n",
            "Epoch 17/100\n",
            "375/375 [==============================] - 1s 3ms/step - loss: 0.0041 - accuracy: 0.9989 - val_loss: 0.1841 - val_accuracy: 0.9804\n",
            "Epoch 18/100\n",
            "375/375 [==============================] - 1s 3ms/step - loss: 0.0042 - accuracy: 0.9988 - val_loss: 0.1754 - val_accuracy: 0.9802\n",
            "Epoch 19/100\n",
            "375/375 [==============================] - 1s 3ms/step - loss: 0.0034 - accuracy: 0.9992 - val_loss: 0.2197 - val_accuracy: 0.9758\n",
            "Epoch 20/100\n",
            "375/375 [==============================] - 1s 3ms/step - loss: 0.0037 - accuracy: 0.9990 - val_loss: 0.2185 - val_accuracy: 0.9768\n",
            "Epoch 21/100\n",
            "375/375 [==============================] - 1s 3ms/step - loss: 0.0030 - accuracy: 0.9992 - val_loss: 0.2030 - val_accuracy: 0.9778\n",
            "Epoch 22/100\n",
            "375/375 [==============================] - 1s 3ms/step - loss: 0.0039 - accuracy: 0.9988 - val_loss: 0.2285 - val_accuracy: 0.9774\n",
            "Epoch 23/100\n",
            "375/375 [==============================] - 1s 3ms/step - loss: 0.0044 - accuracy: 0.9991 - val_loss: 0.2265 - val_accuracy: 0.9783\n",
            "Epoch 24/100\n",
            "375/375 [==============================] - 1s 3ms/step - loss: 0.0034 - accuracy: 0.9991 - val_loss: 0.2444 - val_accuracy: 0.9787\n",
            "Epoch 25/100\n",
            "375/375 [==============================] - 1s 3ms/step - loss: 0.0031 - accuracy: 0.9991 - val_loss: 0.2198 - val_accuracy: 0.9799\n",
            "Epoch 26/100\n",
            "375/375 [==============================] - 1s 3ms/step - loss: 0.0019 - accuracy: 0.9994 - val_loss: 0.2422 - val_accuracy: 0.9772\n",
            "Epoch 27/100\n",
            "375/375 [==============================] - 1s 3ms/step - loss: 0.0019 - accuracy: 0.9994 - val_loss: 0.2553 - val_accuracy: 0.9783\n",
            "Epoch 28/100\n",
            "375/375 [==============================] - 1s 3ms/step - loss: 0.0025 - accuracy: 0.9993 - val_loss: 0.2418 - val_accuracy: 0.9788\n",
            "Epoch 29/100\n",
            "375/375 [==============================] - 1s 3ms/step - loss: 0.0042 - accuracy: 0.9990 - val_loss: 0.2475 - val_accuracy: 0.9788\n",
            "Epoch 30/100\n",
            "375/375 [==============================] - 1s 3ms/step - loss: 0.0026 - accuracy: 0.9993 - val_loss: 0.2505 - val_accuracy: 0.9803\n",
            "Epoch 31/100\n",
            "375/375 [==============================] - 1s 3ms/step - loss: 0.0020 - accuracy: 0.9994 - val_loss: 0.2695 - val_accuracy: 0.9787\n",
            "Epoch 32/100\n",
            "375/375 [==============================] - 1s 3ms/step - loss: 0.0021 - accuracy: 0.9995 - val_loss: 0.2657 - val_accuracy: 0.9789\n",
            "Epoch 33/100\n",
            "375/375 [==============================] - 1s 3ms/step - loss: 0.0026 - accuracy: 0.9993 - val_loss: 0.2599 - val_accuracy: 0.9797\n",
            "Epoch 34/100\n",
            "375/375 [==============================] - 1s 3ms/step - loss: 0.0025 - accuracy: 0.9995 - val_loss: 0.3002 - val_accuracy: 0.9771\n",
            "Epoch 35/100\n",
            "375/375 [==============================] - 1s 3ms/step - loss: 0.0019 - accuracy: 0.9995 - val_loss: 0.2819 - val_accuracy: 0.9793\n",
            "Epoch 36/100\n",
            "375/375 [==============================] - 1s 3ms/step - loss: 0.0019 - accuracy: 0.9996 - val_loss: 0.3050 - val_accuracy: 0.9780\n",
            "Epoch 37/100\n",
            "375/375 [==============================] - 1s 3ms/step - loss: 0.0022 - accuracy: 0.9993 - val_loss: 0.2744 - val_accuracy: 0.9794\n",
            "Epoch 38/100\n",
            "375/375 [==============================] - 1s 3ms/step - loss: 7.9959e-04 - accuracy: 0.9997 - val_loss: 0.3080 - val_accuracy: 0.9777\n",
            "Epoch 39/100\n",
            "375/375 [==============================] - 1s 3ms/step - loss: 9.3336e-04 - accuracy: 0.9997 - val_loss: 0.3004 - val_accuracy: 0.9803\n",
            "Epoch 40/100\n",
            "375/375 [==============================] - 1s 3ms/step - loss: 0.0021 - accuracy: 0.9995 - val_loss: 0.3003 - val_accuracy: 0.9787\n",
            "Epoch 41/100\n",
            "375/375 [==============================] - 1s 3ms/step - loss: 0.0019 - accuracy: 0.9997 - val_loss: 0.3272 - val_accuracy: 0.9783\n",
            "Epoch 42/100\n",
            "375/375 [==============================] - 1s 3ms/step - loss: 0.0019 - accuracy: 0.9996 - val_loss: 0.3156 - val_accuracy: 0.9788\n",
            "Epoch 43/100\n",
            "375/375 [==============================] - 1s 3ms/step - loss: 0.0013 - accuracy: 0.9996 - val_loss: 0.3399 - val_accuracy: 0.9775\n",
            "Epoch 44/100\n",
            "375/375 [==============================] - 1s 3ms/step - loss: 0.0015 - accuracy: 0.9995 - val_loss: 0.3129 - val_accuracy: 0.9791\n",
            "Epoch 45/100\n",
            "375/375 [==============================] - 1s 3ms/step - loss: 0.0010 - accuracy: 0.9998 - val_loss: 0.3256 - val_accuracy: 0.9799\n",
            "Epoch 46/100\n",
            "375/375 [==============================] - 1s 3ms/step - loss: 5.1943e-04 - accuracy: 0.9998 - val_loss: 0.3101 - val_accuracy: 0.9808\n",
            "Epoch 47/100\n",
            "375/375 [==============================] - 1s 3ms/step - loss: 3.3546e-04 - accuracy: 0.9999 - val_loss: 0.3414 - val_accuracy: 0.9785\n",
            "Epoch 48/100\n",
            "375/375 [==============================] - 1s 3ms/step - loss: 0.0017 - accuracy: 0.9996 - val_loss: 0.3233 - val_accuracy: 0.9804\n",
            "Epoch 49/100\n",
            "375/375 [==============================] - 1s 3ms/step - loss: 0.0015 - accuracy: 0.9996 - val_loss: 0.3309 - val_accuracy: 0.9795\n",
            "Epoch 50/100\n",
            "375/375 [==============================] - 1s 3ms/step - loss: 0.0017 - accuracy: 0.9996 - val_loss: 0.3296 - val_accuracy: 0.9803\n",
            "Epoch 51/100\n",
            "375/375 [==============================] - 1s 3ms/step - loss: 0.0014 - accuracy: 0.9997 - val_loss: 0.3897 - val_accuracy: 0.9761\n",
            "Epoch 52/100\n",
            "375/375 [==============================] - 1s 3ms/step - loss: 0.0021 - accuracy: 0.9997 - val_loss: 0.3525 - val_accuracy: 0.9797\n",
            "Epoch 53/100\n",
            "375/375 [==============================] - 1s 3ms/step - loss: 0.0025 - accuracy: 0.9996 - val_loss: 0.3602 - val_accuracy: 0.9791\n",
            "Epoch 54/100\n",
            "375/375 [==============================] - 1s 3ms/step - loss: 8.3121e-04 - accuracy: 0.9999 - val_loss: 0.3779 - val_accuracy: 0.9787\n",
            "Epoch 55/100\n",
            "375/375 [==============================] - 1s 3ms/step - loss: 0.0013 - accuracy: 0.9999 - val_loss: 0.3777 - val_accuracy: 0.9786\n",
            "Epoch 56/100\n",
            "375/375 [==============================] - 1s 3ms/step - loss: 4.6719e-04 - accuracy: 0.9998 - val_loss: 0.4005 - val_accuracy: 0.9762\n",
            "Epoch 57/100\n",
            "375/375 [==============================] - 1s 3ms/step - loss: 4.9279e-04 - accuracy: 0.9998 - val_loss: 0.3662 - val_accuracy: 0.9788\n",
            "Epoch 58/100\n",
            "375/375 [==============================] - 1s 3ms/step - loss: 5.3329e-04 - accuracy: 0.9998 - val_loss: 0.3552 - val_accuracy: 0.9811\n",
            "Epoch 59/100\n",
            "375/375 [==============================] - 1s 3ms/step - loss: 9.5727e-04 - accuracy: 0.9997 - val_loss: 0.3773 - val_accuracy: 0.9818\n",
            "Epoch 60/100\n",
            "375/375 [==============================] - 1s 3ms/step - loss: 0.0014 - accuracy: 0.9995 - val_loss: 0.3526 - val_accuracy: 0.9808\n",
            "Epoch 61/100\n",
            "375/375 [==============================] - 1s 3ms/step - loss: 0.0012 - accuracy: 0.9999 - val_loss: 0.3643 - val_accuracy: 0.9796\n",
            "Epoch 62/100\n",
            "375/375 [==============================] - 1s 3ms/step - loss: 0.0013 - accuracy: 0.9998 - val_loss: 0.3743 - val_accuracy: 0.9801\n",
            "Epoch 63/100\n",
            "375/375 [==============================] - 1s 3ms/step - loss: 0.0018 - accuracy: 0.9995 - val_loss: 0.3499 - val_accuracy: 0.9803\n",
            "Epoch 64/100\n",
            "375/375 [==============================] - 1s 3ms/step - loss: 6.8749e-04 - accuracy: 0.9997 - val_loss: 0.3607 - val_accuracy: 0.9808\n",
            "Epoch 65/100\n",
            "375/375 [==============================] - 1s 3ms/step - loss: 8.3803e-04 - accuracy: 0.9998 - val_loss: 0.3669 - val_accuracy: 0.9800\n",
            "Epoch 66/100\n",
            "375/375 [==============================] - 1s 3ms/step - loss: 8.0059e-04 - accuracy: 0.9998 - val_loss: 0.3611 - val_accuracy: 0.9803\n",
            "Epoch 67/100\n",
            "375/375 [==============================] - 1s 3ms/step - loss: 7.0631e-04 - accuracy: 0.9998 - val_loss: 0.3619 - val_accuracy: 0.9808\n",
            "Epoch 68/100\n",
            "375/375 [==============================] - 1s 3ms/step - loss: 0.0012 - accuracy: 0.9997 - val_loss: 0.3457 - val_accuracy: 0.9817\n",
            "Epoch 69/100\n",
            "375/375 [==============================] - 1s 3ms/step - loss: 1.5614e-04 - accuracy: 1.0000 - val_loss: 0.3502 - val_accuracy: 0.9821\n",
            "Epoch 70/100\n",
            "375/375 [==============================] - 1s 3ms/step - loss: 7.0296e-04 - accuracy: 0.9998 - val_loss: 0.3762 - val_accuracy: 0.9797\n",
            "Epoch 71/100\n",
            "375/375 [==============================] - 1s 3ms/step - loss: 0.0012 - accuracy: 0.9998 - val_loss: 0.3698 - val_accuracy: 0.9812\n",
            "Epoch 72/100\n",
            "375/375 [==============================] - 1s 3ms/step - loss: 9.6872e-04 - accuracy: 0.9998 - val_loss: 0.3640 - val_accuracy: 0.9816\n",
            "Epoch 73/100\n",
            "375/375 [==============================] - 1s 3ms/step - loss: 8.1093e-04 - accuracy: 0.9998 - val_loss: 0.4150 - val_accuracy: 0.9789\n",
            "Epoch 74/100\n",
            "375/375 [==============================] - 1s 3ms/step - loss: 0.0013 - accuracy: 0.9996 - val_loss: 0.3961 - val_accuracy: 0.9809\n",
            "Epoch 75/100\n",
            "375/375 [==============================] - 1s 3ms/step - loss: 0.0015 - accuracy: 0.9998 - val_loss: 0.3728 - val_accuracy: 0.9803\n",
            "Epoch 76/100\n",
            "375/375 [==============================] - 1s 3ms/step - loss: 8.1775e-04 - accuracy: 0.9999 - val_loss: 0.3719 - val_accuracy: 0.9804\n",
            "Epoch 77/100\n",
            "375/375 [==============================] - 1s 3ms/step - loss: 8.5288e-04 - accuracy: 0.9998 - val_loss: 0.3629 - val_accuracy: 0.9818\n",
            "Epoch 78/100\n",
            "375/375 [==============================] - 1s 3ms/step - loss: 9.4507e-04 - accuracy: 0.9998 - val_loss: 0.3949 - val_accuracy: 0.9818\n",
            "Epoch 79/100\n",
            "375/375 [==============================] - 1s 3ms/step - loss: 0.0013 - accuracy: 0.9998 - val_loss: 0.3997 - val_accuracy: 0.9814\n",
            "Epoch 80/100\n",
            "375/375 [==============================] - 1s 3ms/step - loss: 8.6591e-04 - accuracy: 0.9998 - val_loss: 0.3935 - val_accuracy: 0.9809\n",
            "Epoch 81/100\n",
            "375/375 [==============================] - 1s 3ms/step - loss: 4.9725e-04 - accuracy: 0.9999 - val_loss: 0.4197 - val_accuracy: 0.9812\n",
            "Epoch 82/100\n",
            "375/375 [==============================] - 1s 3ms/step - loss: 9.0905e-04 - accuracy: 0.9997 - val_loss: 0.3969 - val_accuracy: 0.9825\n",
            "Epoch 83/100\n",
            "375/375 [==============================] - 1s 3ms/step - loss: 3.5769e-04 - accuracy: 0.9999 - val_loss: 0.4081 - val_accuracy: 0.9816\n",
            "Epoch 84/100\n",
            "375/375 [==============================] - 1s 3ms/step - loss: 7.8534e-04 - accuracy: 0.9999 - val_loss: 0.4417 - val_accuracy: 0.9799\n",
            "Epoch 85/100\n",
            "375/375 [==============================] - 1s 3ms/step - loss: 0.0013 - accuracy: 0.9998 - val_loss: 0.4284 - val_accuracy: 0.9797\n",
            "Epoch 86/100\n",
            "375/375 [==============================] - 1s 3ms/step - loss: 0.0012 - accuracy: 0.9999 - val_loss: 0.4119 - val_accuracy: 0.9807\n",
            "Epoch 87/100\n",
            "375/375 [==============================] - 1s 3ms/step - loss: 3.3680e-04 - accuracy: 0.9999 - val_loss: 0.4305 - val_accuracy: 0.9814\n",
            "Epoch 88/100\n",
            "375/375 [==============================] - 1s 3ms/step - loss: 4.7116e-04 - accuracy: 0.9998 - val_loss: 0.4359 - val_accuracy: 0.9804\n",
            "Epoch 89/100\n",
            "375/375 [==============================] - 1s 3ms/step - loss: 9.0441e-04 - accuracy: 0.9999 - val_loss: 0.4013 - val_accuracy: 0.9813\n",
            "Epoch 90/100\n",
            "375/375 [==============================] - 1s 3ms/step - loss: 2.6596e-04 - accuracy: 0.9999 - val_loss: 0.3797 - val_accuracy: 0.9824\n",
            "Epoch 91/100\n",
            "375/375 [==============================] - 1s 3ms/step - loss: 5.8206e-06 - accuracy: 1.0000 - val_loss: 0.4086 - val_accuracy: 0.9817\n",
            "Epoch 92/100\n",
            "375/375 [==============================] - 1s 3ms/step - loss: 2.5770e-04 - accuracy: 1.0000 - val_loss: 0.4074 - val_accuracy: 0.9817\n",
            "Epoch 93/100\n",
            "375/375 [==============================] - 1s 3ms/step - loss: 3.8228e-04 - accuracy: 0.9999 - val_loss: 0.4235 - val_accuracy: 0.9812\n",
            "Epoch 94/100\n",
            "375/375 [==============================] - 1s 3ms/step - loss: 8.4858e-07 - accuracy: 1.0000 - val_loss: 0.3997 - val_accuracy: 0.9823\n",
            "Epoch 95/100\n",
            "375/375 [==============================] - 1s 3ms/step - loss: 8.3882e-05 - accuracy: 1.0000 - val_loss: 0.3905 - val_accuracy: 0.9819\n",
            "Epoch 96/100\n",
            "375/375 [==============================] - 1s 3ms/step - loss: 6.6153e-05 - accuracy: 1.0000 - val_loss: 0.3868 - val_accuracy: 0.9821\n",
            "Epoch 97/100\n",
            "375/375 [==============================] - 1s 3ms/step - loss: 5.3392e-05 - accuracy: 1.0000 - val_loss: 0.4009 - val_accuracy: 0.9824\n",
            "Epoch 98/100\n",
            "375/375 [==============================] - 1s 3ms/step - loss: 1.0822e-08 - accuracy: 1.0000 - val_loss: 0.4202 - val_accuracy: 0.9805\n",
            "Epoch 99/100\n",
            "375/375 [==============================] - 1s 3ms/step - loss: 0.0016 - accuracy: 0.9998 - val_loss: 0.4037 - val_accuracy: 0.9824\n",
            "Epoch 100/100\n",
            "375/375 [==============================] - 1s 3ms/step - loss: 2.5135e-09 - accuracy: 1.0000 - val_loss: 0.3979 - val_accuracy: 0.9827\n",
            "CPU times: user 2min 16s, sys: 18.1 s, total: 2min 34s\n",
            "Wall time: 2min 2s\n"
          ],
          "name": "stdout"
        }
      ]
    },
    {
      "cell_type": "markdown",
      "metadata": {
        "id": "sQeVm5066Wvc"
      },
      "source": [
        "### 4)학습 결과 시각화 - Overfitting\n",
        "* Loss Visualization"
      ]
    },
    {
      "cell_type": "code",
      "metadata": {
        "colab": {
          "base_uri": "https://localhost:8080/",
          "height": 404
        },
        "id": "Ghu6ioDF6Uzk",
        "outputId": "64503780-f700-4bb0-fead-714479ace114"
      },
      "source": [
        "import matplotlib.pyplot as plt\n",
        "\n",
        "epochs = range(1, len(Hist_mnist.history['loss']) + 1)\n",
        "\n",
        "plt.figure(figsize = (9,6))\n",
        "plt.plot(epochs, Hist_mnist.history['loss'])\n",
        "plt.plot(epochs, Hist_mnist.history['val_loss'])\n",
        "#plt.ylim(0,0.25)\n",
        "plt.title('Training & Validation Loss')\n",
        "plt.xlabel('Epochs')\n",
        "plt.ylabel('Loss')\n",
        "plt.legend(['Training Loss', 'Validation Loss'])\n",
        "plt.grid()\n",
        "plt.show()"
      ],
      "execution_count": 17,
      "outputs": [
        {
          "output_type": "display_data",
          "data": {
            "image/png": "[encoded data removed]",
            "text/plain": [
              "<Figure size 648x432 with 1 Axes>"
            ]
          },
          "metadata": {
            "tags": [],
            "needs_background": "light"
          }
        }
      ]
    },
    {
      "cell_type": "markdown",
      "metadata": {
        "id": "qjfFXGmJ7Fqn"
      },
      "source": [
        "## 5)Model Evaluate\n",
        "* Loss & Accuracy"
      ]
    },
    {
      "cell_type": "code",
      "metadata": {
        "colab": {
          "base_uri": "https://localhost:8080/"
        },
        "id": "bhPMNZgw6-oA",
        "outputId": "d17e9f37-24c1-4bc7-a9ff-ba9b5c1320b7"
      },
      "source": [
        "loss, accuracy = mnist.evaluate(X_test, y_test)\n",
        "\n",
        "print('Loss = {:.5f}'.format(loss))\n",
        "print('Accuracy = {:.5f}'.format(accuracy))"
      ],
      "execution_count": 18,
      "outputs": [
        {
          "output_type": "stream",
          "text": [
            "313/313 [==============================] - 1s 2ms/step - loss: 0.3022 - accuracy: 0.9840\n",
            "Loss = 0.30223\n",
            "Accuracy = 0.98400\n"
          ],
          "name": "stdout"
        }
      ]
    },
    {
      "cell_type": "markdown",
      "metadata": {
        "id": "TMoM7ZTU7Zk3"
      },
      "source": [
        "### 6)Model Predict\n",
        "* Probability"
      ]
    },
    {
      "cell_type": "code",
      "metadata": {
        "colab": {
          "base_uri": "https://localhost:8080/"
        },
        "id": "NgWFv2h37W72",
        "outputId": "89bbd613-79fe-4ab4-9997-28f9beda1c99"
      },
      "source": [
        "np.set_printoptions(suppress=True, precision=9)\n",
        "\n",
        "print(mnist.predict(X_test[:1,:]))"
      ],
      "execution_count": 19,
      "outputs": [
        {
          "output_type": "stream",
          "text": [
            "[[0. 0. 0. 0. 0. 0. 0. 1. 0. 0.]]\n"
          ],
          "name": "stdout"
        }
      ]
    },
    {
      "cell_type": "markdown",
      "metadata": {
        "id": "n5BbTnFg7lcj"
      },
      "source": [
        "* Class"
      ]
    },
    {
      "cell_type": "code",
      "metadata": {
        "colab": {
          "base_uri": "https://localhost:8080/"
        },
        "id": "kyhcz2cw7j1E",
        "outputId": "6ed58f3a-cc9f-43c4-a39e-585ef1086e2e"
      },
      "source": [
        "print(mnist.predict_classes(X_test[:1, :]))"
      ],
      "execution_count": 21,
      "outputs": [
        {
          "output_type": "stream",
          "text": [
            "[7]\n"
          ],
          "name": "stdout"
        }
      ]
    },
    {
      "cell_type": "markdown",
      "metadata": {
        "id": "T7MUNWkX7ygw"
      },
      "source": [
        "본 내용은 2021/03/19(금)에 학습한 내용입니다."
      ]
    }
  ]
}
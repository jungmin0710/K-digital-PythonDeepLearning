{
  "nbformat": 4,
  "nbformat_minor": 0,
  "metadata": {
    "colab": {
      "name": "DNN_mnist_Categorical_Classification_Overfitting_batchNormalization.ipynb",
      "provenance": [],
      "authorship_tag": "ABX9TyNJegj+KawC8rssUMOcISoP",
      "include_colab_link": true
    },
    "kernelspec": {
      "name": "python3",
      "display_name": "Python 3"
    },
    "language_info": {
      "name": "python"
    },
    "accelerator": "GPU"
  },
  "cells": [
    {
      "cell_type": "markdown",
      "metadata": {
        "id": "view-in-github",
        "colab_type": "text"
      },
      "source": [
        "<a href=\"https://colab.research.google.com/github/jungmin0710/K-digital-PythonDeepLearning/blob/main/DNN_mnist_Categorical_Classification_Overfitting_batchNormalization.ipynb\" target=\"_parent\"><img src=\"https://colab.research.google.com/assets/colab-badge.svg\" alt=\"Open In Colab\"/></a>"
      ]
    },
    {
      "cell_type": "markdown",
      "metadata": {
        "id": "RPif9R491-aS"
      },
      "source": [
        "# MNIST - Categorical Classification\n",
        "* 다중분류 + Overfitting Issue\n",
        "* Batch Normalization : 활성화 함수의 입력값을 정규화 과정을 수행하여 전달하는 방식으로 overfitting 해결(210319기준 최신방식)\n",
        "* Gradient Vanishing 문제 해결 및 더 큰 Learning Rate를 사용 가능 MNIST - Categorical Classification\n",
        "* 다중분류 + Overfitting Issue\n",
        "* Batch Normalization : 활성화 함수의 입력값을 정규화 과정을 수행하여 전달하는 방식으로 overfitting 해결(210319기준 최신방식)\n",
        "* Gradient Vanishing 문제 해결 및 더 큰 Learning Rate를 사용 가능\n"
      ]
    },
    {
      "cell_type": "code",
      "metadata": {
        "id": "ME78yNgL13Xf"
      },
      "source": [
        "import warnings\n",
        "warnings.filterwarnings('ignore')"
      ],
      "execution_count": 1,
      "outputs": []
    },
    {
      "cell_type": "markdown",
      "metadata": {
        "id": "nyQMVSxG2N4G"
      },
      "source": [
        "* import Tensorflow"
      ]
    },
    {
      "cell_type": "code",
      "metadata": {
        "colab": {
          "base_uri": "https://localhost:8080/",
          "height": 35
        },
        "id": "oGRHzs6_2NBb",
        "outputId": "937e51eb-5ac1-4429-8087-25790c863458"
      },
      "source": [
        "import tensorflow as tf\n",
        "\n",
        "tf.__version__ "
      ],
      "execution_count": 2,
      "outputs": [
        {
          "output_type": "execute_result",
          "data": {
            "application/vnd.google.colaboratory.intrinsic+json": {
              "type": "string"
            },
            "text/plain": [
              "'2.4.1'"
            ]
          },
          "metadata": {
            "tags": []
          },
          "execution_count": 2
        }
      ]
    },
    {
      "cell_type": "markdown",
      "metadata": {
        "id": "e72BvXOL2Wok"
      },
      "source": [
        "* GPU 설정 확인"
      ]
    },
    {
      "cell_type": "code",
      "metadata": {
        "colab": {
          "base_uri": "https://localhost:8080/",
          "height": 35
        },
        "id": "UGSRP3Jm2SyN",
        "outputId": "89f021bc-9b5c-4734-a2dd-0d6a8e5ab5ab"
      },
      "source": [
        "tf.test.gpu_device_name()"
      ],
      "execution_count": 3,
      "outputs": [
        {
          "output_type": "execute_result",
          "data": {
            "application/vnd.google.colaboratory.intrinsic+json": {
              "type": "string"
            },
            "text/plain": [
              "'/device:GPU:0'"
            ]
          },
          "metadata": {
            "tags": []
          },
          "execution_count": 3
        }
      ]
    },
    {
      "cell_type": "markdown",
      "metadata": {
        "id": "BpoI5w782i7i"
      },
      "source": [
        "* Import Keras"
      ]
    },
    {
      "cell_type": "code",
      "metadata": {
        "colab": {
          "base_uri": "https://localhost:8080/",
          "height": 35
        },
        "id": "uQqFNB442UlG",
        "outputId": "763ef685-1e77-4bec-8fd2-2f30b3210ed3"
      },
      "source": [
        "import keras\n",
        "keras.__version__"
      ],
      "execution_count": 4,
      "outputs": [
        {
          "output_type": "execute_result",
          "data": {
            "application/vnd.google.colaboratory.intrinsic+json": {
              "type": "string"
            },
            "text/plain": [
              "'2.4.3'"
            ]
          },
          "metadata": {
            "tags": []
          },
          "execution_count": 4
        }
      ]
    },
    {
      "cell_type": "markdown",
      "metadata": {
        "id": "QpvxqSPf2nbD"
      },
      "source": [
        "## 1.MNIST Data_Set Load & Review\n",
        "### 1)Load MNIST_Data_Set"
      ]
    },
    {
      "cell_type": "code",
      "metadata": {
        "id": "LXQIbNvq2mNw",
        "colab": {
          "base_uri": "https://localhost:8080/"
        },
        "outputId": "76da46d4-c861-4a6f-a90e-ce62c880e706"
      },
      "source": [
        "from keras.datasets import mnist\n",
        "\n",
        "(X_train, y_train), (X_test, y_test) = mnist.load_data()"
      ],
      "execution_count": 5,
      "outputs": [
        {
          "output_type": "stream",
          "text": [
            "Downloading data from https://storage.googleapis.com/tensorflow/tf-keras-datasets/mnist.npz\n",
            "11493376/11490434 [==============================] - 0s 0us/step\n"
          ],
          "name": "stdout"
        }
      ]
    },
    {
      "cell_type": "markdown",
      "metadata": {
        "id": "mv1TcvlY3A-C"
      },
      "source": [
        "* Train_Data Information"
      ]
    },
    {
      "cell_type": "code",
      "metadata": {
        "colab": {
          "base_uri": "https://localhost:8080/"
        },
        "id": "x_oe8wva23sh",
        "outputId": "7020c909-19c2-4978-8f02-78a750d56665"
      },
      "source": [
        "print(len(X_train))\n",
        "print(X_train.shape)\n",
        "print(len(y_train))\n",
        "print(y_train[0:5])"
      ],
      "execution_count": 6,
      "outputs": [
        {
          "output_type": "stream",
          "text": [
            "60000\n",
            "(60000, 28, 28)\n",
            "60000\n",
            "[5 0 4 1 9]\n"
          ],
          "name": "stdout"
        }
      ]
    },
    {
      "cell_type": "markdown",
      "metadata": {
        "id": "av1K6Lug3PJ3"
      },
      "source": [
        "* Test_Data Information"
      ]
    },
    {
      "cell_type": "code",
      "metadata": {
        "colab": {
          "base_uri": "https://localhost:8080/"
        },
        "id": "r8dIdUqQ3LpB",
        "outputId": "8fe398c0-47de-46dd-e6ad-7db47b6e7983"
      },
      "source": [
        "print(len(X_test))\n",
        "print(X_test.shape)\n",
        "print(len(y_test))\n",
        "print(y_test[0:5])"
      ],
      "execution_count": 7,
      "outputs": [
        {
          "output_type": "stream",
          "text": [
            "10000\n",
            "(10000, 28, 28)\n",
            "10000\n",
            "[7 2 1 0 4]\n"
          ],
          "name": "stdout"
        }
      ]
    },
    {
      "cell_type": "markdown",
      "metadata": {
        "id": "sHMMSmV53Z5v"
      },
      "source": [
        "### 2)Visualization"
      ]
    },
    {
      "cell_type": "code",
      "metadata": {
        "colab": {
          "base_uri": "https://localhost:8080/",
          "height": 265
        },
        "id": "s_S8W7OC3W5A",
        "outputId": "925530e7-8efc-4dc3-833a-51b5ad094dfa"
      },
      "source": [
        "import matplotlib.pyplot as plt\n",
        "\n",
        "digit = X_train[4]\n",
        "plt.imshow(digit, cmap = 'gray')\n",
        "plt.show()"
      ],
      "execution_count": 8,
      "outputs": [
        {
          "output_type": "display_data",
          "data": {
            "image/png": "[encoded data removed]",
            "text/plain": [
              "<Figure size 432x288 with 1 Axes>"
            ]
          },
          "metadata": {
            "tags": [],
            "needs_background": "light"
          }
        }
      ]
    },
    {
      "cell_type": "code",
      "metadata": {
        "colab": {
          "base_uri": "https://localhost:8080/"
        },
        "id": "K8POsbvo3hVs",
        "outputId": "4974d323-8885-4699-eae8-5a77dca87683"
      },
      "source": [
        "import numpy as np\n",
        "\n",
        "np.set_printoptions(linewidth = 150)\n",
        "\n",
        "print(X_train[4])"
      ],
      "execution_count": 9,
      "outputs": [
        {
          "output_type": "stream",
          "text": [
            "[[  0   0   0   0   0   0   0   0   0   0   0   0   0   0   0   0   0   0   0   0   0   0   0   0   0   0   0   0]\n",
            " [  0   0   0   0   0   0   0   0   0   0   0   0   0   0   0   0   0   0   0   0   0   0   0   0   0   0   0   0]\n",
            " [  0   0   0   0   0   0   0   0   0   0   0   0   0   0   0   0   0   0   0   0   0   0   0   0   0   0   0   0]\n",
            " [  0   0   0   0   0   0   0   0   0   0   0   0   0   0   0   0   0   0   0   0   0   0   0   0   0   0   0   0]\n",
            " [  0   0   0   0   0   0   0   0   0   0   0   0   0   0   0   0   0   0   0   0   0   0   0   0   0   0   0   0]\n",
            " [  0   0   0   0   0   0   0   0   0   0   0   0   0   0   0   0   0   0   0   0   0   0   0   0   0   0   0   0]\n",
            " [  0   0   0   0   0   0   0   0   0   0   0   0   0   0   0   0   0   0   0   0   0   0   0   0   0   0   0   0]\n",
            " [  0   0   0   0   0   0   0   0   0   0   0   0  55 148 210 253 253 113  87 148  55   0   0   0   0   0   0   0]\n",
            " [  0   0   0   0   0   0   0   0   0   0   0  87 232 252 253 189 210 252 252 253 168   0   0   0   0   0   0   0]\n",
            " [  0   0   0   0   0   0   0   0   0   4  57 242 252 190  65   5  12 182 252 253 116   0   0   0   0   0   0   0]\n",
            " [  0   0   0   0   0   0   0   0   0  96 252 252 183  14   0   0  92 252 252 225  21   0   0   0   0   0   0   0]\n",
            " [  0   0   0   0   0   0   0   0 132 253 252 146  14   0   0   0 215 252 252  79   0   0   0   0   0   0   0   0]\n",
            " [  0   0   0   0   0   0   0 126 253 247 176   9   0   0   8  78 245 253 129   0   0   0   0   0   0   0   0   0]\n",
            " [  0   0   0   0   0   0  16 232 252 176   0   0   0  36 201 252 252 169  11   0   0   0   0   0   0   0   0   0]\n",
            " [  0   0   0   0   0   0  22 252 252  30  22 119 197 241 253 252 251  77   0   0   0   0   0   0   0   0   0   0]\n",
            " [  0   0   0   0   0   0  16 231 252 253 252 252 252 226 227 252 231   0   0   0   0   0   0   0   0   0   0   0]\n",
            " [  0   0   0   0   0   0   0  55 235 253 217 138  42  24 192 252 143   0   0   0   0   0   0   0   0   0   0   0]\n",
            " [  0   0   0   0   0   0   0   0   0   0   0   0   0  62 255 253 109   0   0   0   0   0   0   0   0   0   0   0]\n",
            " [  0   0   0   0   0   0   0   0   0   0   0   0   0  71 253 252  21   0   0   0   0   0   0   0   0   0   0   0]\n",
            " [  0   0   0   0   0   0   0   0   0   0   0   0   0   0 253 252  21   0   0   0   0   0   0   0   0   0   0   0]\n",
            " [  0   0   0   0   0   0   0   0   0   0   0   0   0  71 253 252  21   0   0   0   0   0   0   0   0   0   0   0]\n",
            " [  0   0   0   0   0   0   0   0   0   0   0   0   0 106 253 252  21   0   0   0   0   0   0   0   0   0   0   0]\n",
            " [  0   0   0   0   0   0   0   0   0   0   0   0   0  45 255 253  21   0   0   0   0   0   0   0   0   0   0   0]\n",
            " [  0   0   0   0   0   0   0   0   0   0   0   0   0   0 218 252  56   0   0   0   0   0   0   0   0   0   0   0]\n",
            " [  0   0   0   0   0   0   0   0   0   0   0   0   0   0  96 252 189  42   0   0   0   0   0   0   0   0   0   0]\n",
            " [  0   0   0   0   0   0   0   0   0   0   0   0   0   0  14 184 252 170  11   0   0   0   0   0   0   0   0   0]\n",
            " [  0   0   0   0   0   0   0   0   0   0   0   0   0   0   0  14 147 252  42   0   0   0   0   0   0   0   0   0]\n",
            " [  0   0   0   0   0   0   0   0   0   0   0   0   0   0   0   0   0   0   0   0   0   0   0   0   0   0   0   0]]\n"
          ],
          "name": "stdout"
        }
      ]
    },
    {
      "cell_type": "markdown",
      "metadata": {
        "id": "NVhIEgT831Ah"
      },
      "source": [
        "## 2.Data Preprocessing\n",
        "### 1)Reshape and Normalization\n",
        "* reshape\n",
        "  * (60000, 28, 28) to (60000, 784)"
      ]
    },
    {
      "cell_type": "code",
      "metadata": {
        "colab": {
          "base_uri": "https://localhost:8080/"
        },
        "id": "iRSjQn9t3yeo",
        "outputId": "033f86fe-6e4d-4bbb-c22c-4eba622496f2"
      },
      "source": [
        "#한줄로 쭉 펴준다\n",
        "X_train = X_train.reshape((60000, 28 * 28))\n",
        "X_test = X_test.reshape((10000, 28 * 28))\n",
        "\n",
        "X_train.shape, X_test.shape"
      ],
      "execution_count": 10,
      "outputs": [
        {
          "output_type": "execute_result",
          "data": {
            "text/plain": [
              "((60000, 784), (10000, 784))"
            ]
          },
          "metadata": {
            "tags": []
          },
          "execution_count": 10
        }
      ]
    },
    {
      "cell_type": "markdown",
      "metadata": {
        "id": "5fJTF8b64WDg"
      },
      "source": [
        "* Normalization"
      ]
    },
    {
      "cell_type": "code",
      "metadata": {
        "colab": {
          "base_uri": "https://localhost:8080/"
        },
        "id": "bFERRefZ4PG7",
        "outputId": "aed7d127-1d3a-41ff-8099-c0f8105c4d44"
      },
      "source": [
        "X_train = X_train.astype(float) / 255\n",
        "X_test = X_test.astype(float) / 255\n",
        "\n",
        "print(X_train[4])"
      ],
      "execution_count": 11,
      "outputs": [
        {
          "output_type": "stream",
          "text": [
            "[0.         0.         0.         0.         0.         0.         0.         0.         0.         0.         0.         0.         0.\n",
            " 0.         0.         0.         0.         0.         0.         0.         0.         0.         0.         0.         0.         0.\n",
            " 0.         0.         0.         0.         0.         0.         0.         0.         0.         0.         0.         0.         0.\n",
            " 0.         0.         0.         0.         0.         0.         0.         0.         0.         0.         0.         0.         0.\n",
            " 0.         0.         0.         0.         0.         0.         0.         0.         0.         0.         0.         0.         0.\n",
            " 0.         0.         0.         0.         0.         0.         0.         0.         0.         0.         0.         0.         0.\n",
            " 0.         0.         0.         0.         0.         0.         0.         0.         0.         0.         0.         0.         0.\n",
            " 0.         0.         0.         0.         0.         0.         0.         0.         0.         0.         0.         0.         0.\n",
            " 0.         0.         0.         0.         0.         0.         0.         0.         0.         0.         0.         0.         0.\n",
            " 0.         0.         0.         0.         0.         0.         0.         0.         0.         0.         0.         0.         0.\n",
            " 0.         0.         0.         0.         0.         0.         0.         0.         0.         0.         0.         0.         0.\n",
            " 0.         0.         0.         0.         0.         0.         0.         0.         0.         0.         0.         0.         0.\n",
            " 0.         0.         0.         0.         0.         0.         0.         0.         0.         0.         0.         0.         0.\n",
            " 0.         0.         0.         0.         0.         0.         0.         0.         0.         0.         0.         0.         0.\n",
            " 0.         0.         0.         0.         0.         0.         0.         0.         0.         0.         0.         0.         0.\n",
            " 0.         0.         0.         0.         0.         0.         0.         0.         0.         0.         0.         0.         0.\n",
            " 0.21568627 0.58039216 0.82352941 0.99215686 0.99215686 0.44313725 0.34117647 0.58039216 0.21568627 0.         0.         0.         0.\n",
            " 0.         0.         0.         0.         0.         0.         0.         0.         0.         0.         0.         0.         0.\n",
            " 0.         0.34117647 0.90980392 0.98823529 0.99215686 0.74117647 0.82352941 0.98823529 0.98823529 0.99215686 0.65882353 0.         0.\n",
            " 0.         0.         0.         0.         0.         0.         0.         0.         0.         0.         0.         0.         0.\n",
            " 0.         0.01568627 0.22352941 0.94901961 0.98823529 0.74509804 0.25490196 0.01960784 0.04705882 0.71372549 0.98823529 0.99215686 0.45490196\n",
            " 0.         0.         0.         0.         0.         0.         0.         0.         0.         0.         0.         0.         0.\n",
            " 0.         0.         0.         0.37647059 0.98823529 0.98823529 0.71764706 0.05490196 0.         0.         0.36078431 0.98823529 0.98823529\n",
            " 0.88235294 0.08235294 0.         0.         0.         0.         0.         0.         0.         0.         0.         0.         0.\n",
            " 0.         0.         0.         0.         0.51764706 0.99215686 0.98823529 0.57254902 0.05490196 0.         0.         0.         0.84313725\n",
            " 0.98823529 0.98823529 0.30980392 0.         0.         0.         0.         0.         0.         0.         0.         0.         0.\n",
            " 0.         0.         0.         0.         0.         0.49411765 0.99215686 0.96862745 0.69019608 0.03529412 0.         0.         0.03137255\n",
            " 0.30588235 0.96078431 0.99215686 0.50588235 0.         0.         0.         0.         0.         0.         0.         0.         0.\n",
            " 0.         0.         0.         0.         0.         0.         0.0627451  0.90980392 0.98823529 0.69019608 0.         0.         0.\n",
            " 0.14117647 0.78823529 0.98823529 0.98823529 0.6627451  0.04313725 0.         0.         0.         0.         0.         0.         0.\n",
            " 0.         0.         0.         0.         0.         0.         0.         0.         0.08627451 0.98823529 0.98823529 0.11764706 0.08627451\n",
            " 0.46666667 0.77254902 0.94509804 0.99215686 0.98823529 0.98431373 0.30196078 0.         0.         0.         0.         0.         0.\n",
            " 0.         0.         0.         0.         0.         0.         0.         0.         0.         0.         0.0627451  0.90588235 0.98823529\n",
            " 0.99215686 0.98823529 0.98823529 0.98823529 0.88627451 0.89019608 0.98823529 0.90588235 0.         0.         0.         0.         0.\n",
            " 0.         0.         0.         0.         0.         0.         0.         0.         0.         0.         0.         0.         0.\n",
            " 0.21568627 0.92156863 0.99215686 0.85098039 0.54117647 0.16470588 0.09411765 0.75294118 0.98823529 0.56078431 0.         0.         0.\n",
            " 0.         0.         0.         0.         0.         0.         0.         0.         0.         0.         0.         0.         0.\n",
            " 0.         0.         0.         0.         0.         0.         0.         0.         0.24313725 1.         0.99215686 0.42745098 0.\n",
            " 0.         0.         0.         0.         0.         0.         0.         0.         0.         0.         0.         0.         0.\n",
            " 0.         0.         0.         0.         0.         0.         0.         0.         0.         0.         0.27843137 0.99215686 0.98823529\n",
            " 0.08235294 0.         0.         0.         0.         0.         0.         0.         0.         0.         0.         0.         0.\n",
            " 0.         0.         0.         0.         0.         0.         0.         0.         0.         0.         0.         0.         0.\n",
            " 0.99215686 0.98823529 0.08235294 0.         0.         0.         0.         0.         0.         0.         0.         0.         0.\n",
            " 0.         0.         0.         0.         0.         0.         0.         0.         0.         0.         0.         0.         0.\n",
            " 0.         0.27843137 0.99215686 0.98823529 0.08235294 0.         0.         0.         0.         0.         0.         0.         0.\n",
            " 0.         0.         0.         0.         0.         0.         0.         0.         0.         0.         0.         0.         0.\n",
            " 0.         0.         0.         0.41568627 0.99215686 0.98823529 0.08235294 0.         0.         0.         0.         0.         0.\n",
            " 0.         0.         0.         0.         0.         0.         0.         0.         0.         0.         0.         0.         0.\n",
            " 0.         0.         0.         0.         0.         0.17647059 1.         0.99215686 0.08235294 0.         0.         0.         0.\n",
            " 0.         0.         0.         0.         0.         0.         0.         0.         0.         0.         0.         0.         0.\n",
            " 0.         0.         0.         0.         0.         0.         0.         0.         0.85490196 0.98823529 0.21960784 0.         0.\n",
            " 0.         0.         0.         0.         0.         0.         0.         0.         0.         0.         0.         0.         0.\n",
            " 0.         0.         0.         0.         0.         0.         0.         0.         0.         0.         0.37647059 0.98823529 0.74117647\n",
            " 0.16470588 0.         0.         0.         0.         0.         0.         0.         0.         0.         0.         0.         0.\n",
            " 0.         0.         0.         0.         0.         0.         0.         0.         0.         0.         0.         0.         0.05490196\n",
            " 0.72156863 0.98823529 0.66666667 0.04313725 0.         0.         0.         0.         0.         0.         0.         0.         0.\n",
            " 0.         0.         0.         0.         0.         0.         0.         0.         0.         0.         0.         0.         0.\n",
            " 0.         0.         0.05490196 0.57647059 0.98823529 0.16470588 0.         0.         0.         0.         0.         0.         0.\n",
            " 0.         0.         0.         0.         0.         0.         0.         0.         0.         0.         0.         0.         0.\n",
            " 0.         0.         0.         0.         0.         0.         0.         0.         0.         0.         0.         0.         0.\n",
            " 0.         0.         0.         0.        ]\n"
          ],
          "name": "stdout"
        }
      ]
    },
    {
      "cell_type": "markdown",
      "metadata": {
        "id": "2smwfSor4jSM"
      },
      "source": [
        "### 2)One Hot Encoding"
      ]
    },
    {
      "cell_type": "code",
      "metadata": {
        "colab": {
          "base_uri": "https://localhost:8080/"
        },
        "id": "7A7rMhl54dlR",
        "outputId": "5c7f832a-4704-49ca-898f-02710f45e358"
      },
      "source": [
        "from keras.utils import to_categorical\n",
        "\n",
        "y_train = to_categorical(y_train)\n",
        "y_test = to_categorical(y_test)\n",
        "\n",
        "print(y_train[:5])"
      ],
      "execution_count": 12,
      "outputs": [
        {
          "output_type": "stream",
          "text": [
            "[[0. 0. 0. 0. 0. 1. 0. 0. 0. 0.]\n",
            " [1. 0. 0. 0. 0. 0. 0. 0. 0. 0.]\n",
            " [0. 0. 0. 0. 1. 0. 0. 0. 0. 0.]\n",
            " [0. 1. 0. 0. 0. 0. 0. 0. 0. 0.]\n",
            " [0. 0. 0. 0. 0. 0. 0. 0. 0. 1.]]\n"
          ],
          "name": "stdout"
        }
      ]
    },
    {
      "cell_type": "markdown",
      "metadata": {
        "id": "QmHwT9gn5Gfo"
      },
      "source": [
        "## 3.MNIST Keras Modeling\n",
        "### 1)Model Define\n",
        "* 모델 신경망 구조 정의\n",
        "  * 2개의 Hidden Layers & 768개의 Nodes\n",
        "  * 복잡한 Model Capacity로 인한 Overfitting\n",
        "  * BatchNormalization layer와 Activation layer를 중간에 삽입"
      ]
    },
    {
      "cell_type": "code",
      "metadata": {
        "id": "_kzp48sL4t79"
      },
      "source": [
        "from keras import models\n",
        "from keras import layers\n",
        "\n",
        "mnist = models.Sequential()\n",
        "mnist.add(layers.Dense(512, input_shape = (28 * 28,)))\n",
        "mnist.add(layers.BatchNormalization())\n",
        "mnist.add(layers.Activation('relu'))\n",
        "mnist.add(layers.Dense(256))\n",
        "mnist.add(layers.BatchNormalization())\n",
        "mnist.add(layers.Activation('relu'))\n",
        "mnist.add(layers.Dense(10, activation = 'softmax'))"
      ],
      "execution_count": 13,
      "outputs": []
    },
    {
      "cell_type": "markdown",
      "metadata": {
        "id": "ad2SBreP5zPO"
      },
      "source": [
        "* 모델 구조 확인"
      ]
    },
    {
      "cell_type": "code",
      "metadata": {
        "colab": {
          "base_uri": "https://localhost:8080/"
        },
        "id": "oiQR7i_x5XXd",
        "outputId": "3f5ccf49-b99d-4bf7-d761-31fb2ac8625d"
      },
      "source": [
        "mnist.summary()"
      ],
      "execution_count": 14,
      "outputs": [
        {
          "output_type": "stream",
          "text": [
            "Model: \"sequential\"\n",
            "_________________________________________________________________\n",
            "Layer (type)                 Output Shape              Param #   \n",
            "=================================================================\n",
            "dense (Dense)                (None, 512)               401920    \n",
            "_________________________________________________________________\n",
            "batch_normalization (BatchNo (None, 512)               2048      \n",
            "_________________________________________________________________\n",
            "activation (Activation)      (None, 512)               0         \n",
            "_________________________________________________________________\n",
            "dense_1 (Dense)              (None, 256)               131328    \n",
            "_________________________________________________________________\n",
            "batch_normalization_1 (Batch (None, 256)               1024      \n",
            "_________________________________________________________________\n",
            "activation_1 (Activation)    (None, 256)               0         \n",
            "_________________________________________________________________\n",
            "dense_2 (Dense)              (None, 10)                2570      \n",
            "=================================================================\n",
            "Total params: 538,890\n",
            "Trainable params: 537,354\n",
            "Non-trainable params: 1,536\n",
            "_________________________________________________________________\n"
          ],
          "name": "stdout"
        }
      ]
    },
    {
      "cell_type": "markdown",
      "metadata": {
        "id": "t-5xfoRX55L3"
      },
      "source": [
        "### 2)Model Compile\n",
        "* 모델 학습방법 설정"
      ]
    },
    {
      "cell_type": "code",
      "metadata": {
        "id": "TxStfclx51G5"
      },
      "source": [
        "mnist.compile(loss = 'categorical_crossentropy',\n",
        "              optimizer = 'rmsprop',\n",
        "              metrics = ['accuracy'])"
      ],
      "execution_count": 15,
      "outputs": []
    },
    {
      "cell_type": "markdown",
      "metadata": {
        "id": "sb9suqV-6GDN"
      },
      "source": [
        "### 3)Model Fit\n",
        "* 약 3분"
      ]
    },
    {
      "cell_type": "code",
      "metadata": {
        "colab": {
          "base_uri": "https://localhost:8080/"
        },
        "id": "fzzDXAk36E0Y",
        "outputId": "13f172e3-b5fe-407c-9b69-fe19226da7cc"
      },
      "source": [
        "%%time\n",
        "\n",
        "Hist_mnist = mnist.fit(X_train, y_train,\n",
        "                       epochs = 100,\n",
        "                       batch_size = 128,\n",
        "                       validation_split = 0.2)"
      ],
      "execution_count": 16,
      "outputs": [
        {
          "output_type": "stream",
          "text": [
            "Epoch 1/100\n",
            "375/375 [==============================] - 6s 5ms/step - loss: 0.2987 - accuracy: 0.9115 - val_loss: 0.1135 - val_accuracy: 0.9663\n",
            "Epoch 2/100\n",
            "375/375 [==============================] - 2s 4ms/step - loss: 0.0713 - accuracy: 0.9788 - val_loss: 0.0894 - val_accuracy: 0.9741\n",
            "Epoch 3/100\n",
            "375/375 [==============================] - 1s 4ms/step - loss: 0.0430 - accuracy: 0.9864 - val_loss: 0.0775 - val_accuracy: 0.9760\n",
            "Epoch 4/100\n",
            "375/375 [==============================] - 1s 4ms/step - loss: 0.0296 - accuracy: 0.9902 - val_loss: 0.0989 - val_accuracy: 0.9737\n",
            "Epoch 5/100\n",
            "375/375 [==============================] - 1s 4ms/step - loss: 0.0229 - accuracy: 0.9931 - val_loss: 0.0961 - val_accuracy: 0.9760\n",
            "Epoch 6/100\n",
            "375/375 [==============================] - 1s 4ms/step - loss: 0.0154 - accuracy: 0.9954 - val_loss: 0.0904 - val_accuracy: 0.9771\n",
            "Epoch 7/100\n",
            "375/375 [==============================] - 1s 4ms/step - loss: 0.0159 - accuracy: 0.9952 - val_loss: 0.0911 - val_accuracy: 0.9785\n",
            "Epoch 8/100\n",
            "375/375 [==============================] - 1s 4ms/step - loss: 0.0099 - accuracy: 0.9969 - val_loss: 0.0962 - val_accuracy: 0.9785\n",
            "Epoch 9/100\n",
            "375/375 [==============================] - 1s 4ms/step - loss: 0.0090 - accuracy: 0.9971 - val_loss: 0.0875 - val_accuracy: 0.9808\n",
            "Epoch 10/100\n",
            "375/375 [==============================] - 1s 4ms/step - loss: 0.0080 - accuracy: 0.9976 - val_loss: 0.1012 - val_accuracy: 0.9791\n",
            "Epoch 11/100\n",
            "375/375 [==============================] - 1s 4ms/step - loss: 0.0080 - accuracy: 0.9973 - val_loss: 0.1104 - val_accuracy: 0.9774\n",
            "Epoch 12/100\n",
            "375/375 [==============================] - 1s 4ms/step - loss: 0.0057 - accuracy: 0.9982 - val_loss: 0.1032 - val_accuracy: 0.9794\n",
            "Epoch 13/100\n",
            "375/375 [==============================] - 2s 4ms/step - loss: 0.0058 - accuracy: 0.9984 - val_loss: 0.1076 - val_accuracy: 0.9799\n",
            "Epoch 14/100\n",
            "375/375 [==============================] - 2s 4ms/step - loss: 0.0041 - accuracy: 0.9985 - val_loss: 0.1036 - val_accuracy: 0.9808\n",
            "Epoch 15/100\n",
            "375/375 [==============================] - 2s 4ms/step - loss: 0.0044 - accuracy: 0.9985 - val_loss: 0.1059 - val_accuracy: 0.9800\n",
            "Epoch 16/100\n",
            "375/375 [==============================] - 1s 4ms/step - loss: 0.0038 - accuracy: 0.9987 - val_loss: 0.1110 - val_accuracy: 0.9807\n",
            "Epoch 17/100\n",
            "375/375 [==============================] - 1s 4ms/step - loss: 0.0035 - accuracy: 0.9988 - val_loss: 0.1352 - val_accuracy: 0.9760\n",
            "Epoch 18/100\n",
            "375/375 [==============================] - 1s 4ms/step - loss: 0.0036 - accuracy: 0.9987 - val_loss: 0.1256 - val_accuracy: 0.9793\n",
            "Epoch 19/100\n",
            "375/375 [==============================] - 1s 4ms/step - loss: 0.0039 - accuracy: 0.9987 - val_loss: 0.1241 - val_accuracy: 0.9797\n",
            "Epoch 20/100\n",
            "375/375 [==============================] - 1s 3ms/step - loss: 0.0038 - accuracy: 0.9987 - val_loss: 0.1151 - val_accuracy: 0.9803\n",
            "Epoch 21/100\n",
            "375/375 [==============================] - 1s 4ms/step - loss: 0.0038 - accuracy: 0.9985 - val_loss: 0.1271 - val_accuracy: 0.9799\n",
            "Epoch 22/100\n",
            "375/375 [==============================] - 1s 4ms/step - loss: 0.0023 - accuracy: 0.9991 - val_loss: 0.1255 - val_accuracy: 0.9798\n",
            "Epoch 23/100\n",
            "375/375 [==============================] - 1s 3ms/step - loss: 0.0032 - accuracy: 0.9990 - val_loss: 0.1230 - val_accuracy: 0.9807\n",
            "Epoch 24/100\n",
            "375/375 [==============================] - 1s 4ms/step - loss: 0.0031 - accuracy: 0.9988 - val_loss: 0.1310 - val_accuracy: 0.9799\n",
            "Epoch 25/100\n",
            "375/375 [==============================] - 1s 3ms/step - loss: 0.0030 - accuracy: 0.9990 - val_loss: 0.1328 - val_accuracy: 0.9789\n",
            "Epoch 26/100\n",
            "375/375 [==============================] - 1s 4ms/step - loss: 0.0030 - accuracy: 0.9992 - val_loss: 0.1193 - val_accuracy: 0.9808\n",
            "Epoch 27/100\n",
            "375/375 [==============================] - 1s 4ms/step - loss: 0.0026 - accuracy: 0.9991 - val_loss: 0.1187 - val_accuracy: 0.9817\n",
            "Epoch 28/100\n",
            "375/375 [==============================] - 1s 4ms/step - loss: 0.0014 - accuracy: 0.9996 - val_loss: 0.1340 - val_accuracy: 0.9810\n",
            "Epoch 29/100\n",
            "375/375 [==============================] - 1s 4ms/step - loss: 0.0020 - accuracy: 0.9994 - val_loss: 0.1324 - val_accuracy: 0.9808\n",
            "Epoch 30/100\n",
            "375/375 [==============================] - 1s 4ms/step - loss: 0.0025 - accuracy: 0.9994 - val_loss: 0.1337 - val_accuracy: 0.9807\n",
            "Epoch 31/100\n",
            "375/375 [==============================] - 1s 4ms/step - loss: 0.0018 - accuracy: 0.9994 - val_loss: 0.1501 - val_accuracy: 0.9787\n",
            "Epoch 32/100\n",
            "375/375 [==============================] - 2s 4ms/step - loss: 0.0016 - accuracy: 0.9995 - val_loss: 0.1265 - val_accuracy: 0.9817\n",
            "Epoch 33/100\n",
            "375/375 [==============================] - 2s 4ms/step - loss: 0.0015 - accuracy: 0.9995 - val_loss: 0.1236 - val_accuracy: 0.9822\n",
            "Epoch 34/100\n",
            "375/375 [==============================] - 1s 4ms/step - loss: 0.0016 - accuracy: 0.9995 - val_loss: 0.1369 - val_accuracy: 0.9810\n",
            "Epoch 35/100\n",
            "375/375 [==============================] - 1s 3ms/step - loss: 0.0018 - accuracy: 0.9994 - val_loss: 0.1283 - val_accuracy: 0.9806\n",
            "Epoch 36/100\n",
            "375/375 [==============================] - 1s 4ms/step - loss: 0.0015 - accuracy: 0.9997 - val_loss: 0.1292 - val_accuracy: 0.9823\n",
            "Epoch 37/100\n",
            "375/375 [==============================] - 1s 3ms/step - loss: 0.0015 - accuracy: 0.9994 - val_loss: 0.1363 - val_accuracy: 0.9818\n",
            "Epoch 38/100\n",
            "375/375 [==============================] - 1s 3ms/step - loss: 0.0013 - accuracy: 0.9995 - val_loss: 0.1454 - val_accuracy: 0.9798\n",
            "Epoch 39/100\n",
            "375/375 [==============================] - 1s 4ms/step - loss: 0.0017 - accuracy: 0.9995 - val_loss: 0.1453 - val_accuracy: 0.9806\n",
            "Epoch 40/100\n",
            "375/375 [==============================] - 1s 4ms/step - loss: 0.0023 - accuracy: 0.9994 - val_loss: 0.1448 - val_accuracy: 0.9818\n",
            "Epoch 41/100\n",
            "375/375 [==============================] - 1s 3ms/step - loss: 0.0014 - accuracy: 0.9995 - val_loss: 0.1521 - val_accuracy: 0.9808\n",
            "Epoch 42/100\n",
            "375/375 [==============================] - 1s 4ms/step - loss: 0.0027 - accuracy: 0.9990 - val_loss: 0.1391 - val_accuracy: 0.9822\n",
            "Epoch 43/100\n",
            "375/375 [==============================] - 1s 3ms/step - loss: 0.0011 - accuracy: 0.9997 - val_loss: 0.1491 - val_accuracy: 0.9818\n",
            "Epoch 44/100\n",
            "375/375 [==============================] - 1s 4ms/step - loss: 0.0018 - accuracy: 0.9994 - val_loss: 0.1391 - val_accuracy: 0.9828\n",
            "Epoch 45/100\n",
            "375/375 [==============================] - 1s 4ms/step - loss: 0.0013 - accuracy: 0.9995 - val_loss: 0.1611 - val_accuracy: 0.9807\n",
            "Epoch 46/100\n",
            "375/375 [==============================] - 1s 4ms/step - loss: 0.0016 - accuracy: 0.9996 - val_loss: 0.1491 - val_accuracy: 0.9822\n",
            "Epoch 47/100\n",
            "375/375 [==============================] - 1s 4ms/step - loss: 5.6047e-04 - accuracy: 0.9998 - val_loss: 0.1474 - val_accuracy: 0.9827\n",
            "Epoch 48/100\n",
            "375/375 [==============================] - 1s 3ms/step - loss: 8.9978e-04 - accuracy: 0.9998 - val_loss: 0.1509 - val_accuracy: 0.9817\n",
            "Epoch 49/100\n",
            "375/375 [==============================] - 1s 3ms/step - loss: 7.2270e-04 - accuracy: 0.9997 - val_loss: 0.1632 - val_accuracy: 0.9806\n",
            "Epoch 50/100\n",
            "375/375 [==============================] - 1s 4ms/step - loss: 9.2480e-04 - accuracy: 0.9998 - val_loss: 0.1620 - val_accuracy: 0.9814\n",
            "Epoch 51/100\n",
            "375/375 [==============================] - 1s 3ms/step - loss: 0.0024 - accuracy: 0.9994 - val_loss: 0.1605 - val_accuracy: 0.9791\n",
            "Epoch 52/100\n",
            "375/375 [==============================] - 1s 4ms/step - loss: 0.0012 - accuracy: 0.9997 - val_loss: 0.1488 - val_accuracy: 0.9817\n",
            "Epoch 53/100\n",
            "375/375 [==============================] - 1s 4ms/step - loss: 0.0015 - accuracy: 0.9996 - val_loss: 0.1601 - val_accuracy: 0.9806\n",
            "Epoch 54/100\n",
            "375/375 [==============================] - 1s 4ms/step - loss: 0.0015 - accuracy: 0.9996 - val_loss: 0.1498 - val_accuracy: 0.9817\n",
            "Epoch 55/100\n",
            "375/375 [==============================] - 2s 4ms/step - loss: 4.6039e-04 - accuracy: 0.9998 - val_loss: 0.1528 - val_accuracy: 0.9818\n",
            "Epoch 56/100\n",
            "375/375 [==============================] - 1s 4ms/step - loss: 9.4879e-04 - accuracy: 0.9997 - val_loss: 0.1616 - val_accuracy: 0.9811\n",
            "Epoch 57/100\n",
            "375/375 [==============================] - 1s 4ms/step - loss: 0.0013 - accuracy: 0.9998 - val_loss: 0.1602 - val_accuracy: 0.9828\n",
            "Epoch 58/100\n",
            "375/375 [==============================] - 1s 4ms/step - loss: 7.5434e-04 - accuracy: 0.9999 - val_loss: 0.1506 - val_accuracy: 0.9815\n",
            "Epoch 59/100\n",
            "375/375 [==============================] - 1s 4ms/step - loss: 3.0985e-04 - accuracy: 0.9999 - val_loss: 0.1749 - val_accuracy: 0.9799\n",
            "Epoch 60/100\n",
            "375/375 [==============================] - 1s 4ms/step - loss: 9.0138e-04 - accuracy: 0.9997 - val_loss: 0.1562 - val_accuracy: 0.9812\n",
            "Epoch 61/100\n",
            "375/375 [==============================] - 1s 4ms/step - loss: 6.0381e-04 - accuracy: 0.9998 - val_loss: 0.1668 - val_accuracy: 0.9808\n",
            "Epoch 62/100\n",
            "375/375 [==============================] - 1s 3ms/step - loss: 0.0011 - accuracy: 0.9997 - val_loss: 0.1575 - val_accuracy: 0.9816\n",
            "Epoch 63/100\n",
            "375/375 [==============================] - 1s 4ms/step - loss: 7.3142e-04 - accuracy: 0.9998 - val_loss: 0.1812 - val_accuracy: 0.9814\n",
            "Epoch 64/100\n",
            "375/375 [==============================] - 1s 3ms/step - loss: 3.7702e-04 - accuracy: 0.9999 - val_loss: 0.1825 - val_accuracy: 0.9813\n",
            "Epoch 65/100\n",
            "375/375 [==============================] - 2s 4ms/step - loss: 0.0011 - accuracy: 0.9997 - val_loss: 0.1693 - val_accuracy: 0.9812\n",
            "Epoch 66/100\n",
            "375/375 [==============================] - 2s 4ms/step - loss: 7.0573e-04 - accuracy: 0.9998 - val_loss: 0.1620 - val_accuracy: 0.9827\n",
            "Epoch 67/100\n",
            "375/375 [==============================] - 2s 4ms/step - loss: 0.0016 - accuracy: 0.9996 - val_loss: 0.1585 - val_accuracy: 0.9831\n",
            "Epoch 68/100\n",
            "375/375 [==============================] - 1s 4ms/step - loss: 4.2487e-04 - accuracy: 0.9998 - val_loss: 0.1712 - val_accuracy: 0.9818\n",
            "Epoch 69/100\n",
            "375/375 [==============================] - 2s 4ms/step - loss: 6.6313e-04 - accuracy: 0.9998 - val_loss: 0.1783 - val_accuracy: 0.9826\n",
            "Epoch 70/100\n",
            "375/375 [==============================] - 1s 4ms/step - loss: 8.8630e-04 - accuracy: 0.9998 - val_loss: 0.1673 - val_accuracy: 0.9823\n",
            "Epoch 71/100\n",
            "375/375 [==============================] - 1s 3ms/step - loss: 6.8279e-04 - accuracy: 0.9998 - val_loss: 0.1692 - val_accuracy: 0.9821\n",
            "Epoch 72/100\n",
            "375/375 [==============================] - 1s 3ms/step - loss: 5.5093e-04 - accuracy: 0.9998 - val_loss: 0.1701 - val_accuracy: 0.9823\n",
            "Epoch 73/100\n",
            "375/375 [==============================] - 1s 3ms/step - loss: 4.5879e-04 - accuracy: 0.9999 - val_loss: 0.1622 - val_accuracy: 0.9818\n",
            "Epoch 74/100\n",
            "375/375 [==============================] - 1s 4ms/step - loss: 6.5724e-04 - accuracy: 0.9997 - val_loss: 0.1820 - val_accuracy: 0.9823\n",
            "Epoch 75/100\n",
            "375/375 [==============================] - 1s 4ms/step - loss: 0.0011 - accuracy: 0.9997 - val_loss: 0.1835 - val_accuracy: 0.9818\n",
            "Epoch 76/100\n",
            "375/375 [==============================] - 1s 4ms/step - loss: 2.5919e-04 - accuracy: 0.9999 - val_loss: 0.1911 - val_accuracy: 0.9816\n",
            "Epoch 77/100\n",
            "375/375 [==============================] - 1s 3ms/step - loss: 0.0010 - accuracy: 0.9997 - val_loss: 0.1911 - val_accuracy: 0.9818\n",
            "Epoch 78/100\n",
            "375/375 [==============================] - 1s 4ms/step - loss: 8.9848e-04 - accuracy: 0.9997 - val_loss: 0.1966 - val_accuracy: 0.9815\n",
            "Epoch 79/100\n",
            "375/375 [==============================] - 1s 4ms/step - loss: 7.2351e-04 - accuracy: 0.9997 - val_loss: 0.1877 - val_accuracy: 0.9821\n",
            "Epoch 80/100\n",
            "375/375 [==============================] - 1s 4ms/step - loss: 3.9216e-04 - accuracy: 0.9998 - val_loss: 0.1769 - val_accuracy: 0.9823\n",
            "Epoch 81/100\n",
            "375/375 [==============================] - 2s 4ms/step - loss: 9.4362e-04 - accuracy: 0.9998 - val_loss: 0.1792 - val_accuracy: 0.9827\n",
            "Epoch 82/100\n",
            "375/375 [==============================] - 1s 4ms/step - loss: 3.6948e-04 - accuracy: 0.9998 - val_loss: 0.1855 - val_accuracy: 0.9815\n",
            "Epoch 83/100\n",
            "375/375 [==============================] - 1s 4ms/step - loss: 4.1320e-04 - accuracy: 0.9999 - val_loss: 0.1986 - val_accuracy: 0.9805\n",
            "Epoch 84/100\n",
            "375/375 [==============================] - 1s 3ms/step - loss: 0.0015 - accuracy: 0.9996 - val_loss: 0.1843 - val_accuracy: 0.9833\n",
            "Epoch 85/100\n",
            "375/375 [==============================] - 1s 4ms/step - loss: 6.1827e-04 - accuracy: 0.9998 - val_loss: 0.1992 - val_accuracy: 0.9819\n",
            "Epoch 86/100\n",
            "375/375 [==============================] - 1s 3ms/step - loss: 6.4497e-04 - accuracy: 0.9998 - val_loss: 0.2037 - val_accuracy: 0.9799\n",
            "Epoch 87/100\n",
            "375/375 [==============================] - 2s 4ms/step - loss: 4.0264e-04 - accuracy: 0.9999 - val_loss: 0.2083 - val_accuracy: 0.9810\n",
            "Epoch 88/100\n",
            "375/375 [==============================] - 1s 4ms/step - loss: 4.6666e-04 - accuracy: 0.9999 - val_loss: 0.2045 - val_accuracy: 0.9810\n",
            "Epoch 89/100\n",
            "375/375 [==============================] - 1s 4ms/step - loss: 3.0477e-04 - accuracy: 0.9999 - val_loss: 0.1870 - val_accuracy: 0.9822\n",
            "Epoch 90/100\n",
            "375/375 [==============================] - 1s 4ms/step - loss: 2.3375e-04 - accuracy: 0.9999 - val_loss: 0.1975 - val_accuracy: 0.9807\n",
            "Epoch 91/100\n",
            "375/375 [==============================] - 1s 4ms/step - loss: 3.2932e-04 - accuracy: 0.9999 - val_loss: 0.1833 - val_accuracy: 0.9832\n",
            "Epoch 92/100\n",
            "375/375 [==============================] - 2s 4ms/step - loss: 5.8296e-04 - accuracy: 0.9998 - val_loss: 0.1792 - val_accuracy: 0.9821\n",
            "Epoch 93/100\n",
            "375/375 [==============================] - 1s 4ms/step - loss: 2.8427e-04 - accuracy: 0.9999 - val_loss: 0.1870 - val_accuracy: 0.9837\n",
            "Epoch 94/100\n",
            "375/375 [==============================] - 2s 4ms/step - loss: 3.6793e-04 - accuracy: 0.9999 - val_loss: 0.1853 - val_accuracy: 0.9846\n",
            "Epoch 95/100\n",
            "375/375 [==============================] - 2s 4ms/step - loss: 1.7571e-04 - accuracy: 1.0000 - val_loss: 0.1880 - val_accuracy: 0.9829\n",
            "Epoch 96/100\n",
            "375/375 [==============================] - 2s 4ms/step - loss: 3.7350e-04 - accuracy: 0.9999 - val_loss: 0.1785 - val_accuracy: 0.9849\n",
            "Epoch 97/100\n",
            "375/375 [==============================] - 2s 4ms/step - loss: 5.6880e-04 - accuracy: 0.9998 - val_loss: 0.2209 - val_accuracy: 0.9810\n",
            "Epoch 98/100\n",
            "375/375 [==============================] - 1s 4ms/step - loss: 8.7492e-04 - accuracy: 0.9998 - val_loss: 0.2008 - val_accuracy: 0.9824\n",
            "Epoch 99/100\n",
            "375/375 [==============================] - 1s 4ms/step - loss: 5.9760e-04 - accuracy: 0.9999 - val_loss: 0.2174 - val_accuracy: 0.9807\n",
            "Epoch 100/100\n",
            "375/375 [==============================] - 1s 4ms/step - loss: 0.0017 - accuracy: 0.9995 - val_loss: 0.2093 - val_accuracy: 0.9816\n",
            "CPU times: user 2min 34s, sys: 17.7 s, total: 2min 52s\n",
            "Wall time: 2min 24s\n"
          ],
          "name": "stdout"
        }
      ]
    },
    {
      "cell_type": "markdown",
      "metadata": {
        "id": "sQeVm5066Wvc"
      },
      "source": [
        "### 4)학습 결과 시각화 - Overfitting\n",
        "* Loss Visualization"
      ]
    },
    {
      "cell_type": "code",
      "metadata": {
        "colab": {
          "base_uri": "https://localhost:8080/",
          "height": 404
        },
        "id": "Ghu6ioDF6Uzk",
        "outputId": "85d6a90b-b9df-49d9-dd44-6c740f58b15f"
      },
      "source": [
        "import matplotlib.pyplot as plt\n",
        "\n",
        "epochs = range(1, len(Hist_mnist.history['loss']) + 1)\n",
        "\n",
        "plt.figure(figsize = (9,6))\n",
        "plt.plot(epochs, Hist_mnist.history['loss'])\n",
        "plt.plot(epochs, Hist_mnist.history['val_loss'])\n",
        "#plt.ylim(0,0.25)\n",
        "plt.title('Training & Validation Loss')\n",
        "plt.xlabel('Epochs')\n",
        "plt.ylabel('Loss')\n",
        "plt.legend(['Training Loss', 'Validation Loss'])\n",
        "plt.grid()\n",
        "plt.show()\n",
        "\n",
        "#기존에 비해 overfitting이 덜 일어났다"
      ],
      "execution_count": 17,
      "outputs": [
        {
          "output_type": "display_data",
          "data": {
            "image/png": "[encoded data removed]",
            "text/plain": [
              "<Figure size 648x432 with 1 Axes>"
            ]
          },
          "metadata": {
            "tags": [],
            "needs_background": "light"
          }
        }
      ]
    },
    {
      "cell_type": "markdown",
      "metadata": {
        "id": "qjfFXGmJ7Fqn"
      },
      "source": [
        "## 5)Model Evaluate\n",
        "* Loss & Accuracy"
      ]
    },
    {
      "cell_type": "code",
      "metadata": {
        "colab": {
          "base_uri": "https://localhost:8080/"
        },
        "id": "bhPMNZgw6-oA",
        "outputId": "9b9f0488-397d-4a5e-b64c-62e7e5006761"
      },
      "source": [
        "loss, accuracy = mnist.evaluate(X_test, y_test)\n",
        "\n",
        "print('Loss = {:.5f}'.format(loss))\n",
        "print('Accuracy = {:.5f}'.format(accuracy))\n",
        "\n",
        "#기존에 비해 Accuracy는 약간 떨어졌다(성능감소)"
      ],
      "execution_count": 18,
      "outputs": [
        {
          "output_type": "stream",
          "text": [
            "313/313 [==============================] - 1s 2ms/step - loss: 0.1744 - accuracy: 0.9820\n",
            "Loss = 0.17437\n",
            "Accuracy = 0.98200\n"
          ],
          "name": "stdout"
        }
      ]
    },
    {
      "cell_type": "markdown",
      "metadata": {
        "id": "TMoM7ZTU7Zk3"
      },
      "source": [
        "### 6)Model Predict\n",
        "* Probability"
      ]
    },
    {
      "cell_type": "code",
      "metadata": {
        "colab": {
          "base_uri": "https://localhost:8080/"
        },
        "id": "NgWFv2h37W72",
        "outputId": "63f57747-4d09-4481-ea6e-e3d26c97ed67"
      },
      "source": [
        "np.set_printoptions(suppress=True, precision=9)\n",
        "\n",
        "print(mnist.predict(X_test[:1,:]))"
      ],
      "execution_count": 19,
      "outputs": [
        {
          "output_type": "stream",
          "text": [
            "[[0. 0. 0. 0. 0. 0. 0. 1. 0. 0.]]\n"
          ],
          "name": "stdout"
        }
      ]
    },
    {
      "cell_type": "markdown",
      "metadata": {
        "id": "n5BbTnFg7lcj"
      },
      "source": [
        "* Class"
      ]
    },
    {
      "cell_type": "code",
      "metadata": {
        "colab": {
          "base_uri": "https://localhost:8080/"
        },
        "id": "kyhcz2cw7j1E",
        "outputId": "f7c45fee-1873-4f84-e80f-25cef92a42f5"
      },
      "source": [
        "print(mnist.predict_classes(X_test[:1, :]))"
      ],
      "execution_count": 20,
      "outputs": [
        {
          "output_type": "stream",
          "text": [
            "[7]\n"
          ],
          "name": "stdout"
        }
      ]
    },
    {
      "cell_type": "markdown",
      "metadata": {
        "id": "T7MUNWkX7ygw"
      },
      "source": [
        "본 내용은 2021/03/19(금)에 학습한 내용입니다."
      ]
    }
  ]
}
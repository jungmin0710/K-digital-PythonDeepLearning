{
  "nbformat": 4,
  "nbformat_minor": 0,
  "metadata": {
    "colab": {
      "name": "DNN_IMDB_Binary_Classification.ipynb",
      "provenance": [],
      "authorship_tag": "ABX9TyPT48DcPh+2ZYNYInaEP3Fx",
      "include_colab_link": true
    },
    "kernelspec": {
      "name": "python3",
      "display_name": "Python 3"
    },
    "accelerator": "GPU"
  },
  "cells": [
    {
      "cell_type": "markdown",
      "metadata": {
        "id": "view-in-github",
        "colab_type": "text"
      },
      "source": [
        "<a href=\"https://colab.research.google.com/github/jungmin0710/K-digital-PythonDeepLearning/blob/main/DNN_IMDB_Binary_Classification.ipynb\" target=\"_parent\"><img src=\"https://colab.research.google.com/assets/colab-badge.svg\" alt=\"Open In Colab\"/></a>"
      ]
    },
    {
      "cell_type": "markdown",
      "metadata": {
        "id": "WrAzBMHb_t0C"
      },
      "source": [
        "# IMDB - Binary Classification\r\n",
        "NLP (Natural Language Processing) - 자연어처리\r\n",
        "## 0.Import Tensorflow & Keras"
      ]
    },
    {
      "cell_type": "code",
      "metadata": {
        "id": "PNMcGNbJ_q_f"
      },
      "source": [
        "import warnings\r\n",
        "warnings.filterwarnings('ignore')"
      ],
      "execution_count": 13,
      "outputs": []
    },
    {
      "cell_type": "markdown",
      "metadata": {
        "id": "TWH5df1B_-5V"
      },
      "source": [
        "* TensorFlow '1.x'Version 지정"
      ]
    },
    {
      "cell_type": "code",
      "metadata": {
        "colab": {
          "base_uri": "https://localhost:8080/",
          "height": 35
        },
        "id": "s2MwJ5nQ_-PQ",
        "outputId": "fbf17caf-7165-4313-b04e-19497db769eb"
      },
      "source": [
        "%tensorflow_version 1.x\r\n",
        "import tensorflow as tf\r\n",
        "\r\n",
        "tf.__version__"
      ],
      "execution_count": 14,
      "outputs": [
        {
          "output_type": "execute_result",
          "data": {
            "application/vnd.google.colaboratory.intrinsic+json": {
              "type": "string"
            },
            "text/plain": [
              "'1.15.2'"
            ]
          },
          "metadata": {
            "tags": []
          },
          "execution_count": 14
        }
      ]
    },
    {
      "cell_type": "markdown",
      "metadata": {
        "id": "YPf5OLHcCg6H"
      },
      "source": [
        "* GPU 설정 확인"
      ]
    },
    {
      "cell_type": "code",
      "metadata": {
        "colab": {
          "base_uri": "https://localhost:8080/",
          "height": 35
        },
        "id": "967wPK03CX6N",
        "outputId": "46862cf2-c64e-4f7d-ba5f-b7d3553d221f"
      },
      "source": [
        "tf.test.gpu_device_name()"
      ],
      "execution_count": 15,
      "outputs": [
        {
          "output_type": "execute_result",
          "data": {
            "application/vnd.google.colaboratory.intrinsic+json": {
              "type": "string"
            },
            "text/plain": [
              "'/device:GPU:0'"
            ]
          },
          "metadata": {
            "tags": []
          },
          "execution_count": 15
        }
      ]
    },
    {
      "cell_type": "markdown",
      "metadata": {
        "id": "97H6HHOaC5TS"
      },
      "source": [
        "* GPU 정보 확인"
      ]
    },
    {
      "cell_type": "code",
      "metadata": {
        "colab": {
          "base_uri": "https://localhost:8080/"
        },
        "id": "UBtl0cy1CnrT",
        "outputId": "7833d9af-4eb1-4926-9bf7-e5e952c16375"
      },
      "source": [
        "!nvidia-smi"
      ],
      "execution_count": 16,
      "outputs": [
        {
          "output_type": "stream",
          "text": [
            "Thu Mar 18 07:35:23 2021       \n",
            "+-----------------------------------------------------------------------------+\n",
            "| NVIDIA-SMI 460.56       Driver Version: 460.32.03    CUDA Version: 11.2     |\n",
            "|-------------------------------+----------------------+----------------------+\n",
            "| GPU  Name        Persistence-M| Bus-Id        Disp.A | Volatile Uncorr. ECC |\n",
            "| Fan  Temp  Perf  Pwr:Usage/Cap|         Memory-Usage | GPU-Util  Compute M. |\n",
            "|                               |                      |               MIG M. |\n",
            "|===============================+======================+======================|\n",
            "|   0  Tesla T4            Off  | 00000000:00:04.0 Off |                    0 |\n",
            "| N/A   43C    P0    27W /  70W |    104MiB / 15109MiB |      0%      Default |\n",
            "|                               |                      |                  N/A |\n",
            "+-------------------------------+----------------------+----------------------+\n",
            "                                                                               \n",
            "+-----------------------------------------------------------------------------+\n",
            "| Processes:                                                                  |\n",
            "|  GPU   GI   CI        PID   Type   Process name                  GPU Memory |\n",
            "|        ID   ID                                                   Usage      |\n",
            "|=============================================================================|\n",
            "+-----------------------------------------------------------------------------+\n"
          ],
          "name": "stdout"
        }
      ]
    },
    {
      "cell_type": "markdown",
      "metadata": {
        "id": "sNjXhQ_9C_6R"
      },
      "source": [
        "* Keras Version 확인"
      ]
    },
    {
      "cell_type": "code",
      "metadata": {
        "colab": {
          "base_uri": "https://localhost:8080/",
          "height": 35
        },
        "id": "yf3EGWxPC8Hk",
        "outputId": "2c85aeed-673e-4f3a-c838-cef2343ab9c4"
      },
      "source": [
        "import keras\r\n",
        "\r\n",
        "keras.__version__"
      ],
      "execution_count": 17,
      "outputs": [
        {
          "output_type": "execute_result",
          "data": {
            "application/vnd.google.colaboratory.intrinsic+json": {
              "type": "string"
            },
            "text/plain": [
              "'2.3.1'"
            ]
          },
          "metadata": {
            "tags": []
          },
          "execution_count": 17
        }
      ]
    },
    {
      "cell_type": "markdown",
      "metadata": {
        "id": "77LUom8sDEhi"
      },
      "source": [
        "## 1.IMDB Data_Set Load & Review\r\n",
        "### 1)Load IMDB Data_Set\r\n",
        "* Word to Vector\r\n",
        "* 전체 데이터 내에서 단어의 사용빈도에 따라 인덱스화\r\n",
        "* 정수 인덱스 '11'은 11번째로 자주 사용된 단어를 나타냄\r\n",
        "* num_words = 10000 : 인덱스 값 10000 이하의 단어만 추출\r\n",
        "* 단어 인덱스 값이 10000을 넘지 않는 단어만 분석에 사용"
      ]
    },
    {
      "cell_type": "code",
      "metadata": {
        "id": "vsc0HHc-DDZE"
      },
      "source": [
        "from keras.datasets import imdb\r\n",
        "\r\n",
        "(train_data, train_labels), (test_data, test_labels) = imdb.load_data(num_words = 10000)"
      ],
      "execution_count": 18,
      "outputs": []
    },
    {
      "cell_type": "code",
      "metadata": {
        "colab": {
          "base_uri": "https://localhost:8080/"
        },
        "id": "kQ4M10FqDjvs",
        "outputId": "85745ecf-a827-43ba-a423-d856bcbef498"
      },
      "source": [
        "max(max(W) for W in train_data)"
      ],
      "execution_count": 19,
      "outputs": [
        {
          "output_type": "execute_result",
          "data": {
            "text/plain": [
              "9999"
            ]
          },
          "metadata": {
            "tags": []
          },
          "execution_count": 19
        }
      ]
    },
    {
      "cell_type": "markdown",
      "metadata": {
        "id": "W8ifZVNUD0TG"
      },
      "source": [
        "## 2)Visualization & Frequency(Optional)\r\n",
        "* x - Histogram(리뷰 길이)"
      ]
    },
    {
      "cell_type": "code",
      "metadata": {
        "colab": {
          "base_uri": "https://localhost:8080/",
          "height": 443
        },
        "id": "1fDFV78BDsnd",
        "outputId": "6a96603f-9c85-45fe-a60b-6dc0d891d7d7"
      },
      "source": [
        "import matplotlib.pyplot as plt\r\n",
        "\r\n",
        "print('리뷰 최대 길이 : ', max(len(L) for L in train_data))\r\n",
        "print('리뷰 평균 길이 : ', sum(map(len, train_data))/len(train_data))\r\n",
        "\r\n",
        "plt.figure(figsize = (9,6))\r\n",
        "plt.hist([len(L) for L in train_data], bins = 50)\r\n",
        "plt.xlabel('Length of train_data')"
      ],
      "execution_count": null,
      "outputs": [
        {
          "output_type": "stream",
          "text": [
            "리뷰 최대 길이 :  2494\n",
            "리뷰 평균 길이 :  238.71364\n"
          ],
          "name": "stdout"
        },
        {
          "output_type": "execute_result",
          "data": {
            "text/plain": [
              "Text(0.5, 0, 'Length of train_data')"
            ]
          },
          "metadata": {
            "tags": []
          },
          "execution_count": 9
        },
        {
          "output_type": "display_data",
          "data": {
            "image/png": "[encoded data removed]",
            "text/plain": [
              "<Figure size 648x432 with 1 Axes>"
            ]
          },
          "metadata": {
            "tags": [],
            "needs_background": "light"
          }
        }
      ]
    },
    {
      "cell_type": "markdown",
      "metadata": {
        "id": "wcKco3u6EeK_"
      },
      "source": [
        "* y - Frequency(0 : 부정, 1 : 긍정)"
      ]
    },
    {
      "cell_type": "code",
      "metadata": {
        "colab": {
          "base_uri": "https://localhost:8080/"
        },
        "id": "i70k26D4ESdV",
        "outputId": "c5604d15-be09-41c2-f046-08370ac7e688"
      },
      "source": [
        "import numpy as np\r\n",
        "\r\n",
        "unique_elements, counts_elements = np.unique(train_labels, return_counts = True)\r\n",
        "\r\n",
        "print('Label 빈도수')\r\n",
        "print(np.asarray((unique_elements, counts_elements)))"
      ],
      "execution_count": null,
      "outputs": [
        {
          "output_type": "stream",
          "text": [
            "Label 빈도수\n",
            "[[    0     1]\n",
            " [12500 12500]]\n"
          ],
          "name": "stdout"
        }
      ]
    },
    {
      "cell_type": "markdown",
      "metadata": {
        "id": "JXSGnjJvE3FN"
      },
      "source": [
        "### 3)Data Structure Review(Optional)"
      ]
    },
    {
      "cell_type": "code",
      "metadata": {
        "colab": {
          "base_uri": "https://localhost:8080/"
        },
        "id": "EoBmKgr-EuHQ",
        "outputId": "fa6e37dc-3289-4620-fa49-506dded4917c"
      },
      "source": [
        "#전체 train_data 개수\r\n",
        "print(len(train_data))\r\n",
        "\r\n",
        "#첫번째 train_data 정보\r\n",
        "print(len(train_data[0]))\r\n",
        "print(train_data[0][0:10])\r\n",
        "print(train_data[0].count(4))\r\n",
        "print(train_labels[0])"
      ],
      "execution_count": null,
      "outputs": [
        {
          "output_type": "stream",
          "text": [
            "25000\n",
            "218\n",
            "[1, 14, 22, 16, 43, 530, 973, 1622, 1385, 65]\n",
            "15\n",
            "1\n"
          ],
          "name": "stdout"
        }
      ]
    },
    {
      "cell_type": "markdown",
      "metadata": {
        "id": "5Q8hUuZzF2vz"
      },
      "source": [
        "### 4)Vector to Word(Optional)\r\n",
        "* get_word_index() : 단어와 인덱스를 매핑한 사전\r\n",
        "* 0, 1, 2 : '패딩', '문서 시작', '사전에 없음'"
      ]
    },
    {
      "cell_type": "code",
      "metadata": {
        "colab": {
          "base_uri": "https://localhost:8080/"
        },
        "id": "Cf3himLGFHgc",
        "outputId": "73835ca2-4d0c-4371-8dae-15639cd3e5a9"
      },
      "source": [
        "word_index = imdb.get_word_index()\r\n",
        "\r\n",
        "#print(word_index)"
      ],
      "execution_count": null,
      "outputs": [
        {
          "output_type": "stream",
          "text": [
            "Downloading data from https://s3.amazonaws.com/text-datasets/imdb_word_index.json\n",
            "1646592/1641221 [==============================] - 0s 0us/step\n"
          ],
          "name": "stdout"
        }
      ]
    },
    {
      "cell_type": "markdown",
      "metadata": {
        "id": "uqvubQU8GUT0"
      },
      "source": [
        "* 인덱스와 단어 위치 변경"
      ]
    },
    {
      "cell_type": "code",
      "metadata": {
        "id": "dhN7IInhGEJs"
      },
      "source": [
        "reverse_word_index = dict([(value, key) for (key, value) in word_index.items()])\r\n",
        "\r\n",
        "#print(reverse_word_index)"
      ],
      "execution_count": 20,
      "outputs": []
    },
    {
      "cell_type": "markdown",
      "metadata": {
        "id": "Jp-JRVNEGhs-"
      },
      "source": [
        "* 0번 영화 리뷰 디코딩(1:긍정)"
      ]
    },
    {
      "cell_type": "code",
      "metadata": {
        "colab": {
          "base_uri": "https://localhost:8080/"
        },
        "id": "rlxsuP2hGfEk",
        "outputId": "9a877017-868b-41b0-bacd-7e54c2591766"
      },
      "source": [
        "decoded_review = ' '.join([reverse_word_index.get(i - 3, '?') for i in train_data[0]])\r\n",
        "\r\n",
        "print(decoded_review)\r\n",
        "print(train_labels[0])"
      ],
      "execution_count": null,
      "outputs": [
        {
          "output_type": "stream",
          "text": [
            "? this film was just brilliant casting location scenery story direction everyone's really suited the part they played and you could just imagine being there robert ? is an amazing actor and now the same being director ? father came from the same scottish island as myself so i loved the fact there was a real connection with this film the witty remarks throughout the film were great it was just brilliant so much that i bought the film as soon as it was released for ? and would recommend it to everyone to watch and the fly fishing was amazing really cried at the end it was so sad and you know what they say if you cry at a film it must have been good and this definitely was also ? to the two little boy's that played the ? of norman and paul they were just brilliant children are often left out of the ? list i think because the stars that play them all grown up are such a big profile for the whole film but these children are amazing and should be praised for what they have done don't you think the whole story was so lovely because it was true and was someone's life after all that was shared with us all\n",
            "1\n"
          ],
          "name": "stdout"
        }
      ]
    },
    {
      "cell_type": "markdown",
      "metadata": {
        "id": "-0LAIiV2HJXs"
      },
      "source": [
        "* 1번 영화 리뷰 디코딩(0:부정)"
      ]
    },
    {
      "cell_type": "code",
      "metadata": {
        "colab": {
          "base_uri": "https://localhost:8080/"
        },
        "id": "-kONj44uG1cm",
        "outputId": "5f9d385d-10f6-4754-9f81-50768976a118"
      },
      "source": [
        "decoded_review = ' '.join([reverse_word_index.get(i - 3, '?') for i in train_data[1]])\r\n",
        "\r\n",
        "print(decoded_review)\r\n",
        "print(train_labels[1])"
      ],
      "execution_count": null,
      "outputs": [
        {
          "output_type": "stream",
          "text": [
            "? big hair big boobs bad music and a giant safety pin these are the words to best describe this terrible movie i love cheesy horror movies and i've seen hundreds but this had got to be on of the worst ever made the plot is paper thin and ridiculous the acting is an abomination the script is completely laughable the best is the end showdown with the cop and how he worked out who the killer is it's just so damn terribly written the clothes are sickening and funny in equal ? the hair is big lots of boobs ? men wear those cut ? shirts that show off their ? sickening that men actually wore them and the music is just ? trash that plays over and over again in almost every scene there is trashy music boobs and ? taking away bodies and the gym still doesn't close for ? all joking aside this is a truly bad film whose only charm is to look back on the disaster that was the 80's and have a good old laugh at how bad everything was back then\n",
            "0\n"
          ],
          "name": "stdout"
        }
      ]
    },
    {
      "cell_type": "markdown",
      "metadata": {
        "id": "X7s0d532HdDJ"
      },
      "source": [
        "## 2.Tensor Transformation\r\n",
        "### 1)X_train & X_test : (25000, 10000)\r\n",
        "* vecorize_sequence() 정의\r\n",
        "* 크기는 10000이고 모든 원소가 0인 행렬 생성\r\n",
        "  * np.zeros(len(sequences), dimension))\r\n",
        "* 값이 존재하는 인덱스의 위치를 1로 지정\r\n",
        "  * enumerate()\r\n",
        "  * results[i,sequence] = 1.0"
      ]
    },
    {
      "cell_type": "code",
      "metadata": {
        "id": "LYteCgyUHYOb"
      },
      "source": [
        "import numpy as np\r\n",
        "\r\n",
        "def vectorize_sequences(sequences, dimension = 10000):\r\n",
        "  results = np.zeros((len(sequences), dimension))\r\n",
        "  for i, sequence in enumerate(sequences):\r\n",
        "    results[i, sequence] = 1.0\r\n",
        "  return results"
      ],
      "execution_count": null,
      "outputs": []
    },
    {
      "cell_type": "markdown",
      "metadata": {
        "id": "WLtS7hliIEsS"
      },
      "source": [
        "* enumerate() - Example"
      ]
    },
    {
      "cell_type": "code",
      "metadata": {
        "colab": {
          "base_uri": "https://localhost:8080/"
        },
        "id": "yLQSBZ9xIAdo",
        "outputId": "c77c885c-a2a6-4106-c952-3af1f5dafeef"
      },
      "source": [
        "#숫자에 해당하는 인덱스 자리에 값을 채워넣음\r\n",
        "r = np.zeros((5,10))\r\n",
        "v = [1,3,5,7,9]\r\n",
        "\r\n",
        "for i, v in enumerate(v):\r\n",
        "  r[i, v] = 1.0\r\n",
        "\r\n",
        "print(r)"
      ],
      "execution_count": null,
      "outputs": [
        {
          "output_type": "stream",
          "text": [
            "[[0. 1. 0. 0. 0. 0. 0. 0. 0. 0.]\n",
            " [0. 0. 0. 1. 0. 0. 0. 0. 0. 0.]\n",
            " [0. 0. 0. 0. 0. 1. 0. 0. 0. 0.]\n",
            " [0. 0. 0. 0. 0. 0. 0. 1. 0. 0.]\n",
            " [0. 0. 0. 0. 0. 0. 0. 0. 0. 1.]]\n"
          ],
          "name": "stdout"
        }
      ]
    },
    {
      "cell_type": "markdown",
      "metadata": {
        "id": "fm9vXwgtIeY4"
      },
      "source": [
        "* vectorize_sequence() 적용"
      ]
    },
    {
      "cell_type": "code",
      "metadata": {
        "colab": {
          "base_uri": "https://localhost:8080/"
        },
        "id": "Yy0K4H1MIPQi",
        "outputId": "f2d1fdd9-8b78-4f82-bf52-d3fd9167788b"
      },
      "source": [
        "X_train = vectorize_sequences(train_data)\r\n",
        "X_test = vectorize_sequences(test_data)\r\n",
        "\r\n",
        "X_train.shape, X_test.shape"
      ],
      "execution_count": null,
      "outputs": [
        {
          "output_type": "execute_result",
          "data": {
            "text/plain": [
              "((25000, 10000), (25000, 10000))"
            ]
          },
          "metadata": {
            "tags": []
          },
          "execution_count": 22
        }
      ]
    },
    {
      "cell_type": "markdown",
      "metadata": {
        "id": "3D3kaaidIn1h"
      },
      "source": [
        "* Transformation Check"
      ]
    },
    {
      "cell_type": "code",
      "metadata": {
        "colab": {
          "base_uri": "https://localhost:8080/"
        },
        "id": "F4Zi44l4ImYU",
        "outputId": "1b68003c-5741-4eb8-c010-9b35b7a1a6e0"
      },
      "source": [
        "print(X_train[0][:21])\r\n",
        "print(X_train[0][9979:])\r\n",
        "\r\n",
        "print(X_test[0][:21])\r\n",
        "print(X_test[0][9979:])"
      ],
      "execution_count": null,
      "outputs": [
        {
          "output_type": "stream",
          "text": [
            "[0. 1. 1. 0. 1. 1. 1. 1. 1. 1. 0. 0. 1. 1. 1. 1. 1. 1. 1. 1. 0.]\n",
            "[0. 0. 0. 0. 0. 0. 0. 0. 0. 0. 0. 0. 0. 0. 0. 0. 0. 0. 0. 0. 0.]\n",
            "[0. 1. 1. 0. 1. 1. 1. 1. 1. 1. 1. 0. 0. 1. 1. 0. 1. 0. 0. 0. 0.]\n",
            "[0. 0. 0. 0. 0. 0. 0. 0. 0. 0. 0. 0. 0. 0. 0. 0. 0. 0. 0. 0. 0.]\n"
          ],
          "name": "stdout"
        }
      ]
    },
    {
      "cell_type": "markdown",
      "metadata": {
        "id": "zWoOVaDKI9xJ"
      },
      "source": [
        "### 2)y_train & y_test"
      ]
    },
    {
      "cell_type": "code",
      "metadata": {
        "colab": {
          "base_uri": "https://localhost:8080/"
        },
        "id": "5J67Ya0kI15I",
        "outputId": "d3a50dfc-4c2b-4deb-b987-533f2e009f9e"
      },
      "source": [
        "y_train = np.asarray(train_labels).astype(float)\r\n",
        "y_test = np.asarray(test_labels).astype(float)\r\n",
        "\r\n",
        "print(y_train[:21])\r\n",
        "print(y_test[:21])"
      ],
      "execution_count": null,
      "outputs": [
        {
          "output_type": "stream",
          "text": [
            "[1. 0. 0. 1. 0. 0. 1. 0. 1. 0. 1. 0. 0. 0. 0. 0. 1. 1. 0. 1. 0.]\n",
            "[0. 1. 1. 0. 1. 1. 1. 0. 0. 1. 1. 0. 0. 0. 1. 0. 1. 0. 0. 0. 1.]\n"
          ],
          "name": "stdout"
        }
      ]
    },
    {
      "cell_type": "markdown",
      "metadata": {
        "id": "S4A7rmmxJOtF"
      },
      "source": [
        "### 3.Train vs Validation Split"
      ]
    },
    {
      "cell_type": "code",
      "metadata": {
        "colab": {
          "base_uri": "https://localhost:8080/"
        },
        "id": "yRlMXjLTJKYb",
        "outputId": "290c6ed6-2977-4ee5-c4ad-3661c88b5464"
      },
      "source": [
        "X_valid = X_train[:10000]\r\n",
        "partial_X_train = X_train[10000:]\r\n",
        "\r\n",
        "y_valid = y_train[:10000]\r\n",
        "partial_y_train = y_train[10000:]\r\n",
        "\r\n",
        "partial_X_train.shape, partial_y_train.shape, X_valid.shape, y_valid.shape"
      ],
      "execution_count": null,
      "outputs": [
        {
          "output_type": "execute_result",
          "data": {
            "text/plain": [
              "((15000, 10000), (15000,), (10000, 10000), (10000,))"
            ]
          },
          "metadata": {
            "tags": []
          },
          "execution_count": 27
        }
      ]
    },
    {
      "cell_type": "markdown",
      "metadata": {
        "id": "G1RV5V97JrjF"
      },
      "source": [
        "## 3.IMDB Keras Modeling\r\n",
        "### 1)Model Define\r\n",
        "* 모델 신경망 구조 정의\r\n"
      ]
    },
    {
      "cell_type": "code",
      "metadata": {
        "colab": {
          "base_uri": "https://localhost:8080/"
        },
        "id": "tc-biCXcJfex",
        "outputId": "46738100-9767-427a-bca0-6199e7eb3ef9"
      },
      "source": [
        "from keras import models\r\n",
        "from keras import layers\r\n",
        "\r\n",
        "imdb = models.Sequential()\r\n",
        "imdb.add(layers.Dense(16, activation = 'relu', input_shape = (10000,))) \r\n",
        "imdb.add(layers.Dense(16, activation = 'relu')) \r\n",
        "imdb.add(layers.Dense(1, activation = 'sigmoid'))"
      ],
      "execution_count": null,
      "outputs": [
        {
          "output_type": "stream",
          "text": [
            "WARNING:tensorflow:From /tensorflow-1.15.2/python3.7/tensorflow_core/python/ops/resource_variable_ops.py:1630: calling BaseResourceVariable.__init__ (from tensorflow.python.ops.resource_variable_ops) with constraint is deprecated and will be removed in a future version.\n",
            "Instructions for updating:\n",
            "If using Keras pass *_constraint arguments to layers.\n"
          ],
          "name": "stdout"
        }
      ]
    },
    {
      "cell_type": "markdown",
      "metadata": {
        "id": "x_CZ-k25J_k4"
      },
      "source": [
        "* 모델 구조 확인"
      ]
    },
    {
      "cell_type": "code",
      "metadata": {
        "colab": {
          "base_uri": "https://localhost:8080/"
        },
        "id": "Z4Ito8euJ-VC",
        "outputId": "a7d75c7b-2c47-4e36-a159-637baecb9f25"
      },
      "source": [
        "imdb.summary()"
      ],
      "execution_count": null,
      "outputs": [
        {
          "output_type": "stream",
          "text": [
            "Model: \"sequential_1\"\n",
            "_________________________________________________________________\n",
            "Layer (type)                 Output Shape              Param #   \n",
            "=================================================================\n",
            "dense_1 (Dense)              (None, 16)                160016    \n",
            "_________________________________________________________________\n",
            "dense_2 (Dense)              (None, 16)                272       \n",
            "_________________________________________________________________\n",
            "dense_3 (Dense)              (None, 1)                 17        \n",
            "=================================================================\n",
            "Total params: 160,305\n",
            "Trainable params: 160,305\n",
            "Non-trainable params: 0\n",
            "_________________________________________________________________\n"
          ],
          "name": "stdout"
        }
      ]
    },
    {
      "cell_type": "markdown",
      "metadata": {
        "id": "wGRMiG_AKDRi"
      },
      "source": [
        "### 2)Model Compile\r\n",
        "* 모델 학습방법 설정"
      ]
    },
    {
      "cell_type": "code",
      "metadata": {
        "colab": {
          "base_uri": "https://localhost:8080/"
        },
        "id": "Wj1ngwIuKBnC",
        "outputId": "1555e061-d9ca-47ed-f4ff-864e976d6a13"
      },
      "source": [
        "imdb.compile(loss = 'binary_crossentropy',\r\n",
        "             optimizer = 'rmsprop',\r\n",
        "             metrics = ['accuracy'])"
      ],
      "execution_count": null,
      "outputs": [
        {
          "output_type": "stream",
          "text": [
            "WARNING:tensorflow:From /tensorflow-1.15.2/python3.7/tensorflow_core/python/ops/nn_impl.py:183: where (from tensorflow.python.ops.array_ops) is deprecated and will be removed in a future version.\n",
            "Instructions for updating:\n",
            "Use tf.where in 2.0, which has the same broadcast rule as np.where\n"
          ],
          "name": "stdout"
        }
      ]
    },
    {
      "cell_type": "markdown",
      "metadata": {
        "id": "bLb8lHIpKQL7"
      },
      "source": [
        "### 3)Model Fit\r\n",
        "* 약 1분"
      ]
    },
    {
      "cell_type": "code",
      "metadata": {
        "colab": {
          "base_uri": "https://localhost:8080/"
        },
        "id": "Pz6S3IaBKOKa",
        "outputId": "aa0ef559-bc98-4908-e763-bf0c070dfbf1"
      },
      "source": [
        "%%time\r\n",
        "Hist_imdb = imdb.fit(partial_X_train, partial_y_train, \r\n",
        "                     epochs = 50, \r\n",
        "                     batch_size = 512,\r\n",
        "                     validation_data = (X_valid, y_valid))"
      ],
      "execution_count": null,
      "outputs": [
        {
          "output_type": "stream",
          "text": [
            "WARNING:tensorflow:From /tensorflow-1.15.2/python3.7/keras/backend/tensorflow_backend.py:422: The name tf.global_variables is deprecated. Please use tf.compat.v1.global_variables instead.\n",
            "\n",
            "Train on 15000 samples, validate on 10000 samples\n",
            "Epoch 1/50\n",
            "15000/15000 [==============================] - 3s 181us/step - loss: 0.5151 - accuracy: 0.7897 - val_loss: 0.3872 - val_accuracy: 0.8700\n",
            "Epoch 2/50\n",
            "15000/15000 [==============================] - 1s 69us/step - loss: 0.3095 - accuracy: 0.9027 - val_loss: 0.3051 - val_accuracy: 0.8877\n",
            "Epoch 3/50\n",
            "15000/15000 [==============================] - 1s 68us/step - loss: 0.2310 - accuracy: 0.9243 - val_loss: 0.2807 - val_accuracy: 0.8886\n",
            "Epoch 4/50\n",
            "15000/15000 [==============================] - 1s 70us/step - loss: 0.1774 - accuracy: 0.9410 - val_loss: 0.2756 - val_accuracy: 0.8896\n",
            "Epoch 5/50\n",
            "15000/15000 [==============================] - 1s 68us/step - loss: 0.1403 - accuracy: 0.9565 - val_loss: 0.2806 - val_accuracy: 0.8900\n",
            "Epoch 6/50\n",
            "15000/15000 [==============================] - 1s 69us/step - loss: 0.1172 - accuracy: 0.9647 - val_loss: 0.2949 - val_accuracy: 0.8879\n",
            "Epoch 7/50\n",
            "15000/15000 [==============================] - 1s 68us/step - loss: 0.0951 - accuracy: 0.9720 - val_loss: 0.3141 - val_accuracy: 0.8809\n",
            "Epoch 8/50\n",
            "15000/15000 [==============================] - 1s 68us/step - loss: 0.0807 - accuracy: 0.9783 - val_loss: 0.3317 - val_accuracy: 0.8849\n",
            "Epoch 9/50\n",
            "15000/15000 [==============================] - 1s 68us/step - loss: 0.0695 - accuracy: 0.9799 - val_loss: 0.3535 - val_accuracy: 0.8792\n",
            "Epoch 10/50\n",
            "15000/15000 [==============================] - 1s 70us/step - loss: 0.0555 - accuracy: 0.9857 - val_loss: 0.3785 - val_accuracy: 0.8767\n",
            "Epoch 11/50\n",
            "15000/15000 [==============================] - 1s 69us/step - loss: 0.0461 - accuracy: 0.9895 - val_loss: 0.4036 - val_accuracy: 0.8781\n",
            "Epoch 12/50\n",
            "15000/15000 [==============================] - 1s 69us/step - loss: 0.0371 - accuracy: 0.9921 - val_loss: 0.4772 - val_accuracy: 0.8685\n",
            "Epoch 13/50\n",
            "15000/15000 [==============================] - 1s 69us/step - loss: 0.0316 - accuracy: 0.9935 - val_loss: 0.4700 - val_accuracy: 0.8686\n",
            "Epoch 14/50\n",
            "15000/15000 [==============================] - 1s 69us/step - loss: 0.0232 - accuracy: 0.9963 - val_loss: 0.4996 - val_accuracy: 0.8683\n",
            "Epoch 15/50\n",
            "15000/15000 [==============================] - 1s 69us/step - loss: 0.0185 - accuracy: 0.9979 - val_loss: 0.5282 - val_accuracy: 0.8721\n",
            "Epoch 16/50\n",
            "15000/15000 [==============================] - 1s 67us/step - loss: 0.0163 - accuracy: 0.9977 - val_loss: 0.5750 - val_accuracy: 0.8684\n",
            "Epoch 17/50\n",
            "15000/15000 [==============================] - 1s 69us/step - loss: 0.0107 - accuracy: 0.9991 - val_loss: 0.6779 - val_accuracy: 0.8576\n",
            "Epoch 18/50\n",
            "15000/15000 [==============================] - 1s 70us/step - loss: 0.0084 - accuracy: 0.9997 - val_loss: 0.6376 - val_accuracy: 0.8676\n",
            "Epoch 19/50\n",
            "15000/15000 [==============================] - 1s 70us/step - loss: 0.0093 - accuracy: 0.9985 - val_loss: 0.6698 - val_accuracy: 0.8670\n",
            "Epoch 20/50\n",
            "15000/15000 [==============================] - 1s 69us/step - loss: 0.0082 - accuracy: 0.9985 - val_loss: 0.7021 - val_accuracy: 0.8662\n",
            "Epoch 21/50\n",
            "15000/15000 [==============================] - 1s 69us/step - loss: 0.0032 - accuracy: 0.9999 - val_loss: 0.7279 - val_accuracy: 0.8663\n",
            "Epoch 22/50\n",
            "15000/15000 [==============================] - 1s 69us/step - loss: 0.0048 - accuracy: 0.9988 - val_loss: 0.7721 - val_accuracy: 0.8635\n",
            "Epoch 23/50\n",
            "15000/15000 [==============================] - 1s 68us/step - loss: 0.0019 - accuracy: 0.9999 - val_loss: 0.7991 - val_accuracy: 0.8637\n",
            "Epoch 24/50\n",
            "15000/15000 [==============================] - 1s 69us/step - loss: 0.0047 - accuracy: 0.9989 - val_loss: 0.8367 - val_accuracy: 0.8630\n",
            "Epoch 25/50\n",
            "15000/15000 [==============================] - 1s 69us/step - loss: 0.0012 - accuracy: 0.9999 - val_loss: 0.8628 - val_accuracy: 0.8616\n",
            "Epoch 26/50\n",
            "15000/15000 [==============================] - 1s 69us/step - loss: 0.0024 - accuracy: 0.9995 - val_loss: 0.9590 - val_accuracy: 0.8540\n",
            "Epoch 27/50\n",
            "15000/15000 [==============================] - 1s 68us/step - loss: 9.4320e-04 - accuracy: 0.9999 - val_loss: 0.9213 - val_accuracy: 0.8609\n",
            "Epoch 28/50\n",
            "15000/15000 [==============================] - 1s 69us/step - loss: 6.6703e-04 - accuracy: 0.9999 - val_loss: 0.9505 - val_accuracy: 0.8600\n",
            "Epoch 29/50\n",
            "15000/15000 [==============================] - 1s 69us/step - loss: 0.0034 - accuracy: 0.9992 - val_loss: 1.0017 - val_accuracy: 0.8576\n",
            "Epoch 30/50\n",
            "15000/15000 [==============================] - 1s 69us/step - loss: 4.0576e-04 - accuracy: 1.0000 - val_loss: 1.0093 - val_accuracy: 0.8599\n",
            "Epoch 31/50\n",
            "15000/15000 [==============================] - 1s 69us/step - loss: 3.2609e-04 - accuracy: 1.0000 - val_loss: 1.0422 - val_accuracy: 0.8586\n",
            "Epoch 32/50\n",
            "15000/15000 [==============================] - 1s 68us/step - loss: 0.0038 - accuracy: 0.9989 - val_loss: 1.0868 - val_accuracy: 0.8598\n",
            "Epoch 33/50\n",
            "15000/15000 [==============================] - 1s 69us/step - loss: 1.8333e-04 - accuracy: 1.0000 - val_loss: 1.0984 - val_accuracy: 0.8595\n",
            "Epoch 34/50\n",
            "15000/15000 [==============================] - 1s 69us/step - loss: 1.6261e-04 - accuracy: 1.0000 - val_loss: 1.1204 - val_accuracy: 0.8585\n",
            "Epoch 35/50\n",
            "15000/15000 [==============================] - 1s 68us/step - loss: 0.0012 - accuracy: 0.9995 - val_loss: 1.1641 - val_accuracy: 0.8577\n",
            "Epoch 36/50\n",
            "15000/15000 [==============================] - 1s 69us/step - loss: 1.1067e-04 - accuracy: 1.0000 - val_loss: 1.1749 - val_accuracy: 0.8575\n",
            "Epoch 37/50\n",
            "15000/15000 [==============================] - 1s 69us/step - loss: 9.5623e-05 - accuracy: 1.0000 - val_loss: 1.1999 - val_accuracy: 0.8570\n",
            "Epoch 38/50\n",
            "15000/15000 [==============================] - 1s 69us/step - loss: 7.8645e-05 - accuracy: 1.0000 - val_loss: 1.2502 - val_accuracy: 0.8566\n",
            "Epoch 39/50\n",
            "15000/15000 [==============================] - 1s 68us/step - loss: 7.3807e-04 - accuracy: 0.9999 - val_loss: 1.2943 - val_accuracy: 0.8571\n",
            "Epoch 40/50\n",
            "15000/15000 [==============================] - 1s 69us/step - loss: 4.2611e-05 - accuracy: 1.0000 - val_loss: 1.3107 - val_accuracy: 0.8568\n",
            "Epoch 41/50\n",
            "15000/15000 [==============================] - 1s 68us/step - loss: 3.6877e-05 - accuracy: 1.0000 - val_loss: 1.3379 - val_accuracy: 0.8559\n",
            "Epoch 42/50\n",
            "15000/15000 [==============================] - 1s 68us/step - loss: 2.9867e-05 - accuracy: 1.0000 - val_loss: 1.3955 - val_accuracy: 0.8557\n",
            "Epoch 43/50\n",
            "15000/15000 [==============================] - 1s 68us/step - loss: 0.0016 - accuracy: 0.9996 - val_loss: 1.4337 - val_accuracy: 0.8551\n",
            "Epoch 44/50\n",
            "15000/15000 [==============================] - 1s 68us/step - loss: 3.3125e-05 - accuracy: 1.0000 - val_loss: 1.4388 - val_accuracy: 0.8552\n",
            "Epoch 45/50\n",
            "15000/15000 [==============================] - 1s 70us/step - loss: 1.9581e-05 - accuracy: 1.0000 - val_loss: 1.4484 - val_accuracy: 0.8565\n",
            "Epoch 46/50\n",
            "15000/15000 [==============================] - 1s 68us/step - loss: 1.4539e-05 - accuracy: 1.0000 - val_loss: 1.4708 - val_accuracy: 0.8560\n",
            "Epoch 47/50\n",
            "15000/15000 [==============================] - 1s 68us/step - loss: 1.1445e-05 - accuracy: 1.0000 - val_loss: 1.5270 - val_accuracy: 0.8548\n",
            "Epoch 48/50\n",
            "15000/15000 [==============================] - 1s 68us/step - loss: 0.0027 - accuracy: 0.9993 - val_loss: 1.5644 - val_accuracy: 0.8558\n",
            "Epoch 49/50\n",
            "15000/15000 [==============================] - 1s 67us/step - loss: 1.0543e-05 - accuracy: 1.0000 - val_loss: 1.5694 - val_accuracy: 0.8549\n",
            "Epoch 50/50\n",
            "15000/15000 [==============================] - 1s 68us/step - loss: 8.0576e-06 - accuracy: 1.0000 - val_loss: 1.5767 - val_accuracy: 0.8546\n",
            "CPU times: user 54.4 s, sys: 1.45 s, total: 55.8 s\n",
            "Wall time: 1min 1s\n"
          ],
          "name": "stdout"
        }
      ]
    },
    {
      "cell_type": "markdown",
      "metadata": {
        "id": "2sbgQNJBKY9O"
      },
      "source": [
        "### 4)학습 결과 시각화\r\n",
        "* Loss Visualization"
      ]
    },
    {
      "cell_type": "code",
      "metadata": {
        "colab": {
          "base_uri": "https://localhost:8080/",
          "height": 404
        },
        "id": "AY_680fVKXiL",
        "outputId": "bca3afef-a25f-4db2-c42d-471df1ba4550"
      },
      "source": [
        "import matplotlib.pyplot as plt \r\n",
        "\r\n",
        "epochs = range(1, len(Hist_imdb.history['loss']) + 1)\r\n",
        "\r\n",
        "plt.figure(figsize = (9, 6)) \r\n",
        "plt.plot(epochs, Hist_imdb.history['loss']) \r\n",
        "plt.plot(epochs, Hist_imdb.history['val_loss']) \r\n",
        "plt.title('Training & Validation Loss') \r\n",
        "plt.xlabel('Epochs') \r\n",
        "plt.ylabel('Loss') \r\n",
        "plt.legend(['Training Loss', 'Validation Loss']) \r\n",
        "plt.grid() \r\n",
        "plt.show()"
      ],
      "execution_count": null,
      "outputs": [
        {
          "output_type": "display_data",
          "data": {
            "image/png": "[encoded data removed]",
            "text/plain": [
              "<Figure size 648x432 with 1 Axes>"
            ]
          },
          "metadata": {
            "tags": [],
            "needs_background": "light"
          }
        }
      ]
    },
    {
      "cell_type": "markdown",
      "metadata": {
        "id": "S_J9WemFKmfb"
      },
      "source": [
        "* Accuracy Visualization"
      ]
    },
    {
      "cell_type": "code",
      "metadata": {
        "colab": {
          "base_uri": "https://localhost:8080/",
          "height": 404
        },
        "id": "DxwzGvGjKoTV",
        "outputId": "bd6b49d1-9712-4b8a-b65f-94a39b368c98"
      },
      "source": [
        "import matplotlib.pyplot as plt \r\n",
        "\r\n",
        "epochs = range(1, len(Hist_imdb.history['accuracy']) + 1)\r\n",
        "\r\n",
        "plt.figure(figsize = (9, 6)) \r\n",
        "plt.plot(epochs, Hist_imdb.history['accuracy']) \r\n",
        "plt.plot(epochs, Hist_imdb.history['val_accuracy']) \r\n",
        "plt.title('Training & Validation Accuracy') \r\n",
        "plt.xlabel('Epochs') \r\n",
        "plt.ylabel('Accuracy') \r\n",
        "plt.legend(['Training Accuracy', 'Validation Accuracy']) \r\n",
        "plt.grid() \r\n",
        "plt.show()"
      ],
      "execution_count": null,
      "outputs": [
        {
          "output_type": "display_data",
          "data": {
            "image/png": "[encoded data removed]",
            "text/plain": [
              "<Figure size 648x432 with 1 Axes>"
            ]
          },
          "metadata": {
            "tags": [],
            "needs_background": "light"
          }
        }
      ]
    },
    {
      "cell_type": "markdown",
      "metadata": {
        "id": "NMkKJuiQK3V2"
      },
      "source": [
        "### 5) Model Evaluate\r\n",
        "* Loss & Accuracy"
      ]
    },
    {
      "cell_type": "code",
      "metadata": {
        "colab": {
          "base_uri": "https://localhost:8080/"
        },
        "id": "XOGJ5El3K2bQ",
        "outputId": "a8b4f453-b93c-47c2-87e9-359db504333f"
      },
      "source": [
        "loss, accuracy = imdb.evaluate(X_test, y_test)\r\n",
        "\r\n",
        "print('Loss = {:.5f}'.format(loss)) \r\n",
        "print('Accuracy = {:.5f}'.format(accuracy))"
      ],
      "execution_count": null,
      "outputs": [
        {
          "output_type": "stream",
          "text": [
            "25000/25000 [==============================] - 2s 71us/step\n",
            "Loss = 1.72819\n",
            "Accuracy = 0.83996\n"
          ],
          "name": "stdout"
        }
      ]
    },
    {
      "cell_type": "markdown",
      "metadata": {
        "id": "aPNtVekvK_Uy"
      },
      "source": [
        "### 6)Model Predict"
      ]
    },
    {
      "cell_type": "code",
      "metadata": {
        "colab": {
          "base_uri": "https://localhost:8080/"
        },
        "id": "4UC1FI4SK-ZP",
        "outputId": "70d5a8dd-202e-48d4-f8b4-0f71b1436283"
      },
      "source": [
        "imdb.predict_classes(X_test)"
      ],
      "execution_count": null,
      "outputs": [
        {
          "output_type": "execute_result",
          "data": {
            "text/plain": [
              "array([[0],\n",
              "       [1],\n",
              "       [1],\n",
              "       ...,\n",
              "       [0],\n",
              "       [0],\n",
              "       [0]], dtype=int32)"
            ]
          },
          "metadata": {
            "tags": []
          },
          "execution_count": 35
        }
      ]
    },
    {
      "cell_type": "markdown",
      "metadata": {
        "id": "ZWf8mL43LE4U"
      },
      "source": [
        "본 내용은 2021/03/18(목)에 학습한 내용입니다."
      ]
    }
  ]
}
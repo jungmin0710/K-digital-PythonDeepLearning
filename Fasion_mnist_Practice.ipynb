{
  "nbformat": 4,
  "nbformat_minor": 0,
  "metadata": {
    "colab": {
      "name": "Fasion_mnist_Practice.ipynb",
      "provenance": [],
      "collapsed_sections": [],
      "authorship_tag": "ABX9TyMS2oxG8mMyU4/2Mk5tRK0B",
      "include_colab_link": true
    },
    "kernelspec": {
      "name": "python3",
      "display_name": "Python 3"
    },
    "language_info": {
      "name": "python"
    },
    "accelerator": "GPU"
  },
  "cells": [
    {
      "cell_type": "markdown",
      "metadata": {
        "id": "view-in-github",
        "colab_type": "text"
      },
      "source": [
        "<a href=\"https://colab.research.google.com/github/jungmin0710/K-digital-PythonDeepLearning/blob/main/Fasion_mnist_Practice.ipynb\" target=\"_parent\"><img src=\"https://colab.research.google.com/assets/colab-badge.svg\" alt=\"Open In Colab\"/></a>"
      ]
    },
    {
      "cell_type": "markdown",
      "metadata": {
        "id": "paQaXO1qNsTx"
      },
      "source": [
        "# Keras - Fasion MNIST\n",
        "1. Fasion_mnist_작성자이름.ipynb\n",
        "2. Image Data\n",
        "3. Categorical Classification\n",
        "4. Metric -> 'Accuracy', 'Overfitting','Callbacks'\n"
      ]
    },
    {
      "cell_type": "code",
      "metadata": {
        "id": "pG5WTWS4Nmnh"
      },
      "source": [
        "import warnings\n",
        "warnings.filterwarnings('ignore')"
      ],
      "execution_count": 1,
      "outputs": []
    },
    {
      "cell_type": "markdown",
      "metadata": {
        "id": "S6SRD4p7OI7P"
      },
      "source": [
        "## 0.Import Tensorflow & Keras\n",
        "* import Keras"
      ]
    },
    {
      "cell_type": "code",
      "metadata": {
        "colab": {
          "base_uri": "https://localhost:8080/",
          "height": 35
        },
        "id": "E10HzXTZOIWE",
        "outputId": "13ef4fb1-0f12-4a53-d674-ef9f5e790947"
      },
      "source": [
        "import keras\n",
        "\n",
        "keras.__version__"
      ],
      "execution_count": 2,
      "outputs": [
        {
          "output_type": "execute_result",
          "data": {
            "application/vnd.google.colaboratory.intrinsic+json": {
              "type": "string"
            },
            "text/plain": [
              "'2.4.3'"
            ]
          },
          "metadata": {
            "tags": []
          },
          "execution_count": 2
        }
      ]
    },
    {
      "cell_type": "markdown",
      "metadata": {
        "id": "q5-nOB20Oyvd"
      },
      "source": [
        "* import Tensorflow"
      ]
    },
    {
      "cell_type": "code",
      "metadata": {
        "colab": {
          "base_uri": "https://localhost:8080/",
          "height": 35
        },
        "id": "f9RnlK-5OOt_",
        "outputId": "606ca93e-69ac-430c-cefb-c44466adc067"
      },
      "source": [
        "import tensorflow as tf\n",
        "\n",
        "tf.__version__"
      ],
      "execution_count": 3,
      "outputs": [
        {
          "output_type": "execute_result",
          "data": {
            "application/vnd.google.colaboratory.intrinsic+json": {
              "type": "string"
            },
            "text/plain": [
              "'2.4.1'"
            ]
          },
          "metadata": {
            "tags": []
          },
          "execution_count": 3
        }
      ]
    },
    {
      "cell_type": "markdown",
      "metadata": {
        "id": "wNqg6-pwO3aX"
      },
      "source": [
        "* GPU 확인"
      ]
    },
    {
      "cell_type": "code",
      "metadata": {
        "colab": {
          "base_uri": "https://localhost:8080/",
          "height": 35
        },
        "id": "dUTINsTwO04J",
        "outputId": "d5b6f577-875c-42c5-bf2e-b21c39a0b8a1"
      },
      "source": [
        "tf.test.gpu_device_name()"
      ],
      "execution_count": 4,
      "outputs": [
        {
          "output_type": "execute_result",
          "data": {
            "application/vnd.google.colaboratory.intrinsic+json": {
              "type": "string"
            },
            "text/plain": [
              "'/device:GPU:0'"
            ]
          },
          "metadata": {
            "tags": []
          },
          "execution_count": 4
        }
      ]
    },
    {
      "cell_type": "markdown",
      "metadata": {
        "id": "dzThUB2PPAoc"
      },
      "source": [
        "## 1.Fasion MNIST Data_Set Load & Review\n"
      ]
    },
    {
      "cell_type": "markdown",
      "metadata": {
        "id": "tjpoHEzNYzcC"
      },
      "source": [
        "\n",
        "### 1)Load Fasion MNIST Data_Set"
      ]
    },
    {
      "cell_type": "code",
      "metadata": {
        "id": "Ou6bXRLFO4c1"
      },
      "source": [
        "from keras.datasets import fashion_mnist\n",
        "\n",
        "(X_train, y_train), (X_test, y_test) = fashion_mnist.load_data()"
      ],
      "execution_count": 5,
      "outputs": []
    },
    {
      "cell_type": "markdown",
      "metadata": {
        "id": "bcD19SmePTYV"
      },
      "source": [
        "* Train_Data Information"
      ]
    },
    {
      "cell_type": "code",
      "metadata": {
        "colab": {
          "base_uri": "https://localhost:8080/"
        },
        "id": "QAuQRZ_xPRVl",
        "outputId": "667b50c0-0bf5-45e5-a0a3-531ed24b1a79"
      },
      "source": [
        "print(len(X_train))\n",
        "print(X_train.shape)\n",
        "\n",
        "print(len(y_train))\n",
        "print(y_train[0:5])"
      ],
      "execution_count": 6,
      "outputs": [
        {
          "output_type": "stream",
          "text": [
            "60000\n",
            "(60000, 28, 28)\n",
            "60000\n",
            "[9 0 0 3 0]\n"
          ],
          "name": "stdout"
        }
      ]
    },
    {
      "cell_type": "markdown",
      "metadata": {
        "id": "-OFHQK03PdKJ"
      },
      "source": [
        "* Test_Data Information"
      ]
    },
    {
      "cell_type": "code",
      "metadata": {
        "colab": {
          "base_uri": "https://localhost:8080/"
        },
        "id": "DiIDZADCPcge",
        "outputId": "b2914e7e-6cd6-43be-e84e-14a0f720c852"
      },
      "source": [
        "print(len(X_test))\n",
        "print(X_test.shape)\n",
        "\n",
        "print(len(y_test))\n",
        "print(y_test[0:5])"
      ],
      "execution_count": 7,
      "outputs": [
        {
          "output_type": "stream",
          "text": [
            "10000\n",
            "(10000, 28, 28)\n",
            "10000\n",
            "[9 2 1 1 6]\n"
          ],
          "name": "stdout"
        }
      ]
    },
    {
      "cell_type": "markdown",
      "metadata": {
        "id": "74frBYXSPnpu"
      },
      "source": [
        "### 2)Visualization"
      ]
    },
    {
      "cell_type": "code",
      "metadata": {
        "colab": {
          "base_uri": "https://localhost:8080/",
          "height": 265
        },
        "id": "0Lqaj1m4PkYl",
        "outputId": "d387182d-1c88-40e5-d691-3b305e50098f"
      },
      "source": [
        "import matplotlib.pyplot as plt\n",
        "\n",
        "# 어떤 이미지인지 확인하기(흑백)\n",
        "digit = X_train[0]\n",
        "plt.imshow(digit, cmap = 'gray')\n",
        "plt.show()"
      ],
      "execution_count": 8,
      "outputs": [
        {
          "output_type": "display_data",
          "data": {
            "image/png": "[encoded data removed]",
            "text/plain": [
              "<Figure size 432x288 with 1 Axes>"
            ]
          },
          "metadata": {
            "tags": [],
            "needs_background": "light"
          }
        }
      ]
    },
    {
      "cell_type": "code",
      "metadata": {
        "colab": {
          "base_uri": "https://localhost:8080/"
        },
        "id": "tYebP22lPwFl",
        "outputId": "083c84c8-2896-4094-f660-f4a731e88124"
      },
      "source": [
        "import numpy as np\n",
        "\n",
        "# 2차원 행렬로 확인하기\n",
        "np.set_printoptions(linewidth = 150)\n",
        "\n",
        "print(X_train[0])"
      ],
      "execution_count": 9,
      "outputs": [
        {
          "output_type": "stream",
          "text": [
            "[[  0   0   0   0   0   0   0   0   0   0   0   0   0   0   0   0   0   0   0   0   0   0   0   0   0   0   0   0]\n",
            " [  0   0   0   0   0   0   0   0   0   0   0   0   0   0   0   0   0   0   0   0   0   0   0   0   0   0   0   0]\n",
            " [  0   0   0   0   0   0   0   0   0   0   0   0   0   0   0   0   0   0   0   0   0   0   0   0   0   0   0   0]\n",
            " [  0   0   0   0   0   0   0   0   0   0   0   0   1   0   0  13  73   0   0   1   4   0   0   0   0   1   1   0]\n",
            " [  0   0   0   0   0   0   0   0   0   0   0   0   3   0  36 136 127  62  54   0   0   0   1   3   4   0   0   3]\n",
            " [  0   0   0   0   0   0   0   0   0   0   0   0   6   0 102 204 176 134 144 123  23   0   0   0   0  12  10   0]\n",
            " [  0   0   0   0   0   0   0   0   0   0   0   0   0   0 155 236 207 178 107 156 161 109  64  23  77 130  72  15]\n",
            " [  0   0   0   0   0   0   0   0   0   0   0   1   0  69 207 223 218 216 216 163 127 121 122 146 141  88 172  66]\n",
            " [  0   0   0   0   0   0   0   0   0   1   1   1   0 200 232 232 233 229 223 223 215 213 164 127 123 196 229   0]\n",
            " [  0   0   0   0   0   0   0   0   0   0   0   0   0 183 225 216 223 228 235 227 224 222 224 221 223 245 173   0]\n",
            " [  0   0   0   0   0   0   0   0   0   0   0   0   0 193 228 218 213 198 180 212 210 211 213 223 220 243 202   0]\n",
            " [  0   0   0   0   0   0   0   0   0   1   3   0  12 219 220 212 218 192 169 227 208 218 224 212 226 197 209  52]\n",
            " [  0   0   0   0   0   0   0   0   0   0   6   0  99 244 222 220 218 203 198 221 215 213 222 220 245 119 167  56]\n",
            " [  0   0   0   0   0   0   0   0   0   4   0   0  55 236 228 230 228 240 232 213 218 223 234 217 217 209  92   0]\n",
            " [  0   0   1   4   6   7   2   0   0   0   0   0 237 226 217 223 222 219 222 221 216 223 229 215 218 255  77   0]\n",
            " [  0   3   0   0   0   0   0   0   0  62 145 204 228 207 213 221 218 208 211 218 224 223 219 215 224 244 159   0]\n",
            " [  0   0   0   0  18  44  82 107 189 228 220 222 217 226 200 205 211 230 224 234 176 188 250 248 233 238 215   0]\n",
            " [  0  57 187 208 224 221 224 208 204 214 208 209 200 159 245 193 206 223 255 255 221 234 221 211 220 232 246   0]\n",
            " [  3 202 228 224 221 211 211 214 205 205 205 220 240  80 150 255 229 221 188 154 191 210 204 209 222 228 225   0]\n",
            " [ 98 233 198 210 222 229 229 234 249 220 194 215 217 241  65  73 106 117 168 219 221 215 217 223 223 224 229  29]\n",
            " [ 75 204 212 204 193 205 211 225 216 185 197 206 198 213 240 195 227 245 239 223 218 212 209 222 220 221 230  67]\n",
            " [ 48 203 183 194 213 197 185 190 194 192 202 214 219 221 220 236 225 216 199 206 186 181 177 172 181 205 206 115]\n",
            " [  0 122 219 193 179 171 183 196 204 210 213 207 211 210 200 196 194 191 195 191 198 192 176 156 167 177 210  92]\n",
            " [  0   0  74 189 212 191 175 172 175 181 185 188 189 188 193 198 204 209 210 210 211 188 188 194 192 216 170   0]\n",
            " [  2   0   0   0  66 200 222 237 239 242 246 243 244 221 220 193 191 179 182 182 181 176 166 168  99  58   0   0]\n",
            " [  0   0   0   0   0   0   0  40  61  44  72  41  35   0   0   0   0   0   0   0   0   0   0   0   0   0   0   0]\n",
            " [  0   0   0   0   0   0   0   0   0   0   0   0   0   0   0   0   0   0   0   0   0   0   0   0   0   0   0   0]\n",
            " [  0   0   0   0   0   0   0   0   0   0   0   0   0   0   0   0   0   0   0   0   0   0   0   0   0   0   0   0]]\n"
          ],
          "name": "stdout"
        }
      ]
    },
    {
      "cell_type": "markdown",
      "metadata": {
        "id": "JuVjntXrQLq0"
      },
      "source": [
        "## 2.Data Preprocessing\n"
      ]
    },
    {
      "cell_type": "markdown",
      "metadata": {
        "id": "mE9sHF8fY4Tn"
      },
      "source": [
        "### 1)Reshape and Normalization\n",
        "* reshape"
      ]
    },
    {
      "cell_type": "code",
      "metadata": {
        "colab": {
          "base_uri": "https://localhost:8080/"
        },
        "id": "q8SXXfwqP-ct",
        "outputId": "26a9ed06-13a3-428b-da24-6a84bd96a8ed"
      },
      "source": [
        "#3차원으로 구성된 데이터를 한줄로 쭉 펼쳐 2차원 형태로 만든다(가로로 길게 잘라 옆에붙인다)\n",
        "X_train = X_train.reshape((60000, 28 * 28))\n",
        "X_test = X_test.reshape((10000, 28 * 28))\n",
        "\n",
        "X_train.shape, X_test.shape"
      ],
      "execution_count": 10,
      "outputs": [
        {
          "output_type": "execute_result",
          "data": {
            "text/plain": [
              "((60000, 784), (10000, 784))"
            ]
          },
          "metadata": {
            "tags": []
          },
          "execution_count": 10
        }
      ]
    },
    {
      "cell_type": "markdown",
      "metadata": {
        "id": "ORB7BhuDQ1T1"
      },
      "source": [
        "* Normaliztion"
      ]
    },
    {
      "cell_type": "code",
      "metadata": {
        "colab": {
          "base_uri": "https://localhost:8080/"
        },
        "id": "LTmpimrvQz0-",
        "outputId": "f19d30ea-e9e0-41dc-ccba-8e7633a49f69"
      },
      "source": [
        "# model에 집어넣기 위해 데이터를 실수화 한 후 정규화시킨다\n",
        "X_train = X_train.astype(float) / 255\n",
        "X_test = X_test.astype(float) / 255\n",
        "\n",
        "print(X_train[2])"
      ],
      "execution_count": 11,
      "outputs": [
        {
          "output_type": "stream",
          "text": [
            "[0.         0.         0.         0.         0.         0.         0.         0.         0.         0.08627451 0.4627451  0.09411765 0.\n",
            " 0.         0.         0.         0.         0.18823529 0.34509804 0.01960784 0.         0.         0.         0.         0.         0.\n",
            " 0.         0.         0.         0.         0.         0.         0.         0.         0.         0.         0.04705882 0.39215686 0.83137255\n",
            " 0.80392157 0.7254902  0.70196078 0.67843137 0.72941176 0.75686275 0.86666667 0.55686275 0.33333333 0.         0.         0.         0.\n",
            " 0.         0.         0.         0.         0.         0.         0.         0.         0.         0.         0.         0.         0.\n",
            " 0.33333333 0.29803922 0.78039216 0.88235294 0.97254902 1.         0.93333333 0.88627451 0.61568627 0.26666667 0.31372549 0.         0.\n",
            " 0.         0.         0.         0.         0.         0.         0.         0.         0.         0.         0.         0.         0.\n",
            " 0.         0.         0.35686275 0.27058824 0.35686275 0.78823529 0.85490196 0.88235294 0.81960784 0.61960784 0.23921569 0.36470588 0.28235294\n",
            " 0.         0.         0.         0.         0.         0.         0.         0.         0.         0.         0.         0.         0.\n",
            " 0.         0.         0.         0.         0.30980392 0.34901961 0.23921569 0.23137255 0.34117647 0.42352941 0.29411765 0.21960784 0.29803922\n",
            " 0.38039216 0.28627451 0.         0.         0.         0.         0.         0.         0.         0.         0.         0.         0.\n",
            " 0.         0.         0.         0.         0.         0.         0.29411765 0.34901961 0.31372549 0.31372549 0.2627451  0.24705882 0.28627451\n",
            " 0.3254902  0.31372549 0.37647059 0.28235294 0.         0.         0.         0.         0.         0.         0.         0.         0.\n",
            " 0.         0.         0.         0.         0.         0.         0.         0.         0.30196078 0.34509804 0.30196078 0.31372549 0.3254902\n",
            " 0.3254902  0.3254902  0.3254902  0.31764706 0.37254902 0.29803922 0.         0.         0.         0.         0.         0.         0.\n",
            " 0.         0.         0.         0.         0.         0.         0.         0.         0.         0.         0.34901961 0.37647059 0.31372549\n",
            " 0.3254902  0.31764706 0.32941176 0.33333333 0.33333333 0.33333333 0.38039216 0.32941176 0.         0.         0.         0.         0.\n",
            " 0.         0.         0.         0.         0.         0.         0.         0.         0.         0.         0.         0.         0.36470588\n",
            " 0.38039216 0.31764706 0.33333333 0.32941176 0.33333333 0.34117647 0.34509804 0.32941176 0.38823529 0.34117647 0.         0.         0.\n",
            " 0.         0.         0.         0.         0.         0.         0.         0.         0.         0.         0.         0.         0.\n",
            " 0.         0.37254902 0.34117647 0.32941176 0.34117647 0.34509804 0.33333333 0.34117647 0.34117647 0.32941176 0.36078431 0.34117647 0.\n",
            " 0.         0.         0.         0.         0.         0.         0.         0.         0.         0.         0.         0.         0.\n",
            " 0.         0.         0.         0.38039216 0.34117647 0.34117647 0.33333333 0.34509804 0.34117647 0.34117647 0.34117647 0.34509804 0.33333333\n",
            " 0.41960784 0.         0.         0.         0.         0.         0.         0.         0.         0.         0.         0.         0.\n",
            " 0.         0.         0.         0.         0.06666667 0.39215686 0.34509804 0.34117647 0.34117647 0.34509804 0.34117647 0.34117647 0.33333333\n",
            " 0.34901961 0.30196078 0.4627451  0.03137255 0.         0.         0.         0.         0.         0.         0.         0.         0.\n",
            " 0.         0.         0.         0.         0.         0.         0.03921569 0.36470588 0.34117647 0.34117647 0.34117647 0.34117647 0.34117647\n",
            " 0.34509804 0.34117647 0.34901961 0.31372549 0.40392157 0.         0.         0.         0.         0.         0.         0.         0.\n",
            " 0.         0.         0.         0.         0.         0.         0.         0.         0.03529412 0.37647059 0.34117647 0.34117647 0.34117647\n",
            " 0.34117647 0.34117647 0.34509804 0.34117647 0.34509804 0.34117647 0.40392157 0.         0.         0.         0.         0.         0.\n",
            " 0.         0.         0.         0.         0.         0.         0.         0.         0.         0.         0.04705882 0.37647059 0.33333333\n",
            " 0.34117647 0.34117647 0.34117647 0.33333333 0.34117647 0.34117647 0.34509804 0.34901961 0.39215686 0.00784314 0.         0.         0.\n",
            " 0.         0.         0.         0.         0.         0.         0.         0.         0.         0.         0.         0.         0.07843137\n",
            " 0.37254902 0.32941176 0.34509804 0.33333333 0.34117647 0.34509804 0.34509804 0.34509804 0.34901961 0.34509804 0.38823529 0.03137255 0.\n",
            " 0.         0.         0.         0.         0.         0.         0.         0.         0.         0.         0.         0.         0.\n",
            " 0.         0.08235294 0.37647059 0.33333333 0.34117647 0.33333333 0.34509804 0.34509804 0.34509804 0.34509804 0.34901961 0.34901961 0.38823529\n",
            " 0.03921569 0.         0.         0.         0.         0.         0.         0.         0.         0.         0.         0.         0.\n",
            " 0.         0.         0.         0.09411765 0.37647059 0.33333333 0.34117647 0.33333333 0.34117647 0.34509804 0.34509804 0.34901961 0.34509804\n",
            " 0.35686275 0.4        0.05490196 0.         0.         0.         0.         0.         0.         0.         0.         0.         0.\n",
            " 0.         0.         0.         0.         0.         0.09803922 0.36470588 0.32941176 0.34509804 0.34117647 0.34117647 0.34117647 0.34117647\n",
            " 0.34117647 0.34901961 0.35686275 0.40392157 0.11372549 0.         0.         0.         0.         0.         0.         0.         0.\n",
            " 0.         0.         0.         0.         0.         0.         0.         0.11764706 0.37254902 0.33333333 0.34509804 0.34509804 0.34117647\n",
            " 0.34117647 0.34117647 0.34117647 0.34901961 0.34509804 0.4        0.14509804 0.         0.         0.         0.         0.         0.\n",
            " 0.         0.         0.         0.         0.         0.         0.         0.         0.         0.13333333 0.37647059 0.34509804 0.34117647\n",
            " 0.34117647 0.34117647 0.34117647 0.34117647 0.34117647 0.33333333 0.33333333 0.38039216 0.14901961 0.         0.         0.         0.\n",
            " 0.         0.         0.         0.         0.         0.         0.         0.         0.         0.         0.         0.15686275 0.37647059\n",
            " 0.34117647 0.33333333 0.34117647 0.34117647 0.34117647 0.34117647 0.34117647 0.33333333 0.32941176 0.36078431 0.19215686 0.         0.\n",
            " 0.         0.         0.         0.         0.         0.         0.         0.         0.         0.         0.         0.         0.\n",
            " 0.18039216 0.37254902 0.3254902  0.32941176 0.34117647 0.34117647 0.34117647 0.34117647 0.34117647 0.34117647 0.32941176 0.34117647 0.32941176\n",
            " 0.         0.         0.         0.         0.         0.         0.         0.         0.         0.         0.         0.         0.\n",
            " 0.         0.         0.28235294 0.37254902 0.33333333 0.32941176 0.33333333 0.34509804 0.34117647 0.34117647 0.34901961 0.34117647 0.33333333\n",
            " 0.3254902  0.24705882 0.         0.         0.         0.         0.         0.         0.         0.         0.         0.         0.\n",
            " 0.         0.         0.         0.         0.25098039 0.39215686 0.32941176 0.34117647 0.34509804 0.33333333 0.34509804 0.34509804 0.32941176\n",
            " 0.34117647 0.3254902  0.37254902 0.20784314 0.         0.         0.         0.         0.         0.         0.         0.         0.\n",
            " 0.         0.         0.         0.         0.         0.         0.03921569 0.4        0.39215686 0.35686275 0.35686275 0.34901961 0.33333333\n",
            " 0.32941176 0.32941176 0.34117647 0.42352941 0.41568627 0.05490196 0.         0.         0.         0.         0.         0.         0.\n",
            " 0.         0.         0.         0.         0.         0.         0.         0.         0.         0.03137255 0.28627451 0.36470588 0.40784314\n",
            " 0.41960784 0.40392157 0.40392157 0.41568627 0.4        0.29411765 0.03921569 0.         0.         0.         0.         0.         0.\n",
            " 0.         0.         0.         0.         0.         0.         0.         0.         0.         0.         0.00392157 0.         0.\n",
            " 0.         0.07058824 0.16470588 0.22352941 0.21960784 0.1254902  0.03137255 0.         0.         0.00392157 0.         0.         0.\n",
            " 0.         0.         0.         0.        ]\n"
          ],
          "name": "stdout"
        }
      ]
    },
    {
      "cell_type": "markdown",
      "metadata": {
        "id": "11zXwzXdRLbe"
      },
      "source": [
        "### 2)One Hot Encoding"
      ]
    },
    {
      "cell_type": "code",
      "metadata": {
        "colab": {
          "base_uri": "https://localhost:8080/"
        },
        "id": "znxqbytiRHM5",
        "outputId": "a95c6ff3-597e-415d-d275-8afae005f087"
      },
      "source": [
        "from keras.utils import to_categorical\n",
        "\n",
        "#결과값을 인코딩한 후 실수형으로 만든다(1.값이 존재하는 인덱스가 실제 y값에 해당)\n",
        "y_train = to_categorical(y_train)\n",
        "y_test = to_categorical(y_test)\n",
        "\n",
        "print(y_train[:5])"
      ],
      "execution_count": 12,
      "outputs": [
        {
          "output_type": "stream",
          "text": [
            "[[0. 0. 0. 0. 0. 0. 0. 0. 0. 1.]\n",
            " [1. 0. 0. 0. 0. 0. 0. 0. 0. 0.]\n",
            " [1. 0. 0. 0. 0. 0. 0. 0. 0. 0.]\n",
            " [0. 0. 0. 1. 0. 0. 0. 0. 0. 0.]\n",
            " [1. 0. 0. 0. 0. 0. 0. 0. 0. 0.]]\n"
          ],
          "name": "stdout"
        }
      ]
    },
    {
      "cell_type": "markdown",
      "metadata": {
        "id": "Mt5NFg9bRhSy"
      },
      "source": [
        "## 3.MNIST Keras Modeling\n"
      ]
    },
    {
      "cell_type": "markdown",
      "metadata": {
        "id": "Bzt7os0IY7g1"
      },
      "source": [
        "### 1)Model Define"
      ]
    },
    {
      "cell_type": "code",
      "metadata": {
        "id": "0wvXXCP7RalV"
      },
      "source": [
        "from keras import models\n",
        "from keras import layers\n",
        "\n",
        "mnist = models.Sequential()\n",
        "mnist.add(layers.Dense(512, activation = 'relu', input_shape = (28 * 28,)))\n",
        "mnist.add(layers.Dense(256, activation = 'relu'))\n",
        "mnist.add(layers.Dense(10, activation = 'softmax'))  #다중분류에는 softmax / 이중분류는 sigmoid"
      ],
      "execution_count": 13,
      "outputs": []
    },
    {
      "cell_type": "code",
      "metadata": {
        "colab": {
          "base_uri": "https://localhost:8080/"
        },
        "id": "M7-XCjLASX9e",
        "outputId": "dbd0261f-9408-4e3e-dba3-5dfba1373ff9"
      },
      "source": [
        "mnist.summary()"
      ],
      "execution_count": 14,
      "outputs": [
        {
          "output_type": "stream",
          "text": [
            "Model: \"sequential\"\n",
            "_________________________________________________________________\n",
            "Layer (type)                 Output Shape              Param #   \n",
            "=================================================================\n",
            "dense (Dense)                (None, 512)               401920    \n",
            "_________________________________________________________________\n",
            "dense_1 (Dense)              (None, 256)               131328    \n",
            "_________________________________________________________________\n",
            "dense_2 (Dense)              (None, 10)                2570      \n",
            "=================================================================\n",
            "Total params: 535,818\n",
            "Trainable params: 535,818\n",
            "Non-trainable params: 0\n",
            "_________________________________________________________________\n"
          ],
          "name": "stdout"
        }
      ]
    },
    {
      "cell_type": "markdown",
      "metadata": {
        "id": "Or6nFMnCSd1_"
      },
      "source": [
        "### 2)Model Compile"
      ]
    },
    {
      "cell_type": "code",
      "metadata": {
        "id": "8d4TE-v3SZ5x"
      },
      "source": [
        "mnist.compile(loss = 'categorical_crossentropy', #다중분류모델\n",
        "              optimizer = 'rmsprop',\n",
        "              metrics = ['accuracy'])"
      ],
      "execution_count": 15,
      "outputs": []
    },
    {
      "cell_type": "markdown",
      "metadata": {
        "id": "1cwH4DTgSoRK"
      },
      "source": [
        "### 3)Model Fit"
      ]
    },
    {
      "cell_type": "code",
      "metadata": {
        "colab": {
          "base_uri": "https://localhost:8080/"
        },
        "id": "LGmDlftFSm8P",
        "outputId": "859d5f06-79ef-4645-8858-9a4855f53f1d"
      },
      "source": [
        "%%time\n",
        "\n",
        "Hist_mnist = mnist.fit(X_train, y_train,\n",
        "                       epochs = 100,\n",
        "                       batch_size = 128,\n",
        "                       validation_split = 0.2)"
      ],
      "execution_count": 16,
      "outputs": [
        {
          "output_type": "stream",
          "text": [
            "Epoch 1/100\n",
            "375/375 [==============================] - 3s 4ms/step - loss: 0.7794 - accuracy: 0.7239 - val_loss: 0.3989 - val_accuracy: 0.8545\n",
            "Epoch 2/100\n",
            "375/375 [==============================] - 1s 3ms/step - loss: 0.4005 - accuracy: 0.8500 - val_loss: 0.3937 - val_accuracy: 0.8574\n",
            "Epoch 3/100\n",
            "375/375 [==============================] - 1s 3ms/step - loss: 0.3408 - accuracy: 0.8746 - val_loss: 0.3309 - val_accuracy: 0.8831\n",
            "Epoch 4/100\n",
            "375/375 [==============================] - 1s 3ms/step - loss: 0.3101 - accuracy: 0.8833 - val_loss: 0.3732 - val_accuracy: 0.8739\n",
            "Epoch 5/100\n",
            "375/375 [==============================] - 1s 3ms/step - loss: 0.2915 - accuracy: 0.8926 - val_loss: 0.3299 - val_accuracy: 0.8840\n",
            "Epoch 6/100\n",
            "375/375 [==============================] - 1s 3ms/step - loss: 0.2763 - accuracy: 0.8966 - val_loss: 0.3356 - val_accuracy: 0.8830\n",
            "Epoch 7/100\n",
            "375/375 [==============================] - 1s 3ms/step - loss: 0.2668 - accuracy: 0.9014 - val_loss: 0.3425 - val_accuracy: 0.8848\n",
            "Epoch 8/100\n",
            "375/375 [==============================] - 1s 3ms/step - loss: 0.2509 - accuracy: 0.9059 - val_loss: 0.3173 - val_accuracy: 0.8942\n",
            "Epoch 9/100\n",
            "375/375 [==============================] - 1s 3ms/step - loss: 0.2372 - accuracy: 0.9096 - val_loss: 0.3314 - val_accuracy: 0.8916\n",
            "Epoch 10/100\n",
            "375/375 [==============================] - 1s 3ms/step - loss: 0.2337 - accuracy: 0.9139 - val_loss: 0.3713 - val_accuracy: 0.8920\n",
            "Epoch 11/100\n",
            "375/375 [==============================] - 1s 3ms/step - loss: 0.2308 - accuracy: 0.9136 - val_loss: 0.3543 - val_accuracy: 0.8858\n",
            "Epoch 12/100\n",
            "375/375 [==============================] - 1s 3ms/step - loss: 0.2210 - accuracy: 0.9177 - val_loss: 0.3713 - val_accuracy: 0.8893\n",
            "Epoch 13/100\n",
            "375/375 [==============================] - 1s 3ms/step - loss: 0.2151 - accuracy: 0.9200 - val_loss: 0.3632 - val_accuracy: 0.8928\n",
            "Epoch 14/100\n",
            "375/375 [==============================] - 1s 3ms/step - loss: 0.2086 - accuracy: 0.9210 - val_loss: 0.4099 - val_accuracy: 0.8877\n",
            "Epoch 15/100\n",
            "375/375 [==============================] - 1s 3ms/step - loss: 0.2010 - accuracy: 0.9247 - val_loss: 0.4085 - val_accuracy: 0.8901\n",
            "Epoch 16/100\n",
            "375/375 [==============================] - 1s 3ms/step - loss: 0.1920 - accuracy: 0.9269 - val_loss: 0.4201 - val_accuracy: 0.8873\n",
            "Epoch 17/100\n",
            "375/375 [==============================] - 1s 3ms/step - loss: 0.1931 - accuracy: 0.9272 - val_loss: 0.5387 - val_accuracy: 0.8809\n",
            "Epoch 18/100\n",
            "375/375 [==============================] - 1s 3ms/step - loss: 0.1913 - accuracy: 0.9290 - val_loss: 0.4665 - val_accuracy: 0.8817\n",
            "Epoch 19/100\n",
            "375/375 [==============================] - 1s 3ms/step - loss: 0.1840 - accuracy: 0.9324 - val_loss: 0.5210 - val_accuracy: 0.8888\n",
            "Epoch 20/100\n",
            "375/375 [==============================] - 1s 3ms/step - loss: 0.1836 - accuracy: 0.9323 - val_loss: 0.4620 - val_accuracy: 0.8822\n",
            "Epoch 21/100\n",
            "375/375 [==============================] - 1s 3ms/step - loss: 0.1800 - accuracy: 0.9328 - val_loss: 0.4607 - val_accuracy: 0.8910\n",
            "Epoch 22/100\n",
            "375/375 [==============================] - 1s 3ms/step - loss: 0.1769 - accuracy: 0.9360 - val_loss: 0.4563 - val_accuracy: 0.8936\n",
            "Epoch 23/100\n",
            "375/375 [==============================] - 1s 3ms/step - loss: 0.1732 - accuracy: 0.9355 - val_loss: 0.4780 - val_accuracy: 0.8918\n",
            "Epoch 24/100\n",
            "375/375 [==============================] - 1s 3ms/step - loss: 0.1656 - accuracy: 0.9387 - val_loss: 0.4860 - val_accuracy: 0.8893\n",
            "Epoch 25/100\n",
            "375/375 [==============================] - 1s 3ms/step - loss: 0.1659 - accuracy: 0.9383 - val_loss: 0.5246 - val_accuracy: 0.8918\n",
            "Epoch 26/100\n",
            "375/375 [==============================] - 1s 3ms/step - loss: 0.1672 - accuracy: 0.9385 - val_loss: 0.4907 - val_accuracy: 0.8983\n",
            "Epoch 27/100\n",
            "375/375 [==============================] - 1s 3ms/step - loss: 0.1609 - accuracy: 0.9409 - val_loss: 0.6040 - val_accuracy: 0.8747\n",
            "Epoch 28/100\n",
            "375/375 [==============================] - 1s 3ms/step - loss: 0.1550 - accuracy: 0.9423 - val_loss: 0.5024 - val_accuracy: 0.8972\n",
            "Epoch 29/100\n",
            "375/375 [==============================] - 1s 3ms/step - loss: 0.1514 - accuracy: 0.9445 - val_loss: 0.5295 - val_accuracy: 0.8949\n",
            "Epoch 30/100\n",
            "375/375 [==============================] - 1s 3ms/step - loss: 0.1501 - accuracy: 0.9441 - val_loss: 0.7023 - val_accuracy: 0.8725\n",
            "Epoch 31/100\n",
            "375/375 [==============================] - 1s 3ms/step - loss: 0.1555 - accuracy: 0.9444 - val_loss: 0.7108 - val_accuracy: 0.8889\n",
            "Epoch 32/100\n",
            "375/375 [==============================] - 1s 3ms/step - loss: 0.1565 - accuracy: 0.9458 - val_loss: 0.5654 - val_accuracy: 0.8946\n",
            "Epoch 33/100\n",
            "375/375 [==============================] - 1s 3ms/step - loss: 0.1445 - accuracy: 0.9470 - val_loss: 0.5643 - val_accuracy: 0.8955\n",
            "Epoch 34/100\n",
            "375/375 [==============================] - 1s 3ms/step - loss: 0.1475 - accuracy: 0.9465 - val_loss: 0.6228 - val_accuracy: 0.8922\n",
            "Epoch 35/100\n",
            "375/375 [==============================] - 1s 3ms/step - loss: 0.1428 - accuracy: 0.9488 - val_loss: 0.5817 - val_accuracy: 0.8923\n",
            "Epoch 36/100\n",
            "375/375 [==============================] - 1s 3ms/step - loss: 0.1435 - accuracy: 0.9486 - val_loss: 0.6143 - val_accuracy: 0.8890\n",
            "Epoch 37/100\n",
            "375/375 [==============================] - 1s 3ms/step - loss: 0.1367 - accuracy: 0.9499 - val_loss: 0.6056 - val_accuracy: 0.8982\n",
            "Epoch 38/100\n",
            "375/375 [==============================] - 1s 3ms/step - loss: 0.1395 - accuracy: 0.9503 - val_loss: 0.7691 - val_accuracy: 0.8847\n",
            "Epoch 39/100\n",
            "375/375 [==============================] - 1s 3ms/step - loss: 0.1406 - accuracy: 0.9515 - val_loss: 0.6502 - val_accuracy: 0.8910\n",
            "Epoch 40/100\n",
            "375/375 [==============================] - 1s 3ms/step - loss: 0.1405 - accuracy: 0.9516 - val_loss: 0.6451 - val_accuracy: 0.8932\n",
            "Epoch 41/100\n",
            "375/375 [==============================] - 1s 3ms/step - loss: 0.1244 - accuracy: 0.9540 - val_loss: 0.6743 - val_accuracy: 0.8923\n",
            "Epoch 42/100\n",
            "375/375 [==============================] - 1s 3ms/step - loss: 0.1362 - accuracy: 0.9529 - val_loss: 0.6888 - val_accuracy: 0.8900\n",
            "Epoch 43/100\n",
            "375/375 [==============================] - 1s 3ms/step - loss: 0.1358 - accuracy: 0.9529 - val_loss: 0.6910 - val_accuracy: 0.8941\n",
            "Epoch 44/100\n",
            "375/375 [==============================] - 1s 3ms/step - loss: 0.1268 - accuracy: 0.9548 - val_loss: 0.8146 - val_accuracy: 0.8868\n",
            "Epoch 45/100\n",
            "375/375 [==============================] - 1s 3ms/step - loss: 0.1229 - accuracy: 0.9566 - val_loss: 0.8016 - val_accuracy: 0.8876\n",
            "Epoch 46/100\n",
            "375/375 [==============================] - 1s 3ms/step - loss: 0.1290 - accuracy: 0.9543 - val_loss: 0.7975 - val_accuracy: 0.8898\n",
            "Epoch 47/100\n",
            "375/375 [==============================] - 1s 3ms/step - loss: 0.1225 - accuracy: 0.9569 - val_loss: 0.7739 - val_accuracy: 0.8923\n",
            "Epoch 48/100\n",
            "375/375 [==============================] - 1s 3ms/step - loss: 0.1228 - accuracy: 0.9566 - val_loss: 0.7727 - val_accuracy: 0.8917\n",
            "Epoch 49/100\n",
            "375/375 [==============================] - 1s 3ms/step - loss: 0.1145 - accuracy: 0.9580 - val_loss: 0.7800 - val_accuracy: 0.8936\n",
            "Epoch 50/100\n",
            "375/375 [==============================] - 1s 3ms/step - loss: 0.1129 - accuracy: 0.9599 - val_loss: 0.7646 - val_accuracy: 0.8932\n",
            "Epoch 51/100\n",
            "375/375 [==============================] - 1s 3ms/step - loss: 0.1129 - accuracy: 0.9604 - val_loss: 0.8240 - val_accuracy: 0.8936\n",
            "Epoch 52/100\n",
            "375/375 [==============================] - 1s 3ms/step - loss: 0.1222 - accuracy: 0.9584 - val_loss: 0.8029 - val_accuracy: 0.8917\n",
            "Epoch 53/100\n",
            "375/375 [==============================] - 1s 3ms/step - loss: 0.1168 - accuracy: 0.9592 - val_loss: 0.9621 - val_accuracy: 0.8847\n",
            "Epoch 54/100\n",
            "375/375 [==============================] - 1s 3ms/step - loss: 0.1128 - accuracy: 0.9594 - val_loss: 0.8954 - val_accuracy: 0.8892\n",
            "Epoch 55/100\n",
            "375/375 [==============================] - 1s 3ms/step - loss: 0.1098 - accuracy: 0.9614 - val_loss: 0.8906 - val_accuracy: 0.8934\n",
            "Epoch 56/100\n",
            "375/375 [==============================] - 1s 3ms/step - loss: 0.1120 - accuracy: 0.9627 - val_loss: 0.9145 - val_accuracy: 0.8903\n",
            "Epoch 57/100\n",
            "375/375 [==============================] - 1s 3ms/step - loss: 0.1216 - accuracy: 0.9616 - val_loss: 0.8837 - val_accuracy: 0.8947\n",
            "Epoch 58/100\n",
            "375/375 [==============================] - 1s 3ms/step - loss: 0.1114 - accuracy: 0.9611 - val_loss: 0.9262 - val_accuracy: 0.8921\n",
            "Epoch 59/100\n",
            "375/375 [==============================] - 1s 3ms/step - loss: 0.1122 - accuracy: 0.9605 - val_loss: 1.0269 - val_accuracy: 0.8953\n",
            "Epoch 60/100\n",
            "375/375 [==============================] - 1s 3ms/step - loss: 0.1091 - accuracy: 0.9632 - val_loss: 1.1613 - val_accuracy: 0.8692\n",
            "Epoch 61/100\n",
            "375/375 [==============================] - 1s 3ms/step - loss: 0.1151 - accuracy: 0.9614 - val_loss: 1.0705 - val_accuracy: 0.8863\n",
            "Epoch 62/100\n",
            "375/375 [==============================] - 1s 3ms/step - loss: 0.1109 - accuracy: 0.9627 - val_loss: 0.9329 - val_accuracy: 0.8911\n",
            "Epoch 63/100\n",
            "375/375 [==============================] - 1s 3ms/step - loss: 0.1114 - accuracy: 0.9629 - val_loss: 0.9794 - val_accuracy: 0.8956\n",
            "Epoch 64/100\n",
            "375/375 [==============================] - 1s 3ms/step - loss: 0.1033 - accuracy: 0.9635 - val_loss: 0.9398 - val_accuracy: 0.8918\n",
            "Epoch 65/100\n",
            "375/375 [==============================] - 1s 3ms/step - loss: 0.1044 - accuracy: 0.9661 - val_loss: 1.0557 - val_accuracy: 0.8967\n",
            "Epoch 66/100\n",
            "375/375 [==============================] - 1s 3ms/step - loss: 0.1071 - accuracy: 0.9643 - val_loss: 1.1098 - val_accuracy: 0.8935\n",
            "Epoch 67/100\n",
            "375/375 [==============================] - 1s 3ms/step - loss: 0.1063 - accuracy: 0.9660 - val_loss: 1.0303 - val_accuracy: 0.8946\n",
            "Epoch 68/100\n",
            "375/375 [==============================] - 1s 3ms/step - loss: 0.0988 - accuracy: 0.9660 - val_loss: 0.9400 - val_accuracy: 0.8923\n",
            "Epoch 69/100\n",
            "375/375 [==============================] - 1s 3ms/step - loss: 0.1062 - accuracy: 0.9648 - val_loss: 1.0767 - val_accuracy: 0.8905\n",
            "Epoch 70/100\n",
            "375/375 [==============================] - 1s 3ms/step - loss: 0.1061 - accuracy: 0.9659 - val_loss: 1.1443 - val_accuracy: 0.8906\n",
            "Epoch 71/100\n",
            "375/375 [==============================] - 1s 3ms/step - loss: 0.0954 - accuracy: 0.9679 - val_loss: 1.0202 - val_accuracy: 0.8938\n",
            "Epoch 72/100\n",
            "375/375 [==============================] - 1s 3ms/step - loss: 0.0995 - accuracy: 0.9671 - val_loss: 1.0680 - val_accuracy: 0.8963\n",
            "Epoch 73/100\n",
            "375/375 [==============================] - 1s 3ms/step - loss: 0.1016 - accuracy: 0.9666 - val_loss: 1.1504 - val_accuracy: 0.8937\n",
            "Epoch 74/100\n",
            "375/375 [==============================] - 1s 3ms/step - loss: 0.0930 - accuracy: 0.9678 - val_loss: 1.2921 - val_accuracy: 0.8932\n",
            "Epoch 75/100\n",
            "375/375 [==============================] - 1s 3ms/step - loss: 0.0957 - accuracy: 0.9682 - val_loss: 1.2025 - val_accuracy: 0.8890\n",
            "Epoch 76/100\n",
            "375/375 [==============================] - 1s 3ms/step - loss: 0.0916 - accuracy: 0.9699 - val_loss: 1.0830 - val_accuracy: 0.8909\n",
            "Epoch 77/100\n",
            "375/375 [==============================] - 1s 3ms/step - loss: 0.0918 - accuracy: 0.9689 - val_loss: 1.2162 - val_accuracy: 0.8935\n",
            "Epoch 78/100\n",
            "375/375 [==============================] - 1s 3ms/step - loss: 0.0901 - accuracy: 0.9687 - val_loss: 1.2605 - val_accuracy: 0.8943\n",
            "Epoch 79/100\n",
            "375/375 [==============================] - 1s 3ms/step - loss: 0.1012 - accuracy: 0.9682 - val_loss: 1.2806 - val_accuracy: 0.8896\n",
            "Epoch 80/100\n",
            "375/375 [==============================] - 1s 3ms/step - loss: 0.0914 - accuracy: 0.9708 - val_loss: 1.4082 - val_accuracy: 0.8845\n",
            "Epoch 81/100\n",
            "375/375 [==============================] - 1s 3ms/step - loss: 0.0905 - accuracy: 0.9696 - val_loss: 1.2545 - val_accuracy: 0.8889\n",
            "Epoch 82/100\n",
            "375/375 [==============================] - 1s 3ms/step - loss: 0.0903 - accuracy: 0.9716 - val_loss: 1.4358 - val_accuracy: 0.8907\n",
            "Epoch 83/100\n",
            "375/375 [==============================] - 1s 3ms/step - loss: 0.0956 - accuracy: 0.9688 - val_loss: 1.2749 - val_accuracy: 0.8918\n",
            "Epoch 84/100\n",
            "375/375 [==============================] - 1s 3ms/step - loss: 0.0950 - accuracy: 0.9715 - val_loss: 1.4021 - val_accuracy: 0.8918\n",
            "Epoch 85/100\n",
            "375/375 [==============================] - 1s 3ms/step - loss: 0.0988 - accuracy: 0.9704 - val_loss: 1.5727 - val_accuracy: 0.8904\n",
            "Epoch 86/100\n",
            "375/375 [==============================] - 1s 3ms/step - loss: 0.0988 - accuracy: 0.9717 - val_loss: 1.0834 - val_accuracy: 0.8930\n",
            "Epoch 87/100\n",
            "375/375 [==============================] - 1s 3ms/step - loss: 0.0907 - accuracy: 0.9711 - val_loss: 1.2988 - val_accuracy: 0.8905\n",
            "Epoch 88/100\n",
            "375/375 [==============================] - 1s 3ms/step - loss: 0.0789 - accuracy: 0.9727 - val_loss: 1.3295 - val_accuracy: 0.8928\n",
            "Epoch 89/100\n",
            "375/375 [==============================] - 1s 3ms/step - loss: 0.0944 - accuracy: 0.9729 - val_loss: 1.2755 - val_accuracy: 0.8973\n",
            "Epoch 90/100\n",
            "375/375 [==============================] - 1s 3ms/step - loss: 0.0841 - accuracy: 0.9724 - val_loss: 1.4454 - val_accuracy: 0.8891\n",
            "Epoch 91/100\n",
            "375/375 [==============================] - 1s 3ms/step - loss: 0.0849 - accuracy: 0.9717 - val_loss: 1.3775 - val_accuracy: 0.8819\n",
            "Epoch 92/100\n",
            "375/375 [==============================] - 1s 3ms/step - loss: 0.0910 - accuracy: 0.9708 - val_loss: 1.3802 - val_accuracy: 0.8842\n",
            "Epoch 93/100\n",
            "375/375 [==============================] - 1s 3ms/step - loss: 0.0807 - accuracy: 0.9731 - val_loss: 1.4904 - val_accuracy: 0.8924\n",
            "Epoch 94/100\n",
            "375/375 [==============================] - 1s 3ms/step - loss: 0.0888 - accuracy: 0.9712 - val_loss: 1.4364 - val_accuracy: 0.8901\n",
            "Epoch 95/100\n",
            "375/375 [==============================] - 1s 3ms/step - loss: 0.0866 - accuracy: 0.9735 - val_loss: 1.3979 - val_accuracy: 0.8920\n",
            "Epoch 96/100\n",
            "375/375 [==============================] - 1s 3ms/step - loss: 0.0890 - accuracy: 0.9736 - val_loss: 1.4073 - val_accuracy: 0.8907\n",
            "Epoch 97/100\n",
            "375/375 [==============================] - 1s 3ms/step - loss: 0.0795 - accuracy: 0.9735 - val_loss: 1.9991 - val_accuracy: 0.8597\n",
            "Epoch 98/100\n",
            "375/375 [==============================] - 1s 3ms/step - loss: 0.0857 - accuracy: 0.9731 - val_loss: 1.4563 - val_accuracy: 0.8912\n",
            "Epoch 99/100\n",
            "375/375 [==============================] - 1s 3ms/step - loss: 0.0785 - accuracy: 0.9749 - val_loss: 1.5131 - val_accuracy: 0.8838\n",
            "Epoch 100/100\n",
            "375/375 [==============================] - 1s 3ms/step - loss: 0.0804 - accuracy: 0.9744 - val_loss: 1.7171 - val_accuracy: 0.8891\n",
            "CPU times: user 2min 8s, sys: 19.2 s, total: 2min 27s\n",
            "Wall time: 1min 58s\n"
          ],
          "name": "stdout"
        }
      ]
    },
    {
      "cell_type": "markdown",
      "metadata": {
        "id": "Ey_65zgWS2kf"
      },
      "source": [
        "### 4)Result Visualization"
      ]
    },
    {
      "cell_type": "code",
      "metadata": {
        "colab": {
          "base_uri": "https://localhost:8080/",
          "height": 404
        },
        "id": "kZ-QSkwUSwDi",
        "outputId": "a156b774-6d22-418f-ea9c-134fb4940731"
      },
      "source": [
        "epochs = range(1, len(Hist_mnist.history['accuracy']) + 1)\n",
        "\n",
        "plt.figure(figsize = (9,6))\n",
        "plt.plot(epochs, Hist_mnist.history['accuracy'])\n",
        "plt.plot(epochs, Hist_mnist.history['val_accuracy'])\n",
        "plt.title('Training & Validation accuracy')\n",
        "plt.xlabel('Epochs')\n",
        "plt.ylabel('accuracy')\n",
        "plt.legend(['Training accuracy', 'Validation accuracy'])\n",
        "plt.grid()\n",
        "plt.show()\n",
        "\n",
        "#Test Data의 정확도가 90퍼센트를 넘지 못해 모델성능이 좋지는 않다\n",
        "#과적합 문제가 발생했다고 볼 수 있다"
      ],
      "execution_count": 17,
      "outputs": [
        {
          "output_type": "display_data",
          "data": {
            "image/png": "[encoded data removed]",
            "text/plain": [
              "<Figure size 648x432 with 1 Axes>"
            ]
          },
          "metadata": {
            "tags": [],
            "needs_background": "light"
          }
        }
      ]
    },
    {
      "cell_type": "markdown",
      "metadata": {
        "id": "6LUyXRL6TGYT"
      },
      "source": [
        "### 5)Model Evaluate\n",
        "* Loss & Accuracy"
      ]
    },
    {
      "cell_type": "code",
      "metadata": {
        "colab": {
          "base_uri": "https://localhost:8080/"
        },
        "id": "biV44_rbTEUd",
        "outputId": "86101b21-894b-4b40-b870-f16c83eb0e2c"
      },
      "source": [
        "loss, accuracy = mnist.evaluate(X_test, y_test)\n",
        "\n",
        "print('Loss = {:.5f}'.format(loss))\n",
        "print('Accuracy = {:.5f}'.format(accuracy))"
      ],
      "execution_count": 18,
      "outputs": [
        {
          "output_type": "stream",
          "text": [
            "313/313 [==============================] - 1s 2ms/step - loss: 1.9119 - accuracy: 0.8837\n",
            "Loss = 1.91188\n",
            "Accuracy = 0.88370\n"
          ],
          "name": "stdout"
        }
      ]
    },
    {
      "cell_type": "markdown",
      "metadata": {
        "id": "17XJcyy7TMpj"
      },
      "source": [
        "### 6)Model Predict"
      ]
    },
    {
      "cell_type": "code",
      "metadata": {
        "colab": {
          "base_uri": "https://localhost:8080/"
        },
        "id": "N2rVly6ZTRBf",
        "outputId": "4181c509-5581-4285-98d7-0473b0a60ed8"
      },
      "source": [
        "#첫번째 데이터 Probability\n",
        "np.set_printoptions(suppress=True, precision=9)\n",
        "\n",
        "print(mnist.predict(X_test[:1,:]))"
      ],
      "execution_count": 19,
      "outputs": [
        {
          "output_type": "stream",
          "text": [
            "[[0. 0. 0. 0. 0. 0. 0. 0. 0. 1.]]\n"
          ],
          "name": "stdout"
        }
      ]
    },
    {
      "cell_type": "code",
      "metadata": {
        "colab": {
          "base_uri": "https://localhost:8080/"
        },
        "id": "5rOrYrWlTfmL",
        "outputId": "85e06404-6bb2-47a3-93bf-d85eac0b4552"
      },
      "source": [
        "#첫번째 데이터 Class\n",
        "print(mnist.predict_classes(X_test[:1, :]))"
      ],
      "execution_count": 20,
      "outputs": [
        {
          "output_type": "stream",
          "text": [
            "[9]\n"
          ],
          "name": "stdout"
        }
      ]
    },
    {
      "cell_type": "markdown",
      "metadata": {
        "id": "PTEV2CV5UkZQ"
      },
      "source": [
        "## 4.MNIST Keras Modeling - Overfitting Issue\n"
      ]
    },
    {
      "cell_type": "markdown",
      "metadata": {
        "id": "IU3Gr2PFY_kk"
      },
      "source": [
        "### 1)Model Define"
      ]
    },
    {
      "cell_type": "code",
      "metadata": {
        "id": "aM_ynmNTUkZa"
      },
      "source": [
        "#from keras import regularizers\n",
        "\n",
        "#최적의 성능 찾기 : 여러조합 시도하기 \n",
        "mnist_new = models.Sequential()\n",
        "mnist_new.add(layers.Dense(512, input_shape = (28 * 28,)))\n",
        "mnist_new.add(layers.Dropout(0.5))\n",
        "mnist_new.add(layers.BatchNormalization())\n",
        "mnist_new.add(layers.Activation('relu'))\n",
        "mnist_new.add(layers.Dense(256))\n",
        "mnist_new.add(layers.Dropout(0.2))\n",
        "mnist_new.add(layers.BatchNormalization())\n",
        "mnist_new.add(layers.Activation('relu'))\n",
        "mnist_new.add(layers.Dense(64, activation = 'relu'))\n",
        "mnist_new.add(layers.Dropout(0.2))\n",
        "mnist_new.add(layers.BatchNormalization())\n",
        "mnist_new.add(layers.Activation('relu'))\n",
        "mnist_new.add(layers.Dense(10, activation = 'softmax'))"
      ],
      "execution_count": 62,
      "outputs": []
    },
    {
      "cell_type": "code",
      "metadata": {
        "colab": {
          "base_uri": "https://localhost:8080/"
        },
        "id": "ChSfWRnjUkZd",
        "outputId": "75f305cf-ad66-4426-fc77-a0f6a161d6fd"
      },
      "source": [
        "mnist_new.summary()"
      ],
      "execution_count": 63,
      "outputs": [
        {
          "output_type": "stream",
          "text": [
            "Model: \"sequential_5\"\n",
            "_________________________________________________________________\n",
            "Layer (type)                 Output Shape              Param #   \n",
            "=================================================================\n",
            "dense_19 (Dense)             (None, 512)               401920    \n",
            "_________________________________________________________________\n",
            "dropout_6 (Dropout)          (None, 512)               0         \n",
            "_________________________________________________________________\n",
            "batch_normalization_4 (Batch (None, 512)               2048      \n",
            "_________________________________________________________________\n",
            "activation_4 (Activation)    (None, 512)               0         \n",
            "_________________________________________________________________\n",
            "dense_20 (Dense)             (None, 256)               131328    \n",
            "_________________________________________________________________\n",
            "dropout_7 (Dropout)          (None, 256)               0         \n",
            "_________________________________________________________________\n",
            "batch_normalization_5 (Batch (None, 256)               1024      \n",
            "_________________________________________________________________\n",
            "activation_5 (Activation)    (None, 256)               0         \n",
            "_________________________________________________________________\n",
            "dense_21 (Dense)             (None, 64)                16448     \n",
            "_________________________________________________________________\n",
            "dropout_8 (Dropout)          (None, 64)                0         \n",
            "_________________________________________________________________\n",
            "batch_normalization_6 (Batch (None, 64)                256       \n",
            "_________________________________________________________________\n",
            "activation_6 (Activation)    (None, 64)                0         \n",
            "_________________________________________________________________\n",
            "dense_22 (Dense)             (None, 10)                650       \n",
            "=================================================================\n",
            "Total params: 553,674\n",
            "Trainable params: 552,010\n",
            "Non-trainable params: 1,664\n",
            "_________________________________________________________________\n"
          ],
          "name": "stdout"
        }
      ]
    },
    {
      "cell_type": "markdown",
      "metadata": {
        "id": "-aCF4HsTUkZg"
      },
      "source": [
        "### 2)Model Compile"
      ]
    },
    {
      "cell_type": "code",
      "metadata": {
        "id": "RIWqMZmcUkZj"
      },
      "source": [
        "mnist_new.compile(loss = 'categorical_crossentropy',\n",
        "              optimizer = 'rmsprop', #adam보다 나은듯\n",
        "              metrics = ['accuracy'])"
      ],
      "execution_count": 64,
      "outputs": []
    },
    {
      "cell_type": "markdown",
      "metadata": {
        "id": "4AJo3IG8UkZo"
      },
      "source": [
        "### 3)Model Fit"
      ]
    },
    {
      "cell_type": "code",
      "metadata": {
        "colab": {
          "base_uri": "https://localhost:8080/"
        },
        "id": "ZFQfT0MuUkZo",
        "outputId": "38794be3-d01b-4701-daa7-803da33dc024"
      },
      "source": [
        "%%time\n",
        "\n",
        "Hist_mnist_new = mnist_new.fit(X_train, y_train,\n",
        "                       epochs = 100,\n",
        "                       batch_size = 128,\n",
        "                       validation_split = 0.2)"
      ],
      "execution_count": 65,
      "outputs": [
        {
          "output_type": "stream",
          "text": [
            "Epoch 1/100\n",
            "375/375 [==============================] - 3s 5ms/step - loss: 0.8801 - accuracy: 0.7046 - val_loss: 0.5011 - val_accuracy: 0.8157\n",
            "Epoch 2/100\n",
            "375/375 [==============================] - 2s 4ms/step - loss: 0.4667 - accuracy: 0.8359 - val_loss: 0.3859 - val_accuracy: 0.8596\n",
            "Epoch 3/100\n",
            "375/375 [==============================] - 2s 4ms/step - loss: 0.4206 - accuracy: 0.8490 - val_loss: 0.3708 - val_accuracy: 0.8648\n",
            "Epoch 4/100\n",
            "375/375 [==============================] - 2s 4ms/step - loss: 0.4026 - accuracy: 0.8573 - val_loss: 0.3633 - val_accuracy: 0.8621\n",
            "Epoch 5/100\n",
            "375/375 [==============================] - 2s 4ms/step - loss: 0.3819 - accuracy: 0.8633 - val_loss: 0.3584 - val_accuracy: 0.8687\n",
            "Epoch 6/100\n",
            "375/375 [==============================] - 2s 4ms/step - loss: 0.3615 - accuracy: 0.8665 - val_loss: 0.3688 - val_accuracy: 0.8717\n",
            "Epoch 7/100\n",
            "375/375 [==============================] - 2s 4ms/step - loss: 0.3582 - accuracy: 0.8718 - val_loss: 0.3440 - val_accuracy: 0.8785\n",
            "Epoch 8/100\n",
            "375/375 [==============================] - 2s 4ms/step - loss: 0.3504 - accuracy: 0.8754 - val_loss: 0.3504 - val_accuracy: 0.8701\n",
            "Epoch 9/100\n",
            "375/375 [==============================] - 2s 4ms/step - loss: 0.3404 - accuracy: 0.8755 - val_loss: 0.3618 - val_accuracy: 0.8618\n",
            "Epoch 10/100\n",
            "375/375 [==============================] - 2s 4ms/step - loss: 0.3331 - accuracy: 0.8795 - val_loss: 0.3234 - val_accuracy: 0.8839\n",
            "Epoch 11/100\n",
            "375/375 [==============================] - 2s 4ms/step - loss: 0.3241 - accuracy: 0.8816 - val_loss: 0.3253 - val_accuracy: 0.8824\n",
            "Epoch 12/100\n",
            "375/375 [==============================] - 2s 4ms/step - loss: 0.3163 - accuracy: 0.8817 - val_loss: 0.3341 - val_accuracy: 0.8761\n",
            "Epoch 13/100\n",
            "375/375 [==============================] - 2s 4ms/step - loss: 0.3081 - accuracy: 0.8878 - val_loss: 0.3520 - val_accuracy: 0.8734\n",
            "Epoch 14/100\n",
            "375/375 [==============================] - 2s 4ms/step - loss: 0.3096 - accuracy: 0.8884 - val_loss: 0.3257 - val_accuracy: 0.8828\n",
            "Epoch 15/100\n",
            "375/375 [==============================] - 2s 4ms/step - loss: 0.3016 - accuracy: 0.8898 - val_loss: 0.3388 - val_accuracy: 0.8762\n",
            "Epoch 16/100\n",
            "375/375 [==============================] - 2s 4ms/step - loss: 0.2932 - accuracy: 0.8918 - val_loss: 0.3333 - val_accuracy: 0.8801\n",
            "Epoch 17/100\n",
            "375/375 [==============================] - 2s 4ms/step - loss: 0.2917 - accuracy: 0.8919 - val_loss: 0.3223 - val_accuracy: 0.8852\n",
            "Epoch 18/100\n",
            "375/375 [==============================] - 2s 4ms/step - loss: 0.2917 - accuracy: 0.8940 - val_loss: 0.3167 - val_accuracy: 0.8871\n",
            "Epoch 19/100\n",
            "375/375 [==============================] - 2s 4ms/step - loss: 0.2838 - accuracy: 0.8954 - val_loss: 0.3192 - val_accuracy: 0.8881\n",
            "Epoch 20/100\n",
            "375/375 [==============================] - 2s 4ms/step - loss: 0.2816 - accuracy: 0.8997 - val_loss: 0.3205 - val_accuracy: 0.8839\n",
            "Epoch 21/100\n",
            "375/375 [==============================] - 2s 4ms/step - loss: 0.2792 - accuracy: 0.8990 - val_loss: 0.3311 - val_accuracy: 0.8788\n",
            "Epoch 22/100\n",
            "375/375 [==============================] - 2s 4ms/step - loss: 0.2668 - accuracy: 0.9022 - val_loss: 0.3056 - val_accuracy: 0.8911\n",
            "Epoch 23/100\n",
            "375/375 [==============================] - 2s 4ms/step - loss: 0.2702 - accuracy: 0.9016 - val_loss: 0.3166 - val_accuracy: 0.8889\n",
            "Epoch 24/100\n",
            "375/375 [==============================] - 2s 4ms/step - loss: 0.2694 - accuracy: 0.9019 - val_loss: 0.3185 - val_accuracy: 0.8878\n",
            "Epoch 25/100\n",
            "375/375 [==============================] - 2s 4ms/step - loss: 0.2660 - accuracy: 0.9042 - val_loss: 0.3147 - val_accuracy: 0.8847\n",
            "Epoch 26/100\n",
            "375/375 [==============================] - 2s 4ms/step - loss: 0.2588 - accuracy: 0.9068 - val_loss: 0.3107 - val_accuracy: 0.8880\n",
            "Epoch 27/100\n",
            "375/375 [==============================] - 2s 4ms/step - loss: 0.2593 - accuracy: 0.9063 - val_loss: 0.3308 - val_accuracy: 0.8855\n",
            "Epoch 28/100\n",
            "375/375 [==============================] - 2s 4ms/step - loss: 0.2538 - accuracy: 0.9047 - val_loss: 0.3044 - val_accuracy: 0.8896\n",
            "Epoch 29/100\n",
            "375/375 [==============================] - 2s 4ms/step - loss: 0.2553 - accuracy: 0.9068 - val_loss: 0.3051 - val_accuracy: 0.8912\n",
            "Epoch 30/100\n",
            "375/375 [==============================] - 2s 4ms/step - loss: 0.2519 - accuracy: 0.9061 - val_loss: 0.3210 - val_accuracy: 0.8873\n",
            "Epoch 31/100\n",
            "375/375 [==============================] - 2s 5ms/step - loss: 0.2644 - accuracy: 0.9027 - val_loss: 0.3158 - val_accuracy: 0.8860\n",
            "Epoch 32/100\n",
            "375/375 [==============================] - 2s 4ms/step - loss: 0.2523 - accuracy: 0.9066 - val_loss: 0.3001 - val_accuracy: 0.8924\n",
            "Epoch 33/100\n",
            "375/375 [==============================] - 2s 4ms/step - loss: 0.2474 - accuracy: 0.9118 - val_loss: 0.3104 - val_accuracy: 0.8911\n",
            "Epoch 34/100\n",
            "375/375 [==============================] - 2s 4ms/step - loss: 0.2451 - accuracy: 0.9108 - val_loss: 0.3266 - val_accuracy: 0.8833\n",
            "Epoch 35/100\n",
            "375/375 [==============================] - 2s 4ms/step - loss: 0.2421 - accuracy: 0.9100 - val_loss: 0.3035 - val_accuracy: 0.8910\n",
            "Epoch 36/100\n",
            "375/375 [==============================] - 2s 4ms/step - loss: 0.2393 - accuracy: 0.9128 - val_loss: 0.3211 - val_accuracy: 0.8824\n",
            "Epoch 37/100\n",
            "375/375 [==============================] - 2s 4ms/step - loss: 0.2352 - accuracy: 0.9158 - val_loss: 0.3128 - val_accuracy: 0.8889\n",
            "Epoch 38/100\n",
            "375/375 [==============================] - 2s 4ms/step - loss: 0.2390 - accuracy: 0.9151 - val_loss: 0.3080 - val_accuracy: 0.8907\n",
            "Epoch 39/100\n",
            "375/375 [==============================] - 2s 4ms/step - loss: 0.2370 - accuracy: 0.9135 - val_loss: 0.3144 - val_accuracy: 0.8907\n",
            "Epoch 40/100\n",
            "375/375 [==============================] - 2s 4ms/step - loss: 0.2378 - accuracy: 0.9129 - val_loss: 0.3048 - val_accuracy: 0.8915\n",
            "Epoch 41/100\n",
            "375/375 [==============================] - 2s 4ms/step - loss: 0.2338 - accuracy: 0.9163 - val_loss: 0.3181 - val_accuracy: 0.8858\n",
            "Epoch 42/100\n",
            "375/375 [==============================] - 2s 4ms/step - loss: 0.2311 - accuracy: 0.9143 - val_loss: 0.3090 - val_accuracy: 0.8917\n",
            "Epoch 43/100\n",
            "375/375 [==============================] - 2s 4ms/step - loss: 0.2242 - accuracy: 0.9161 - val_loss: 0.3150 - val_accuracy: 0.8888\n",
            "Epoch 44/100\n",
            "375/375 [==============================] - 2s 4ms/step - loss: 0.2210 - accuracy: 0.9196 - val_loss: 0.3036 - val_accuracy: 0.8923\n",
            "Epoch 45/100\n",
            "375/375 [==============================] - 2s 4ms/step - loss: 0.2272 - accuracy: 0.9170 - val_loss: 0.2955 - val_accuracy: 0.8961\n",
            "Epoch 46/100\n",
            "375/375 [==============================] - 2s 4ms/step - loss: 0.2231 - accuracy: 0.9196 - val_loss: 0.3102 - val_accuracy: 0.8913\n",
            "Epoch 47/100\n",
            "375/375 [==============================] - 2s 4ms/step - loss: 0.2235 - accuracy: 0.9166 - val_loss: 0.3174 - val_accuracy: 0.8917\n",
            "Epoch 48/100\n",
            "375/375 [==============================] - 2s 4ms/step - loss: 0.2228 - accuracy: 0.9178 - val_loss: 0.3216 - val_accuracy: 0.8868\n",
            "Epoch 49/100\n",
            "375/375 [==============================] - 2s 4ms/step - loss: 0.2148 - accuracy: 0.9222 - val_loss: 0.3271 - val_accuracy: 0.8861\n",
            "Epoch 50/100\n",
            "375/375 [==============================] - 2s 4ms/step - loss: 0.2157 - accuracy: 0.9211 - val_loss: 0.3179 - val_accuracy: 0.8877\n",
            "Epoch 51/100\n",
            "375/375 [==============================] - 2s 4ms/step - loss: 0.2190 - accuracy: 0.9207 - val_loss: 0.3054 - val_accuracy: 0.8910\n",
            "Epoch 52/100\n",
            "375/375 [==============================] - 2s 4ms/step - loss: 0.2191 - accuracy: 0.9208 - val_loss: 0.3065 - val_accuracy: 0.8933\n",
            "Epoch 53/100\n",
            "375/375 [==============================] - 2s 4ms/step - loss: 0.2117 - accuracy: 0.9236 - val_loss: 0.3156 - val_accuracy: 0.8931\n",
            "Epoch 54/100\n",
            "375/375 [==============================] - 2s 4ms/step - loss: 0.2135 - accuracy: 0.9239 - val_loss: 0.3121 - val_accuracy: 0.8919\n",
            "Epoch 55/100\n",
            "375/375 [==============================] - 2s 4ms/step - loss: 0.2159 - accuracy: 0.9228 - val_loss: 0.3048 - val_accuracy: 0.8982\n",
            "Epoch 56/100\n",
            "375/375 [==============================] - 2s 4ms/step - loss: 0.2103 - accuracy: 0.9230 - val_loss: 0.3218 - val_accuracy: 0.8875\n",
            "Epoch 57/100\n",
            "375/375 [==============================] - 2s 4ms/step - loss: 0.2047 - accuracy: 0.9246 - val_loss: 0.3121 - val_accuracy: 0.8943\n",
            "Epoch 58/100\n",
            "375/375 [==============================] - 2s 4ms/step - loss: 0.2050 - accuracy: 0.9247 - val_loss: 0.3024 - val_accuracy: 0.8940\n",
            "Epoch 59/100\n",
            "375/375 [==============================] - 2s 4ms/step - loss: 0.1996 - accuracy: 0.9269 - val_loss: 0.3085 - val_accuracy: 0.8922\n",
            "Epoch 60/100\n",
            "375/375 [==============================] - 2s 4ms/step - loss: 0.2027 - accuracy: 0.9259 - val_loss: 0.3123 - val_accuracy: 0.8899\n",
            "Epoch 61/100\n",
            "375/375 [==============================] - 2s 4ms/step - loss: 0.2085 - accuracy: 0.9251 - val_loss: 0.3062 - val_accuracy: 0.8948\n",
            "Epoch 62/100\n",
            "375/375 [==============================] - 2s 4ms/step - loss: 0.2012 - accuracy: 0.9258 - val_loss: 0.3225 - val_accuracy: 0.8861\n",
            "Epoch 63/100\n",
            "375/375 [==============================] - 2s 4ms/step - loss: 0.1963 - accuracy: 0.9272 - val_loss: 0.3255 - val_accuracy: 0.8888\n",
            "Epoch 64/100\n",
            "375/375 [==============================] - 2s 4ms/step - loss: 0.1949 - accuracy: 0.9279 - val_loss: 0.3172 - val_accuracy: 0.8911\n",
            "Epoch 65/100\n",
            "375/375 [==============================] - 2s 4ms/step - loss: 0.1937 - accuracy: 0.9298 - val_loss: 0.3162 - val_accuracy: 0.8943\n",
            "Epoch 66/100\n",
            "375/375 [==============================] - 2s 4ms/step - loss: 0.1946 - accuracy: 0.9292 - val_loss: 0.3178 - val_accuracy: 0.8918\n",
            "Epoch 67/100\n",
            "375/375 [==============================] - 2s 4ms/step - loss: 0.1935 - accuracy: 0.9301 - val_loss: 0.3160 - val_accuracy: 0.8895\n",
            "Epoch 68/100\n",
            "375/375 [==============================] - 2s 4ms/step - loss: 0.1868 - accuracy: 0.9317 - val_loss: 0.3166 - val_accuracy: 0.8912\n",
            "Epoch 69/100\n",
            "375/375 [==============================] - 2s 4ms/step - loss: 0.1980 - accuracy: 0.9287 - val_loss: 0.3160 - val_accuracy: 0.8921\n",
            "Epoch 70/100\n",
            "375/375 [==============================] - 2s 4ms/step - loss: 0.1942 - accuracy: 0.9288 - val_loss: 0.3208 - val_accuracy: 0.8901\n",
            "Epoch 71/100\n",
            "375/375 [==============================] - 2s 4ms/step - loss: 0.1928 - accuracy: 0.9293 - val_loss: 0.3182 - val_accuracy: 0.8891\n",
            "Epoch 72/100\n",
            "375/375 [==============================] - 2s 4ms/step - loss: 0.1910 - accuracy: 0.9303 - val_loss: 0.3169 - val_accuracy: 0.8877\n",
            "Epoch 73/100\n",
            "375/375 [==============================] - 2s 4ms/step - loss: 0.1904 - accuracy: 0.9321 - val_loss: 0.3151 - val_accuracy: 0.8895\n",
            "Epoch 74/100\n",
            "375/375 [==============================] - 2s 4ms/step - loss: 0.1897 - accuracy: 0.9303 - val_loss: 0.3084 - val_accuracy: 0.8946\n",
            "Epoch 75/100\n",
            "375/375 [==============================] - 2s 4ms/step - loss: 0.1897 - accuracy: 0.9313 - val_loss: 0.3291 - val_accuracy: 0.8852\n",
            "Epoch 76/100\n",
            "375/375 [==============================] - 2s 4ms/step - loss: 0.1870 - accuracy: 0.9308 - val_loss: 0.3163 - val_accuracy: 0.8878\n",
            "Epoch 77/100\n",
            "375/375 [==============================] - 2s 4ms/step - loss: 0.1885 - accuracy: 0.9311 - val_loss: 0.3098 - val_accuracy: 0.8913\n",
            "Epoch 78/100\n",
            "375/375 [==============================] - 2s 4ms/step - loss: 0.1822 - accuracy: 0.9334 - val_loss: 0.3233 - val_accuracy: 0.8873\n",
            "Epoch 79/100\n",
            "375/375 [==============================] - 2s 4ms/step - loss: 0.1808 - accuracy: 0.9351 - val_loss: 0.3181 - val_accuracy: 0.8865\n",
            "Epoch 80/100\n",
            "375/375 [==============================] - 2s 4ms/step - loss: 0.1799 - accuracy: 0.9346 - val_loss: 0.3248 - val_accuracy: 0.8923\n",
            "Epoch 81/100\n",
            "375/375 [==============================] - 2s 4ms/step - loss: 0.1784 - accuracy: 0.9345 - val_loss: 0.3177 - val_accuracy: 0.8890\n",
            "Epoch 82/100\n",
            "375/375 [==============================] - 2s 4ms/step - loss: 0.1838 - accuracy: 0.9340 - val_loss: 0.3105 - val_accuracy: 0.8942\n",
            "Epoch 83/100\n",
            "375/375 [==============================] - 2s 4ms/step - loss: 0.1814 - accuracy: 0.9344 - val_loss: 0.3049 - val_accuracy: 0.8965\n",
            "Epoch 84/100\n",
            "375/375 [==============================] - 2s 4ms/step - loss: 0.1780 - accuracy: 0.9377 - val_loss: 0.3138 - val_accuracy: 0.8932\n",
            "Epoch 85/100\n",
            "375/375 [==============================] - 2s 4ms/step - loss: 0.1774 - accuracy: 0.9354 - val_loss: 0.3097 - val_accuracy: 0.8902\n",
            "Epoch 86/100\n",
            "375/375 [==============================] - 2s 4ms/step - loss: 0.1746 - accuracy: 0.9360 - val_loss: 0.3287 - val_accuracy: 0.8919\n",
            "Epoch 87/100\n",
            "375/375 [==============================] - 2s 4ms/step - loss: 0.1716 - accuracy: 0.9365 - val_loss: 0.3139 - val_accuracy: 0.8946\n",
            "Epoch 88/100\n",
            "375/375 [==============================] - 2s 4ms/step - loss: 0.1754 - accuracy: 0.9372 - val_loss: 0.3152 - val_accuracy: 0.8944\n",
            "Epoch 89/100\n",
            "375/375 [==============================] - 2s 4ms/step - loss: 0.1729 - accuracy: 0.9378 - val_loss: 0.3309 - val_accuracy: 0.8867\n",
            "Epoch 90/100\n",
            "375/375 [==============================] - 2s 4ms/step - loss: 0.1716 - accuracy: 0.9377 - val_loss: 0.3247 - val_accuracy: 0.8879\n",
            "Epoch 91/100\n",
            "375/375 [==============================] - 2s 4ms/step - loss: 0.1709 - accuracy: 0.9373 - val_loss: 0.3406 - val_accuracy: 0.8835\n",
            "Epoch 92/100\n",
            "375/375 [==============================] - 2s 4ms/step - loss: 0.1769 - accuracy: 0.9355 - val_loss: 0.3371 - val_accuracy: 0.8835\n",
            "Epoch 93/100\n",
            "375/375 [==============================] - 2s 4ms/step - loss: 0.1691 - accuracy: 0.9396 - val_loss: 0.3218 - val_accuracy: 0.8898\n",
            "Epoch 94/100\n",
            "375/375 [==============================] - 2s 4ms/step - loss: 0.1716 - accuracy: 0.9375 - val_loss: 0.3229 - val_accuracy: 0.8854\n",
            "Epoch 95/100\n",
            "375/375 [==============================] - 2s 4ms/step - loss: 0.1676 - accuracy: 0.9394 - val_loss: 0.3101 - val_accuracy: 0.8915\n",
            "Epoch 96/100\n",
            "375/375 [==============================] - 2s 4ms/step - loss: 0.1731 - accuracy: 0.9394 - val_loss: 0.3240 - val_accuracy: 0.8891\n",
            "Epoch 97/100\n",
            "375/375 [==============================] - 2s 4ms/step - loss: 0.1662 - accuracy: 0.9400 - val_loss: 0.3250 - val_accuracy: 0.8913\n",
            "Epoch 98/100\n",
            "375/375 [==============================] - 2s 5ms/step - loss: 0.1685 - accuracy: 0.9386 - val_loss: 0.3323 - val_accuracy: 0.8896\n",
            "Epoch 99/100\n",
            "375/375 [==============================] - 2s 4ms/step - loss: 0.1665 - accuracy: 0.9401 - val_loss: 0.3171 - val_accuracy: 0.8938\n",
            "Epoch 100/100\n",
            "375/375 [==============================] - 2s 4ms/step - loss: 0.1689 - accuracy: 0.9382 - val_loss: 0.3140 - val_accuracy: 0.8908\n",
            "CPU times: user 2min 59s, sys: 18.7 s, total: 3min 18s\n",
            "Wall time: 2min 44s\n"
          ],
          "name": "stdout"
        }
      ]
    },
    {
      "cell_type": "markdown",
      "metadata": {
        "id": "neis8hUhUkZp"
      },
      "source": [
        "### 4)Result Visualization"
      ]
    },
    {
      "cell_type": "code",
      "metadata": {
        "colab": {
          "base_uri": "https://localhost:8080/",
          "height": 404
        },
        "id": "HzYAdz6iUkZq",
        "outputId": "c3f34bf2-8349-4f60-801e-536763fd60f2"
      },
      "source": [
        "epochs = range(1, len(Hist_mnist_new.history['loss']) + 1)\n",
        "\n",
        "plt.figure(figsize = (9,6))\n",
        "plt.plot(epochs, Hist_mnist_new.history['accuracy'])\n",
        "plt.plot(epochs, Hist_mnist_new.history['val_accuracy'])\n",
        "plt.title('Training & Validation Loss')\n",
        "plt.xlabel('Epochs')\n",
        "plt.ylabel('accuracy')\n",
        "plt.legend(['Training accuracy', 'Validation accuracy'])\n",
        "plt.grid()\n",
        "plt.show()\n",
        "##88 = > 89로 이전보다 향상됨"
      ],
      "execution_count": 66,
      "outputs": [
        {
          "output_type": "display_data",
          "data": {
            "image/png": "[encoded data removed]",
            "text/plain": [
              "<Figure size 648x432 with 1 Axes>"
            ]
          },
          "metadata": {
            "tags": [],
            "needs_background": "light"
          }
        }
      ]
    },
    {
      "cell_type": "markdown",
      "metadata": {
        "id": "ggzCBqbnUkZr"
      },
      "source": [
        "### 5)Model Evaluate\n",
        "* Loss & Accuracy"
      ]
    },
    {
      "cell_type": "code",
      "metadata": {
        "colab": {
          "base_uri": "https://localhost:8080/"
        },
        "id": "VPtWQLTBUkZt",
        "outputId": "f55c377c-f3e0-49a0-f71c-d555391eb053"
      },
      "source": [
        "loss, accuracy = mnist_new.evaluate(X_test, y_test)\n",
        "\n",
        "print('Loss = {:.5f}'.format(loss))\n",
        "print('Accuracy = {:.5f}'.format(accuracy))"
      ],
      "execution_count": 67,
      "outputs": [
        {
          "output_type": "stream",
          "text": [
            "313/313 [==============================] - 1s 2ms/step - loss: 0.3348 - accuracy: 0.8905\n",
            "Loss = 0.33478\n",
            "Accuracy = 0.89050\n"
          ],
          "name": "stdout"
        }
      ]
    },
    {
      "cell_type": "markdown",
      "metadata": {
        "id": "S8hWuSWPUkZx"
      },
      "source": [
        "### 6)Model Predict"
      ]
    },
    {
      "cell_type": "code",
      "metadata": {
        "colab": {
          "base_uri": "https://localhost:8080/"
        },
        "id": "mRdSZm8OUkZz",
        "outputId": "17ecefab-c6af-480b-de08-ef1321b0d4b4"
      },
      "source": [
        "#첫번째 데이터 Probability\n",
        "np.set_printoptions(suppress=True, precision=9)\n",
        "\n",
        "print(mnist_new.predict(X_test[:1,:]))"
      ],
      "execution_count": 68,
      "outputs": [
        {
          "output_type": "stream",
          "text": [
            "[[0.000016554 0.000000016 0.000001582 0.000000103 0.00000039  0.013910547 0.000007116 0.02038856  0.000136902 0.96553826 ]]\n"
          ],
          "name": "stdout"
        }
      ]
    },
    {
      "cell_type": "code",
      "metadata": {
        "colab": {
          "base_uri": "https://localhost:8080/"
        },
        "id": "dUlp4trVUkZ0",
        "outputId": "f1b23b0f-81d3-43aa-f4c3-90c97a606850"
      },
      "source": [
        "#첫번째 데이터 Class\n",
        "print(mnist_new.predict_classes(X_test[:1, :]))"
      ],
      "execution_count": 69,
      "outputs": [
        {
          "output_type": "stream",
          "text": [
            "[9]\n"
          ],
          "name": "stdout"
        }
      ]
    },
    {
      "cell_type": "markdown",
      "metadata": {
        "id": "n4izFQKMaHCv"
      },
      "source": [
        "## 4. Ealry Stopping "
      ]
    },
    {
      "cell_type": "markdown",
      "metadata": {
        "id": "cBZK4zXeaMIg"
      },
      "source": [
        "### 1)Keras Session Clear"
      ]
    },
    {
      "cell_type": "code",
      "metadata": {
        "id": "ENZ-37nkaN49"
      },
      "source": [
        "from keras import backend as K\n",
        "\n",
        "K.clear_session()"
      ],
      "execution_count": 70,
      "outputs": []
    },
    {
      "cell_type": "markdown",
      "metadata": {
        "id": "cbIeDeBSaOsl"
      },
      "source": [
        "### 2)Model Define & Compile"
      ]
    },
    {
      "cell_type": "code",
      "metadata": {
        "id": "rBNY0kzxaTHA"
      },
      "source": [
        "#define - 위에서 찾은 최적모델\n",
        "mnist_fin = models.Sequential(name = 'EarlyStopping')\n",
        "mnist_fin.add(layers.Dense(256, input_shape = (28 * 28,)))\n",
        "mnist_fin.add(layers.Dropout(0.5))\n",
        "mnist_fin.add(layers.BatchNormalization())\n",
        "mnist_fin.add(layers.Activation('relu'))\n",
        "mnist_fin.add(layers.Dense(64))\n",
        "mnist_fin.add(layers.Dropout(0.2))\n",
        "mnist_fin.add(layers.BatchNormalization())\n",
        "mnist_fin.add(layers.Activation('relu'))\n",
        "mnist_fin.add(layers.Dense(10, activation = 'softmax'))\n",
        "\n",
        "#compile\n",
        "mnist_fin.compile(loss = 'categorical_crossentropy',\n",
        "              optimizer = 'rmsprop',\n",
        "              metrics = ['accuracy'])"
      ],
      "execution_count": 80,
      "outputs": []
    },
    {
      "cell_type": "markdown",
      "metadata": {
        "id": "SaDMh60ub94J"
      },
      "source": [
        "### 3)Ealry Stopping"
      ]
    },
    {
      "cell_type": "code",
      "metadata": {
        "id": "k3SD4li9b__c"
      },
      "source": [
        "from keras.callbacks import EarlyStopping\n",
        "\n",
        "es = EarlyStopping(monitor = 'accuracy',\n",
        "                   mode = 'max',\n",
        "                   patience = 20,\n",
        "                   verbose = 1)"
      ],
      "execution_count": 84,
      "outputs": []
    },
    {
      "cell_type": "markdown",
      "metadata": {
        "id": "-0086F6fci8o"
      },
      "source": [
        "### 4)ModelCheckpoint()"
      ]
    },
    {
      "cell_type": "code",
      "metadata": {
        "id": "51yc2rAjchn0"
      },
      "source": [
        "from keras.callbacks import ModelCheckpoint\n",
        "\n",
        "mc = ModelCheckpoint('best_mnist.h5',\n",
        "                     monitor = 'accuracy',\n",
        "                     mode = 'max',\n",
        "                     save_best_only = True,\n",
        "                     verbose = 1)"
      ],
      "execution_count": 85,
      "outputs": []
    },
    {
      "cell_type": "markdown",
      "metadata": {
        "id": "bBu0I3-4czIM"
      },
      "source": [
        "### 5)Model Fit with callbacks"
      ]
    },
    {
      "cell_type": "code",
      "metadata": {
        "colab": {
          "base_uri": "https://localhost:8080/"
        },
        "id": "ukxy51BQc23A",
        "outputId": "f76ae4b6-982e-48b5-f922-7d66b794abad"
      },
      "source": [
        "%%time\n",
        "\n",
        "Hist_mnist_fin = mnist_fin.fit(X_train, y_train,\n",
        "                         epochs = 300,\n",
        "                         batch_size = 128,\n",
        "                         callbacks = [es, mc],\n",
        "                         verbose = 1)"
      ],
      "execution_count": 86,
      "outputs": [
        {
          "output_type": "stream",
          "text": [
            "Epoch 1/300\n",
            "469/469 [==============================] - 2s 4ms/step - loss: 0.3315 - accuracy: 0.8787\n",
            "\n",
            "Epoch 00001: accuracy improved from -inf to 0.87865, saving model to best_mnist.h5\n",
            "Epoch 2/300\n",
            "469/469 [==============================] - 2s 4ms/step - loss: 0.3271 - accuracy: 0.8831\n",
            "\n",
            "Epoch 00002: accuracy improved from 0.87865 to 0.88312, saving model to best_mnist.h5\n",
            "Epoch 3/300\n",
            "469/469 [==============================] - 2s 4ms/step - loss: 0.3203 - accuracy: 0.8833\n",
            "\n",
            "Epoch 00003: accuracy improved from 0.88312 to 0.88330, saving model to best_mnist.h5\n",
            "Epoch 4/300\n",
            "469/469 [==============================] - 2s 4ms/step - loss: 0.3182 - accuracy: 0.8854\n",
            "\n",
            "Epoch 00004: accuracy improved from 0.88330 to 0.88540, saving model to best_mnist.h5\n",
            "Epoch 5/300\n",
            "469/469 [==============================] - 2s 4ms/step - loss: 0.3132 - accuracy: 0.8866\n",
            "\n",
            "Epoch 00005: accuracy improved from 0.88540 to 0.88657, saving model to best_mnist.h5\n",
            "Epoch 6/300\n",
            "469/469 [==============================] - 2s 4ms/step - loss: 0.3090 - accuracy: 0.8882\n",
            "\n",
            "Epoch 00006: accuracy improved from 0.88657 to 0.88818, saving model to best_mnist.h5\n",
            "Epoch 7/300\n",
            "469/469 [==============================] - 2s 4ms/step - loss: 0.3070 - accuracy: 0.8882\n",
            "\n",
            "Epoch 00007: accuracy did not improve from 0.88818\n",
            "Epoch 8/300\n",
            "469/469 [==============================] - 2s 4ms/step - loss: 0.3043 - accuracy: 0.8894\n",
            "\n",
            "Epoch 00008: accuracy improved from 0.88818 to 0.88938, saving model to best_mnist.h5\n",
            "Epoch 9/300\n",
            "469/469 [==============================] - 2s 4ms/step - loss: 0.3000 - accuracy: 0.8897\n",
            "\n",
            "Epoch 00009: accuracy improved from 0.88938 to 0.88970, saving model to best_mnist.h5\n",
            "Epoch 10/300\n",
            "469/469 [==============================] - 2s 4ms/step - loss: 0.2993 - accuracy: 0.8915\n",
            "\n",
            "Epoch 00010: accuracy improved from 0.88970 to 0.89147, saving model to best_mnist.h5\n",
            "Epoch 11/300\n",
            "469/469 [==============================] - 2s 4ms/step - loss: 0.2970 - accuracy: 0.8922\n",
            "\n",
            "Epoch 00011: accuracy improved from 0.89147 to 0.89217, saving model to best_mnist.h5\n",
            "Epoch 12/300\n",
            "469/469 [==============================] - 2s 4ms/step - loss: 0.2924 - accuracy: 0.8931\n",
            "\n",
            "Epoch 00012: accuracy improved from 0.89217 to 0.89307, saving model to best_mnist.h5\n",
            "Epoch 13/300\n",
            "469/469 [==============================] - 2s 4ms/step - loss: 0.2896 - accuracy: 0.8942\n",
            "\n",
            "Epoch 00013: accuracy improved from 0.89307 to 0.89425, saving model to best_mnist.h5\n",
            "Epoch 14/300\n",
            "469/469 [==============================] - 2s 4ms/step - loss: 0.2886 - accuracy: 0.8949\n",
            "\n",
            "Epoch 00014: accuracy improved from 0.89425 to 0.89493, saving model to best_mnist.h5\n",
            "Epoch 15/300\n",
            "469/469 [==============================] - 2s 4ms/step - loss: 0.2872 - accuracy: 0.8963\n",
            "\n",
            "Epoch 00015: accuracy improved from 0.89493 to 0.89630, saving model to best_mnist.h5\n",
            "Epoch 16/300\n",
            "469/469 [==============================] - 2s 4ms/step - loss: 0.2854 - accuracy: 0.8958\n",
            "\n",
            "Epoch 00016: accuracy did not improve from 0.89630\n",
            "Epoch 17/300\n",
            "469/469 [==============================] - 2s 4ms/step - loss: 0.2838 - accuracy: 0.8961\n",
            "\n",
            "Epoch 00017: accuracy did not improve from 0.89630\n",
            "Epoch 18/300\n",
            "469/469 [==============================] - 2s 4ms/step - loss: 0.2831 - accuracy: 0.8970\n",
            "\n",
            "Epoch 00018: accuracy improved from 0.89630 to 0.89703, saving model to best_mnist.h5\n",
            "Epoch 19/300\n",
            "469/469 [==============================] - 2s 4ms/step - loss: 0.2798 - accuracy: 0.8978\n",
            "\n",
            "Epoch 00019: accuracy improved from 0.89703 to 0.89783, saving model to best_mnist.h5\n",
            "Epoch 20/300\n",
            "469/469 [==============================] - 2s 4ms/step - loss: 0.2761 - accuracy: 0.9008\n",
            "\n",
            "Epoch 00020: accuracy improved from 0.89783 to 0.90080, saving model to best_mnist.h5\n",
            "Epoch 21/300\n",
            "469/469 [==============================] - 2s 4ms/step - loss: 0.2740 - accuracy: 0.9011\n",
            "\n",
            "Epoch 00021: accuracy improved from 0.90080 to 0.90113, saving model to best_mnist.h5\n",
            "Epoch 22/300\n",
            "469/469 [==============================] - 2s 4ms/step - loss: 0.2719 - accuracy: 0.9015\n",
            "\n",
            "Epoch 00022: accuracy improved from 0.90113 to 0.90153, saving model to best_mnist.h5\n",
            "Epoch 23/300\n",
            "469/469 [==============================] - 2s 4ms/step - loss: 0.2704 - accuracy: 0.9033\n",
            "\n",
            "Epoch 00023: accuracy improved from 0.90153 to 0.90333, saving model to best_mnist.h5\n",
            "Epoch 24/300\n",
            "469/469 [==============================] - 2s 4ms/step - loss: 0.2725 - accuracy: 0.9015\n",
            "\n",
            "Epoch 00024: accuracy did not improve from 0.90333\n",
            "Epoch 25/300\n",
            "469/469 [==============================] - 2s 4ms/step - loss: 0.2639 - accuracy: 0.9039\n",
            "\n",
            "Epoch 00025: accuracy improved from 0.90333 to 0.90392, saving model to best_mnist.h5\n",
            "Epoch 26/300\n",
            "469/469 [==============================] - 2s 4ms/step - loss: 0.2656 - accuracy: 0.9028\n",
            "\n",
            "Epoch 00026: accuracy did not improve from 0.90392\n",
            "Epoch 27/300\n",
            "469/469 [==============================] - 2s 4ms/step - loss: 0.2659 - accuracy: 0.9032\n",
            "\n",
            "Epoch 00027: accuracy did not improve from 0.90392\n",
            "Epoch 28/300\n",
            "469/469 [==============================] - 2s 4ms/step - loss: 0.2648 - accuracy: 0.9049\n",
            "\n",
            "Epoch 00028: accuracy improved from 0.90392 to 0.90492, saving model to best_mnist.h5\n",
            "Epoch 29/300\n",
            "469/469 [==============================] - 2s 4ms/step - loss: 0.2599 - accuracy: 0.9069\n",
            "\n",
            "Epoch 00029: accuracy improved from 0.90492 to 0.90695, saving model to best_mnist.h5\n",
            "Epoch 30/300\n",
            "469/469 [==============================] - 2s 4ms/step - loss: 0.2595 - accuracy: 0.9056\n",
            "\n",
            "Epoch 00030: accuracy did not improve from 0.90695\n",
            "Epoch 31/300\n",
            "469/469 [==============================] - 2s 4ms/step - loss: 0.2572 - accuracy: 0.9063\n",
            "\n",
            "Epoch 00031: accuracy did not improve from 0.90695\n",
            "Epoch 32/300\n",
            "469/469 [==============================] - 2s 4ms/step - loss: 0.2592 - accuracy: 0.9063\n",
            "\n",
            "Epoch 00032: accuracy did not improve from 0.90695\n",
            "Epoch 33/300\n",
            "469/469 [==============================] - 2s 4ms/step - loss: 0.2569 - accuracy: 0.9067\n",
            "\n",
            "Epoch 00033: accuracy did not improve from 0.90695\n",
            "Epoch 34/300\n",
            "469/469 [==============================] - 2s 4ms/step - loss: 0.2536 - accuracy: 0.9073\n",
            "\n",
            "Epoch 00034: accuracy improved from 0.90695 to 0.90732, saving model to best_mnist.h5\n",
            "Epoch 35/300\n",
            "469/469 [==============================] - 2s 4ms/step - loss: 0.2523 - accuracy: 0.9091\n",
            "\n",
            "Epoch 00035: accuracy improved from 0.90732 to 0.90908, saving model to best_mnist.h5\n",
            "Epoch 36/300\n",
            "469/469 [==============================] - 2s 4ms/step - loss: 0.2523 - accuracy: 0.9078\n",
            "\n",
            "Epoch 00036: accuracy did not improve from 0.90908\n",
            "Epoch 37/300\n",
            "469/469 [==============================] - 2s 4ms/step - loss: 0.2507 - accuracy: 0.9088\n",
            "\n",
            "Epoch 00037: accuracy did not improve from 0.90908\n",
            "Epoch 38/300\n",
            "469/469 [==============================] - 2s 4ms/step - loss: 0.2495 - accuracy: 0.9106\n",
            "\n",
            "Epoch 00038: accuracy improved from 0.90908 to 0.91057, saving model to best_mnist.h5\n",
            "Epoch 39/300\n",
            "469/469 [==============================] - 2s 4ms/step - loss: 0.2511 - accuracy: 0.9087\n",
            "\n",
            "Epoch 00039: accuracy did not improve from 0.91057\n",
            "Epoch 40/300\n",
            "469/469 [==============================] - 2s 4ms/step - loss: 0.2464 - accuracy: 0.9100\n",
            "\n",
            "Epoch 00040: accuracy did not improve from 0.91057\n",
            "Epoch 41/300\n",
            "469/469 [==============================] - 2s 4ms/step - loss: 0.2460 - accuracy: 0.9107\n",
            "\n",
            "Epoch 00041: accuracy improved from 0.91057 to 0.91075, saving model to best_mnist.h5\n",
            "Epoch 42/300\n",
            "469/469 [==============================] - 2s 4ms/step - loss: 0.2430 - accuracy: 0.9116\n",
            "\n",
            "Epoch 00042: accuracy improved from 0.91075 to 0.91162, saving model to best_mnist.h5\n",
            "Epoch 43/300\n",
            "469/469 [==============================] - 2s 4ms/step - loss: 0.2433 - accuracy: 0.9128\n",
            "\n",
            "Epoch 00043: accuracy improved from 0.91162 to 0.91282, saving model to best_mnist.h5\n",
            "Epoch 44/300\n",
            "469/469 [==============================] - 2s 4ms/step - loss: 0.2421 - accuracy: 0.9113\n",
            "\n",
            "Epoch 00044: accuracy did not improve from 0.91282\n",
            "Epoch 45/300\n",
            "469/469 [==============================] - 2s 4ms/step - loss: 0.2439 - accuracy: 0.9119\n",
            "\n",
            "Epoch 00045: accuracy did not improve from 0.91282\n",
            "Epoch 46/300\n",
            "469/469 [==============================] - 2s 4ms/step - loss: 0.2417 - accuracy: 0.9125\n",
            "\n",
            "Epoch 00046: accuracy did not improve from 0.91282\n",
            "Epoch 47/300\n",
            "469/469 [==============================] - 2s 4ms/step - loss: 0.2394 - accuracy: 0.9146\n",
            "\n",
            "Epoch 00047: accuracy improved from 0.91282 to 0.91458, saving model to best_mnist.h5\n",
            "Epoch 48/300\n",
            "469/469 [==============================] - 2s 4ms/step - loss: 0.2409 - accuracy: 0.9131\n",
            "\n",
            "Epoch 00048: accuracy did not improve from 0.91458\n",
            "Epoch 49/300\n",
            "469/469 [==============================] - 2s 4ms/step - loss: 0.2389 - accuracy: 0.9133\n",
            "\n",
            "Epoch 00049: accuracy did not improve from 0.91458\n",
            "Epoch 50/300\n",
            "469/469 [==============================] - 2s 4ms/step - loss: 0.2355 - accuracy: 0.9155\n",
            "\n",
            "Epoch 00050: accuracy improved from 0.91458 to 0.91552, saving model to best_mnist.h5\n",
            "Epoch 51/300\n",
            "469/469 [==============================] - 2s 4ms/step - loss: 0.2353 - accuracy: 0.9149\n",
            "\n",
            "Epoch 00051: accuracy did not improve from 0.91552\n",
            "Epoch 52/300\n",
            "469/469 [==============================] - 2s 4ms/step - loss: 0.2347 - accuracy: 0.9146\n",
            "\n",
            "Epoch 00052: accuracy did not improve from 0.91552\n",
            "Epoch 53/300\n",
            "469/469 [==============================] - 2s 4ms/step - loss: 0.2349 - accuracy: 0.9158\n",
            "\n",
            "Epoch 00053: accuracy improved from 0.91552 to 0.91580, saving model to best_mnist.h5\n",
            "Epoch 54/300\n",
            "469/469 [==============================] - 2s 4ms/step - loss: 0.2334 - accuracy: 0.9147\n",
            "\n",
            "Epoch 00054: accuracy did not improve from 0.91580\n",
            "Epoch 55/300\n",
            "469/469 [==============================] - 2s 4ms/step - loss: 0.2303 - accuracy: 0.9170\n",
            "\n",
            "Epoch 00055: accuracy improved from 0.91580 to 0.91703, saving model to best_mnist.h5\n",
            "Epoch 56/300\n",
            "469/469 [==============================] - 2s 4ms/step - loss: 0.2317 - accuracy: 0.9168\n",
            "\n",
            "Epoch 00056: accuracy did not improve from 0.91703\n",
            "Epoch 57/300\n",
            "469/469 [==============================] - 2s 4ms/step - loss: 0.2292 - accuracy: 0.9176\n",
            "\n",
            "Epoch 00057: accuracy improved from 0.91703 to 0.91758, saving model to best_mnist.h5\n",
            "Epoch 58/300\n",
            "469/469 [==============================] - 2s 4ms/step - loss: 0.2291 - accuracy: 0.9167\n",
            "\n",
            "Epoch 00058: accuracy did not improve from 0.91758\n",
            "Epoch 59/300\n",
            "469/469 [==============================] - 2s 4ms/step - loss: 0.2278 - accuracy: 0.9176\n",
            "\n",
            "Epoch 00059: accuracy did not improve from 0.91758\n",
            "Epoch 60/300\n",
            "469/469 [==============================] - 2s 4ms/step - loss: 0.2293 - accuracy: 0.9176\n",
            "\n",
            "Epoch 00060: accuracy improved from 0.91758 to 0.91762, saving model to best_mnist.h5\n",
            "Epoch 61/300\n",
            "469/469 [==============================] - 2s 4ms/step - loss: 0.2271 - accuracy: 0.9176\n",
            "\n",
            "Epoch 00061: accuracy did not improve from 0.91762\n",
            "Epoch 62/300\n",
            "469/469 [==============================] - 2s 4ms/step - loss: 0.2256 - accuracy: 0.9182\n",
            "\n",
            "Epoch 00062: accuracy improved from 0.91762 to 0.91823, saving model to best_mnist.h5\n",
            "Epoch 63/300\n",
            "469/469 [==============================] - 2s 4ms/step - loss: 0.2259 - accuracy: 0.9198\n",
            "\n",
            "Epoch 00063: accuracy improved from 0.91823 to 0.91978, saving model to best_mnist.h5\n",
            "Epoch 64/300\n",
            "469/469 [==============================] - 2s 4ms/step - loss: 0.2220 - accuracy: 0.9183\n",
            "\n",
            "Epoch 00064: accuracy did not improve from 0.91978\n",
            "Epoch 65/300\n",
            "469/469 [==============================] - 2s 4ms/step - loss: 0.2247 - accuracy: 0.9201\n",
            "\n",
            "Epoch 00065: accuracy improved from 0.91978 to 0.92005, saving model to best_mnist.h5\n",
            "Epoch 66/300\n",
            "469/469 [==============================] - 2s 4ms/step - loss: 0.2201 - accuracy: 0.9199\n",
            "\n",
            "Epoch 00066: accuracy did not improve from 0.92005\n",
            "Epoch 67/300\n",
            "469/469 [==============================] - 2s 4ms/step - loss: 0.2232 - accuracy: 0.9192\n",
            "\n",
            "Epoch 00067: accuracy did not improve from 0.92005\n",
            "Epoch 68/300\n",
            "469/469 [==============================] - 2s 4ms/step - loss: 0.2185 - accuracy: 0.9211\n",
            "\n",
            "Epoch 00068: accuracy improved from 0.92005 to 0.92113, saving model to best_mnist.h5\n",
            "Epoch 69/300\n",
            "469/469 [==============================] - 2s 4ms/step - loss: 0.2183 - accuracy: 0.9209\n",
            "\n",
            "Epoch 00069: accuracy did not improve from 0.92113\n",
            "Epoch 70/300\n",
            "469/469 [==============================] - 2s 4ms/step - loss: 0.2215 - accuracy: 0.9205\n",
            "\n",
            "Epoch 00070: accuracy did not improve from 0.92113\n",
            "Epoch 71/300\n",
            "469/469 [==============================] - 2s 4ms/step - loss: 0.2171 - accuracy: 0.9215\n",
            "\n",
            "Epoch 00071: accuracy improved from 0.92113 to 0.92147, saving model to best_mnist.h5\n",
            "Epoch 72/300\n",
            "469/469 [==============================] - 2s 4ms/step - loss: 0.2160 - accuracy: 0.9221\n",
            "\n",
            "Epoch 00072: accuracy improved from 0.92147 to 0.92210, saving model to best_mnist.h5\n",
            "Epoch 73/300\n",
            "469/469 [==============================] - 2s 4ms/step - loss: 0.2189 - accuracy: 0.9202\n",
            "\n",
            "Epoch 00073: accuracy did not improve from 0.92210\n",
            "Epoch 74/300\n",
            "469/469 [==============================] - 2s 4ms/step - loss: 0.2176 - accuracy: 0.9207\n",
            "\n",
            "Epoch 00074: accuracy did not improve from 0.92210\n",
            "Epoch 75/300\n",
            "469/469 [==============================] - 2s 4ms/step - loss: 0.2156 - accuracy: 0.9216\n",
            "\n",
            "Epoch 00075: accuracy did not improve from 0.92210\n",
            "Epoch 76/300\n",
            "469/469 [==============================] - 2s 4ms/step - loss: 0.2147 - accuracy: 0.9227\n",
            "\n",
            "Epoch 00076: accuracy improved from 0.92210 to 0.92270, saving model to best_mnist.h5\n",
            "Epoch 77/300\n",
            "469/469 [==============================] - 2s 4ms/step - loss: 0.2119 - accuracy: 0.9243\n",
            "\n",
            "Epoch 00077: accuracy improved from 0.92270 to 0.92430, saving model to best_mnist.h5\n",
            "Epoch 78/300\n",
            "469/469 [==============================] - 2s 4ms/step - loss: 0.2136 - accuracy: 0.9235\n",
            "\n",
            "Epoch 00078: accuracy did not improve from 0.92430\n",
            "Epoch 79/300\n",
            "469/469 [==============================] - 2s 4ms/step - loss: 0.2096 - accuracy: 0.9244\n",
            "\n",
            "Epoch 00079: accuracy improved from 0.92430 to 0.92440, saving model to best_mnist.h5\n",
            "Epoch 80/300\n",
            "469/469 [==============================] - 2s 4ms/step - loss: 0.2120 - accuracy: 0.9239\n",
            "\n",
            "Epoch 00080: accuracy did not improve from 0.92440\n",
            "Epoch 81/300\n",
            "469/469 [==============================] - 2s 4ms/step - loss: 0.2145 - accuracy: 0.9236\n",
            "\n",
            "Epoch 00081: accuracy did not improve from 0.92440\n",
            "Epoch 82/300\n",
            "469/469 [==============================] - 2s 4ms/step - loss: 0.2131 - accuracy: 0.9220\n",
            "\n",
            "Epoch 00082: accuracy did not improve from 0.92440\n",
            "Epoch 83/300\n",
            "469/469 [==============================] - 2s 4ms/step - loss: 0.2080 - accuracy: 0.9245\n",
            "\n",
            "Epoch 00083: accuracy improved from 0.92440 to 0.92447, saving model to best_mnist.h5\n",
            "Epoch 84/300\n",
            "469/469 [==============================] - 2s 4ms/step - loss: 0.2112 - accuracy: 0.9251\n",
            "\n",
            "Epoch 00084: accuracy improved from 0.92447 to 0.92510, saving model to best_mnist.h5\n",
            "Epoch 85/300\n",
            "469/469 [==============================] - 2s 4ms/step - loss: 0.2079 - accuracy: 0.9243\n",
            "\n",
            "Epoch 00085: accuracy did not improve from 0.92510\n",
            "Epoch 86/300\n",
            "469/469 [==============================] - 2s 4ms/step - loss: 0.2105 - accuracy: 0.9242\n",
            "\n",
            "Epoch 00086: accuracy did not improve from 0.92510\n",
            "Epoch 87/300\n",
            "469/469 [==============================] - 2s 4ms/step - loss: 0.2048 - accuracy: 0.9260\n",
            "\n",
            "Epoch 00087: accuracy improved from 0.92510 to 0.92603, saving model to best_mnist.h5\n",
            "Epoch 88/300\n",
            "469/469 [==============================] - 2s 4ms/step - loss: 0.2084 - accuracy: 0.9241\n",
            "\n",
            "Epoch 00088: accuracy did not improve from 0.92603\n",
            "Epoch 89/300\n",
            "469/469 [==============================] - 2s 4ms/step - loss: 0.2068 - accuracy: 0.9255\n",
            "\n",
            "Epoch 00089: accuracy did not improve from 0.92603\n",
            "Epoch 90/300\n",
            "469/469 [==============================] - 2s 4ms/step - loss: 0.2070 - accuracy: 0.9268\n",
            "\n",
            "Epoch 00090: accuracy improved from 0.92603 to 0.92678, saving model to best_mnist.h5\n",
            "Epoch 91/300\n",
            "469/469 [==============================] - 2s 4ms/step - loss: 0.2063 - accuracy: 0.9256\n",
            "\n",
            "Epoch 00091: accuracy did not improve from 0.92678\n",
            "Epoch 92/300\n",
            "469/469 [==============================] - 2s 4ms/step - loss: 0.2040 - accuracy: 0.9255\n",
            "\n",
            "Epoch 00092: accuracy did not improve from 0.92678\n",
            "Epoch 93/300\n",
            "469/469 [==============================] - 2s 4ms/step - loss: 0.2010 - accuracy: 0.9288\n",
            "\n",
            "Epoch 00093: accuracy improved from 0.92678 to 0.92885, saving model to best_mnist.h5\n",
            "Epoch 94/300\n",
            "469/469 [==============================] - 2s 4ms/step - loss: 0.2035 - accuracy: 0.9256\n",
            "\n",
            "Epoch 00094: accuracy did not improve from 0.92885\n",
            "Epoch 95/300\n",
            "469/469 [==============================] - 2s 4ms/step - loss: 0.2025 - accuracy: 0.9279\n",
            "\n",
            "Epoch 00095: accuracy did not improve from 0.92885\n",
            "Epoch 96/300\n",
            "469/469 [==============================] - 2s 4ms/step - loss: 0.2061 - accuracy: 0.9271\n",
            "\n",
            "Epoch 00096: accuracy did not improve from 0.92885\n",
            "Epoch 97/300\n",
            "469/469 [==============================] - 2s 4ms/step - loss: 0.2010 - accuracy: 0.9270\n",
            "\n",
            "Epoch 00097: accuracy did not improve from 0.92885\n",
            "Epoch 98/300\n",
            "469/469 [==============================] - 2s 4ms/step - loss: 0.2005 - accuracy: 0.9289\n",
            "\n",
            "Epoch 00098: accuracy improved from 0.92885 to 0.92892, saving model to best_mnist.h5\n",
            "Epoch 99/300\n",
            "469/469 [==============================] - 2s 4ms/step - loss: 0.1994 - accuracy: 0.9278\n",
            "\n",
            "Epoch 00099: accuracy did not improve from 0.92892\n",
            "Epoch 100/300\n",
            "469/469 [==============================] - 2s 4ms/step - loss: 0.2014 - accuracy: 0.9268\n",
            "\n",
            "Epoch 00100: accuracy did not improve from 0.92892\n",
            "Epoch 101/300\n",
            "469/469 [==============================] - 2s 4ms/step - loss: 0.2013 - accuracy: 0.9284\n",
            "\n",
            "Epoch 00101: accuracy did not improve from 0.92892\n",
            "Epoch 102/300\n",
            "469/469 [==============================] - 2s 4ms/step - loss: 0.1989 - accuracy: 0.9277\n",
            "\n",
            "Epoch 00102: accuracy did not improve from 0.92892\n",
            "Epoch 103/300\n",
            "469/469 [==============================] - 2s 4ms/step - loss: 0.1973 - accuracy: 0.9293\n",
            "\n",
            "Epoch 00103: accuracy improved from 0.92892 to 0.92932, saving model to best_mnist.h5\n",
            "Epoch 104/300\n",
            "469/469 [==============================] - 2s 4ms/step - loss: 0.1993 - accuracy: 0.9287\n",
            "\n",
            "Epoch 00104: accuracy did not improve from 0.92932\n",
            "Epoch 105/300\n",
            "469/469 [==============================] - 2s 4ms/step - loss: 0.1988 - accuracy: 0.9285\n",
            "\n",
            "Epoch 00105: accuracy did not improve from 0.92932\n",
            "Epoch 106/300\n",
            "469/469 [==============================] - 2s 4ms/step - loss: 0.1996 - accuracy: 0.9279\n",
            "\n",
            "Epoch 00106: accuracy did not improve from 0.92932\n",
            "Epoch 107/300\n",
            "469/469 [==============================] - 2s 4ms/step - loss: 0.1968 - accuracy: 0.9289\n",
            "\n",
            "Epoch 00107: accuracy did not improve from 0.92932\n",
            "Epoch 108/300\n",
            "469/469 [==============================] - 2s 4ms/step - loss: 0.1966 - accuracy: 0.9298\n",
            "\n",
            "Epoch 00108: accuracy improved from 0.92932 to 0.92975, saving model to best_mnist.h5\n",
            "Epoch 109/300\n",
            "469/469 [==============================] - 2s 4ms/step - loss: 0.1959 - accuracy: 0.9310\n",
            "\n",
            "Epoch 00109: accuracy improved from 0.92975 to 0.93100, saving model to best_mnist.h5\n",
            "Epoch 110/300\n",
            "469/469 [==============================] - 2s 4ms/step - loss: 0.1922 - accuracy: 0.9310\n",
            "\n",
            "Epoch 00110: accuracy did not improve from 0.93100\n",
            "Epoch 111/300\n",
            "469/469 [==============================] - 2s 4ms/step - loss: 0.1935 - accuracy: 0.9302\n",
            "\n",
            "Epoch 00111: accuracy did not improve from 0.93100\n",
            "Epoch 112/300\n",
            "469/469 [==============================] - 2s 4ms/step - loss: 0.1938 - accuracy: 0.9305\n",
            "\n",
            "Epoch 00112: accuracy did not improve from 0.93100\n",
            "Epoch 113/300\n",
            "469/469 [==============================] - 2s 4ms/step - loss: 0.1945 - accuracy: 0.9314\n",
            "\n",
            "Epoch 00113: accuracy improved from 0.93100 to 0.93137, saving model to best_mnist.h5\n",
            "Epoch 114/300\n",
            "469/469 [==============================] - 2s 4ms/step - loss: 0.1922 - accuracy: 0.9314\n",
            "\n",
            "Epoch 00114: accuracy improved from 0.93137 to 0.93143, saving model to best_mnist.h5\n",
            "Epoch 115/300\n",
            "469/469 [==============================] - 2s 4ms/step - loss: 0.1930 - accuracy: 0.9309\n",
            "\n",
            "Epoch 00115: accuracy did not improve from 0.93143\n",
            "Epoch 116/300\n",
            "469/469 [==============================] - 2s 4ms/step - loss: 0.1921 - accuracy: 0.9298\n",
            "\n",
            "Epoch 00116: accuracy did not improve from 0.93143\n",
            "Epoch 117/300\n",
            "469/469 [==============================] - 2s 4ms/step - loss: 0.1918 - accuracy: 0.9326\n",
            "\n",
            "Epoch 00117: accuracy improved from 0.93143 to 0.93262, saving model to best_mnist.h5\n",
            "Epoch 118/300\n",
            "469/469 [==============================] - 2s 4ms/step - loss: 0.1929 - accuracy: 0.9304\n",
            "\n",
            "Epoch 00118: accuracy did not improve from 0.93262\n",
            "Epoch 119/300\n",
            "469/469 [==============================] - 2s 4ms/step - loss: 0.1913 - accuracy: 0.9317\n",
            "\n",
            "Epoch 00119: accuracy did not improve from 0.93262\n",
            "Epoch 120/300\n",
            "469/469 [==============================] - 2s 4ms/step - loss: 0.1910 - accuracy: 0.9307\n",
            "\n",
            "Epoch 00120: accuracy did not improve from 0.93262\n",
            "Epoch 121/300\n",
            "469/469 [==============================] - 2s 4ms/step - loss: 0.1892 - accuracy: 0.9325\n",
            "\n",
            "Epoch 00121: accuracy did not improve from 0.93262\n",
            "Epoch 122/300\n",
            "469/469 [==============================] - 2s 4ms/step - loss: 0.1893 - accuracy: 0.9318\n",
            "\n",
            "Epoch 00122: accuracy did not improve from 0.93262\n",
            "Epoch 123/300\n",
            "469/469 [==============================] - 2s 4ms/step - loss: 0.1913 - accuracy: 0.9316\n",
            "\n",
            "Epoch 00123: accuracy did not improve from 0.93262\n",
            "Epoch 124/300\n",
            "469/469 [==============================] - 2s 4ms/step - loss: 0.1875 - accuracy: 0.9333\n",
            "\n",
            "Epoch 00124: accuracy improved from 0.93262 to 0.93328, saving model to best_mnist.h5\n",
            "Epoch 125/300\n",
            "469/469 [==============================] - 2s 4ms/step - loss: 0.1868 - accuracy: 0.9326\n",
            "\n",
            "Epoch 00125: accuracy did not improve from 0.93328\n",
            "Epoch 126/300\n",
            "469/469 [==============================] - 2s 4ms/step - loss: 0.1882 - accuracy: 0.9317\n",
            "\n",
            "Epoch 00126: accuracy did not improve from 0.93328\n",
            "Epoch 127/300\n",
            "469/469 [==============================] - 2s 4ms/step - loss: 0.1868 - accuracy: 0.9323\n",
            "\n",
            "Epoch 00127: accuracy did not improve from 0.93328\n",
            "Epoch 128/300\n",
            "469/469 [==============================] - 2s 4ms/step - loss: 0.1866 - accuracy: 0.9341\n",
            "\n",
            "Epoch 00128: accuracy improved from 0.93328 to 0.93405, saving model to best_mnist.h5\n",
            "Epoch 129/300\n",
            "469/469 [==============================] - 2s 4ms/step - loss: 0.1842 - accuracy: 0.9339\n",
            "\n",
            "Epoch 00129: accuracy did not improve from 0.93405\n",
            "Epoch 130/300\n",
            "469/469 [==============================] - 2s 4ms/step - loss: 0.1864 - accuracy: 0.9337\n",
            "\n",
            "Epoch 00130: accuracy did not improve from 0.93405\n",
            "Epoch 131/300\n",
            "469/469 [==============================] - 2s 4ms/step - loss: 0.1836 - accuracy: 0.9348\n",
            "\n",
            "Epoch 00131: accuracy improved from 0.93405 to 0.93483, saving model to best_mnist.h5\n",
            "Epoch 132/300\n",
            "469/469 [==============================] - 2s 4ms/step - loss: 0.1839 - accuracy: 0.9334\n",
            "\n",
            "Epoch 00132: accuracy did not improve from 0.93483\n",
            "Epoch 133/300\n",
            "469/469 [==============================] - 2s 4ms/step - loss: 0.1859 - accuracy: 0.9329\n",
            "\n",
            "Epoch 00133: accuracy did not improve from 0.93483\n",
            "Epoch 134/300\n",
            "469/469 [==============================] - 2s 4ms/step - loss: 0.1846 - accuracy: 0.9345\n",
            "\n",
            "Epoch 00134: accuracy did not improve from 0.93483\n",
            "Epoch 135/300\n",
            "469/469 [==============================] - 2s 4ms/step - loss: 0.1836 - accuracy: 0.9343\n",
            "\n",
            "Epoch 00135: accuracy did not improve from 0.93483\n",
            "Epoch 136/300\n",
            "469/469 [==============================] - 2s 4ms/step - loss: 0.1857 - accuracy: 0.9340\n",
            "\n",
            "Epoch 00136: accuracy did not improve from 0.93483\n",
            "Epoch 137/300\n",
            "469/469 [==============================] - 2s 4ms/step - loss: 0.1819 - accuracy: 0.9349\n",
            "\n",
            "Epoch 00137: accuracy improved from 0.93483 to 0.93488, saving model to best_mnist.h5\n",
            "Epoch 138/300\n",
            "469/469 [==============================] - 2s 4ms/step - loss: 0.1838 - accuracy: 0.9337\n",
            "\n",
            "Epoch 00138: accuracy did not improve from 0.93488\n",
            "Epoch 139/300\n",
            "469/469 [==============================] - 2s 4ms/step - loss: 0.1804 - accuracy: 0.9349\n",
            "\n",
            "Epoch 00139: accuracy improved from 0.93488 to 0.93490, saving model to best_mnist.h5\n",
            "Epoch 140/300\n",
            "469/469 [==============================] - 2s 4ms/step - loss: 0.1817 - accuracy: 0.9348\n",
            "\n",
            "Epoch 00140: accuracy did not improve from 0.93490\n",
            "Epoch 141/300\n",
            "469/469 [==============================] - 2s 4ms/step - loss: 0.1818 - accuracy: 0.9359\n",
            "\n",
            "Epoch 00141: accuracy improved from 0.93490 to 0.93587, saving model to best_mnist.h5\n",
            "Epoch 142/300\n",
            "469/469 [==============================] - 2s 4ms/step - loss: 0.1834 - accuracy: 0.9335\n",
            "\n",
            "Epoch 00142: accuracy did not improve from 0.93587\n",
            "Epoch 143/300\n",
            "469/469 [==============================] - 2s 4ms/step - loss: 0.1797 - accuracy: 0.9359\n",
            "\n",
            "Epoch 00143: accuracy improved from 0.93587 to 0.93595, saving model to best_mnist.h5\n",
            "Epoch 144/300\n",
            "469/469 [==============================] - 2s 4ms/step - loss: 0.1787 - accuracy: 0.9359\n",
            "\n",
            "Epoch 00144: accuracy did not improve from 0.93595\n",
            "Epoch 145/300\n",
            "469/469 [==============================] - 2s 4ms/step - loss: 0.1805 - accuracy: 0.9353\n",
            "\n",
            "Epoch 00145: accuracy did not improve from 0.93595\n",
            "Epoch 146/300\n",
            "469/469 [==============================] - 2s 4ms/step - loss: 0.1790 - accuracy: 0.9360\n",
            "\n",
            "Epoch 00146: accuracy improved from 0.93595 to 0.93600, saving model to best_mnist.h5\n",
            "Epoch 147/300\n",
            "469/469 [==============================] - 2s 4ms/step - loss: 0.1802 - accuracy: 0.9363\n",
            "\n",
            "Epoch 00147: accuracy improved from 0.93600 to 0.93633, saving model to best_mnist.h5\n",
            "Epoch 148/300\n",
            "469/469 [==============================] - 2s 4ms/step - loss: 0.1797 - accuracy: 0.9364\n",
            "\n",
            "Epoch 00148: accuracy improved from 0.93633 to 0.93640, saving model to best_mnist.h5\n",
            "Epoch 149/300\n",
            "469/469 [==============================] - 2s 4ms/step - loss: 0.1782 - accuracy: 0.9369\n",
            "\n",
            "Epoch 00149: accuracy improved from 0.93640 to 0.93690, saving model to best_mnist.h5\n",
            "Epoch 150/300\n",
            "469/469 [==============================] - 2s 4ms/step - loss: 0.1773 - accuracy: 0.9367\n",
            "\n",
            "Epoch 00150: accuracy did not improve from 0.93690\n",
            "Epoch 151/300\n",
            "469/469 [==============================] - 2s 4ms/step - loss: 0.1765 - accuracy: 0.9378\n",
            "\n",
            "Epoch 00151: accuracy improved from 0.93690 to 0.93785, saving model to best_mnist.h5\n",
            "Epoch 152/300\n",
            "469/469 [==============================] - 2s 4ms/step - loss: 0.1777 - accuracy: 0.9369\n",
            "\n",
            "Epoch 00152: accuracy did not improve from 0.93785\n",
            "Epoch 153/300\n",
            "469/469 [==============================] - 2s 4ms/step - loss: 0.1746 - accuracy: 0.9378\n",
            "\n",
            "Epoch 00153: accuracy did not improve from 0.93785\n",
            "Epoch 154/300\n",
            "469/469 [==============================] - 2s 4ms/step - loss: 0.1770 - accuracy: 0.9377\n",
            "\n",
            "Epoch 00154: accuracy did not improve from 0.93785\n",
            "Epoch 155/300\n",
            "469/469 [==============================] - 2s 4ms/step - loss: 0.1747 - accuracy: 0.9376\n",
            "\n",
            "Epoch 00155: accuracy did not improve from 0.93785\n",
            "Epoch 156/300\n",
            "469/469 [==============================] - 2s 4ms/step - loss: 0.1753 - accuracy: 0.9381\n",
            "\n",
            "Epoch 00156: accuracy improved from 0.93785 to 0.93812, saving model to best_mnist.h5\n",
            "Epoch 157/300\n",
            "469/469 [==============================] - 2s 4ms/step - loss: 0.1763 - accuracy: 0.9370\n",
            "\n",
            "Epoch 00157: accuracy did not improve from 0.93812\n",
            "Epoch 158/300\n",
            "469/469 [==============================] - 2s 4ms/step - loss: 0.1747 - accuracy: 0.9382\n",
            "\n",
            "Epoch 00158: accuracy improved from 0.93812 to 0.93822, saving model to best_mnist.h5\n",
            "Epoch 159/300\n",
            "469/469 [==============================] - 2s 4ms/step - loss: 0.1770 - accuracy: 0.9368\n",
            "\n",
            "Epoch 00159: accuracy did not improve from 0.93822\n",
            "Epoch 160/300\n",
            "469/469 [==============================] - 2s 4ms/step - loss: 0.1734 - accuracy: 0.9375\n",
            "\n",
            "Epoch 00160: accuracy did not improve from 0.93822\n",
            "Epoch 161/300\n",
            "469/469 [==============================] - 2s 4ms/step - loss: 0.1733 - accuracy: 0.9393\n",
            "\n",
            "Epoch 00161: accuracy improved from 0.93822 to 0.93927, saving model to best_mnist.h5\n",
            "Epoch 162/300\n",
            "469/469 [==============================] - 2s 4ms/step - loss: 0.1762 - accuracy: 0.9372\n",
            "\n",
            "Epoch 00162: accuracy did not improve from 0.93927\n",
            "Epoch 163/300\n",
            "469/469 [==============================] - 2s 4ms/step - loss: 0.1724 - accuracy: 0.9386\n",
            "\n",
            "Epoch 00163: accuracy did not improve from 0.93927\n",
            "Epoch 164/300\n",
            "469/469 [==============================] - 2s 4ms/step - loss: 0.1700 - accuracy: 0.9398\n",
            "\n",
            "Epoch 00164: accuracy improved from 0.93927 to 0.93983, saving model to best_mnist.h5\n",
            "Epoch 165/300\n",
            "469/469 [==============================] - 2s 4ms/step - loss: 0.1732 - accuracy: 0.9386\n",
            "\n",
            "Epoch 00165: accuracy did not improve from 0.93983\n",
            "Epoch 166/300\n",
            "469/469 [==============================] - 2s 4ms/step - loss: 0.1718 - accuracy: 0.9385\n",
            "\n",
            "Epoch 00166: accuracy did not improve from 0.93983\n",
            "Epoch 167/300\n",
            "469/469 [==============================] - 2s 4ms/step - loss: 0.1734 - accuracy: 0.9384\n",
            "\n",
            "Epoch 00167: accuracy did not improve from 0.93983\n",
            "Epoch 168/300\n",
            "469/469 [==============================] - 2s 4ms/step - loss: 0.1700 - accuracy: 0.9394\n",
            "\n",
            "Epoch 00168: accuracy did not improve from 0.93983\n",
            "Epoch 169/300\n",
            "469/469 [==============================] - 2s 4ms/step - loss: 0.1718 - accuracy: 0.9397\n",
            "\n",
            "Epoch 00169: accuracy did not improve from 0.93983\n",
            "Epoch 170/300\n",
            "469/469 [==============================] - 2s 4ms/step - loss: 0.1725 - accuracy: 0.9397\n",
            "\n",
            "Epoch 00170: accuracy did not improve from 0.93983\n",
            "Epoch 171/300\n",
            "469/469 [==============================] - 2s 4ms/step - loss: 0.1681 - accuracy: 0.9395\n",
            "\n",
            "Epoch 00171: accuracy did not improve from 0.93983\n",
            "Epoch 172/300\n",
            "469/469 [==============================] - 2s 4ms/step - loss: 0.1685 - accuracy: 0.9396\n",
            "\n",
            "Epoch 00172: accuracy did not improve from 0.93983\n",
            "Epoch 173/300\n",
            "469/469 [==============================] - 2s 4ms/step - loss: 0.1710 - accuracy: 0.9403\n",
            "\n",
            "Epoch 00173: accuracy improved from 0.93983 to 0.94032, saving model to best_mnist.h5\n",
            "Epoch 174/300\n",
            "469/469 [==============================] - 2s 4ms/step - loss: 0.1708 - accuracy: 0.9386\n",
            "\n",
            "Epoch 00174: accuracy did not improve from 0.94032\n",
            "Epoch 175/300\n",
            "469/469 [==============================] - 2s 4ms/step - loss: 0.1711 - accuracy: 0.9379\n",
            "\n",
            "Epoch 00175: accuracy did not improve from 0.94032\n",
            "Epoch 176/300\n",
            "469/469 [==============================] - 2s 4ms/step - loss: 0.1684 - accuracy: 0.9394\n",
            "\n",
            "Epoch 00176: accuracy did not improve from 0.94032\n",
            "Epoch 177/300\n",
            "469/469 [==============================] - 2s 4ms/step - loss: 0.1682 - accuracy: 0.9405\n",
            "\n",
            "Epoch 00177: accuracy improved from 0.94032 to 0.94050, saving model to best_mnist.h5\n",
            "Epoch 178/300\n",
            "469/469 [==============================] - 2s 4ms/step - loss: 0.1703 - accuracy: 0.9394\n",
            "\n",
            "Epoch 00178: accuracy did not improve from 0.94050\n",
            "Epoch 179/300\n",
            "469/469 [==============================] - 2s 4ms/step - loss: 0.1676 - accuracy: 0.9403\n",
            "\n",
            "Epoch 00179: accuracy did not improve from 0.94050\n",
            "Epoch 180/300\n",
            "469/469 [==============================] - 2s 4ms/step - loss: 0.1691 - accuracy: 0.9387\n",
            "\n",
            "Epoch 00180: accuracy did not improve from 0.94050\n",
            "Epoch 181/300\n",
            "469/469 [==============================] - 2s 4ms/step - loss: 0.1668 - accuracy: 0.9404\n",
            "\n",
            "Epoch 00181: accuracy did not improve from 0.94050\n",
            "Epoch 182/300\n",
            "469/469 [==============================] - 2s 4ms/step - loss: 0.1672 - accuracy: 0.9398\n",
            "\n",
            "Epoch 00182: accuracy did not improve from 0.94050\n",
            "Epoch 183/300\n",
            "469/469 [==============================] - 2s 4ms/step - loss: 0.1679 - accuracy: 0.9401\n",
            "\n",
            "Epoch 00183: accuracy did not improve from 0.94050\n",
            "Epoch 184/300\n",
            "469/469 [==============================] - 2s 4ms/step - loss: 0.1643 - accuracy: 0.9413\n",
            "\n",
            "Epoch 00184: accuracy improved from 0.94050 to 0.94125, saving model to best_mnist.h5\n",
            "Epoch 185/300\n",
            "469/469 [==============================] - 2s 4ms/step - loss: 0.1672 - accuracy: 0.9404\n",
            "\n",
            "Epoch 00185: accuracy did not improve from 0.94125\n",
            "Epoch 186/300\n",
            "469/469 [==============================] - 2s 4ms/step - loss: 0.1646 - accuracy: 0.9419\n",
            "\n",
            "Epoch 00186: accuracy improved from 0.94125 to 0.94192, saving model to best_mnist.h5\n",
            "Epoch 187/300\n",
            "469/469 [==============================] - 2s 4ms/step - loss: 0.1647 - accuracy: 0.9414\n",
            "\n",
            "Epoch 00187: accuracy did not improve from 0.94192\n",
            "Epoch 188/300\n",
            "469/469 [==============================] - 2s 4ms/step - loss: 0.1651 - accuracy: 0.9413\n",
            "\n",
            "Epoch 00188: accuracy did not improve from 0.94192\n",
            "Epoch 189/300\n",
            "469/469 [==============================] - 2s 4ms/step - loss: 0.1691 - accuracy: 0.9407\n",
            "\n",
            "Epoch 00189: accuracy did not improve from 0.94192\n",
            "Epoch 190/300\n",
            "469/469 [==============================] - 2s 4ms/step - loss: 0.1638 - accuracy: 0.9409\n",
            "\n",
            "Epoch 00190: accuracy did not improve from 0.94192\n",
            "Epoch 191/300\n",
            "469/469 [==============================] - 2s 4ms/step - loss: 0.1643 - accuracy: 0.9424\n",
            "\n",
            "Epoch 00191: accuracy improved from 0.94192 to 0.94238, saving model to best_mnist.h5\n",
            "Epoch 192/300\n",
            "469/469 [==============================] - 2s 4ms/step - loss: 0.1632 - accuracy: 0.9422\n",
            "\n",
            "Epoch 00192: accuracy did not improve from 0.94238\n",
            "Epoch 193/300\n",
            "469/469 [==============================] - 2s 4ms/step - loss: 0.1640 - accuracy: 0.9410\n",
            "\n",
            "Epoch 00193: accuracy did not improve from 0.94238\n",
            "Epoch 194/300\n",
            "469/469 [==============================] - 2s 4ms/step - loss: 0.1649 - accuracy: 0.9410\n",
            "\n",
            "Epoch 00194: accuracy did not improve from 0.94238\n",
            "Epoch 195/300\n",
            "469/469 [==============================] - 2s 4ms/step - loss: 0.1621 - accuracy: 0.9415\n",
            "\n",
            "Epoch 00195: accuracy did not improve from 0.94238\n",
            "Epoch 196/300\n",
            "469/469 [==============================] - 2s 4ms/step - loss: 0.1614 - accuracy: 0.9413\n",
            "\n",
            "Epoch 00196: accuracy did not improve from 0.94238\n",
            "Epoch 197/300\n",
            "469/469 [==============================] - 2s 4ms/step - loss: 0.1620 - accuracy: 0.9422\n",
            "\n",
            "Epoch 00197: accuracy did not improve from 0.94238\n",
            "Epoch 198/300\n",
            "469/469 [==============================] - 2s 4ms/step - loss: 0.1642 - accuracy: 0.9427\n",
            "\n",
            "Epoch 00198: accuracy improved from 0.94238 to 0.94275, saving model to best_mnist.h5\n",
            "Epoch 199/300\n",
            "469/469 [==============================] - 2s 4ms/step - loss: 0.1620 - accuracy: 0.9430\n",
            "\n",
            "Epoch 00199: accuracy improved from 0.94275 to 0.94297, saving model to best_mnist.h5\n",
            "Epoch 200/300\n",
            "469/469 [==============================] - 2s 4ms/step - loss: 0.1603 - accuracy: 0.9433\n",
            "\n",
            "Epoch 00200: accuracy improved from 0.94297 to 0.94333, saving model to best_mnist.h5\n",
            "Epoch 201/300\n",
            "469/469 [==============================] - 2s 4ms/step - loss: 0.1608 - accuracy: 0.9437\n",
            "\n",
            "Epoch 00201: accuracy improved from 0.94333 to 0.94368, saving model to best_mnist.h5\n",
            "Epoch 202/300\n",
            "469/469 [==============================] - 2s 4ms/step - loss: 0.1620 - accuracy: 0.9435\n",
            "\n",
            "Epoch 00202: accuracy did not improve from 0.94368\n",
            "Epoch 203/300\n",
            "469/469 [==============================] - 2s 4ms/step - loss: 0.1610 - accuracy: 0.9428\n",
            "\n",
            "Epoch 00203: accuracy did not improve from 0.94368\n",
            "Epoch 204/300\n",
            "469/469 [==============================] - 2s 4ms/step - loss: 0.1605 - accuracy: 0.9427\n",
            "\n",
            "Epoch 00204: accuracy did not improve from 0.94368\n",
            "Epoch 205/300\n",
            "469/469 [==============================] - 2s 4ms/step - loss: 0.1607 - accuracy: 0.9419\n",
            "\n",
            "Epoch 00205: accuracy did not improve from 0.94368\n",
            "Epoch 206/300\n",
            "469/469 [==============================] - 2s 4ms/step - loss: 0.1615 - accuracy: 0.9422\n",
            "\n",
            "Epoch 00206: accuracy did not improve from 0.94368\n",
            "Epoch 207/300\n",
            "469/469 [==============================] - 2s 4ms/step - loss: 0.1604 - accuracy: 0.9425\n",
            "\n",
            "Epoch 00207: accuracy did not improve from 0.94368\n",
            "Epoch 208/300\n",
            "469/469 [==============================] - 2s 4ms/step - loss: 0.1569 - accuracy: 0.9446\n",
            "\n",
            "Epoch 00208: accuracy improved from 0.94368 to 0.94465, saving model to best_mnist.h5\n",
            "Epoch 209/300\n",
            "469/469 [==============================] - 2s 4ms/step - loss: 0.1575 - accuracy: 0.9434\n",
            "\n",
            "Epoch 00209: accuracy did not improve from 0.94465\n",
            "Epoch 210/300\n",
            "469/469 [==============================] - 2s 4ms/step - loss: 0.1585 - accuracy: 0.9441\n",
            "\n",
            "Epoch 00210: accuracy did not improve from 0.94465\n",
            "Epoch 211/300\n",
            "469/469 [==============================] - 2s 4ms/step - loss: 0.1604 - accuracy: 0.9448\n",
            "\n",
            "Epoch 00211: accuracy improved from 0.94465 to 0.94482, saving model to best_mnist.h5\n",
            "Epoch 212/300\n",
            "469/469 [==============================] - 2s 4ms/step - loss: 0.1565 - accuracy: 0.9448\n",
            "\n",
            "Epoch 00212: accuracy did not improve from 0.94482\n",
            "Epoch 213/300\n",
            "469/469 [==============================] - 2s 4ms/step - loss: 0.1576 - accuracy: 0.9441\n",
            "\n",
            "Epoch 00213: accuracy did not improve from 0.94482\n",
            "Epoch 214/300\n",
            "469/469 [==============================] - 2s 4ms/step - loss: 0.1604 - accuracy: 0.9421\n",
            "\n",
            "Epoch 00214: accuracy did not improve from 0.94482\n",
            "Epoch 215/300\n",
            "469/469 [==============================] - 2s 4ms/step - loss: 0.1566 - accuracy: 0.9438\n",
            "\n",
            "Epoch 00215: accuracy did not improve from 0.94482\n",
            "Epoch 216/300\n",
            "469/469 [==============================] - 2s 4ms/step - loss: 0.1557 - accuracy: 0.9444\n",
            "\n",
            "Epoch 00216: accuracy did not improve from 0.94482\n",
            "Epoch 217/300\n",
            "469/469 [==============================] - 2s 4ms/step - loss: 0.1580 - accuracy: 0.9436\n",
            "\n",
            "Epoch 00217: accuracy did not improve from 0.94482\n",
            "Epoch 218/300\n",
            "469/469 [==============================] - 2s 4ms/step - loss: 0.1565 - accuracy: 0.9445\n",
            "\n",
            "Epoch 00218: accuracy did not improve from 0.94482\n",
            "Epoch 219/300\n",
            "469/469 [==============================] - 2s 4ms/step - loss: 0.1577 - accuracy: 0.9447\n",
            "\n",
            "Epoch 00219: accuracy did not improve from 0.94482\n",
            "Epoch 220/300\n",
            "469/469 [==============================] - 2s 4ms/step - loss: 0.1587 - accuracy: 0.9426\n",
            "\n",
            "Epoch 00220: accuracy did not improve from 0.94482\n",
            "Epoch 221/300\n",
            "469/469 [==============================] - 2s 4ms/step - loss: 0.1590 - accuracy: 0.9435\n",
            "\n",
            "Epoch 00221: accuracy did not improve from 0.94482\n",
            "Epoch 222/300\n",
            "469/469 [==============================] - 2s 4ms/step - loss: 0.1559 - accuracy: 0.9446\n",
            "\n",
            "Epoch 00222: accuracy did not improve from 0.94482\n",
            "Epoch 223/300\n",
            "469/469 [==============================] - 2s 4ms/step - loss: 0.1551 - accuracy: 0.9454\n",
            "\n",
            "Epoch 00223: accuracy improved from 0.94482 to 0.94537, saving model to best_mnist.h5\n",
            "Epoch 224/300\n",
            "469/469 [==============================] - 2s 5ms/step - loss: 0.1562 - accuracy: 0.9442\n",
            "\n",
            "Epoch 00224: accuracy did not improve from 0.94537\n",
            "Epoch 225/300\n",
            "469/469 [==============================] - 2s 4ms/step - loss: 0.1546 - accuracy: 0.9456\n",
            "\n",
            "Epoch 00225: accuracy improved from 0.94537 to 0.94562, saving model to best_mnist.h5\n",
            "Epoch 226/300\n",
            "469/469 [==============================] - 2s 5ms/step - loss: 0.1551 - accuracy: 0.9454\n",
            "\n",
            "Epoch 00226: accuracy did not improve from 0.94562\n",
            "Epoch 227/300\n",
            "469/469 [==============================] - 2s 5ms/step - loss: 0.1565 - accuracy: 0.9452\n",
            "\n",
            "Epoch 00227: accuracy did not improve from 0.94562\n",
            "Epoch 228/300\n",
            "469/469 [==============================] - 2s 5ms/step - loss: 0.1558 - accuracy: 0.9452\n",
            "\n",
            "Epoch 00228: accuracy did not improve from 0.94562\n",
            "Epoch 229/300\n",
            "469/469 [==============================] - 2s 5ms/step - loss: 0.1548 - accuracy: 0.9452\n",
            "\n",
            "Epoch 00229: accuracy did not improve from 0.94562\n",
            "Epoch 230/300\n",
            "469/469 [==============================] - 2s 5ms/step - loss: 0.1561 - accuracy: 0.9451\n",
            "\n",
            "Epoch 00230: accuracy did not improve from 0.94562\n",
            "Epoch 231/300\n",
            "469/469 [==============================] - 2s 4ms/step - loss: 0.1531 - accuracy: 0.9457\n",
            "\n",
            "Epoch 00231: accuracy improved from 0.94562 to 0.94573, saving model to best_mnist.h5\n",
            "Epoch 232/300\n",
            "469/469 [==============================] - 2s 4ms/step - loss: 0.1546 - accuracy: 0.9466\n",
            "\n",
            "Epoch 00232: accuracy improved from 0.94573 to 0.94662, saving model to best_mnist.h5\n",
            "Epoch 233/300\n",
            "469/469 [==============================] - 2s 4ms/step - loss: 0.1537 - accuracy: 0.9460\n",
            "\n",
            "Epoch 00233: accuracy did not improve from 0.94662\n",
            "Epoch 234/300\n",
            "469/469 [==============================] - 2s 5ms/step - loss: 0.1512 - accuracy: 0.9455\n",
            "\n",
            "Epoch 00234: accuracy did not improve from 0.94662\n",
            "Epoch 235/300\n",
            "469/469 [==============================] - 2s 4ms/step - loss: 0.1538 - accuracy: 0.9459\n",
            "\n",
            "Epoch 00235: accuracy did not improve from 0.94662\n",
            "Epoch 236/300\n",
            "469/469 [==============================] - 2s 4ms/step - loss: 0.1501 - accuracy: 0.9465\n",
            "\n",
            "Epoch 00236: accuracy did not improve from 0.94662\n",
            "Epoch 237/300\n",
            "469/469 [==============================] - 2s 4ms/step - loss: 0.1520 - accuracy: 0.9466\n",
            "\n",
            "Epoch 00237: accuracy did not improve from 0.94662\n",
            "Epoch 238/300\n",
            "469/469 [==============================] - 2s 4ms/step - loss: 0.1519 - accuracy: 0.9456\n",
            "\n",
            "Epoch 00238: accuracy did not improve from 0.94662\n",
            "Epoch 239/300\n",
            "469/469 [==============================] - 2s 4ms/step - loss: 0.1548 - accuracy: 0.9440\n",
            "\n",
            "Epoch 00239: accuracy did not improve from 0.94662\n",
            "Epoch 240/300\n",
            "469/469 [==============================] - 2s 4ms/step - loss: 0.1531 - accuracy: 0.9446\n",
            "\n",
            "Epoch 00240: accuracy did not improve from 0.94662\n",
            "Epoch 241/300\n",
            "469/469 [==============================] - 2s 4ms/step - loss: 0.1513 - accuracy: 0.9453\n",
            "\n",
            "Epoch 00241: accuracy did not improve from 0.94662\n",
            "Epoch 242/300\n",
            "469/469 [==============================] - 2s 4ms/step - loss: 0.1489 - accuracy: 0.9472\n",
            "\n",
            "Epoch 00242: accuracy improved from 0.94662 to 0.94717, saving model to best_mnist.h5\n",
            "Epoch 243/300\n",
            "469/469 [==============================] - 2s 4ms/step - loss: 0.1509 - accuracy: 0.9467\n",
            "\n",
            "Epoch 00243: accuracy did not improve from 0.94717\n",
            "Epoch 244/300\n",
            "469/469 [==============================] - 2s 4ms/step - loss: 0.1511 - accuracy: 0.9460\n",
            "\n",
            "Epoch 00244: accuracy did not improve from 0.94717\n",
            "Epoch 245/300\n",
            "469/469 [==============================] - 2s 4ms/step - loss: 0.1507 - accuracy: 0.9464\n",
            "\n",
            "Epoch 00245: accuracy did not improve from 0.94717\n",
            "Epoch 246/300\n",
            "469/469 [==============================] - 2s 5ms/step - loss: 0.1513 - accuracy: 0.9453\n",
            "\n",
            "Epoch 00246: accuracy did not improve from 0.94717\n",
            "Epoch 247/300\n",
            "469/469 [==============================] - 2s 5ms/step - loss: 0.1499 - accuracy: 0.9463\n",
            "\n",
            "Epoch 00247: accuracy did not improve from 0.94717\n",
            "Epoch 248/300\n",
            "469/469 [==============================] - 2s 5ms/step - loss: 0.1474 - accuracy: 0.9466\n",
            "\n",
            "Epoch 00248: accuracy did not improve from 0.94717\n",
            "Epoch 249/300\n",
            "469/469 [==============================] - 2s 5ms/step - loss: 0.1479 - accuracy: 0.9482\n",
            "\n",
            "Epoch 00249: accuracy improved from 0.94717 to 0.94817, saving model to best_mnist.h5\n",
            "Epoch 250/300\n",
            "469/469 [==============================] - 2s 4ms/step - loss: 0.1509 - accuracy: 0.9469\n",
            "\n",
            "Epoch 00250: accuracy did not improve from 0.94817\n",
            "Epoch 251/300\n",
            "469/469 [==============================] - 2s 4ms/step - loss: 0.1502 - accuracy: 0.9477\n",
            "\n",
            "Epoch 00251: accuracy did not improve from 0.94817\n",
            "Epoch 252/300\n",
            "469/469 [==============================] - 2s 4ms/step - loss: 0.1515 - accuracy: 0.9469\n",
            "\n",
            "Epoch 00252: accuracy did not improve from 0.94817\n",
            "Epoch 253/300\n",
            "469/469 [==============================] - 2s 4ms/step - loss: 0.1515 - accuracy: 0.9471\n",
            "\n",
            "Epoch 00253: accuracy did not improve from 0.94817\n",
            "Epoch 254/300\n",
            "469/469 [==============================] - 2s 4ms/step - loss: 0.1505 - accuracy: 0.9473\n",
            "\n",
            "Epoch 00254: accuracy did not improve from 0.94817\n",
            "Epoch 255/300\n",
            "469/469 [==============================] - 2s 4ms/step - loss: 0.1510 - accuracy: 0.9459\n",
            "\n",
            "Epoch 00255: accuracy did not improve from 0.94817\n",
            "Epoch 256/300\n",
            "469/469 [==============================] - 2s 5ms/step - loss: 0.1475 - accuracy: 0.9482\n",
            "\n",
            "Epoch 00256: accuracy improved from 0.94817 to 0.94820, saving model to best_mnist.h5\n",
            "Epoch 257/300\n",
            "469/469 [==============================] - 2s 5ms/step - loss: 0.1478 - accuracy: 0.9475\n",
            "\n",
            "Epoch 00257: accuracy did not improve from 0.94820\n",
            "Epoch 258/300\n",
            "469/469 [==============================] - 2s 5ms/step - loss: 0.1472 - accuracy: 0.9480\n",
            "\n",
            "Epoch 00258: accuracy did not improve from 0.94820\n",
            "Epoch 259/300\n",
            "469/469 [==============================] - 2s 5ms/step - loss: 0.1455 - accuracy: 0.9479\n",
            "\n",
            "Epoch 00259: accuracy did not improve from 0.94820\n",
            "Epoch 260/300\n",
            "469/469 [==============================] - 2s 4ms/step - loss: 0.1452 - accuracy: 0.9477\n",
            "\n",
            "Epoch 00260: accuracy did not improve from 0.94820\n",
            "Epoch 261/300\n",
            "469/469 [==============================] - 2s 4ms/step - loss: 0.1446 - accuracy: 0.9492\n",
            "\n",
            "Epoch 00261: accuracy improved from 0.94820 to 0.94918, saving model to best_mnist.h5\n",
            "Epoch 262/300\n",
            "469/469 [==============================] - 2s 4ms/step - loss: 0.1487 - accuracy: 0.9468\n",
            "\n",
            "Epoch 00262: accuracy did not improve from 0.94918\n",
            "Epoch 263/300\n",
            "469/469 [==============================] - 2s 4ms/step - loss: 0.1452 - accuracy: 0.9491\n",
            "\n",
            "Epoch 00263: accuracy did not improve from 0.94918\n",
            "Epoch 264/300\n",
            "469/469 [==============================] - 2s 4ms/step - loss: 0.1468 - accuracy: 0.9486\n",
            "\n",
            "Epoch 00264: accuracy did not improve from 0.94918\n",
            "Epoch 265/300\n",
            "469/469 [==============================] - 2s 4ms/step - loss: 0.1493 - accuracy: 0.9468\n",
            "\n",
            "Epoch 00265: accuracy did not improve from 0.94918\n",
            "Epoch 266/300\n",
            "469/469 [==============================] - 2s 4ms/step - loss: 0.1476 - accuracy: 0.9483\n",
            "\n",
            "Epoch 00266: accuracy did not improve from 0.94918\n",
            "Epoch 267/300\n",
            "469/469 [==============================] - 2s 4ms/step - loss: 0.1453 - accuracy: 0.9475\n",
            "\n",
            "Epoch 00267: accuracy did not improve from 0.94918\n",
            "Epoch 268/300\n",
            "469/469 [==============================] - 2s 4ms/step - loss: 0.1456 - accuracy: 0.9487\n",
            "\n",
            "Epoch 00268: accuracy did not improve from 0.94918\n",
            "Epoch 269/300\n",
            "469/469 [==============================] - 2s 4ms/step - loss: 0.1466 - accuracy: 0.9477\n",
            "\n",
            "Epoch 00269: accuracy did not improve from 0.94918\n",
            "Epoch 270/300\n",
            "469/469 [==============================] - 2s 4ms/step - loss: 0.1450 - accuracy: 0.9488\n",
            "\n",
            "Epoch 00270: accuracy did not improve from 0.94918\n",
            "Epoch 271/300\n",
            "469/469 [==============================] - 2s 4ms/step - loss: 0.1431 - accuracy: 0.9495\n",
            "\n",
            "Epoch 00271: accuracy improved from 0.94918 to 0.94948, saving model to best_mnist.h5\n",
            "Epoch 272/300\n",
            "469/469 [==============================] - 2s 4ms/step - loss: 0.1470 - accuracy: 0.9477\n",
            "\n",
            "Epoch 00272: accuracy did not improve from 0.94948\n",
            "Epoch 273/300\n",
            "469/469 [==============================] - 2s 4ms/step - loss: 0.1466 - accuracy: 0.9487\n",
            "\n",
            "Epoch 00273: accuracy did not improve from 0.94948\n",
            "Epoch 274/300\n",
            "469/469 [==============================] - 2s 4ms/step - loss: 0.1438 - accuracy: 0.9491\n",
            "\n",
            "Epoch 00274: accuracy did not improve from 0.94948\n",
            "Epoch 275/300\n",
            "469/469 [==============================] - 2s 4ms/step - loss: 0.1437 - accuracy: 0.9489\n",
            "\n",
            "Epoch 00275: accuracy did not improve from 0.94948\n",
            "Epoch 276/300\n",
            "469/469 [==============================] - 2s 4ms/step - loss: 0.1434 - accuracy: 0.9495\n",
            "\n",
            "Epoch 00276: accuracy improved from 0.94948 to 0.94950, saving model to best_mnist.h5\n",
            "Epoch 277/300\n",
            "469/469 [==============================] - 2s 4ms/step - loss: 0.1410 - accuracy: 0.9493\n",
            "\n",
            "Epoch 00277: accuracy did not improve from 0.94950\n",
            "Epoch 278/300\n",
            "469/469 [==============================] - 2s 4ms/step - loss: 0.1452 - accuracy: 0.9488\n",
            "\n",
            "Epoch 00278: accuracy did not improve from 0.94950\n",
            "Epoch 279/300\n",
            "469/469 [==============================] - 2s 4ms/step - loss: 0.1440 - accuracy: 0.9489\n",
            "\n",
            "Epoch 00279: accuracy did not improve from 0.94950\n",
            "Epoch 280/300\n",
            "469/469 [==============================] - 2s 4ms/step - loss: 0.1422 - accuracy: 0.9499\n",
            "\n",
            "Epoch 00280: accuracy improved from 0.94950 to 0.94993, saving model to best_mnist.h5\n",
            "Epoch 281/300\n",
            "469/469 [==============================] - 2s 4ms/step - loss: 0.1459 - accuracy: 0.9483\n",
            "\n",
            "Epoch 00281: accuracy did not improve from 0.94993\n",
            "Epoch 282/300\n",
            "469/469 [==============================] - 2s 4ms/step - loss: 0.1448 - accuracy: 0.9486\n",
            "\n",
            "Epoch 00282: accuracy did not improve from 0.94993\n",
            "Epoch 283/300\n",
            "469/469 [==============================] - 2s 4ms/step - loss: 0.1423 - accuracy: 0.9502\n",
            "\n",
            "Epoch 00283: accuracy improved from 0.94993 to 0.95020, saving model to best_mnist.h5\n",
            "Epoch 284/300\n",
            "469/469 [==============================] - 2s 4ms/step - loss: 0.1415 - accuracy: 0.9502\n",
            "\n",
            "Epoch 00284: accuracy did not improve from 0.95020\n",
            "Epoch 285/300\n",
            "469/469 [==============================] - 2s 4ms/step - loss: 0.1426 - accuracy: 0.9499\n",
            "\n",
            "Epoch 00285: accuracy did not improve from 0.95020\n",
            "Epoch 286/300\n",
            "469/469 [==============================] - 2s 4ms/step - loss: 0.1449 - accuracy: 0.9486\n",
            "\n",
            "Epoch 00286: accuracy did not improve from 0.95020\n",
            "Epoch 287/300\n",
            "469/469 [==============================] - 2s 4ms/step - loss: 0.1410 - accuracy: 0.9494\n",
            "\n",
            "Epoch 00287: accuracy did not improve from 0.95020\n",
            "Epoch 288/300\n",
            "469/469 [==============================] - 2s 4ms/step - loss: 0.1447 - accuracy: 0.9504\n",
            "\n",
            "Epoch 00288: accuracy improved from 0.95020 to 0.95037, saving model to best_mnist.h5\n",
            "Epoch 289/300\n",
            "469/469 [==============================] - 2s 4ms/step - loss: 0.1412 - accuracy: 0.9496\n",
            "\n",
            "Epoch 00289: accuracy did not improve from 0.95037\n",
            "Epoch 290/300\n",
            "469/469 [==============================] - 2s 4ms/step - loss: 0.1419 - accuracy: 0.9494\n",
            "\n",
            "Epoch 00290: accuracy did not improve from 0.95037\n",
            "Epoch 291/300\n",
            "469/469 [==============================] - 2s 4ms/step - loss: 0.1447 - accuracy: 0.9490\n",
            "\n",
            "Epoch 00291: accuracy did not improve from 0.95037\n",
            "Epoch 292/300\n",
            "469/469 [==============================] - 2s 4ms/step - loss: 0.1385 - accuracy: 0.9514\n",
            "\n",
            "Epoch 00292: accuracy improved from 0.95037 to 0.95138, saving model to best_mnist.h5\n",
            "Epoch 293/300\n",
            "469/469 [==============================] - 2s 4ms/step - loss: 0.1383 - accuracy: 0.9512\n",
            "\n",
            "Epoch 00293: accuracy did not improve from 0.95138\n",
            "Epoch 294/300\n",
            "469/469 [==============================] - 2s 4ms/step - loss: 0.1414 - accuracy: 0.9500\n",
            "\n",
            "Epoch 00294: accuracy did not improve from 0.95138\n",
            "Epoch 295/300\n",
            "469/469 [==============================] - 2s 4ms/step - loss: 0.1390 - accuracy: 0.9506\n",
            "\n",
            "Epoch 00295: accuracy did not improve from 0.95138\n",
            "Epoch 296/300\n",
            "469/469 [==============================] - 2s 4ms/step - loss: 0.1380 - accuracy: 0.9508\n",
            "\n",
            "Epoch 00296: accuracy did not improve from 0.95138\n",
            "Epoch 297/300\n",
            "469/469 [==============================] - 2s 4ms/step - loss: 0.1393 - accuracy: 0.9511\n",
            "\n",
            "Epoch 00297: accuracy did not improve from 0.95138\n",
            "Epoch 298/300\n",
            "469/469 [==============================] - 2s 4ms/step - loss: 0.1411 - accuracy: 0.9505\n",
            "\n",
            "Epoch 00298: accuracy did not improve from 0.95138\n",
            "Epoch 299/300\n",
            "469/469 [==============================] - 2s 4ms/step - loss: 0.1395 - accuracy: 0.9502\n",
            "\n",
            "Epoch 00299: accuracy did not improve from 0.95138\n",
            "Epoch 300/300\n",
            "469/469 [==============================] - 2s 4ms/step - loss: 0.1390 - accuracy: 0.9514\n",
            "\n",
            "Epoch 00300: accuracy improved from 0.95138 to 0.95140, saving model to best_mnist.h5\n",
            "CPU times: user 10min 59s, sys: 1min 25s, total: 12min 25s\n",
            "Wall time: 10min\n"
          ],
          "name": "stdout"
        }
      ]
    },
    {
      "cell_type": "markdown",
      "metadata": {
        "id": "7UEqCY6_dCpN"
      },
      "source": [
        "### 6)Best Model & Model Evaluate"
      ]
    },
    {
      "cell_type": "code",
      "metadata": {
        "colab": {
          "base_uri": "https://localhost:8080/"
        },
        "id": "1A6YNn8FdHx2",
        "outputId": "37dd7083-5a94-400e-cadf-3dbcb78e5abb"
      },
      "source": [
        "!ls -l"
      ],
      "execution_count": 87,
      "outputs": [
        {
          "output_type": "stream",
          "text": [
            "total 1764\n",
            "-rw-r--r-- 1 root root 1801352 Mar 19 08:50 best_mnist.h5\n",
            "drwxr-xr-x 1 root root    4096 Mar  5 14:37 sample_data\n"
          ],
          "name": "stdout"
        }
      ]
    },
    {
      "cell_type": "code",
      "metadata": {
        "colab": {
          "base_uri": "https://localhost:8080/"
        },
        "id": "qchRSKHTdJAs",
        "outputId": "101e1780-9c14-49e1-f381-559a458b0498"
      },
      "source": [
        "loss, accuracy = mnist_new.evaluate(X_test, y_test)\n",
        "\n",
        "print('Loss = {:.5f}'.format(loss))\n",
        "print('Accuracy = {:.5f}'.format(accuracy))"
      ],
      "execution_count": 88,
      "outputs": [
        {
          "output_type": "stream",
          "text": [
            "313/313 [==============================] - 1s 2ms/step - loss: 0.3348 - accuracy: 0.8905\n",
            "Loss = 0.33478\n",
            "Accuracy = 0.89050\n"
          ],
          "name": "stdout"
        }
      ]
    },
    {
      "cell_type": "code",
      "metadata": {
        "colab": {
          "base_uri": "https://localhost:8080/"
        },
        "id": "tEfqqGh-dP4i",
        "outputId": "87ae94ce-5728-4b41-e114-4a4e6077b95f"
      },
      "source": [
        "#첫번째 데이터 Probability\n",
        "np.set_printoptions(suppress=True, precision=9)\n",
        "\n",
        "print(mnist_new.predict(X_test[:1,:]))"
      ],
      "execution_count": 89,
      "outputs": [
        {
          "output_type": "stream",
          "text": [
            "[[0.000016554 0.000000016 0.000001582 0.000000103 0.00000039  0.013910547 0.000007116 0.02038856  0.000136902 0.96553826 ]]\n"
          ],
          "name": "stdout"
        }
      ]
    },
    {
      "cell_type": "code",
      "metadata": {
        "colab": {
          "base_uri": "https://localhost:8080/"
        },
        "id": "aZwZGe7ndVnZ",
        "outputId": "aa86d94a-66f2-4820-a880-1c48e46a24eb"
      },
      "source": [
        "#첫번째 데이터 Class\n",
        "print(mnist_new.predict_classes(X_test[:1, :]))"
      ],
      "execution_count": 90,
      "outputs": [
        {
          "output_type": "stream",
          "text": [
            "[9]\n"
          ],
          "name": "stdout"
        }
      ]
    },
    {
      "cell_type": "markdown",
      "metadata": {
        "id": "U9J5Fth1sD4q"
      },
      "source": [
        "본 내용은 2021/03/19(금)에 작성되었습니다."
      ]
    }
  ]
}
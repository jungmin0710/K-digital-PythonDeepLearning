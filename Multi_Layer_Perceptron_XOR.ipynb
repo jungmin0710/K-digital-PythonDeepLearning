{
  "nbformat": 4,
  "nbformat_minor": 0,
  "metadata": {
    "colab": {
      "name": "Multi_Layer_Perceptron_XOR.ipynb",
      "provenance": [],
      "authorship_tag": "ABX9TyMjcTF25E2HGNJBA5vudWol",
      "include_colab_link": true
    },
    "kernelspec": {
      "name": "python3",
      "display_name": "Python 3"
    }
  },
  "cells": [
    {
      "cell_type": "markdown",
      "metadata": {
        "id": "view-in-github",
        "colab_type": "text"
      },
      "source": [
        "<a href=\"https://colab.research.google.com/github/jungmin0710/K-digital-PythonDeepLearning/blob/main/Multi_Layer_Perceptron_XOR.ipynb\" target=\"_parent\"><img src=\"https://colab.research.google.com/assets/colab-badge.svg\" alt=\"Open In Colab\"/></a>"
      ]
    },
    {
      "cell_type": "markdown",
      "metadata": {
        "id": "rurPHp-JNzP2"
      },
      "source": [
        "# 1.수치미분(Numerical Derivative)"
      ]
    },
    {
      "cell_type": "code",
      "metadata": {
        "id": "r2Z55H51Nybm"
      },
      "source": [
        "import warnings\r\n",
        "warnings.filterwarnings('ignore')"
      ],
      "execution_count": 1,
      "outputs": []
    },
    {
      "cell_type": "markdown",
      "metadata": {
        "id": "ssuiJAcwN-ff"
      },
      "source": [
        "## 1.import numpy"
      ]
    },
    {
      "cell_type": "code",
      "metadata": {
        "id": "hkGr3mh8N9ST"
      },
      "source": [
        "import numpy as np"
      ],
      "execution_count": 2,
      "outputs": []
    },
    {
      "cell_type": "markdown",
      "metadata": {
        "id": "dCA3KtBAOCE1"
      },
      "source": [
        "## 2.gradient() 함수 정의\r\n",
        "* 다변수 함수의 수치미분"
      ]
    },
    {
      "cell_type": "code",
      "metadata": {
        "id": "PffQBwg-OBU5"
      },
      "source": [
        "def gradient(machine, param):\r\n",
        "  if param.ndim == 1:\r\n",
        "    temp_param = param\r\n",
        "    delta = 0.00005\r\n",
        "    learned_param = np.zeros(param.shape)\r\n",
        "\r\n",
        "    for index in range(len(param)):\r\n",
        "      target_param = float(temp_param[index])\r\n",
        "      temp_param[index] = target_param + delta\r\n",
        "      param_plus_delta = machine(temp_param)\r\n",
        "      temp_param[index] = target_param - delta\r\n",
        "      param_minus_delta = machine(temp_param)\r\n",
        "      learned_param[index] = (param_plus_delta - param_minus_delta ) / \\\r\n",
        "      (2 * delta)\r\n",
        "\r\n",
        "      temp_param[index] = target_param\r\n",
        "    \r\n",
        "    return learned_param\r\n",
        "\r\n",
        "  elif param.ndim == 2:\r\n",
        "    temp_param = param\r\n",
        "    delta = 0.00005\r\n",
        "    learned_param = np.zeros(param.shape)\r\n",
        "\r\n",
        "    rows = param.shape[0]\r\n",
        "    columns = param.shape[1]\r\n",
        "\r\n",
        "    for row in range(rows):\r\n",
        "      for column in range(columns):\r\n",
        "        target_param = float(temp_param[row,column])\r\n",
        "        temp_param[row,column] = target_param + delta\r\n",
        "        param_plus_delta = machine(temp_param)\r\n",
        "        temp_param[row,column] = target_param - delta\r\n",
        "        param_minus_delta = machine(temp_param)\r\n",
        "        learned_param[row,column] = (param_plus_delta - \\\r\n",
        "                                     param_minus_delta) / (2 * delta)\r\n",
        "\r\n",
        "        temp_param[row,column] = target_param\r\n",
        "    return learned_param"
      ],
      "execution_count": 19,
      "outputs": []
    },
    {
      "cell_type": "markdown",
      "metadata": {
        "id": "IuBTena5QKVe"
      },
      "source": [
        "# 2.Logic Gate() - 'AND','OR','NAND'\r\n",
        "## 1.sigmoid() 함수 정의"
      ]
    },
    {
      "cell_type": "code",
      "metadata": {
        "id": "Nm31fLslQppV"
      },
      "source": [
        "import numpy as np\r\n",
        "\r\n",
        "def sigmoid(x):\r\n",
        "  y_hat = 1 / (1 + np.exp(-x))\r\n",
        "  return y_hat"
      ],
      "execution_count": 4,
      "outputs": []
    },
    {
      "cell_type": "markdown",
      "metadata": {
        "id": "Ru6j1_6dQ0Ya"
      },
      "source": [
        "## 2.LogicGate 클래스 선언"
      ]
    },
    {
      "cell_type": "code",
      "metadata": {
        "id": "3X-WRIrgQyWk"
      },
      "source": [
        "class LogicGate:\r\n",
        "\r\n",
        "  def __init__(self, gate_Type, X_input, y_output):\r\n",
        "    #gate_Type 문자열 지정 Member\r\n",
        "    self.Type = gate_Type\r\n",
        "    \r\n",
        "    #X_input, y_output Member 초기화\r\n",
        "    self.X_input = X_input.reshape(4,2)\r\n",
        "    self.y_output = y_output.reshape(4,1)\r\n",
        "\r\n",
        "    #W, b Member 초기화\r\n",
        "    self.W = np.random.rand(2,1)\r\n",
        "    self.b = np.random.rand(1)\r\n",
        "\r\n",
        "    #learning_rate Member 지정\r\n",
        "    self.learning_rate = 0.01\r\n",
        "\r\n",
        "  #Cost_Function(CEE) Method\r\n",
        "  def cost_func(self):\r\n",
        "    z = np.dot(self.X_input, self.W) + self.b\r\n",
        "    y_hat = sigmoid(z)\r\n",
        "    delta = 0.00001\r\n",
        "    return -np.sum(self.y_output * np.log(y_hat + delta) + \\\r\n",
        "                   (1 - self.y_output) * np.log((1-y_hat) + delta))\r\n",
        "  #learning Method\r\n",
        "  def learn(self):\r\n",
        "    machine = lambda x : self.cost_func()\r\n",
        "    print('Initial Cost = ', self.cost_func())\r\n",
        "\r\n",
        "    for step in range(10001):\r\n",
        "      self.W = self.W - self.learning_rate * gradient(machine, self.W)\r\n",
        "      self.b = self.b - self.learning_rate * gradient(machine, self.b)\r\n",
        "\r\n",
        "      if (step % 1000 == 0):\r\n",
        "        print('Step = ', step, 'Cost = ', self.cost_func())\r\n",
        "\r\n",
        "  # Predict Method\r\n",
        "  def predict(self, input_data):\r\n",
        "\r\n",
        "    z = np.dot(input_data, self.W) + self.b\r\n",
        "    y_prob = sigmoid(z)\r\n",
        "\r\n",
        "    if y_prob > 0.5:\r\n",
        "      result = 1\r\n",
        "    else:\r\n",
        "      result = 0\r\n",
        "\r\n",
        "    return y_prob, result"
      ],
      "execution_count": 20,
      "outputs": []
    },
    {
      "cell_type": "markdown",
      "metadata": {
        "id": "hTOqT63dS0Mg"
      },
      "source": [
        "## 3.AND_Gate\r\n",
        "* X_input, y_output 지정"
      ]
    },
    {
      "cell_type": "code",
      "metadata": {
        "id": "8-9cmOcKSkzf"
      },
      "source": [
        "X_input = np.array([[0, 0], [0, 1], [1, 0], [1, 1]])\r\n",
        "y_output = np.array([0, 0, 0, 1])"
      ],
      "execution_count": 13,
      "outputs": []
    },
    {
      "cell_type": "markdown",
      "metadata": {
        "id": "MT80xLeqTEjd"
      },
      "source": [
        "* AND_Gate 객체 생성 및 학습"
      ]
    },
    {
      "cell_type": "code",
      "metadata": {
        "colab": {
          "base_uri": "https://localhost:8080/"
        },
        "id": "HKkeWNsDTD1Z",
        "outputId": "0648944a-a133-49e3-96d9-93915dcb4f26"
      },
      "source": [
        "AND_Gate = LogicGate('AND_Gate', X_input, y_output)\r\n",
        "\r\n",
        "AND_Gate.learn()"
      ],
      "execution_count": 21,
      "outputs": [
        {
          "output_type": "stream",
          "text": [
            "Initial Cost =  4.27738062172655\n",
            "Step =  0 Cost =  4.230635375296488\n",
            "Step =  1000 Cost =  1.061868686098005\n",
            "Step =  2000 Cost =  0.6827054717604247\n",
            "Step =  3000 Cost =  0.5038478716259899\n",
            "Step =  4000 Cost =  0.398175969293737\n",
            "Step =  5000 Cost =  0.3283560697559245\n",
            "Step =  6000 Cost =  0.2788760909160023\n",
            "Step =  7000 Cost =  0.2420471593210498\n",
            "Step =  8000 Cost =  0.21361221184313867\n",
            "Step =  9000 Cost =  0.19102351705490522\n",
            "Step =  10000 Cost =  0.17266435607266184\n"
          ],
          "name": "stdout"
        }
      ]
    },
    {
      "cell_type": "markdown",
      "metadata": {
        "id": "s_J2FwPDUP3Z"
      },
      "source": [
        "* AND_Gate 테스트"
      ]
    },
    {
      "cell_type": "code",
      "metadata": {
        "colab": {
          "base_uri": "https://localhost:8080/"
        },
        "id": "onDK7I_mTNr1",
        "outputId": "4aa7aca7-411a-4e1b-db02-8ebf1dd135c7"
      },
      "source": [
        "print(AND_Gate.Type, '\\n')\r\n",
        "\r\n",
        "test_data = np.array([[0,0],[0,1],[1,0],[1,1]])\r\n",
        "\r\n",
        "for input_data in test_data:\r\n",
        "  (sigmoid_cal, logical_val) = AND_Gate.predict(input_data)\r\n",
        "  print(input_data, '=', logical_val)"
      ],
      "execution_count": 22,
      "outputs": [
        {
          "output_type": "stream",
          "text": [
            "AND_Gate \n",
            "\n",
            "[0 0] = 0\n",
            "[0 1] = 0\n",
            "[1 0] = 0\n",
            "[1 1] = 1\n"
          ],
          "name": "stdout"
        }
      ]
    },
    {
      "cell_type": "markdown",
      "metadata": {
        "id": "ZWXRXV9oUmA-"
      },
      "source": [
        "## 4.OR_Gate\r\n",
        "* X_input, y_output"
      ]
    },
    {
      "cell_type": "code",
      "metadata": {
        "id": "fLPTwUDVUj_c"
      },
      "source": [
        "X_input = np.array([[0, 0], [0, 1], [1, 0], [1, 1]])\r\n",
        "y_output = np.array([0, 1, 1, 1])"
      ],
      "execution_count": 24,
      "outputs": []
    },
    {
      "cell_type": "markdown",
      "metadata": {
        "id": "ItMhgadAUyGW"
      },
      "source": [
        "* OR_Gate 객체 생성 및 학습"
      ]
    },
    {
      "cell_type": "code",
      "metadata": {
        "colab": {
          "base_uri": "https://localhost:8080/"
        },
        "id": "Sm_MJ9XZUxMO",
        "outputId": "c70bc4a8-fdda-4ac5-c7fb-8c0556a8f8e0"
      },
      "source": [
        "OR_Gate = LogicGate('OR_Gate', X_input, y_output)\r\n",
        "\r\n",
        "OR_Gate.learn()"
      ],
      "execution_count": 25,
      "outputs": [
        {
          "output_type": "stream",
          "text": [
            "Initial Cost =  1.9164211281522001\n",
            "Step =  0 Cost =  1.9120866744717488\n",
            "Step =  1000 Cost =  0.727036284255061\n",
            "Step =  2000 Cost =  0.4346305288941271\n",
            "Step =  3000 Cost =  0.30522115908574415\n",
            "Step =  4000 Cost =  0.233508337528833\n",
            "Step =  5000 Cost =  0.1883690788476265\n",
            "Step =  6000 Cost =  0.15750800872811285\n",
            "Step =  7000 Cost =  0.13514917824313594\n",
            "Step =  8000 Cost =  0.11824054105264006\n",
            "Step =  9000 Cost =  0.10502506680193957\n",
            "Step =  10000 Cost =  0.09442290768374564\n"
          ],
          "name": "stdout"
        }
      ]
    },
    {
      "cell_type": "markdown",
      "metadata": {
        "id": "u4oQYNwZU_gb"
      },
      "source": [
        "* OR_Gate 체스트"
      ]
    },
    {
      "cell_type": "code",
      "metadata": {
        "colab": {
          "base_uri": "https://localhost:8080/"
        },
        "id": "c3G0n0naU9Xj",
        "outputId": "760c711c-670e-4df7-d4a7-ef362a81957b"
      },
      "source": [
        "print(OR_Gate.Type, '\\n')\r\n",
        "\r\n",
        "test_data = np.array([[0,0],[0,1],[1,0],[1,1]])\r\n",
        "\r\n",
        "for input_data in test_data:\r\n",
        "  (sigmoid_val, logical_val) = OR_Gate.predict(input_data)\r\n",
        "  print(input_data, '=', logical_val)"
      ],
      "execution_count": 31,
      "outputs": [
        {
          "output_type": "stream",
          "text": [
            "OR_Gate \n",
            "\n",
            "[0 0] = 0\n",
            "[0 1] = 1\n",
            "[1 0] = 1\n",
            "[1 1] = 1\n"
          ],
          "name": "stdout"
        }
      ]
    },
    {
      "cell_type": "markdown",
      "metadata": {
        "id": "RnAFHO0pVZ7I"
      },
      "source": [
        "## 5.NAND_Gate\r\n",
        "* X_input, y_output"
      ]
    },
    {
      "cell_type": "code",
      "metadata": {
        "id": "DRSA6D6XVXgu"
      },
      "source": [
        "X_input = np.array([[0, 0], [0, 1], [1, 0], [1, 1]])\r\n",
        "y_output = np.array([1, 1, 1, 0])"
      ],
      "execution_count": 27,
      "outputs": []
    },
    {
      "cell_type": "markdown",
      "metadata": {
        "id": "fsNZ2X_JVhOw"
      },
      "source": [
        "* NAND_Gate 객체 생성 및 학습"
      ]
    },
    {
      "cell_type": "code",
      "metadata": {
        "colab": {
          "base_uri": "https://localhost:8080/"
        },
        "id": "LZLkwPAyVgm2",
        "outputId": "1d97be6a-531c-4bc5-9ccf-b0d9b5958500"
      },
      "source": [
        "NAND_Gate = LogicGate('NAND_GATE', X_input, y_output)\r\n",
        "\r\n",
        "NAND_Gate.learn()"
      ],
      "execution_count": 28,
      "outputs": [
        {
          "output_type": "stream",
          "text": [
            "Initial Cost =  2.9532455173216086\n",
            "Step =  0 Cost =  2.9433796193897237\n",
            "Step =  1000 Cost =  1.04606318037241\n",
            "Step =  2000 Cost =  0.6762527463982858\n",
            "Step =  3000 Cost =  0.5002871651881268\n",
            "Step =  4000 Cost =  0.3959167566818817\n",
            "Step =  5000 Cost =  0.3267983428662349\n",
            "Step =  6000 Cost =  0.2777396560677968\n",
            "Step =  7000 Cost =  0.24118312457648958\n",
            "Step =  8000 Cost =  0.21293414275586148\n",
            "Step =  9000 Cost =  0.1904778504078543\n",
            "Step =  10000 Cost =  0.1722161733748559\n"
          ],
          "name": "stdout"
        }
      ]
    },
    {
      "cell_type": "markdown",
      "metadata": {
        "id": "IoTWHd6vVsUE"
      },
      "source": [
        "* NAND_Gate 테스트"
      ]
    },
    {
      "cell_type": "code",
      "metadata": {
        "colab": {
          "base_uri": "https://localhost:8080/"
        },
        "id": "784fLAuBVqrB",
        "outputId": "b7ae0f7d-7f6b-4480-9a3b-8bd8641bc33f"
      },
      "source": [
        "print(NAND_Gate.Type, '\\n')\r\n",
        "\r\n",
        "test_data = np.array([[0,0],[0,1],[1,0],[1,1]])\r\n",
        "\r\n",
        "for input_data in test_data:\r\n",
        "  (sigmoid_val, logical_val) = NAND_Gate.predict(input_data)\r\n",
        "  print(input_data, '=', logical_val)\r\n"
      ],
      "execution_count": 30,
      "outputs": [
        {
          "output_type": "stream",
          "text": [
            "NAND_GATE \n",
            "\n",
            "[0 0] = 1\n",
            "[0 1] = 1\n",
            "[1 0] = 1\n",
            "[1 1] = 0\n"
          ],
          "name": "stdout"
        }
      ]
    },
    {
      "cell_type": "markdown",
      "metadata": {
        "id": "OiTwoA1nWH0A"
      },
      "source": [
        "# 3.XOR_GATE Issue\r\n",
        "## 1.XOR_Gate Failure\r\n",
        "* X_input, y_output"
      ]
    },
    {
      "cell_type": "code",
      "metadata": {
        "id": "s8zAiP55WA-X"
      },
      "source": [
        "X_input = np.array([[0, 0], [0, 1], [1, 0], [1, 1]])\r\n",
        "y_output = np.array([0, 1, 1, 0])"
      ],
      "execution_count": 32,
      "outputs": []
    },
    {
      "cell_type": "markdown",
      "metadata": {
        "id": "SaztHUTeWSMh"
      },
      "source": [
        "* XOR_Gate 객체 생성 및 학습"
      ]
    },
    {
      "cell_type": "code",
      "metadata": {
        "colab": {
          "base_uri": "https://localhost:8080/"
        },
        "id": "TIOWNN9aWRg-",
        "outputId": "4056008e-ba88-4b5b-9d82-5595e18b7890"
      },
      "source": [
        "XOR_Gate = LogicGate('XOR_Gate', X_input, y_output)\r\n",
        "\r\n",
        "XOR_Gate.learn()"
      ],
      "execution_count": 33,
      "outputs": [
        {
          "output_type": "stream",
          "text": [
            "Initial Cost =  3.16186347139144\n",
            "Step =  0 Cost =  3.1519070239166576\n",
            "Step =  1000 Cost =  2.773692651731103\n",
            "Step =  2000 Cost =  2.7725592608739427\n",
            "Step =  3000 Cost =  2.7725108837325254\n",
            "Step =  4000 Cost =  2.7725088154468605\n",
            "Step =  5000 Cost =  2.7725087269919815\n",
            "Step =  6000 Cost =  2.7725087232088064\n",
            "Step =  7000 Cost =  2.7725087230470007\n",
            "Step =  8000 Cost =  2.77250872304008\n",
            "Step =  9000 Cost =  2.7725087230397842\n",
            "Step =  10000 Cost =  2.7725087230397714\n"
          ],
          "name": "stdout"
        }
      ]
    },
    {
      "cell_type": "markdown",
      "metadata": {
        "id": "VPwLmQ5RWdK3"
      },
      "source": [
        "* XOR_Gate 체스트"
      ]
    },
    {
      "cell_type": "code",
      "metadata": {
        "colab": {
          "base_uri": "https://localhost:8080/"
        },
        "id": "je6350gsWa4X",
        "outputId": "38577429-4b31-4100-efe6-7df3853b0711"
      },
      "source": [
        "print(XOR_Gate.Type, '\\n')\r\n",
        "\r\n",
        "test_data = np.array([[0,0],[0,1],[1,0],[1,1]])\r\n",
        "\r\n",
        "for input_data in test_data:\r\n",
        "  (sigmoid_val, logical_val) = XOR_Gate.predict(input_data)\r\n",
        "  print(input_data, '=', logical_val)"
      ],
      "execution_count": 36,
      "outputs": [
        {
          "output_type": "stream",
          "text": [
            "XOR_Gate \n",
            "\n",
            "[0 0] = 0\n",
            "[0 1] = 0\n",
            "[1 0] = 0\n",
            "[1 1] = 1\n"
          ],
          "name": "stdout"
        }
      ]
    },
    {
      "cell_type": "markdown",
      "metadata": {
        "id": "yU22av9lWy2x"
      },
      "source": [
        "## 2.XOR_Gate Succeed\r\n",
        "* XOR를 (NAND +  OR) 계층 및 AND 계층의 조합으로 연산\r\n",
        "* 이전 학습된 Parameter로 XOR 수행"
      ]
    },
    {
      "cell_type": "code",
      "metadata": {
        "id": "G4pdY9dZWxt0"
      },
      "source": [
        "input_data = np.array([[0,0],[0,1],[1,0],[1,1]])\r\n",
        "\r\n",
        "HL1_1 = [] # NAND 출력 \r\n",
        "HL1_2 = [] # OR 출력\r\n",
        "\r\n",
        "new_input_data = [] # AND 입력\r\n",
        "final_output = [] # And(XOR) 출력\r\n",
        "\r\n",
        "for index in range(len(input_data)):\r\n",
        "  HL1_1 = NAND_Gate.predict(input_data[index]) #NAND 출력\r\n",
        "  HL1_2 = OR_Gate.predict(input_data[index]) #OR 출력\r\n",
        "\r\n",
        "  new_input_data.append(HL1_1[-1]) #AND 입력\r\n",
        "  new_input_data.append(HL1_2[-1]) #AND 입력\r\n",
        "\r\n",
        "  (sigmoid_val, logical_val) = AND_Gate.predict(np.array(new_input_data))\r\n",
        "\r\n",
        "  final_output.append(logical_val) #AND(XOR) 출력\r\n",
        "  new_input_data = [] #AND입력 초기화"
      ],
      "execution_count": 38,
      "outputs": []
    },
    {
      "cell_type": "code",
      "metadata": {
        "colab": {
          "base_uri": "https://localhost:8080/"
        },
        "id": "YqtYXgxaYGjq",
        "outputId": "2c0fb68d-fa7d-48da-aeac-4042430907e7"
      },
      "source": [
        "print(XOR_Gate.Type, '\\n')\r\n",
        "\r\n",
        "for index in range(len(input_data)):\r\n",
        "  print(input_data[index], '=', final_output[index])"
      ],
      "execution_count": 39,
      "outputs": [
        {
          "output_type": "stream",
          "text": [
            "XOR_Gate \n",
            "\n",
            "[0 0] = 0\n",
            "[0 1] = 1\n",
            "[1 0] = 1\n",
            "[1 1] = 0\n"
          ],
          "name": "stdout"
        }
      ]
    },
    {
      "cell_type": "markdown",
      "metadata": {
        "id": "CdGf_v-tYVd_"
      },
      "source": [
        "본 내용은 2021/03/16(화)에 학습한 내용입니다."
      ]
    }
  ]
}
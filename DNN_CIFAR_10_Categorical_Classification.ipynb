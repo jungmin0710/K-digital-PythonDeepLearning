{
  "nbformat": 4,
  "nbformat_minor": 0,
  "metadata": {
    "colab": {
      "name": "DNN_CIFAR_10_Categorical_Classification.ipynb",
      "provenance": [],
      "authorship_tag": "ABX9TyMaRwRS+un8heUFCIb5lIO8",
      "include_colab_link": true
    },
    "kernelspec": {
      "name": "python3",
      "display_name": "Python 3"
    },
    "language_info": {
      "name": "python"
    },
    "accelerator": "GPU"
  },
  "cells": [
    {
      "cell_type": "markdown",
      "metadata": {
        "id": "view-in-github",
        "colab_type": "text"
      },
      "source": [
        "<a href=\"https://colab.research.google.com/github/jungmin0710/K-digital-PythonDeepLearning/blob/main/DNN_CIFAR_10_Categorical_Classification.ipynb\" target=\"_parent\"><img src=\"https://colab.research.google.com/assets/colab-badge.svg\" alt=\"Open In Colab\"/></a>"
      ]
    },
    {
      "cell_type": "markdown",
      "metadata": {
        "id": "TTvK065ibcZx"
      },
      "source": [
        "# CIFAR 10 - Categorical Classification"
      ]
    },
    {
      "cell_type": "code",
      "metadata": {
        "id": "HWoNMhhmbSSA"
      },
      "source": [
        "import warnings\n",
        "warnings.filterwarnings('ignore')\n"
      ],
      "execution_count": 1,
      "outputs": []
    },
    {
      "cell_type": "markdown",
      "metadata": {
        "id": "qapJCrG8bo5A"
      },
      "source": [
        "## 0.Import Tensorflow & Keras\n",
        "* import Keras"
      ]
    },
    {
      "cell_type": "code",
      "metadata": {
        "colab": {
          "base_uri": "https://localhost:8080/",
          "height": 35
        },
        "id": "6j7r9OCKbnaC",
        "outputId": "dafe7052-325d-40ee-e034-55a7ffeb311d"
      },
      "source": [
        "import keras\n",
        "\n",
        "keras.__version__"
      ],
      "execution_count": 2,
      "outputs": [
        {
          "output_type": "execute_result",
          "data": {
            "application/vnd.google.colaboratory.intrinsic+json": {
              "type": "string"
            },
            "text/plain": [
              "'2.4.3'"
            ]
          },
          "metadata": {
            "tags": []
          },
          "execution_count": 2
        }
      ]
    },
    {
      "cell_type": "markdown",
      "metadata": {
        "id": "2ldF4IVFb2vo"
      },
      "source": [
        "## 1.CIFAR 10 Data_Set Load & Review"
      ]
    },
    {
      "cell_type": "markdown",
      "metadata": {
        "id": "U1VOOVWab7_5"
      },
      "source": [
        "### 1)Load CIFAR 10 Data_Set"
      ]
    },
    {
      "cell_type": "code",
      "metadata": {
        "colab": {
          "base_uri": "https://localhost:8080/"
        },
        "id": "mHKfnzlrbzkp",
        "outputId": "742d9f92-a773-40a6-fa1d-bea0581da6c0"
      },
      "source": [
        "from keras.datasets import cifar10\n",
        "\n",
        "(X_train, y_train), (X_test, y_test) = cifar10.load_data()"
      ],
      "execution_count": 3,
      "outputs": [
        {
          "output_type": "stream",
          "text": [
            "Downloading data from https://www.cs.toronto.edu/~kriz/cifar-10-python.tar.gz\n",
            "170500096/170498071 [==============================] - 2s 0us/step\n"
          ],
          "name": "stdout"
        }
      ]
    },
    {
      "cell_type": "markdown",
      "metadata": {
        "id": "4zXhFfrZcLDO"
      },
      "source": [
        "* Train_Data Information"
      ]
    },
    {
      "cell_type": "code",
      "metadata": {
        "colab": {
          "base_uri": "https://localhost:8080/"
        },
        "id": "HVrG3QN5cJmH",
        "outputId": "c2a8ccb2-6ef8-4364-ca5a-23aae10cb7a5"
      },
      "source": [
        "print(len(X_train))\n",
        "print(X_train.shape)\n",
        "\n",
        "print(len(y_train))\n",
        "print(y_train[0:5])"
      ],
      "execution_count": 4,
      "outputs": [
        {
          "output_type": "stream",
          "text": [
            "50000\n",
            "(50000, 32, 32, 3)\n",
            "50000\n",
            "[[6]\n",
            " [9]\n",
            " [9]\n",
            " [4]\n",
            " [1]]\n"
          ],
          "name": "stdout"
        }
      ]
    },
    {
      "cell_type": "markdown",
      "metadata": {
        "id": "bZbVhYSZcYvD"
      },
      "source": [
        "* Test_Data Information"
      ]
    },
    {
      "cell_type": "code",
      "metadata": {
        "colab": {
          "base_uri": "https://localhost:8080/"
        },
        "id": "h7-iDcIBcWm2",
        "outputId": "2499ba91-69fa-4865-96b3-880e49a3a4a8"
      },
      "source": [
        "print(len(X_test))\n",
        "print(X_test.shape)\n",
        "\n",
        "print(len(y_test))\n",
        "print(y_test[0:5])"
      ],
      "execution_count": 5,
      "outputs": [
        {
          "output_type": "stream",
          "text": [
            "10000\n",
            "(10000, 32, 32, 3)\n",
            "10000\n",
            "[[3]\n",
            " [8]\n",
            " [8]\n",
            " [0]\n",
            " [6]]\n"
          ],
          "name": "stdout"
        }
      ]
    },
    {
      "cell_type": "markdown",
      "metadata": {
        "id": "4Up0RmUVczj0"
      },
      "source": [
        "### 2)Visualization"
      ]
    },
    {
      "cell_type": "code",
      "metadata": {
        "colab": {
          "base_uri": "https://localhost:8080/",
          "height": 266
        },
        "id": "Af3HRvQ9cjIw",
        "outputId": "1c91de0e-03c8-4b24-8f1a-7f3f5dc3c309"
      },
      "source": [
        "import matplotlib.pyplot as plt\n",
        "\n",
        "digit = X_train[0]\n",
        "plt.imshow(digit)\n",
        "plt.show()"
      ],
      "execution_count": 6,
      "outputs": [
        {
          "output_type": "display_data",
          "data": {
            "image/png": "[encoded data removed]",
            "text/plain": [
              "<Figure size 432x288 with 1 Axes>"
            ]
          },
          "metadata": {
            "tags": [],
            "needs_background": "light"
          }
        }
      ]
    },
    {
      "cell_type": "code",
      "metadata": {
        "colab": {
          "base_uri": "https://localhost:8080/"
        },
        "id": "rFm9RfUoc8m0",
        "outputId": "4fcf6d41-89eb-4646-c73e-f8c317be7453"
      },
      "source": [
        "import numpy as np\n",
        "\n",
        "np.set_printoptions(linewidth = 150)\n",
        "print(X_train[0][0])"
      ],
      "execution_count": 7,
      "outputs": [
        {
          "output_type": "stream",
          "text": [
            "[[ 59  62  63]\n",
            " [ 43  46  45]\n",
            " [ 50  48  43]\n",
            " [ 68  54  42]\n",
            " [ 98  73  52]\n",
            " [119  91  63]\n",
            " [139 107  75]\n",
            " [145 110  80]\n",
            " [149 117  89]\n",
            " [149 120  93]\n",
            " [131 103  77]\n",
            " [125  99  76]\n",
            " [142 115  91]\n",
            " [144 112  86]\n",
            " [137 105  79]\n",
            " [129  97  71]\n",
            " [137 106  79]\n",
            " [134 106  76]\n",
            " [124  97  64]\n",
            " [139 113  78]\n",
            " [139 112  75]\n",
            " [133 105  69]\n",
            " [136 105  74]\n",
            " [139 108  77]\n",
            " [152 120  89]\n",
            " [163 131 100]\n",
            " [168 136 108]\n",
            " [159 129 102]\n",
            " [158 130 104]\n",
            " [158 132 108]\n",
            " [152 125 102]\n",
            " [148 124 103]]\n"
          ],
          "name": "stdout"
        }
      ]
    },
    {
      "cell_type": "markdown",
      "metadata": {
        "id": "ew8NPkoYdjz2"
      },
      "source": [
        "## 2.Data Preprocessing"
      ]
    },
    {
      "cell_type": "markdown",
      "metadata": {
        "id": "YgKBSOHkdmde"
      },
      "source": [
        "### 1)Reshape and Normalization\n",
        "* reshape\n",
        "  * (50000, 32, 32, 3) to (50000. 3072)"
      ]
    },
    {
      "cell_type": "code",
      "metadata": {
        "colab": {
          "base_uri": "https://localhost:8080/"
        },
        "id": "D0L_kftwdDEV",
        "outputId": "6c87ce05-cc26-44e5-8d2c-1126b14a23d6"
      },
      "source": [
        "X_train = X_train.reshape((50000, 32 * 32 * 3))\n",
        "X_test = X_test.reshape(10000, 32 * 32 * 3)\n",
        "\n",
        "X_train.shape, X_test.shape"
      ],
      "execution_count": 8,
      "outputs": [
        {
          "output_type": "execute_result",
          "data": {
            "text/plain": [
              "((50000, 3072), (10000, 3072))"
            ]
          },
          "metadata": {
            "tags": []
          },
          "execution_count": 8
        }
      ]
    },
    {
      "cell_type": "markdown",
      "metadata": {
        "id": "Jc4L-Seyd8-g"
      },
      "source": [
        "* Normalization"
      ]
    },
    {
      "cell_type": "code",
      "metadata": {
        "id": "RHY4CnRbd6D8"
      },
      "source": [
        "X_train = X_train.astype(float) / 255\n",
        "X_test = X_test.astype(float) / 255"
      ],
      "execution_count": 9,
      "outputs": []
    },
    {
      "cell_type": "code",
      "metadata": {
        "colab": {
          "base_uri": "https://localhost:8080/"
        },
        "id": "rq17UzIPeF_S",
        "outputId": "148344c7-645b-4531-bdc4-be6b0bddcd1d"
      },
      "source": [
        "print(X_train[0])"
      ],
      "execution_count": 10,
      "outputs": [
        {
          "output_type": "stream",
          "text": [
            "[0.23137255 0.24313725 0.24705882 ... 0.48235294 0.36078431 0.28235294]\n"
          ],
          "name": "stdout"
        }
      ]
    },
    {
      "cell_type": "markdown",
      "metadata": {
        "id": "Vtqn8qmZeORh"
      },
      "source": [
        "### 2)One Hot Encoding"
      ]
    },
    {
      "cell_type": "code",
      "metadata": {
        "id": "HP3lc5AFeHuS"
      },
      "source": [
        "from keras.utils import to_categorical\n",
        "\n",
        "y_train = to_categorical(y_train)\n",
        "y_test = to_categorical(y_test)"
      ],
      "execution_count": 11,
      "outputs": []
    },
    {
      "cell_type": "code",
      "metadata": {
        "colab": {
          "base_uri": "https://localhost:8080/"
        },
        "id": "Sk7NDvOfecNV",
        "outputId": "dd0a5677-93cd-4dce-fa6c-695e5d0a8802"
      },
      "source": [
        "print(y_train[:5])"
      ],
      "execution_count": 12,
      "outputs": [
        {
          "output_type": "stream",
          "text": [
            "[[0. 0. 0. 0. 0. 0. 1. 0. 0. 0.]\n",
            " [0. 0. 0. 0. 0. 0. 0. 0. 0. 1.]\n",
            " [0. 0. 0. 0. 0. 0. 0. 0. 0. 1.]\n",
            " [0. 0. 0. 0. 1. 0. 0. 0. 0. 0.]\n",
            " [0. 1. 0. 0. 0. 0. 0. 0. 0. 0.]]\n"
          ],
          "name": "stdout"
        }
      ]
    },
    {
      "cell_type": "markdown",
      "metadata": {
        "id": "N8q44caIeg4b"
      },
      "source": [
        "## 3.Keras Modeling"
      ]
    },
    {
      "cell_type": "markdown",
      "metadata": {
        "id": "-LtXaB17ejsQ"
      },
      "source": [
        "### 1)Model Define\n",
        "* 모델 신경망 구조 정의"
      ]
    },
    {
      "cell_type": "code",
      "metadata": {
        "id": "M9e6WNWseeRe"
      },
      "source": [
        "from keras import models\n",
        "from keras import layers\n",
        "CIFAR = models.Sequential()\n",
        "CIFAR.add(layers.Dense(2048, activation = 'relu', input_shape = (32 * 32 * 3,)))\n",
        "CIFAR.add(layers.Dense(1024, activation = 'relu'))\n",
        "CIFAR.add(layers.Dense(512, activation = 'relu'))\n",
        "CIFAR.add(layers.Dense(256, activation = 'relu'))\n",
        "CIFAR.add(layers.Dense(128, activation = 'relu'))\n",
        "CIFAR.add(layers.Dense(10, activation = 'softmax'))"
      ],
      "execution_count": 13,
      "outputs": []
    },
    {
      "cell_type": "markdown",
      "metadata": {
        "id": "kywREIHOfXp7"
      },
      "source": [
        "* 모델 구조 확인"
      ]
    },
    {
      "cell_type": "code",
      "metadata": {
        "colab": {
          "base_uri": "https://localhost:8080/"
        },
        "id": "LYdkgOb4fJRF",
        "outputId": "e0819471-785e-466b-e7c1-a4fbed2cb473"
      },
      "source": [
        "CIFAR.summary()"
      ],
      "execution_count": 14,
      "outputs": [
        {
          "output_type": "stream",
          "text": [
            "Model: \"sequential\"\n",
            "_________________________________________________________________\n",
            "Layer (type)                 Output Shape              Param #   \n",
            "=================================================================\n",
            "dense (Dense)                (None, 2048)              6293504   \n",
            "_________________________________________________________________\n",
            "dense_1 (Dense)              (None, 1024)              2098176   \n",
            "_________________________________________________________________\n",
            "dense_2 (Dense)              (None, 512)               524800    \n",
            "_________________________________________________________________\n",
            "dense_3 (Dense)              (None, 256)               131328    \n",
            "_________________________________________________________________\n",
            "dense_4 (Dense)              (None, 128)               32896     \n",
            "_________________________________________________________________\n",
            "dense_5 (Dense)              (None, 10)                1290      \n",
            "=================================================================\n",
            "Total params: 9,081,994\n",
            "Trainable params: 9,081,994\n",
            "Non-trainable params: 0\n",
            "_________________________________________________________________\n"
          ],
          "name": "stdout"
        }
      ]
    },
    {
      "cell_type": "markdown",
      "metadata": {
        "id": "PAxVmZmNftCa"
      },
      "source": [
        "### 2)Model Compile\n",
        "* 모델 학습방법 설정"
      ]
    },
    {
      "cell_type": "code",
      "metadata": {
        "id": "yJAe754bfaxV"
      },
      "source": [
        "CIFAR.compile(loss = 'categorical_crossentropy',\n",
        "              optimizer = 'rmsprop',\n",
        "              metrics = ['accuracy'])"
      ],
      "execution_count": 15,
      "outputs": []
    },
    {
      "cell_type": "markdown",
      "metadata": {
        "id": "FufWDI7pf5_6"
      },
      "source": [
        "### 3)Model Fit\n",
        "* 약 4분"
      ]
    },
    {
      "cell_type": "code",
      "metadata": {
        "colab": {
          "base_uri": "https://localhost:8080/"
        },
        "id": "fZLKLeSXf5Dc",
        "outputId": "eada1648-0235-4c62-d04d-fd566fbe6b53"
      },
      "source": [
        "%%time\n",
        "\n",
        "Hist_CIFAR = CIFAR.fit(X_train, y_train,\n",
        "                       epochs = 100,\n",
        "                       batch_size = 128,\n",
        "                       validation_split = 0.2)"
      ],
      "execution_count": 16,
      "outputs": [
        {
          "output_type": "stream",
          "text": [
            "Epoch 1/100\n",
            "313/313 [==============================] - 6s 9ms/step - loss: 3.1153 - accuracy: 0.1588 - val_loss: 1.9791 - val_accuracy: 0.2820\n",
            "Epoch 2/100\n",
            "313/313 [==============================] - 2s 8ms/step - loss: 1.9353 - accuracy: 0.2987 - val_loss: 1.9721 - val_accuracy: 0.3013\n",
            "Epoch 3/100\n",
            "313/313 [==============================] - 2s 8ms/step - loss: 1.8211 - accuracy: 0.3417 - val_loss: 1.7610 - val_accuracy: 0.3531\n",
            "Epoch 4/100\n",
            "313/313 [==============================] - 2s 8ms/step - loss: 1.7445 - accuracy: 0.3758 - val_loss: 1.7248 - val_accuracy: 0.3769\n",
            "Epoch 5/100\n",
            "313/313 [==============================] - 2s 8ms/step - loss: 1.6885 - accuracy: 0.3972 - val_loss: 1.6717 - val_accuracy: 0.4036\n",
            "Epoch 6/100\n",
            "313/313 [==============================] - 2s 8ms/step - loss: 1.6347 - accuracy: 0.4159 - val_loss: 1.6362 - val_accuracy: 0.4179\n",
            "Epoch 7/100\n",
            "313/313 [==============================] - 2s 8ms/step - loss: 1.5878 - accuracy: 0.4316 - val_loss: 1.7083 - val_accuracy: 0.3814\n",
            "Epoch 8/100\n",
            "313/313 [==============================] - 2s 8ms/step - loss: 1.5543 - accuracy: 0.4455 - val_loss: 1.6447 - val_accuracy: 0.4318\n",
            "Epoch 9/100\n",
            "313/313 [==============================] - 2s 8ms/step - loss: 1.5215 - accuracy: 0.4593 - val_loss: 1.6980 - val_accuracy: 0.4155\n",
            "Epoch 10/100\n",
            "313/313 [==============================] - 2s 8ms/step - loss: 1.4916 - accuracy: 0.4655 - val_loss: 1.8001 - val_accuracy: 0.3961\n",
            "Epoch 11/100\n",
            "313/313 [==============================] - 2s 8ms/step - loss: 1.4758 - accuracy: 0.4733 - val_loss: 1.6447 - val_accuracy: 0.4126\n",
            "Epoch 12/100\n",
            "313/313 [==============================] - 2s 8ms/step - loss: 1.4427 - accuracy: 0.4896 - val_loss: 1.6422 - val_accuracy: 0.4356\n",
            "Epoch 13/100\n",
            "313/313 [==============================] - 3s 8ms/step - loss: 1.4120 - accuracy: 0.4951 - val_loss: 1.6234 - val_accuracy: 0.4321\n",
            "Epoch 14/100\n",
            "313/313 [==============================] - 2s 8ms/step - loss: 1.3944 - accuracy: 0.5039 - val_loss: 1.5964 - val_accuracy: 0.4607\n",
            "Epoch 15/100\n",
            "313/313 [==============================] - 2s 8ms/step - loss: 1.3899 - accuracy: 0.5043 - val_loss: 1.8128 - val_accuracy: 0.4055\n",
            "Epoch 16/100\n",
            "313/313 [==============================] - 2s 8ms/step - loss: 1.3703 - accuracy: 0.5101 - val_loss: 1.6327 - val_accuracy: 0.4564\n",
            "Epoch 17/100\n",
            "313/313 [==============================] - 2s 8ms/step - loss: 1.3536 - accuracy: 0.5177 - val_loss: 1.5998 - val_accuracy: 0.4807\n",
            "Epoch 18/100\n",
            "313/313 [==============================] - 2s 8ms/step - loss: 1.3319 - accuracy: 0.5329 - val_loss: 1.7196 - val_accuracy: 0.4479\n",
            "Epoch 19/100\n",
            "313/313 [==============================] - 2s 8ms/step - loss: 1.3130 - accuracy: 0.5291 - val_loss: 1.7724 - val_accuracy: 0.4456\n",
            "Epoch 20/100\n",
            "313/313 [==============================] - 2s 8ms/step - loss: 1.2905 - accuracy: 0.5410 - val_loss: 1.7962 - val_accuracy: 0.4836\n",
            "Epoch 21/100\n",
            "313/313 [==============================] - 2s 8ms/step - loss: 1.2758 - accuracy: 0.5442 - val_loss: 1.8190 - val_accuracy: 0.4689\n",
            "Epoch 22/100\n",
            "313/313 [==============================] - 2s 8ms/step - loss: 1.2504 - accuracy: 0.5547 - val_loss: 1.7969 - val_accuracy: 0.4548\n",
            "Epoch 23/100\n",
            "313/313 [==============================] - 3s 8ms/step - loss: 1.2469 - accuracy: 0.5601 - val_loss: 2.0061 - val_accuracy: 0.4138\n",
            "Epoch 24/100\n",
            "313/313 [==============================] - 2s 8ms/step - loss: 1.2379 - accuracy: 0.5627 - val_loss: 1.6634 - val_accuracy: 0.4835\n",
            "Epoch 25/100\n",
            "313/313 [==============================] - 2s 8ms/step - loss: 1.2155 - accuracy: 0.5712 - val_loss: 1.7648 - val_accuracy: 0.4951\n",
            "Epoch 26/100\n",
            "313/313 [==============================] - 2s 8ms/step - loss: 1.2126 - accuracy: 0.5741 - val_loss: 1.7212 - val_accuracy: 0.4891\n",
            "Epoch 27/100\n",
            "313/313 [==============================] - 2s 8ms/step - loss: 1.1813 - accuracy: 0.5856 - val_loss: 1.9885 - val_accuracy: 0.4660\n",
            "Epoch 28/100\n",
            "313/313 [==============================] - 2s 8ms/step - loss: 1.1751 - accuracy: 0.5831 - val_loss: 1.9791 - val_accuracy: 0.4877\n",
            "Epoch 29/100\n",
            "313/313 [==============================] - 2s 8ms/step - loss: 1.1622 - accuracy: 0.5853 - val_loss: 1.7851 - val_accuracy: 0.4935\n",
            "Epoch 30/100\n",
            "313/313 [==============================] - 2s 8ms/step - loss: 1.1466 - accuracy: 0.5971 - val_loss: 2.0874 - val_accuracy: 0.4416\n",
            "Epoch 31/100\n",
            "313/313 [==============================] - 2s 8ms/step - loss: 1.1337 - accuracy: 0.5965 - val_loss: 2.0061 - val_accuracy: 0.4586\n",
            "Epoch 32/100\n",
            "313/313 [==============================] - 2s 8ms/step - loss: 1.1257 - accuracy: 0.6033 - val_loss: 2.3095 - val_accuracy: 0.4858\n",
            "Epoch 33/100\n",
            "313/313 [==============================] - 2s 8ms/step - loss: 1.1121 - accuracy: 0.6053 - val_loss: 2.5541 - val_accuracy: 0.4891\n",
            "Epoch 34/100\n",
            "313/313 [==============================] - 2s 8ms/step - loss: 1.0980 - accuracy: 0.6135 - val_loss: 2.7300 - val_accuracy: 0.4809\n",
            "Epoch 35/100\n",
            "313/313 [==============================] - 2s 8ms/step - loss: 1.0913 - accuracy: 0.6180 - val_loss: 2.4841 - val_accuracy: 0.4346\n",
            "Epoch 36/100\n",
            "313/313 [==============================] - 2s 8ms/step - loss: 1.0677 - accuracy: 0.6256 - val_loss: 2.0872 - val_accuracy: 0.4852\n",
            "Epoch 37/100\n",
            "313/313 [==============================] - 3s 8ms/step - loss: 1.0979 - accuracy: 0.6222 - val_loss: 2.2615 - val_accuracy: 0.4897\n",
            "Epoch 38/100\n",
            "313/313 [==============================] - 2s 8ms/step - loss: 1.0314 - accuracy: 0.6351 - val_loss: 2.5566 - val_accuracy: 0.5008\n",
            "Epoch 39/100\n",
            "313/313 [==============================] - 2s 8ms/step - loss: 1.0301 - accuracy: 0.6363 - val_loss: 2.2845 - val_accuracy: 0.4799\n",
            "Epoch 40/100\n",
            "313/313 [==============================] - 2s 8ms/step - loss: 1.0213 - accuracy: 0.6384 - val_loss: 2.7105 - val_accuracy: 0.4738\n",
            "Epoch 41/100\n",
            "313/313 [==============================] - 2s 8ms/step - loss: 1.0064 - accuracy: 0.6483 - val_loss: 2.6733 - val_accuracy: 0.4948\n",
            "Epoch 42/100\n",
            "313/313 [==============================] - 3s 8ms/step - loss: 1.0059 - accuracy: 0.6541 - val_loss: 2.8521 - val_accuracy: 0.4852\n",
            "Epoch 43/100\n",
            "313/313 [==============================] - 2s 8ms/step - loss: 0.9923 - accuracy: 0.6549 - val_loss: 2.9629 - val_accuracy: 0.4943\n",
            "Epoch 44/100\n",
            "313/313 [==============================] - 2s 8ms/step - loss: 0.9954 - accuracy: 0.6531 - val_loss: 3.2211 - val_accuracy: 0.4983\n",
            "Epoch 45/100\n",
            "313/313 [==============================] - 2s 8ms/step - loss: 0.9604 - accuracy: 0.6652 - val_loss: 3.2846 - val_accuracy: 0.4973\n",
            "Epoch 46/100\n",
            "313/313 [==============================] - 2s 8ms/step - loss: 0.9400 - accuracy: 0.6716 - val_loss: 2.9658 - val_accuracy: 0.4790\n",
            "Epoch 47/100\n",
            "313/313 [==============================] - 2s 8ms/step - loss: 0.9172 - accuracy: 0.6794 - val_loss: 3.5074 - val_accuracy: 0.4990\n",
            "Epoch 48/100\n",
            "313/313 [==============================] - 2s 8ms/step - loss: 0.9444 - accuracy: 0.6743 - val_loss: 2.9211 - val_accuracy: 0.4930\n",
            "Epoch 49/100\n",
            "313/313 [==============================] - 2s 8ms/step - loss: 0.9180 - accuracy: 0.6810 - val_loss: 3.1366 - val_accuracy: 0.4947\n",
            "Epoch 50/100\n",
            "313/313 [==============================] - 2s 8ms/step - loss: 0.9164 - accuracy: 0.6859 - val_loss: 2.6691 - val_accuracy: 0.5058\n",
            "Epoch 51/100\n",
            "313/313 [==============================] - 2s 8ms/step - loss: 0.8840 - accuracy: 0.6978 - val_loss: 3.3915 - val_accuracy: 0.4745\n",
            "Epoch 52/100\n",
            "313/313 [==============================] - 2s 8ms/step - loss: 0.8781 - accuracy: 0.6902 - val_loss: 3.4907 - val_accuracy: 0.5036\n",
            "Epoch 53/100\n",
            "313/313 [==============================] - 2s 8ms/step - loss: 0.8970 - accuracy: 0.7014 - val_loss: 2.7974 - val_accuracy: 0.4540\n",
            "Epoch 54/100\n",
            "313/313 [==============================] - 2s 8ms/step - loss: 0.8593 - accuracy: 0.7014 - val_loss: 3.2267 - val_accuracy: 0.4236\n",
            "Epoch 55/100\n",
            "313/313 [==============================] - 2s 8ms/step - loss: 0.8629 - accuracy: 0.7044 - val_loss: 3.8132 - val_accuracy: 0.4897\n",
            "Epoch 56/100\n",
            "313/313 [==============================] - 2s 8ms/step - loss: 0.8326 - accuracy: 0.7107 - val_loss: 3.0563 - val_accuracy: 0.4721\n",
            "Epoch 57/100\n",
            "313/313 [==============================] - 2s 8ms/step - loss: 0.8873 - accuracy: 0.7112 - val_loss: 3.2962 - val_accuracy: 0.4763\n",
            "Epoch 58/100\n",
            "313/313 [==============================] - 2s 8ms/step - loss: 0.8177 - accuracy: 0.7180 - val_loss: 3.3728 - val_accuracy: 0.5054\n",
            "Epoch 59/100\n",
            "313/313 [==============================] - 2s 8ms/step - loss: 0.8056 - accuracy: 0.7201 - val_loss: 3.9240 - val_accuracy: 0.5018\n",
            "Epoch 60/100\n",
            "313/313 [==============================] - 2s 8ms/step - loss: 0.7926 - accuracy: 0.7263 - val_loss: 2.9314 - val_accuracy: 0.4931\n",
            "Epoch 61/100\n",
            "313/313 [==============================] - 2s 8ms/step - loss: 0.7661 - accuracy: 0.7356 - val_loss: 3.8744 - val_accuracy: 0.4590\n",
            "Epoch 62/100\n",
            "313/313 [==============================] - 2s 8ms/step - loss: 0.7647 - accuracy: 0.7350 - val_loss: 3.3101 - val_accuracy: 0.4933\n",
            "Epoch 63/100\n",
            "313/313 [==============================] - 3s 8ms/step - loss: 0.7501 - accuracy: 0.7433 - val_loss: 4.1189 - val_accuracy: 0.5036\n",
            "Epoch 64/100\n",
            "313/313 [==============================] - 2s 8ms/step - loss: 0.7393 - accuracy: 0.7469 - val_loss: 3.5033 - val_accuracy: 0.4388\n",
            "Epoch 65/100\n",
            "313/313 [==============================] - 2s 8ms/step - loss: 0.7591 - accuracy: 0.7439 - val_loss: 4.2728 - val_accuracy: 0.4877\n",
            "Epoch 66/100\n",
            "313/313 [==============================] - 3s 8ms/step - loss: 0.7398 - accuracy: 0.7521 - val_loss: 3.2078 - val_accuracy: 0.4713\n",
            "Epoch 67/100\n",
            "313/313 [==============================] - 2s 8ms/step - loss: 0.7294 - accuracy: 0.7546 - val_loss: 4.4804 - val_accuracy: 0.4825\n",
            "Epoch 68/100\n",
            "313/313 [==============================] - 2s 8ms/step - loss: 0.7037 - accuracy: 0.7584 - val_loss: 5.8564 - val_accuracy: 0.4146\n",
            "Epoch 69/100\n",
            "313/313 [==============================] - 3s 8ms/step - loss: 0.7166 - accuracy: 0.7570 - val_loss: 5.6509 - val_accuracy: 0.4791\n",
            "Epoch 70/100\n",
            "313/313 [==============================] - 2s 8ms/step - loss: 0.6999 - accuracy: 0.7663 - val_loss: 4.0507 - val_accuracy: 0.4862\n",
            "Epoch 71/100\n",
            "313/313 [==============================] - 3s 8ms/step - loss: 0.6883 - accuracy: 0.7684 - val_loss: 5.9676 - val_accuracy: 0.4740\n",
            "Epoch 72/100\n",
            "313/313 [==============================] - 2s 8ms/step - loss: 0.7268 - accuracy: 0.7622 - val_loss: 4.9104 - val_accuracy: 0.5006\n",
            "Epoch 73/100\n",
            "313/313 [==============================] - 2s 8ms/step - loss: 0.6841 - accuracy: 0.7723 - val_loss: 4.3359 - val_accuracy: 0.4707\n",
            "Epoch 74/100\n",
            "313/313 [==============================] - 2s 8ms/step - loss: 0.6753 - accuracy: 0.7732 - val_loss: 4.3923 - val_accuracy: 0.5131\n",
            "Epoch 75/100\n",
            "313/313 [==============================] - 3s 8ms/step - loss: 0.7039 - accuracy: 0.7723 - val_loss: 5.8169 - val_accuracy: 0.4920\n",
            "Epoch 76/100\n",
            "313/313 [==============================] - 3s 8ms/step - loss: 0.6943 - accuracy: 0.7718 - val_loss: 5.3495 - val_accuracy: 0.4958\n",
            "Epoch 77/100\n",
            "313/313 [==============================] - 3s 8ms/step - loss: 0.6727 - accuracy: 0.7720 - val_loss: 4.6599 - val_accuracy: 0.5026\n",
            "Epoch 78/100\n",
            "313/313 [==============================] - 2s 8ms/step - loss: 0.6224 - accuracy: 0.7869 - val_loss: 5.2639 - val_accuracy: 0.4960\n",
            "Epoch 79/100\n",
            "313/313 [==============================] - 3s 8ms/step - loss: 0.6664 - accuracy: 0.7856 - val_loss: 4.8771 - val_accuracy: 0.4886\n",
            "Epoch 80/100\n",
            "313/313 [==============================] - 3s 8ms/step - loss: 0.6463 - accuracy: 0.7878 - val_loss: 4.8049 - val_accuracy: 0.5102\n",
            "Epoch 81/100\n",
            "313/313 [==============================] - 2s 8ms/step - loss: 0.6251 - accuracy: 0.7878 - val_loss: 4.9568 - val_accuracy: 0.4997\n",
            "Epoch 82/100\n",
            "313/313 [==============================] - 2s 8ms/step - loss: 0.6374 - accuracy: 0.7911 - val_loss: 5.9573 - val_accuracy: 0.4847\n",
            "Epoch 83/100\n",
            "313/313 [==============================] - 3s 8ms/step - loss: 0.6118 - accuracy: 0.7971 - val_loss: 4.0460 - val_accuracy: 0.4977\n",
            "Epoch 84/100\n",
            "313/313 [==============================] - 2s 8ms/step - loss: 0.5989 - accuracy: 0.7981 - val_loss: 4.0019 - val_accuracy: 0.4901\n",
            "Epoch 85/100\n",
            "313/313 [==============================] - 3s 8ms/step - loss: 0.5805 - accuracy: 0.8022 - val_loss: 7.5068 - val_accuracy: 0.5033\n",
            "Epoch 86/100\n",
            "313/313 [==============================] - 2s 8ms/step - loss: 0.6958 - accuracy: 0.7938 - val_loss: 6.1956 - val_accuracy: 0.4846\n",
            "Epoch 87/100\n",
            "313/313 [==============================] - 3s 8ms/step - loss: 0.6279 - accuracy: 0.7969 - val_loss: 4.1335 - val_accuracy: 0.5082\n",
            "Epoch 88/100\n",
            "313/313 [==============================] - 2s 8ms/step - loss: 0.5625 - accuracy: 0.8124 - val_loss: 4.7815 - val_accuracy: 0.5066\n",
            "Epoch 89/100\n",
            "313/313 [==============================] - 2s 8ms/step - loss: 0.5584 - accuracy: 0.8137 - val_loss: 5.6957 - val_accuracy: 0.4919\n",
            "Epoch 90/100\n",
            "313/313 [==============================] - 3s 8ms/step - loss: 0.5538 - accuracy: 0.8149 - val_loss: 5.9082 - val_accuracy: 0.4751\n",
            "Epoch 91/100\n",
            "313/313 [==============================] - 3s 8ms/step - loss: 0.5822 - accuracy: 0.8130 - val_loss: 7.0468 - val_accuracy: 0.5019\n",
            "Epoch 92/100\n",
            "313/313 [==============================] - 3s 8ms/step - loss: 0.5484 - accuracy: 0.8193 - val_loss: 4.7050 - val_accuracy: 0.5067\n",
            "Epoch 93/100\n",
            "313/313 [==============================] - 3s 8ms/step - loss: 0.5430 - accuracy: 0.8246 - val_loss: 6.1564 - val_accuracy: 0.4863\n",
            "Epoch 94/100\n",
            "313/313 [==============================] - 3s 8ms/step - loss: 0.5407 - accuracy: 0.8244 - val_loss: 5.4325 - val_accuracy: 0.4731\n",
            "Epoch 95/100\n",
            "313/313 [==============================] - 3s 8ms/step - loss: 0.5786 - accuracy: 0.8177 - val_loss: 5.4780 - val_accuracy: 0.4915\n",
            "Epoch 96/100\n",
            "313/313 [==============================] - 3s 8ms/step - loss: 0.5522 - accuracy: 0.8272 - val_loss: 4.3819 - val_accuracy: 0.4990\n",
            "Epoch 97/100\n",
            "313/313 [==============================] - 3s 8ms/step - loss: 0.5218 - accuracy: 0.8270 - val_loss: 5.7545 - val_accuracy: 0.4809\n",
            "Epoch 98/100\n",
            "313/313 [==============================] - 3s 8ms/step - loss: 0.5182 - accuracy: 0.8292 - val_loss: 5.9496 - val_accuracy: 0.4698\n",
            "Epoch 99/100\n",
            "313/313 [==============================] - 2s 8ms/step - loss: 0.5011 - accuracy: 0.8332 - val_loss: 6.0736 - val_accuracy: 0.4941\n",
            "Epoch 100/100\n",
            "313/313 [==============================] - 3s 8ms/step - loss: 0.5496 - accuracy: 0.8282 - val_loss: 6.4471 - val_accuracy: 0.5078\n",
            "CPU times: user 3min 31s, sys: 1min 4s, total: 4min 36s\n",
            "Wall time: 4min 13s\n"
          ],
          "name": "stdout"
        }
      ]
    },
    {
      "cell_type": "markdown",
      "metadata": {
        "id": "tEmH2X7vgJyA"
      },
      "source": [
        "### 4)학습결과 시각화\n",
        "* Loss Visualization"
      ]
    },
    {
      "cell_type": "code",
      "metadata": {
        "colab": {
          "base_uri": "https://localhost:8080/",
          "height": 404
        },
        "id": "yYQAynpvgFRR",
        "outputId": "c163e017-856c-465b-dd1e-c071eda9529c"
      },
      "source": [
        "import matplotlib.pyplot as plt \n",
        "\n",
        "epochs = range(1, len(Hist_CIFAR.history['loss']) + 1)\n",
        "\n",
        "plt.figure(figsize = (9, 6)) \n",
        "plt.plot(epochs, Hist_CIFAR.history['loss']) \n",
        "plt.plot(epochs, Hist_CIFAR.history['val_loss']) \n",
        "# plt.ylim(0, 0.25) \n",
        "plt.title('Training & Validation Loss') \n",
        "plt.xlabel('Epochs') \n",
        "plt.ylabel('Loss') \n",
        "plt.legend(['Training Loss', 'Validation Loss']) \n",
        "plt.grid() \n",
        "plt.show()"
      ],
      "execution_count": 17,
      "outputs": [
        {
          "output_type": "display_data",
          "data": {
            "image/png": "[encoded data removed]",
            "text/plain": [
              "<Figure size 648x432 with 1 Axes>"
            ]
          },
          "metadata": {
            "tags": [],
            "needs_background": "light"
          }
        }
      ]
    },
    {
      "cell_type": "markdown",
      "metadata": {
        "id": "WqTyA6z9gjVC"
      },
      "source": [
        "### 5)Model Evaluate\n",
        "* Loss & Accuracy\n"
      ]
    },
    {
      "cell_type": "code",
      "metadata": {
        "colab": {
          "base_uri": "https://localhost:8080/"
        },
        "id": "IN4T_CVrgn4k",
        "outputId": "deadae6c-f422-4368-a21d-cc6cdc58f17e"
      },
      "source": [
        "loss, accuracy = CIFAR.evaluate(X_test, y_test)\n",
        "\n",
        "print('Loss = {:.5f}'.format(loss)) \n",
        "print('Accuracy = {:.5f}'.format(accuracy))"
      ],
      "execution_count": 18,
      "outputs": [
        {
          "output_type": "stream",
          "text": [
            "313/313 [==============================] - 1s 2ms/step - loss: 5.1077 - accuracy: 0.5031\n",
            "Loss = 5.10770\n",
            "Accuracy = 0.50310\n"
          ],
          "name": "stdout"
        }
      ]
    },
    {
      "cell_type": "markdown",
      "metadata": {
        "id": "7-QHJlvJgsqD"
      },
      "source": [
        "### 6)Model Predict\n",
        "* Probability"
      ]
    },
    {
      "cell_type": "code",
      "metadata": {
        "colab": {
          "base_uri": "https://localhost:8080/"
        },
        "id": "IWapd5sOgwrn",
        "outputId": "ae421190-4d25-45a6-9107-92ffdf945a90"
      },
      "source": [
        "np.set_printoptions(suppress = True, precision = 9)\n",
        "\n",
        "print(CIFAR.predict(X_test[:1,:]))"
      ],
      "execution_count": 21,
      "outputs": [
        {
          "output_type": "stream",
          "text": [
            "[[0.000000458 0.000001316 0.00000237  0.9593727   0.02718683  0.00000344  0.000000043 0.000023    0.000108504 0.013301317]]\n"
          ],
          "name": "stdout"
        }
      ]
    },
    {
      "cell_type": "markdown",
      "metadata": {
        "id": "f1OajOoAg6Kn"
      },
      "source": [
        "* Class"
      ]
    },
    {
      "cell_type": "code",
      "metadata": {
        "colab": {
          "base_uri": "https://localhost:8080/"
        },
        "id": "-NE6rZ_2g9Xr",
        "outputId": "44677fbf-1345-4d08-b242-005700423690"
      },
      "source": [
        "print(CIFAR.predict_classes(X_test[:1,:]))"
      ],
      "execution_count": 23,
      "outputs": [
        {
          "output_type": "stream",
          "text": [
            "[3]\n"
          ],
          "name": "stdout"
        }
      ]
    },
    {
      "cell_type": "markdown",
      "metadata": {
        "id": "ka7WLpgBhBmn"
      },
      "source": [
        "본 내용은 2021/03/22(월)에 학습한 내용입니다."
      ]
    }
  ]
}
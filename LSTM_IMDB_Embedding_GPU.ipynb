{
  "nbformat": 4,
  "nbformat_minor": 0,
  "metadata": {
    "colab": {
      "name": "LSTM_IMDB_Embedding_GPU.ipynb",
      "provenance": [],
      "authorship_tag": "ABX9TyMz5rVqJSb41/DvrRIp3REX",
      "include_colab_link": true
    },
    "kernelspec": {
      "name": "python3",
      "display_name": "Python 3"
    },
    "language_info": {
      "name": "python"
    },
    "accelerator": "GPU"
  },
  "cells": [
    {
      "cell_type": "markdown",
      "metadata": {
        "id": "view-in-github",
        "colab_type": "text"
      },
      "source": [
        "<a href=\"https://colab.research.google.com/github/jungmin0710/K-digital-PythonDeepLearning/blob/main/LSTM_IMDB_Embedding_GPU.ipynb\" target=\"_parent\"><img src=\"https://colab.research.google.com/assets/colab-badge.svg\" alt=\"Open In Colab\"/></a>"
      ]
    },
    {
      "cell_type": "markdown",
      "metadata": {
        "id": "VH6fnVkxv6zM"
      },
      "source": [
        "# IMDB - Embedding with LSTM\n",
        "NLP(Natural Language Processing)"
      ]
    },
    {
      "cell_type": "code",
      "metadata": {
        "id": "AOEBTUtFv39j"
      },
      "source": [
        "import warnings \n",
        "warnings.filterwarnings('ignore')"
      ],
      "execution_count": 1,
      "outputs": []
    },
    {
      "cell_type": "markdown",
      "metadata": {
        "id": "T-VZppgswEF5"
      },
      "source": [
        "## 0.Import Keras\n",
        "# * Keras Version 확인"
      ]
    },
    {
      "cell_type": "code",
      "metadata": {
        "colab": {
          "base_uri": "https://localhost:8080/",
          "height": 35
        },
        "id": "SEIGd8O-wDR2",
        "outputId": "ce2d4298-f784-4117-9a5f-61c3353ddfd0"
      },
      "source": [
        "import keras\n",
        "\n",
        "keras.__version__"
      ],
      "execution_count": 2,
      "outputs": [
        {
          "output_type": "execute_result",
          "data": {
            "application/vnd.google.colaboratory.intrinsic+json": {
              "type": "string"
            },
            "text/plain": [
              "'2.4.3'"
            ]
          },
          "metadata": {
            "tags": []
          },
          "execution_count": 2
        }
      ]
    },
    {
      "cell_type": "markdown",
      "metadata": {
        "id": "L0cogotLwMfr"
      },
      "source": [
        "## 1.IMDB Data_Set Load & Review\n"
      ]
    },
    {
      "cell_type": "markdown",
      "metadata": {
        "id": "4QZfEQVawQF2"
      },
      "source": [
        "### 1) Load IMDB Data_Set\n",
        "* Word to Vector \n",
        "* 전체 데이터 내에서 단어의 사용빈도에 따라 인덱스화 \n",
        "* 정수 인덱스 '11'은 11번째로 자주 사용된 단어를 나타냄 \n",
        "* num_words = 10000 : 인덱스 값 10000 이하의 단어만 추출 \n",
        "* 단어 인덱스 값이 10000을 넘지 않는 단어만 분석에 사용"
      ]
    },
    {
      "cell_type": "code",
      "metadata": {
        "id": "dA2jtRaMwJFH",
        "colab": {
          "base_uri": "https://localhost:8080/"
        },
        "outputId": "0850da9f-c22c-4661-e446-436041debd24"
      },
      "source": [
        "from keras.datasets import imdb\n",
        "\n",
        "(X_train, y_train), (X_test, y_test) = imdb.load_data(num_words = 10000)"
      ],
      "execution_count": 3,
      "outputs": [
        {
          "output_type": "stream",
          "text": [
            "Downloading data from https://storage.googleapis.com/tensorflow/tf-keras-datasets/imdb.npz\n",
            "17465344/17464789 [==============================] - 0s 0us/step\n"
          ],
          "name": "stdout"
        }
      ]
    },
    {
      "cell_type": "markdown",
      "metadata": {
        "id": "G1GeUHZ7wks7"
      },
      "source": [
        "### 2) Visualization & Frequency(Optional)\n",
        "* x - Histogram(리뷰 길이)"
      ]
    },
    {
      "cell_type": "code",
      "metadata": {
        "colab": {
          "base_uri": "https://localhost:8080/",
          "height": 424
        },
        "id": "LD7gcqxIwhRZ",
        "outputId": "792718b1-e29b-4b1b-96b8-8afffc83fdfe"
      },
      "source": [
        "import matplotlib.pyplot as plt\n",
        "\n",
        "print('리뷰 최대 길이 : ', max(len(L) for L in X_train))\n",
        "print('리뷰 평균 길이 : ', sum(map(len, X_train)) / len(X_train))\n",
        "\n",
        "plt.figure(figsize = (9, 6))\n",
        "plt.hist([len(L) for L in X_train], bins = 50)\n",
        "plt.xlabel('Length of X_train')\n",
        "plt.ylabel('Number of X_train')\n",
        "plt.show()"
      ],
      "execution_count": 4,
      "outputs": [
        {
          "output_type": "stream",
          "text": [
            "리뷰 최대 길이 :  2494\n",
            "리뷰 평균 길이 :  238.71364\n"
          ],
          "name": "stdout"
        },
        {
          "output_type": "display_data",
          "data": {
            "image/png": "[encoded data removed]",
            "text/plain": [
              "<Figure size 648x432 with 1 Axes>"
            ]
          },
          "metadata": {
            "tags": [],
            "needs_background": "light"
          }
        }
      ]
    },
    {
      "cell_type": "markdown",
      "metadata": {
        "id": "quf0CV9AxKvV"
      },
      "source": [
        "* y - Frequency(0 : 부정, 1 : 긍정)"
      ]
    },
    {
      "cell_type": "code",
      "metadata": {
        "colab": {
          "base_uri": "https://localhost:8080/"
        },
        "id": "7WWD7jkcxFg1",
        "outputId": "57c500d5-ccf7-46d6-bd25-3825bd8e3211"
      },
      "source": [
        "import numpy as np\n",
        "\n",
        "unique_elements, counts_elements = np.unique(y_train, return_counts = True)\n",
        "\n",
        "print('Label 빈도수 : ')\n",
        "print(np.asarray((unique_elements, counts_elements)))"
      ],
      "execution_count": 5,
      "outputs": [
        {
          "output_type": "stream",
          "text": [
            "Label 빈도수 : \n",
            "[[    0     1]\n",
            " [12500 12500]]\n"
          ],
          "name": "stdout"
        }
      ]
    },
    {
      "cell_type": "markdown",
      "metadata": {
        "id": "zw85x12HxiCb"
      },
      "source": [
        "## 2.Tensor Transformation"
      ]
    },
    {
      "cell_type": "markdown",
      "metadata": {
        "id": "UC--bz8Gxl6l"
      },
      "source": [
        "1) X_train & X_test : (25000, 10000)\n",
        "* vectorization\n",
        "  * (25000, 10000)"
      ]
    },
    {
      "cell_type": "code",
      "metadata": {
        "colab": {
          "base_uri": "https://localhost:8080/"
        },
        "id": "h8SgWkDZxbZ-",
        "outputId": "f7b10260-f6d9-4d20-df90-96e2add559c8"
      },
      "source": [
        "from keras import preprocessing\n",
        "\n",
        "X_train = preprocessing.sequence.pad_sequences(X_train, maxlen = 10000)\n",
        "X_test = preprocessing.sequence.pad_sequences(X_test, maxlen = 10000)\n",
        "\n",
        "X_train.shape, X_test.shape"
      ],
      "execution_count": 6,
      "outputs": [
        {
          "output_type": "execute_result",
          "data": {
            "text/plain": [
              "((25000, 10000), (25000, 10000))"
            ]
          },
          "metadata": {
            "tags": []
          },
          "execution_count": 6
        }
      ]
    },
    {
      "cell_type": "markdown",
      "metadata": {
        "id": "jkAfYHhLyCXt"
      },
      "source": [
        "* Transformation Check"
      ]
    },
    {
      "cell_type": "code",
      "metadata": {
        "id": "OZtfEW5px7B5",
        "colab": {
          "base_uri": "https://localhost:8080/"
        },
        "outputId": "165d7b52-15b7-4d41-b0a8-14a19f26a621"
      },
      "source": [
        "print(X_train[0][:21])\n",
        "print(X_train[0][9979:])\n",
        "print(X_test[0][:21])\n",
        "print(X_test[0][9979:])"
      ],
      "execution_count": 7,
      "outputs": [
        {
          "output_type": "stream",
          "text": [
            "[0 0 0 0 0 0 0 0 0 0 0 0 0 0 0 0 0 0 0 0 0]\n",
            "[ 226   65   16   38 1334   88   12   16  283    5   16 4472  113  103\n",
            "   32   15   16 5345   19  178   32]\n",
            "[0 0 0 0 0 0 0 0 0 0 0 0 0 0 0 0 0 0 0 0 0]\n",
            "[  14  286  170    8  157   46    5   27  239   16  179    2   38   32\n",
            "   25 7944  451  202   14    6  717]\n"
          ],
          "name": "stdout"
        }
      ]
    },
    {
      "cell_type": "markdown",
      "metadata": {
        "id": "VoFn_sJH0Cu1"
      },
      "source": [
        "### 2) y_train & y_test"
      ]
    },
    {
      "cell_type": "code",
      "metadata": {
        "id": "ygWsNEhR0GlY",
        "colab": {
          "base_uri": "https://localhost:8080/"
        },
        "outputId": "73ae71dd-a133-4a70-88e0-49ae4872b3db"
      },
      "source": [
        "y_train = np.asarray(y_train).astype(float) \n",
        "y_test = np.asarray(y_test).astype(float)\n",
        "\n",
        "print(y_train[:21]) \n",
        "print(y_test[:21])"
      ],
      "execution_count": 8,
      "outputs": [
        {
          "output_type": "stream",
          "text": [
            "[1. 0. 0. 1. 0. 0. 1. 0. 1. 0. 1. 0. 0. 0. 0. 0. 1. 1. 0. 1. 0.]\n",
            "[0. 1. 1. 0. 1. 1. 1. 0. 0. 1. 1. 0. 0. 0. 1. 0. 1. 0. 0. 0. 1.]\n"
          ],
          "name": "stdout"
        }
      ]
    },
    {
      "cell_type": "markdown",
      "metadata": {
        "id": "VoXjf7FQygX3"
      },
      "source": [
        "## 3.Keras Embedding Modeling"
      ]
    },
    {
      "cell_type": "markdown",
      "metadata": {
        "id": "DmWDhmn6yjm8"
      },
      "source": [
        "### 1) Model Define\n",
        "* 모델 신경망 구조 정의\n",
        "  * Embedding Dimension : 32"
      ]
    },
    {
      "cell_type": "code",
      "metadata": {
        "id": "PGVTOfUkyNE4"
      },
      "source": [
        "from keras import models \n",
        "from keras import layers\n",
        "\n",
        "imdb = models.Sequential() \n",
        "\n",
        "imdb.add(layers.Embedding(10000, 32, input_length = 10000))\n",
        "\n",
        "imdb.add(layers.LSTM(8)) \n",
        "imdb.add(layers.Dropout(0.5)) \n",
        "imdb.add(layers.Dense(1, activation = 'sigmoid'))"
      ],
      "execution_count": 9,
      "outputs": []
    },
    {
      "cell_type": "markdown",
      "metadata": {
        "id": "jjDk25Iiy0pK"
      },
      "source": [
        "* 모델 구조 확인"
      ]
    },
    {
      "cell_type": "code",
      "metadata": {
        "id": "BuKLQm9oyqOJ",
        "colab": {
          "base_uri": "https://localhost:8080/"
        },
        "outputId": "1cb70c19-b5a9-440c-ed0c-d67c77cb4683"
      },
      "source": [
        "imdb.summary()"
      ],
      "execution_count": 10,
      "outputs": [
        {
          "output_type": "stream",
          "text": [
            "Model: \"sequential\"\n",
            "_________________________________________________________________\n",
            "Layer (type)                 Output Shape              Param #   \n",
            "=================================================================\n",
            "embedding (Embedding)        (None, 10000, 32)         320000    \n",
            "_________________________________________________________________\n",
            "lstm (LSTM)                  (None, 8)                 1312      \n",
            "_________________________________________________________________\n",
            "dropout (Dropout)            (None, 8)                 0         \n",
            "_________________________________________________________________\n",
            "dense (Dense)                (None, 1)                 9         \n",
            "=================================================================\n",
            "Total params: 321,321\n",
            "Trainable params: 321,321\n",
            "Non-trainable params: 0\n",
            "_________________________________________________________________\n"
          ],
          "name": "stdout"
        }
      ]
    },
    {
      "cell_type": "markdown",
      "metadata": {
        "id": "kKvyTj-Vy7X9"
      },
      "source": [
        "### 2) Model Compile\n",
        "* 모델 학습방법 설정"
      ]
    },
    {
      "cell_type": "code",
      "metadata": {
        "id": "HF4sl46Ay274"
      },
      "source": [
        "imdb.compile(loss = 'binary_crossentropy',\n",
        "             optimizer = 'adam',\n",
        "             metrics = ['accuracy'])"
      ],
      "execution_count": 11,
      "outputs": []
    },
    {
      "cell_type": "markdown",
      "metadata": {
        "id": "WSLmTDXdzFVB"
      },
      "source": [
        "### 3) Model Fit\n",
        "* 약 20분"
      ]
    },
    {
      "cell_type": "code",
      "metadata": {
        "id": "fY5avmXvzEaG",
        "colab": {
          "base_uri": "https://localhost:8080/"
        },
        "outputId": "31337f1a-36df-48f7-e84d-530192e90887"
      },
      "source": [
        "%%time\n",
        "\n",
        "Hist_imdb = imdb.fit(X_train, y_train, \n",
        "                     epochs = 25, \n",
        "                     batch_size = 512,\n",
        "                     validation_data = (X_test, y_test))"
      ],
      "execution_count": 12,
      "outputs": [
        {
          "output_type": "stream",
          "text": [
            "Epoch 1/25\n",
            "49/49 [==============================] - 73s 819ms/step - loss: 0.6901 - accuracy: 0.5681 - val_loss: 0.6652 - val_accuracy: 0.7000\n",
            "Epoch 2/25\n",
            "49/49 [==============================] - 39s 805ms/step - loss: 0.6107 - accuracy: 0.7413 - val_loss: 0.4883 - val_accuracy: 0.8222\n",
            "Epoch 3/25\n",
            "49/49 [==============================] - 39s 803ms/step - loss: 0.4640 - accuracy: 0.8447 - val_loss: 0.4270 - val_accuracy: 0.8367\n",
            "Epoch 4/25\n",
            "49/49 [==============================] - 39s 803ms/step - loss: 0.4037 - accuracy: 0.8645 - val_loss: 0.3818 - val_accuracy: 0.8502\n",
            "Epoch 5/25\n",
            "49/49 [==============================] - 39s 805ms/step - loss: 0.3400 - accuracy: 0.9005 - val_loss: 0.3582 - val_accuracy: 0.8578\n",
            "Epoch 6/25\n",
            "49/49 [==============================] - 39s 808ms/step - loss: 0.3014 - accuracy: 0.9144 - val_loss: 0.3410 - val_accuracy: 0.8634\n",
            "Epoch 7/25\n",
            "49/49 [==============================] - 39s 802ms/step - loss: 0.2690 - accuracy: 0.9310 - val_loss: 0.3381 - val_accuracy: 0.8651\n",
            "Epoch 8/25\n",
            "49/49 [==============================] - 39s 804ms/step - loss: 0.2277 - accuracy: 0.9460 - val_loss: 0.3349 - val_accuracy: 0.8669\n",
            "Epoch 9/25\n",
            "49/49 [==============================] - 39s 807ms/step - loss: 0.2165 - accuracy: 0.9500 - val_loss: 0.3436 - val_accuracy: 0.8657\n",
            "Epoch 10/25\n",
            "49/49 [==============================] - 39s 807ms/step - loss: 0.1925 - accuracy: 0.9574 - val_loss: 0.3527 - val_accuracy: 0.8654\n",
            "Epoch 11/25\n",
            "49/49 [==============================] - 39s 806ms/step - loss: 0.1826 - accuracy: 0.9587 - val_loss: 0.3641 - val_accuracy: 0.8625\n",
            "Epoch 12/25\n",
            "49/49 [==============================] - 39s 804ms/step - loss: 0.1626 - accuracy: 0.9663 - val_loss: 0.3821 - val_accuracy: 0.8593\n",
            "Epoch 13/25\n",
            "49/49 [==============================] - 39s 804ms/step - loss: 0.1613 - accuracy: 0.9648 - val_loss: 0.3971 - val_accuracy: 0.8543\n",
            "Epoch 14/25\n",
            "49/49 [==============================] - 39s 806ms/step - loss: 0.1511 - accuracy: 0.9681 - val_loss: 0.4027 - val_accuracy: 0.8580\n",
            "Epoch 15/25\n",
            "49/49 [==============================] - 39s 803ms/step - loss: 0.1358 - accuracy: 0.9743 - val_loss: 0.4035 - val_accuracy: 0.8556\n",
            "Epoch 16/25\n",
            "49/49 [==============================] - 39s 801ms/step - loss: 0.1429 - accuracy: 0.9673 - val_loss: 0.4037 - val_accuracy: 0.8593\n",
            "Epoch 17/25\n",
            "49/49 [==============================] - 39s 800ms/step - loss: 0.1376 - accuracy: 0.9687 - val_loss: 0.4127 - val_accuracy: 0.8585\n",
            "Epoch 18/25\n",
            "49/49 [==============================] - 39s 801ms/step - loss: 0.1913 - accuracy: 0.9438 - val_loss: 0.4601 - val_accuracy: 0.8538\n",
            "Epoch 19/25\n",
            "49/49 [==============================] - 39s 804ms/step - loss: 0.1342 - accuracy: 0.9696 - val_loss: 0.4244 - val_accuracy: 0.8569\n",
            "Epoch 20/25\n",
            "49/49 [==============================] - 39s 802ms/step - loss: 0.1132 - accuracy: 0.9775 - val_loss: 0.4696 - val_accuracy: 0.8538\n",
            "Epoch 21/25\n",
            "49/49 [==============================] - 39s 803ms/step - loss: 0.1175 - accuracy: 0.9748 - val_loss: 0.4429 - val_accuracy: 0.8578\n",
            "Epoch 22/25\n",
            "49/49 [==============================] - 39s 802ms/step - loss: 0.1068 - accuracy: 0.9784 - val_loss: 0.4679 - val_accuracy: 0.8559\n",
            "Epoch 23/25\n",
            "49/49 [==============================] - 39s 807ms/step - loss: 0.1016 - accuracy: 0.9806 - val_loss: 0.4887 - val_accuracy: 0.8520\n",
            "Epoch 24/25\n",
            "49/49 [==============================] - 39s 802ms/step - loss: 0.0989 - accuracy: 0.9813 - val_loss: 0.4958 - val_accuracy: 0.8514\n",
            "Epoch 25/25\n",
            "49/49 [==============================] - 39s 805ms/step - loss: 0.0977 - accuracy: 0.9804 - val_loss: 0.4837 - val_accuracy: 0.8548\n",
            "CPU times: user 15min 24s, sys: 26.9 s, total: 15min 51s\n",
            "Wall time: 16min 52s\n"
          ],
          "name": "stdout"
        }
      ]
    },
    {
      "cell_type": "markdown",
      "metadata": {
        "id": "SeKFihQ-zQIt"
      },
      "source": [
        "### 4) 학습 결과 시각화\n",
        "* Loss Visualization"
      ]
    },
    {
      "cell_type": "code",
      "metadata": {
        "id": "5qdFxo9gzN1_",
        "colab": {
          "base_uri": "https://localhost:8080/",
          "height": 404
        },
        "outputId": "154e97ca-c801-40c9-d0ab-e8e0402bf2eb"
      },
      "source": [
        "import matplotlib.pyplot as plt \n",
        "\n",
        "epochs = range(1, len(Hist_imdb.history['loss']) + 1)\n",
        "\n",
        "plt.figure(figsize = (9, 6)) \n",
        "plt.plot(epochs, Hist_imdb.history['loss']) \n",
        "plt.plot(epochs, Hist_imdb.history['val_loss']) \n",
        "plt.title('Training & Validation Loss') \n",
        "plt.xlabel('Epochs') \n",
        "plt.ylabel('Loss') \n",
        "plt.legend(['Training Loss', 'Validation Loss']) \n",
        "plt.grid() \n",
        "plt.show()"
      ],
      "execution_count": 13,
      "outputs": [
        {
          "output_type": "display_data",
          "data": {
            "image/png": "[encoded data removed]",
            "text/plain": [
              "<Figure size 648x432 with 1 Axes>"
            ]
          },
          "metadata": {
            "tags": [],
            "needs_background": "light"
          }
        }
      ]
    },
    {
      "cell_type": "markdown",
      "metadata": {
        "id": "HDX6C5wwzgX8"
      },
      "source": [
        "* Accuracy Visualization"
      ]
    },
    {
      "cell_type": "code",
      "metadata": {
        "id": "tjCGfc4Tziv-",
        "colab": {
          "base_uri": "https://localhost:8080/",
          "height": 404
        },
        "outputId": "a165e4e4-c5b8-42a8-bbef-0079c5ddf361"
      },
      "source": [
        "import matplotlib.pyplot as plt \n",
        "\n",
        "epochs = range(1, len(Hist_imdb.history['accuracy']) + 1)\n",
        "\n",
        "plt.figure(figsize = (9, 6)) \n",
        "plt.plot(epochs, Hist_imdb.history['accuracy']) \n",
        "plt.plot(epochs, Hist_imdb.history['val_accuracy']) \n",
        "plt.title('Training & Validation Accuracy') \n",
        "plt.xlabel('Epochs') \n",
        "plt.ylabel('Accuracy') \n",
        "plt.legend(['Training Accuracy', 'Validation Accuracy']) \n",
        "plt.grid() \n",
        "plt.show()"
      ],
      "execution_count": 14,
      "outputs": [
        {
          "output_type": "display_data",
          "data": {
            "image/png": "[encoded data removed]",
            "text/plain": [
              "<Figure size 648x432 with 1 Axes>"
            ]
          },
          "metadata": {
            "tags": [],
            "needs_background": "light"
          }
        }
      ]
    },
    {
      "cell_type": "markdown",
      "metadata": {
        "id": "Aql59m0czrxY"
      },
      "source": [
        "### 5) Model Evaluate\n",
        "* Loss & Accuracy"
      ]
    },
    {
      "cell_type": "code",
      "metadata": {
        "id": "rdlhFiSvzviR",
        "colab": {
          "base_uri": "https://localhost:8080/"
        },
        "outputId": "77a47c02-0f91-4627-9cdb-9ecd3e4aee11"
      },
      "source": [
        "loss, accuracy = imdb.evaluate(X_test, y_test)\n",
        "\n",
        "print('Loss = {:.5f}'.format(loss)) \n",
        "print('Accuracy = {:.5f}'.format(accuracy))"
      ],
      "execution_count": 15,
      "outputs": [
        {
          "output_type": "stream",
          "text": [
            "782/782 [==============================] - 93s 119ms/step - loss: 0.4837 - accuracy: 0.8548\n",
            "Loss = 0.48372\n",
            "Accuracy = 0.85476\n"
          ],
          "name": "stdout"
        }
      ]
    }
  ]
}
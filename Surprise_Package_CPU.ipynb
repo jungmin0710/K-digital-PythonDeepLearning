{
  "nbformat": 4,
  "nbformat_minor": 0,
  "metadata": {
    "colab": {
      "name": "Surprise_Package_CPU.ipynb",
      "provenance": [],
      "authorship_tag": "ABX9TyPmaX+KWlxTbRZORvEGUjGx",
      "include_colab_link": true
    },
    "kernelspec": {
      "name": "python3",
      "display_name": "Python 3"
    },
    "language_info": {
      "name": "python"
    }
  },
  "cells": [
    {
      "cell_type": "markdown",
      "metadata": {
        "id": "view-in-github",
        "colab_type": "text"
      },
      "source": [
        "<a href=\"https://colab.research.google.com/github/jungmin0710/K-digital-PythonDeepLearning/blob/main/Surprise_Package_CPU.ipynb\" target=\"_parent\"><img src=\"https://colab.research.google.com/assets/colab-badge.svg\" alt=\"Open In Colab\"/></a>"
      ]
    },
    {
      "cell_type": "markdown",
      "metadata": {
        "id": "zWfkvXnQLctL"
      },
      "source": [
        "# Python 추천시스템 패키지"
      ]
    },
    {
      "cell_type": "code",
      "metadata": {
        "id": "S3n9rkxxLbay"
      },
      "source": [
        "import warnings\n",
        "warnings.filterwarnings('ignore')"
      ],
      "execution_count": 1,
      "outputs": []
    },
    {
      "cell_type": "markdown",
      "metadata": {
        "id": "WUBrdGcvLiIS"
      },
      "source": [
        "## 1.Surprise Package\n",
        "* 다양한 추천 알고리즘을 쉽게 적용 \n",
        "* 사이킷런과 유사한 API 구조"
      ]
    },
    {
      "cell_type": "markdown",
      "metadata": {
        "id": "dxIProoDLh8P"
      },
      "source": [
        "### 1) Install Package"
      ]
    },
    {
      "cell_type": "code",
      "metadata": {
        "colab": {
          "base_uri": "https://localhost:8080/"
        },
        "id": "NCYuPRmsLgVS",
        "outputId": "b3e5eef6-204f-4673-a477-37127118345c"
      },
      "source": [
        "!pip install surprise"
      ],
      "execution_count": 2,
      "outputs": [
        {
          "output_type": "stream",
          "text": [
            "Collecting surprise\n",
            "  Downloading https://files.pythonhosted.org/packages/61/de/e5cba8682201fcf9c3719a6fdda95693468ed061945493dea2dd37c5618b/surprise-0.1-py2.py3-none-any.whl\n",
            "Collecting scikit-surprise\n",
            "\u001b[?25l  Downloading https://files.pythonhosted.org/packages/97/37/5d334adaf5ddd65da99fc65f6507e0e4599d092ba048f4302fe8775619e8/scikit-surprise-1.1.1.tar.gz (11.8MB)\n",
            "\u001b[K     |████████████████████████████████| 11.8MB 238kB/s \n",
            "\u001b[?25hRequirement already satisfied: joblib>=0.11 in /usr/local/lib/python3.7/dist-packages (from scikit-surprise->surprise) (1.0.1)\n",
            "Requirement already satisfied: numpy>=1.11.2 in /usr/local/lib/python3.7/dist-packages (from scikit-surprise->surprise) (1.19.5)\n",
            "Requirement already satisfied: scipy>=1.0.0 in /usr/local/lib/python3.7/dist-packages (from scikit-surprise->surprise) (1.4.1)\n",
            "Requirement already satisfied: six>=1.10.0 in /usr/local/lib/python3.7/dist-packages (from scikit-surprise->surprise) (1.15.0)\n",
            "Building wheels for collected packages: scikit-surprise\n",
            "  Building wheel for scikit-surprise (setup.py) ... \u001b[?25l\u001b[?25hdone\n",
            "  Created wheel for scikit-surprise: filename=scikit_surprise-1.1.1-cp37-cp37m-linux_x86_64.whl size=1617577 sha256=efc1638def1fbb4c557be6326750fc74accd950a9ae95bb5222f45a8eb00bc08\n",
            "  Stored in directory: /root/.cache/pip/wheels/78/9c/3d/41b419c9d2aff5b6e2b4c0fc8d25c538202834058f9ed110d0\n",
            "Successfully built scikit-surprise\n",
            "Installing collected packages: scikit-surprise, surprise\n",
            "Successfully installed scikit-surprise-1.1.1 surprise-0.1\n"
          ],
          "name": "stdout"
        }
      ]
    },
    {
      "cell_type": "markdown",
      "metadata": {
        "id": "zKLfM7APLryP"
      },
      "source": [
        "### 2) Import Package"
      ]
    },
    {
      "cell_type": "code",
      "metadata": {
        "colab": {
          "base_uri": "https://localhost:8080/"
        },
        "id": "cAQWorPrLpnY",
        "outputId": "f31c38fa-66a7-4600-dee6-cd6a3e859cf4"
      },
      "source": [
        "import surprise\n",
        "\n",
        "print(surprise.__version__)"
      ],
      "execution_count": 3,
      "outputs": [
        {
          "output_type": "stream",
          "text": [
            "1.1.1\n"
          ],
          "name": "stdout"
        }
      ]
    },
    {
      "cell_type": "markdown",
      "metadata": {
        "id": "bOWeFyY2Lxoc"
      },
      "source": [
        "## 2.Surprise Dataset\n",
        "* user_id(사용자), item_id(아이템), rating(평점)으로 된 데이터 세트만 적용 가능 \n",
        "* 3개의 컬럼만 로딩하고 나머지는 제외"
      ]
    },
    {
      "cell_type": "markdown",
      "metadata": {
        "id": "GjcmeHy5L41b"
      },
      "source": [
        "### 1) MovieLens Dataset\n",
        "* 디렉토리에 저장 후 로딩\n",
        "  * 'ml-100k' : 10만개 평점 데이터 'ml-1m' : \n",
        "  * 100만개 평점 데이터"
      ]
    },
    {
      "cell_type": "code",
      "metadata": {
        "colab": {
          "base_uri": "https://localhost:8080/"
        },
        "id": "hO_2WWYlL91L",
        "outputId": "78bf3357-a894-4386-9b13-f38761f9d9d4"
      },
      "source": [
        "from surprise import Dataset \n",
        "\n",
        "data = Dataset.load_builtin('ml-100k')"
      ],
      "execution_count": 4,
      "outputs": [
        {
          "output_type": "stream",
          "text": [
            "Dataset ml-100k could not be found. Do you want to download it? [Y/n] y\n",
            "Trying to download dataset from http://files.grouplens.org/datasets/movielens/ml-100k.zip...\n",
            "Done! Dataset ml-100k has been saved to /root/.surprise_data/ml-100k\n"
          ],
          "name": "stdout"
        }
      ]
    },
    {
      "cell_type": "code",
      "metadata": {
        "colab": {
          "base_uri": "https://localhost:8080/"
        },
        "id": "E96kFouAMBtf",
        "outputId": "a3791109-ba2e-4eae-cba9-d51abf63ba9e"
      },
      "source": [
        "!ls -l /root/.surprise_data/"
      ],
      "execution_count": 5,
      "outputs": [
        {
          "output_type": "stream",
          "text": [
            "total 4\n",
            "drwxr-xr-x 3 root root 4096 Apr  1 06:48 ml-100k\n"
          ],
          "name": "stdout"
        }
      ]
    },
    {
      "cell_type": "markdown",
      "metadata": {
        "id": "-SrwqMNtMpiN"
      },
      "source": [
        "### 2) train_test_split( )"
      ]
    },
    {
      "cell_type": "code",
      "metadata": {
        "id": "ohyoxGspMMAy"
      },
      "source": [
        "from surprise.model_selection import train_test_split \n",
        "\n",
        "trainset, testset = train_test_split(data,\n",
        "                                     test_size = 0.3, \n",
        "                                     random_state = 2045)\n",
        "\n"
      ],
      "execution_count": 8,
      "outputs": []
    },
    {
      "cell_type": "markdown",
      "metadata": {
        "id": "tceqtJZBMv9x"
      },
      "source": [
        "## 3.SVD 기반 잠재 요인 협업 필터링"
      ]
    },
    {
      "cell_type": "markdown",
      "metadata": {
        "id": "ayvYgaWsMyuZ"
      },
      "source": [
        "### 1) fit() : 추천 알고리즘 학습\n",
        "* SVD(Singular Vector Decomposition)"
      ]
    },
    {
      "cell_type": "code",
      "metadata": {
        "colab": {
          "base_uri": "https://localhost:8080/"
        },
        "id": "oNNcjfeaMuN3",
        "outputId": "a741d56a-a9b8-4ce1-c669-f59a72e5b4c8"
      },
      "source": [
        "from surprise import SVD \n",
        "\n",
        "algo = SVD()\n",
        "algo.fit(trainset)"
      ],
      "execution_count": 9,
      "outputs": [
        {
          "output_type": "execute_result",
          "data": {
            "text/plain": [
              "<surprise.prediction_algorithms.matrix_factorization.SVD at 0x7f7951daf450>"
            ]
          },
          "metadata": {
            "tags": []
          },
          "execution_count": 9
        }
      ]
    },
    {
      "cell_type": "markdown",
      "metadata": {
        "id": "0GRrRzGFNAI1"
      },
      "source": [
        "### 2) test( )\n",
        "* 사용자-아이템 평점 데이터 세트 전체에 대한 추천을 예측 \n",
        "  * uid : 사용자 아이디 \n",
        "  * iid : 영화(아이템) 아이디 \n",
        "  * r_ui : 실제 평점\n",
        "  * est : Suprise 추천 예측 평점 \n",
        "  * details : 처리 결과 로그(True-예측값 생성할 수 없는 데이터)"
      ]
    },
    {
      "cell_type": "code",
      "metadata": {
        "colab": {
          "base_uri": "https://localhost:8080/"
        },
        "id": "Dx8WrlTpM7UO",
        "outputId": "548566df-fdba-4172-ad5d-1bdb9733eba3"
      },
      "source": [
        "predictions = algo.test(testset)\n",
        "\n",
        "print('prediction type :',type(predictions), ' size:',len(predictions)) \n",
        "print('\\n', 'prediction 결과의 최초 5개 추출', '\\n') \n",
        "predictions[:5]"
      ],
      "execution_count": 10,
      "outputs": [
        {
          "output_type": "stream",
          "text": [
            "prediction type : <class 'list'>  size: 30000\n",
            "\n",
            " prediction 결과의 최초 5개 추출 \n",
            "\n"
          ],
          "name": "stdout"
        },
        {
          "output_type": "execute_result",
          "data": {
            "text/plain": [
              "[Prediction(uid='13', iid='531', r_ui=3.0, est=3.2694256681552556, details={'was_impossible': False}),\n",
              " Prediction(uid='567', iid='246', r_ui=4.0, est=3.944752879358439, details={'was_impossible': False}),\n",
              " Prediction(uid='243', iid='1148', r_ui=3.0, est=3.289034348865252, details={'was_impossible': False}),\n",
              " Prediction(uid='346', iid='241', r_ui=4.0, est=3.5344264348599697, details={'was_impossible': False}),\n",
              " Prediction(uid='868', iid='1285', r_ui=2.0, est=2.3507029137921744, details={'was_impossible': False})]"
            ]
          },
          "metadata": {
            "tags": []
          },
          "execution_count": 10
        }
      ]
    },
    {
      "cell_type": "markdown",
      "metadata": {
        "id": "u8d5Q_g-NojL"
      },
      "source": [
        "* 'uid', 'iid', 'est' 값 추출"
      ]
    },
    {
      "cell_type": "code",
      "metadata": {
        "colab": {
          "base_uri": "https://localhost:8080/"
        },
        "id": "heX2GtWINQyi",
        "outputId": "fe686d9c-79dd-4711-e324-331282455be5"
      },
      "source": [
        "[(pred.uid, pred.iid, pred.est) for pred in predictions[:3]]"
      ],
      "execution_count": 12,
      "outputs": [
        {
          "output_type": "execute_result",
          "data": {
            "text/plain": [
              "[('13', '531', 3.2694256681552556),\n",
              " ('567', '246', 3.944752879358439),\n",
              " ('243', '1148', 3.289034348865252)]"
            ]
          },
          "metadata": {
            "tags": []
          },
          "execution_count": 12
        }
      ]
    },
    {
      "cell_type": "markdown",
      "metadata": {
        "id": "nTYfPJDiNzEO"
      },
      "source": [
        "### 3) predict( )\n",
        "* 개별 사용자의 아이템에 대한 추천 평점 예측 \n",
        "  * 'uid', 'iid'는 문자열로 입력 \n",
        "  * 'r_ui' : 기존 평점 정보는 선택 사항\n",
        "* test( )는 모든 사용자와 아이템에 대해서 predict( )를 반복적으로 수행한 결과"
      ]
    },
    {
      "cell_type": "code",
      "metadata": {
        "colab": {
          "base_uri": "https://localhost:8080/"
        },
        "id": "jZ2dT0caNqkF",
        "outputId": "09ca927b-d43f-449f-9efd-93c52cf89e22"
      },
      "source": [
        "uid = str(196) \n",
        "iid = str(302)\n",
        "\n",
        "pred = algo.predict(uid, iid) \n",
        "print(pred)"
      ],
      "execution_count": 13,
      "outputs": [
        {
          "output_type": "stream",
          "text": [
            "user: 196        item: 302        r_ui = None   est = 3.96   {'was_impossible': False}\n"
          ],
          "name": "stdout"
        }
      ]
    },
    {
      "cell_type": "markdown",
      "metadata": {
        "id": "DdFUudN3OKix"
      },
      "source": [
        "### 4) rmse( )\n",
        "* 예측 평점과 실제 평점과의 오차 평가"
      ]
    },
    {
      "cell_type": "code",
      "metadata": {
        "colab": {
          "base_uri": "https://localhost:8080/"
        },
        "id": "m3yDuZkVN-aG",
        "outputId": "c298df43-e277-4963-b306-73fb78090a6c"
      },
      "source": [
        "from surprise import accuracy \n",
        "\n",
        "accuracy.rmse(predictions)"
      ],
      "execution_count": 14,
      "outputs": [
        {
          "output_type": "stream",
          "text": [
            "RMSE: 0.9382\n"
          ],
          "name": "stdout"
        },
        {
          "output_type": "execute_result",
          "data": {
            "text/plain": [
              "0.9382321956179803"
            ]
          },
          "metadata": {
            "tags": []
          },
          "execution_count": 14
        }
      ]
    },
    {
      "cell_type": "markdown",
      "metadata": {
        "id": "wtdNrHIjOoJ1"
      },
      "source": [
        "## 4.Data Preprocessing"
      ]
    },
    {
      "cell_type": "markdown",
      "metadata": {
        "id": "lsy07H_0OrGt"
      },
      "source": [
        "### 1) user_id(사용자), item_id(아이템), rating(평점)\n",
        "* 컬럼 Header 제거 필요"
      ]
    },
    {
      "cell_type": "code",
      "metadata": {
        "colab": {
          "base_uri": "https://localhost:8080/",
          "height": 194
        },
        "id": "6X0UJXBBOPgF",
        "outputId": "8d142324-0c68-4758-db0a-2d9b156358f6"
      },
      "source": [
        "import pandas as pd\n",
        "\n",
        "rurl = 'https://raw.githubusercontent.com/rusita-ai/pyData/master/ratings.csv' \n",
        "ratings = pd.read_csv(rurl) \n",
        "\n",
        "ratings.head()"
      ],
      "execution_count": 15,
      "outputs": [
        {
          "output_type": "execute_result",
          "data": {
            "text/html": [
              "<div>\n",
              "<style scoped>\n",
              "    .dataframe tbody tr th:only-of-type {\n",
              "        vertical-align: middle;\n",
              "    }\n",
              "\n",
              "    .dataframe tbody tr th {\n",
              "        vertical-align: top;\n",
              "    }\n",
              "\n",
              "    .dataframe thead th {\n",
              "        text-align: right;\n",
              "    }\n",
              "</style>\n",
              "<table border=\"1\" class=\"dataframe\">\n",
              "  <thead>\n",
              "    <tr style=\"text-align: right;\">\n",
              "      <th></th>\n",
              "      <th>userId</th>\n",
              "      <th>movieId</th>\n",
              "      <th>rating</th>\n",
              "      <th>timestamp</th>\n",
              "    </tr>\n",
              "  </thead>\n",
              "  <tbody>\n",
              "    <tr>\n",
              "      <th>0</th>\n",
              "      <td>1</td>\n",
              "      <td>1</td>\n",
              "      <td>4.0</td>\n",
              "      <td>964982703</td>\n",
              "    </tr>\n",
              "    <tr>\n",
              "      <th>1</th>\n",
              "      <td>1</td>\n",
              "      <td>3</td>\n",
              "      <td>4.0</td>\n",
              "      <td>964981247</td>\n",
              "    </tr>\n",
              "    <tr>\n",
              "      <th>2</th>\n",
              "      <td>1</td>\n",
              "      <td>6</td>\n",
              "      <td>4.0</td>\n",
              "      <td>964982224</td>\n",
              "    </tr>\n",
              "    <tr>\n",
              "      <th>3</th>\n",
              "      <td>1</td>\n",
              "      <td>47</td>\n",
              "      <td>5.0</td>\n",
              "      <td>964983815</td>\n",
              "    </tr>\n",
              "    <tr>\n",
              "      <th>4</th>\n",
              "      <td>1</td>\n",
              "      <td>50</td>\n",
              "      <td>5.0</td>\n",
              "      <td>964982931</td>\n",
              "    </tr>\n",
              "  </tbody>\n",
              "</table>\n",
              "</div>"
            ],
            "text/plain": [
              "   userId  movieId  rating  timestamp\n",
              "0       1        1     4.0  964982703\n",
              "1       1        3     4.0  964981247\n",
              "2       1        6     4.0  964982224\n",
              "3       1       47     5.0  964983815\n",
              "4       1       50     5.0  964982931"
            ]
          },
          "metadata": {
            "tags": []
          },
          "execution_count": 15
        }
      ]
    },
    {
      "cell_type": "markdown",
      "metadata": {
        "id": "8ZgXyWvOOzQJ"
      },
      "source": [
        "### 2) index 와 header제거된 파일 생성"
      ]
    },
    {
      "cell_type": "code",
      "metadata": {
        "id": "RoETuYSDO1Pn"
      },
      "source": [
        "ratings.to_csv('ratings_noh.csv', \n",
        "               index = False, \n",
        "               header = False)"
      ],
      "execution_count": 16,
      "outputs": []
    },
    {
      "cell_type": "markdown",
      "metadata": {
        "id": "lXdwbTzJO5Un"
      },
      "source": [
        "### 3) Suprise - Reader( )\n",
        "* line_format : 컬럼의 순서 나열 \n",
        "* sep : 컬럼 구분자 \n",
        "* rating_scale : 평점 단위를 0.5(최소) ~ 5(최대)로 설정"
      ]
    },
    {
      "cell_type": "code",
      "metadata": {
        "id": "GcfXz0M5O3hg"
      },
      "source": [
        "from surprise import Reader\n",
        "\n",
        "reader = Reader(line_format = 'user item rating timestamp', \n",
        "                sep = ',',\n",
        "                rating_scale = (0.5, 5))\n",
        "\n",
        "data = Dataset.load_from_file('ratings_noh.csv', \n",
        "                              reader = reader)"
      ],
      "execution_count": 17,
      "outputs": []
    },
    {
      "cell_type": "markdown",
      "metadata": {
        "id": "YkshDIOrPMek"
      },
      "source": [
        "### 4) SDV 테스트\n",
        "* n_factors : 잠재 요인(K) 크기 Hyperparameter"
      ]
    },
    {
      "cell_type": "code",
      "metadata": {
        "colab": {
          "base_uri": "https://localhost:8080/"
        },
        "id": "GCcRHej7PFnJ",
        "outputId": "2fde7a1f-d81a-49d4-8674-9907386bf10e"
      },
      "source": [
        "trainset, testset = train_test_split(data,\n",
        "                                     test_size = .3, \n",
        "                                     random_state = 2045)\n",
        "\n",
        "algo = SVD(n_factors = 50, \n",
        "           random_state = 2045)\n",
        "algo.fit(trainset)\n",
        "\n",
        "predictions = algo.test(testset) \n",
        "\n",
        "accuracy.rmse(predictions)"
      ],
      "execution_count": 18,
      "outputs": [
        {
          "output_type": "stream",
          "text": [
            "RMSE: 0.8711\n"
          ],
          "name": "stdout"
        },
        {
          "output_type": "execute_result",
          "data": {
            "text/plain": [
              "0.871106664601276"
            ]
          },
          "metadata": {
            "tags": []
          },
          "execution_count": 18
        }
      ]
    },
    {
      "cell_type": "markdown",
      "metadata": {
        "id": "wUDS0Yp0PkL9"
      },
      "source": [
        "## 5.pandas DataFrame\n",
        "* 판다스 DataFrame에서 데이터 로딩 \n",
        "  * Dataset.load_from_df( )"
      ]
    },
    {
      "cell_type": "code",
      "metadata": {
        "colab": {
          "base_uri": "https://localhost:8080/"
        },
        "id": "Dfi-knK1PWmo",
        "outputId": "2389c930-a0f3-4c07-d0e0-5e3850c316b8"
      },
      "source": [
        "from surprise import Reader, Dataset\n",
        "\n",
        "ratings = pd.read_csv(rurl) \n",
        "reader = Reader(rating_scale = (0.5, 5.0))\n",
        "\n",
        "# ratings DataFrame 에서 컬럼은 사용자 아이디, 아이템 아이디, 평점 순서 준수 \n",
        "data = Dataset.load_from_df(ratings[['userId', 'movieId', 'rating']], reader)\n",
        "\n",
        "trainset, testset = train_test_split(data,\n",
        "                                     test_size = .3, \n",
        "                                     random_state = 2045)\n",
        "\n",
        "algo = SVD(n_factors = 50, \n",
        "           random_state = 2045)\n",
        "algo.fit(trainset)\n",
        "\n",
        "predictions = algo.test( testset ) \n",
        "\n",
        "accuracy.rmse(predictions)"
      ],
      "execution_count": 20,
      "outputs": [
        {
          "output_type": "stream",
          "text": [
            "RMSE: 0.8711\n"
          ],
          "name": "stdout"
        },
        {
          "output_type": "execute_result",
          "data": {
            "text/plain": [
              "0.871106664601276"
            ]
          },
          "metadata": {
            "tags": []
          },
          "execution_count": 20
        }
      ]
    },
    {
      "cell_type": "markdown",
      "metadata": {
        "id": "cth75YPNP7vv"
      },
      "source": [
        "## 6.Cross Validation\n",
        "* cross_validate( )"
      ]
    },
    {
      "cell_type": "code",
      "metadata": {
        "colab": {
          "base_uri": "https://localhost:8080/"
        },
        "id": "WqKX8rPCP2yh",
        "outputId": "1acbb566-ea94-4deb-8f07-99e6af3fa50b"
      },
      "source": [
        "from surprise.model_selection import cross_validate \n",
        "\n",
        "ratings = pd.read_csv(rurl) \n",
        "reader = Reader(rating_scale = (0.5, 5.0)) \n",
        "data = Dataset.load_from_df(ratings[['userId', 'movieId', 'rating']], \n",
        "                            reader)\n",
        "\n",
        "algo = SVD(random_state = 2045)\n",
        "\n",
        "cross_validate(algo, data,\n",
        "               measures = ['rmse', 'mae'], \n",
        "               cv = 5, verbose = True)"
      ],
      "execution_count": 21,
      "outputs": [
        {
          "output_type": "stream",
          "text": [
            "Evaluating RMSE, MAE of algorithm SVD on 5 split(s).\n",
            "\n",
            "                  Fold 1  Fold 2  Fold 3  Fold 4  Fold 5  Mean    Std     \n",
            "RMSE (testset)    0.8733  0.8659  0.8739  0.8818  0.8781  0.8746  0.0053  \n",
            "MAE (testset)     0.6690  0.6676  0.6699  0.6798  0.6724  0.6717  0.0043  \n",
            "Fit time          4.68    4.67    4.65    4.65    4.61    4.65    0.02    \n",
            "Test time         0.19    0.26    0.29    0.16    0.27    0.23    0.05    \n"
          ],
          "name": "stdout"
        },
        {
          "output_type": "execute_result",
          "data": {
            "text/plain": [
              "{'fit_time': (4.67571234703064,\n",
              "  4.665410041809082,\n",
              "  4.653373718261719,\n",
              "  4.649456739425659,\n",
              "  4.606334447860718),\n",
              " 'test_mae': array([0.6690326 , 0.6675828 , 0.66993967, 0.67977827, 0.67238071]),\n",
              " 'test_rmse': array([0.87328872, 0.8659012 , 0.87393893, 0.8817761 , 0.87810971]),\n",
              " 'test_time': (0.1930227279663086,\n",
              "  0.2616274356842041,\n",
              "  0.28951382637023926,\n",
              "  0.1601715087890625,\n",
              "  0.2689847946166992)}"
            ]
          },
          "metadata": {
            "tags": []
          },
          "execution_count": 21
        }
      ]
    },
    {
      "cell_type": "markdown",
      "metadata": {
        "id": "MLyFnyzMQMpX"
      },
      "source": [
        "## 7.Hyperparameter Tuning\n",
        "* GridSearchCV( )"
      ]
    },
    {
      "cell_type": "code",
      "metadata": {
        "colab": {
          "base_uri": "https://localhost:8080/"
        },
        "id": "pudKOI2iQIuN",
        "outputId": "f796db5a-eeb9-4ddd-a271-bbfe49da9a1c"
      },
      "source": [
        "%%time \n",
        "\n",
        "from surprise.model_selection import GridSearchCV\n",
        "\n",
        "# 하이퍼파라미터 딕셔너리 형태 지정 \n",
        "# 'n_epochs' : SGD 수행 시 반복 횟수 \n",
        "# 'n_factors' : 잠재 요인(K) 크기 \n",
        "param_grid = {'n_epochs': [20, 40, 60], \n",
        "              'n_factors': [50, 100, 200]}\n",
        "\n",
        "gs = GridSearchCV(SVD,\n",
        "                  param_grid, \n",
        "                  measures = ['rmse', 'mae'], \n",
        "                  cv = 3)\n",
        "gs.fit(data)"
      ],
      "execution_count": 22,
      "outputs": [
        {
          "output_type": "stream",
          "text": [
            "CPU times: user 4min, sys: 585 ms, total: 4min 1s\n",
            "Wall time: 4min 1s\n"
          ],
          "name": "stdout"
        }
      ]
    },
    {
      "cell_type": "markdown",
      "metadata": {
        "id": "3HgPSya5QjhH"
      },
      "source": [
        "* 결과 확인"
      ]
    },
    {
      "cell_type": "code",
      "metadata": {
        "colab": {
          "base_uri": "https://localhost:8080/"
        },
        "id": "S78nc7AkQfJw",
        "outputId": "f2f6a440-e0c3-463e-8f58-5adb16b7800b"
      },
      "source": [
        "# 최저 RMSE 점수 \n",
        "print(gs.best_score['rmse'])\n",
        "\n",
        "# 최적 하이퍼파라미터 조합 \n",
        "print(gs.best_params['rmse'])"
      ],
      "execution_count": 24,
      "outputs": [
        {
          "output_type": "stream",
          "text": [
            "0.8780853146466359\n",
            "{'n_epochs': 20, 'n_factors': 50}\n"
          ],
          "name": "stdout"
        }
      ]
    },
    {
      "cell_type": "markdown",
      "metadata": {
        "id": "xAzhjiQoQo33"
      },
      "source": [
        "## 8. 개인화 영화 추천"
      ]
    },
    {
      "cell_type": "markdown",
      "metadata": {
        "id": "1wev5fp-Qqyo"
      },
      "source": [
        "### 1) Train Dataset\n",
        "* ''ratings_noh.csv'"
      ]
    },
    {
      "cell_type": "code",
      "metadata": {
        "id": "GdQe9evDQw32"
      },
      "source": [
        "from surprise import Reader \n",
        "from surprise.dataset import DatasetAutoFolds\n",
        "\n",
        "reader = Reader(line_format = 'user item rating timestamp', \n",
        "                sep = ',',\n",
        "                rating_scale = (0.5, 5))\n",
        "\n",
        "# 'ratings_noh.csv' 파일로 DatasetAutoFolds 클래스 생성 \n",
        "data_folds = DatasetAutoFolds(ratings_file = 'ratings_noh.csv', reader = reader)\n",
        "\n",
        "# 전체 데이터를 학습데이터로 생성 \n",
        "trainset = data_folds.build_full_trainset()"
      ],
      "execution_count": 25,
      "outputs": []
    },
    {
      "cell_type": "markdown",
      "metadata": {
        "id": "eAn-m1IrQ66y"
      },
      "source": [
        "### 2) 영화 정보 확인 \n",
        "* 사용자가 아직 평점을 매기지 않은 영화\n",
        "  * 'userId' == 9 \n",
        "  * 'movieId' == 42"
      ]
    },
    {
      "cell_type": "code",
      "metadata": {
        "colab": {
          "base_uri": "https://localhost:8080/"
        },
        "id": "Bt1y4nTeRAC0",
        "outputId": "b9b93bf2-0654-4147-d098-f6e57bcfd67f"
      },
      "source": [
        "murl = 'https://raw.githubusercontent.com/rusita-ai/pyData/master/movies.csv' \n",
        "movies = pd.read_csv(murl)\n",
        "\n",
        "# userId = 9 의 movieId 데이터 추출 \n",
        "# movieId = 42 데이터 확인 \n",
        "movieIds = ratings[ratings['userId'] == 9]['movieId']\n",
        "\n",
        "if movieIds[movieIds == 42].count() == 0: \n",
        "  print('사용자 아이디 9는 영화 아이디 42의 평점 없음', '\\n')\n",
        "\n",
        "print(movies[movies['movieId'] == 42])"
      ],
      "execution_count": 26,
      "outputs": [
        {
          "output_type": "stream",
          "text": [
            "사용자 아이디 9는 영화 아이디 42의 평점 없음 \n",
            "\n",
            "    movieId                   title              genres\n",
            "38       42  Dead Presidents (1995)  Action|Crime|Drama\n"
          ],
          "name": "stdout"
        }
      ]
    },
    {
      "cell_type": "markdown",
      "metadata": {
        "id": "KWwEvxT2RIPe"
      },
      "source": [
        "### 3) SVD - fit()\n",
        "* 추천 알고리즘 학습"
      ]
    },
    {
      "cell_type": "code",
      "metadata": {
        "colab": {
          "base_uri": "https://localhost:8080/"
        },
        "id": "vpIyc5tkROSi",
        "outputId": "21022776-bf08-43f7-92a6-a8f9859549c2"
      },
      "source": [
        "algo = SVD(n_epochs = 20, \n",
        "           n_factors = 50, \n",
        "           random_state = 2045)\n",
        "algo.fit(trainset)"
      ],
      "execution_count": 27,
      "outputs": [
        {
          "output_type": "execute_result",
          "data": {
            "text/plain": [
              "<surprise.prediction_algorithms.matrix_factorization.SVD at 0x7f795045f0d0>"
            ]
          },
          "metadata": {
            "tags": []
          },
          "execution_count": 27
        }
      ]
    },
    {
      "cell_type": "markdown",
      "metadata": {
        "id": "Ysq9qU5FRRZp"
      },
      "source": [
        "### 4) SVD - predict( )\n",
        "* 개별 사용자의 아이템에 대한 추천 평점 예측(est = 2.96) \n",
        "  * 'uid', 'iid'는 문자열로 입력 \n",
        "  * 'r_ui' : 기존 평점 정보는 선택 사항"
      ]
    },
    {
      "cell_type": "code",
      "metadata": {
        "colab": {
          "base_uri": "https://localhost:8080/"
        },
        "id": "bc5KYRmiRXz3",
        "outputId": "c0552f1a-464a-4c7b-dd9d-59d3b8bf2a80"
      },
      "source": [
        "uid = str(9) \n",
        "iid = str(42)\n",
        "\n",
        "pred = algo.predict(uid, iid, verbose = True)"
      ],
      "execution_count": 28,
      "outputs": [
        {
          "output_type": "stream",
          "text": [
            "user: 9          item: 42         r_ui = None   est = 2.96   {'was_impossible': False}\n"
          ],
          "name": "stdout"
        }
      ]
    },
    {
      "cell_type": "markdown",
      "metadata": {
        "id": "2iBiWAz6RaeZ"
      },
      "source": [
        "### 5) get_unseen_surprise( )\n",
        "* 사용자가 평점을 주지 않은 영화 목록을 반환 \n",
        "  * 사용자가 이미 평점을 준 영화 목록을 제거"
      ]
    },
    {
      "cell_type": "code",
      "metadata": {
        "colab": {
          "base_uri": "https://localhost:8080/"
        },
        "id": "JlVGXuM-Rf_9",
        "outputId": "5bf8a626-9c76-4ee0-f0f8-de9b8115d73e"
      },
      "source": [
        "def get_unseen_surprise(ratings, movies, userId): \n",
        "  # 'userId' 사용자가 평점을 매긴 모든 영화 리스트 생성 \n",
        "  seen_movies = ratings[ratings['userId'] == userId]['movieId'].tolist()\n",
        "\n",
        "  # 모든 영화 movieId 리스트 생성 \n",
        "  total_movies = movies['movieId'].tolist()\n",
        "\n",
        "  # 모든 영화 movieId 중 이미 평점을 매긴 영화의 movieId를 제외하고 리스트 생성 \n",
        "  unseen_movies = [movie for movie in total_movies if movie not in seen_movies]\n",
        "\n",
        "  print(' 평점 매긴 영화수 :' , len(seen_movies), '\\n', '추천대상 영화수 :', len(unseen_movies), '\\n', '전체 영화수:',len(total_movies))\n",
        "\n",
        "  return unseen_movies \n",
        "\n",
        "unseen_movies = get_unseen_surprise(ratings, movies, 9)"
      ],
      "execution_count": 30,
      "outputs": [
        {
          "output_type": "stream",
          "text": [
            " 평점 매긴 영화수 : 46 \n",
            " 추천대상 영화수 : 9696 \n",
            " 전체 영화수: 9742\n"
          ],
          "name": "stdout"
        }
      ]
    },
    {
      "cell_type": "markdown",
      "metadata": {
        "id": "pX5q0b6zR8l2"
      },
      "source": [
        "### 6) recomm_movie_by_surprise( )\n",
        "* 최종적으로 사용자에게 영화를 추천 \n",
        "  * top-10"
      ]
    },
    {
      "cell_type": "code",
      "metadata": {
        "id": "kfoduN-3RuOM"
      },
      "source": [
        "def recomm_movie_by_surprise(algo, userId, unseen_movies, top_n = 10):\n",
        "  # predict() 를 평점이 없는 영화에 반복 수행한 후 결과를 List 객체로 저장 \n",
        "  predictions = [algo.predict(str(userId), str(movieId)) for movieId in unseen_movies]\n",
        "  \n",
        "  # predictions List 객체는 surprise의 Predictions 객체를 원소로 가지고 있음 \n",
        "  # [Prediction(uid='9', iid='1', est=3.69), Prediction(uid='9', iid='2', est=2.98)] \n",
        "  # 'est' 값으로 정렬하기 위해서 sortkey_est( ) 함수 정의 \n",
        "  # sortkey_est( ) 함수는 List 객체의 sort( ) 함수의 키 값으로정렬 수행 \n",
        "  def sortkey_est(pred): \n",
        "    return pred.est\n",
        "\n",
        "  # sortkey_est( ) 반환값의 내림 차순으로 정렬하고 top_N개의 최상위 값 추출 \n",
        "  predictions.sort(key = sortkey_est, reverse = True) \n",
        "  top_predictions = predictions[:top_n]\n",
        "\n",
        "  # top_N으로 추출된 영화의 정보 추출\n",
        "  # 영화 아이디, 추천 예상 평점, 영화 제목 \n",
        "  top_movie_ids = [int(pred.iid) for pred in top_predictions] \n",
        "  top_movie_rating = [pred.est for pred in top_predictions] \n",
        "  top_movie_titles = movies[movies.movieId.isin(top_movie_ids)]['title'] \n",
        "  top_movie_preds = [(id, title, rating) for id, title, rating in zip(top_movie_ids, top_movie_titles, top_movie_rating)]\n",
        "  \n",
        "  return top_movie_preds"
      ],
      "execution_count": 31,
      "outputs": []
    },
    {
      "cell_type": "markdown",
      "metadata": {
        "id": "ucRUdNx7SgPq"
      },
      "source": [
        "### 7) 최종 추천 결과"
      ]
    },
    {
      "cell_type": "code",
      "metadata": {
        "colab": {
          "base_uri": "https://localhost:8080/"
        },
        "id": "G62gLyPuSeR2",
        "outputId": "c1152b90-d0ce-427b-dda3-498dc68a7405"
      },
      "source": [
        "top_movie_preds = recomm_movie_by_surprise(algo, \n",
        "                                           9,\n",
        "                                           unseen_movies, \n",
        "                                           top_n = 10)\n",
        "\n",
        "print('##### top-10 추천 영화 리스트 #####', '\\n') \n",
        "\n",
        "for top_movie in top_movie_preds: \n",
        "  print(top_movie[1], ':', top_movie[2])"
      ],
      "execution_count": 32,
      "outputs": [
        {
          "output_type": "stream",
          "text": [
            "##### top-10 추천 영화 리스트 ##### \n",
            "\n",
            "Pulp Fiction (1994) : 4.292320110925793\n",
            "Shawshank Redemption, The (1994) : 4.280575006684376\n",
            "Schindler's List (1993) : 4.223054673027752\n",
            "Dr. Strangelove or: How I Learned to Stop Worrying and Love the Bomb (1964) : 4.191859292988541\n",
            "Godfather, The (1972) : 4.191330334239697\n",
            "Rear Window (1954) : 4.175787864055172\n",
            "Monty Python and the Holy Grail (1975) : 4.167985211593734\n",
            "Lawrence of Arabia (1962) : 4.139061529698701\n",
            "Goodfellas (1990) : 4.133207055423318\n",
            "Fight Club (1999) : 4.131297142412626\n"
          ],
          "name": "stdout"
        }
      ]
    },
    {
      "cell_type": "markdown",
      "metadata": {
        "id": "TTK51DN6Sw99"
      },
      "source": [
        "본 내용은 2021/04/01(목)에 학습한 내용입니다."
      ]
    }
  ]
}
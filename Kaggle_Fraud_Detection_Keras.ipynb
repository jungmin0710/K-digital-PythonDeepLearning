{
  "nbformat": 4,
  "nbformat_minor": 0,
  "metadata": {
    "colab": {
      "name": "Kaggle_Fraud_Detection_Keras.ipynb",
      "provenance": [],
      "collapsed_sections": [],
      "authorship_tag": "ABX9TyPPOSC0HoP/yDL8vNMkLeZW",
      "include_colab_link": true
    },
    "kernelspec": {
      "name": "python3",
      "display_name": "Python 3"
    }
  },
  "cells": [
    {
      "cell_type": "markdown",
      "metadata": {
        "id": "view-in-github",
        "colab_type": "text"
      },
      "source": [
        "<a href=\"https://colab.research.google.com/github/jungmin0710/K-digital-PythonDeepLearning/blob/main/Kaggle_Fraud_Detection_Keras.ipynb\" target=\"_parent\"><img src=\"https://colab.research.google.com/assets/colab-badge.svg\" alt=\"Open In Colab\"/></a>"
      ]
    },
    {
      "cell_type": "markdown",
      "metadata": {
        "id": "_VTBX9HFhVG8"
      },
      "source": [
        "\r\n",
        "# Kaggle 신용카드 사기 검출(Google Drive Mount)\r\n",
        "https://www.kaggle.com/mlg-ulb/creditcardfraud\r\n",
        "\r\n",
        "#### Credit Card Fraud Detection\r\n",
        "* creditcard.csv(284,807 * 31)\r\n",
        "* Class : 0(정상), 1(사기)\r\n",
        "* 사기 검출(Fraud Detection), 이상 탐지(Anomaly Detection)\r\n"
      ]
    },
    {
      "cell_type": "code",
      "metadata": {
        "id": "dS0hauqgg8GH"
      },
      "source": [
        "import warnings\r\n",
        "warnings.filterwarnings('ignore')"
      ],
      "execution_count": 1,
      "outputs": []
    },
    {
      "cell_type": "code",
      "metadata": {
        "id": "Qzy1CvKOheCY"
      },
      "source": [
        "import numpy as np\r\n",
        "import pandas as pd\r\n",
        "import matplotlib.pyplot as plt\r\n",
        "import seaborn as sns\r\n",
        "from sklearn.model_selection import train_test_split\r\n",
        "import tensorflow as tf\r\n",
        "from tensorflow.keras import models\r\n",
        "from tensorflow.keras import layers\r\n",
        "from sklearn.metrics import confusion_matrix, classification_report"
      ],
      "execution_count": 39,
      "outputs": []
    },
    {
      "cell_type": "markdown",
      "metadata": {
        "id": "LYRPKqk8hk0y"
      },
      "source": [
        "## 1.Google Drive Mount"
      ]
    },
    {
      "cell_type": "code",
      "metadata": {
        "colab": {
          "base_uri": "https://localhost:8080/"
        },
        "id": "-yugRzCchkLI",
        "outputId": "d6357a57-d8e6-419b-f566-7cf61857e358"
      },
      "source": [
        "from google.colab import drive\r\n",
        "\r\n",
        "drive.mount('/content/drive')"
      ],
      "execution_count": 3,
      "outputs": [
        {
          "output_type": "stream",
          "text": [
            "Mounted at /content/drive\n"
          ],
          "name": "stdout"
        }
      ]
    },
    {
      "cell_type": "code",
      "metadata": {
        "colab": {
          "base_uri": "https://localhost:8080/"
        },
        "id": "pYkFQ9LIho6B",
        "outputId": "90dbe7e0-ac14-4738-c07e-90c313f80134"
      },
      "source": [
        "!ls -l '/content/drive/My Drive/Colab Notebooks/datasets/creditCardFraud.zip'"
      ],
      "execution_count": 4,
      "outputs": [
        {
          "output_type": "stream",
          "text": [
            "-rw------- 1 root root 69155672 Mar  4 04:46 '/content/drive/My Drive/Colab Notebooks/datasets/creditCardFraud.zip'\n"
          ],
          "name": "stdout"
        }
      ]
    },
    {
      "cell_type": "markdown",
      "metadata": {
        "id": "Zje02hrnhzIx"
      },
      "source": [
        "## 2.Data Preprocessing"
      ]
    },
    {
      "cell_type": "code",
      "metadata": {
        "colab": {
          "base_uri": "https://localhost:8080/"
        },
        "id": "iRnGzC86hyR7",
        "outputId": "d4149b49-d583-49cc-e009-e8b8ab49b05c"
      },
      "source": [
        "!unzip /content/drive/My\\ Drive/Colab\\ Notebooks/datasets/creditCardFraud.zip"
      ],
      "execution_count": 5,
      "outputs": [
        {
          "output_type": "stream",
          "text": [
            "Archive:  /content/drive/My Drive/Colab Notebooks/datasets/creditCardFraud.zip\n",
            "  inflating: creditcard.csv          \n"
          ],
          "name": "stdout"
        }
      ]
    },
    {
      "cell_type": "code",
      "metadata": {
        "colab": {
          "base_uri": "https://localhost:8080/"
        },
        "id": "pfwWAhpEh25I",
        "outputId": "61490739-7b75-4873-f8f7-2fa6c9d4b3fa"
      },
      "source": [
        "!ls -l"
      ],
      "execution_count": 6,
      "outputs": [
        {
          "output_type": "stream",
          "text": [
            "total 147304\n",
            "-rw-r--r-- 1 root root 150828752 Sep 20  2019 creditcard.csv\n",
            "drwx------ 5 root root      4096 Mar 18 04:10 drive\n",
            "drwxr-xr-x 1 root root      4096 Mar  5 14:37 sample_data\n"
          ],
          "name": "stdout"
        }
      ]
    },
    {
      "cell_type": "code",
      "metadata": {
        "colab": {
          "base_uri": "https://localhost:8080/"
        },
        "id": "zG5tpAWmh4y8",
        "outputId": "1ad4b98a-bafa-42bd-8f4b-60356930cf5e"
      },
      "source": [
        "%%time\r\n",
        "\r\n",
        "DF = pd.read_csv('creditcard.csv')\r\n",
        "\r\n",
        "DF.info()"
      ],
      "execution_count": 7,
      "outputs": [
        {
          "output_type": "stream",
          "text": [
            "<class 'pandas.core.frame.DataFrame'>\n",
            "RangeIndex: 284807 entries, 0 to 284806\n",
            "Data columns (total 31 columns):\n",
            " #   Column  Non-Null Count   Dtype  \n",
            "---  ------  --------------   -----  \n",
            " 0   Time    284807 non-null  float64\n",
            " 1   V1      284807 non-null  float64\n",
            " 2   V2      284807 non-null  float64\n",
            " 3   V3      284807 non-null  float64\n",
            " 4   V4      284807 non-null  float64\n",
            " 5   V5      284807 non-null  float64\n",
            " 6   V6      284807 non-null  float64\n",
            " 7   V7      284807 non-null  float64\n",
            " 8   V8      284807 non-null  float64\n",
            " 9   V9      284807 non-null  float64\n",
            " 10  V10     284807 non-null  float64\n",
            " 11  V11     284807 non-null  float64\n",
            " 12  V12     284807 non-null  float64\n",
            " 13  V13     284807 non-null  float64\n",
            " 14  V14     284807 non-null  float64\n",
            " 15  V15     284807 non-null  float64\n",
            " 16  V16     284807 non-null  float64\n",
            " 17  V17     284807 non-null  float64\n",
            " 18  V18     284807 non-null  float64\n",
            " 19  V19     284807 non-null  float64\n",
            " 20  V20     284807 non-null  float64\n",
            " 21  V21     284807 non-null  float64\n",
            " 22  V22     284807 non-null  float64\n",
            " 23  V23     284807 non-null  float64\n",
            " 24  V24     284807 non-null  float64\n",
            " 25  V25     284807 non-null  float64\n",
            " 26  V26     284807 non-null  float64\n",
            " 27  V27     284807 non-null  float64\n",
            " 28  V28     284807 non-null  float64\n",
            " 29  Amount  284807 non-null  float64\n",
            " 30  Class   284807 non-null  int64  \n",
            "dtypes: float64(30), int64(1)\n",
            "memory usage: 67.4 MB\n",
            "CPU times: user 2.1 s, sys: 54.4 ms, total: 2.15 s\n",
            "Wall time: 2.19 s\n"
          ],
          "name": "stdout"
        }
      ]
    },
    {
      "cell_type": "code",
      "metadata": {
        "colab": {
          "base_uri": "https://localhost:8080/",
          "height": 214
        },
        "id": "HgdLRSzah73D",
        "outputId": "831aa188-9f4d-4559-d560-22238490cff1"
      },
      "source": [
        "DF.head()"
      ],
      "execution_count": 8,
      "outputs": [
        {
          "output_type": "execute_result",
          "data": {
            "text/html": [
              "<div>\n",
              "<style scoped>\n",
              "    .dataframe tbody tr th:only-of-type {\n",
              "        vertical-align: middle;\n",
              "    }\n",
              "\n",
              "    .dataframe tbody tr th {\n",
              "        vertical-align: top;\n",
              "    }\n",
              "\n",
              "    .dataframe thead th {\n",
              "        text-align: right;\n",
              "    }\n",
              "</style>\n",
              "<table border=\"1\" class=\"dataframe\">\n",
              "  <thead>\n",
              "    <tr style=\"text-align: right;\">\n",
              "      <th></th>\n",
              "      <th>Time</th>\n",
              "      <th>V1</th>\n",
              "      <th>V2</th>\n",
              "      <th>V3</th>\n",
              "      <th>V4</th>\n",
              "      <th>V5</th>\n",
              "      <th>V6</th>\n",
              "      <th>V7</th>\n",
              "      <th>V8</th>\n",
              "      <th>V9</th>\n",
              "      <th>V10</th>\n",
              "      <th>V11</th>\n",
              "      <th>V12</th>\n",
              "      <th>V13</th>\n",
              "      <th>V14</th>\n",
              "      <th>V15</th>\n",
              "      <th>V16</th>\n",
              "      <th>V17</th>\n",
              "      <th>V18</th>\n",
              "      <th>V19</th>\n",
              "      <th>V20</th>\n",
              "      <th>V21</th>\n",
              "      <th>V22</th>\n",
              "      <th>V23</th>\n",
              "      <th>V24</th>\n",
              "      <th>V25</th>\n",
              "      <th>V26</th>\n",
              "      <th>V27</th>\n",
              "      <th>V28</th>\n",
              "      <th>Amount</th>\n",
              "      <th>Class</th>\n",
              "    </tr>\n",
              "  </thead>\n",
              "  <tbody>\n",
              "    <tr>\n",
              "      <th>0</th>\n",
              "      <td>0.0</td>\n",
              "      <td>-1.359807</td>\n",
              "      <td>-0.072781</td>\n",
              "      <td>2.536347</td>\n",
              "      <td>1.378155</td>\n",
              "      <td>-0.338321</td>\n",
              "      <td>0.462388</td>\n",
              "      <td>0.239599</td>\n",
              "      <td>0.098698</td>\n",
              "      <td>0.363787</td>\n",
              "      <td>0.090794</td>\n",
              "      <td>-0.551600</td>\n",
              "      <td>-0.617801</td>\n",
              "      <td>-0.991390</td>\n",
              "      <td>-0.311169</td>\n",
              "      <td>1.468177</td>\n",
              "      <td>-0.470401</td>\n",
              "      <td>0.207971</td>\n",
              "      <td>0.025791</td>\n",
              "      <td>0.403993</td>\n",
              "      <td>0.251412</td>\n",
              "      <td>-0.018307</td>\n",
              "      <td>0.277838</td>\n",
              "      <td>-0.110474</td>\n",
              "      <td>0.066928</td>\n",
              "      <td>0.128539</td>\n",
              "      <td>-0.189115</td>\n",
              "      <td>0.133558</td>\n",
              "      <td>-0.021053</td>\n",
              "      <td>149.62</td>\n",
              "      <td>0</td>\n",
              "    </tr>\n",
              "    <tr>\n",
              "      <th>1</th>\n",
              "      <td>0.0</td>\n",
              "      <td>1.191857</td>\n",
              "      <td>0.266151</td>\n",
              "      <td>0.166480</td>\n",
              "      <td>0.448154</td>\n",
              "      <td>0.060018</td>\n",
              "      <td>-0.082361</td>\n",
              "      <td>-0.078803</td>\n",
              "      <td>0.085102</td>\n",
              "      <td>-0.255425</td>\n",
              "      <td>-0.166974</td>\n",
              "      <td>1.612727</td>\n",
              "      <td>1.065235</td>\n",
              "      <td>0.489095</td>\n",
              "      <td>-0.143772</td>\n",
              "      <td>0.635558</td>\n",
              "      <td>0.463917</td>\n",
              "      <td>-0.114805</td>\n",
              "      <td>-0.183361</td>\n",
              "      <td>-0.145783</td>\n",
              "      <td>-0.069083</td>\n",
              "      <td>-0.225775</td>\n",
              "      <td>-0.638672</td>\n",
              "      <td>0.101288</td>\n",
              "      <td>-0.339846</td>\n",
              "      <td>0.167170</td>\n",
              "      <td>0.125895</td>\n",
              "      <td>-0.008983</td>\n",
              "      <td>0.014724</td>\n",
              "      <td>2.69</td>\n",
              "      <td>0</td>\n",
              "    </tr>\n",
              "    <tr>\n",
              "      <th>2</th>\n",
              "      <td>1.0</td>\n",
              "      <td>-1.358354</td>\n",
              "      <td>-1.340163</td>\n",
              "      <td>1.773209</td>\n",
              "      <td>0.379780</td>\n",
              "      <td>-0.503198</td>\n",
              "      <td>1.800499</td>\n",
              "      <td>0.791461</td>\n",
              "      <td>0.247676</td>\n",
              "      <td>-1.514654</td>\n",
              "      <td>0.207643</td>\n",
              "      <td>0.624501</td>\n",
              "      <td>0.066084</td>\n",
              "      <td>0.717293</td>\n",
              "      <td>-0.165946</td>\n",
              "      <td>2.345865</td>\n",
              "      <td>-2.890083</td>\n",
              "      <td>1.109969</td>\n",
              "      <td>-0.121359</td>\n",
              "      <td>-2.261857</td>\n",
              "      <td>0.524980</td>\n",
              "      <td>0.247998</td>\n",
              "      <td>0.771679</td>\n",
              "      <td>0.909412</td>\n",
              "      <td>-0.689281</td>\n",
              "      <td>-0.327642</td>\n",
              "      <td>-0.139097</td>\n",
              "      <td>-0.055353</td>\n",
              "      <td>-0.059752</td>\n",
              "      <td>378.66</td>\n",
              "      <td>0</td>\n",
              "    </tr>\n",
              "    <tr>\n",
              "      <th>3</th>\n",
              "      <td>1.0</td>\n",
              "      <td>-0.966272</td>\n",
              "      <td>-0.185226</td>\n",
              "      <td>1.792993</td>\n",
              "      <td>-0.863291</td>\n",
              "      <td>-0.010309</td>\n",
              "      <td>1.247203</td>\n",
              "      <td>0.237609</td>\n",
              "      <td>0.377436</td>\n",
              "      <td>-1.387024</td>\n",
              "      <td>-0.054952</td>\n",
              "      <td>-0.226487</td>\n",
              "      <td>0.178228</td>\n",
              "      <td>0.507757</td>\n",
              "      <td>-0.287924</td>\n",
              "      <td>-0.631418</td>\n",
              "      <td>-1.059647</td>\n",
              "      <td>-0.684093</td>\n",
              "      <td>1.965775</td>\n",
              "      <td>-1.232622</td>\n",
              "      <td>-0.208038</td>\n",
              "      <td>-0.108300</td>\n",
              "      <td>0.005274</td>\n",
              "      <td>-0.190321</td>\n",
              "      <td>-1.175575</td>\n",
              "      <td>0.647376</td>\n",
              "      <td>-0.221929</td>\n",
              "      <td>0.062723</td>\n",
              "      <td>0.061458</td>\n",
              "      <td>123.50</td>\n",
              "      <td>0</td>\n",
              "    </tr>\n",
              "    <tr>\n",
              "      <th>4</th>\n",
              "      <td>2.0</td>\n",
              "      <td>-1.158233</td>\n",
              "      <td>0.877737</td>\n",
              "      <td>1.548718</td>\n",
              "      <td>0.403034</td>\n",
              "      <td>-0.407193</td>\n",
              "      <td>0.095921</td>\n",
              "      <td>0.592941</td>\n",
              "      <td>-0.270533</td>\n",
              "      <td>0.817739</td>\n",
              "      <td>0.753074</td>\n",
              "      <td>-0.822843</td>\n",
              "      <td>0.538196</td>\n",
              "      <td>1.345852</td>\n",
              "      <td>-1.119670</td>\n",
              "      <td>0.175121</td>\n",
              "      <td>-0.451449</td>\n",
              "      <td>-0.237033</td>\n",
              "      <td>-0.038195</td>\n",
              "      <td>0.803487</td>\n",
              "      <td>0.408542</td>\n",
              "      <td>-0.009431</td>\n",
              "      <td>0.798278</td>\n",
              "      <td>-0.137458</td>\n",
              "      <td>0.141267</td>\n",
              "      <td>-0.206010</td>\n",
              "      <td>0.502292</td>\n",
              "      <td>0.219422</td>\n",
              "      <td>0.215153</td>\n",
              "      <td>69.99</td>\n",
              "      <td>0</td>\n",
              "    </tr>\n",
              "  </tbody>\n",
              "</table>\n",
              "</div>"
            ],
            "text/plain": [
              "   Time        V1        V2        V3  ...       V27       V28  Amount  Class\n",
              "0   0.0 -1.359807 -0.072781  2.536347  ...  0.133558 -0.021053  149.62      0\n",
              "1   0.0  1.191857  0.266151  0.166480  ... -0.008983  0.014724    2.69      0\n",
              "2   1.0 -1.358354 -1.340163  1.773209  ... -0.055353 -0.059752  378.66      0\n",
              "3   1.0 -0.966272 -0.185226  1.792993  ...  0.062723  0.061458  123.50      0\n",
              "4   2.0 -1.158233  0.877737  1.548718  ...  0.219422  0.215153   69.99      0\n",
              "\n",
              "[5 rows x 31 columns]"
            ]
          },
          "metadata": {
            "tags": []
          },
          "execution_count": 8
        }
      ]
    },
    {
      "cell_type": "code",
      "metadata": {
        "colab": {
          "base_uri": "https://localhost:8080/"
        },
        "id": "rvhYParUh-3H",
        "outputId": "50b070c2-792a-4e09-ef6d-5f070361df2e"
      },
      "source": [
        "#0 : 정상, 1 : 사기\r\n",
        "\r\n",
        "DF.Class.value_counts()"
      ],
      "execution_count": 9,
      "outputs": [
        {
          "output_type": "execute_result",
          "data": {
            "text/plain": [
              "0    284315\n",
              "1       492\n",
              "Name: Class, dtype: int64"
            ]
          },
          "metadata": {
            "tags": []
          },
          "execution_count": 9
        }
      ]
    },
    {
      "cell_type": "code",
      "metadata": {
        "colab": {
          "base_uri": "https://localhost:8080/"
        },
        "id": "Y0RF2xN5iC7V",
        "outputId": "b40ec2f9-79dc-488f-fddd-efaf1a6e595b"
      },
      "source": [
        "(DF.Class.value_counts() / DF.shape[0] * 100)"
      ],
      "execution_count": 10,
      "outputs": [
        {
          "output_type": "execute_result",
          "data": {
            "text/plain": [
              "0    99.827251\n",
              "1     0.172749\n",
              "Name: Class, dtype: float64"
            ]
          },
          "metadata": {
            "tags": []
          },
          "execution_count": 10
        }
      ]
    },
    {
      "cell_type": "code",
      "metadata": {
        "colab": {
          "base_uri": "https://localhost:8080/",
          "height": 96
        },
        "id": "xRdtJKAWiFOO",
        "outputId": "06c096ca-a5f8-4208-d700-62cd1cde25a4"
      },
      "source": [
        "#time 열 삭제\r\n",
        "DF.drop('Time', axis = 1, inplace = True)\r\n",
        "\r\n",
        "DF.head(1)"
      ],
      "execution_count": 11,
      "outputs": [
        {
          "output_type": "execute_result",
          "data": {
            "text/html": [
              "<div>\n",
              "<style scoped>\n",
              "    .dataframe tbody tr th:only-of-type {\n",
              "        vertical-align: middle;\n",
              "    }\n",
              "\n",
              "    .dataframe tbody tr th {\n",
              "        vertical-align: top;\n",
              "    }\n",
              "\n",
              "    .dataframe thead th {\n",
              "        text-align: right;\n",
              "    }\n",
              "</style>\n",
              "<table border=\"1\" class=\"dataframe\">\n",
              "  <thead>\n",
              "    <tr style=\"text-align: right;\">\n",
              "      <th></th>\n",
              "      <th>V1</th>\n",
              "      <th>V2</th>\n",
              "      <th>V3</th>\n",
              "      <th>V4</th>\n",
              "      <th>V5</th>\n",
              "      <th>V6</th>\n",
              "      <th>V7</th>\n",
              "      <th>V8</th>\n",
              "      <th>V9</th>\n",
              "      <th>V10</th>\n",
              "      <th>V11</th>\n",
              "      <th>V12</th>\n",
              "      <th>V13</th>\n",
              "      <th>V14</th>\n",
              "      <th>V15</th>\n",
              "      <th>V16</th>\n",
              "      <th>V17</th>\n",
              "      <th>V18</th>\n",
              "      <th>V19</th>\n",
              "      <th>V20</th>\n",
              "      <th>V21</th>\n",
              "      <th>V22</th>\n",
              "      <th>V23</th>\n",
              "      <th>V24</th>\n",
              "      <th>V25</th>\n",
              "      <th>V26</th>\n",
              "      <th>V27</th>\n",
              "      <th>V28</th>\n",
              "      <th>Amount</th>\n",
              "      <th>Class</th>\n",
              "    </tr>\n",
              "  </thead>\n",
              "  <tbody>\n",
              "    <tr>\n",
              "      <th>0</th>\n",
              "      <td>-1.359807</td>\n",
              "      <td>-0.072781</td>\n",
              "      <td>2.536347</td>\n",
              "      <td>1.378155</td>\n",
              "      <td>-0.338321</td>\n",
              "      <td>0.462388</td>\n",
              "      <td>0.239599</td>\n",
              "      <td>0.098698</td>\n",
              "      <td>0.363787</td>\n",
              "      <td>0.090794</td>\n",
              "      <td>-0.5516</td>\n",
              "      <td>-0.617801</td>\n",
              "      <td>-0.99139</td>\n",
              "      <td>-0.311169</td>\n",
              "      <td>1.468177</td>\n",
              "      <td>-0.470401</td>\n",
              "      <td>0.207971</td>\n",
              "      <td>0.025791</td>\n",
              "      <td>0.403993</td>\n",
              "      <td>0.251412</td>\n",
              "      <td>-0.018307</td>\n",
              "      <td>0.277838</td>\n",
              "      <td>-0.110474</td>\n",
              "      <td>0.066928</td>\n",
              "      <td>0.128539</td>\n",
              "      <td>-0.189115</td>\n",
              "      <td>0.133558</td>\n",
              "      <td>-0.021053</td>\n",
              "      <td>149.62</td>\n",
              "      <td>0</td>\n",
              "    </tr>\n",
              "  </tbody>\n",
              "</table>\n",
              "</div>"
            ],
            "text/plain": [
              "         V1        V2        V3        V4  ...       V27       V28  Amount  Class\n",
              "0 -1.359807 -0.072781  2.536347  1.378155  ...  0.133558 -0.021053  149.62      0\n",
              "\n",
              "[1 rows x 30 columns]"
            ]
          },
          "metadata": {
            "tags": []
          },
          "execution_count": 11
        }
      ]
    },
    {
      "cell_type": "code",
      "metadata": {
        "colab": {
          "base_uri": "https://localhost:8080/"
        },
        "id": "0FMQ5C-UiTHn",
        "outputId": "2a8c6de9-bd18-4ee7-9c85-5055bc129978"
      },
      "source": [
        "#데이터프레임 Array형태로 바꾼 후 열 나누기\r\n",
        "AR = DF.values\r\n",
        "\r\n",
        "AR_X = AR[:, 0:29]\r\n",
        "AR_y = AR[:,29]\r\n",
        "\r\n",
        "AR_X.shape, AR_y.shape"
      ],
      "execution_count": 16,
      "outputs": [
        {
          "output_type": "execute_result",
          "data": {
            "text/plain": [
              "((284807, 29), (284807,))"
            ]
          },
          "metadata": {
            "tags": []
          },
          "execution_count": 16
        }
      ]
    },
    {
      "cell_type": "code",
      "metadata": {
        "colab": {
          "base_uri": "https://localhost:8080/"
        },
        "id": "_iqIM7SSiuWR",
        "outputId": "795483d0-afaa-439f-c7cf-c39406fa6037"
      },
      "source": [
        "AR"
      ],
      "execution_count": 17,
      "outputs": [
        {
          "output_type": "execute_result",
          "data": {
            "text/plain": [
              "array([[-1.35980713e+00, -7.27811733e-02,  2.53634674e+00, ...,\n",
              "        -2.10530535e-02,  1.49620000e+02,  0.00000000e+00],\n",
              "       [ 1.19185711e+00,  2.66150712e-01,  1.66480113e-01, ...,\n",
              "         1.47241692e-02,  2.69000000e+00,  0.00000000e+00],\n",
              "       [-1.35835406e+00, -1.34016307e+00,  1.77320934e+00, ...,\n",
              "        -5.97518406e-02,  3.78660000e+02,  0.00000000e+00],\n",
              "       ...,\n",
              "       [ 1.91956501e+00, -3.01253846e-01, -3.24963981e+00, ...,\n",
              "        -2.65608286e-02,  6.78800000e+01,  0.00000000e+00],\n",
              "       [-2.40440050e-01,  5.30482513e-01,  7.02510230e-01, ...,\n",
              "         1.04532821e-01,  1.00000000e+01,  0.00000000e+00],\n",
              "       [-5.33412522e-01, -1.89733337e-01,  7.03337367e-01, ...,\n",
              "         1.36489143e-02,  2.17000000e+02,  0.00000000e+00]])"
            ]
          },
          "metadata": {
            "tags": []
          },
          "execution_count": 17
        }
      ]
    },
    {
      "cell_type": "code",
      "metadata": {
        "colab": {
          "base_uri": "https://localhost:8080/"
        },
        "id": "HtTl2QG8jfY0",
        "outputId": "c0d5d6c6-88d6-439d-dbac-d38f7ddee6a1"
      },
      "source": [
        "AR_X"
      ],
      "execution_count": 18,
      "outputs": [
        {
          "output_type": "execute_result",
          "data": {
            "text/plain": [
              "array([[-1.35980713e+00, -7.27811733e-02,  2.53634674e+00, ...,\n",
              "         1.33558377e-01, -2.10530535e-02,  1.49620000e+02],\n",
              "       [ 1.19185711e+00,  2.66150712e-01,  1.66480113e-01, ...,\n",
              "        -8.98309914e-03,  1.47241692e-02,  2.69000000e+00],\n",
              "       [-1.35835406e+00, -1.34016307e+00,  1.77320934e+00, ...,\n",
              "        -5.53527940e-02, -5.97518406e-02,  3.78660000e+02],\n",
              "       ...,\n",
              "       [ 1.91956501e+00, -3.01253846e-01, -3.24963981e+00, ...,\n",
              "         4.45477214e-03, -2.65608286e-02,  6.78800000e+01],\n",
              "       [-2.40440050e-01,  5.30482513e-01,  7.02510230e-01, ...,\n",
              "         1.08820735e-01,  1.04532821e-01,  1.00000000e+01],\n",
              "       [-5.33412522e-01, -1.89733337e-01,  7.03337367e-01, ...,\n",
              "        -2.41530880e-03,  1.36489143e-02,  2.17000000e+02]])"
            ]
          },
          "metadata": {
            "tags": []
          },
          "execution_count": 18
        }
      ]
    },
    {
      "cell_type": "code",
      "metadata": {
        "colab": {
          "base_uri": "https://localhost:8080/"
        },
        "id": "U0tdnt1djhFh",
        "outputId": "813332d9-1076-4b46-d173-cdd2164a8974"
      },
      "source": [
        "AR_y"
      ],
      "execution_count": 19,
      "outputs": [
        {
          "output_type": "execute_result",
          "data": {
            "text/plain": [
              "array([0., 0., 0., ..., 0., 0., 0.])"
            ]
          },
          "metadata": {
            "tags": []
          },
          "execution_count": 19
        }
      ]
    },
    {
      "cell_type": "code",
      "metadata": {
        "colab": {
          "base_uri": "https://localhost:8080/"
        },
        "id": "ntL4X-dZjklX",
        "outputId": "ba9dc1cf-8a3a-4a0f-a023-0c9869a3c34c"
      },
      "source": [
        "# class 인코딩(원핫인코딩)\r\n",
        "\r\n",
        "AR_yOHE = tf.keras.utils.to_categorical(AR_y)\r\n",
        "\r\n",
        "AR_yOHE"
      ],
      "execution_count": 22,
      "outputs": [
        {
          "output_type": "execute_result",
          "data": {
            "text/plain": [
              "array([[1., 0.],\n",
              "       [1., 0.],\n",
              "       [1., 0.],\n",
              "       ...,\n",
              "       [1., 0.],\n",
              "       [1., 0.],\n",
              "       [1., 0.]], dtype=float32)"
            ]
          },
          "metadata": {
            "tags": []
          },
          "execution_count": 22
        }
      ]
    },
    {
      "cell_type": "markdown",
      "metadata": {
        "id": "cCRlKujFkBr8"
      },
      "source": [
        "## 3.Keras Modeling"
      ]
    },
    {
      "cell_type": "code",
      "metadata": {
        "colab": {
          "base_uri": "https://localhost:8080/"
        },
        "id": "0X8Y_uGik3Fl",
        "outputId": "7a6bfd03-f3a1-40bc-f9cb-46bef2bce810"
      },
      "source": [
        "#Data Split\r\n",
        "X_train, X_test, y_train, y_test = train_test_split(AR_X, AR_yOHE,\r\n",
        "                                                    test_size = 0.3,\r\n",
        "                                                    random_state = 2045)\r\n",
        "\r\n",
        "X_train.shape, X_test.shape, y_train.shape, y_test.shape"
      ],
      "execution_count": 24,
      "outputs": [
        {
          "output_type": "execute_result",
          "data": {
            "text/plain": [
              "((199364, 29), (85443, 29), (199364, 2), (85443, 2))"
            ]
          },
          "metadata": {
            "tags": []
          },
          "execution_count": 24
        }
      ]
    },
    {
      "cell_type": "code",
      "metadata": {
        "id": "dZEjOPRQj5t8"
      },
      "source": [
        "#Define : 모델 신경망 구조 정의\r\n",
        "\r\n",
        "Model_FD = models.Sequential()\r\n",
        "\r\n",
        "Model_FD.add(layers.Dense(128, activation = 'relu', input_shape = (29,)))\r\n",
        "Model_FD.add(layers.Dense(32, activation = 'relu'))\r\n",
        "Model_FD.add(layers.Dense(16, activation = 'relu'))\r\n",
        "Model_FD.add(layers.Dense(2, activation = 'sigmoid')) # 이진분류"
      ],
      "execution_count": 94,
      "outputs": []
    },
    {
      "cell_type": "code",
      "metadata": {
        "colab": {
          "base_uri": "https://localhost:8080/"
        },
        "id": "FICD6OANlNrg",
        "outputId": "25b31769-2740-4d83-99cf-a7e400a01cf7"
      },
      "source": [
        "#확인\r\n",
        "Model_FD.summary()"
      ],
      "execution_count": 95,
      "outputs": [
        {
          "output_type": "stream",
          "text": [
            "Model: \"sequential_8\"\n",
            "_________________________________________________________________\n",
            "Layer (type)                 Output Shape              Param #   \n",
            "=================================================================\n",
            "dense_26 (Dense)             (None, 128)               3840      \n",
            "_________________________________________________________________\n",
            "dense_27 (Dense)             (None, 32)                4128      \n",
            "_________________________________________________________________\n",
            "dense_28 (Dense)             (None, 16)                528       \n",
            "_________________________________________________________________\n",
            "dense_29 (Dense)             (None, 2)                 34        \n",
            "=================================================================\n",
            "Total params: 8,530\n",
            "Trainable params: 8,530\n",
            "Non-trainable params: 0\n",
            "_________________________________________________________________\n"
          ],
          "name": "stdout"
        }
      ]
    },
    {
      "cell_type": "code",
      "metadata": {
        "id": "mTbk0jw0lQiJ"
      },
      "source": [
        "#Compile : 학습방법 설정\r\n",
        "Model_FD.compile(loss = 'binary_crossentropy',\r\n",
        "                   optimizer = 'adam',\r\n",
        "                   metrics = ['Recall'])"
      ],
      "execution_count": 96,
      "outputs": []
    },
    {
      "cell_type": "code",
      "metadata": {
        "colab": {
          "base_uri": "https://localhost:8080/"
        },
        "id": "Fm0g_hOOljv9",
        "outputId": "3d2f5fa5-bf4b-40dc-e287-e08c24e3fc85"
      },
      "source": [
        "#Fit : 모델 학습 수행\r\n",
        "History_FD = Model_FD.fit(X_train, y_train,\r\n",
        "                          epochs = 40, #빠른 테스트를 위해 횟수는 적게 잡았다\r\n",
        "                          batch_size = 1024,\r\n",
        "                          validation_data = (X_test, y_test))"
      ],
      "execution_count": 97,
      "outputs": [
        {
          "output_type": "stream",
          "text": [
            "Epoch 1/40\n",
            "195/195 [==============================] - 2s 6ms/step - loss: 0.1600 - recall: 0.9536 - val_loss: 0.0069 - val_recall: 0.9993\n",
            "Epoch 2/40\n",
            "195/195 [==============================] - 1s 5ms/step - loss: 0.0059 - recall: 0.9993 - val_loss: 0.0170 - val_recall: 0.9993\n",
            "Epoch 3/40\n",
            "195/195 [==============================] - 1s 5ms/step - loss: 0.0049 - recall: 0.9993 - val_loss: 0.0209 - val_recall: 0.9992\n",
            "Epoch 4/40\n",
            "195/195 [==============================] - 1s 5ms/step - loss: 0.0320 - recall: 0.9990 - val_loss: 0.0042 - val_recall: 0.9994\n",
            "Epoch 5/40\n",
            "195/195 [==============================] - 1s 5ms/step - loss: 0.0044 - recall: 0.9994 - val_loss: 0.0030 - val_recall: 0.9994\n",
            "Epoch 6/40\n",
            "195/195 [==============================] - 1s 5ms/step - loss: 0.0031 - recall: 0.9995 - val_loss: 0.0035 - val_recall: 0.9994\n",
            "Epoch 7/40\n",
            "195/195 [==============================] - 1s 5ms/step - loss: 0.0030 - recall: 0.9995 - val_loss: 0.0034 - val_recall: 0.9995\n",
            "Epoch 8/40\n",
            "195/195 [==============================] - 1s 5ms/step - loss: 0.0039 - recall: 0.9994 - val_loss: 0.0030 - val_recall: 0.9995\n",
            "Epoch 9/40\n",
            "195/195 [==============================] - 1s 5ms/step - loss: 0.0029 - recall: 0.9994 - val_loss: 0.0029 - val_recall: 0.9996\n",
            "Epoch 10/40\n",
            "195/195 [==============================] - 1s 5ms/step - loss: 0.0059 - recall: 0.9995 - val_loss: 0.0028 - val_recall: 0.9995\n",
            "Epoch 11/40\n",
            "195/195 [==============================] - 1s 5ms/step - loss: 0.0033 - recall: 0.9994 - val_loss: 0.0029 - val_recall: 0.9995\n",
            "Epoch 12/40\n",
            "195/195 [==============================] - 1s 5ms/step - loss: 0.0033 - recall: 0.9994 - val_loss: 0.0034 - val_recall: 0.9994\n",
            "Epoch 13/40\n",
            "195/195 [==============================] - 1s 5ms/step - loss: 0.0039 - recall: 0.9995 - val_loss: 0.0030 - val_recall: 0.9995\n",
            "Epoch 14/40\n",
            "195/195 [==============================] - 1s 5ms/step - loss: 0.0030 - recall: 0.9995 - val_loss: 0.0036 - val_recall: 0.9993\n",
            "Epoch 15/40\n",
            "195/195 [==============================] - 1s 5ms/step - loss: 0.0029 - recall: 0.9996 - val_loss: 0.0028 - val_recall: 0.9995\n",
            "Epoch 16/40\n",
            "195/195 [==============================] - 1s 5ms/step - loss: 0.0022 - recall: 0.9995 - val_loss: 0.0067 - val_recall: 0.9994\n",
            "Epoch 17/40\n",
            "195/195 [==============================] - 1s 5ms/step - loss: 0.0152 - recall: 0.9992 - val_loss: 0.0905 - val_recall: 0.9992\n",
            "Epoch 18/40\n",
            "195/195 [==============================] - 1s 5ms/step - loss: 0.0431 - recall: 0.9992 - val_loss: 0.0051 - val_recall: 0.9995\n",
            "Epoch 19/40\n",
            "195/195 [==============================] - 1s 5ms/step - loss: 0.0036 - recall: 0.9994 - val_loss: 0.0033 - val_recall: 0.9995\n",
            "Epoch 20/40\n",
            "195/195 [==============================] - 1s 5ms/step - loss: 0.0029 - recall: 0.9995 - val_loss: 0.0064 - val_recall: 0.9995\n",
            "Epoch 21/40\n",
            "195/195 [==============================] - 1s 5ms/step - loss: 0.0072 - recall: 0.9995 - val_loss: 0.0039 - val_recall: 0.9995\n",
            "Epoch 22/40\n",
            "195/195 [==============================] - 1s 5ms/step - loss: 0.0032 - recall: 0.9995 - val_loss: 0.0028 - val_recall: 0.9995\n",
            "Epoch 23/40\n",
            "195/195 [==============================] - 1s 5ms/step - loss: 0.0029 - recall: 0.9995 - val_loss: 0.0052 - val_recall: 0.9995\n",
            "Epoch 24/40\n",
            "195/195 [==============================] - 1s 5ms/step - loss: 0.0020 - recall: 0.9996 - val_loss: 0.0030 - val_recall: 0.9995\n",
            "Epoch 25/40\n",
            "195/195 [==============================] - 1s 5ms/step - loss: 0.0020 - recall: 0.9996 - val_loss: 0.0032 - val_recall: 0.9995\n",
            "Epoch 26/40\n",
            "195/195 [==============================] - 1s 5ms/step - loss: 0.0098 - recall: 0.9993 - val_loss: 0.0045 - val_recall: 0.9995\n",
            "Epoch 27/40\n",
            "195/195 [==============================] - 1s 5ms/step - loss: 0.0039 - recall: 0.9996 - val_loss: 0.0033 - val_recall: 0.9995\n",
            "Epoch 28/40\n",
            "195/195 [==============================] - 1s 5ms/step - loss: 0.0025 - recall: 0.9996 - val_loss: 0.0068 - val_recall: 0.9995\n",
            "Epoch 29/40\n",
            "195/195 [==============================] - 1s 5ms/step - loss: 0.0038 - recall: 0.9995 - val_loss: 0.0032 - val_recall: 0.9995\n",
            "Epoch 30/40\n",
            "195/195 [==============================] - 1s 5ms/step - loss: 0.0021 - recall: 0.9996 - val_loss: 0.0029 - val_recall: 0.9995\n",
            "Epoch 31/40\n",
            "195/195 [==============================] - 1s 5ms/step - loss: 0.0021 - recall: 0.9996 - val_loss: 0.0028 - val_recall: 0.9995\n",
            "Epoch 32/40\n",
            "195/195 [==============================] - 1s 5ms/step - loss: 0.0017 - recall: 0.9997 - val_loss: 0.0038 - val_recall: 0.9995\n",
            "Epoch 33/40\n",
            "195/195 [==============================] - 1s 5ms/step - loss: 0.0020 - recall: 0.9997 - val_loss: 0.0030 - val_recall: 0.9995\n",
            "Epoch 34/40\n",
            "195/195 [==============================] - 1s 5ms/step - loss: 0.0022 - recall: 0.9997 - val_loss: 0.0222 - val_recall: 0.9993\n",
            "Epoch 35/40\n",
            "195/195 [==============================] - 1s 5ms/step - loss: 0.0067 - recall: 0.9995 - val_loss: 0.0119 - val_recall: 0.9994\n",
            "Epoch 36/40\n",
            "195/195 [==============================] - 1s 5ms/step - loss: 0.0050 - recall: 0.9996 - val_loss: 0.0029 - val_recall: 0.9995\n",
            "Epoch 37/40\n",
            "195/195 [==============================] - 1s 5ms/step - loss: 0.0034 - recall: 0.9997 - val_loss: 0.0255 - val_recall: 0.9993\n",
            "Epoch 38/40\n",
            "195/195 [==============================] - 1s 5ms/step - loss: 0.0078 - recall: 0.9996 - val_loss: 0.0044 - val_recall: 0.9995\n",
            "Epoch 39/40\n",
            "195/195 [==============================] - 1s 5ms/step - loss: 0.0027 - recall: 0.9997 - val_loss: 0.0031 - val_recall: 0.9995\n",
            "Epoch 40/40\n",
            "195/195 [==============================] - 1s 5ms/step - loss: 0.0019 - recall: 0.9997 - val_loss: 0.0029 - val_recall: 0.9995\n"
          ],
          "name": "stdout"
        }
      ]
    },
    {
      "cell_type": "code",
      "metadata": {
        "colab": {
          "base_uri": "https://localhost:8080/",
          "height": 378
        },
        "id": "FeYz-UlNl3Bn",
        "outputId": "f5fa7d7b-b232-4531-d96b-465236cba99d"
      },
      "source": [
        "#학습결과 시각화\r\n",
        "plt.figure(figsize = (9,6))\r\n",
        "plt.ylim(0, 0.2)\r\n",
        "plt.plot(History_FD.history['loss'])\r\n",
        "plt.plot(History_FD.history['val_loss'])\r\n",
        "plt.legend(['loss','val_loss'])\r\n",
        "plt.grid()\r\n",
        "plt.show()"
      ],
      "execution_count": 102,
      "outputs": [
        {
          "output_type": "display_data",
          "data": {
            "image/png": "[encoded data removed]",
            "text/plain": [
              "<Figure size 648x432 with 1 Axes>"
            ]
          },
          "metadata": {
            "tags": [],
            "needs_background": "light"
          }
        }
      ]
    },
    {
      "cell_type": "code",
      "metadata": {
        "colab": {
          "base_uri": "https://localhost:8080/",
          "height": 378
        },
        "id": "Lb9w9ikhwZnH",
        "outputId": "733ae9bf-5e26-4075-e47c-3cbba9dc6292"
      },
      "source": [
        "plt.figure(figsize = (9,6))\r\n",
        "plt.ylim(0.99, 1.01)\r\n",
        "plt.plot(History_FD.history['recall'])\r\n",
        "plt.plot(History_FD.history['val_recall'])\r\n",
        "plt.legend(['recall','val_recall'])\r\n",
        "plt.grid()\r\n",
        "plt.show()"
      ],
      "execution_count": 101,
      "outputs": [
        {
          "output_type": "display_data",
          "data": {
            "image/png": "[encoded data removed]",
            "text/plain": [
              "<Figure size 648x432 with 1 Axes>"
            ]
          },
          "metadata": {
            "tags": [],
            "needs_background": "light"
          }
        }
      ]
    },
    {
      "cell_type": "code",
      "metadata": {
        "colab": {
          "base_uri": "https://localhost:8080/"
        },
        "id": "7nwVkTkxm4MW",
        "outputId": "e9483eab-c6f6-41b1-f444-9bb28bf4fdde"
      },
      "source": [
        "# Predict + Validation\r\n",
        "# 확률값 산출\r\n",
        "np.set_printoptions(suppress = True, precision = 5)\r\n",
        "\r\n",
        "Model_FD.predict(X_test)"
      ],
      "execution_count": 89,
      "outputs": [
        {
          "output_type": "execute_result",
          "data": {
            "text/plain": [
              "array([[1., 0.],\n",
              "       [1., 0.],\n",
              "       [1., 0.],\n",
              "       ...,\n",
              "       [1., 0.],\n",
              "       [1., 0.],\n",
              "       [1., 0.]], dtype=float32)"
            ]
          },
          "metadata": {
            "tags": []
          },
          "execution_count": 89
        }
      ]
    },
    {
      "cell_type": "code",
      "metadata": {
        "colab": {
          "base_uri": "https://localhost:8080/"
        },
        "id": "O48rv9BOnE12",
        "outputId": "c85ead3a-91bd-44c8-deb5-443342dcc64f"
      },
      "source": [
        "# y_hat(예측값)\r\n",
        "\r\n",
        "y_hat = Model_FD.predict_classes(X_test)\r\n",
        "\r\n",
        "y_hat"
      ],
      "execution_count": 90,
      "outputs": [
        {
          "output_type": "execute_result",
          "data": {
            "text/plain": [
              "array([0, 0, 0, ..., 0, 0, 0])"
            ]
          },
          "metadata": {
            "tags": []
          },
          "execution_count": 90
        }
      ]
    },
    {
      "cell_type": "code",
      "metadata": {
        "colab": {
          "base_uri": "https://localhost:8080/"
        },
        "id": "ORo9J_GAn-et",
        "outputId": "82dc6c84-44ca-4e3c-d1c9-28223078ae25"
      },
      "source": [
        "# y (실제값)\r\n",
        "\r\n",
        "y = np.argmax(y_test, axis = 1)\r\n",
        "\r\n",
        "y"
      ],
      "execution_count": 91,
      "outputs": [
        {
          "output_type": "execute_result",
          "data": {
            "text/plain": [
              "array([0, 0, 0, ..., 0, 0, 0])"
            ]
          },
          "metadata": {
            "tags": []
          },
          "execution_count": 91
        }
      ]
    },
    {
      "cell_type": "code",
      "metadata": {
        "colab": {
          "base_uri": "https://localhost:8080/"
        },
        "id": "xZdpng5Qof3A",
        "outputId": "06df59fa-8ee3-42d4-f974-5e4e8db1baa9"
      },
      "source": [
        "#confusion matrix + classification report\r\n",
        "\r\n",
        "confusion_matrix(y, y_hat)"
      ],
      "execution_count": 92,
      "outputs": [
        {
          "output_type": "execute_result",
          "data": {
            "text/plain": [
              "array([[85277,    22],\n",
              "       [   33,   111]])"
            ]
          },
          "metadata": {
            "tags": []
          },
          "execution_count": 92
        }
      ]
    },
    {
      "cell_type": "code",
      "metadata": {
        "colab": {
          "base_uri": "https://localhost:8080/"
        },
        "id": "tOyWGd4Doo3c",
        "outputId": "6fcea5ca-cb7b-477a-b0a4-16f612708a84"
      },
      "source": [
        "print(classification_report(y, y_hat,\r\n",
        "                            target_names = ['Normal(0)',\r\n",
        "                                            'Fraud(1)']))"
      ],
      "execution_count": 93,
      "outputs": [
        {
          "output_type": "stream",
          "text": [
            "              precision    recall  f1-score   support\n",
            "\n",
            "   Normal(0)       1.00      1.00      1.00     85299\n",
            "    Fraud(1)       0.83      0.77      0.80       144\n",
            "\n",
            "    accuracy                           1.00     85443\n",
            "   macro avg       0.92      0.89      0.90     85443\n",
            "weighted avg       1.00      1.00      1.00     85443\n",
            "\n"
          ],
          "name": "stdout"
        }
      ]
    },
    {
      "cell_type": "markdown",
      "metadata": {
        "id": "db86hquCxB-a"
      },
      "source": [
        "본 내용은 2021/03/18(목)에 학습한 내용입니다."
      ]
    }
  ]
}
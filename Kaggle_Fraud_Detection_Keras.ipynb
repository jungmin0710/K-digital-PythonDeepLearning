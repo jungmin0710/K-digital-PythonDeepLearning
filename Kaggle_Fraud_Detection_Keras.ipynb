{
  "nbformat": 4,
  "nbformat_minor": 0,
  "metadata": {
    "colab": {
      "name": "Kaggle_Fraud_Detection_Keras.ipynb",
      "provenance": [],
      "collapsed_sections": [],
      "authorship_tag": "ABX9TyNBp4SgnDagddd/Iu7tJI/a",
      "include_colab_link": true
    },
    "kernelspec": {
      "name": "python3",
      "display_name": "Python 3"
    }
  },
  "cells": [
    {
      "cell_type": "markdown",
      "metadata": {
        "id": "view-in-github",
        "colab_type": "text"
      },
      "source": [
        "<a href=\"https://colab.research.google.com/github/jungmin0710/K-digital-PythonDeepLearning/blob/main/Kaggle_Fraud_Detection_Keras.ipynb\" target=\"_parent\"><img src=\"https://colab.research.google.com/assets/colab-badge.svg\" alt=\"Open In Colab\"/></a>"
      ]
    },
    {
      "cell_type": "markdown",
      "metadata": {
        "id": "_VTBX9HFhVG8"
      },
      "source": [
        "\r\n",
        "# Kaggle 신용카드 사기 검출(Google Drive Mount)\r\n",
        "https://www.kaggle.com/mlg-ulb/creditcardfraud\r\n",
        "\r\n",
        "#### Credit Card Fraud Detection\r\n",
        "* creditcard.csv(284,807 * 31)\r\n",
        "* Class : 0(정상), 1(사기)\r\n",
        "* 사기 검출(Fraud Detection), 이상 탐지(Anomaly Detection)\r\n"
      ]
    },
    {
      "cell_type": "code",
      "metadata": {
        "id": "dS0hauqgg8GH"
      },
      "source": [
        "import warnings\r\n",
        "warnings.filterwarnings('ignore')"
      ],
      "execution_count": null,
      "outputs": []
    },
    {
      "cell_type": "code",
      "metadata": {
        "id": "Qzy1CvKOheCY"
      },
      "source": [
        "import numpy as np\r\n",
        "import pandas as pd\r\n",
        "import matplotlib.pyplot as plt\r\n",
        "import seaborn as sns\r\n",
        "from sklearn.model_selection import train_test_split\r\n",
        "import tensorflow as tf\r\n",
        "from tensorflow.keras import models\r\n",
        "from tensorflow.keras import layers\r\n",
        "from sklearn.metrics import confusion_matrix, accuracy_score, precision_score, recall_score"
      ],
      "execution_count": 129,
      "outputs": []
    },
    {
      "cell_type": "markdown",
      "metadata": {
        "id": "LYRPKqk8hk0y"
      },
      "source": [
        "## 1.Google Drive Mount"
      ]
    },
    {
      "cell_type": "code",
      "metadata": {
        "colab": {
          "base_uri": "https://localhost:8080/"
        },
        "id": "-yugRzCchkLI",
        "outputId": "d6357a57-d8e6-419b-f566-7cf61857e358"
      },
      "source": [
        "from google.colab import drive\r\n",
        "\r\n",
        "drive.mount('/content/drive')"
      ],
      "execution_count": null,
      "outputs": [
        {
          "output_type": "stream",
          "text": [
            "Mounted at /content/drive\n"
          ],
          "name": "stdout"
        }
      ]
    },
    {
      "cell_type": "code",
      "metadata": {
        "colab": {
          "base_uri": "https://localhost:8080/"
        },
        "id": "pYkFQ9LIho6B",
        "outputId": "90dbe7e0-ac14-4738-c07e-90c313f80134"
      },
      "source": [
        "!ls -l '/content/drive/My Drive/Colab Notebooks/datasets/creditCardFraud.zip'"
      ],
      "execution_count": null,
      "outputs": [
        {
          "output_type": "stream",
          "text": [
            "-rw------- 1 root root 69155672 Mar  4 04:46 '/content/drive/My Drive/Colab Notebooks/datasets/creditCardFraud.zip'\n"
          ],
          "name": "stdout"
        }
      ]
    },
    {
      "cell_type": "markdown",
      "metadata": {
        "id": "Zje02hrnhzIx"
      },
      "source": [
        "## 2.Data Preprocessing"
      ]
    },
    {
      "cell_type": "code",
      "metadata": {
        "colab": {
          "base_uri": "https://localhost:8080/"
        },
        "id": "iRnGzC86hyR7",
        "outputId": "d4149b49-d583-49cc-e009-e8b8ab49b05c"
      },
      "source": [
        "!unzip /content/drive/My\\ Drive/Colab\\ Notebooks/datasets/creditCardFraud.zip"
      ],
      "execution_count": null,
      "outputs": [
        {
          "output_type": "stream",
          "text": [
            "Archive:  /content/drive/My Drive/Colab Notebooks/datasets/creditCardFraud.zip\n",
            "  inflating: creditcard.csv          \n"
          ],
          "name": "stdout"
        }
      ]
    },
    {
      "cell_type": "code",
      "metadata": {
        "colab": {
          "base_uri": "https://localhost:8080/"
        },
        "id": "pfwWAhpEh25I",
        "outputId": "61490739-7b75-4873-f8f7-2fa6c9d4b3fa"
      },
      "source": [
        "!ls -l"
      ],
      "execution_count": null,
      "outputs": [
        {
          "output_type": "stream",
          "text": [
            "total 147304\n",
            "-rw-r--r-- 1 root root 150828752 Sep 20  2019 creditcard.csv\n",
            "drwx------ 5 root root      4096 Mar 18 04:10 drive\n",
            "drwxr-xr-x 1 root root      4096 Mar  5 14:37 sample_data\n"
          ],
          "name": "stdout"
        }
      ]
    },
    {
      "cell_type": "code",
      "metadata": {
        "colab": {
          "base_uri": "https://localhost:8080/"
        },
        "id": "zG5tpAWmh4y8",
        "outputId": "1ad4b98a-bafa-42bd-8f4b-60356930cf5e"
      },
      "source": [
        "%%time\r\n",
        "\r\n",
        "DF = pd.read_csv('creditcard.csv')\r\n",
        "\r\n",
        "DF.info()"
      ],
      "execution_count": null,
      "outputs": [
        {
          "output_type": "stream",
          "text": [
            "<class 'pandas.core.frame.DataFrame'>\n",
            "RangeIndex: 284807 entries, 0 to 284806\n",
            "Data columns (total 31 columns):\n",
            " #   Column  Non-Null Count   Dtype  \n",
            "---  ------  --------------   -----  \n",
            " 0   Time    284807 non-null  float64\n",
            " 1   V1      284807 non-null  float64\n",
            " 2   V2      284807 non-null  float64\n",
            " 3   V3      284807 non-null  float64\n",
            " 4   V4      284807 non-null  float64\n",
            " 5   V5      284807 non-null  float64\n",
            " 6   V6      284807 non-null  float64\n",
            " 7   V7      284807 non-null  float64\n",
            " 8   V8      284807 non-null  float64\n",
            " 9   V9      284807 non-null  float64\n",
            " 10  V10     284807 non-null  float64\n",
            " 11  V11     284807 non-null  float64\n",
            " 12  V12     284807 non-null  float64\n",
            " 13  V13     284807 non-null  float64\n",
            " 14  V14     284807 non-null  float64\n",
            " 15  V15     284807 non-null  float64\n",
            " 16  V16     284807 non-null  float64\n",
            " 17  V17     284807 non-null  float64\n",
            " 18  V18     284807 non-null  float64\n",
            " 19  V19     284807 non-null  float64\n",
            " 20  V20     284807 non-null  float64\n",
            " 21  V21     284807 non-null  float64\n",
            " 22  V22     284807 non-null  float64\n",
            " 23  V23     284807 non-null  float64\n",
            " 24  V24     284807 non-null  float64\n",
            " 25  V25     284807 non-null  float64\n",
            " 26  V26     284807 non-null  float64\n",
            " 27  V27     284807 non-null  float64\n",
            " 28  V28     284807 non-null  float64\n",
            " 29  Amount  284807 non-null  float64\n",
            " 30  Class   284807 non-null  int64  \n",
            "dtypes: float64(30), int64(1)\n",
            "memory usage: 67.4 MB\n",
            "CPU times: user 2.1 s, sys: 54.4 ms, total: 2.15 s\n",
            "Wall time: 2.19 s\n"
          ],
          "name": "stdout"
        }
      ]
    },
    {
      "cell_type": "code",
      "metadata": {
        "colab": {
          "base_uri": "https://localhost:8080/",
          "height": 214
        },
        "id": "HgdLRSzah73D",
        "outputId": "831aa188-9f4d-4559-d560-22238490cff1"
      },
      "source": [
        "DF.head()"
      ],
      "execution_count": null,
      "outputs": [
        {
          "output_type": "execute_result",
          "data": {
            "text/html": [
              "<div>\n",
              "<style scoped>\n",
              "    .dataframe tbody tr th:only-of-type {\n",
              "        vertical-align: middle;\n",
              "    }\n",
              "\n",
              "    .dataframe tbody tr th {\n",
              "        vertical-align: top;\n",
              "    }\n",
              "\n",
              "    .dataframe thead th {\n",
              "        text-align: right;\n",
              "    }\n",
              "</style>\n",
              "<table border=\"1\" class=\"dataframe\">\n",
              "  <thead>\n",
              "    <tr style=\"text-align: right;\">\n",
              "      <th></th>\n",
              "      <th>Time</th>\n",
              "      <th>V1</th>\n",
              "      <th>V2</th>\n",
              "      <th>V3</th>\n",
              "      <th>V4</th>\n",
              "      <th>V5</th>\n",
              "      <th>V6</th>\n",
              "      <th>V7</th>\n",
              "      <th>V8</th>\n",
              "      <th>V9</th>\n",
              "      <th>V10</th>\n",
              "      <th>V11</th>\n",
              "      <th>V12</th>\n",
              "      <th>V13</th>\n",
              "      <th>V14</th>\n",
              "      <th>V15</th>\n",
              "      <th>V16</th>\n",
              "      <th>V17</th>\n",
              "      <th>V18</th>\n",
              "      <th>V19</th>\n",
              "      <th>V20</th>\n",
              "      <th>V21</th>\n",
              "      <th>V22</th>\n",
              "      <th>V23</th>\n",
              "      <th>V24</th>\n",
              "      <th>V25</th>\n",
              "      <th>V26</th>\n",
              "      <th>V27</th>\n",
              "      <th>V28</th>\n",
              "      <th>Amount</th>\n",
              "      <th>Class</th>\n",
              "    </tr>\n",
              "  </thead>\n",
              "  <tbody>\n",
              "    <tr>\n",
              "      <th>0</th>\n",
              "      <td>0.0</td>\n",
              "      <td>-1.359807</td>\n",
              "      <td>-0.072781</td>\n",
              "      <td>2.536347</td>\n",
              "      <td>1.378155</td>\n",
              "      <td>-0.338321</td>\n",
              "      <td>0.462388</td>\n",
              "      <td>0.239599</td>\n",
              "      <td>0.098698</td>\n",
              "      <td>0.363787</td>\n",
              "      <td>0.090794</td>\n",
              "      <td>-0.551600</td>\n",
              "      <td>-0.617801</td>\n",
              "      <td>-0.991390</td>\n",
              "      <td>-0.311169</td>\n",
              "      <td>1.468177</td>\n",
              "      <td>-0.470401</td>\n",
              "      <td>0.207971</td>\n",
              "      <td>0.025791</td>\n",
              "      <td>0.403993</td>\n",
              "      <td>0.251412</td>\n",
              "      <td>-0.018307</td>\n",
              "      <td>0.277838</td>\n",
              "      <td>-0.110474</td>\n",
              "      <td>0.066928</td>\n",
              "      <td>0.128539</td>\n",
              "      <td>-0.189115</td>\n",
              "      <td>0.133558</td>\n",
              "      <td>-0.021053</td>\n",
              "      <td>149.62</td>\n",
              "      <td>0</td>\n",
              "    </tr>\n",
              "    <tr>\n",
              "      <th>1</th>\n",
              "      <td>0.0</td>\n",
              "      <td>1.191857</td>\n",
              "      <td>0.266151</td>\n",
              "      <td>0.166480</td>\n",
              "      <td>0.448154</td>\n",
              "      <td>0.060018</td>\n",
              "      <td>-0.082361</td>\n",
              "      <td>-0.078803</td>\n",
              "      <td>0.085102</td>\n",
              "      <td>-0.255425</td>\n",
              "      <td>-0.166974</td>\n",
              "      <td>1.612727</td>\n",
              "      <td>1.065235</td>\n",
              "      <td>0.489095</td>\n",
              "      <td>-0.143772</td>\n",
              "      <td>0.635558</td>\n",
              "      <td>0.463917</td>\n",
              "      <td>-0.114805</td>\n",
              "      <td>-0.183361</td>\n",
              "      <td>-0.145783</td>\n",
              "      <td>-0.069083</td>\n",
              "      <td>-0.225775</td>\n",
              "      <td>-0.638672</td>\n",
              "      <td>0.101288</td>\n",
              "      <td>-0.339846</td>\n",
              "      <td>0.167170</td>\n",
              "      <td>0.125895</td>\n",
              "      <td>-0.008983</td>\n",
              "      <td>0.014724</td>\n",
              "      <td>2.69</td>\n",
              "      <td>0</td>\n",
              "    </tr>\n",
              "    <tr>\n",
              "      <th>2</th>\n",
              "      <td>1.0</td>\n",
              "      <td>-1.358354</td>\n",
              "      <td>-1.340163</td>\n",
              "      <td>1.773209</td>\n",
              "      <td>0.379780</td>\n",
              "      <td>-0.503198</td>\n",
              "      <td>1.800499</td>\n",
              "      <td>0.791461</td>\n",
              "      <td>0.247676</td>\n",
              "      <td>-1.514654</td>\n",
              "      <td>0.207643</td>\n",
              "      <td>0.624501</td>\n",
              "      <td>0.066084</td>\n",
              "      <td>0.717293</td>\n",
              "      <td>-0.165946</td>\n",
              "      <td>2.345865</td>\n",
              "      <td>-2.890083</td>\n",
              "      <td>1.109969</td>\n",
              "      <td>-0.121359</td>\n",
              "      <td>-2.261857</td>\n",
              "      <td>0.524980</td>\n",
              "      <td>0.247998</td>\n",
              "      <td>0.771679</td>\n",
              "      <td>0.909412</td>\n",
              "      <td>-0.689281</td>\n",
              "      <td>-0.327642</td>\n",
              "      <td>-0.139097</td>\n",
              "      <td>-0.055353</td>\n",
              "      <td>-0.059752</td>\n",
              "      <td>378.66</td>\n",
              "      <td>0</td>\n",
              "    </tr>\n",
              "    <tr>\n",
              "      <th>3</th>\n",
              "      <td>1.0</td>\n",
              "      <td>-0.966272</td>\n",
              "      <td>-0.185226</td>\n",
              "      <td>1.792993</td>\n",
              "      <td>-0.863291</td>\n",
              "      <td>-0.010309</td>\n",
              "      <td>1.247203</td>\n",
              "      <td>0.237609</td>\n",
              "      <td>0.377436</td>\n",
              "      <td>-1.387024</td>\n",
              "      <td>-0.054952</td>\n",
              "      <td>-0.226487</td>\n",
              "      <td>0.178228</td>\n",
              "      <td>0.507757</td>\n",
              "      <td>-0.287924</td>\n",
              "      <td>-0.631418</td>\n",
              "      <td>-1.059647</td>\n",
              "      <td>-0.684093</td>\n",
              "      <td>1.965775</td>\n",
              "      <td>-1.232622</td>\n",
              "      <td>-0.208038</td>\n",
              "      <td>-0.108300</td>\n",
              "      <td>0.005274</td>\n",
              "      <td>-0.190321</td>\n",
              "      <td>-1.175575</td>\n",
              "      <td>0.647376</td>\n",
              "      <td>-0.221929</td>\n",
              "      <td>0.062723</td>\n",
              "      <td>0.061458</td>\n",
              "      <td>123.50</td>\n",
              "      <td>0</td>\n",
              "    </tr>\n",
              "    <tr>\n",
              "      <th>4</th>\n",
              "      <td>2.0</td>\n",
              "      <td>-1.158233</td>\n",
              "      <td>0.877737</td>\n",
              "      <td>1.548718</td>\n",
              "      <td>0.403034</td>\n",
              "      <td>-0.407193</td>\n",
              "      <td>0.095921</td>\n",
              "      <td>0.592941</td>\n",
              "      <td>-0.270533</td>\n",
              "      <td>0.817739</td>\n",
              "      <td>0.753074</td>\n",
              "      <td>-0.822843</td>\n",
              "      <td>0.538196</td>\n",
              "      <td>1.345852</td>\n",
              "      <td>-1.119670</td>\n",
              "      <td>0.175121</td>\n",
              "      <td>-0.451449</td>\n",
              "      <td>-0.237033</td>\n",
              "      <td>-0.038195</td>\n",
              "      <td>0.803487</td>\n",
              "      <td>0.408542</td>\n",
              "      <td>-0.009431</td>\n",
              "      <td>0.798278</td>\n",
              "      <td>-0.137458</td>\n",
              "      <td>0.141267</td>\n",
              "      <td>-0.206010</td>\n",
              "      <td>0.502292</td>\n",
              "      <td>0.219422</td>\n",
              "      <td>0.215153</td>\n",
              "      <td>69.99</td>\n",
              "      <td>0</td>\n",
              "    </tr>\n",
              "  </tbody>\n",
              "</table>\n",
              "</div>"
            ],
            "text/plain": [
              "   Time        V1        V2        V3  ...       V27       V28  Amount  Class\n",
              "0   0.0 -1.359807 -0.072781  2.536347  ...  0.133558 -0.021053  149.62      0\n",
              "1   0.0  1.191857  0.266151  0.166480  ... -0.008983  0.014724    2.69      0\n",
              "2   1.0 -1.358354 -1.340163  1.773209  ... -0.055353 -0.059752  378.66      0\n",
              "3   1.0 -0.966272 -0.185226  1.792993  ...  0.062723  0.061458  123.50      0\n",
              "4   2.0 -1.158233  0.877737  1.548718  ...  0.219422  0.215153   69.99      0\n",
              "\n",
              "[5 rows x 31 columns]"
            ]
          },
          "metadata": {
            "tags": []
          },
          "execution_count": 8
        }
      ]
    },
    {
      "cell_type": "code",
      "metadata": {
        "colab": {
          "base_uri": "https://localhost:8080/"
        },
        "id": "rvhYParUh-3H",
        "outputId": "50b070c2-792a-4e09-ef6d-5f070361df2e"
      },
      "source": [
        "#0 : 정상, 1 : 사기\r\n",
        "\r\n",
        "DF.Class.value_counts()"
      ],
      "execution_count": null,
      "outputs": [
        {
          "output_type": "execute_result",
          "data": {
            "text/plain": [
              "0    284315\n",
              "1       492\n",
              "Name: Class, dtype: int64"
            ]
          },
          "metadata": {
            "tags": []
          },
          "execution_count": 9
        }
      ]
    },
    {
      "cell_type": "code",
      "metadata": {
        "colab": {
          "base_uri": "https://localhost:8080/"
        },
        "id": "Y0RF2xN5iC7V",
        "outputId": "b40ec2f9-79dc-488f-fddd-efaf1a6e595b"
      },
      "source": [
        "(DF.Class.value_counts() / DF.shape[0] * 100)"
      ],
      "execution_count": null,
      "outputs": [
        {
          "output_type": "execute_result",
          "data": {
            "text/plain": [
              "0    99.827251\n",
              "1     0.172749\n",
              "Name: Class, dtype: float64"
            ]
          },
          "metadata": {
            "tags": []
          },
          "execution_count": 10
        }
      ]
    },
    {
      "cell_type": "code",
      "metadata": {
        "colab": {
          "base_uri": "https://localhost:8080/",
          "height": 96
        },
        "id": "xRdtJKAWiFOO",
        "outputId": "06c096ca-a5f8-4208-d700-62cd1cde25a4"
      },
      "source": [
        "#time 열 삭제\r\n",
        "DF.drop('Time', axis = 1, inplace = True)\r\n",
        "\r\n",
        "DF.head(1)"
      ],
      "execution_count": null,
      "outputs": [
        {
          "output_type": "execute_result",
          "data": {
            "text/html": [
              "<div>\n",
              "<style scoped>\n",
              "    .dataframe tbody tr th:only-of-type {\n",
              "        vertical-align: middle;\n",
              "    }\n",
              "\n",
              "    .dataframe tbody tr th {\n",
              "        vertical-align: top;\n",
              "    }\n",
              "\n",
              "    .dataframe thead th {\n",
              "        text-align: right;\n",
              "    }\n",
              "</style>\n",
              "<table border=\"1\" class=\"dataframe\">\n",
              "  <thead>\n",
              "    <tr style=\"text-align: right;\">\n",
              "      <th></th>\n",
              "      <th>V1</th>\n",
              "      <th>V2</th>\n",
              "      <th>V3</th>\n",
              "      <th>V4</th>\n",
              "      <th>V5</th>\n",
              "      <th>V6</th>\n",
              "      <th>V7</th>\n",
              "      <th>V8</th>\n",
              "      <th>V9</th>\n",
              "      <th>V10</th>\n",
              "      <th>V11</th>\n",
              "      <th>V12</th>\n",
              "      <th>V13</th>\n",
              "      <th>V14</th>\n",
              "      <th>V15</th>\n",
              "      <th>V16</th>\n",
              "      <th>V17</th>\n",
              "      <th>V18</th>\n",
              "      <th>V19</th>\n",
              "      <th>V20</th>\n",
              "      <th>V21</th>\n",
              "      <th>V22</th>\n",
              "      <th>V23</th>\n",
              "      <th>V24</th>\n",
              "      <th>V25</th>\n",
              "      <th>V26</th>\n",
              "      <th>V27</th>\n",
              "      <th>V28</th>\n",
              "      <th>Amount</th>\n",
              "      <th>Class</th>\n",
              "    </tr>\n",
              "  </thead>\n",
              "  <tbody>\n",
              "    <tr>\n",
              "      <th>0</th>\n",
              "      <td>-1.359807</td>\n",
              "      <td>-0.072781</td>\n",
              "      <td>2.536347</td>\n",
              "      <td>1.378155</td>\n",
              "      <td>-0.338321</td>\n",
              "      <td>0.462388</td>\n",
              "      <td>0.239599</td>\n",
              "      <td>0.098698</td>\n",
              "      <td>0.363787</td>\n",
              "      <td>0.090794</td>\n",
              "      <td>-0.5516</td>\n",
              "      <td>-0.617801</td>\n",
              "      <td>-0.99139</td>\n",
              "      <td>-0.311169</td>\n",
              "      <td>1.468177</td>\n",
              "      <td>-0.470401</td>\n",
              "      <td>0.207971</td>\n",
              "      <td>0.025791</td>\n",
              "      <td>0.403993</td>\n",
              "      <td>0.251412</td>\n",
              "      <td>-0.018307</td>\n",
              "      <td>0.277838</td>\n",
              "      <td>-0.110474</td>\n",
              "      <td>0.066928</td>\n",
              "      <td>0.128539</td>\n",
              "      <td>-0.189115</td>\n",
              "      <td>0.133558</td>\n",
              "      <td>-0.021053</td>\n",
              "      <td>149.62</td>\n",
              "      <td>0</td>\n",
              "    </tr>\n",
              "  </tbody>\n",
              "</table>\n",
              "</div>"
            ],
            "text/plain": [
              "         V1        V2        V3        V4  ...       V27       V28  Amount  Class\n",
              "0 -1.359807 -0.072781  2.536347  1.378155  ...  0.133558 -0.021053  149.62      0\n",
              "\n",
              "[1 rows x 30 columns]"
            ]
          },
          "metadata": {
            "tags": []
          },
          "execution_count": 11
        }
      ]
    },
    {
      "cell_type": "markdown",
      "metadata": {
        "id": "cCRlKujFkBr8"
      },
      "source": [
        "## 3.Keras Modeling"
      ]
    },
    {
      "cell_type": "code",
      "metadata": {
        "colab": {
          "base_uri": "https://localhost:8080/"
        },
        "id": "0X8Y_uGik3Fl",
        "outputId": "73040da1-ca02-42ef-de02-4f10af6dde09"
      },
      "source": [
        "#Data Split : 이진분류이므로 y를 굳이 원핫인코딩 할 필요는 없음(둘 중 하나로만 결과가 나오면 되므로)\r\n",
        "X = DF.iloc[:,:-1]\r\n",
        "y = DF.iloc[:, -1]\r\n",
        "\r\n",
        "X.shape, y.shape"
      ],
      "execution_count": 103,
      "outputs": [
        {
          "output_type": "execute_result",
          "data": {
            "text/plain": [
              "((284807, 29), (284807,))"
            ]
          },
          "metadata": {
            "tags": []
          },
          "execution_count": 103
        }
      ]
    },
    {
      "cell_type": "code",
      "metadata": {
        "colab": {
          "base_uri": "https://localhost:8080/"
        },
        "id": "-tx9hRkox-Uz",
        "outputId": "e1325417-8232-4ee6-a0dd-7c772b2c2312"
      },
      "source": [
        "X_train, X_test, y_train, y_test = train_test_split(X, y,\r\n",
        "                                                    test_size = 0.3,\r\n",
        "                                                    random_state = 2045,\r\n",
        "                                                    stratify = y)\r\n",
        "\r\n",
        "X_train.shape, y_train.shape, X_test.shape, y_test.shape"
      ],
      "execution_count": 104,
      "outputs": [
        {
          "output_type": "execute_result",
          "data": {
            "text/plain": [
              "((199364, 29), (199364,), (85443, 29), (85443,))"
            ]
          },
          "metadata": {
            "tags": []
          },
          "execution_count": 104
        }
      ]
    },
    {
      "cell_type": "code",
      "metadata": {
        "colab": {
          "base_uri": "https://localhost:8080/"
        },
        "id": "MJNxoxKDyBbl",
        "outputId": "7b26aeeb-04d2-4691-d6aa-5bed492d5990"
      },
      "source": [
        "print('Train_Data :','\\n', (y_train.value_counts() / y_train.shape[0]) * 100)\r\n",
        "print('Test_Data :','\\n', (y_test.value_counts() / y_test.shape[0]) * 100)"
      ],
      "execution_count": 105,
      "outputs": [
        {
          "output_type": "stream",
          "text": [
            "Train_Data : \n",
            " 0    99.827451\n",
            "1     0.172549\n",
            "Name: Class, dtype: float64\n",
            "Test_Data : \n",
            " 0    99.826785\n",
            "1     0.173215\n",
            "Name: Class, dtype: float64\n"
          ],
          "name": "stdout"
        }
      ]
    },
    {
      "cell_type": "code",
      "metadata": {
        "id": "dZEjOPRQj5t8"
      },
      "source": [
        "#Define : 모델 신경망 구조 정의\r\n",
        "\r\n",
        "Model_FD = models.Sequential()\r\n",
        "\r\n",
        "Model_FD.add(layers.Dense(128, activation = 'relu', input_shape = (29,)))\r\n",
        "Model_FD.add(layers.Dense(64, activation = 'relu'))\r\n",
        "Model_FD.add(layers.Dense(32, activation = 'relu'))\r\n",
        "Model_FD.add(layers.Dense(1, activation = 'sigmoid')) # 이진분류"
      ],
      "execution_count": 110,
      "outputs": []
    },
    {
      "cell_type": "code",
      "metadata": {
        "colab": {
          "base_uri": "https://localhost:8080/"
        },
        "id": "FICD6OANlNrg",
        "outputId": "4a0224f6-5e0c-4423-d39e-48a769d89080"
      },
      "source": [
        "#확인\r\n",
        "Model_FD.summary()"
      ],
      "execution_count": 111,
      "outputs": [
        {
          "output_type": "stream",
          "text": [
            "Model: \"sequential_10\"\n",
            "_________________________________________________________________\n",
            "Layer (type)                 Output Shape              Param #   \n",
            "=================================================================\n",
            "dense_34 (Dense)             (None, 128)               3840      \n",
            "_________________________________________________________________\n",
            "dense_35 (Dense)             (None, 64)                8256      \n",
            "_________________________________________________________________\n",
            "dense_36 (Dense)             (None, 32)                2080      \n",
            "_________________________________________________________________\n",
            "dense_37 (Dense)             (None, 1)                 33        \n",
            "=================================================================\n",
            "Total params: 14,209\n",
            "Trainable params: 14,209\n",
            "Non-trainable params: 0\n",
            "_________________________________________________________________\n"
          ],
          "name": "stdout"
        }
      ]
    },
    {
      "cell_type": "code",
      "metadata": {
        "id": "mTbk0jw0lQiJ"
      },
      "source": [
        "#Compile : 학습방법 설정\r\n",
        "Model_FD.compile(loss = 'binary_crossentropy',\r\n",
        "                   optimizer = 'adam',\r\n",
        "                   metrics = ['Recall'])"
      ],
      "execution_count": 112,
      "outputs": []
    },
    {
      "cell_type": "code",
      "metadata": {
        "colab": {
          "base_uri": "https://localhost:8080/"
        },
        "id": "Fm0g_hOOljv9",
        "outputId": "283e8868-f702-4433-b28f-608c10249240"
      },
      "source": [
        "#Fit : 모델 학습 수행\r\n",
        "History_FD = Model_FD.fit(X_train, y_train,\r\n",
        "                          epochs = 100, #빠른 테스트를 위해 횟수는 적게 잡았다\r\n",
        "                          batch_size = 1024,\r\n",
        "                          validation_data = (X_test, y_test))"
      ],
      "execution_count": 131,
      "outputs": [
        {
          "output_type": "stream",
          "text": [
            "Epoch 1/100\n",
            "195/195 [==============================] - 1s 7ms/step - loss: 0.0026 - recall: 0.8605 - val_loss: 0.0037 - val_recall: 0.8243\n",
            "Epoch 2/100\n",
            "195/195 [==============================] - 1s 6ms/step - loss: 0.0020 - recall: 0.8576 - val_loss: 0.0037 - val_recall: 0.8378\n",
            "Epoch 3/100\n",
            "195/195 [==============================] - 1s 6ms/step - loss: 0.0027 - recall: 0.8576 - val_loss: 0.0038 - val_recall: 0.8378\n",
            "Epoch 4/100\n",
            "195/195 [==============================] - 1s 6ms/step - loss: 0.0019 - recall: 0.8779 - val_loss: 0.0036 - val_recall: 0.8108\n",
            "Epoch 5/100\n",
            "195/195 [==============================] - 1s 6ms/step - loss: 0.0016 - recall: 0.8808 - val_loss: 0.0036 - val_recall: 0.7568\n",
            "Epoch 6/100\n",
            "195/195 [==============================] - 1s 6ms/step - loss: 0.0018 - recall: 0.8605 - val_loss: 0.0035 - val_recall: 0.8514\n",
            "Epoch 7/100\n",
            "195/195 [==============================] - 1s 6ms/step - loss: 0.0016 - recall: 0.8721 - val_loss: 0.0036 - val_recall: 0.8243\n",
            "Epoch 8/100\n",
            "195/195 [==============================] - 1s 6ms/step - loss: 0.0020 - recall: 0.8517 - val_loss: 0.0037 - val_recall: 0.8649\n",
            "Epoch 9/100\n",
            "195/195 [==============================] - 1s 6ms/step - loss: 0.0016 - recall: 0.8721 - val_loss: 0.0033 - val_recall: 0.7973\n",
            "Epoch 10/100\n",
            "195/195 [==============================] - 1s 6ms/step - loss: 0.0028 - recall: 0.8634 - val_loss: 0.0038 - val_recall: 0.8581\n",
            "Epoch 11/100\n",
            "195/195 [==============================] - 1s 6ms/step - loss: 0.0018 - recall: 0.8779 - val_loss: 0.0037 - val_recall: 0.7973\n",
            "Epoch 12/100\n",
            "195/195 [==============================] - 1s 6ms/step - loss: 0.0017 - recall: 0.8779 - val_loss: 0.0037 - val_recall: 0.7838\n",
            "Epoch 13/100\n",
            "195/195 [==============================] - 1s 6ms/step - loss: 0.0017 - recall: 0.8634 - val_loss: 0.0059 - val_recall: 0.7973\n",
            "Epoch 14/100\n",
            "195/195 [==============================] - 1s 6ms/step - loss: 0.0016 - recall: 0.8866 - val_loss: 0.0037 - val_recall: 0.8716\n",
            "Epoch 15/100\n",
            "195/195 [==============================] - 1s 6ms/step - loss: 0.0013 - recall: 0.8866 - val_loss: 0.0036 - val_recall: 0.8514\n",
            "Epoch 16/100\n",
            "195/195 [==============================] - 1s 6ms/step - loss: 0.0016 - recall: 0.8750 - val_loss: 0.0044 - val_recall: 0.8851\n",
            "Epoch 17/100\n",
            "195/195 [==============================] - 1s 6ms/step - loss: 0.0016 - recall: 0.8750 - val_loss: 0.0044 - val_recall: 0.8716\n",
            "Epoch 18/100\n",
            "195/195 [==============================] - 1s 6ms/step - loss: 0.0015 - recall: 0.8837 - val_loss: 0.0039 - val_recall: 0.8581\n",
            "Epoch 19/100\n",
            "195/195 [==============================] - 1s 6ms/step - loss: 0.0022 - recall: 0.8721 - val_loss: 0.0042 - val_recall: 0.8784\n",
            "Epoch 20/100\n",
            "195/195 [==============================] - 1s 6ms/step - loss: 0.0015 - recall: 0.8808 - val_loss: 0.0041 - val_recall: 0.8514\n",
            "Epoch 21/100\n",
            "195/195 [==============================] - 1s 6ms/step - loss: 0.0015 - recall: 0.8692 - val_loss: 0.0043 - val_recall: 0.7703\n",
            "Epoch 22/100\n",
            "195/195 [==============================] - 1s 6ms/step - loss: 0.0016 - recall: 0.8779 - val_loss: 0.0040 - val_recall: 0.8378\n",
            "Epoch 23/100\n",
            "195/195 [==============================] - 1s 6ms/step - loss: 0.0012 - recall: 0.8924 - val_loss: 0.0046 - val_recall: 0.8581\n",
            "Epoch 24/100\n",
            "195/195 [==============================] - 1s 6ms/step - loss: 0.0015 - recall: 0.8808 - val_loss: 0.0043 - val_recall: 0.8446\n",
            "Epoch 25/100\n",
            "195/195 [==============================] - 1s 6ms/step - loss: 0.0013 - recall: 0.8750 - val_loss: 0.0045 - val_recall: 0.8446\n",
            "Epoch 26/100\n",
            "195/195 [==============================] - 1s 6ms/step - loss: 0.0019 - recall: 0.8808 - val_loss: 0.0048 - val_recall: 0.7905\n",
            "Epoch 27/100\n",
            "195/195 [==============================] - 1s 6ms/step - loss: 0.0014 - recall: 0.8634 - val_loss: 0.0046 - val_recall: 0.8176\n",
            "Epoch 28/100\n",
            "195/195 [==============================] - 1s 6ms/step - loss: 0.0019 - recall: 0.8924 - val_loss: 0.0046 - val_recall: 0.8784\n",
            "Epoch 29/100\n",
            "195/195 [==============================] - 1s 6ms/step - loss: 0.0036 - recall: 0.8576 - val_loss: 0.0045 - val_recall: 0.8243\n",
            "Epoch 30/100\n",
            "195/195 [==============================] - 1s 6ms/step - loss: 0.0019 - recall: 0.8721 - val_loss: 0.0045 - val_recall: 0.8581\n",
            "Epoch 31/100\n",
            "195/195 [==============================] - 1s 6ms/step - loss: 0.0016 - recall: 0.8779 - val_loss: 0.0045 - val_recall: 0.8311\n",
            "Epoch 32/100\n",
            "195/195 [==============================] - 1s 6ms/step - loss: 0.0015 - recall: 0.8866 - val_loss: 0.0043 - val_recall: 0.8378\n",
            "Epoch 33/100\n",
            "195/195 [==============================] - 1s 6ms/step - loss: 0.0014 - recall: 0.8837 - val_loss: 0.0049 - val_recall: 0.8851\n",
            "Epoch 34/100\n",
            "195/195 [==============================] - 1s 6ms/step - loss: 0.0014 - recall: 0.8924 - val_loss: 0.0045 - val_recall: 0.8649\n",
            "Epoch 35/100\n",
            "195/195 [==============================] - 1s 6ms/step - loss: 0.0014 - recall: 0.8895 - val_loss: 0.0046 - val_recall: 0.8649\n",
            "Epoch 36/100\n",
            "195/195 [==============================] - 1s 6ms/step - loss: 0.0013 - recall: 0.8953 - val_loss: 0.0046 - val_recall: 0.8446\n",
            "Epoch 37/100\n",
            "195/195 [==============================] - 1s 6ms/step - loss: 0.0012 - recall: 0.8895 - val_loss: 0.0045 - val_recall: 0.8649\n",
            "Epoch 38/100\n",
            "195/195 [==============================] - 1s 6ms/step - loss: 0.0012 - recall: 0.8953 - val_loss: 0.0045 - val_recall: 0.8514\n",
            "Epoch 39/100\n",
            "195/195 [==============================] - 1s 6ms/step - loss: 0.0012 - recall: 0.8808 - val_loss: 0.0045 - val_recall: 0.8176\n",
            "Epoch 40/100\n",
            "195/195 [==============================] - 1s 6ms/step - loss: 0.0011 - recall: 0.8866 - val_loss: 0.0048 - val_recall: 0.8649\n",
            "Epoch 41/100\n",
            "195/195 [==============================] - 1s 6ms/step - loss: 0.0021 - recall: 0.8837 - val_loss: 0.0051 - val_recall: 0.8041\n",
            "Epoch 42/100\n",
            "195/195 [==============================] - 1s 6ms/step - loss: 0.0014 - recall: 0.8866 - val_loss: 0.0050 - val_recall: 0.8581\n",
            "Epoch 43/100\n",
            "195/195 [==============================] - 1s 6ms/step - loss: 0.0011 - recall: 0.8953 - val_loss: 0.0050 - val_recall: 0.8581\n",
            "Epoch 44/100\n",
            "195/195 [==============================] - 1s 6ms/step - loss: 0.0012 - recall: 0.8924 - val_loss: 0.0050 - val_recall: 0.8581\n",
            "Epoch 45/100\n",
            "195/195 [==============================] - 1s 6ms/step - loss: 0.0012 - recall: 0.8895 - val_loss: 0.0048 - val_recall: 0.8514\n",
            "Epoch 46/100\n",
            "195/195 [==============================] - 1s 6ms/step - loss: 0.0011 - recall: 0.9099 - val_loss: 0.0049 - val_recall: 0.8581\n",
            "Epoch 47/100\n",
            "195/195 [==============================] - 1s 6ms/step - loss: 0.0012 - recall: 0.9041 - val_loss: 0.0051 - val_recall: 0.8311\n",
            "Epoch 48/100\n",
            "195/195 [==============================] - 1s 6ms/step - loss: 0.0011 - recall: 0.9012 - val_loss: 0.0052 - val_recall: 0.8108\n",
            "Epoch 49/100\n",
            "195/195 [==============================] - 1s 6ms/step - loss: 0.0011 - recall: 0.8924 - val_loss: 0.0052 - val_recall: 0.7905\n",
            "Epoch 50/100\n",
            "195/195 [==============================] - 1s 6ms/step - loss: 0.0011 - recall: 0.9012 - val_loss: 0.0053 - val_recall: 0.8446\n",
            "Epoch 51/100\n",
            "195/195 [==============================] - 1s 6ms/step - loss: 0.0010 - recall: 0.9041 - val_loss: 0.0051 - val_recall: 0.8446\n",
            "Epoch 52/100\n",
            "195/195 [==============================] - 1s 6ms/step - loss: 0.0012 - recall: 0.8983 - val_loss: 0.0051 - val_recall: 0.8311\n",
            "Epoch 53/100\n",
            "195/195 [==============================] - 1s 6ms/step - loss: 0.0011 - recall: 0.9070 - val_loss: 0.0053 - val_recall: 0.8176\n",
            "Epoch 54/100\n",
            "195/195 [==============================] - 1s 6ms/step - loss: 0.0011 - recall: 0.9012 - val_loss: 0.0057 - val_recall: 0.8176\n",
            "Epoch 55/100\n",
            "195/195 [==============================] - 1s 6ms/step - loss: 0.0011 - recall: 0.9012 - val_loss: 0.0054 - val_recall: 0.8311\n",
            "Epoch 56/100\n",
            "195/195 [==============================] - 1s 6ms/step - loss: 0.0010 - recall: 0.9012 - val_loss: 0.0055 - val_recall: 0.8446\n",
            "Epoch 57/100\n",
            "195/195 [==============================] - 1s 6ms/step - loss: 0.0010 - recall: 0.9157 - val_loss: 0.0060 - val_recall: 0.8176\n",
            "Epoch 58/100\n",
            "195/195 [==============================] - 1s 6ms/step - loss: 0.0010 - recall: 0.8953 - val_loss: 0.0057 - val_recall: 0.8446\n",
            "Epoch 59/100\n",
            "195/195 [==============================] - 1s 6ms/step - loss: 0.0012 - recall: 0.8953 - val_loss: 0.0053 - val_recall: 0.8378\n",
            "Epoch 60/100\n",
            "195/195 [==============================] - 1s 6ms/step - loss: 0.0011 - recall: 0.9041 - val_loss: 0.0054 - val_recall: 0.8581\n",
            "Epoch 61/100\n",
            "195/195 [==============================] - 1s 6ms/step - loss: 9.3821e-04 - recall: 0.9070 - val_loss: 0.0056 - val_recall: 0.8716\n",
            "Epoch 62/100\n",
            "195/195 [==============================] - 1s 6ms/step - loss: 0.0011 - recall: 0.9041 - val_loss: 0.0058 - val_recall: 0.8716\n",
            "Epoch 63/100\n",
            "195/195 [==============================] - 1s 6ms/step - loss: 0.0015 - recall: 0.8808 - val_loss: 0.0048 - val_recall: 0.8446\n",
            "Epoch 64/100\n",
            "195/195 [==============================] - 1s 6ms/step - loss: 0.0010 - recall: 0.9012 - val_loss: 0.0053 - val_recall: 0.8108\n",
            "Epoch 65/100\n",
            "195/195 [==============================] - 1s 6ms/step - loss: 0.0011 - recall: 0.9128 - val_loss: 0.0051 - val_recall: 0.8108\n",
            "Epoch 66/100\n",
            "195/195 [==============================] - 1s 6ms/step - loss: 0.0011 - recall: 0.9012 - val_loss: 0.0049 - val_recall: 0.8581\n",
            "Epoch 67/100\n",
            "195/195 [==============================] - 1s 6ms/step - loss: 0.0011 - recall: 0.9012 - val_loss: 0.0050 - val_recall: 0.8514\n",
            "Epoch 68/100\n",
            "195/195 [==============================] - 1s 6ms/step - loss: 0.0010 - recall: 0.9128 - val_loss: 0.0051 - val_recall: 0.8311\n",
            "Epoch 69/100\n",
            "195/195 [==============================] - 1s 6ms/step - loss: 9.5379e-04 - recall: 0.9070 - val_loss: 0.0052 - val_recall: 0.8716\n",
            "Epoch 70/100\n",
            "195/195 [==============================] - 1s 6ms/step - loss: 8.6859e-04 - recall: 0.9157 - val_loss: 0.0056 - val_recall: 0.8108\n",
            "Epoch 71/100\n",
            "195/195 [==============================] - 1s 6ms/step - loss: 0.0012 - recall: 0.8983 - val_loss: 0.0056 - val_recall: 0.8243\n",
            "Epoch 72/100\n",
            "195/195 [==============================] - 1s 6ms/step - loss: 9.2337e-04 - recall: 0.9012 - val_loss: 0.0052 - val_recall: 0.8108\n",
            "Epoch 73/100\n",
            "195/195 [==============================] - 1s 6ms/step - loss: 8.6103e-04 - recall: 0.9128 - val_loss: 0.0056 - val_recall: 0.8378\n",
            "Epoch 74/100\n",
            "195/195 [==============================] - 1s 6ms/step - loss: 9.7727e-04 - recall: 0.9099 - val_loss: 0.0054 - val_recall: 0.8514\n",
            "Epoch 75/100\n",
            "195/195 [==============================] - 1s 6ms/step - loss: 0.0010 - recall: 0.9099 - val_loss: 0.0058 - val_recall: 0.7838\n",
            "Epoch 76/100\n",
            "195/195 [==============================] - 1s 6ms/step - loss: 9.3812e-04 - recall: 0.9157 - val_loss: 0.0061 - val_recall: 0.8514\n",
            "Epoch 77/100\n",
            "195/195 [==============================] - 1s 6ms/step - loss: 9.6743e-04 - recall: 0.9070 - val_loss: 0.0059 - val_recall: 0.8243\n",
            "Epoch 78/100\n",
            "195/195 [==============================] - 1s 6ms/step - loss: 0.0010 - recall: 0.9012 - val_loss: 0.0056 - val_recall: 0.8378\n",
            "Epoch 79/100\n",
            "195/195 [==============================] - 1s 6ms/step - loss: 9.2990e-04 - recall: 0.9157 - val_loss: 0.0057 - val_recall: 0.8176\n",
            "Epoch 80/100\n",
            "195/195 [==============================] - 1s 6ms/step - loss: 9.0278e-04 - recall: 0.9041 - val_loss: 0.0058 - val_recall: 0.8514\n",
            "Epoch 81/100\n",
            "195/195 [==============================] - 1s 6ms/step - loss: 0.0021 - recall: 0.8576 - val_loss: 0.0053 - val_recall: 0.8311\n",
            "Epoch 82/100\n",
            "195/195 [==============================] - 1s 6ms/step - loss: 0.0016 - recall: 0.8634 - val_loss: 0.0048 - val_recall: 0.8514\n",
            "Epoch 83/100\n",
            "195/195 [==============================] - 1s 6ms/step - loss: 0.0012 - recall: 0.9041 - val_loss: 0.0050 - val_recall: 0.8243\n",
            "Epoch 84/100\n",
            "195/195 [==============================] - 1s 6ms/step - loss: 9.3822e-04 - recall: 0.9099 - val_loss: 0.0050 - val_recall: 0.8784\n",
            "Epoch 85/100\n",
            "195/195 [==============================] - 1s 6ms/step - loss: 8.9556e-04 - recall: 0.9099 - val_loss: 0.0055 - val_recall: 0.8581\n",
            "Epoch 86/100\n",
            "195/195 [==============================] - 1s 6ms/step - loss: 9.1543e-04 - recall: 0.9186 - val_loss: 0.0054 - val_recall: 0.8716\n",
            "Epoch 87/100\n",
            "195/195 [==============================] - 1s 6ms/step - loss: 8.5959e-04 - recall: 0.9186 - val_loss: 0.0054 - val_recall: 0.8176\n",
            "Epoch 88/100\n",
            "195/195 [==============================] - 1s 6ms/step - loss: 0.0010 - recall: 0.9128 - val_loss: 0.0053 - val_recall: 0.8378\n",
            "Epoch 89/100\n",
            "195/195 [==============================] - 1s 6ms/step - loss: 9.4103e-04 - recall: 0.9186 - val_loss: 0.0053 - val_recall: 0.8514\n",
            "Epoch 90/100\n",
            "195/195 [==============================] - 1s 6ms/step - loss: 8.0485e-04 - recall: 0.9215 - val_loss: 0.0053 - val_recall: 0.8514\n",
            "Epoch 91/100\n",
            "195/195 [==============================] - 1s 6ms/step - loss: 8.4739e-04 - recall: 0.9157 - val_loss: 0.0055 - val_recall: 0.8514\n",
            "Epoch 92/100\n",
            "195/195 [==============================] - 1s 6ms/step - loss: 9.2724e-04 - recall: 0.9099 - val_loss: 0.0060 - val_recall: 0.8514\n",
            "Epoch 93/100\n",
            "195/195 [==============================] - 1s 6ms/step - loss: 7.9026e-04 - recall: 0.9215 - val_loss: 0.0058 - val_recall: 0.8176\n",
            "Epoch 94/100\n",
            "195/195 [==============================] - 1s 6ms/step - loss: 7.5010e-04 - recall: 0.9244 - val_loss: 0.0063 - val_recall: 0.8581\n",
            "Epoch 95/100\n",
            "195/195 [==============================] - 1s 6ms/step - loss: 8.1361e-04 - recall: 0.9186 - val_loss: 0.0071 - val_recall: 0.7027\n",
            "Epoch 96/100\n",
            "195/195 [==============================] - 1s 6ms/step - loss: 9.5318e-04 - recall: 0.8953 - val_loss: 0.0060 - val_recall: 0.8108\n",
            "Epoch 97/100\n",
            "195/195 [==============================] - 1s 6ms/step - loss: 8.2772e-04 - recall: 0.9099 - val_loss: 0.0067 - val_recall: 0.8041\n",
            "Epoch 98/100\n",
            "195/195 [==============================] - 1s 6ms/step - loss: 8.4245e-04 - recall: 0.9099 - val_loss: 0.0061 - val_recall: 0.8446\n",
            "Epoch 99/100\n",
            "195/195 [==============================] - 1s 6ms/step - loss: 8.5262e-04 - recall: 0.9186 - val_loss: 0.0065 - val_recall: 0.8176\n",
            "Epoch 100/100\n",
            "195/195 [==============================] - 1s 6ms/step - loss: 9.9935e-04 - recall: 0.9128 - val_loss: 0.0061 - val_recall: 0.8176\n"
          ],
          "name": "stdout"
        }
      ]
    },
    {
      "cell_type": "code",
      "metadata": {
        "colab": {
          "base_uri": "https://localhost:8080/",
          "height": 378
        },
        "id": "FeYz-UlNl3Bn",
        "outputId": "4e043fd4-b901-4fa9-f303-b5346068e8bf"
      },
      "source": [
        "#학습결과 시각화\r\n",
        "plt.figure(figsize = (9,6))\r\n",
        "plt.ylim(0, 0.01)\r\n",
        "plt.plot(History_FD.history['loss'])\r\n",
        "plt.plot(History_FD.history['val_loss'])\r\n",
        "plt.legend(['loss','val_loss'])\r\n",
        "plt.grid()\r\n",
        "plt.show()"
      ],
      "execution_count": 135,
      "outputs": [
        {
          "output_type": "display_data",
          "data": {
            "image/png": "[encoded data removed]",
            "text/plain": [
              "<Figure size 648x432 with 1 Axes>"
            ]
          },
          "metadata": {
            "tags": [],
            "needs_background": "light"
          }
        }
      ]
    },
    {
      "cell_type": "code",
      "metadata": {
        "colab": {
          "base_uri": "https://localhost:8080/",
          "height": 378
        },
        "id": "Lb9w9ikhwZnH",
        "outputId": "d2a8e962-d926-4f53-874d-a08faa988a12"
      },
      "source": [
        "plt.figure(figsize = (9,6))\r\n",
        "plt.ylim(0.6, 1.1)\r\n",
        "plt.plot(History_FD.history['recall'])\r\n",
        "plt.plot(History_FD.history['val_recall'])\r\n",
        "plt.legend(['recall','val_recall'])\r\n",
        "plt.grid()\r\n",
        "plt.show()"
      ],
      "execution_count": 137,
      "outputs": [
        {
          "output_type": "display_data",
          "data": {
            "image/png": "[encoded data removed]",
            "text/plain": [
              "<Figure size 648x432 with 1 Axes>"
            ]
          },
          "metadata": {
            "tags": [],
            "needs_background": "light"
          }
        }
      ]
    },
    {
      "cell_type": "code",
      "metadata": {
        "colab": {
          "base_uri": "https://localhost:8080/"
        },
        "id": "7nwVkTkxm4MW",
        "outputId": "0166b6ca-5985-4e99-e459-143347bd8481"
      },
      "source": [
        "# Predict + Validation\r\n",
        "# 확률값 산출\r\n",
        "np.set_printoptions(suppress = True, precision = 5)\r\n",
        "\r\n",
        "Model_FD.predict(X_test)"
      ],
      "execution_count": 138,
      "outputs": [
        {
          "output_type": "execute_result",
          "data": {
            "text/plain": [
              "array([[0.     ],\n",
              "       [0.00007],\n",
              "       [0.     ],\n",
              "       ...,\n",
              "       [0.     ],\n",
              "       [0.     ],\n",
              "       [0.     ]], dtype=float32)"
            ]
          },
          "metadata": {
            "tags": []
          },
          "execution_count": 138
        }
      ]
    },
    {
      "cell_type": "code",
      "metadata": {
        "colab": {
          "base_uri": "https://localhost:8080/"
        },
        "id": "8RHOPSl_zgkW",
        "outputId": "7acc6f0a-2cc4-41d4-df8c-ff9324167f4d"
      },
      "source": [
        "#loss, recall\r\n",
        "loss, recall = Model_FD.evaluate(X_test, y_test)\r\n",
        "\r\n",
        "print('Loss = {:.5f}'.format(loss))\r\n",
        "print('Recall = {:.5f}'.format(recall))"
      ],
      "execution_count": 139,
      "outputs": [
        {
          "output_type": "stream",
          "text": [
            "2671/2671 [==============================] - 3s 999us/step - loss: 0.0061 - recall: 0.8176\n",
            "Loss = 0.00606\n",
            "Recall = 0.81757\n"
          ],
          "name": "stdout"
        }
      ]
    },
    {
      "cell_type": "code",
      "metadata": {
        "colab": {
          "base_uri": "https://localhost:8080/"
        },
        "id": "O48rv9BOnE12",
        "outputId": "251254d9-10de-4f68-b827-fe0c2e6573cc"
      },
      "source": [
        "# y_hat(예측값)\r\n",
        "\r\n",
        "y_hat = Model_FD.predict_classes(X_test)\r\n",
        "\r\n",
        "y_hat"
      ],
      "execution_count": 140,
      "outputs": [
        {
          "output_type": "execute_result",
          "data": {
            "text/plain": [
              "array([[0],\n",
              "       [0],\n",
              "       [0],\n",
              "       ...,\n",
              "       [0],\n",
              "       [0],\n",
              "       [0]], dtype=int32)"
            ]
          },
          "metadata": {
            "tags": []
          },
          "execution_count": 140
        }
      ]
    },
    {
      "cell_type": "code",
      "metadata": {
        "colab": {
          "base_uri": "https://localhost:8080/"
        },
        "id": "xZdpng5Qof3A",
        "outputId": "3c934073-afd2-40ca-b703-64002b5836e8"
      },
      "source": [
        "#confusion matrix \r\n",
        "\r\n",
        "confusion_matrix(y_test, y_hat)"
      ],
      "execution_count": 141,
      "outputs": [
        {
          "output_type": "execute_result",
          "data": {
            "text/plain": [
              "array([[85281,    14],\n",
              "       [   27,   121]])"
            ]
          },
          "metadata": {
            "tags": []
          },
          "execution_count": 141
        }
      ]
    },
    {
      "cell_type": "code",
      "metadata": {
        "colab": {
          "base_uri": "https://localhost:8080/"
        },
        "id": "ActQ6Fhvz_x3",
        "outputId": "b1127ba9-ac56-4bf4-ddd2-c9931f6a63f0"
      },
      "source": [
        "# accyracy, precision, recall\r\n",
        "\r\n",
        "print(accuracy_score(y_test, y_hat))\r\n",
        "print(precision_score(y_test, y_hat, pos_label = 1))\r\n",
        "print(recall_score(y_test, y_hat, pos_label = 1))"
      ],
      "execution_count": 143,
      "outputs": [
        {
          "output_type": "stream",
          "text": [
            "0.9995201479348805\n",
            "0.8962962962962963\n",
            "0.8175675675675675\n"
          ],
          "name": "stdout"
        }
      ]
    },
    {
      "cell_type": "markdown",
      "metadata": {
        "id": "db86hquCxB-a"
      },
      "source": [
        "본 내용은 2021/03/18(목)에 학습한 내용입니다."
      ]
    }
  ]
}
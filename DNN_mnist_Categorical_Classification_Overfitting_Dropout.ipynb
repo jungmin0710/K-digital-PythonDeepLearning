{
  "nbformat": 4,
  "nbformat_minor": 0,
  "metadata": {
    "colab": {
      "name": "DNN_mnist_Categorical_Classification_Overfitting_Dropout.ipynb",
      "provenance": [],
      "authorship_tag": "ABX9TyMx07761OMXM5WUDZ8ttOxN",
      "include_colab_link": true
    },
    "kernelspec": {
      "name": "python3",
      "display_name": "Python 3"
    },
    "language_info": {
      "name": "python"
    },
    "accelerator": "GPU"
  },
  "cells": [
    {
      "cell_type": "markdown",
      "metadata": {
        "id": "view-in-github",
        "colab_type": "text"
      },
      "source": [
        "<a href=\"https://colab.research.google.com/github/jungmin0710/K-digital-PythonDeepLearning/blob/main/DNN_mnist_Categorical_Classification_Overfitting_Dropout.ipynb\" target=\"_parent\"><img src=\"https://colab.research.google.com/assets/colab-badge.svg\" alt=\"Open In Colab\"/></a>"
      ]
    },
    {
      "cell_type": "markdown",
      "metadata": {
        "id": "RPif9R491-aS"
      },
      "source": [
        "# MNIST - Categorical Classification\n",
        "* 다중분류 + Overfitting Issue\n",
        "* Dropout : 훈련과정에서 네트워크의 일부 출력 특성의 연결을 무작위로 제외시키는 방식으로 overfitting해결\n",
        "## 0. Import Tensorflow & Keras"
      ]
    },
    {
      "cell_type": "code",
      "metadata": {
        "id": "ME78yNgL13Xf"
      },
      "source": [
        "import warnings\n",
        "warnings.filterwarnings('ignore')"
      ],
      "execution_count": 1,
      "outputs": []
    },
    {
      "cell_type": "markdown",
      "metadata": {
        "id": "nyQMVSxG2N4G"
      },
      "source": [
        "* import Tensorflow"
      ]
    },
    {
      "cell_type": "code",
      "metadata": {
        "colab": {
          "base_uri": "https://localhost:8080/",
          "height": 35
        },
        "id": "oGRHzs6_2NBb",
        "outputId": "aeb3f06a-fb41-4ae7-8347-fbb2764d725a"
      },
      "source": [
        "import tensorflow as tf\n",
        "\n",
        "tf.__version__ "
      ],
      "execution_count": 2,
      "outputs": [
        {
          "output_type": "execute_result",
          "data": {
            "application/vnd.google.colaboratory.intrinsic+json": {
              "type": "string"
            },
            "text/plain": [
              "'2.4.1'"
            ]
          },
          "metadata": {
            "tags": []
          },
          "execution_count": 2
        }
      ]
    },
    {
      "cell_type": "markdown",
      "metadata": {
        "id": "e72BvXOL2Wok"
      },
      "source": [
        "* GPU 설정 확인"
      ]
    },
    {
      "cell_type": "code",
      "metadata": {
        "colab": {
          "base_uri": "https://localhost:8080/",
          "height": 35
        },
        "id": "UGSRP3Jm2SyN",
        "outputId": "b370e20a-6685-4a9f-c68f-1d3175e7ed3d"
      },
      "source": [
        "tf.test.gpu_device_name()"
      ],
      "execution_count": 3,
      "outputs": [
        {
          "output_type": "execute_result",
          "data": {
            "application/vnd.google.colaboratory.intrinsic+json": {
              "type": "string"
            },
            "text/plain": [
              "'/device:GPU:0'"
            ]
          },
          "metadata": {
            "tags": []
          },
          "execution_count": 3
        }
      ]
    },
    {
      "cell_type": "markdown",
      "metadata": {
        "id": "BpoI5w782i7i"
      },
      "source": [
        "* Import Keras"
      ]
    },
    {
      "cell_type": "code",
      "metadata": {
        "colab": {
          "base_uri": "https://localhost:8080/",
          "height": 35
        },
        "id": "uQqFNB442UlG",
        "outputId": "5aa65f8b-cbae-499a-f5d1-757005c96418"
      },
      "source": [
        "import keras\n",
        "keras.__version__"
      ],
      "execution_count": 4,
      "outputs": [
        {
          "output_type": "execute_result",
          "data": {
            "application/vnd.google.colaboratory.intrinsic+json": {
              "type": "string"
            },
            "text/plain": [
              "'2.4.3'"
            ]
          },
          "metadata": {
            "tags": []
          },
          "execution_count": 4
        }
      ]
    },
    {
      "cell_type": "markdown",
      "metadata": {
        "id": "QpvxqSPf2nbD"
      },
      "source": [
        "## 1.MNIST Data_Set Load & Review\n",
        "### 1)Load MNIST_Data_Set"
      ]
    },
    {
      "cell_type": "code",
      "metadata": {
        "id": "LXQIbNvq2mNw",
        "colab": {
          "base_uri": "https://localhost:8080/"
        },
        "outputId": "ba1ae77f-344c-45d5-968f-782e367c361e"
      },
      "source": [
        "from keras.datasets import mnist\n",
        "\n",
        "(X_train, y_train), (X_test, y_test) = mnist.load_data()"
      ],
      "execution_count": 5,
      "outputs": [
        {
          "output_type": "stream",
          "text": [
            "Downloading data from https://storage.googleapis.com/tensorflow/tf-keras-datasets/mnist.npz\n",
            "11493376/11490434 [==============================] - 0s 0us/step\n"
          ],
          "name": "stdout"
        }
      ]
    },
    {
      "cell_type": "markdown",
      "metadata": {
        "id": "mv1TcvlY3A-C"
      },
      "source": [
        "* Train_Data Information"
      ]
    },
    {
      "cell_type": "code",
      "metadata": {
        "colab": {
          "base_uri": "https://localhost:8080/"
        },
        "id": "x_oe8wva23sh",
        "outputId": "656b1e2b-1ea0-47af-ab70-1221603389f5"
      },
      "source": [
        "print(len(X_train))\n",
        "print(X_train.shape)\n",
        "print(len(y_train))\n",
        "print(y_train[0:5])"
      ],
      "execution_count": 6,
      "outputs": [
        {
          "output_type": "stream",
          "text": [
            "60000\n",
            "(60000, 28, 28)\n",
            "60000\n",
            "[5 0 4 1 9]\n"
          ],
          "name": "stdout"
        }
      ]
    },
    {
      "cell_type": "markdown",
      "metadata": {
        "id": "av1K6Lug3PJ3"
      },
      "source": [
        "* Test_Data Information"
      ]
    },
    {
      "cell_type": "code",
      "metadata": {
        "colab": {
          "base_uri": "https://localhost:8080/"
        },
        "id": "r8dIdUqQ3LpB",
        "outputId": "b2127f0e-014f-42e0-9cb0-7fe946d38a97"
      },
      "source": [
        "print(len(X_test))\n",
        "print(X_test.shape)\n",
        "print(len(y_test))\n",
        "print(y_test[0:5])"
      ],
      "execution_count": 7,
      "outputs": [
        {
          "output_type": "stream",
          "text": [
            "10000\n",
            "(10000, 28, 28)\n",
            "10000\n",
            "[7 2 1 0 4]\n"
          ],
          "name": "stdout"
        }
      ]
    },
    {
      "cell_type": "markdown",
      "metadata": {
        "id": "sHMMSmV53Z5v"
      },
      "source": [
        "### 2)Visualization"
      ]
    },
    {
      "cell_type": "code",
      "metadata": {
        "colab": {
          "base_uri": "https://localhost:8080/",
          "height": 265
        },
        "id": "s_S8W7OC3W5A",
        "outputId": "a03d32e6-4b8e-49aa-b907-d862b4ed5329"
      },
      "source": [
        "import matplotlib.pyplot as plt\n",
        "\n",
        "digit = X_train[4]\n",
        "plt.imshow(digit, cmap = 'gray')\n",
        "plt.show()"
      ],
      "execution_count": 8,
      "outputs": [
        {
          "output_type": "display_data",
          "data": {
            "image/png": "[encoded data removed]",
            "text/plain": [
              "<Figure size 432x288 with 1 Axes>"
            ]
          },
          "metadata": {
            "tags": [],
            "needs_background": "light"
          }
        }
      ]
    },
    {
      "cell_type": "code",
      "metadata": {
        "colab": {
          "base_uri": "https://localhost:8080/"
        },
        "id": "K8POsbvo3hVs",
        "outputId": "ca91fd1f-2a79-40cf-8282-1e402ed6eda0"
      },
      "source": [
        "import numpy as np\n",
        "\n",
        "np.set_printoptions(linewidth = 150)\n",
        "\n",
        "print(X_train[4])"
      ],
      "execution_count": 9,
      "outputs": [
        {
          "output_type": "stream",
          "text": [
            "[[  0   0   0   0   0   0   0   0   0   0   0   0   0   0   0   0   0   0   0   0   0   0   0   0   0   0   0   0]\n",
            " [  0   0   0   0   0   0   0   0   0   0   0   0   0   0   0   0   0   0   0   0   0   0   0   0   0   0   0   0]\n",
            " [  0   0   0   0   0   0   0   0   0   0   0   0   0   0   0   0   0   0   0   0   0   0   0   0   0   0   0   0]\n",
            " [  0   0   0   0   0   0   0   0   0   0   0   0   0   0   0   0   0   0   0   0   0   0   0   0   0   0   0   0]\n",
            " [  0   0   0   0   0   0   0   0   0   0   0   0   0   0   0   0   0   0   0   0   0   0   0   0   0   0   0   0]\n",
            " [  0   0   0   0   0   0   0   0   0   0   0   0   0   0   0   0   0   0   0   0   0   0   0   0   0   0   0   0]\n",
            " [  0   0   0   0   0   0   0   0   0   0   0   0   0   0   0   0   0   0   0   0   0   0   0   0   0   0   0   0]\n",
            " [  0   0   0   0   0   0   0   0   0   0   0   0  55 148 210 253 253 113  87 148  55   0   0   0   0   0   0   0]\n",
            " [  0   0   0   0   0   0   0   0   0   0   0  87 232 252 253 189 210 252 252 253 168   0   0   0   0   0   0   0]\n",
            " [  0   0   0   0   0   0   0   0   0   4  57 242 252 190  65   5  12 182 252 253 116   0   0   0   0   0   0   0]\n",
            " [  0   0   0   0   0   0   0   0   0  96 252 252 183  14   0   0  92 252 252 225  21   0   0   0   0   0   0   0]\n",
            " [  0   0   0   0   0   0   0   0 132 253 252 146  14   0   0   0 215 252 252  79   0   0   0   0   0   0   0   0]\n",
            " [  0   0   0   0   0   0   0 126 253 247 176   9   0   0   8  78 245 253 129   0   0   0   0   0   0   0   0   0]\n",
            " [  0   0   0   0   0   0  16 232 252 176   0   0   0  36 201 252 252 169  11   0   0   0   0   0   0   0   0   0]\n",
            " [  0   0   0   0   0   0  22 252 252  30  22 119 197 241 253 252 251  77   0   0   0   0   0   0   0   0   0   0]\n",
            " [  0   0   0   0   0   0  16 231 252 253 252 252 252 226 227 252 231   0   0   0   0   0   0   0   0   0   0   0]\n",
            " [  0   0   0   0   0   0   0  55 235 253 217 138  42  24 192 252 143   0   0   0   0   0   0   0   0   0   0   0]\n",
            " [  0   0   0   0   0   0   0   0   0   0   0   0   0  62 255 253 109   0   0   0   0   0   0   0   0   0   0   0]\n",
            " [  0   0   0   0   0   0   0   0   0   0   0   0   0  71 253 252  21   0   0   0   0   0   0   0   0   0   0   0]\n",
            " [  0   0   0   0   0   0   0   0   0   0   0   0   0   0 253 252  21   0   0   0   0   0   0   0   0   0   0   0]\n",
            " [  0   0   0   0   0   0   0   0   0   0   0   0   0  71 253 252  21   0   0   0   0   0   0   0   0   0   0   0]\n",
            " [  0   0   0   0   0   0   0   0   0   0   0   0   0 106 253 252  21   0   0   0   0   0   0   0   0   0   0   0]\n",
            " [  0   0   0   0   0   0   0   0   0   0   0   0   0  45 255 253  21   0   0   0   0   0   0   0   0   0   0   0]\n",
            " [  0   0   0   0   0   0   0   0   0   0   0   0   0   0 218 252  56   0   0   0   0   0   0   0   0   0   0   0]\n",
            " [  0   0   0   0   0   0   0   0   0   0   0   0   0   0  96 252 189  42   0   0   0   0   0   0   0   0   0   0]\n",
            " [  0   0   0   0   0   0   0   0   0   0   0   0   0   0  14 184 252 170  11   0   0   0   0   0   0   0   0   0]\n",
            " [  0   0   0   0   0   0   0   0   0   0   0   0   0   0   0  14 147 252  42   0   0   0   0   0   0   0   0   0]\n",
            " [  0   0   0   0   0   0   0   0   0   0   0   0   0   0   0   0   0   0   0   0   0   0   0   0   0   0   0   0]]\n"
          ],
          "name": "stdout"
        }
      ]
    },
    {
      "cell_type": "markdown",
      "metadata": {
        "id": "NVhIEgT831Ah"
      },
      "source": [
        "## 2.Data Preprocessing\n",
        "### 1)Reshape and Normalization\n",
        "* reshape\n",
        "  * (60000, 28, 28) to (60000, 784)"
      ]
    },
    {
      "cell_type": "code",
      "metadata": {
        "colab": {
          "base_uri": "https://localhost:8080/"
        },
        "id": "iRSjQn9t3yeo",
        "outputId": "ce06bbf1-7b70-4108-903f-8988d50f9582"
      },
      "source": [
        "#한줄로 쭉 펴준다\n",
        "X_train = X_train.reshape((60000, 28 * 28))\n",
        "X_test = X_test.reshape((10000, 28 * 28))\n",
        "\n",
        "X_train.shape, X_test.shape"
      ],
      "execution_count": 10,
      "outputs": [
        {
          "output_type": "execute_result",
          "data": {
            "text/plain": [
              "((60000, 784), (10000, 784))"
            ]
          },
          "metadata": {
            "tags": []
          },
          "execution_count": 10
        }
      ]
    },
    {
      "cell_type": "markdown",
      "metadata": {
        "id": "5fJTF8b64WDg"
      },
      "source": [
        "* Normalization"
      ]
    },
    {
      "cell_type": "code",
      "metadata": {
        "colab": {
          "base_uri": "https://localhost:8080/"
        },
        "id": "bFERRefZ4PG7",
        "outputId": "2da8ec64-f47e-4686-a95e-d1ec5612688a"
      },
      "source": [
        "X_train = X_train.astype(float) / 255\n",
        "X_test = X_test.astype(float) / 255\n",
        "\n",
        "print(X_train[4])"
      ],
      "execution_count": 11,
      "outputs": [
        {
          "output_type": "stream",
          "text": [
            "[0.         0.         0.         0.         0.         0.         0.         0.         0.         0.         0.         0.         0.\n",
            " 0.         0.         0.         0.         0.         0.         0.         0.         0.         0.         0.         0.         0.\n",
            " 0.         0.         0.         0.         0.         0.         0.         0.         0.         0.         0.         0.         0.\n",
            " 0.         0.         0.         0.         0.         0.         0.         0.         0.         0.         0.         0.         0.\n",
            " 0.         0.         0.         0.         0.         0.         0.         0.         0.         0.         0.         0.         0.\n",
            " 0.         0.         0.         0.         0.         0.         0.         0.         0.         0.         0.         0.         0.\n",
            " 0.         0.         0.         0.         0.         0.         0.         0.         0.         0.         0.         0.         0.\n",
            " 0.         0.         0.         0.         0.         0.         0.         0.         0.         0.         0.         0.         0.\n",
            " 0.         0.         0.         0.         0.         0.         0.         0.         0.         0.         0.         0.         0.\n",
            " 0.         0.         0.         0.         0.         0.         0.         0.         0.         0.         0.         0.         0.\n",
            " 0.         0.         0.         0.         0.         0.         0.         0.         0.         0.         0.         0.         0.\n",
            " 0.         0.         0.         0.         0.         0.         0.         0.         0.         0.         0.         0.         0.\n",
            " 0.         0.         0.         0.         0.         0.         0.         0.         0.         0.         0.         0.         0.\n",
            " 0.         0.         0.         0.         0.         0.         0.         0.         0.         0.         0.         0.         0.\n",
            " 0.         0.         0.         0.         0.         0.         0.         0.         0.         0.         0.         0.         0.\n",
            " 0.         0.         0.         0.         0.         0.         0.         0.         0.         0.         0.         0.         0.\n",
            " 0.21568627 0.58039216 0.82352941 0.99215686 0.99215686 0.44313725 0.34117647 0.58039216 0.21568627 0.         0.         0.         0.\n",
            " 0.         0.         0.         0.         0.         0.         0.         0.         0.         0.         0.         0.         0.\n",
            " 0.         0.34117647 0.90980392 0.98823529 0.99215686 0.74117647 0.82352941 0.98823529 0.98823529 0.99215686 0.65882353 0.         0.\n",
            " 0.         0.         0.         0.         0.         0.         0.         0.         0.         0.         0.         0.         0.\n",
            " 0.         0.01568627 0.22352941 0.94901961 0.98823529 0.74509804 0.25490196 0.01960784 0.04705882 0.71372549 0.98823529 0.99215686 0.45490196\n",
            " 0.         0.         0.         0.         0.         0.         0.         0.         0.         0.         0.         0.         0.\n",
            " 0.         0.         0.         0.37647059 0.98823529 0.98823529 0.71764706 0.05490196 0.         0.         0.36078431 0.98823529 0.98823529\n",
            " 0.88235294 0.08235294 0.         0.         0.         0.         0.         0.         0.         0.         0.         0.         0.\n",
            " 0.         0.         0.         0.         0.51764706 0.99215686 0.98823529 0.57254902 0.05490196 0.         0.         0.         0.84313725\n",
            " 0.98823529 0.98823529 0.30980392 0.         0.         0.         0.         0.         0.         0.         0.         0.         0.\n",
            " 0.         0.         0.         0.         0.         0.49411765 0.99215686 0.96862745 0.69019608 0.03529412 0.         0.         0.03137255\n",
            " 0.30588235 0.96078431 0.99215686 0.50588235 0.         0.         0.         0.         0.         0.         0.         0.         0.\n",
            " 0.         0.         0.         0.         0.         0.         0.0627451  0.90980392 0.98823529 0.69019608 0.         0.         0.\n",
            " 0.14117647 0.78823529 0.98823529 0.98823529 0.6627451  0.04313725 0.         0.         0.         0.         0.         0.         0.\n",
            " 0.         0.         0.         0.         0.         0.         0.         0.         0.08627451 0.98823529 0.98823529 0.11764706 0.08627451\n",
            " 0.46666667 0.77254902 0.94509804 0.99215686 0.98823529 0.98431373 0.30196078 0.         0.         0.         0.         0.         0.\n",
            " 0.         0.         0.         0.         0.         0.         0.         0.         0.         0.         0.0627451  0.90588235 0.98823529\n",
            " 0.99215686 0.98823529 0.98823529 0.98823529 0.88627451 0.89019608 0.98823529 0.90588235 0.         0.         0.         0.         0.\n",
            " 0.         0.         0.         0.         0.         0.         0.         0.         0.         0.         0.         0.         0.\n",
            " 0.21568627 0.92156863 0.99215686 0.85098039 0.54117647 0.16470588 0.09411765 0.75294118 0.98823529 0.56078431 0.         0.         0.\n",
            " 0.         0.         0.         0.         0.         0.         0.         0.         0.         0.         0.         0.         0.\n",
            " 0.         0.         0.         0.         0.         0.         0.         0.         0.24313725 1.         0.99215686 0.42745098 0.\n",
            " 0.         0.         0.         0.         0.         0.         0.         0.         0.         0.         0.         0.         0.\n",
            " 0.         0.         0.         0.         0.         0.         0.         0.         0.         0.         0.27843137 0.99215686 0.98823529\n",
            " 0.08235294 0.         0.         0.         0.         0.         0.         0.         0.         0.         0.         0.         0.\n",
            " 0.         0.         0.         0.         0.         0.         0.         0.         0.         0.         0.         0.         0.\n",
            " 0.99215686 0.98823529 0.08235294 0.         0.         0.         0.         0.         0.         0.         0.         0.         0.\n",
            " 0.         0.         0.         0.         0.         0.         0.         0.         0.         0.         0.         0.         0.\n",
            " 0.         0.27843137 0.99215686 0.98823529 0.08235294 0.         0.         0.         0.         0.         0.         0.         0.\n",
            " 0.         0.         0.         0.         0.         0.         0.         0.         0.         0.         0.         0.         0.\n",
            " 0.         0.         0.         0.41568627 0.99215686 0.98823529 0.08235294 0.         0.         0.         0.         0.         0.\n",
            " 0.         0.         0.         0.         0.         0.         0.         0.         0.         0.         0.         0.         0.\n",
            " 0.         0.         0.         0.         0.         0.17647059 1.         0.99215686 0.08235294 0.         0.         0.         0.\n",
            " 0.         0.         0.         0.         0.         0.         0.         0.         0.         0.         0.         0.         0.\n",
            " 0.         0.         0.         0.         0.         0.         0.         0.         0.85490196 0.98823529 0.21960784 0.         0.\n",
            " 0.         0.         0.         0.         0.         0.         0.         0.         0.         0.         0.         0.         0.\n",
            " 0.         0.         0.         0.         0.         0.         0.         0.         0.         0.         0.37647059 0.98823529 0.74117647\n",
            " 0.16470588 0.         0.         0.         0.         0.         0.         0.         0.         0.         0.         0.         0.\n",
            " 0.         0.         0.         0.         0.         0.         0.         0.         0.         0.         0.         0.         0.05490196\n",
            " 0.72156863 0.98823529 0.66666667 0.04313725 0.         0.         0.         0.         0.         0.         0.         0.         0.\n",
            " 0.         0.         0.         0.         0.         0.         0.         0.         0.         0.         0.         0.         0.\n",
            " 0.         0.         0.05490196 0.57647059 0.98823529 0.16470588 0.         0.         0.         0.         0.         0.         0.\n",
            " 0.         0.         0.         0.         0.         0.         0.         0.         0.         0.         0.         0.         0.\n",
            " 0.         0.         0.         0.         0.         0.         0.         0.         0.         0.         0.         0.         0.\n",
            " 0.         0.         0.         0.        ]\n"
          ],
          "name": "stdout"
        }
      ]
    },
    {
      "cell_type": "markdown",
      "metadata": {
        "id": "2smwfSor4jSM"
      },
      "source": [
        "### 2)One Hot Encoding"
      ]
    },
    {
      "cell_type": "code",
      "metadata": {
        "colab": {
          "base_uri": "https://localhost:8080/"
        },
        "id": "7A7rMhl54dlR",
        "outputId": "8d486ae9-3f9d-4fc2-eaef-95ff07017e47"
      },
      "source": [
        "from keras.utils import to_categorical\n",
        "\n",
        "y_train = to_categorical(y_train)\n",
        "y_test = to_categorical(y_test)\n",
        "\n",
        "print(y_train[:5])"
      ],
      "execution_count": 12,
      "outputs": [
        {
          "output_type": "stream",
          "text": [
            "[[0. 0. 0. 0. 0. 1. 0. 0. 0. 0.]\n",
            " [1. 0. 0. 0. 0. 0. 0. 0. 0. 0.]\n",
            " [0. 0. 0. 0. 1. 0. 0. 0. 0. 0.]\n",
            " [0. 1. 0. 0. 0. 0. 0. 0. 0. 0.]\n",
            " [0. 0. 0. 0. 0. 0. 0. 0. 0. 1.]]\n"
          ],
          "name": "stdout"
        }
      ]
    },
    {
      "cell_type": "markdown",
      "metadata": {
        "id": "QmHwT9gn5Gfo"
      },
      "source": [
        "## 3.MNIST Keras Modeling\n",
        "### 1)Model Define\n",
        "* 모델 신경망 구조 정의\n",
        "  * 2개의 Hidden Layers & 768개의 Nodes\n",
        "  * 복잡한 Model Capacity로 인한 Overfitting\n",
        "  * Dropout layer : ()안의 비율만큼 drop한다"
      ]
    },
    {
      "cell_type": "code",
      "metadata": {
        "id": "_kzp48sL4t79"
      },
      "source": [
        "from keras import models\n",
        "from keras import layers\n",
        "\n",
        "mnist = models.Sequential()\n",
        "mnist.add(layers.Dense(512, activation = 'relu', input_shape = (28 * 28,)))\n",
        "mnist.add(layers.Dropout(0.4))\n",
        "mnist.add(layers.Dense(256, activation = 'relu'))\n",
        "mnist.add(layers.Dropout(0.2))\n",
        "mnist.add(layers.Dense(10, activation = 'softmax'))"
      ],
      "execution_count": 13,
      "outputs": []
    },
    {
      "cell_type": "markdown",
      "metadata": {
        "id": "ad2SBreP5zPO"
      },
      "source": [
        "* 모델 구조 확인"
      ]
    },
    {
      "cell_type": "code",
      "metadata": {
        "colab": {
          "base_uri": "https://localhost:8080/"
        },
        "id": "oiQR7i_x5XXd",
        "outputId": "67e26f26-55ee-4ae9-e84d-54abf69742b2"
      },
      "source": [
        "mnist.summary()"
      ],
      "execution_count": 14,
      "outputs": [
        {
          "output_type": "stream",
          "text": [
            "Model: \"sequential\"\n",
            "_________________________________________________________________\n",
            "Layer (type)                 Output Shape              Param #   \n",
            "=================================================================\n",
            "dense (Dense)                (None, 512)               401920    \n",
            "_________________________________________________________________\n",
            "dropout (Dropout)            (None, 512)               0         \n",
            "_________________________________________________________________\n",
            "dense_1 (Dense)              (None, 256)               131328    \n",
            "_________________________________________________________________\n",
            "dropout_1 (Dropout)          (None, 256)               0         \n",
            "_________________________________________________________________\n",
            "dense_2 (Dense)              (None, 10)                2570      \n",
            "=================================================================\n",
            "Total params: 535,818\n",
            "Trainable params: 535,818\n",
            "Non-trainable params: 0\n",
            "_________________________________________________________________\n"
          ],
          "name": "stdout"
        }
      ]
    },
    {
      "cell_type": "markdown",
      "metadata": {
        "id": "t-5xfoRX55L3"
      },
      "source": [
        "### 2)Model Compile\n",
        "* 모델 학습방법 설정"
      ]
    },
    {
      "cell_type": "code",
      "metadata": {
        "id": "TxStfclx51G5"
      },
      "source": [
        "mnist.compile(loss = 'categorical_crossentropy',\n",
        "              optimizer = 'rmsprop',\n",
        "              metrics = ['accuracy'])"
      ],
      "execution_count": 15,
      "outputs": []
    },
    {
      "cell_type": "markdown",
      "metadata": {
        "id": "sb9suqV-6GDN"
      },
      "source": [
        "### 3)Model Fit\n",
        "* 약 3분"
      ]
    },
    {
      "cell_type": "code",
      "metadata": {
        "colab": {
          "base_uri": "https://localhost:8080/"
        },
        "id": "fzzDXAk36E0Y",
        "outputId": "b140dc95-dc49-4359-b079-34a3249839f6"
      },
      "source": [
        "%%time\n",
        "\n",
        "Hist_mnist = mnist.fit(X_train, y_train,\n",
        "                       epochs = 100,\n",
        "                       batch_size = 128,\n",
        "                       validation_split = 0.2)"
      ],
      "execution_count": 16,
      "outputs": [
        {
          "output_type": "stream",
          "text": [
            "Epoch 1/100\n",
            "375/375 [==============================] - 5s 4ms/step - loss: 0.5405 - accuracy: 0.8296 - val_loss: 0.1508 - val_accuracy: 0.9568\n",
            "Epoch 2/100\n",
            "375/375 [==============================] - 1s 3ms/step - loss: 0.1536 - accuracy: 0.9521 - val_loss: 0.1023 - val_accuracy: 0.9691\n",
            "Epoch 3/100\n",
            "375/375 [==============================] - 1s 3ms/step - loss: 0.1083 - accuracy: 0.9669 - val_loss: 0.0885 - val_accuracy: 0.9755\n",
            "Epoch 4/100\n",
            "375/375 [==============================] - 1s 3ms/step - loss: 0.0909 - accuracy: 0.9731 - val_loss: 0.0967 - val_accuracy: 0.9735\n",
            "Epoch 5/100\n",
            "375/375 [==============================] - 1s 3ms/step - loss: 0.0752 - accuracy: 0.9765 - val_loss: 0.0902 - val_accuracy: 0.9758\n",
            "Epoch 6/100\n",
            "375/375 [==============================] - 1s 3ms/step - loss: 0.0645 - accuracy: 0.9803 - val_loss: 0.0949 - val_accuracy: 0.9773\n",
            "Epoch 7/100\n",
            "375/375 [==============================] - 1s 3ms/step - loss: 0.0660 - accuracy: 0.9805 - val_loss: 0.0914 - val_accuracy: 0.9785\n",
            "Epoch 8/100\n",
            "375/375 [==============================] - 1s 3ms/step - loss: 0.0543 - accuracy: 0.9839 - val_loss: 0.0911 - val_accuracy: 0.9772\n",
            "Epoch 9/100\n",
            "375/375 [==============================] - 1s 3ms/step - loss: 0.0553 - accuracy: 0.9838 - val_loss: 0.0974 - val_accuracy: 0.9793\n",
            "Epoch 10/100\n",
            "375/375 [==============================] - 1s 3ms/step - loss: 0.0510 - accuracy: 0.9848 - val_loss: 0.0925 - val_accuracy: 0.9804\n",
            "Epoch 11/100\n",
            "375/375 [==============================] - 1s 3ms/step - loss: 0.0430 - accuracy: 0.9868 - val_loss: 0.0940 - val_accuracy: 0.9812\n",
            "Epoch 12/100\n",
            "375/375 [==============================] - 1s 3ms/step - loss: 0.0387 - accuracy: 0.9874 - val_loss: 0.1018 - val_accuracy: 0.9810\n",
            "Epoch 13/100\n",
            "375/375 [==============================] - 1s 3ms/step - loss: 0.0391 - accuracy: 0.9881 - val_loss: 0.1044 - val_accuracy: 0.9808\n",
            "Epoch 14/100\n",
            "375/375 [==============================] - 1s 3ms/step - loss: 0.0374 - accuracy: 0.9888 - val_loss: 0.1089 - val_accuracy: 0.9797\n",
            "Epoch 15/100\n",
            "375/375 [==============================] - 1s 3ms/step - loss: 0.0346 - accuracy: 0.9897 - val_loss: 0.1043 - val_accuracy: 0.9818\n",
            "Epoch 16/100\n",
            "375/375 [==============================] - 1s 3ms/step - loss: 0.0381 - accuracy: 0.9900 - val_loss: 0.1168 - val_accuracy: 0.9811\n",
            "Epoch 17/100\n",
            "375/375 [==============================] - 1s 3ms/step - loss: 0.0355 - accuracy: 0.9892 - val_loss: 0.1078 - val_accuracy: 0.9813\n",
            "Epoch 18/100\n",
            "375/375 [==============================] - 1s 3ms/step - loss: 0.0320 - accuracy: 0.9906 - val_loss: 0.1173 - val_accuracy: 0.9795\n",
            "Epoch 19/100\n",
            "375/375 [==============================] - 1s 3ms/step - loss: 0.0278 - accuracy: 0.9909 - val_loss: 0.1084 - val_accuracy: 0.9812\n",
            "Epoch 20/100\n",
            "375/375 [==============================] - 1s 3ms/step - loss: 0.0309 - accuracy: 0.9910 - val_loss: 0.1117 - val_accuracy: 0.9820\n",
            "Epoch 21/100\n",
            "375/375 [==============================] - 1s 3ms/step - loss: 0.0346 - accuracy: 0.9908 - val_loss: 0.1272 - val_accuracy: 0.9803\n",
            "Epoch 22/100\n",
            "375/375 [==============================] - 1s 3ms/step - loss: 0.0309 - accuracy: 0.9915 - val_loss: 0.1327 - val_accuracy: 0.9803\n",
            "Epoch 23/100\n",
            "375/375 [==============================] - 1s 3ms/step - loss: 0.0274 - accuracy: 0.9920 - val_loss: 0.1213 - val_accuracy: 0.9824\n",
            "Epoch 24/100\n",
            "375/375 [==============================] - 1s 3ms/step - loss: 0.0261 - accuracy: 0.9921 - val_loss: 0.1255 - val_accuracy: 0.9822\n",
            "Epoch 25/100\n",
            "375/375 [==============================] - 1s 3ms/step - loss: 0.0263 - accuracy: 0.9920 - val_loss: 0.1290 - val_accuracy: 0.9832\n",
            "Epoch 26/100\n",
            "375/375 [==============================] - 1s 3ms/step - loss: 0.0288 - accuracy: 0.9920 - val_loss: 0.1390 - val_accuracy: 0.9793\n",
            "Epoch 27/100\n",
            "375/375 [==============================] - 1s 3ms/step - loss: 0.0302 - accuracy: 0.9924 - val_loss: 0.1341 - val_accuracy: 0.9824\n",
            "Epoch 28/100\n",
            "375/375 [==============================] - 1s 3ms/step - loss: 0.0269 - accuracy: 0.9930 - val_loss: 0.1273 - val_accuracy: 0.9816\n",
            "Epoch 29/100\n",
            "375/375 [==============================] - 1s 3ms/step - loss: 0.0246 - accuracy: 0.9926 - val_loss: 0.1415 - val_accuracy: 0.9814\n",
            "Epoch 30/100\n",
            "375/375 [==============================] - 1s 3ms/step - loss: 0.0248 - accuracy: 0.9933 - val_loss: 0.1465 - val_accuracy: 0.9817\n",
            "Epoch 31/100\n",
            "375/375 [==============================] - 1s 3ms/step - loss: 0.0253 - accuracy: 0.9934 - val_loss: 0.1425 - val_accuracy: 0.9819\n",
            "Epoch 32/100\n",
            "375/375 [==============================] - 1s 3ms/step - loss: 0.0253 - accuracy: 0.9929 - val_loss: 0.1381 - val_accuracy: 0.9818\n",
            "Epoch 33/100\n",
            "375/375 [==============================] - 1s 3ms/step - loss: 0.0243 - accuracy: 0.9935 - val_loss: 0.1430 - val_accuracy: 0.9827\n",
            "Epoch 34/100\n",
            "375/375 [==============================] - 1s 3ms/step - loss: 0.0230 - accuracy: 0.9939 - val_loss: 0.1548 - val_accuracy: 0.9811\n",
            "Epoch 35/100\n",
            "375/375 [==============================] - 1s 3ms/step - loss: 0.0235 - accuracy: 0.9937 - val_loss: 0.1590 - val_accuracy: 0.9816\n",
            "Epoch 36/100\n",
            "375/375 [==============================] - 1s 3ms/step - loss: 0.0197 - accuracy: 0.9945 - val_loss: 0.1646 - val_accuracy: 0.9808\n",
            "Epoch 37/100\n",
            "375/375 [==============================] - 1s 3ms/step - loss: 0.0281 - accuracy: 0.9932 - val_loss: 0.1501 - val_accuracy: 0.9823\n",
            "Epoch 38/100\n",
            "375/375 [==============================] - 1s 3ms/step - loss: 0.0191 - accuracy: 0.9948 - val_loss: 0.1485 - val_accuracy: 0.9827\n",
            "Epoch 39/100\n",
            "375/375 [==============================] - 1s 3ms/step - loss: 0.0213 - accuracy: 0.9945 - val_loss: 0.1616 - val_accuracy: 0.9820\n",
            "Epoch 40/100\n",
            "375/375 [==============================] - 1s 3ms/step - loss: 0.0214 - accuracy: 0.9945 - val_loss: 0.1607 - val_accuracy: 0.9835\n",
            "Epoch 41/100\n",
            "375/375 [==============================] - 1s 3ms/step - loss: 0.0199 - accuracy: 0.9948 - val_loss: 0.1441 - val_accuracy: 0.9840\n",
            "Epoch 42/100\n",
            "375/375 [==============================] - 1s 3ms/step - loss: 0.0194 - accuracy: 0.9951 - val_loss: 0.1711 - val_accuracy: 0.9819\n",
            "Epoch 43/100\n",
            "375/375 [==============================] - 1s 3ms/step - loss: 0.0194 - accuracy: 0.9947 - val_loss: 0.1793 - val_accuracy: 0.9813\n",
            "Epoch 44/100\n",
            "375/375 [==============================] - 1s 3ms/step - loss: 0.0267 - accuracy: 0.9942 - val_loss: 0.1537 - val_accuracy: 0.9827\n",
            "Epoch 45/100\n",
            "375/375 [==============================] - 1s 3ms/step - loss: 0.0197 - accuracy: 0.9950 - val_loss: 0.1683 - val_accuracy: 0.9827\n",
            "Epoch 46/100\n",
            "375/375 [==============================] - 1s 3ms/step - loss: 0.0204 - accuracy: 0.9946 - val_loss: 0.1640 - val_accuracy: 0.9826\n",
            "Epoch 47/100\n",
            "375/375 [==============================] - 1s 3ms/step - loss: 0.0205 - accuracy: 0.9952 - val_loss: 0.1724 - val_accuracy: 0.9819\n",
            "Epoch 48/100\n",
            "375/375 [==============================] - 1s 3ms/step - loss: 0.0173 - accuracy: 0.9961 - val_loss: 0.1737 - val_accuracy: 0.9830\n",
            "Epoch 49/100\n",
            "375/375 [==============================] - 1s 3ms/step - loss: 0.0198 - accuracy: 0.9949 - val_loss: 0.1584 - val_accuracy: 0.9831\n",
            "Epoch 50/100\n",
            "375/375 [==============================] - 1s 3ms/step - loss: 0.0193 - accuracy: 0.9955 - val_loss: 0.1623 - val_accuracy: 0.9817\n",
            "Epoch 51/100\n",
            "375/375 [==============================] - 1s 3ms/step - loss: 0.0192 - accuracy: 0.9954 - val_loss: 0.1663 - val_accuracy: 0.9825\n",
            "Epoch 52/100\n",
            "375/375 [==============================] - 1s 3ms/step - loss: 0.0171 - accuracy: 0.9960 - val_loss: 0.1668 - val_accuracy: 0.9832\n",
            "Epoch 53/100\n",
            "375/375 [==============================] - 1s 3ms/step - loss: 0.0189 - accuracy: 0.9952 - val_loss: 0.1772 - val_accuracy: 0.9827\n",
            "Epoch 54/100\n",
            "375/375 [==============================] - 1s 3ms/step - loss: 0.0170 - accuracy: 0.9955 - val_loss: 0.2017 - val_accuracy: 0.9819\n",
            "Epoch 55/100\n",
            "375/375 [==============================] - 1s 3ms/step - loss: 0.0204 - accuracy: 0.9948 - val_loss: 0.1828 - val_accuracy: 0.9829\n",
            "Epoch 56/100\n",
            "375/375 [==============================] - 1s 3ms/step - loss: 0.0165 - accuracy: 0.9959 - val_loss: 0.1731 - val_accuracy: 0.9834\n",
            "Epoch 57/100\n",
            "375/375 [==============================] - 1s 3ms/step - loss: 0.0180 - accuracy: 0.9957 - val_loss: 0.1846 - val_accuracy: 0.9821\n",
            "Epoch 58/100\n",
            "375/375 [==============================] - 1s 3ms/step - loss: 0.0178 - accuracy: 0.9961 - val_loss: 0.1992 - val_accuracy: 0.9822\n",
            "Epoch 59/100\n",
            "375/375 [==============================] - 1s 3ms/step - loss: 0.0205 - accuracy: 0.9955 - val_loss: 0.1860 - val_accuracy: 0.9828\n",
            "Epoch 60/100\n",
            "375/375 [==============================] - 1s 3ms/step - loss: 0.0179 - accuracy: 0.9959 - val_loss: 0.1810 - val_accuracy: 0.9815\n",
            "Epoch 61/100\n",
            "375/375 [==============================] - 1s 3ms/step - loss: 0.0171 - accuracy: 0.9955 - val_loss: 0.1785 - val_accuracy: 0.9825\n",
            "Epoch 62/100\n",
            "375/375 [==============================] - 1s 3ms/step - loss: 0.0197 - accuracy: 0.9959 - val_loss: 0.1909 - val_accuracy: 0.9826\n",
            "Epoch 63/100\n",
            "375/375 [==============================] - 1s 3ms/step - loss: 0.0182 - accuracy: 0.9956 - val_loss: 0.2143 - val_accuracy: 0.9823\n",
            "Epoch 64/100\n",
            "375/375 [==============================] - 1s 3ms/step - loss: 0.0168 - accuracy: 0.9965 - val_loss: 0.2008 - val_accuracy: 0.9822\n",
            "Epoch 65/100\n",
            "375/375 [==============================] - 1s 3ms/step - loss: 0.0193 - accuracy: 0.9956 - val_loss: 0.1934 - val_accuracy: 0.9822\n",
            "Epoch 66/100\n",
            "375/375 [==============================] - 1s 3ms/step - loss: 0.0185 - accuracy: 0.9958 - val_loss: 0.2054 - val_accuracy: 0.9822\n",
            "Epoch 67/100\n",
            "375/375 [==============================] - 1s 3ms/step - loss: 0.0193 - accuracy: 0.9959 - val_loss: 0.2046 - val_accuracy: 0.9822\n",
            "Epoch 68/100\n",
            "375/375 [==============================] - 1s 3ms/step - loss: 0.0172 - accuracy: 0.9959 - val_loss: 0.1873 - val_accuracy: 0.9824\n",
            "Epoch 69/100\n",
            "375/375 [==============================] - 1s 3ms/step - loss: 0.0173 - accuracy: 0.9961 - val_loss: 0.1954 - val_accuracy: 0.9829\n",
            "Epoch 70/100\n",
            "375/375 [==============================] - 1s 3ms/step - loss: 0.0164 - accuracy: 0.9961 - val_loss: 0.1910 - val_accuracy: 0.9828\n",
            "Epoch 71/100\n",
            "375/375 [==============================] - 1s 3ms/step - loss: 0.0182 - accuracy: 0.9962 - val_loss: 0.1925 - val_accuracy: 0.9832\n",
            "Epoch 72/100\n",
            "375/375 [==============================] - 1s 3ms/step - loss: 0.0161 - accuracy: 0.9962 - val_loss: 0.2040 - val_accuracy: 0.9837\n",
            "Epoch 73/100\n",
            "375/375 [==============================] - 1s 3ms/step - loss: 0.0174 - accuracy: 0.9961 - val_loss: 0.1938 - val_accuracy: 0.9822\n",
            "Epoch 74/100\n",
            "375/375 [==============================] - 1s 3ms/step - loss: 0.0195 - accuracy: 0.9958 - val_loss: 0.1953 - val_accuracy: 0.9822\n",
            "Epoch 75/100\n",
            "375/375 [==============================] - 1s 3ms/step - loss: 0.0168 - accuracy: 0.9965 - val_loss: 0.1949 - val_accuracy: 0.9829\n",
            "Epoch 76/100\n",
            "375/375 [==============================] - 1s 3ms/step - loss: 0.0196 - accuracy: 0.9958 - val_loss: 0.2082 - val_accuracy: 0.9825\n",
            "Epoch 77/100\n",
            "375/375 [==============================] - 1s 3ms/step - loss: 0.0182 - accuracy: 0.9961 - val_loss: 0.2115 - val_accuracy: 0.9827\n",
            "Epoch 78/100\n",
            "375/375 [==============================] - 1s 3ms/step - loss: 0.0144 - accuracy: 0.9962 - val_loss: 0.2166 - val_accuracy: 0.9830\n",
            "Epoch 79/100\n",
            "375/375 [==============================] - 1s 3ms/step - loss: 0.0202 - accuracy: 0.9955 - val_loss: 0.2276 - val_accuracy: 0.9824\n",
            "Epoch 80/100\n",
            "375/375 [==============================] - 1s 3ms/step - loss: 0.0180 - accuracy: 0.9964 - val_loss: 0.2140 - val_accuracy: 0.9833\n",
            "Epoch 81/100\n",
            "375/375 [==============================] - 1s 3ms/step - loss: 0.0166 - accuracy: 0.9958 - val_loss: 0.2071 - val_accuracy: 0.9830\n",
            "Epoch 82/100\n",
            "375/375 [==============================] - 1s 3ms/step - loss: 0.0198 - accuracy: 0.9958 - val_loss: 0.2128 - val_accuracy: 0.9832\n",
            "Epoch 83/100\n",
            "375/375 [==============================] - 1s 3ms/step - loss: 0.0208 - accuracy: 0.9957 - val_loss: 0.2201 - val_accuracy: 0.9833\n",
            "Epoch 84/100\n",
            "375/375 [==============================] - 1s 3ms/step - loss: 0.0160 - accuracy: 0.9962 - val_loss: 0.2029 - val_accuracy: 0.9833\n",
            "Epoch 85/100\n",
            "375/375 [==============================] - 1s 3ms/step - loss: 0.0157 - accuracy: 0.9968 - val_loss: 0.2121 - val_accuracy: 0.9830\n",
            "Epoch 86/100\n",
            "375/375 [==============================] - 1s 3ms/step - loss: 0.0176 - accuracy: 0.9958 - val_loss: 0.1982 - val_accuracy: 0.9846\n",
            "Epoch 87/100\n",
            "375/375 [==============================] - 1s 3ms/step - loss: 0.0102 - accuracy: 0.9975 - val_loss: 0.2099 - val_accuracy: 0.9845\n",
            "Epoch 88/100\n",
            "375/375 [==============================] - 1s 3ms/step - loss: 0.0184 - accuracy: 0.9967 - val_loss: 0.2374 - val_accuracy: 0.9825\n",
            "Epoch 89/100\n",
            "375/375 [==============================] - 1s 3ms/step - loss: 0.0179 - accuracy: 0.9967 - val_loss: 0.2465 - val_accuracy: 0.9820\n",
            "Epoch 90/100\n",
            "375/375 [==============================] - 1s 3ms/step - loss: 0.0183 - accuracy: 0.9962 - val_loss: 0.2362 - val_accuracy: 0.9827\n",
            "Epoch 91/100\n",
            "375/375 [==============================] - 1s 3ms/step - loss: 0.0161 - accuracy: 0.9970 - val_loss: 0.2312 - val_accuracy: 0.9832\n",
            "Epoch 92/100\n",
            "375/375 [==============================] - 1s 3ms/step - loss: 0.0136 - accuracy: 0.9973 - val_loss: 0.2323 - val_accuracy: 0.9825\n",
            "Epoch 93/100\n",
            "375/375 [==============================] - 1s 3ms/step - loss: 0.0140 - accuracy: 0.9973 - val_loss: 0.2357 - val_accuracy: 0.9827\n",
            "Epoch 94/100\n",
            "375/375 [==============================] - 1s 3ms/step - loss: 0.0156 - accuracy: 0.9969 - val_loss: 0.2456 - val_accuracy: 0.9827\n",
            "Epoch 95/100\n",
            "375/375 [==============================] - 1s 3ms/step - loss: 0.0140 - accuracy: 0.9970 - val_loss: 0.2363 - val_accuracy: 0.9830\n",
            "Epoch 96/100\n",
            "375/375 [==============================] - 1s 3ms/step - loss: 0.0156 - accuracy: 0.9963 - val_loss: 0.2347 - val_accuracy: 0.9835\n",
            "Epoch 97/100\n",
            "375/375 [==============================] - 1s 3ms/step - loss: 0.0158 - accuracy: 0.9968 - val_loss: 0.2488 - val_accuracy: 0.9829\n",
            "Epoch 98/100\n",
            "375/375 [==============================] - 1s 3ms/step - loss: 0.0151 - accuracy: 0.9968 - val_loss: 0.2222 - val_accuracy: 0.9834\n",
            "Epoch 99/100\n",
            "375/375 [==============================] - 1s 3ms/step - loss: 0.0160 - accuracy: 0.9964 - val_loss: 0.2425 - val_accuracy: 0.9838\n",
            "Epoch 100/100\n",
            "375/375 [==============================] - 1s 3ms/step - loss: 0.0188 - accuracy: 0.9962 - val_loss: 0.2343 - val_accuracy: 0.9834\n",
            "CPU times: user 2min 10s, sys: 18.6 s, total: 2min 29s\n",
            "Wall time: 2min 1s\n"
          ],
          "name": "stdout"
        }
      ]
    },
    {
      "cell_type": "markdown",
      "metadata": {
        "id": "sQeVm5066Wvc"
      },
      "source": [
        "### 4)학습 결과 시각화 - Overfitting\n",
        "* Loss Visualization"
      ]
    },
    {
      "cell_type": "code",
      "metadata": {
        "colab": {
          "base_uri": "https://localhost:8080/",
          "height": 404
        },
        "id": "Ghu6ioDF6Uzk",
        "outputId": "875dc53d-8a69-4480-c987-275c5fe58006"
      },
      "source": [
        "import matplotlib.pyplot as plt\n",
        "\n",
        "epochs = range(1, len(Hist_mnist.history['loss']) + 1)\n",
        "\n",
        "plt.figure(figsize = (9,6))\n",
        "plt.plot(epochs, Hist_mnist.history['loss'])\n",
        "plt.plot(epochs, Hist_mnist.history['val_loss'])\n",
        "#plt.ylim(0,0.25)\n",
        "plt.title('Training & Validation Loss')\n",
        "plt.xlabel('Epochs')\n",
        "plt.ylabel('Loss')\n",
        "plt.legend(['Training Loss', 'Validation Loss'])\n",
        "plt.grid()\n",
        "plt.show()\n",
        "\n",
        "#기존에 비해 overfitting이 덜 일어났다"
      ],
      "execution_count": 17,
      "outputs": [
        {
          "output_type": "display_data",
          "data": {
            "image/png": "[encoded data removed]",
            "text/plain": [
              "<Figure size 648x432 with 1 Axes>"
            ]
          },
          "metadata": {
            "tags": [],
            "needs_background": "light"
          }
        }
      ]
    },
    {
      "cell_type": "markdown",
      "metadata": {
        "id": "qjfFXGmJ7Fqn"
      },
      "source": [
        "## 5)Model Evaluate\n",
        "* Loss & Accuracy"
      ]
    },
    {
      "cell_type": "code",
      "metadata": {
        "colab": {
          "base_uri": "https://localhost:8080/"
        },
        "id": "bhPMNZgw6-oA",
        "outputId": "278ca509-6ba0-48c0-be3f-be19a7101239"
      },
      "source": [
        "loss, accuracy = mnist.evaluate(X_test, y_test)\n",
        "\n",
        "print('Loss = {:.5f}'.format(loss))\n",
        "print('Accuracy = {:.5f}'.format(accuracy))\n",
        "\n",
        "#기존에 비해 Accuracy는 약간 떨어졌다(성능감소)"
      ],
      "execution_count": 18,
      "outputs": [
        {
          "output_type": "stream",
          "text": [
            "313/313 [==============================] - 1s 2ms/step - loss: 0.2057 - accuracy: 0.9830\n",
            "Loss = 0.20569\n",
            "Accuracy = 0.98300\n"
          ],
          "name": "stdout"
        }
      ]
    },
    {
      "cell_type": "markdown",
      "metadata": {
        "id": "TMoM7ZTU7Zk3"
      },
      "source": [
        "### 6)Model Predict\n",
        "* Probability"
      ]
    },
    {
      "cell_type": "code",
      "metadata": {
        "colab": {
          "base_uri": "https://localhost:8080/"
        },
        "id": "NgWFv2h37W72",
        "outputId": "1dbea579-bd41-442d-b41f-f210360c296f"
      },
      "source": [
        "np.set_printoptions(suppress=True, precision=9)\n",
        "\n",
        "print(mnist.predict(X_test[:1,:]))"
      ],
      "execution_count": 19,
      "outputs": [
        {
          "output_type": "stream",
          "text": [
            "[[0. 0. 0. 0. 0. 0. 0. 1. 0. 0.]]\n"
          ],
          "name": "stdout"
        }
      ]
    },
    {
      "cell_type": "markdown",
      "metadata": {
        "id": "n5BbTnFg7lcj"
      },
      "source": [
        "* Class"
      ]
    },
    {
      "cell_type": "code",
      "metadata": {
        "colab": {
          "base_uri": "https://localhost:8080/"
        },
        "id": "kyhcz2cw7j1E",
        "outputId": "cf9310e3-f7d2-4939-a1ac-2efa64da5ab3"
      },
      "source": [
        "print(mnist.predict_classes(X_test[:1, :]))"
      ],
      "execution_count": 20,
      "outputs": [
        {
          "output_type": "stream",
          "text": [
            "[7]\n"
          ],
          "name": "stdout"
        }
      ]
    },
    {
      "cell_type": "markdown",
      "metadata": {
        "id": "T7MUNWkX7ygw"
      },
      "source": [
        "본 내용은 2021/03/19(금)에 학습한 내용입니다."
      ]
    }
  ]
}
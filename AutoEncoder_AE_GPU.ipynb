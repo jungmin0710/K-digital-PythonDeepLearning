{
  "nbformat": 4,
  "nbformat_minor": 0,
  "metadata": {
    "colab": {
      "name": "AutoEncoder_AE_GPU.ipynb",
      "provenance": [],
      "authorship_tag": "ABX9TyPqYxH1XF5URAhwvGTrK52y",
      "include_colab_link": true
    },
    "kernelspec": {
      "name": "python3",
      "display_name": "Python 3"
    },
    "language_info": {
      "name": "python"
    },
    "accelerator": "GPU"
  },
  "cells": [
    {
      "cell_type": "markdown",
      "metadata": {
        "id": "view-in-github",
        "colab_type": "text"
      },
      "source": [
        "<a href=\"https://colab.research.google.com/github/jungmin0710/K-digital-PythonDeepLearning/blob/main/AutoEncoder_AE_GPU.ipynb\" target=\"_parent\"><img src=\"https://colab.research.google.com/assets/colab-badge.svg\" alt=\"Open In Colab\"/></a>"
      ]
    },
    {
      "cell_type": "markdown",
      "metadata": {
        "id": "2Ube_Xs-nBLs"
      },
      "source": [
        "# AutoEncoder(AE)\n",
        "* 입력 데이터의 차원축소를 통해 의미있는 잠재공간(Latent Space/ Manifold)을 학습\n",
        "  * Encoder 학습을 위해 Decoder를 사용"
      ]
    },
    {
      "cell_type": "code",
      "metadata": {
        "id": "dNgMKYxLm6nO"
      },
      "source": [
        "import warnings\n",
        "warnings.filterwarnings('ignore')"
      ],
      "execution_count": 1,
      "outputs": []
    },
    {
      "cell_type": "markdown",
      "metadata": {
        "id": "hI2q9fZGnR_B"
      },
      "source": [
        "## 1.Load MNIST Dataset"
      ]
    },
    {
      "cell_type": "markdown",
      "metadata": {
        "id": "45kwa7mOnUeR"
      },
      "source": [
        "### 1)X_train and X_test"
      ]
    },
    {
      "cell_type": "code",
      "metadata": {
        "id": "uywv7FEvnRSd"
      },
      "source": [
        "from keras.datasets import mnist\n",
        "\n",
        "#X가 y의 역할을 수행하기 때문에 y를 로드할 필요가 없음\n",
        "(X_train, _), (X_test, _) = mnist.load_data()\n"
      ],
      "execution_count": 2,
      "outputs": []
    },
    {
      "cell_type": "code",
      "metadata": {
        "colab": {
          "base_uri": "https://localhost:8080/"
        },
        "id": "hAKT8biAnYRo",
        "outputId": "27a61e76-21cf-42d7-9f7f-ffabc6e4cf3a"
      },
      "source": [
        "X_train.shape, X_test.shape"
      ],
      "execution_count": 3,
      "outputs": [
        {
          "output_type": "execute_result",
          "data": {
            "text/plain": [
              "((60000, 28, 28), (10000, 28, 28))"
            ]
          },
          "metadata": {
            "tags": []
          },
          "execution_count": 3
        }
      ]
    },
    {
      "cell_type": "markdown",
      "metadata": {
        "id": "KUTHs3h1nqqP"
      },
      "source": [
        "### 2)Normalization and Reshape"
      ]
    },
    {
      "cell_type": "code",
      "metadata": {
        "colab": {
          "base_uri": "https://localhost:8080/"
        },
        "id": "9Kt0_wvqnm04",
        "outputId": "c1e8e12e-ef16-4b15-b24c-4cc1a031487e"
      },
      "source": [
        "X_train = X_train / 255.\n",
        "X_test = X_test / 255.\n",
        "\n",
        "#차원 축소 결과는 1차원으로 나타나야 하기 때문에 한줄로 쭉 펴준다\n",
        "X_train = X_train.reshape(60000, 28 * 28)\n",
        "X_test = X_test.reshape(10000, 28 * 28)\n",
        "\n",
        "X_train.shape, X_test.shape"
      ],
      "execution_count": 4,
      "outputs": [
        {
          "output_type": "execute_result",
          "data": {
            "text/plain": [
              "((60000, 784), (10000, 784))"
            ]
          },
          "metadata": {
            "tags": []
          },
          "execution_count": 4
        }
      ]
    },
    {
      "cell_type": "markdown",
      "metadata": {
        "id": "SKQ093CsoG0M"
      },
      "source": [
        "## 2.Keras Modeling with Functional API"
      ]
    },
    {
      "cell_type": "markdown",
      "metadata": {
        "id": "uwXGSZLdoL3G"
      },
      "source": [
        "### 1)'Latent Space' Size"
      ]
    },
    {
      "cell_type": "code",
      "metadata": {
        "id": "knhInFp4oDc9"
      },
      "source": [
        "encoding_dim = 32"
      ],
      "execution_count": 5,
      "outputs": []
    },
    {
      "cell_type": "markdown",
      "metadata": {
        "id": "ZbpMrnJXoQUK"
      },
      "source": [
        "### 2)Encoder\n",
        "* Input"
      ]
    },
    {
      "cell_type": "code",
      "metadata": {
        "id": "1wIXQItFoPib"
      },
      "source": [
        "from keras import layers\n",
        "\n",
        "#input레이어 설정\n",
        "input_img = layers.Input(shape = (784,))"
      ],
      "execution_count": 6,
      "outputs": []
    },
    {
      "cell_type": "markdown",
      "metadata": {
        "id": "Bdcg3USLogtX"
      },
      "source": [
        "* Encoding Layers and Encoding Model"
      ]
    },
    {
      "cell_type": "code",
      "metadata": {
        "id": "dTv56oWuoZep"
      },
      "source": [
        "#encoding레이어 쌓기\n",
        "encoded = layers.Dense(256, activation = 'elu')(input_img)\n",
        "encoded = layers.Dense(128, activation = 'elu')(encoded)\n",
        "encoded = layers.Dense(encoding_dim, activation = 'elu')(encoded)"
      ],
      "execution_count": 7,
      "outputs": []
    },
    {
      "cell_type": "markdown",
      "metadata": {
        "id": "UDyrgwtdo6Fn"
      },
      "source": [
        "### 3)Decoder\n",
        "* Decoding Layers and Decoding Model"
      ]
    },
    {
      "cell_type": "code",
      "metadata": {
        "id": "fLJtac9qoyEz"
      },
      "source": [
        "#decoding레이어 쌓기\n",
        "decoded = layers.Dense(128, activation = 'elu')(encoded)\n",
        "decoded = layers.Dense(256, activation = 'elu')(decoded)\n",
        "decoded = layers.Dense(784, activation = 'sigmoid')(decoded)"
      ],
      "execution_count": 8,
      "outputs": []
    },
    {
      "cell_type": "markdown",
      "metadata": {
        "id": "CxIA2QOspQtF"
      },
      "source": [
        "## 3.AutoEncoder Model"
      ]
    },
    {
      "cell_type": "markdown",
      "metadata": {
        "id": "zo8NT6ufpUFF"
      },
      "source": [
        "### 1)'autoencoder' Model"
      ]
    },
    {
      "cell_type": "code",
      "metadata": {
        "colab": {
          "base_uri": "https://localhost:8080/"
        },
        "id": "jHfeLk-upM7l",
        "outputId": "4d5a986d-b2e1-4313-e664-edbb2605b33b"
      },
      "source": [
        "from keras import models\n",
        "\n",
        "#1번모델 : 전체 autoencoder모델\n",
        "autoencoder = models.Model(input_img, decoded)\n",
        "\n",
        "autoencoder.summary()"
      ],
      "execution_count": 9,
      "outputs": [
        {
          "output_type": "stream",
          "text": [
            "Model: \"model\"\n",
            "_________________________________________________________________\n",
            "Layer (type)                 Output Shape              Param #   \n",
            "=================================================================\n",
            "input_1 (InputLayer)         [(None, 784)]             0         \n",
            "_________________________________________________________________\n",
            "dense (Dense)                (None, 256)               200960    \n",
            "_________________________________________________________________\n",
            "dense_1 (Dense)              (None, 128)               32896     \n",
            "_________________________________________________________________\n",
            "dense_2 (Dense)              (None, 32)                4128      \n",
            "_________________________________________________________________\n",
            "dense_3 (Dense)              (None, 128)               4224      \n",
            "_________________________________________________________________\n",
            "dense_4 (Dense)              (None, 256)               33024     \n",
            "_________________________________________________________________\n",
            "dense_5 (Dense)              (None, 784)               201488    \n",
            "=================================================================\n",
            "Total params: 476,720\n",
            "Trainable params: 476,720\n",
            "Non-trainable params: 0\n",
            "_________________________________________________________________\n"
          ],
          "name": "stdout"
        }
      ]
    },
    {
      "cell_type": "markdown",
      "metadata": {
        "id": "lhNwo1mXpx5u"
      },
      "source": [
        "### 2)'encoder' Model"
      ]
    },
    {
      "cell_type": "code",
      "metadata": {
        "colab": {
          "base_uri": "https://localhost:8080/"
        },
        "id": "dHpiP38cpfA5",
        "outputId": "338643a3-cb5e-447f-fa7d-947e48192545"
      },
      "source": [
        "#2번 모델 : encoder모델\n",
        "encoder = models.Model(input_img, encoded)\n",
        "\n",
        "encoder.summary()"
      ],
      "execution_count": 10,
      "outputs": [
        {
          "output_type": "stream",
          "text": [
            "Model: \"model_1\"\n",
            "_________________________________________________________________\n",
            "Layer (type)                 Output Shape              Param #   \n",
            "=================================================================\n",
            "input_1 (InputLayer)         [(None, 784)]             0         \n",
            "_________________________________________________________________\n",
            "dense (Dense)                (None, 256)               200960    \n",
            "_________________________________________________________________\n",
            "dense_1 (Dense)              (None, 128)               32896     \n",
            "_________________________________________________________________\n",
            "dense_2 (Dense)              (None, 32)                4128      \n",
            "=================================================================\n",
            "Total params: 237,984\n",
            "Trainable params: 237,984\n",
            "Non-trainable params: 0\n",
            "_________________________________________________________________\n"
          ],
          "name": "stdout"
        }
      ]
    },
    {
      "cell_type": "markdown",
      "metadata": {
        "id": "hCPzynZuqIVS"
      },
      "source": [
        "### 3)'decoder' Model"
      ]
    },
    {
      "cell_type": "code",
      "metadata": {
        "colab": {
          "base_uri": "https://localhost:8080/"
        },
        "id": "epQAvo-1p5gu",
        "outputId": "ce8cbcd6-7bb3-4392-8f40-a6329b382d7c"
      },
      "source": [
        "# 3번 모델 : decoder 모델\n",
        "encoded_input = layers.Input(shape = (encoding_dim,))\n",
        "\n",
        "decoder_layer = autoencoder.layers[-3](encoded_input)\n",
        "decoder_layer = autoencoder.layers[-2](decoder_layer)\n",
        "decoder_layer = autoencoder.layers[-1](decoder_layer)\n",
        "\n",
        "decoder = models.Model(encoded_input, decoder_layer)\n",
        "\n",
        "decoder.summary()"
      ],
      "execution_count": 11,
      "outputs": [
        {
          "output_type": "stream",
          "text": [
            "Model: \"model_2\"\n",
            "_________________________________________________________________\n",
            "Layer (type)                 Output Shape              Param #   \n",
            "=================================================================\n",
            "input_2 (InputLayer)         [(None, 32)]              0         \n",
            "_________________________________________________________________\n",
            "dense_3 (Dense)              (None, 128)               4224      \n",
            "_________________________________________________________________\n",
            "dense_4 (Dense)              (None, 256)               33024     \n",
            "_________________________________________________________________\n",
            "dense_5 (Dense)              (None, 784)               201488    \n",
            "=================================================================\n",
            "Total params: 238,736\n",
            "Trainable params: 238,736\n",
            "Non-trainable params: 0\n",
            "_________________________________________________________________\n"
          ],
          "name": "stdout"
        }
      ]
    },
    {
      "cell_type": "markdown",
      "metadata": {
        "id": "0xVa_akGrEf-"
      },
      "source": [
        "## 4.Model Fit"
      ]
    },
    {
      "cell_type": "markdown",
      "metadata": {
        "id": "JR5R78SCrHAI"
      },
      "source": [
        "### 1)Model Compile"
      ]
    },
    {
      "cell_type": "code",
      "metadata": {
        "id": "dWITjtukqkDh"
      },
      "source": [
        "autoencoder.compile(loss = 'binary_crossentropy',\n",
        "                    optimizer = 'adam')"
      ],
      "execution_count": 12,
      "outputs": []
    },
    {
      "cell_type": "markdown",
      "metadata": {
        "id": "K0SvbV8srRPp"
      },
      "source": [
        "### 2)Model Training"
      ]
    },
    {
      "cell_type": "code",
      "metadata": {
        "colab": {
          "base_uri": "https://localhost:8080/"
        },
        "id": "HGBcMKNgrQbN",
        "outputId": "081b2fb5-4d63-470e-8fc6-59ed1caa3df6"
      },
      "source": [
        "autoencoder.fit(X_train, X_train,\n",
        "                epochs = 50,\n",
        "                batch_size = 256,\n",
        "                validation_data = (X_test, X_test))"
      ],
      "execution_count": 13,
      "outputs": [
        {
          "output_type": "stream",
          "text": [
            "Epoch 1/50\n",
            "235/235 [==============================] - 2s 6ms/step - loss: 0.2809 - val_loss: 0.1386\n",
            "Epoch 2/50\n",
            "235/235 [==============================] - 1s 4ms/step - loss: 0.1326 - val_loss: 0.1155\n",
            "Epoch 3/50\n",
            "235/235 [==============================] - 1s 4ms/step - loss: 0.1142 - val_loss: 0.1066\n",
            "Epoch 4/50\n",
            "235/235 [==============================] - 1s 4ms/step - loss: 0.1066 - val_loss: 0.1022\n",
            "Epoch 5/50\n",
            "235/235 [==============================] - 1s 4ms/step - loss: 0.1020 - val_loss: 0.0989\n",
            "Epoch 6/50\n",
            "235/235 [==============================] - 1s 4ms/step - loss: 0.0995 - val_loss: 0.0969\n",
            "Epoch 7/50\n",
            "235/235 [==============================] - 1s 4ms/step - loss: 0.0970 - val_loss: 0.0951\n",
            "Epoch 8/50\n",
            "235/235 [==============================] - 1s 4ms/step - loss: 0.0954 - val_loss: 0.0936\n",
            "Epoch 9/50\n",
            "235/235 [==============================] - 1s 4ms/step - loss: 0.0938 - val_loss: 0.0919\n",
            "Epoch 10/50\n",
            "235/235 [==============================] - 1s 4ms/step - loss: 0.0925 - val_loss: 0.0907\n",
            "Epoch 11/50\n",
            "235/235 [==============================] - 1s 4ms/step - loss: 0.0914 - val_loss: 0.0898\n",
            "Epoch 12/50\n",
            "235/235 [==============================] - 1s 4ms/step - loss: 0.0903 - val_loss: 0.0891\n",
            "Epoch 13/50\n",
            "235/235 [==============================] - 1s 4ms/step - loss: 0.0892 - val_loss: 0.0880\n",
            "Epoch 14/50\n",
            "235/235 [==============================] - 1s 4ms/step - loss: 0.0881 - val_loss: 0.0874\n",
            "Epoch 15/50\n",
            "235/235 [==============================] - 1s 4ms/step - loss: 0.0871 - val_loss: 0.0862\n",
            "Epoch 16/50\n",
            "235/235 [==============================] - 1s 4ms/step - loss: 0.0865 - val_loss: 0.0857\n",
            "Epoch 17/50\n",
            "235/235 [==============================] - 1s 4ms/step - loss: 0.0858 - val_loss: 0.0849\n",
            "Epoch 18/50\n",
            "235/235 [==============================] - 1s 4ms/step - loss: 0.0855 - val_loss: 0.0845\n",
            "Epoch 19/50\n",
            "235/235 [==============================] - 1s 4ms/step - loss: 0.0847 - val_loss: 0.0839\n",
            "Epoch 20/50\n",
            "235/235 [==============================] - 1s 4ms/step - loss: 0.0843 - val_loss: 0.0835\n",
            "Epoch 21/50\n",
            "235/235 [==============================] - 1s 4ms/step - loss: 0.0839 - val_loss: 0.0831\n",
            "Epoch 22/50\n",
            "235/235 [==============================] - 1s 4ms/step - loss: 0.0831 - val_loss: 0.0828\n",
            "Epoch 23/50\n",
            "235/235 [==============================] - 1s 4ms/step - loss: 0.0828 - val_loss: 0.0823\n",
            "Epoch 24/50\n",
            "235/235 [==============================] - 1s 4ms/step - loss: 0.0826 - val_loss: 0.0822\n",
            "Epoch 25/50\n",
            "235/235 [==============================] - 1s 4ms/step - loss: 0.0822 - val_loss: 0.0819\n",
            "Epoch 26/50\n",
            "235/235 [==============================] - 1s 4ms/step - loss: 0.0817 - val_loss: 0.0814\n",
            "Epoch 27/50\n",
            "235/235 [==============================] - 1s 4ms/step - loss: 0.0813 - val_loss: 0.0808\n",
            "Epoch 28/50\n",
            "235/235 [==============================] - 1s 4ms/step - loss: 0.0809 - val_loss: 0.0806\n",
            "Epoch 29/50\n",
            "235/235 [==============================] - 1s 4ms/step - loss: 0.0806 - val_loss: 0.0805\n",
            "Epoch 30/50\n",
            "235/235 [==============================] - 1s 4ms/step - loss: 0.0804 - val_loss: 0.0801\n",
            "Epoch 31/50\n",
            "235/235 [==============================] - 1s 4ms/step - loss: 0.0801 - val_loss: 0.0799\n",
            "Epoch 32/50\n",
            "235/235 [==============================] - 1s 4ms/step - loss: 0.0799 - val_loss: 0.0796\n",
            "Epoch 33/50\n",
            "235/235 [==============================] - 1s 4ms/step - loss: 0.0796 - val_loss: 0.0795\n",
            "Epoch 34/50\n",
            "235/235 [==============================] - 1s 4ms/step - loss: 0.0794 - val_loss: 0.0794\n",
            "Epoch 35/50\n",
            "235/235 [==============================] - 1s 4ms/step - loss: 0.0792 - val_loss: 0.0793\n",
            "Epoch 36/50\n",
            "235/235 [==============================] - 1s 4ms/step - loss: 0.0791 - val_loss: 0.0790\n",
            "Epoch 37/50\n",
            "235/235 [==============================] - 1s 4ms/step - loss: 0.0790 - val_loss: 0.0791\n",
            "Epoch 38/50\n",
            "235/235 [==============================] - 1s 4ms/step - loss: 0.0787 - val_loss: 0.0787\n",
            "Epoch 39/50\n",
            "235/235 [==============================] - 1s 4ms/step - loss: 0.0786 - val_loss: 0.0789\n",
            "Epoch 40/50\n",
            "235/235 [==============================] - 1s 4ms/step - loss: 0.0786 - val_loss: 0.0787\n",
            "Epoch 41/50\n",
            "235/235 [==============================] - 1s 4ms/step - loss: 0.0784 - val_loss: 0.0786\n",
            "Epoch 42/50\n",
            "235/235 [==============================] - 1s 4ms/step - loss: 0.0785 - val_loss: 0.0784\n",
            "Epoch 43/50\n",
            "235/235 [==============================] - 1s 4ms/step - loss: 0.0783 - val_loss: 0.0783\n",
            "Epoch 44/50\n",
            "235/235 [==============================] - 1s 4ms/step - loss: 0.0779 - val_loss: 0.0784\n",
            "Epoch 45/50\n",
            "235/235 [==============================] - 1s 4ms/step - loss: 0.0780 - val_loss: 0.0784\n",
            "Epoch 46/50\n",
            "235/235 [==============================] - 1s 4ms/step - loss: 0.0779 - val_loss: 0.0783\n",
            "Epoch 47/50\n",
            "235/235 [==============================] - 1s 4ms/step - loss: 0.0780 - val_loss: 0.0780\n",
            "Epoch 48/50\n",
            "235/235 [==============================] - 1s 4ms/step - loss: 0.0776 - val_loss: 0.0780\n",
            "Epoch 49/50\n",
            "235/235 [==============================] - 1s 4ms/step - loss: 0.0775 - val_loss: 0.0780\n",
            "Epoch 50/50\n",
            "235/235 [==============================] - 1s 4ms/step - loss: 0.0775 - val_loss: 0.0777\n"
          ],
          "name": "stdout"
        },
        {
          "output_type": "execute_result",
          "data": {
            "text/plain": [
              "<tensorflow.python.keras.callbacks.History at 0x7f3f8e0c4a10>"
            ]
          },
          "metadata": {
            "tags": []
          },
          "execution_count": 13
        }
      ]
    },
    {
      "cell_type": "markdown",
      "metadata": {
        "id": "IGwbWk_FrlRX"
      },
      "source": [
        "## 5.Model Predict"
      ]
    },
    {
      "cell_type": "markdown",
      "metadata": {
        "id": "DwaLJkUyroYf"
      },
      "source": [
        "### 1)Image Encoding\n",
        "* Create 'Latent Space'"
      ]
    },
    {
      "cell_type": "code",
      "metadata": {
        "colab": {
          "base_uri": "https://localhost:8080/"
        },
        "id": "4X9QbSHHra1O",
        "outputId": "c052ed5d-d96a-4e6d-f7b2-4f927acc4d16"
      },
      "source": [
        "encoded_imgs = encoder.predict(X_test)\n",
        "\n",
        "encoded_imgs.shape"
      ],
      "execution_count": 14,
      "outputs": [
        {
          "output_type": "execute_result",
          "data": {
            "text/plain": [
              "(10000, 32)"
            ]
          },
          "metadata": {
            "tags": []
          },
          "execution_count": 14
        }
      ]
    },
    {
      "cell_type": "markdown",
      "metadata": {
        "id": "AjJlWM1jrzE_"
      },
      "source": [
        "### 2)'Latent Space' Decoding"
      ]
    },
    {
      "cell_type": "code",
      "metadata": {
        "colab": {
          "base_uri": "https://localhost:8080/"
        },
        "id": "HMJgi3StryGn",
        "outputId": "a5d83d8f-aa0a-46be-dd62-77bfffcbf541"
      },
      "source": [
        "decoded_imgs = decoder.predict(encoded_imgs)\n",
        "\n",
        "decoded_imgs.shape"
      ],
      "execution_count": 15,
      "outputs": [
        {
          "output_type": "execute_result",
          "data": {
            "text/plain": [
              "(10000, 784)"
            ]
          },
          "metadata": {
            "tags": []
          },
          "execution_count": 15
        }
      ]
    },
    {
      "cell_type": "markdown",
      "metadata": {
        "id": "D1sEQ_0Yr8RS"
      },
      "source": [
        "## 6.Visualization\n",
        "* 10개의 이미지 데이터를 모델에 적용\n"
      ]
    },
    {
      "cell_type": "code",
      "metadata": {
        "colab": {
          "base_uri": "https://localhost:8080/",
          "height": 167
        },
        "id": "dg6ZVQUdr7a3",
        "outputId": "f9e6bb45-e94f-4d6f-cff0-c941d6068e5a"
      },
      "source": [
        "import matplotlib.pyplot as plt\n",
        "\n",
        "n = 10\n",
        "\n",
        "plt.figure(figsize = (20, 4))\n",
        "for i in range(n):\n",
        "  ax = plt.subplot(2, n, i+1)\n",
        "  plt.imshow(X_test[i].reshape(28, 28))\n",
        "  plt.gray()\n",
        "  ax.get_xaxis().set_visible(False)\n",
        "  ax.get_yaxis().set_visible(False)\n",
        "\n",
        "  ax = plt.subplot(2, n, i + 1 + n) \n",
        "  plt.imshow(decoded_imgs[i].reshape(28, 28)) \n",
        "  plt.gray()\n",
        "  ax.get_xaxis().set_visible(False) \n",
        "  ax.get_yaxis().set_visible(False)\n",
        "\n",
        "plt.show()  "
      ],
      "execution_count": 16,
      "outputs": [
        {
          "output_type": "display_data",
          "data": {
            "image/png": "[encoded data removed]",
            "text/plain": [
              "<Figure size 1440x288 with 20 Axes>"
            ]
          },
          "metadata": {
            "tags": [],
            "needs_background": "light"
          }
        }
      ]
    },
    {
      "cell_type": "markdown",
      "metadata": {
        "id": "b19AB91msiCn"
      },
      "source": [
        "본 내용은 2021/03/29(월)에 학습한 내용입니다."
      ]
    }
  ]
}
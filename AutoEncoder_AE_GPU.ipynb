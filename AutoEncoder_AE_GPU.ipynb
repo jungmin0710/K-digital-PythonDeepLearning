{
  "nbformat": 4,
  "nbformat_minor": 0,
  "metadata": {
    "colab": {
      "name": "AutoEncoder_AE_GPU.ipynb",
      "provenance": [],
      "authorship_tag": "ABX9TyMKL27YEI8Q01IC7dfG5xUN",
      "include_colab_link": true
    },
    "kernelspec": {
      "name": "python3",
      "display_name": "Python 3"
    },
    "language_info": {
      "name": "python"
    },
    "accelerator": "GPU"
  },
  "cells": [
    {
      "cell_type": "markdown",
      "metadata": {
        "id": "view-in-github",
        "colab_type": "text"
      },
      "source": [
        "<a href=\"https://colab.research.google.com/github/jungmin0710/K-digital-PythonDeepLearning/blob/main/AutoEncoder_AE_GPU.ipynb\" target=\"_parent\"><img src=\"https://colab.research.google.com/assets/colab-badge.svg\" alt=\"Open In Colab\"/></a>"
      ]
    },
    {
      "cell_type": "markdown",
      "metadata": {
        "id": "2Ube_Xs-nBLs"
      },
      "source": [
        "# AutoEncoder(AE)\n",
        "* 입력 데이터의 차원축소를 통해 의미있는 잠재공간(Latent Space/ Manifold)을 학습\n",
        "  * Encoder 학습을 위해 Decoder를 사용"
      ]
    },
    {
      "cell_type": "code",
      "metadata": {
        "id": "dNgMKYxLm6nO"
      },
      "source": [
        "import warnings\n",
        "warnings.filterwarnings('ignore')"
      ],
      "execution_count": 1,
      "outputs": []
    },
    {
      "cell_type": "markdown",
      "metadata": {
        "id": "hI2q9fZGnR_B"
      },
      "source": [
        "## 1.Load MNIST Dataset"
      ]
    },
    {
      "cell_type": "markdown",
      "metadata": {
        "id": "45kwa7mOnUeR"
      },
      "source": [
        "### 1)X_train and X_test"
      ]
    },
    {
      "cell_type": "code",
      "metadata": {
        "id": "uywv7FEvnRSd"
      },
      "source": [
        "from keras.datasets import mnist\n",
        "\n",
        "#X가 y의 역할을 수행하기 때문에 y를 로드할 필요가 없음\n",
        "(X_train, _), (X_test, _) = mnist.load_data()\n"
      ],
      "execution_count": 2,
      "outputs": []
    },
    {
      "cell_type": "code",
      "metadata": {
        "colab": {
          "base_uri": "https://localhost:8080/"
        },
        "id": "hAKT8biAnYRo",
        "outputId": "1f2fc438-66bb-4148-b475-dc9f50ab1895"
      },
      "source": [
        "X_train.shape, X_test.shape"
      ],
      "execution_count": 3,
      "outputs": [
        {
          "output_type": "execute_result",
          "data": {
            "text/plain": [
              "((60000, 28, 28), (10000, 28, 28))"
            ]
          },
          "metadata": {
            "tags": []
          },
          "execution_count": 3
        }
      ]
    },
    {
      "cell_type": "markdown",
      "metadata": {
        "id": "KUTHs3h1nqqP"
      },
      "source": [
        "### 2)Normalization and Reshape"
      ]
    },
    {
      "cell_type": "code",
      "metadata": {
        "colab": {
          "base_uri": "https://localhost:8080/"
        },
        "id": "9Kt0_wvqnm04",
        "outputId": "387738d6-991f-4291-8109-f25f786d30bc"
      },
      "source": [
        "X_train = X_train / 255.\n",
        "X_test = X_test / 255.\n",
        "\n",
        "#차원 축소 결과는 1차원으로 나타나야 하기 때문에 한줄로 쭉 펴준다\n",
        "X_train = X_train.reshape(60000, 28 * 28)\n",
        "X_test = X_test.reshape(10000, 28 * 28)\n",
        "\n",
        "X_train.shape, X_test.shape"
      ],
      "execution_count": 4,
      "outputs": [
        {
          "output_type": "execute_result",
          "data": {
            "text/plain": [
              "((60000, 784), (10000, 784))"
            ]
          },
          "metadata": {
            "tags": []
          },
          "execution_count": 4
        }
      ]
    },
    {
      "cell_type": "markdown",
      "metadata": {
        "id": "SKQ093CsoG0M"
      },
      "source": [
        "## 2.Keras Modeling with Functional API"
      ]
    },
    {
      "cell_type": "markdown",
      "metadata": {
        "id": "uwXGSZLdoL3G"
      },
      "source": [
        "### 1)'Latent Space' Size"
      ]
    },
    {
      "cell_type": "code",
      "metadata": {
        "id": "knhInFp4oDc9"
      },
      "source": [
        "encoding_dim = 32"
      ],
      "execution_count": 5,
      "outputs": []
    },
    {
      "cell_type": "markdown",
      "metadata": {
        "id": "ZbpMrnJXoQUK"
      },
      "source": [
        "### 2)Encoder\n",
        "* Input"
      ]
    },
    {
      "cell_type": "code",
      "metadata": {
        "id": "1wIXQItFoPib"
      },
      "source": [
        "from keras import layers\n",
        "\n",
        "#input레이어 설정\n",
        "input_img = layers.Input(shape = (784,))"
      ],
      "execution_count": 6,
      "outputs": []
    },
    {
      "cell_type": "markdown",
      "metadata": {
        "id": "Bdcg3USLogtX"
      },
      "source": [
        "* Encoding Layers and Encoding Model"
      ]
    },
    {
      "cell_type": "code",
      "metadata": {
        "id": "dTv56oWuoZep"
      },
      "source": [
        "#encoding레이어 쌓기\n",
        "encoded = layers.Dense(256, activation = 'elu')(input_img)\n",
        "encoded = layers.Dense(128, activation = 'elu')(encoded)\n",
        "encoded = layers.Dense(encoding_dim, activation = 'elu')(encoded)"
      ],
      "execution_count": 7,
      "outputs": []
    },
    {
      "cell_type": "markdown",
      "metadata": {
        "id": "UDyrgwtdo6Fn"
      },
      "source": [
        "### 3)Decoder\n",
        "* Decoding Layers and Decoding Model"
      ]
    },
    {
      "cell_type": "code",
      "metadata": {
        "id": "fLJtac9qoyEz"
      },
      "source": [
        "#decoding레이어 쌓기\n",
        "decoded = layers.Dense(128, activation = 'elu')(encoded)\n",
        "decoded = layers.Dense(256, activation = 'elu')(decoded)\n",
        "decoded = layers.Dense(784, activation = 'elu')(decoded)"
      ],
      "execution_count": 8,
      "outputs": []
    },
    {
      "cell_type": "markdown",
      "metadata": {
        "id": "CxIA2QOspQtF"
      },
      "source": [
        "## 3.AutoEncoder Model"
      ]
    },
    {
      "cell_type": "markdown",
      "metadata": {
        "id": "zo8NT6ufpUFF"
      },
      "source": [
        "### 1)'autoencoder' Model"
      ]
    },
    {
      "cell_type": "code",
      "metadata": {
        "colab": {
          "base_uri": "https://localhost:8080/"
        },
        "id": "jHfeLk-upM7l",
        "outputId": "8e13a06b-bec2-4863-8d93-0840e120e717"
      },
      "source": [
        "from keras import models\n",
        "\n",
        "#1번모델 : 전체 autoencoder모델\n",
        "autoencoder = models.Model(input_img, decoded)\n",
        "\n",
        "autoencoder.summary()"
      ],
      "execution_count": 9,
      "outputs": [
        {
          "output_type": "stream",
          "text": [
            "Model: \"model\"\n",
            "_________________________________________________________________\n",
            "Layer (type)                 Output Shape              Param #   \n",
            "=================================================================\n",
            "input_1 (InputLayer)         [(None, 784)]             0         \n",
            "_________________________________________________________________\n",
            "dense (Dense)                (None, 256)               200960    \n",
            "_________________________________________________________________\n",
            "dense_1 (Dense)              (None, 128)               32896     \n",
            "_________________________________________________________________\n",
            "dense_2 (Dense)              (None, 32)                4128      \n",
            "_________________________________________________________________\n",
            "dense_3 (Dense)              (None, 128)               4224      \n",
            "_________________________________________________________________\n",
            "dense_4 (Dense)              (None, 256)               33024     \n",
            "_________________________________________________________________\n",
            "dense_5 (Dense)              (None, 784)               201488    \n",
            "=================================================================\n",
            "Total params: 476,720\n",
            "Trainable params: 476,720\n",
            "Non-trainable params: 0\n",
            "_________________________________________________________________\n"
          ],
          "name": "stdout"
        }
      ]
    },
    {
      "cell_type": "markdown",
      "metadata": {
        "id": "lhNwo1mXpx5u"
      },
      "source": [
        "### 2)'encoder' Model"
      ]
    },
    {
      "cell_type": "code",
      "metadata": {
        "colab": {
          "base_uri": "https://localhost:8080/"
        },
        "id": "dHpiP38cpfA5",
        "outputId": "189a39a9-5ebb-4787-a30e-1644748c188b"
      },
      "source": [
        "#2번 모델 : encoder모델\n",
        "encoder = models.Model(input_img, encoded)\n",
        "\n",
        "encoder.summary()"
      ],
      "execution_count": 10,
      "outputs": [
        {
          "output_type": "stream",
          "text": [
            "Model: \"model_1\"\n",
            "_________________________________________________________________\n",
            "Layer (type)                 Output Shape              Param #   \n",
            "=================================================================\n",
            "input_1 (InputLayer)         [(None, 784)]             0         \n",
            "_________________________________________________________________\n",
            "dense (Dense)                (None, 256)               200960    \n",
            "_________________________________________________________________\n",
            "dense_1 (Dense)              (None, 128)               32896     \n",
            "_________________________________________________________________\n",
            "dense_2 (Dense)              (None, 32)                4128      \n",
            "=================================================================\n",
            "Total params: 237,984\n",
            "Trainable params: 237,984\n",
            "Non-trainable params: 0\n",
            "_________________________________________________________________\n"
          ],
          "name": "stdout"
        }
      ]
    },
    {
      "cell_type": "markdown",
      "metadata": {
        "id": "hCPzynZuqIVS"
      },
      "source": [
        "### 3)'decoder' Model"
      ]
    },
    {
      "cell_type": "code",
      "metadata": {
        "colab": {
          "base_uri": "https://localhost:8080/"
        },
        "id": "epQAvo-1p5gu",
        "outputId": "74b97903-20a7-4780-d228-a85be5663846"
      },
      "source": [
        "# 3번 모델 : decoder 모델\n",
        "encoded_input = layers.Input(shape = (encoding_dim,))\n",
        "\n",
        "decoder_layer = autoencoder.layers[-3](encoded_input)\n",
        "decoder_layer = autoencoder.layers[-2](decoder_layer)\n",
        "decoder_layer = autoencoder.layers[-1](decoder_layer)\n",
        "\n",
        "decoder = models.Model(encoded_input, decoder_layer)\n",
        "\n",
        "decoder.summary()"
      ],
      "execution_count": 11,
      "outputs": [
        {
          "output_type": "stream",
          "text": [
            "Model: \"model_2\"\n",
            "_________________________________________________________________\n",
            "Layer (type)                 Output Shape              Param #   \n",
            "=================================================================\n",
            "input_2 (InputLayer)         [(None, 32)]              0         \n",
            "_________________________________________________________________\n",
            "dense_3 (Dense)              (None, 128)               4224      \n",
            "_________________________________________________________________\n",
            "dense_4 (Dense)              (None, 256)               33024     \n",
            "_________________________________________________________________\n",
            "dense_5 (Dense)              (None, 784)               201488    \n",
            "=================================================================\n",
            "Total params: 238,736\n",
            "Trainable params: 238,736\n",
            "Non-trainable params: 0\n",
            "_________________________________________________________________\n"
          ],
          "name": "stdout"
        }
      ]
    },
    {
      "cell_type": "markdown",
      "metadata": {
        "id": "0xVa_akGrEf-"
      },
      "source": [
        "## 4.Model Fit"
      ]
    },
    {
      "cell_type": "markdown",
      "metadata": {
        "id": "JR5R78SCrHAI"
      },
      "source": [
        "### 1)Model Compile"
      ]
    },
    {
      "cell_type": "code",
      "metadata": {
        "id": "dWITjtukqkDh"
      },
      "source": [
        "autoencoder.compile(loss = 'binary_crossentropy',\n",
        "                    optimizer = 'adam')"
      ],
      "execution_count": 12,
      "outputs": []
    },
    {
      "cell_type": "markdown",
      "metadata": {
        "id": "K0SvbV8srRPp"
      },
      "source": [
        "### 2)Model Training"
      ]
    },
    {
      "cell_type": "code",
      "metadata": {
        "colab": {
          "base_uri": "https://localhost:8080/"
        },
        "id": "HGBcMKNgrQbN",
        "outputId": "25d3573b-57ed-49f6-a02b-5aee5a3d5372"
      },
      "source": [
        "autoencoder.fit(X_train, X_train,\n",
        "                epochs = 50,\n",
        "                batch_size = 256,\n",
        "                validation_data = (X_test, X_test))"
      ],
      "execution_count": 13,
      "outputs": [
        {
          "output_type": "stream",
          "text": [
            "Epoch 1/50\n",
            "235/235 [==============================] - 2s 5ms/step - loss: 0.3816 - val_loss: 0.3571\n",
            "Epoch 2/50\n",
            "235/235 [==============================] - 1s 4ms/step - loss: 0.2854 - val_loss: 0.2209\n",
            "Epoch 3/50\n",
            "235/235 [==============================] - 1s 4ms/step - loss: 0.2214 - val_loss: 0.3055\n",
            "Epoch 4/50\n",
            "235/235 [==============================] - 1s 4ms/step - loss: 0.2782 - val_loss: 0.2448\n",
            "Epoch 5/50\n",
            "235/235 [==============================] - 1s 4ms/step - loss: 0.2200 - val_loss: 0.1917\n",
            "Epoch 6/50\n",
            "235/235 [==============================] - 1s 4ms/step - loss: 0.2669 - val_loss: 0.1973\n",
            "Epoch 7/50\n",
            "235/235 [==============================] - 1s 4ms/step - loss: 0.2042 - val_loss: 0.2239\n",
            "Epoch 8/50\n",
            "235/235 [==============================] - 1s 4ms/step - loss: 0.2089 - val_loss: 0.1823\n",
            "Epoch 9/50\n",
            "235/235 [==============================] - 1s 4ms/step - loss: 0.1939 - val_loss: 0.4573\n",
            "Epoch 10/50\n",
            "235/235 [==============================] - 1s 4ms/step - loss: 0.6238 - val_loss: 0.7305\n",
            "Epoch 11/50\n",
            "235/235 [==============================] - 1s 4ms/step - loss: 0.6043 - val_loss: 0.5383\n",
            "Epoch 12/50\n",
            "235/235 [==============================] - 1s 4ms/step - loss: 0.5418 - val_loss: 0.7088\n",
            "Epoch 13/50\n",
            "235/235 [==============================] - 1s 4ms/step - loss: 0.6271 - val_loss: 0.5658\n",
            "Epoch 14/50\n",
            "235/235 [==============================] - 1s 4ms/step - loss: 0.7940 - val_loss: 0.6627\n",
            "Epoch 15/50\n",
            "235/235 [==============================] - 1s 4ms/step - loss: 0.5009 - val_loss: 0.3580\n",
            "Epoch 16/50\n",
            "235/235 [==============================] - 1s 4ms/step - loss: 0.3403 - val_loss: 0.2508\n",
            "Epoch 17/50\n",
            "235/235 [==============================] - 1s 4ms/step - loss: 0.2461 - val_loss: 0.2323\n",
            "Epoch 18/50\n",
            "235/235 [==============================] - 1s 4ms/step - loss: 0.2325 - val_loss: 0.2167\n",
            "Epoch 19/50\n",
            "235/235 [==============================] - 1s 4ms/step - loss: 0.2831 - val_loss: 0.4315\n",
            "Epoch 20/50\n",
            "235/235 [==============================] - 1s 4ms/step - loss: 0.3421 - val_loss: 0.2771\n",
            "Epoch 21/50\n",
            "235/235 [==============================] - 1s 4ms/step - loss: 0.2719 - val_loss: 0.2371\n",
            "Epoch 22/50\n",
            "235/235 [==============================] - 1s 4ms/step - loss: 0.2300 - val_loss: 0.2082\n",
            "Epoch 23/50\n",
            "235/235 [==============================] - 1s 4ms/step - loss: 0.2351 - val_loss: 0.2376\n",
            "Epoch 24/50\n",
            "235/235 [==============================] - 1s 4ms/step - loss: 0.2483 - val_loss: 0.2591\n",
            "Epoch 25/50\n",
            "235/235 [==============================] - 1s 4ms/step - loss: 0.3890 - val_loss: 0.3170\n",
            "Epoch 26/50\n",
            "235/235 [==============================] - 1s 4ms/step - loss: 0.4185 - val_loss: 0.5455\n",
            "Epoch 27/50\n",
            "235/235 [==============================] - 1s 4ms/step - loss: 0.6002 - val_loss: 0.6434\n",
            "Epoch 28/50\n",
            "235/235 [==============================] - 1s 4ms/step - loss: 0.6520 - val_loss: 0.6368\n",
            "Epoch 29/50\n",
            "235/235 [==============================] - 1s 4ms/step - loss: 0.4701 - val_loss: 0.2869\n",
            "Epoch 30/50\n",
            "235/235 [==============================] - 1s 4ms/step - loss: 0.2861 - val_loss: 0.3841\n",
            "Epoch 31/50\n",
            "235/235 [==============================] - 1s 4ms/step - loss: 0.3737 - val_loss: 0.3333\n",
            "Epoch 32/50\n",
            "235/235 [==============================] - 1s 4ms/step - loss: 0.3079 - val_loss: 0.3668\n",
            "Epoch 33/50\n",
            "235/235 [==============================] - 1s 4ms/step - loss: 0.3287 - val_loss: 0.2520\n",
            "Epoch 34/50\n",
            "235/235 [==============================] - 1s 4ms/step - loss: 0.2568 - val_loss: 0.7471\n",
            "Epoch 35/50\n",
            "235/235 [==============================] - 1s 4ms/step - loss: 0.6698 - val_loss: 0.4591\n",
            "Epoch 36/50\n",
            "235/235 [==============================] - 1s 4ms/step - loss: 0.4498 - val_loss: 0.2841\n",
            "Epoch 37/50\n",
            "235/235 [==============================] - 1s 4ms/step - loss: 0.3243 - val_loss: 0.4430\n",
            "Epoch 38/50\n",
            "235/235 [==============================] - 1s 4ms/step - loss: 0.3976 - val_loss: 0.2591\n",
            "Epoch 39/50\n",
            "235/235 [==============================] - 1s 4ms/step - loss: 0.2492 - val_loss: 0.2149\n",
            "Epoch 40/50\n",
            "235/235 [==============================] - 1s 4ms/step - loss: 0.2144 - val_loss: 0.3932\n",
            "Epoch 41/50\n",
            "235/235 [==============================] - 1s 4ms/step - loss: 0.5440 - val_loss: 0.5025\n",
            "Epoch 42/50\n",
            "235/235 [==============================] - 1s 4ms/step - loss: 0.7165 - val_loss: 0.4753\n",
            "Epoch 43/50\n",
            "235/235 [==============================] - 1s 4ms/step - loss: 0.4117 - val_loss: 0.2716\n",
            "Epoch 44/50\n",
            "235/235 [==============================] - 1s 4ms/step - loss: 0.2539 - val_loss: 0.2409\n",
            "Epoch 45/50\n",
            "235/235 [==============================] - 1s 4ms/step - loss: 0.2492 - val_loss: 0.7179\n",
            "Epoch 46/50\n",
            "235/235 [==============================] - 1s 4ms/step - loss: 0.4871 - val_loss: 0.3385\n",
            "Epoch 47/50\n",
            "235/235 [==============================] - 1s 4ms/step - loss: 0.3239 - val_loss: 0.3131\n",
            "Epoch 48/50\n",
            "235/235 [==============================] - 1s 4ms/step - loss: 0.3570 - val_loss: 0.2594\n",
            "Epoch 49/50\n",
            "235/235 [==============================] - 1s 4ms/step - loss: 0.3114 - val_loss: 0.2558\n",
            "Epoch 50/50\n",
            "235/235 [==============================] - 1s 4ms/step - loss: 0.9429 - val_loss: 1.0488\n"
          ],
          "name": "stdout"
        },
        {
          "output_type": "execute_result",
          "data": {
            "text/plain": [
              "<tensorflow.python.keras.callbacks.History at 0x7f56e7730c90>"
            ]
          },
          "metadata": {
            "tags": []
          },
          "execution_count": 13
        }
      ]
    },
    {
      "cell_type": "markdown",
      "metadata": {
        "id": "IGwbWk_FrlRX"
      },
      "source": [
        "## 5.Model Predict"
      ]
    },
    {
      "cell_type": "markdown",
      "metadata": {
        "id": "DwaLJkUyroYf"
      },
      "source": [
        "### 1)Image Encoding\n",
        "* Create 'Latent Space'"
      ]
    },
    {
      "cell_type": "code",
      "metadata": {
        "colab": {
          "base_uri": "https://localhost:8080/"
        },
        "id": "4X9QbSHHra1O",
        "outputId": "74d4274a-f80f-4fcd-c6fc-374ac18ac47c"
      },
      "source": [
        "encoded_imgs = encoder.predict(X_test)\n",
        "\n",
        "encoded_imgs.shape"
      ],
      "execution_count": 14,
      "outputs": [
        {
          "output_type": "execute_result",
          "data": {
            "text/plain": [
              "(10000, 32)"
            ]
          },
          "metadata": {
            "tags": []
          },
          "execution_count": 14
        }
      ]
    },
    {
      "cell_type": "markdown",
      "metadata": {
        "id": "AjJlWM1jrzE_"
      },
      "source": [
        "### 2)'Latent Space' Decoding"
      ]
    },
    {
      "cell_type": "code",
      "metadata": {
        "colab": {
          "base_uri": "https://localhost:8080/"
        },
        "id": "HMJgi3StryGn",
        "outputId": "f159403c-3bdd-498b-8f70-f46c190855fb"
      },
      "source": [
        "decoded_imgs = decoder.predict(encoded_imgs)\n",
        "\n",
        "decoded_imgs.shape"
      ],
      "execution_count": 15,
      "outputs": [
        {
          "output_type": "execute_result",
          "data": {
            "text/plain": [
              "(10000, 784)"
            ]
          },
          "metadata": {
            "tags": []
          },
          "execution_count": 15
        }
      ]
    },
    {
      "cell_type": "markdown",
      "metadata": {
        "id": "D1sEQ_0Yr8RS"
      },
      "source": [
        "## 6.Visualization\n",
        "* 10개의 이미지 데이터를 모델에 적용\n"
      ]
    },
    {
      "cell_type": "code",
      "metadata": {
        "colab": {
          "base_uri": "https://localhost:8080/",
          "height": 167
        },
        "id": "dg6ZVQUdr7a3",
        "outputId": "0c8d90d1-8341-42f3-fa78-dda8342dd0f4"
      },
      "source": [
        "import matplotlib.pyplot as plt\n",
        "\n",
        "n = 10\n",
        "\n",
        "plt.figure(figsize = (20, 4))\n",
        "for i in range(n):\n",
        "  ax = plt.subplot(2, n, i+1)\n",
        "  plt.imshow(X_test[i].reshape(28, 28))\n",
        "  plt.gray()\n",
        "  ax.get_xaxis().set_visible(False)\n",
        "  ax.get_yaxis().set_visible(False)\n",
        "\n",
        "  ax = plt.subplot(2, n, i + 1 + n)\n",
        "  plt.imshow(X_test[i].reshape(28, 28))\n",
        "  plt.gray()\n",
        "  ax.get_xaxis().set_visible(False)\n",
        "  ax.get_yaxis().set_visible(False)\n",
        "\n",
        "plt.show()  "
      ],
      "execution_count": 16,
      "outputs": [
        {
          "output_type": "display_data",
          "data": {
            "image/png": "[encoded data removed]",
            "text/plain": [
              "<Figure size 1440x288 with 20 Axes>"
            ]
          },
          "metadata": {
            "tags": [],
            "needs_background": "light"
          }
        }
      ]
    },
    {
      "cell_type": "markdown",
      "metadata": {
        "id": "b19AB91msiCn"
      },
      "source": [
        "본 내용은 2021/03/29(월)에 학습한 내용입니다."
      ]
    }
  ]
}
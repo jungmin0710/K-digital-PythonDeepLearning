{
  "nbformat": 4,
  "nbformat_minor": 0,
  "metadata": {
    "colab": {
      "name": "CNN_CIFAR100_Modeling_GPU.ipynb",
      "provenance": [],
      "collapsed_sections": [],
      "include_colab_link": true
    },
    "kernelspec": {
      "name": "python3",
      "display_name": "Python 3"
    },
    "accelerator": "GPU"
  },
  "cells": [
    {
      "cell_type": "markdown",
      "metadata": {
        "id": "view-in-github",
        "colab_type": "text"
      },
      "source": [
        "<a href=\"https://colab.research.google.com/github/jungmin0710/K-digital-PythonDeepLearning/blob/main/CNN_CIFAR100_Modeling_GPU.ipynb\" target=\"_parent\"><img src=\"https://colab.research.google.com/assets/colab-badge.svg\" alt=\"Open In Colab\"/></a>"
      ]
    },
    {
      "cell_type": "markdown",
      "metadata": {
        "id": "q2Pr7oBdYLdf"
      },
      "source": [
        "# CIFAR100 - Categorical Classification\n",
        "CNN으로 컬러 이미지 분류하기(100종류)\n",
        "> # Convolutional Neural Network\n",
        "## Import Keras"
      ]
    },
    {
      "cell_type": "code",
      "metadata": {
        "id": "RbPgODpVzdHI"
      },
      "source": [
        "import warnings\n",
        "warnings.filterwarnings('ignore')"
      ],
      "execution_count": 1,
      "outputs": []
    },
    {
      "cell_type": "markdown",
      "metadata": {
        "id": "tUvJIk2aRFtw"
      },
      "source": [
        "* import Keras "
      ]
    },
    {
      "cell_type": "code",
      "metadata": {
        "id": "GR4j3p6N_rDV",
        "colab": {
          "base_uri": "https://localhost:8080/",
          "height": 35
        },
        "outputId": "1fd470af-5ac7-4282-bbc9-6d2d5e9bb201"
      },
      "source": [
        "import keras\n",
        "\n",
        "keras.__version__"
      ],
      "execution_count": 2,
      "outputs": [
        {
          "output_type": "execute_result",
          "data": {
            "application/vnd.google.colaboratory.intrinsic+json": {
              "type": "string"
            },
            "text/plain": [
              "'2.4.3'"
            ]
          },
          "metadata": {
            "tags": []
          },
          "execution_count": 2
        }
      ]
    },
    {
      "cell_type": "markdown",
      "metadata": {
        "id": "H49A769LYp-a"
      },
      "source": [
        "# I. CIFAR100 Data_Set Load"
      ]
    },
    {
      "cell_type": "code",
      "metadata": {
        "id": "DxstjE8b_6Te"
      },
      "source": [
        "from keras.datasets import cifar100\n",
        "\n",
        "(X_train, y_train), (X_test, y_test) = cifar100.load_data(label_mode = 'fine')"
      ],
      "execution_count": 3,
      "outputs": []
    },
    {
      "cell_type": "markdown",
      "metadata": {
        "id": "Mk9XL5vGHor6"
      },
      "source": [
        "# II. Data Preprocessing"
      ]
    },
    {
      "cell_type": "markdown",
      "metadata": {
        "id": "ec8zU4XCZRUF"
      },
      "source": [
        "> ## 1) Reshape and Normalization"
      ]
    },
    {
      "cell_type": "markdown",
      "metadata": {
        "id": "olI6ZPtEIb8H"
      },
      "source": [
        "* reshape"
      ]
    },
    {
      "cell_type": "code",
      "metadata": {
        "id": "8-toPn1ZAmFd"
      },
      "source": [
        "X_train = X_train.reshape((50000,  32, 32, 3))\n",
        "X_test = X_test.reshape((10000,  32, 32, 3))"
      ],
      "execution_count": 4,
      "outputs": []
    },
    {
      "cell_type": "markdown",
      "metadata": {
        "id": "UN-xPWjYIeWL"
      },
      "source": [
        "* Normalization"
      ]
    },
    {
      "cell_type": "code",
      "metadata": {
        "id": "SoGHuYeFIGBj"
      },
      "source": [
        "X_train = X_train.astype(float) / 255\n",
        "X_test = X_test.astype(float) / 255"
      ],
      "execution_count": 5,
      "outputs": []
    },
    {
      "cell_type": "markdown",
      "metadata": {
        "id": "BtSROU80aF12"
      },
      "source": [
        "> ## 2) One Hot Encoding"
      ]
    },
    {
      "cell_type": "code",
      "metadata": {
        "id": "eC48Oym3Ao8E"
      },
      "source": [
        "from keras.utils import to_categorical\n",
        "\n",
        "y_train = to_categorical(y_train)\n",
        "y_test = to_categorical(y_test)"
      ],
      "execution_count": 6,
      "outputs": []
    },
    {
      "cell_type": "markdown",
      "metadata": {
        "id": "NTwZiSjiop3v"
      },
      "source": [
        "# III. MNIST Keras Modeling"
      ]
    },
    {
      "cell_type": "markdown",
      "metadata": {
        "id": "j5CT0TurJCkc"
      },
      "source": [
        "> ## 1) Model Define"
      ]
    },
    {
      "cell_type": "code",
      "metadata": {
        "id": "II0DskRdAcHS"
      },
      "source": [
        "from tensorflow.keras import models\n",
        "from tensorflow.keras import layers\n",
        "\n",
        "#CNN\n",
        "model = models.Sequential()\n",
        "model.add(layers.Conv2D(filters=128, kernel_size=(3,3), activation='relu', input_shape=(32, 32, 3)))\n",
        "model.add(layers.MaxPool2D(pool_size=(2,2)))\n",
        "model.add(layers.Conv2D(filters=128, kernel_size=(3,3), activation='relu'))\n",
        "model.add(layers.MaxPool2D(pool_size=(2,2)))\n",
        "model.add(layers.Conv2D(filters=128, kernel_size=(3,3), activation='relu'))\n",
        "#DNN\n",
        "model.add(layers.Flatten())\n",
        "model.add(layers.Dense(units=256, activation='relu'))\n",
        "model.add(layers.Dropout(0.5))\n",
        "model.add(layers.Dense(units=100, activation='softmax'))"
      ],
      "execution_count": 7,
      "outputs": []
    },
    {
      "cell_type": "code",
      "metadata": {
        "id": "kQ02_BOz8-ek",
        "colab": {
          "base_uri": "https://localhost:8080/"
        },
        "outputId": "4d540d16-bb6d-4120-ead2-06274fc1ac67"
      },
      "source": [
        "model.summary()"
      ],
      "execution_count": 8,
      "outputs": [
        {
          "output_type": "stream",
          "text": [
            "Model: \"sequential\"\n",
            "_________________________________________________________________\n",
            "Layer (type)                 Output Shape              Param #   \n",
            "=================================================================\n",
            "conv2d (Conv2D)              (None, 30, 30, 128)       3584      \n",
            "_________________________________________________________________\n",
            "max_pooling2d (MaxPooling2D) (None, 15, 15, 128)       0         \n",
            "_________________________________________________________________\n",
            "conv2d_1 (Conv2D)            (None, 13, 13, 128)       147584    \n",
            "_________________________________________________________________\n",
            "max_pooling2d_1 (MaxPooling2 (None, 6, 6, 128)         0         \n",
            "_________________________________________________________________\n",
            "conv2d_2 (Conv2D)            (None, 4, 4, 128)         147584    \n",
            "_________________________________________________________________\n",
            "flatten (Flatten)            (None, 2048)              0         \n",
            "_________________________________________________________________\n",
            "dense (Dense)                (None, 256)               524544    \n",
            "_________________________________________________________________\n",
            "dropout (Dropout)            (None, 256)               0         \n",
            "_________________________________________________________________\n",
            "dense_1 (Dense)              (None, 100)               25700     \n",
            "=================================================================\n",
            "Total params: 848,996\n",
            "Trainable params: 848,996\n",
            "Non-trainable params: 0\n",
            "_________________________________________________________________\n"
          ],
          "name": "stdout"
        }
      ]
    },
    {
      "cell_type": "markdown",
      "metadata": {
        "id": "tpjBDBeYoyuj"
      },
      "source": [
        "> ## 2) Model Compile"
      ]
    },
    {
      "cell_type": "markdown",
      "metadata": {
        "id": "f3sxkQa0JoUr"
      },
      "source": [
        "* 모델 학습방법 설정"
      ]
    },
    {
      "cell_type": "code",
      "metadata": {
        "id": "AyK_t1qwAi6M"
      },
      "source": [
        "model.compile(loss = 'categorical_crossentropy',\n",
        "              optimizer = 'adam',\n",
        "              metrics = ['accuracy'])"
      ],
      "execution_count": 9,
      "outputs": []
    },
    {
      "cell_type": "markdown",
      "metadata": {
        "id": "umiq4B-Xo3OB"
      },
      "source": [
        "> ## 3) Model Fit"
      ]
    },
    {
      "cell_type": "markdown",
      "metadata": {
        "id": "1KuXREziKMD1"
      },
      "source": [
        "* 약 5분"
      ]
    },
    {
      "cell_type": "code",
      "metadata": {
        "id": "zxwqwAqRAqRP",
        "colab": {
          "base_uri": "https://localhost:8080/"
        },
        "outputId": "af0fbf05-3ffa-435d-b46b-146346bf2b8d"
      },
      "source": [
        "%%time\n",
        "\n",
        "Hist_mnist = model.fit(X_train, y_train,\n",
        "                       epochs = 50,\n",
        "                       batch_size = 128,\n",
        "                       validation_split = 0.2)"
      ],
      "execution_count": 10,
      "outputs": [
        {
          "output_type": "stream",
          "text": [
            "Epoch 1/50\n",
            "313/313 [==============================] - 13s 15ms/step - loss: 4.4575 - accuracy: 0.0267 - val_loss: 3.9018 - val_accuracy: 0.1068\n",
            "Epoch 2/50\n",
            "313/313 [==============================] - 4s 13ms/step - loss: 3.9031 - accuracy: 0.0957 - val_loss: 3.4961 - val_accuracy: 0.1690\n",
            "Epoch 3/50\n",
            "313/313 [==============================] - 4s 13ms/step - loss: 3.5494 - accuracy: 0.1541 - val_loss: 3.3415 - val_accuracy: 0.1979\n",
            "Epoch 4/50\n",
            "313/313 [==============================] - 4s 13ms/step - loss: 3.3315 - accuracy: 0.1970 - val_loss: 3.0795 - val_accuracy: 0.2513\n",
            "Epoch 5/50\n",
            "313/313 [==============================] - 4s 13ms/step - loss: 3.1596 - accuracy: 0.2285 - val_loss: 2.9744 - val_accuracy: 0.2689\n",
            "Epoch 6/50\n",
            "313/313 [==============================] - 4s 13ms/step - loss: 3.0189 - accuracy: 0.2528 - val_loss: 2.8429 - val_accuracy: 0.2911\n",
            "Epoch 7/50\n",
            "313/313 [==============================] - 4s 13ms/step - loss: 2.9222 - accuracy: 0.2695 - val_loss: 2.7763 - val_accuracy: 0.3020\n",
            "Epoch 8/50\n",
            "313/313 [==============================] - 4s 13ms/step - loss: 2.7878 - accuracy: 0.2953 - val_loss: 2.7378 - val_accuracy: 0.3118\n",
            "Epoch 9/50\n",
            "313/313 [==============================] - 4s 13ms/step - loss: 2.7338 - accuracy: 0.3087 - val_loss: 2.6836 - val_accuracy: 0.3207\n",
            "Epoch 10/50\n",
            "313/313 [==============================] - 4s 13ms/step - loss: 2.6340 - accuracy: 0.3285 - val_loss: 2.6419 - val_accuracy: 0.3315\n",
            "Epoch 11/50\n",
            "313/313 [==============================] - 4s 13ms/step - loss: 2.5899 - accuracy: 0.3378 - val_loss: 2.5688 - val_accuracy: 0.3474\n",
            "Epoch 12/50\n",
            "313/313 [==============================] - 4s 13ms/step - loss: 2.5074 - accuracy: 0.3543 - val_loss: 2.6122 - val_accuracy: 0.3408\n",
            "Epoch 13/50\n",
            "313/313 [==============================] - 4s 13ms/step - loss: 2.4660 - accuracy: 0.3615 - val_loss: 2.5184 - val_accuracy: 0.3598\n",
            "Epoch 14/50\n",
            "313/313 [==============================] - 4s 13ms/step - loss: 2.3925 - accuracy: 0.3688 - val_loss: 2.5841 - val_accuracy: 0.3475\n",
            "Epoch 15/50\n",
            "313/313 [==============================] - 4s 13ms/step - loss: 2.3296 - accuracy: 0.3833 - val_loss: 2.5067 - val_accuracy: 0.3613\n",
            "Epoch 16/50\n",
            "313/313 [==============================] - 4s 13ms/step - loss: 2.2810 - accuracy: 0.3987 - val_loss: 2.4837 - val_accuracy: 0.3669\n",
            "Epoch 17/50\n",
            "313/313 [==============================] - 4s 13ms/step - loss: 2.2191 - accuracy: 0.4082 - val_loss: 2.4792 - val_accuracy: 0.3705\n",
            "Epoch 18/50\n",
            "313/313 [==============================] - 4s 13ms/step - loss: 2.1730 - accuracy: 0.4178 - val_loss: 2.4717 - val_accuracy: 0.3748\n",
            "Epoch 19/50\n",
            "313/313 [==============================] - 4s 13ms/step - loss: 2.1535 - accuracy: 0.4209 - val_loss: 2.4621 - val_accuracy: 0.3727\n",
            "Epoch 20/50\n",
            "313/313 [==============================] - 4s 13ms/step - loss: 2.1022 - accuracy: 0.4303 - val_loss: 2.5180 - val_accuracy: 0.3692\n",
            "Epoch 21/50\n",
            "313/313 [==============================] - 4s 13ms/step - loss: 2.0584 - accuracy: 0.4396 - val_loss: 2.4563 - val_accuracy: 0.3813\n",
            "Epoch 22/50\n",
            "313/313 [==============================] - 4s 13ms/step - loss: 2.0244 - accuracy: 0.4463 - val_loss: 2.4759 - val_accuracy: 0.3791\n",
            "Epoch 23/50\n",
            "313/313 [==============================] - 4s 13ms/step - loss: 1.9795 - accuracy: 0.4593 - val_loss: 2.4948 - val_accuracy: 0.3816\n",
            "Epoch 24/50\n",
            "313/313 [==============================] - 4s 13ms/step - loss: 1.9406 - accuracy: 0.4657 - val_loss: 2.4762 - val_accuracy: 0.3835\n",
            "Epoch 25/50\n",
            "313/313 [==============================] - 4s 13ms/step - loss: 1.9151 - accuracy: 0.4699 - val_loss: 2.5410 - val_accuracy: 0.3681\n",
            "Epoch 26/50\n",
            "313/313 [==============================] - 4s 13ms/step - loss: 1.8754 - accuracy: 0.4782 - val_loss: 2.4911 - val_accuracy: 0.3819\n",
            "Epoch 27/50\n",
            "313/313 [==============================] - 4s 13ms/step - loss: 1.8449 - accuracy: 0.4837 - val_loss: 2.5301 - val_accuracy: 0.3771\n",
            "Epoch 28/50\n",
            "313/313 [==============================] - 4s 13ms/step - loss: 1.8081 - accuracy: 0.4915 - val_loss: 2.5460 - val_accuracy: 0.3767\n",
            "Epoch 29/50\n",
            "313/313 [==============================] - 4s 13ms/step - loss: 1.7811 - accuracy: 0.5000 - val_loss: 2.5909 - val_accuracy: 0.3782\n",
            "Epoch 30/50\n",
            "313/313 [==============================] - 4s 13ms/step - loss: 1.7632 - accuracy: 0.5018 - val_loss: 2.5764 - val_accuracy: 0.3774\n",
            "Epoch 31/50\n",
            "313/313 [==============================] - 4s 13ms/step - loss: 1.7314 - accuracy: 0.5115 - val_loss: 2.5763 - val_accuracy: 0.3776\n",
            "Epoch 32/50\n",
            "313/313 [==============================] - 4s 13ms/step - loss: 1.7036 - accuracy: 0.5110 - val_loss: 2.6166 - val_accuracy: 0.3785\n",
            "Epoch 33/50\n",
            "313/313 [==============================] - 4s 13ms/step - loss: 1.6698 - accuracy: 0.5169 - val_loss: 2.6244 - val_accuracy: 0.3783\n",
            "Epoch 34/50\n",
            "313/313 [==============================] - 4s 13ms/step - loss: 1.6530 - accuracy: 0.5261 - val_loss: 2.5999 - val_accuracy: 0.3754\n",
            "Epoch 35/50\n",
            "313/313 [==============================] - 4s 13ms/step - loss: 1.6050 - accuracy: 0.5357 - val_loss: 2.6822 - val_accuracy: 0.3763\n",
            "Epoch 36/50\n",
            "313/313 [==============================] - 4s 13ms/step - loss: 1.6095 - accuracy: 0.5304 - val_loss: 2.7021 - val_accuracy: 0.3760\n",
            "Epoch 37/50\n",
            "313/313 [==============================] - 4s 13ms/step - loss: 1.5874 - accuracy: 0.5394 - val_loss: 2.7162 - val_accuracy: 0.3774\n",
            "Epoch 38/50\n",
            "313/313 [==============================] - 4s 13ms/step - loss: 1.5550 - accuracy: 0.5499 - val_loss: 2.7294 - val_accuracy: 0.3772\n",
            "Epoch 39/50\n",
            "313/313 [==============================] - 4s 13ms/step - loss: 1.5077 - accuracy: 0.5593 - val_loss: 2.7262 - val_accuracy: 0.3797\n",
            "Epoch 40/50\n",
            "313/313 [==============================] - 4s 13ms/step - loss: 1.4898 - accuracy: 0.5627 - val_loss: 2.7642 - val_accuracy: 0.3781\n",
            "Epoch 41/50\n",
            "313/313 [==============================] - 4s 13ms/step - loss: 1.4914 - accuracy: 0.5607 - val_loss: 2.8227 - val_accuracy: 0.3650\n",
            "Epoch 42/50\n",
            "313/313 [==============================] - 4s 13ms/step - loss: 1.4734 - accuracy: 0.5637 - val_loss: 2.8379 - val_accuracy: 0.3700\n",
            "Epoch 43/50\n",
            "313/313 [==============================] - 4s 13ms/step - loss: 1.4290 - accuracy: 0.5747 - val_loss: 2.8898 - val_accuracy: 0.3695\n",
            "Epoch 44/50\n",
            "313/313 [==============================] - 4s 13ms/step - loss: 1.4272 - accuracy: 0.5751 - val_loss: 2.9261 - val_accuracy: 0.3693\n",
            "Epoch 45/50\n",
            "313/313 [==============================] - 4s 13ms/step - loss: 1.4205 - accuracy: 0.5752 - val_loss: 2.9323 - val_accuracy: 0.3725\n",
            "Epoch 46/50\n",
            "313/313 [==============================] - 4s 13ms/step - loss: 1.3950 - accuracy: 0.5810 - val_loss: 2.9267 - val_accuracy: 0.3654\n",
            "Epoch 47/50\n",
            "313/313 [==============================] - 4s 13ms/step - loss: 1.3594 - accuracy: 0.5900 - val_loss: 3.0216 - val_accuracy: 0.3730\n",
            "Epoch 48/50\n",
            "313/313 [==============================] - 4s 13ms/step - loss: 1.3651 - accuracy: 0.5908 - val_loss: 3.0131 - val_accuracy: 0.3744\n",
            "Epoch 49/50\n",
            "313/313 [==============================] - 4s 13ms/step - loss: 1.3491 - accuracy: 0.5957 - val_loss: 3.0025 - val_accuracy: 0.3676\n",
            "Epoch 50/50\n",
            "313/313 [==============================] - 4s 13ms/step - loss: 1.3372 - accuracy: 0.5957 - val_loss: 3.0724 - val_accuracy: 0.3734\n",
            "CPU times: user 2min 28s, sys: 56.6 s, total: 3min 25s\n",
            "Wall time: 3min 36s\n"
          ],
          "name": "stdout"
        }
      ]
    },
    {
      "cell_type": "markdown",
      "metadata": {
        "id": "FnnIyFtNKhbD"
      },
      "source": [
        "> ## 4) 학습 결과 시각화"
      ]
    },
    {
      "cell_type": "markdown",
      "metadata": {
        "id": "YgXRhVauKqOm"
      },
      "source": [
        "* Loss Visualization"
      ]
    },
    {
      "cell_type": "code",
      "metadata": {
        "id": "OQ4ke8BbKi50",
        "colab": {
          "base_uri": "https://localhost:8080/",
          "height": 404
        },
        "outputId": "6047e700-7606-4d84-c89d-6a660c833dab"
      },
      "source": [
        "import matplotlib.pyplot as plt\n",
        "\n",
        "epochs = range(1, len(Hist_mnist.history['loss']) + 1)\n",
        "\n",
        "plt.figure(figsize = (9, 6))\n",
        "plt.plot(epochs, Hist_mnist.history['loss'])\n",
        "plt.plot(epochs, Hist_mnist.history['val_loss'])\n",
        "# plt.ylim(0, 0.4)\n",
        "plt.title('Training & Validation Loss')\n",
        "plt.xlabel('Epochs')\n",
        "plt.ylabel('Loss')\n",
        "plt.legend(['Training Loss', 'Validation Loss'])\n",
        "plt.grid()\n",
        "plt.show()"
      ],
      "execution_count": 11,
      "outputs": [
        {
          "output_type": "display_data",
          "data": {
            "image/png": "[encoded data removed]",
            "text/plain": [
              "<Figure size 648x432 with 1 Axes>"
            ]
          },
          "metadata": {
            "tags": [],
            "needs_background": "light"
          }
        }
      ]
    },
    {
      "cell_type": "markdown",
      "metadata": {
        "id": "_uJSOLBko7lh"
      },
      "source": [
        "> ## 5) Model Evaluate"
      ]
    },
    {
      "cell_type": "markdown",
      "metadata": {
        "id": "i-TqAB2ALGzZ"
      },
      "source": [
        "* Loss & Accuracy"
      ]
    },
    {
      "cell_type": "code",
      "metadata": {
        "id": "OF30PuZsAxQJ",
        "colab": {
          "base_uri": "https://localhost:8080/"
        },
        "outputId": "5b4f5b39-d45c-4c19-f8a7-a832842e385c"
      },
      "source": [
        "loss, accuracy = model.evaluate(X_test, y_test)\n",
        "\n",
        "print('Loss = {:.5f}'.format(loss))\n",
        "print('Accuracy = {:.5f}'.format(accuracy))"
      ],
      "execution_count": 12,
      "outputs": [
        {
          "output_type": "stream",
          "text": [
            "313/313 [==============================] - 1s 3ms/step - loss: 2.9472 - accuracy: 0.3811\n",
            "Loss = 2.94722\n",
            "Accuracy = 0.38110\n"
          ],
          "name": "stdout"
        }
      ]
    },
    {
      "cell_type": "markdown",
      "metadata": {
        "id": "sN48I9GrLxOX"
      },
      "source": [
        "# \n",
        "# \n",
        "# \n",
        "# The End\n",
        "# \n",
        "# \n",
        "# "
      ]
    }
  ]
}
{
  "nbformat": 4,
  "nbformat_minor": 0,
  "metadata": {
    "colab": {
      "name": "CNN_mnist_Modeling_GPU.ipynb",
      "provenance": [],
      "authorship_tag": "ABX9TyOgjJ5p38ot+8/rbN4dRl/k",
      "include_colab_link": true
    },
    "kernelspec": {
      "name": "python3",
      "display_name": "Python 3"
    },
    "language_info": {
      "name": "python"
    },
    "accelerator": "GPU"
  },
  "cells": [
    {
      "cell_type": "markdown",
      "metadata": {
        "id": "view-in-github",
        "colab_type": "text"
      },
      "source": [
        "<a href=\"https://colab.research.google.com/github/jungmin0710/K-digital-PythonDeepLearning/blob/main/CNN_mnist_Modeling_GPU.ipynb\" target=\"_parent\"><img src=\"https://colab.research.google.com/assets/colab-badge.svg\" alt=\"Open In Colab\"/></a>"
      ]
    },
    {
      "cell_type": "markdown",
      "metadata": {
        "id": "PT_OuaF2IKQv"
      },
      "source": [
        "# MNIST - Categorical Classification\n",
        "Convolutional Neural Network(CNN)\n"
      ]
    },
    {
      "cell_type": "markdown",
      "metadata": {
        "id": "rL_nkcRqIT79"
      },
      "source": [
        "## 0. Import Keras"
      ]
    },
    {
      "cell_type": "code",
      "metadata": {
        "id": "dGToVmB1HdL0"
      },
      "source": [
        "import warnings\n",
        "warnings.filterwarnings('ignore')"
      ],
      "execution_count": 2,
      "outputs": []
    },
    {
      "cell_type": "code",
      "metadata": {
        "colab": {
          "base_uri": "https://localhost:8080/",
          "height": 35
        },
        "id": "jbENTTmYHh4w",
        "outputId": "4541714d-fb17-4dc3-a790-96d96c576e16"
      },
      "source": [
        "import keras\n",
        "\n",
        "keras.__version__"
      ],
      "execution_count": 3,
      "outputs": [
        {
          "output_type": "execute_result",
          "data": {
            "application/vnd.google.colaboratory.intrinsic+json": {
              "type": "string"
            },
            "text/plain": [
              "'2.4.3'"
            ]
          },
          "metadata": {
            "tags": []
          },
          "execution_count": 3
        }
      ]
    },
    {
      "cell_type": "markdown",
      "metadata": {
        "id": "KCEolSqTIeMO"
      },
      "source": [
        "## 1.MNIST Data_Set Load"
      ]
    },
    {
      "cell_type": "code",
      "metadata": {
        "colab": {
          "base_uri": "https://localhost:8080/"
        },
        "id": "t8oXBuzqIdQe",
        "outputId": "427775a6-4279-4cc3-cdbf-7cf310664b05"
      },
      "source": [
        "from keras.datasets import mnist\n",
        "\n",
        "(X_train, y_train), (X_test, y_test) = mnist.load_data()"
      ],
      "execution_count": 4,
      "outputs": [
        {
          "output_type": "stream",
          "text": [
            "Downloading data from https://storage.googleapis.com/tensorflow/tf-keras-datasets/mnist.npz\n",
            "11493376/11490434 [==============================] - 0s 0us/step\n"
          ],
          "name": "stdout"
        }
      ]
    },
    {
      "cell_type": "markdown",
      "metadata": {
        "id": "7Q56j94bIpYy"
      },
      "source": [
        "## 2.Data Preprocessing\n"
      ]
    },
    {
      "cell_type": "markdown",
      "metadata": {
        "id": "IssT-qXTIsR5"
      },
      "source": [
        "### 1)Reshape and Normalization\n",
        "* reshape"
      ]
    },
    {
      "cell_type": "code",
      "metadata": {
        "id": "KLqzzPXzInK2"
      },
      "source": [
        "X_train = X_train.reshape((60000, 28, 28, 1))\n",
        "X_test = X_test.reshape((10000, 28, 28, 1))"
      ],
      "execution_count": 5,
      "outputs": []
    },
    {
      "cell_type": "markdown",
      "metadata": {
        "id": "tXUzuEQoI_nl"
      },
      "source": [
        "* Normalization"
      ]
    },
    {
      "cell_type": "code",
      "metadata": {
        "id": "QOifKxm7JBKk"
      },
      "source": [
        "X_train = X_train.astype(float) / 255\n",
        "X_test = X_test.astype(float) / 255"
      ],
      "execution_count": 6,
      "outputs": []
    },
    {
      "cell_type": "markdown",
      "metadata": {
        "id": "-7uIqfMLI7bC"
      },
      "source": [
        "### 2)One Hot Encoding"
      ]
    },
    {
      "cell_type": "code",
      "metadata": {
        "id": "aUfbSGr5I6lV"
      },
      "source": [
        "from keras.utils import to_categorical\n",
        "\n",
        "y_train = to_categorical(y_train)\n",
        "y_test = to_categorical(y_test)"
      ],
      "execution_count": 7,
      "outputs": []
    },
    {
      "cell_type": "markdown",
      "metadata": {
        "id": "nDbd0DSbJPzr"
      },
      "source": [
        "## 3.MNIST Keras Modeling"
      ]
    },
    {
      "cell_type": "markdown",
      "metadata": {
        "id": "sVyECy0nJSHI"
      },
      "source": [
        "### 1)Model Define\n",
        "* Feature Extraction Layer"
      ]
    },
    {
      "cell_type": "code",
      "metadata": {
        "id": "CsX3abwNJPBf"
      },
      "source": [
        "from tensorflow.keras import models\n",
        "from tensorflow.keras import layers\n",
        "\n",
        "#CNN\n",
        "model = models.Sequential()\n",
        "model.add(layers.Conv2D(filters=32, kernel_size=(3,3), activation='relu', input_shape=(28, 28, 1)))\n",
        "model.add(layers.MaxPool2D(pool_size = (2,2)))\n",
        "model.add(layers.Conv2D(filters = 64, kernel_size = (3,3), activation = 'relu'))\n",
        "model.add(layers.MaxPool2D(pool_size = (2,2)))\n",
        "model.add(layers.Conv2D(filters = 64, kernel_size = (3,3), activation = 'relu'))\n"
      ],
      "execution_count": 10,
      "outputs": []
    },
    {
      "cell_type": "code",
      "metadata": {
        "colab": {
          "base_uri": "https://localhost:8080/"
        },
        "id": "ccKHCWObKAqW",
        "outputId": "35940a5a-c3a3-4bb3-b226-88b2cdfbdee5"
      },
      "source": [
        "model.summary()"
      ],
      "execution_count": 11,
      "outputs": [
        {
          "output_type": "stream",
          "text": [
            "Model: \"sequential\"\n",
            "_________________________________________________________________\n",
            "Layer (type)                 Output Shape              Param #   \n",
            "=================================================================\n",
            "conv2d (Conv2D)              (None, 26, 26, 32)        320       \n",
            "_________________________________________________________________\n",
            "max_pooling2d (MaxPooling2D) (None, 13, 13, 32)        0         \n",
            "_________________________________________________________________\n",
            "conv2d_1 (Conv2D)            (None, 11, 11, 64)        18496     \n",
            "_________________________________________________________________\n",
            "max_pooling2d_1 (MaxPooling2 (None, 5, 5, 64)          0         \n",
            "_________________________________________________________________\n",
            "conv2d_2 (Conv2D)            (None, 3, 3, 64)          36928     \n",
            "=================================================================\n",
            "Total params: 55,744\n",
            "Trainable params: 55,744\n",
            "Non-trainable params: 0\n",
            "_________________________________________________________________\n"
          ],
          "name": "stdout"
        }
      ]
    },
    {
      "cell_type": "markdown",
      "metadata": {
        "id": "kGvYW7e8KZKa"
      },
      "source": [
        "* Classification Layer"
      ]
    },
    {
      "cell_type": "code",
      "metadata": {
        "id": "Q8-NBkmCKXkV"
      },
      "source": [
        "#DNN\n",
        "model.add(layers.Flatten())\n",
        "model.add(layers.Dense(units = 64, activation = 'relu'))\n",
        "model.add(layers.Dense(units = 10, activation = 'softmax'))"
      ],
      "execution_count": 12,
      "outputs": []
    },
    {
      "cell_type": "code",
      "metadata": {
        "colab": {
          "base_uri": "https://localhost:8080/"
        },
        "id": "9bPdPCVUKlcz",
        "outputId": "c9dbf497-64ae-457d-9a5b-f9e3d79672f9"
      },
      "source": [
        "model.summary()"
      ],
      "execution_count": 13,
      "outputs": [
        {
          "output_type": "stream",
          "text": [
            "Model: \"sequential\"\n",
            "_________________________________________________________________\n",
            "Layer (type)                 Output Shape              Param #   \n",
            "=================================================================\n",
            "conv2d (Conv2D)              (None, 26, 26, 32)        320       \n",
            "_________________________________________________________________\n",
            "max_pooling2d (MaxPooling2D) (None, 13, 13, 32)        0         \n",
            "_________________________________________________________________\n",
            "conv2d_1 (Conv2D)            (None, 11, 11, 64)        18496     \n",
            "_________________________________________________________________\n",
            "max_pooling2d_1 (MaxPooling2 (None, 5, 5, 64)          0         \n",
            "_________________________________________________________________\n",
            "conv2d_2 (Conv2D)            (None, 3, 3, 64)          36928     \n",
            "_________________________________________________________________\n",
            "flatten (Flatten)            (None, 576)               0         \n",
            "_________________________________________________________________\n",
            "dense (Dense)                (None, 64)                36928     \n",
            "_________________________________________________________________\n",
            "dense_1 (Dense)              (None, 10)                650       \n",
            "=================================================================\n",
            "Total params: 93,322\n",
            "Trainable params: 93,322\n",
            "Non-trainable params: 0\n",
            "_________________________________________________________________\n"
          ],
          "name": "stdout"
        }
      ]
    },
    {
      "cell_type": "markdown",
      "metadata": {
        "id": "GUJF1X6MKtIV"
      },
      "source": [
        "### 2)Model Compile\n",
        "* 모델 학습방법 설정"
      ]
    },
    {
      "cell_type": "code",
      "metadata": {
        "id": "VclIjzeNKrb9"
      },
      "source": [
        "model.compile(loss = 'categorical_crossentropy',\n",
        "              optimizer = 'rmsprop',\n",
        "              metrics = ['accuracy'])"
      ],
      "execution_count": 14,
      "outputs": []
    },
    {
      "cell_type": "markdown",
      "metadata": {
        "id": "pNVjVmqgK4xV"
      },
      "source": [
        "### 3)Model Fit\n",
        "* 약 5분\n"
      ]
    },
    {
      "cell_type": "code",
      "metadata": {
        "colab": {
          "base_uri": "https://localhost:8080/"
        },
        "id": "czuYBGN5K35q",
        "outputId": "dbe00761-d429-49b2-f421-17ef0ce2ef0b"
      },
      "source": [
        "%%time\n",
        "\n",
        "Hist_mnist = model.fit(X_train, y_train,\n",
        "                       epochs = 100,\n",
        "                       batch_size = 128,\n",
        "                       validation_split = 0.2)"
      ],
      "execution_count": 16,
      "outputs": [
        {
          "output_type": "stream",
          "text": [
            "Epoch 1/100\n",
            "375/375 [==============================] - 35s 6ms/step - loss: 0.5815 - accuracy: 0.8129 - val_loss: 0.0807 - val_accuracy: 0.9762\n",
            "Epoch 2/100\n",
            "375/375 [==============================] - 2s 5ms/step - loss: 0.0669 - accuracy: 0.9783 - val_loss: 0.0436 - val_accuracy: 0.9882\n",
            "Epoch 3/100\n",
            "375/375 [==============================] - 2s 6ms/step - loss: 0.0382 - accuracy: 0.9877 - val_loss: 0.0467 - val_accuracy: 0.9861\n",
            "Epoch 4/100\n",
            "375/375 [==============================] - 2s 5ms/step - loss: 0.0302 - accuracy: 0.9907 - val_loss: 0.0579 - val_accuracy: 0.9842\n",
            "Epoch 5/100\n",
            "375/375 [==============================] - 2s 5ms/step - loss: 0.0239 - accuracy: 0.9925 - val_loss: 0.0390 - val_accuracy: 0.9902\n",
            "Epoch 6/100\n",
            "375/375 [==============================] - 2s 5ms/step - loss: 0.0169 - accuracy: 0.9954 - val_loss: 0.0377 - val_accuracy: 0.9898\n",
            "Epoch 7/100\n",
            "375/375 [==============================] - 2s 5ms/step - loss: 0.0148 - accuracy: 0.9954 - val_loss: 0.0385 - val_accuracy: 0.9894\n",
            "Epoch 8/100\n",
            "375/375 [==============================] - 2s 5ms/step - loss: 0.0116 - accuracy: 0.9961 - val_loss: 0.0399 - val_accuracy: 0.9895\n",
            "Epoch 9/100\n",
            "375/375 [==============================] - 2s 5ms/step - loss: 0.0082 - accuracy: 0.9971 - val_loss: 0.0421 - val_accuracy: 0.9902\n",
            "Epoch 10/100\n",
            "375/375 [==============================] - 2s 5ms/step - loss: 0.0058 - accuracy: 0.9980 - val_loss: 0.0466 - val_accuracy: 0.9897\n",
            "Epoch 11/100\n",
            "375/375 [==============================] - 2s 5ms/step - loss: 0.0058 - accuracy: 0.9982 - val_loss: 0.0417 - val_accuracy: 0.9922\n",
            "Epoch 12/100\n",
            "375/375 [==============================] - 2s 5ms/step - loss: 0.0052 - accuracy: 0.9983 - val_loss: 0.0467 - val_accuracy: 0.9907\n",
            "Epoch 13/100\n",
            "375/375 [==============================] - 2s 5ms/step - loss: 0.0048 - accuracy: 0.9984 - val_loss: 0.0437 - val_accuracy: 0.9916\n",
            "Epoch 14/100\n",
            "375/375 [==============================] - 2s 5ms/step - loss: 0.0042 - accuracy: 0.9985 - val_loss: 0.0607 - val_accuracy: 0.9896\n",
            "Epoch 15/100\n",
            "375/375 [==============================] - 2s 5ms/step - loss: 0.0035 - accuracy: 0.9988 - val_loss: 0.0531 - val_accuracy: 0.9913\n",
            "Epoch 16/100\n",
            "375/375 [==============================] - 2s 5ms/step - loss: 0.0028 - accuracy: 0.9989 - val_loss: 0.0560 - val_accuracy: 0.9910\n",
            "Epoch 17/100\n",
            "375/375 [==============================] - 2s 5ms/step - loss: 0.0025 - accuracy: 0.9991 - val_loss: 0.0650 - val_accuracy: 0.9888\n",
            "Epoch 18/100\n",
            "375/375 [==============================] - 2s 5ms/step - loss: 0.0023 - accuracy: 0.9991 - val_loss: 0.0737 - val_accuracy: 0.9900\n",
            "Epoch 19/100\n",
            "375/375 [==============================] - 2s 5ms/step - loss: 0.0030 - accuracy: 0.9989 - val_loss: 0.0610 - val_accuracy: 0.9912\n",
            "Epoch 20/100\n",
            "375/375 [==============================] - 2s 5ms/step - loss: 0.0030 - accuracy: 0.9991 - val_loss: 0.0642 - val_accuracy: 0.9898\n",
            "Epoch 21/100\n",
            "375/375 [==============================] - 2s 5ms/step - loss: 0.0025 - accuracy: 0.9993 - val_loss: 0.0787 - val_accuracy: 0.9903\n",
            "Epoch 22/100\n",
            "375/375 [==============================] - 2s 5ms/step - loss: 0.0022 - accuracy: 0.9991 - val_loss: 0.0638 - val_accuracy: 0.9918\n",
            "Epoch 23/100\n",
            "375/375 [==============================] - 2s 5ms/step - loss: 0.0022 - accuracy: 0.9992 - val_loss: 0.0739 - val_accuracy: 0.9914\n",
            "Epoch 24/100\n",
            "375/375 [==============================] - 2s 5ms/step - loss: 0.0017 - accuracy: 0.9996 - val_loss: 0.0630 - val_accuracy: 0.9921\n",
            "Epoch 25/100\n",
            "375/375 [==============================] - 2s 5ms/step - loss: 0.0021 - accuracy: 0.9996 - val_loss: 0.0849 - val_accuracy: 0.9894\n",
            "Epoch 26/100\n",
            "375/375 [==============================] - 2s 5ms/step - loss: 0.0018 - accuracy: 0.9994 - val_loss: 0.0776 - val_accuracy: 0.9909\n",
            "Epoch 27/100\n",
            "375/375 [==============================] - 2s 5ms/step - loss: 0.0016 - accuracy: 0.9995 - val_loss: 0.0998 - val_accuracy: 0.9883\n",
            "Epoch 28/100\n",
            "375/375 [==============================] - 2s 5ms/step - loss: 0.0019 - accuracy: 0.9994 - val_loss: 0.0865 - val_accuracy: 0.9909\n",
            "Epoch 29/100\n",
            "375/375 [==============================] - 2s 5ms/step - loss: 0.0014 - accuracy: 0.9997 - val_loss: 0.0899 - val_accuracy: 0.9902\n",
            "Epoch 30/100\n",
            "375/375 [==============================] - 2s 6ms/step - loss: 0.0010 - accuracy: 0.9996 - val_loss: 0.0904 - val_accuracy: 0.9902\n",
            "Epoch 31/100\n",
            "375/375 [==============================] - 2s 6ms/step - loss: 0.0012 - accuracy: 0.9997 - val_loss: 0.0945 - val_accuracy: 0.9910\n",
            "Epoch 32/100\n",
            "375/375 [==============================] - 2s 5ms/step - loss: 0.0021 - accuracy: 0.9994 - val_loss: 0.0973 - val_accuracy: 0.9902\n",
            "Epoch 33/100\n",
            "375/375 [==============================] - 2s 5ms/step - loss: 0.0018 - accuracy: 0.9995 - val_loss: 0.0918 - val_accuracy: 0.9910\n",
            "Epoch 34/100\n",
            "375/375 [==============================] - 2s 5ms/step - loss: 0.0015 - accuracy: 0.9997 - val_loss: 0.1019 - val_accuracy: 0.9896\n",
            "Epoch 35/100\n",
            "375/375 [==============================] - 2s 6ms/step - loss: 0.0011 - accuracy: 0.9997 - val_loss: 0.1008 - val_accuracy: 0.9904\n",
            "Epoch 36/100\n",
            "375/375 [==============================] - 2s 6ms/step - loss: 0.0017 - accuracy: 0.9994 - val_loss: 0.1042 - val_accuracy: 0.9907\n",
            "Epoch 37/100\n",
            "375/375 [==============================] - 2s 5ms/step - loss: 8.3690e-04 - accuracy: 0.9996 - val_loss: 0.1142 - val_accuracy: 0.9902\n",
            "Epoch 38/100\n",
            "375/375 [==============================] - 2s 5ms/step - loss: 0.0012 - accuracy: 0.9998 - val_loss: 0.1275 - val_accuracy: 0.9899\n",
            "Epoch 39/100\n",
            "375/375 [==============================] - 2s 5ms/step - loss: 0.0026 - accuracy: 0.9993 - val_loss: 0.1187 - val_accuracy: 0.9913\n",
            "Epoch 40/100\n",
            "375/375 [==============================] - 2s 5ms/step - loss: 9.9180e-04 - accuracy: 0.9998 - val_loss: 0.1078 - val_accuracy: 0.9910\n",
            "Epoch 41/100\n",
            "375/375 [==============================] - 2s 5ms/step - loss: 9.4198e-04 - accuracy: 0.9997 - val_loss: 0.1152 - val_accuracy: 0.9912\n",
            "Epoch 42/100\n",
            "375/375 [==============================] - 2s 5ms/step - loss: 0.0014 - accuracy: 0.9996 - val_loss: 0.1133 - val_accuracy: 0.9901\n",
            "Epoch 43/100\n",
            "375/375 [==============================] - 2s 5ms/step - loss: 4.3379e-04 - accuracy: 0.9998 - val_loss: 0.1103 - val_accuracy: 0.9918\n",
            "Epoch 44/100\n",
            "375/375 [==============================] - 2s 5ms/step - loss: 0.0011 - accuracy: 0.9997 - val_loss: 0.1334 - val_accuracy: 0.9898\n",
            "Epoch 45/100\n",
            "375/375 [==============================] - 2s 5ms/step - loss: 0.0012 - accuracy: 0.9997 - val_loss: 0.1137 - val_accuracy: 0.9906\n",
            "Epoch 46/100\n",
            "375/375 [==============================] - 2s 5ms/step - loss: 0.0018 - accuracy: 0.9997 - val_loss: 0.1167 - val_accuracy: 0.9906\n",
            "Epoch 47/100\n",
            "375/375 [==============================] - 2s 5ms/step - loss: 0.0010 - accuracy: 0.9996 - val_loss: 0.1156 - val_accuracy: 0.9916\n",
            "Epoch 48/100\n",
            "375/375 [==============================] - 2s 6ms/step - loss: 0.0014 - accuracy: 0.9997 - val_loss: 0.1174 - val_accuracy: 0.9909\n",
            "Epoch 49/100\n",
            "375/375 [==============================] - 2s 5ms/step - loss: 6.2068e-04 - accuracy: 0.9998 - val_loss: 0.1233 - val_accuracy: 0.9922\n",
            "Epoch 50/100\n",
            "375/375 [==============================] - 2s 5ms/step - loss: 6.8463e-04 - accuracy: 0.9998 - val_loss: 0.1251 - val_accuracy: 0.9915\n",
            "Epoch 51/100\n",
            "375/375 [==============================] - 2s 5ms/step - loss: 8.9954e-04 - accuracy: 0.9999 - val_loss: 0.1276 - val_accuracy: 0.9917\n",
            "Epoch 52/100\n",
            "375/375 [==============================] - 2s 5ms/step - loss: 7.0212e-04 - accuracy: 0.9997 - val_loss: 0.1256 - val_accuracy: 0.9914\n",
            "Epoch 53/100\n",
            "375/375 [==============================] - 2s 5ms/step - loss: 0.0011 - accuracy: 0.9998 - val_loss: 0.1233 - val_accuracy: 0.9911\n",
            "Epoch 54/100\n",
            "375/375 [==============================] - 2s 5ms/step - loss: 0.0010 - accuracy: 0.9998 - val_loss: 0.1367 - val_accuracy: 0.9910\n",
            "Epoch 55/100\n",
            "375/375 [==============================] - 2s 5ms/step - loss: 4.9805e-04 - accuracy: 0.9999 - val_loss: 0.1165 - val_accuracy: 0.9904\n",
            "Epoch 56/100\n",
            "375/375 [==============================] - 2s 6ms/step - loss: 5.9927e-04 - accuracy: 0.9998 - val_loss: 0.1332 - val_accuracy: 0.9907\n",
            "Epoch 57/100\n",
            "375/375 [==============================] - 2s 6ms/step - loss: 6.3068e-04 - accuracy: 0.9999 - val_loss: 0.1240 - val_accuracy: 0.9905\n",
            "Epoch 58/100\n",
            "375/375 [==============================] - 2s 5ms/step - loss: 5.4443e-04 - accuracy: 0.9998 - val_loss: 0.1388 - val_accuracy: 0.9912\n",
            "Epoch 59/100\n",
            "375/375 [==============================] - 2s 5ms/step - loss: 8.0870e-04 - accuracy: 0.9998 - val_loss: 0.1371 - val_accuracy: 0.9912\n",
            "Epoch 60/100\n",
            "375/375 [==============================] - 2s 5ms/step - loss: 0.0015 - accuracy: 0.9998 - val_loss: 0.1341 - val_accuracy: 0.9902\n",
            "Epoch 61/100\n",
            "375/375 [==============================] - 2s 6ms/step - loss: 3.0013e-04 - accuracy: 0.9999 - val_loss: 0.1462 - val_accuracy: 0.9917\n",
            "Epoch 62/100\n",
            "375/375 [==============================] - 2s 6ms/step - loss: 4.4955e-04 - accuracy: 0.9999 - val_loss: 0.1584 - val_accuracy: 0.9910\n",
            "Epoch 63/100\n",
            "375/375 [==============================] - 2s 5ms/step - loss: 3.6837e-04 - accuracy: 0.9999 - val_loss: 0.1576 - val_accuracy: 0.9910\n",
            "Epoch 64/100\n",
            "375/375 [==============================] - 2s 5ms/step - loss: 5.6228e-04 - accuracy: 0.9998 - val_loss: 0.1613 - val_accuracy: 0.9901\n",
            "Epoch 65/100\n",
            "375/375 [==============================] - 2s 5ms/step - loss: 0.0026 - accuracy: 0.9996 - val_loss: 0.1396 - val_accuracy: 0.9912\n",
            "Epoch 66/100\n",
            "375/375 [==============================] - 2s 5ms/step - loss: 8.2621e-04 - accuracy: 0.9998 - val_loss: 0.1471 - val_accuracy: 0.9916\n",
            "Epoch 67/100\n",
            "375/375 [==============================] - 2s 5ms/step - loss: 5.2910e-04 - accuracy: 0.9999 - val_loss: 0.1430 - val_accuracy: 0.9913\n",
            "Epoch 68/100\n",
            "375/375 [==============================] - 2s 5ms/step - loss: 9.7470e-04 - accuracy: 0.9997 - val_loss: 0.1549 - val_accuracy: 0.9912\n",
            "Epoch 69/100\n",
            "375/375 [==============================] - 2s 5ms/step - loss: 9.2597e-04 - accuracy: 0.9997 - val_loss: 0.1501 - val_accuracy: 0.9913\n",
            "Epoch 70/100\n",
            "375/375 [==============================] - 2s 5ms/step - loss: 2.8475e-04 - accuracy: 0.9999 - val_loss: 0.1439 - val_accuracy: 0.9909\n",
            "Epoch 71/100\n",
            "375/375 [==============================] - 2s 6ms/step - loss: 6.0061e-04 - accuracy: 0.9998 - val_loss: 0.1547 - val_accuracy: 0.9910\n",
            "Epoch 72/100\n",
            "375/375 [==============================] - 2s 5ms/step - loss: 9.2624e-04 - accuracy: 0.9997 - val_loss: 0.1676 - val_accuracy: 0.9904\n",
            "Epoch 73/100\n",
            "375/375 [==============================] - 2s 6ms/step - loss: 2.3843e-04 - accuracy: 0.9999 - val_loss: 0.1596 - val_accuracy: 0.9910\n",
            "Epoch 74/100\n",
            "375/375 [==============================] - 2s 5ms/step - loss: 4.0378e-04 - accuracy: 0.9999 - val_loss: 0.1631 - val_accuracy: 0.9905\n",
            "Epoch 75/100\n",
            "375/375 [==============================] - 2s 6ms/step - loss: 5.5936e-04 - accuracy: 0.9998 - val_loss: 0.1853 - val_accuracy: 0.9907\n",
            "Epoch 76/100\n",
            "375/375 [==============================] - 2s 6ms/step - loss: 7.8697e-04 - accuracy: 0.9998 - val_loss: 0.1465 - val_accuracy: 0.9904\n",
            "Epoch 77/100\n",
            "375/375 [==============================] - 2s 6ms/step - loss: 2.0876e-04 - accuracy: 0.9999 - val_loss: 0.1503 - val_accuracy: 0.9911\n",
            "Epoch 78/100\n",
            "375/375 [==============================] - 2s 6ms/step - loss: 2.0478e-05 - accuracy: 1.0000 - val_loss: 0.1773 - val_accuracy: 0.9913\n",
            "Epoch 79/100\n",
            "375/375 [==============================] - 2s 5ms/step - loss: 5.3566e-04 - accuracy: 0.9999 - val_loss: 0.2058 - val_accuracy: 0.9900\n",
            "Epoch 80/100\n",
            "375/375 [==============================] - 2s 6ms/step - loss: 0.0011 - accuracy: 0.9997 - val_loss: 0.2001 - val_accuracy: 0.9897\n",
            "Epoch 81/100\n",
            "375/375 [==============================] - 2s 6ms/step - loss: 8.7672e-04 - accuracy: 0.9998 - val_loss: 0.1853 - val_accuracy: 0.9910\n",
            "Epoch 82/100\n",
            "375/375 [==============================] - 2s 5ms/step - loss: 0.0014 - accuracy: 0.9997 - val_loss: 0.1730 - val_accuracy: 0.9902\n",
            "Epoch 83/100\n",
            "375/375 [==============================] - 2s 6ms/step - loss: 1.1201e-04 - accuracy: 1.0000 - val_loss: 0.1814 - val_accuracy: 0.9902\n",
            "Epoch 84/100\n",
            "375/375 [==============================] - 2s 5ms/step - loss: 5.1367e-04 - accuracy: 0.9999 - val_loss: 0.1721 - val_accuracy: 0.9902\n",
            "Epoch 85/100\n",
            "375/375 [==============================] - 2s 5ms/step - loss: 0.0018 - accuracy: 0.9997 - val_loss: 0.1569 - val_accuracy: 0.9915\n",
            "Epoch 86/100\n",
            "375/375 [==============================] - 2s 6ms/step - loss: 4.5902e-04 - accuracy: 0.9999 - val_loss: 0.1543 - val_accuracy: 0.9922\n",
            "Epoch 87/100\n",
            "375/375 [==============================] - 2s 5ms/step - loss: 1.7404e-04 - accuracy: 0.9999 - val_loss: 0.1980 - val_accuracy: 0.9912\n",
            "Epoch 88/100\n",
            "375/375 [==============================] - 2s 6ms/step - loss: 3.1518e-04 - accuracy: 0.9999 - val_loss: 0.1932 - val_accuracy: 0.9912\n",
            "Epoch 89/100\n",
            "375/375 [==============================] - 2s 5ms/step - loss: 6.1644e-04 - accuracy: 0.9998 - val_loss: 0.1830 - val_accuracy: 0.9904\n",
            "Epoch 90/100\n",
            "375/375 [==============================] - 2s 6ms/step - loss: 2.5153e-04 - accuracy: 0.9999 - val_loss: 0.2211 - val_accuracy: 0.9902\n",
            "Epoch 91/100\n",
            "375/375 [==============================] - 2s 6ms/step - loss: 6.5183e-04 - accuracy: 0.9998 - val_loss: 0.1846 - val_accuracy: 0.9912\n",
            "Epoch 92/100\n",
            "375/375 [==============================] - 2s 6ms/step - loss: 3.0515e-04 - accuracy: 0.9999 - val_loss: 0.1973 - val_accuracy: 0.9902\n",
            "Epoch 93/100\n",
            "375/375 [==============================] - 2s 5ms/step - loss: 8.3369e-05 - accuracy: 1.0000 - val_loss: 0.2199 - val_accuracy: 0.9897\n",
            "Epoch 94/100\n",
            "375/375 [==============================] - 2s 5ms/step - loss: 2.2341e-05 - accuracy: 1.0000 - val_loss: 0.1929 - val_accuracy: 0.9908\n",
            "Epoch 95/100\n",
            "375/375 [==============================] - 2s 5ms/step - loss: 5.5846e-04 - accuracy: 0.9998 - val_loss: 0.1838 - val_accuracy: 0.9916\n",
            "Epoch 96/100\n",
            "375/375 [==============================] - 2s 6ms/step - loss: 0.0010 - accuracy: 0.9999 - val_loss: 0.2193 - val_accuracy: 0.9907\n",
            "Epoch 97/100\n",
            "375/375 [==============================] - 2s 6ms/step - loss: 6.1006e-04 - accuracy: 0.9998 - val_loss: 0.2078 - val_accuracy: 0.9911\n",
            "Epoch 98/100\n",
            "375/375 [==============================] - 2s 6ms/step - loss: 1.0487e-04 - accuracy: 0.9999 - val_loss: 0.1854 - val_accuracy: 0.9915\n",
            "Epoch 99/100\n",
            "375/375 [==============================] - 2s 6ms/step - loss: 1.0141e-04 - accuracy: 1.0000 - val_loss: 0.2047 - val_accuracy: 0.9909\n",
            "Epoch 100/100\n",
            "375/375 [==============================] - 2s 5ms/step - loss: 7.2593e-04 - accuracy: 0.9999 - val_loss: 0.2150 - val_accuracy: 0.9905\n",
            "CPU times: user 3min 21s, sys: 37.3 s, total: 3min 58s\n",
            "Wall time: 3min 59s\n"
          ],
          "name": "stdout"
        }
      ]
    },
    {
      "cell_type": "markdown",
      "metadata": {
        "id": "UpwO4GeeLN3H"
      },
      "source": [
        "### 4)학습 결과 시각화\n",
        "* Loss visualization"
      ]
    },
    {
      "cell_type": "code",
      "metadata": {
        "colab": {
          "base_uri": "https://localhost:8080/",
          "height": 404
        },
        "id": "UyAwNwFcLFMH",
        "outputId": "3f3f81fe-d787-4ede-f2a8-d3f85778a5f7"
      },
      "source": [
        "import matplotlib.pyplot as plt\n",
        "\n",
        "epochs = range(1, len(Hist_mnist.history['loss']) + 1)\n",
        "\n",
        "plt.figure(figsize = (9, 6)) \n",
        "plt.plot(epochs, Hist_mnist.history['loss']) \n",
        "plt.plot(epochs, Hist_mnist.history['val_loss']) \n",
        "plt.ylim(0, 0.4) \n",
        "plt.title('Training & Validation Loss') \n",
        "plt.xlabel('Epochs') \n",
        "plt.ylabel('Loss') \n",
        "plt.legend(['Training Loss', 'Validation Loss']) \n",
        "plt.grid() \n",
        "plt.show()"
      ],
      "execution_count": 17,
      "outputs": [
        {
          "output_type": "display_data",
          "data": {
            "image/png": "[encoded data removed]",
            "text/plain": [
              "<Figure size 648x432 with 1 Axes>"
            ]
          },
          "metadata": {
            "tags": [],
            "needs_background": "light"
          }
        }
      ]
    },
    {
      "cell_type": "markdown",
      "metadata": {
        "id": "8tNgJ4WALc-1"
      },
      "source": [
        "### 5)Model Evaluate\n",
        "* Loss & Accuracy"
      ]
    },
    {
      "cell_type": "code",
      "metadata": {
        "colab": {
          "base_uri": "https://localhost:8080/"
        },
        "id": "J50GERXWLg00",
        "outputId": "631e1ec1-5198-4366-bc30-cafd8e7ca9b3"
      },
      "source": [
        "loss, accuracy = model.evaluate(X_test, y_test)\n",
        "\n",
        "print('Loss = {:.5f}'.format(loss)) \n",
        "print('Accuracy = {:.5f}'.format(accuracy))"
      ],
      "execution_count": 18,
      "outputs": [
        {
          "output_type": "stream",
          "text": [
            "313/313 [==============================] - 1s 3ms/step - loss: 0.1359 - accuracy: 0.9927\n",
            "Loss = 0.13589\n",
            "Accuracy = 0.99270\n"
          ],
          "name": "stdout"
        }
      ]
    },
    {
      "cell_type": "markdown",
      "metadata": {
        "id": "vjWjdxEjRLyr"
      },
      "source": [
        "본 내용은 2021/03/22(월)에 학습한 내용입니다."
      ]
    }
  ]
}
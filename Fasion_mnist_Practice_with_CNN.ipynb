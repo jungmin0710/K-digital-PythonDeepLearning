{
  "nbformat": 4,
  "nbformat_minor": 0,
  "metadata": {
    "colab": {
      "name": "Fasion_mnist_Practice with CNN.ipynb",
      "provenance": [],
      "collapsed_sections": [],
      "authorship_tag": "ABX9TyMKTexskcIegvuJYBYiC/az",
      "include_colab_link": true
    },
    "kernelspec": {
      "name": "python3",
      "display_name": "Python 3"
    },
    "language_info": {
      "name": "python"
    },
    "accelerator": "GPU"
  },
  "cells": [
    {
      "cell_type": "markdown",
      "metadata": {
        "id": "view-in-github",
        "colab_type": "text"
      },
      "source": [
        "<a href=\"https://colab.research.google.com/github/jungmin0710/K-digital-PythonDeepLearning/blob/main/Fasion_mnist_Practice_with_CNN.ipynb\" target=\"_parent\"><img src=\"https://colab.research.google.com/assets/colab-badge.svg\" alt=\"Open In Colab\"/></a>"
      ]
    },
    {
      "cell_type": "markdown",
      "metadata": {
        "id": "paQaXO1qNsTx"
      },
      "source": [
        "# Keras - Fasion MNIST\n",
        "CNN으로 분류모델 만들기\n"
      ]
    },
    {
      "cell_type": "code",
      "metadata": {
        "id": "pG5WTWS4Nmnh"
      },
      "source": [
        "import warnings\n",
        "warnings.filterwarnings('ignore')"
      ],
      "execution_count": 1,
      "outputs": []
    },
    {
      "cell_type": "markdown",
      "metadata": {
        "id": "S6SRD4p7OI7P"
      },
      "source": [
        "## 0.Import Tensorflow & Keras\n",
        "* import Keras"
      ]
    },
    {
      "cell_type": "code",
      "metadata": {
        "colab": {
          "base_uri": "https://localhost:8080/",
          "height": 35
        },
        "id": "E10HzXTZOIWE",
        "outputId": "30e68452-dbc4-4e1d-88ca-ca863e17e02a"
      },
      "source": [
        "import keras\n",
        "\n",
        "keras.__version__"
      ],
      "execution_count": 2,
      "outputs": [
        {
          "output_type": "execute_result",
          "data": {
            "application/vnd.google.colaboratory.intrinsic+json": {
              "type": "string"
            },
            "text/plain": [
              "'2.4.3'"
            ]
          },
          "metadata": {
            "tags": []
          },
          "execution_count": 2
        }
      ]
    },
    {
      "cell_type": "markdown",
      "metadata": {
        "id": "q5-nOB20Oyvd"
      },
      "source": [
        "* import Tensorflow"
      ]
    },
    {
      "cell_type": "code",
      "metadata": {
        "colab": {
          "base_uri": "https://localhost:8080/",
          "height": 35
        },
        "id": "f9RnlK-5OOt_",
        "outputId": "702a5eea-5039-4842-e7c5-ddb8ed40ba3a"
      },
      "source": [
        "import tensorflow as tf\n",
        "\n",
        "tf.__version__"
      ],
      "execution_count": 3,
      "outputs": [
        {
          "output_type": "execute_result",
          "data": {
            "application/vnd.google.colaboratory.intrinsic+json": {
              "type": "string"
            },
            "text/plain": [
              "'2.4.1'"
            ]
          },
          "metadata": {
            "tags": []
          },
          "execution_count": 3
        }
      ]
    },
    {
      "cell_type": "markdown",
      "metadata": {
        "id": "wNqg6-pwO3aX"
      },
      "source": [
        "* GPU 확인"
      ]
    },
    {
      "cell_type": "code",
      "metadata": {
        "colab": {
          "base_uri": "https://localhost:8080/",
          "height": 35
        },
        "id": "dUTINsTwO04J",
        "outputId": "af5c3ede-d421-4e9d-f034-4ce69bbfbbb2"
      },
      "source": [
        "tf.test.gpu_device_name()"
      ],
      "execution_count": 4,
      "outputs": [
        {
          "output_type": "execute_result",
          "data": {
            "application/vnd.google.colaboratory.intrinsic+json": {
              "type": "string"
            },
            "text/plain": [
              "'/device:GPU:0'"
            ]
          },
          "metadata": {
            "tags": []
          },
          "execution_count": 4
        }
      ]
    },
    {
      "cell_type": "markdown",
      "metadata": {
        "id": "dzThUB2PPAoc"
      },
      "source": [
        "## 1.Fasion MNIST Data_Set Load & Review\n"
      ]
    },
    {
      "cell_type": "markdown",
      "metadata": {
        "id": "tjpoHEzNYzcC"
      },
      "source": [
        "\n",
        "### 1)Load Fasion MNIST Data_Set"
      ]
    },
    {
      "cell_type": "code",
      "metadata": {
        "id": "Ou6bXRLFO4c1"
      },
      "source": [
        "from keras.datasets import fashion_mnist\n",
        "\n",
        "(X_train, y_train), (X_test, y_test) = fashion_mnist.load_data()"
      ],
      "execution_count": 5,
      "outputs": []
    },
    {
      "cell_type": "markdown",
      "metadata": {
        "id": "bcD19SmePTYV"
      },
      "source": [
        "* Train_Data Information"
      ]
    },
    {
      "cell_type": "code",
      "metadata": {
        "colab": {
          "base_uri": "https://localhost:8080/"
        },
        "id": "QAuQRZ_xPRVl",
        "outputId": "81a00051-2c24-4bd6-e005-a78421340867"
      },
      "source": [
        "print(len(X_train))\n",
        "print(X_train.shape)\n",
        "\n",
        "print(len(y_train))\n",
        "print(y_train[0:5])"
      ],
      "execution_count": 6,
      "outputs": [
        {
          "output_type": "stream",
          "text": [
            "60000\n",
            "(60000, 28, 28)\n",
            "60000\n",
            "[9 0 0 3 0]\n"
          ],
          "name": "stdout"
        }
      ]
    },
    {
      "cell_type": "markdown",
      "metadata": {
        "id": "-OFHQK03PdKJ"
      },
      "source": [
        "* Test_Data Information"
      ]
    },
    {
      "cell_type": "code",
      "metadata": {
        "colab": {
          "base_uri": "https://localhost:8080/"
        },
        "id": "DiIDZADCPcge",
        "outputId": "4f5535b8-c125-4593-a844-e5259a88c865"
      },
      "source": [
        "print(len(X_test))\n",
        "print(X_test.shape)\n",
        "\n",
        "print(len(y_test))\n",
        "print(y_test[0:5])"
      ],
      "execution_count": 7,
      "outputs": [
        {
          "output_type": "stream",
          "text": [
            "10000\n",
            "(10000, 28, 28)\n",
            "10000\n",
            "[9 2 1 1 6]\n"
          ],
          "name": "stdout"
        }
      ]
    },
    {
      "cell_type": "markdown",
      "metadata": {
        "id": "74frBYXSPnpu"
      },
      "source": [
        "### 2)Visualization"
      ]
    },
    {
      "cell_type": "code",
      "metadata": {
        "colab": {
          "base_uri": "https://localhost:8080/",
          "height": 265
        },
        "id": "0Lqaj1m4PkYl",
        "outputId": "17eccdff-78b9-4ecc-dc15-58edecc2b8bc"
      },
      "source": [
        "import matplotlib.pyplot as plt\n",
        "\n",
        "# 어떤 이미지인지 확인하기(흑백)\n",
        "digit = X_train[0]\n",
        "plt.imshow(digit, cmap = 'gray')\n",
        "plt.show()"
      ],
      "execution_count": 8,
      "outputs": [
        {
          "output_type": "display_data",
          "data": {
            "image/png": "[encoded data removed]",
            "text/plain": [
              "<Figure size 432x288 with 1 Axes>"
            ]
          },
          "metadata": {
            "tags": [],
            "needs_background": "light"
          }
        }
      ]
    },
    {
      "cell_type": "code",
      "metadata": {
        "colab": {
          "base_uri": "https://localhost:8080/"
        },
        "id": "tYebP22lPwFl",
        "outputId": "7cabf724-c46b-4b94-c65b-d19fd6d700d7"
      },
      "source": [
        "import numpy as np\n",
        "\n",
        "# 2차원 행렬로 확인하기\n",
        "np.set_printoptions(linewidth = 150)\n",
        "\n",
        "print(X_train[0])"
      ],
      "execution_count": 9,
      "outputs": [
        {
          "output_type": "stream",
          "text": [
            "[[  0   0   0   0   0   0   0   0   0   0   0   0   0   0   0   0   0   0   0   0   0   0   0   0   0   0   0   0]\n",
            " [  0   0   0   0   0   0   0   0   0   0   0   0   0   0   0   0   0   0   0   0   0   0   0   0   0   0   0   0]\n",
            " [  0   0   0   0   0   0   0   0   0   0   0   0   0   0   0   0   0   0   0   0   0   0   0   0   0   0   0   0]\n",
            " [  0   0   0   0   0   0   0   0   0   0   0   0   1   0   0  13  73   0   0   1   4   0   0   0   0   1   1   0]\n",
            " [  0   0   0   0   0   0   0   0   0   0   0   0   3   0  36 136 127  62  54   0   0   0   1   3   4   0   0   3]\n",
            " [  0   0   0   0   0   0   0   0   0   0   0   0   6   0 102 204 176 134 144 123  23   0   0   0   0  12  10   0]\n",
            " [  0   0   0   0   0   0   0   0   0   0   0   0   0   0 155 236 207 178 107 156 161 109  64  23  77 130  72  15]\n",
            " [  0   0   0   0   0   0   0   0   0   0   0   1   0  69 207 223 218 216 216 163 127 121 122 146 141  88 172  66]\n",
            " [  0   0   0   0   0   0   0   0   0   1   1   1   0 200 232 232 233 229 223 223 215 213 164 127 123 196 229   0]\n",
            " [  0   0   0   0   0   0   0   0   0   0   0   0   0 183 225 216 223 228 235 227 224 222 224 221 223 245 173   0]\n",
            " [  0   0   0   0   0   0   0   0   0   0   0   0   0 193 228 218 213 198 180 212 210 211 213 223 220 243 202   0]\n",
            " [  0   0   0   0   0   0   0   0   0   1   3   0  12 219 220 212 218 192 169 227 208 218 224 212 226 197 209  52]\n",
            " [  0   0   0   0   0   0   0   0   0   0   6   0  99 244 222 220 218 203 198 221 215 213 222 220 245 119 167  56]\n",
            " [  0   0   0   0   0   0   0   0   0   4   0   0  55 236 228 230 228 240 232 213 218 223 234 217 217 209  92   0]\n",
            " [  0   0   1   4   6   7   2   0   0   0   0   0 237 226 217 223 222 219 222 221 216 223 229 215 218 255  77   0]\n",
            " [  0   3   0   0   0   0   0   0   0  62 145 204 228 207 213 221 218 208 211 218 224 223 219 215 224 244 159   0]\n",
            " [  0   0   0   0  18  44  82 107 189 228 220 222 217 226 200 205 211 230 224 234 176 188 250 248 233 238 215   0]\n",
            " [  0  57 187 208 224 221 224 208 204 214 208 209 200 159 245 193 206 223 255 255 221 234 221 211 220 232 246   0]\n",
            " [  3 202 228 224 221 211 211 214 205 205 205 220 240  80 150 255 229 221 188 154 191 210 204 209 222 228 225   0]\n",
            " [ 98 233 198 210 222 229 229 234 249 220 194 215 217 241  65  73 106 117 168 219 221 215 217 223 223 224 229  29]\n",
            " [ 75 204 212 204 193 205 211 225 216 185 197 206 198 213 240 195 227 245 239 223 218 212 209 222 220 221 230  67]\n",
            " [ 48 203 183 194 213 197 185 190 194 192 202 214 219 221 220 236 225 216 199 206 186 181 177 172 181 205 206 115]\n",
            " [  0 122 219 193 179 171 183 196 204 210 213 207 211 210 200 196 194 191 195 191 198 192 176 156 167 177 210  92]\n",
            " [  0   0  74 189 212 191 175 172 175 181 185 188 189 188 193 198 204 209 210 210 211 188 188 194 192 216 170   0]\n",
            " [  2   0   0   0  66 200 222 237 239 242 246 243 244 221 220 193 191 179 182 182 181 176 166 168  99  58   0   0]\n",
            " [  0   0   0   0   0   0   0  40  61  44  72  41  35   0   0   0   0   0   0   0   0   0   0   0   0   0   0   0]\n",
            " [  0   0   0   0   0   0   0   0   0   0   0   0   0   0   0   0   0   0   0   0   0   0   0   0   0   0   0   0]\n",
            " [  0   0   0   0   0   0   0   0   0   0   0   0   0   0   0   0   0   0   0   0   0   0   0   0   0   0   0   0]]\n"
          ],
          "name": "stdout"
        }
      ]
    },
    {
      "cell_type": "markdown",
      "metadata": {
        "id": "JuVjntXrQLq0"
      },
      "source": [
        "## 2.Data Preprocessing\n"
      ]
    },
    {
      "cell_type": "markdown",
      "metadata": {
        "id": "mE9sHF8fY4Tn"
      },
      "source": [
        "### 1)Reshape and Normalization\n",
        "* reshape"
      ]
    },
    {
      "cell_type": "code",
      "metadata": {
        "id": "q8SXXfwqP-ct"
      },
      "source": [
        "#CNN을 적용하기 위해 reshape한다\n",
        "X_train = X_train.reshape((60000, 28 , 28, 1))\n",
        "X_test = X_test.reshape((10000, 28 , 28, 1))"
      ],
      "execution_count": 10,
      "outputs": []
    },
    {
      "cell_type": "markdown",
      "metadata": {
        "id": "ORB7BhuDQ1T1"
      },
      "source": [
        "* Normaliztion"
      ]
    },
    {
      "cell_type": "code",
      "metadata": {
        "id": "LTmpimrvQz0-"
      },
      "source": [
        "# model에 집어넣기 위해 데이터를 실수화 한 후 정규화시킨다\n",
        "X_train = X_train.astype(float) / 255\n",
        "X_test = X_test.astype(float) / 255"
      ],
      "execution_count": 11,
      "outputs": []
    },
    {
      "cell_type": "markdown",
      "metadata": {
        "id": "11zXwzXdRLbe"
      },
      "source": [
        "### 2)One Hot Encoding"
      ]
    },
    {
      "cell_type": "code",
      "metadata": {
        "id": "znxqbytiRHM5"
      },
      "source": [
        "from keras.utils import to_categorical\n",
        "\n",
        "#결과값을 인코딩한 후 실수형으로 만든다(1.값이 존재하는 인덱스가 실제 y값에 해당)\n",
        "y_train = to_categorical(y_train)\n",
        "y_test = to_categorical(y_test)"
      ],
      "execution_count": 12,
      "outputs": []
    },
    {
      "cell_type": "markdown",
      "metadata": {
        "id": "Mt5NFg9bRhSy"
      },
      "source": [
        "## 3.MNIST Keras Modeling\n"
      ]
    },
    {
      "cell_type": "markdown",
      "metadata": {
        "id": "Bzt7os0IY7g1"
      },
      "source": [
        "### 1)Model Define"
      ]
    },
    {
      "cell_type": "markdown",
      "metadata": {
        "id": "yuT1cFYMnrzk"
      },
      "source": [
        "* Feature Extraction Layer"
      ]
    },
    {
      "cell_type": "code",
      "metadata": {
        "id": "0wvXXCP7RalV"
      },
      "source": [
        "from keras import models\n",
        "from keras import layers\n",
        "\n",
        "#CNN\n",
        "mnist = models.Sequential()\n",
        "mnist.add(layers.Conv2D(filters=32, kernel_size=(3,3), activation='relu', input_shape=(28, 28, 1)))\n",
        "mnist.add(layers.MaxPool2D(pool_size = (2,2)))\n",
        "mnist.add(layers.Conv2D(filters = 64, kernel_size = (3,3), activation = 'relu'))\n",
        "mnist.add(layers.MaxPool2D(pool_size = (2,2)))\n",
        "mnist.add(layers.Conv2D(filters = 64, kernel_size = (3,3), activation = 'relu'))"
      ],
      "execution_count": 13,
      "outputs": []
    },
    {
      "cell_type": "code",
      "metadata": {
        "colab": {
          "base_uri": "https://localhost:8080/"
        },
        "id": "M7-XCjLASX9e",
        "outputId": "39b747fc-94a1-409b-efa3-148bc5ba057c"
      },
      "source": [
        "mnist.summary()"
      ],
      "execution_count": 14,
      "outputs": [
        {
          "output_type": "stream",
          "text": [
            "Model: \"sequential\"\n",
            "_________________________________________________________________\n",
            "Layer (type)                 Output Shape              Param #   \n",
            "=================================================================\n",
            "conv2d (Conv2D)              (None, 26, 26, 32)        320       \n",
            "_________________________________________________________________\n",
            "max_pooling2d (MaxPooling2D) (None, 13, 13, 32)        0         \n",
            "_________________________________________________________________\n",
            "conv2d_1 (Conv2D)            (None, 11, 11, 64)        18496     \n",
            "_________________________________________________________________\n",
            "max_pooling2d_1 (MaxPooling2 (None, 5, 5, 64)          0         \n",
            "_________________________________________________________________\n",
            "conv2d_2 (Conv2D)            (None, 3, 3, 64)          36928     \n",
            "=================================================================\n",
            "Total params: 55,744\n",
            "Trainable params: 55,744\n",
            "Non-trainable params: 0\n",
            "_________________________________________________________________\n"
          ],
          "name": "stdout"
        }
      ]
    },
    {
      "cell_type": "markdown",
      "metadata": {
        "id": "75qdG3lEn9zr"
      },
      "source": [
        "* Classification Layer"
      ]
    },
    {
      "cell_type": "code",
      "metadata": {
        "id": "pmd0A0F-oEow"
      },
      "source": [
        "#DNN\n",
        "mnist.add(layers.Flatten())\n",
        "mnist.add(layers.Dense(units = 64, activation = 'relu'))\n",
        "mnist.add(layers.Dense(units = 10, activation = 'softmax'))"
      ],
      "execution_count": 15,
      "outputs": []
    },
    {
      "cell_type": "code",
      "metadata": {
        "colab": {
          "base_uri": "https://localhost:8080/"
        },
        "id": "eeo3emPEoPLG",
        "outputId": "4a392967-cdb5-4020-b7c8-06c6e98df4fc"
      },
      "source": [
        "mnist.summary()"
      ],
      "execution_count": 16,
      "outputs": [
        {
          "output_type": "stream",
          "text": [
            "Model: \"sequential\"\n",
            "_________________________________________________________________\n",
            "Layer (type)                 Output Shape              Param #   \n",
            "=================================================================\n",
            "conv2d (Conv2D)              (None, 26, 26, 32)        320       \n",
            "_________________________________________________________________\n",
            "max_pooling2d (MaxPooling2D) (None, 13, 13, 32)        0         \n",
            "_________________________________________________________________\n",
            "conv2d_1 (Conv2D)            (None, 11, 11, 64)        18496     \n",
            "_________________________________________________________________\n",
            "max_pooling2d_1 (MaxPooling2 (None, 5, 5, 64)          0         \n",
            "_________________________________________________________________\n",
            "conv2d_2 (Conv2D)            (None, 3, 3, 64)          36928     \n",
            "_________________________________________________________________\n",
            "flatten (Flatten)            (None, 576)               0         \n",
            "_________________________________________________________________\n",
            "dense (Dense)                (None, 64)                36928     \n",
            "_________________________________________________________________\n",
            "dense_1 (Dense)              (None, 10)                650       \n",
            "=================================================================\n",
            "Total params: 93,322\n",
            "Trainable params: 93,322\n",
            "Non-trainable params: 0\n",
            "_________________________________________________________________\n"
          ],
          "name": "stdout"
        }
      ]
    },
    {
      "cell_type": "markdown",
      "metadata": {
        "id": "Or6nFMnCSd1_"
      },
      "source": [
        "### 2)Model Compile"
      ]
    },
    {
      "cell_type": "code",
      "metadata": {
        "id": "8d4TE-v3SZ5x"
      },
      "source": [
        "mnist.compile(loss = 'categorical_crossentropy', #다중분류모델\n",
        "              optimizer = 'rmsprop',\n",
        "              metrics = ['accuracy'])"
      ],
      "execution_count": 17,
      "outputs": []
    },
    {
      "cell_type": "markdown",
      "metadata": {
        "id": "1cwH4DTgSoRK"
      },
      "source": [
        "### 3)Model Fit"
      ]
    },
    {
      "cell_type": "code",
      "metadata": {
        "colab": {
          "base_uri": "https://localhost:8080/"
        },
        "id": "LGmDlftFSm8P",
        "outputId": "bcf833b7-4ecb-46f8-eb46-7867dd43ff29"
      },
      "source": [
        "%%time\n",
        "\n",
        "Hist_mnist = mnist.fit(X_train, y_train,\n",
        "                       epochs = 100,\n",
        "                       batch_size = 128,\n",
        "                       validation_split = 0.2)"
      ],
      "execution_count": 18,
      "outputs": [
        {
          "output_type": "stream",
          "text": [
            "Epoch 1/100\n",
            "375/375 [==============================] - 33s 7ms/step - loss: 0.9590 - accuracy: 0.6621 - val_loss: 0.4521 - val_accuracy: 0.8356\n",
            "Epoch 2/100\n",
            "375/375 [==============================] - 2s 6ms/step - loss: 0.4206 - accuracy: 0.8455 - val_loss: 0.3535 - val_accuracy: 0.8716\n",
            "Epoch 3/100\n",
            "375/375 [==============================] - 2s 5ms/step - loss: 0.3455 - accuracy: 0.8743 - val_loss: 0.3203 - val_accuracy: 0.8828\n",
            "Epoch 4/100\n",
            "375/375 [==============================] - 2s 5ms/step - loss: 0.3049 - accuracy: 0.8882 - val_loss: 0.3084 - val_accuracy: 0.8896\n",
            "Epoch 5/100\n",
            "375/375 [==============================] - 2s 5ms/step - loss: 0.2756 - accuracy: 0.8999 - val_loss: 0.2880 - val_accuracy: 0.8957\n",
            "Epoch 6/100\n",
            "375/375 [==============================] - 2s 6ms/step - loss: 0.2426 - accuracy: 0.9119 - val_loss: 0.2759 - val_accuracy: 0.9015\n",
            "Epoch 7/100\n",
            "375/375 [==============================] - 2s 6ms/step - loss: 0.2276 - accuracy: 0.9159 - val_loss: 0.2643 - val_accuracy: 0.9070\n",
            "Epoch 8/100\n",
            "375/375 [==============================] - 2s 5ms/step - loss: 0.2076 - accuracy: 0.9233 - val_loss: 0.2772 - val_accuracy: 0.9001\n",
            "Epoch 9/100\n",
            "375/375 [==============================] - 2s 5ms/step - loss: 0.1979 - accuracy: 0.9264 - val_loss: 0.2616 - val_accuracy: 0.9086\n",
            "Epoch 10/100\n",
            "375/375 [==============================] - 2s 5ms/step - loss: 0.1824 - accuracy: 0.9326 - val_loss: 0.2743 - val_accuracy: 0.9078\n",
            "Epoch 11/100\n",
            "375/375 [==============================] - 2s 6ms/step - loss: 0.1676 - accuracy: 0.9401 - val_loss: 0.2756 - val_accuracy: 0.9091\n",
            "Epoch 12/100\n",
            "375/375 [==============================] - 2s 5ms/step - loss: 0.1632 - accuracy: 0.9387 - val_loss: 0.2684 - val_accuracy: 0.9105\n",
            "Epoch 13/100\n",
            "375/375 [==============================] - 2s 6ms/step - loss: 0.1426 - accuracy: 0.9478 - val_loss: 0.2740 - val_accuracy: 0.9095\n",
            "Epoch 14/100\n",
            "375/375 [==============================] - 2s 6ms/step - loss: 0.1308 - accuracy: 0.9517 - val_loss: 0.2843 - val_accuracy: 0.9093\n",
            "Epoch 15/100\n",
            "375/375 [==============================] - 2s 5ms/step - loss: 0.1222 - accuracy: 0.9556 - val_loss: 0.2808 - val_accuracy: 0.9096\n",
            "Epoch 16/100\n",
            "375/375 [==============================] - 2s 6ms/step - loss: 0.1142 - accuracy: 0.9572 - val_loss: 0.3048 - val_accuracy: 0.9118\n",
            "Epoch 17/100\n",
            "375/375 [==============================] - 2s 6ms/step - loss: 0.1015 - accuracy: 0.9621 - val_loss: 0.3072 - val_accuracy: 0.9107\n",
            "Epoch 18/100\n",
            "375/375 [==============================] - 2s 6ms/step - loss: 0.0963 - accuracy: 0.9655 - val_loss: 0.3256 - val_accuracy: 0.9101\n",
            "Epoch 19/100\n",
            "375/375 [==============================] - 2s 6ms/step - loss: 0.0895 - accuracy: 0.9669 - val_loss: 0.3393 - val_accuracy: 0.9087\n",
            "Epoch 20/100\n",
            "375/375 [==============================] - 2s 6ms/step - loss: 0.0820 - accuracy: 0.9690 - val_loss: 0.3405 - val_accuracy: 0.9082\n",
            "Epoch 21/100\n",
            "375/375 [==============================] - 2s 6ms/step - loss: 0.0733 - accuracy: 0.9736 - val_loss: 0.3713 - val_accuracy: 0.9068\n",
            "Epoch 22/100\n",
            "375/375 [==============================] - 2s 5ms/step - loss: 0.0668 - accuracy: 0.9755 - val_loss: 0.3929 - val_accuracy: 0.9087\n",
            "Epoch 23/100\n",
            "375/375 [==============================] - 2s 6ms/step - loss: 0.0643 - accuracy: 0.9757 - val_loss: 0.3825 - val_accuracy: 0.9107\n",
            "Epoch 24/100\n",
            "375/375 [==============================] - 2s 6ms/step - loss: 0.0581 - accuracy: 0.9797 - val_loss: 0.4081 - val_accuracy: 0.9081\n",
            "Epoch 25/100\n",
            "375/375 [==============================] - 2s 6ms/step - loss: 0.0542 - accuracy: 0.9805 - val_loss: 0.4460 - val_accuracy: 0.9083\n",
            "Epoch 26/100\n",
            "375/375 [==============================] - 2s 6ms/step - loss: 0.0504 - accuracy: 0.9820 - val_loss: 0.4527 - val_accuracy: 0.9039\n",
            "Epoch 27/100\n",
            "375/375 [==============================] - 2s 6ms/step - loss: 0.0464 - accuracy: 0.9836 - val_loss: 0.4728 - val_accuracy: 0.9102\n",
            "Epoch 28/100\n",
            "375/375 [==============================] - 2s 5ms/step - loss: 0.0440 - accuracy: 0.9839 - val_loss: 0.5060 - val_accuracy: 0.9101\n",
            "Epoch 29/100\n",
            "375/375 [==============================] - 2s 6ms/step - loss: 0.0400 - accuracy: 0.9858 - val_loss: 0.5279 - val_accuracy: 0.9091\n",
            "Epoch 30/100\n",
            "375/375 [==============================] - 2s 5ms/step - loss: 0.0403 - accuracy: 0.9852 - val_loss: 0.5262 - val_accuracy: 0.9103\n",
            "Epoch 31/100\n",
            "375/375 [==============================] - 2s 6ms/step - loss: 0.0361 - accuracy: 0.9867 - val_loss: 0.5380 - val_accuracy: 0.9070\n",
            "Epoch 32/100\n",
            "375/375 [==============================] - 2s 6ms/step - loss: 0.0360 - accuracy: 0.9864 - val_loss: 0.5515 - val_accuracy: 0.9123\n",
            "Epoch 33/100\n",
            "375/375 [==============================] - 2s 6ms/step - loss: 0.0330 - accuracy: 0.9876 - val_loss: 0.5533 - val_accuracy: 0.9114\n",
            "Epoch 34/100\n",
            "375/375 [==============================] - 2s 5ms/step - loss: 0.0310 - accuracy: 0.9893 - val_loss: 0.5956 - val_accuracy: 0.9090\n",
            "Epoch 35/100\n",
            "375/375 [==============================] - 2s 6ms/step - loss: 0.0285 - accuracy: 0.9898 - val_loss: 0.5748 - val_accuracy: 0.9093\n",
            "Epoch 36/100\n",
            "375/375 [==============================] - 2s 6ms/step - loss: 0.0286 - accuracy: 0.9901 - val_loss: 0.6651 - val_accuracy: 0.9044\n",
            "Epoch 37/100\n",
            "375/375 [==============================] - 2s 5ms/step - loss: 0.0279 - accuracy: 0.9905 - val_loss: 0.6985 - val_accuracy: 0.9110\n",
            "Epoch 38/100\n",
            "375/375 [==============================] - 2s 6ms/step - loss: 0.0256 - accuracy: 0.9910 - val_loss: 0.7043 - val_accuracy: 0.9102\n",
            "Epoch 39/100\n",
            "375/375 [==============================] - 2s 6ms/step - loss: 0.0225 - accuracy: 0.9912 - val_loss: 0.6908 - val_accuracy: 0.9080\n",
            "Epoch 40/100\n",
            "375/375 [==============================] - 2s 6ms/step - loss: 0.0255 - accuracy: 0.9905 - val_loss: 0.7204 - val_accuracy: 0.9072\n",
            "Epoch 41/100\n",
            "375/375 [==============================] - 2s 6ms/step - loss: 0.0222 - accuracy: 0.9922 - val_loss: 0.7413 - val_accuracy: 0.9096\n",
            "Epoch 42/100\n",
            "375/375 [==============================] - 2s 5ms/step - loss: 0.0225 - accuracy: 0.9921 - val_loss: 0.6992 - val_accuracy: 0.9059\n",
            "Epoch 43/100\n",
            "375/375 [==============================] - 2s 6ms/step - loss: 0.0219 - accuracy: 0.9923 - val_loss: 0.7441 - val_accuracy: 0.9094\n",
            "Epoch 44/100\n",
            "375/375 [==============================] - 2s 5ms/step - loss: 0.0215 - accuracy: 0.9921 - val_loss: 0.7728 - val_accuracy: 0.9052\n",
            "Epoch 45/100\n",
            "375/375 [==============================] - 2s 6ms/step - loss: 0.0219 - accuracy: 0.9921 - val_loss: 0.7569 - val_accuracy: 0.9054\n",
            "Epoch 46/100\n",
            "375/375 [==============================] - 2s 5ms/step - loss: 0.0230 - accuracy: 0.9922 - val_loss: 0.7908 - val_accuracy: 0.9072\n",
            "Epoch 47/100\n",
            "375/375 [==============================] - 2s 5ms/step - loss: 0.0201 - accuracy: 0.9938 - val_loss: 0.7622 - val_accuracy: 0.9075\n",
            "Epoch 48/100\n",
            "375/375 [==============================] - 2s 6ms/step - loss: 0.0189 - accuracy: 0.9933 - val_loss: 0.8525 - val_accuracy: 0.9092\n",
            "Epoch 49/100\n",
            "375/375 [==============================] - 2s 6ms/step - loss: 0.0209 - accuracy: 0.9935 - val_loss: 0.8226 - val_accuracy: 0.9016\n",
            "Epoch 50/100\n",
            "375/375 [==============================] - 2s 6ms/step - loss: 0.0178 - accuracy: 0.9935 - val_loss: 0.7620 - val_accuracy: 0.9054\n",
            "Epoch 51/100\n",
            "375/375 [==============================] - 2s 6ms/step - loss: 0.0196 - accuracy: 0.9928 - val_loss: 0.9160 - val_accuracy: 0.9022\n",
            "Epoch 52/100\n",
            "375/375 [==============================] - 2s 6ms/step - loss: 0.0160 - accuracy: 0.9944 - val_loss: 0.8862 - val_accuracy: 0.9057\n",
            "Epoch 53/100\n",
            "375/375 [==============================] - 2s 6ms/step - loss: 0.0186 - accuracy: 0.9937 - val_loss: 0.8982 - val_accuracy: 0.9084\n",
            "Epoch 54/100\n",
            "375/375 [==============================] - 2s 6ms/step - loss: 0.0181 - accuracy: 0.9937 - val_loss: 0.8956 - val_accuracy: 0.9089\n",
            "Epoch 55/100\n",
            "375/375 [==============================] - 2s 6ms/step - loss: 0.0171 - accuracy: 0.9944 - val_loss: 0.9666 - val_accuracy: 0.9076\n",
            "Epoch 56/100\n",
            "375/375 [==============================] - 2s 6ms/step - loss: 0.0189 - accuracy: 0.9937 - val_loss: 0.9160 - val_accuracy: 0.9082\n",
            "Epoch 57/100\n",
            "375/375 [==============================] - 2s 6ms/step - loss: 0.0207 - accuracy: 0.9936 - val_loss: 0.9231 - val_accuracy: 0.9082\n",
            "Epoch 58/100\n",
            "375/375 [==============================] - 2s 5ms/step - loss: 0.0150 - accuracy: 0.9949 - val_loss: 0.9163 - val_accuracy: 0.9076\n",
            "Epoch 59/100\n",
            "375/375 [==============================] - 2s 5ms/step - loss: 0.0166 - accuracy: 0.9944 - val_loss: 0.9284 - val_accuracy: 0.9033\n",
            "Epoch 60/100\n",
            "375/375 [==============================] - 2s 6ms/step - loss: 0.0159 - accuracy: 0.9942 - val_loss: 0.9245 - val_accuracy: 0.9095\n",
            "Epoch 61/100\n",
            "375/375 [==============================] - 2s 6ms/step - loss: 0.0158 - accuracy: 0.9949 - val_loss: 1.0723 - val_accuracy: 0.9050\n",
            "Epoch 62/100\n",
            "375/375 [==============================] - 2s 6ms/step - loss: 0.0171 - accuracy: 0.9942 - val_loss: 0.9355 - val_accuracy: 0.9052\n",
            "Epoch 63/100\n",
            "375/375 [==============================] - 2s 5ms/step - loss: 0.0162 - accuracy: 0.9947 - val_loss: 0.9429 - val_accuracy: 0.9066\n",
            "Epoch 64/100\n",
            "375/375 [==============================] - 2s 6ms/step - loss: 0.0152 - accuracy: 0.9950 - val_loss: 0.9875 - val_accuracy: 0.9008\n",
            "Epoch 65/100\n",
            "375/375 [==============================] - 2s 5ms/step - loss: 0.0171 - accuracy: 0.9946 - val_loss: 0.9795 - val_accuracy: 0.9076\n",
            "Epoch 66/100\n",
            "375/375 [==============================] - 2s 5ms/step - loss: 0.0150 - accuracy: 0.9948 - val_loss: 1.0670 - val_accuracy: 0.9052\n",
            "Epoch 67/100\n",
            "375/375 [==============================] - 2s 5ms/step - loss: 0.0148 - accuracy: 0.9948 - val_loss: 1.1272 - val_accuracy: 0.9089\n",
            "Epoch 68/100\n",
            "375/375 [==============================] - 2s 5ms/step - loss: 0.0160 - accuracy: 0.9947 - val_loss: 1.0910 - val_accuracy: 0.9082\n",
            "Epoch 69/100\n",
            "375/375 [==============================] - 2s 6ms/step - loss: 0.0150 - accuracy: 0.9953 - val_loss: 1.1295 - val_accuracy: 0.9056\n",
            "Epoch 70/100\n",
            "375/375 [==============================] - 2s 5ms/step - loss: 0.0140 - accuracy: 0.9951 - val_loss: 1.0991 - val_accuracy: 0.9051\n",
            "Epoch 71/100\n",
            "375/375 [==============================] - 2s 6ms/step - loss: 0.0155 - accuracy: 0.9955 - val_loss: 1.1391 - val_accuracy: 0.9047\n",
            "Epoch 72/100\n",
            "375/375 [==============================] - 2s 6ms/step - loss: 0.0157 - accuracy: 0.9947 - val_loss: 1.1048 - val_accuracy: 0.9097\n",
            "Epoch 73/100\n",
            "375/375 [==============================] - 2s 6ms/step - loss: 0.0175 - accuracy: 0.9945 - val_loss: 1.1881 - val_accuracy: 0.9097\n",
            "Epoch 74/100\n",
            "375/375 [==============================] - 2s 6ms/step - loss: 0.0155 - accuracy: 0.9954 - val_loss: 1.1539 - val_accuracy: 0.9043\n",
            "Epoch 75/100\n",
            "375/375 [==============================] - 2s 6ms/step - loss: 0.0168 - accuracy: 0.9945 - val_loss: 1.0119 - val_accuracy: 0.9078\n",
            "Epoch 76/100\n",
            "375/375 [==============================] - 2s 6ms/step - loss: 0.0153 - accuracy: 0.9956 - val_loss: 1.1205 - val_accuracy: 0.9085\n",
            "Epoch 77/100\n",
            "375/375 [==============================] - 2s 6ms/step - loss: 0.0150 - accuracy: 0.9952 - val_loss: 1.1469 - val_accuracy: 0.9038\n",
            "Epoch 78/100\n",
            "375/375 [==============================] - 2s 6ms/step - loss: 0.0140 - accuracy: 0.9957 - val_loss: 1.1094 - val_accuracy: 0.9092\n",
            "Epoch 79/100\n",
            "375/375 [==============================] - 2s 6ms/step - loss: 0.0130 - accuracy: 0.9961 - val_loss: 1.1361 - val_accuracy: 0.9115\n",
            "Epoch 80/100\n",
            "375/375 [==============================] - 2s 6ms/step - loss: 0.0142 - accuracy: 0.9953 - val_loss: 1.1692 - val_accuracy: 0.9072\n",
            "Epoch 81/100\n",
            "375/375 [==============================] - 2s 6ms/step - loss: 0.0134 - accuracy: 0.9960 - val_loss: 1.2958 - val_accuracy: 0.9027\n",
            "Epoch 82/100\n",
            "375/375 [==============================] - 2s 6ms/step - loss: 0.0136 - accuracy: 0.9960 - val_loss: 1.2887 - val_accuracy: 0.9084\n",
            "Epoch 83/100\n",
            "375/375 [==============================] - 2s 6ms/step - loss: 0.0162 - accuracy: 0.9948 - val_loss: 1.1585 - val_accuracy: 0.9103\n",
            "Epoch 84/100\n",
            "375/375 [==============================] - 2s 6ms/step - loss: 0.0142 - accuracy: 0.9961 - val_loss: 1.2483 - val_accuracy: 0.9078\n",
            "Epoch 85/100\n",
            "375/375 [==============================] - 2s 6ms/step - loss: 0.0141 - accuracy: 0.9956 - val_loss: 1.2187 - val_accuracy: 0.9074\n",
            "Epoch 86/100\n",
            "375/375 [==============================] - 2s 6ms/step - loss: 0.0125 - accuracy: 0.9960 - val_loss: 1.3129 - val_accuracy: 0.9061\n",
            "Epoch 87/100\n",
            "375/375 [==============================] - 2s 6ms/step - loss: 0.0152 - accuracy: 0.9956 - val_loss: 1.2850 - val_accuracy: 0.9077\n",
            "Epoch 88/100\n",
            "375/375 [==============================] - 2s 5ms/step - loss: 0.0123 - accuracy: 0.9962 - val_loss: 1.2335 - val_accuracy: 0.9068\n",
            "Epoch 89/100\n",
            "375/375 [==============================] - 2s 5ms/step - loss: 0.0161 - accuracy: 0.9950 - val_loss: 1.3371 - val_accuracy: 0.9068\n",
            "Epoch 90/100\n",
            "375/375 [==============================] - 2s 5ms/step - loss: 0.0138 - accuracy: 0.9957 - val_loss: 1.2566 - val_accuracy: 0.9034\n",
            "Epoch 91/100\n",
            "375/375 [==============================] - 2s 6ms/step - loss: 0.0138 - accuracy: 0.9955 - val_loss: 1.2900 - val_accuracy: 0.9052\n",
            "Epoch 92/100\n",
            "375/375 [==============================] - 2s 5ms/step - loss: 0.0141 - accuracy: 0.9960 - val_loss: 1.2540 - val_accuracy: 0.9019\n",
            "Epoch 93/100\n",
            "375/375 [==============================] - 2s 6ms/step - loss: 0.0151 - accuracy: 0.9954 - val_loss: 1.3779 - val_accuracy: 0.9044\n",
            "Epoch 94/100\n",
            "375/375 [==============================] - 2s 5ms/step - loss: 0.0132 - accuracy: 0.9958 - val_loss: 1.3824 - val_accuracy: 0.9067\n",
            "Epoch 95/100\n",
            "375/375 [==============================] - 2s 5ms/step - loss: 0.0167 - accuracy: 0.9958 - val_loss: 1.4213 - val_accuracy: 0.9069\n",
            "Epoch 96/100\n",
            "375/375 [==============================] - 2s 6ms/step - loss: 0.0144 - accuracy: 0.9958 - val_loss: 1.2995 - val_accuracy: 0.9013\n",
            "Epoch 97/100\n",
            "375/375 [==============================] - 2s 6ms/step - loss: 0.0149 - accuracy: 0.9955 - val_loss: 1.3631 - val_accuracy: 0.9048\n",
            "Epoch 98/100\n",
            "375/375 [==============================] - 2s 6ms/step - loss: 0.0138 - accuracy: 0.9956 - val_loss: 1.3431 - val_accuracy: 0.9060\n",
            "Epoch 99/100\n",
            "375/375 [==============================] - 2s 6ms/step - loss: 0.0119 - accuracy: 0.9961 - val_loss: 1.3484 - val_accuracy: 0.9025\n",
            "Epoch 100/100\n",
            "375/375 [==============================] - 2s 6ms/step - loss: 0.0149 - accuracy: 0.9962 - val_loss: 1.3503 - val_accuracy: 0.9047\n",
            "CPU times: user 3min 47s, sys: 34.3 s, total: 4min 21s\n",
            "Wall time: 4min 4s\n"
          ],
          "name": "stdout"
        }
      ]
    },
    {
      "cell_type": "markdown",
      "metadata": {
        "id": "Ey_65zgWS2kf"
      },
      "source": [
        "### 4)Result Visualization"
      ]
    },
    {
      "cell_type": "code",
      "metadata": {
        "colab": {
          "base_uri": "https://localhost:8080/",
          "height": 404
        },
        "id": "kZ-QSkwUSwDi",
        "outputId": "56d700b3-594a-4bd5-e81d-5d2036d37ce1"
      },
      "source": [
        "epochs = range(1, len(Hist_mnist.history['accuracy']) + 1)\n",
        "\n",
        "plt.figure(figsize = (9,6))\n",
        "plt.plot(epochs, Hist_mnist.history['accuracy'])\n",
        "plt.plot(epochs, Hist_mnist.history['val_accuracy'])\n",
        "plt.title('Training & Validation accuracy')\n",
        "plt.xlabel('Epochs')\n",
        "plt.ylabel('accuracy')\n",
        "plt.legend(['Training accuracy', 'Validation accuracy'])\n",
        "plt.grid()\n",
        "plt.show()\n",
        "#DNN만 사용했을 때 보다 accuracy가 높아졌다(90% 넘음) => capacity가 향상되었다"
      ],
      "execution_count": 23,
      "outputs": [
        {
          "output_type": "display_data",
          "data": {
            "image/png": "[encoded data removed]",
            "text/plain": [
              "<Figure size 648x432 with 1 Axes>"
            ]
          },
          "metadata": {
            "tags": [],
            "needs_background": "light"
          }
        }
      ]
    },
    {
      "cell_type": "markdown",
      "metadata": {
        "id": "6LUyXRL6TGYT"
      },
      "source": [
        "### 5)Model Evaluate\n",
        "* Loss & Accuracy"
      ]
    },
    {
      "cell_type": "code",
      "metadata": {
        "colab": {
          "base_uri": "https://localhost:8080/"
        },
        "id": "biV44_rbTEUd",
        "outputId": "4280ca82-d81d-4e3d-f165-a4fa7159a91c"
      },
      "source": [
        "loss, accuracy = mnist.evaluate(X_test, y_test)\n",
        "\n",
        "print('Loss = {:.5f}'.format(loss))\n",
        "print('Accuracy = {:.5f}'.format(accuracy))"
      ],
      "execution_count": 24,
      "outputs": [
        {
          "output_type": "stream",
          "text": [
            "313/313 [==============================] - 1s 3ms/step - loss: 1.4317 - accuracy: 0.9058\n",
            "Loss = 1.43172\n",
            "Accuracy = 0.90580\n"
          ],
          "name": "stdout"
        }
      ]
    },
    {
      "cell_type": "markdown",
      "metadata": {
        "id": "17XJcyy7TMpj"
      },
      "source": [
        "### 6)Model Predict"
      ]
    },
    {
      "cell_type": "code",
      "metadata": {
        "colab": {
          "base_uri": "https://localhost:8080/"
        },
        "id": "N2rVly6ZTRBf",
        "outputId": "f39f858f-ef26-46ab-8f73-7842e49bf2e6"
      },
      "source": [
        "#첫번째 데이터 Probability\n",
        "np.set_printoptions(suppress=True, precision=9)\n",
        "\n",
        "print(mnist.predict(X_test[:1,:]))"
      ],
      "execution_count": 25,
      "outputs": [
        {
          "output_type": "stream",
          "text": [
            "[[0. 0. 0. 0. 0. 0. 0. 0. 0. 1.]]\n"
          ],
          "name": "stdout"
        }
      ]
    },
    {
      "cell_type": "code",
      "metadata": {
        "colab": {
          "base_uri": "https://localhost:8080/"
        },
        "id": "5rOrYrWlTfmL",
        "outputId": "9bbdb930-45d7-4a7f-8e3a-483ba2839ea1"
      },
      "source": [
        "#첫번째 데이터 Class\n",
        "print(mnist.predict_classes(X_test[:1, :]))"
      ],
      "execution_count": 26,
      "outputs": [
        {
          "output_type": "stream",
          "text": [
            "[9]\n"
          ],
          "name": "stdout"
        }
      ]
    },
    {
      "cell_type": "markdown",
      "metadata": {
        "id": "U9J5Fth1sD4q"
      },
      "source": [
        "본 내용은 2021/03/19(금)에 작성되었습니다."
      ]
    }
  ]
}
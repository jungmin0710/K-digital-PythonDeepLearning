{
  "nbformat": 4,
  "nbformat_minor": 0,
  "metadata": {
    "colab": {
      "name": "SimpleRNN_Test_Code_CPU.ipynb",
      "provenance": [],
      "collapsed_sections": [],
      "authorship_tag": "ABX9TyMX80TJDbsSgg1UHfgQYzIo",
      "include_colab_link": true
    },
    "kernelspec": {
      "name": "python3",
      "display_name": "Python 3"
    },
    "language_info": {
      "name": "python"
    }
  },
  "cells": [
    {
      "cell_type": "markdown",
      "metadata": {
        "id": "view-in-github",
        "colab_type": "text"
      },
      "source": [
        "<a href=\"https://colab.research.google.com/github/jungmin0710/K-digital-PythonDeepLearning/blob/main/SimpleRNN_Test_Code_CPU.ipynb\" target=\"_parent\"><img src=\"https://colab.research.google.com/assets/colab-badge.svg\" alt=\"Open In Colab\"/></a>"
      ]
    },
    {
      "cell_type": "markdown",
      "metadata": {
        "id": "KUl_XRE5KD57"
      },
      "source": [
        "## SimpleRNN Test Code"
      ]
    },
    {
      "cell_type": "code",
      "metadata": {
        "id": "gmXpbAQKKAu7"
      },
      "source": [
        "import warnings\n",
        "warnings.filterwarnings('ignore')"
      ],
      "execution_count": 1,
      "outputs": []
    },
    {
      "cell_type": "markdown",
      "metadata": {
        "id": "kSYB1OO0KLvQ"
      },
      "source": [
        "## 0.Import Packages"
      ]
    },
    {
      "cell_type": "code",
      "metadata": {
        "id": "YF-BG4NqKK9F"
      },
      "source": [
        "import numpy as np\n",
        "import matplotlib.pyplot as plt\n"
      ],
      "execution_count": 2,
      "outputs": []
    },
    {
      "cell_type": "markdown",
      "metadata": {
        "id": "DHWBpMKxKRYy"
      },
      "source": [
        "## 1.SimpleRNN - without Normalization"
      ]
    },
    {
      "cell_type": "markdown",
      "metadata": {
        "id": "jgIAm4c5KUU5"
      },
      "source": [
        "### 1)Sample Data\n",
        "* Inputs 데이터 생성(100, 5, 1)"
      ]
    },
    {
      "cell_type": "code",
      "metadata": {
        "colab": {
          "base_uri": "https://localhost:8080/"
        },
        "id": "-haBVnzqKQ5W",
        "outputId": "a2637842-85b2-42c1-fd7b-d069ac61ff2c"
      },
      "source": [
        "X = [[[i + j] for i in range(5)] for j in range(100)]\n",
        "\n",
        "X[:3], X[-3:]"
      ],
      "execution_count": 4,
      "outputs": [
        {
          "output_type": "execute_result",
          "data": {
            "text/plain": [
              "([[[0], [1], [2], [3], [4]],\n",
              "  [[1], [2], [3], [4], [5]],\n",
              "  [[2], [3], [4], [5], [6]]],\n",
              " [[[97], [98], [99], [100], [101]],\n",
              "  [[98], [99], [100], [101], [102]],\n",
              "  [[99], [100], [101], [102], [103]]])"
            ]
          },
          "metadata": {
            "tags": []
          },
          "execution_count": 4
        }
      ]
    },
    {
      "cell_type": "markdown",
      "metadata": {
        "id": "nb9wO6xoKllO"
      },
      "source": [
        "* Outputs 데이터 생성(100, 1)"
      ]
    },
    {
      "cell_type": "code",
      "metadata": {
        "colab": {
          "base_uri": "https://localhost:8080/"
        },
        "id": "Z8EVrSvkKhui",
        "outputId": "3cb04e41-a5a3-4e17-ed55-ea466e7b1a7f"
      },
      "source": [
        "y = [(i + 5) for i in range(100)]\n",
        "\n",
        "y[:3], y[-3:]"
      ],
      "execution_count": 5,
      "outputs": [
        {
          "output_type": "execute_result",
          "data": {
            "text/plain": [
              "([5, 6, 7], [102, 103, 104])"
            ]
          },
          "metadata": {
            "tags": []
          },
          "execution_count": 5
        }
      ]
    },
    {
      "cell_type": "markdown",
      "metadata": {
        "id": "idX5RtbQLGWJ"
      },
      "source": [
        "### 2)numpy_Array Casting"
      ]
    },
    {
      "cell_type": "code",
      "metadata": {
        "colab": {
          "base_uri": "https://localhost:8080/"
        },
        "id": "I4PFxDsBLBT5",
        "outputId": "fee5da3f-0b21-4de9-df36-6882d9dbbe0e"
      },
      "source": [
        "X = np.array(X, dtype = float)\n",
        "y = np.array(y, dtype = float)\n",
        "\n",
        "X.shape, y.shape"
      ],
      "execution_count": 6,
      "outputs": [
        {
          "output_type": "execute_result",
          "data": {
            "text/plain": [
              "((100, 5, 1), (100,))"
            ]
          },
          "metadata": {
            "tags": []
          },
          "execution_count": 6
        }
      ]
    },
    {
      "cell_type": "markdown",
      "metadata": {
        "id": "WSLGvtMULP9H"
      },
      "source": [
        "### 3) Train vs Test Split\n",
        "* 80:20"
      ]
    },
    {
      "cell_type": "code",
      "metadata": {
        "colab": {
          "base_uri": "https://localhost:8080/"
        },
        "id": "cEYh9aUTLPQZ",
        "outputId": "325ca8c6-a1bd-442c-9601-e198dc333560"
      },
      "source": [
        "from sklearn.model_selection import train_test_split\n",
        "\n",
        "X_train, X_test, y_train, y_test = train_test_split(X, y,\n",
        "                                                    test_size = 0.2,\n",
        "                                                    random_state = 2045)\n",
        "\n",
        "X_train.shape, y_train.shape, X_test.shape, y_test.shape"
      ],
      "execution_count": 7,
      "outputs": [
        {
          "output_type": "execute_result",
          "data": {
            "text/plain": [
              "((80, 5, 1), (80,), (20, 5, 1), (20,))"
            ]
          },
          "metadata": {
            "tags": []
          },
          "execution_count": 7
        }
      ]
    },
    {
      "cell_type": "markdown",
      "metadata": {
        "id": "evwht7bDLj8e"
      },
      "source": [
        "### 4) Keras SimpleRNN Modeling\n"
      ]
    },
    {
      "cell_type": "markdown",
      "metadata": {
        "id": "0PcvJAGALqFh"
      },
      "source": [
        "#### (1) Model Define & Summary\n",
        "* Unit(output_dim) : 3\n",
        "* input_shape(input_length, imput_dim) : (5,1)\n",
        "* return_sequences = False : 최종 Unit만 출력\n",
        "* layers.Dense(1) : y_hat"
      ]
    },
    {
      "cell_type": "code",
      "metadata": {
        "colab": {
          "base_uri": "https://localhost:8080/"
        },
        "id": "i6K0LC2MLi4N",
        "outputId": "f66addc4-c7f2-4d62-f9cb-a4707853efea"
      },
      "source": [
        "from keras import models, layers\n",
        "\n",
        "model_1 = models.Sequential(name = 'SimpleRNN_1')\n",
        "model_1.add(layers.SimpleRNN(3,\n",
        "                             input_shape = (5,1),\n",
        "                             return_sequences = False))\n",
        "\n",
        "model_1.add(layers.Dense(1))\n",
        "\n",
        "model_1.summary()"
      ],
      "execution_count": 9,
      "outputs": [
        {
          "output_type": "stream",
          "text": [
            "Model: \"SimpleRNN_1\"\n",
            "_________________________________________________________________\n",
            "Layer (type)                 Output Shape              Param #   \n",
            "=================================================================\n",
            "simple_rnn (SimpleRNN)       (None, 3)                 15        \n",
            "_________________________________________________________________\n",
            "dense (Dense)                (None, 1)                 4         \n",
            "=================================================================\n",
            "Total params: 19\n",
            "Trainable params: 19\n",
            "Non-trainable params: 0\n",
            "_________________________________________________________________\n"
          ],
          "name": "stdout"
        }
      ]
    },
    {
      "cell_type": "markdown",
      "metadata": {
        "id": "aEN1-6AeMfd-"
      },
      "source": [
        "#### (2) Model Compile"
      ]
    },
    {
      "cell_type": "code",
      "metadata": {
        "id": "2tHhF5d0MPnI"
      },
      "source": [
        "model_1.compile(loss = 'mse',\n",
        "                optimizer = 'adam',\n",
        "                metrics = ['accuracy'])"
      ],
      "execution_count": 10,
      "outputs": []
    },
    {
      "cell_type": "markdown",
      "metadata": {
        "id": "RCKQX9-9MpDi"
      },
      "source": [
        "#### (3) Model Fit"
      ]
    },
    {
      "cell_type": "code",
      "metadata": {
        "colab": {
          "base_uri": "https://localhost:8080/"
        },
        "id": "1E-ONs9TMndy",
        "outputId": "fd1958a1-7d5b-4017-82ce-ab5e40dc3cec"
      },
      "source": [
        "Hist_1 = model_1.fit(X_train, y_train,\n",
        "                     epochs = 100,\n",
        "                     batch_size = 8,\n",
        "                     validation_data = (X_test, y_test))"
      ],
      "execution_count": 11,
      "outputs": [
        {
          "output_type": "stream",
          "text": [
            "Epoch 1/100\n",
            "10/10 [==============================] - 2s 76ms/step - loss: 3910.1325 - accuracy: 0.0000e+00 - val_loss: 3754.1140 - val_accuracy: 0.0000e+00\n",
            "Epoch 2/100\n",
            "10/10 [==============================] - 0s 8ms/step - loss: 3535.4153 - accuracy: 0.0000e+00 - val_loss: 3749.6426 - val_accuracy: 0.0000e+00\n",
            "Epoch 3/100\n",
            "10/10 [==============================] - 0s 8ms/step - loss: 3975.8387 - accuracy: 0.0000e+00 - val_loss: 3745.0886 - val_accuracy: 0.0000e+00\n",
            "Epoch 4/100\n",
            "10/10 [==============================] - 0s 8ms/step - loss: 3618.1402 - accuracy: 0.0000e+00 - val_loss: 3740.4524 - val_accuracy: 0.0000e+00\n",
            "Epoch 5/100\n",
            "10/10 [==============================] - 0s 8ms/step - loss: 3692.9811 - accuracy: 0.0000e+00 - val_loss: 3735.5249 - val_accuracy: 0.0000e+00\n",
            "Epoch 6/100\n",
            "10/10 [==============================] - 0s 9ms/step - loss: 3957.0152 - accuracy: 0.0000e+00 - val_loss: 3729.9077 - val_accuracy: 0.0000e+00\n",
            "Epoch 7/100\n",
            "10/10 [==============================] - 0s 8ms/step - loss: 3978.5355 - accuracy: 0.0000e+00 - val_loss: 3722.6680 - val_accuracy: 0.0000e+00\n",
            "Epoch 8/100\n",
            "10/10 [==============================] - 0s 9ms/step - loss: 4512.6423 - accuracy: 0.0000e+00 - val_loss: 3709.4929 - val_accuracy: 0.0000e+00\n",
            "Epoch 9/100\n",
            "10/10 [==============================] - 0s 10ms/step - loss: 3759.6200 - accuracy: 0.0000e+00 - val_loss: 3681.6118 - val_accuracy: 0.0000e+00\n",
            "Epoch 10/100\n",
            "10/10 [==============================] - 0s 9ms/step - loss: 3694.1102 - accuracy: 0.0000e+00 - val_loss: 3607.1296 - val_accuracy: 0.0000e+00\n",
            "Epoch 11/100\n",
            "10/10 [==============================] - 0s 10ms/step - loss: 2948.4742 - accuracy: 0.0000e+00 - val_loss: 3579.9077 - val_accuracy: 0.0000e+00\n",
            "Epoch 12/100\n",
            "10/10 [==============================] - 0s 10ms/step - loss: 3829.3405 - accuracy: 0.0000e+00 - val_loss: 3569.4585 - val_accuracy: 0.0000e+00\n",
            "Epoch 13/100\n",
            "10/10 [==============================] - 0s 9ms/step - loss: 3417.5296 - accuracy: 0.0000e+00 - val_loss: 3563.5703 - val_accuracy: 0.0000e+00\n",
            "Epoch 14/100\n",
            "10/10 [==============================] - 0s 9ms/step - loss: 3585.7155 - accuracy: 0.0000e+00 - val_loss: 3558.6304 - val_accuracy: 0.0000e+00\n",
            "Epoch 15/100\n",
            "10/10 [==============================] - 0s 10ms/step - loss: 3302.4896 - accuracy: 0.0000e+00 - val_loss: 3554.0945 - val_accuracy: 0.0000e+00\n",
            "Epoch 16/100\n",
            "10/10 [==============================] - 0s 8ms/step - loss: 3702.8250 - accuracy: 0.0000e+00 - val_loss: 3549.5552 - val_accuracy: 0.0000e+00\n",
            "Epoch 17/100\n",
            "10/10 [==============================] - 0s 9ms/step - loss: 3641.3095 - accuracy: 0.0000e+00 - val_loss: 3545.1196 - val_accuracy: 0.0000e+00\n",
            "Epoch 18/100\n",
            "10/10 [==============================] - 0s 8ms/step - loss: 3693.4648 - accuracy: 0.0000e+00 - val_loss: 3540.7375 - val_accuracy: 0.0000e+00\n",
            "Epoch 19/100\n",
            "10/10 [==============================] - 0s 8ms/step - loss: 3872.9486 - accuracy: 0.0000e+00 - val_loss: 3536.3999 - val_accuracy: 0.0000e+00\n",
            "Epoch 20/100\n",
            "10/10 [==============================] - 0s 8ms/step - loss: 3486.6883 - accuracy: 0.0000e+00 - val_loss: 3532.1453 - val_accuracy: 0.0000e+00\n",
            "Epoch 21/100\n",
            "10/10 [==============================] - 0s 9ms/step - loss: 3949.4223 - accuracy: 0.0000e+00 - val_loss: 3527.8015 - val_accuracy: 0.0000e+00\n",
            "Epoch 22/100\n",
            "10/10 [==============================] - 0s 9ms/step - loss: 3462.5087 - accuracy: 0.0000e+00 - val_loss: 3523.5815 - val_accuracy: 0.0000e+00\n",
            "Epoch 23/100\n",
            "10/10 [==============================] - 0s 10ms/step - loss: 3529.7310 - accuracy: 0.0000e+00 - val_loss: 3519.3257 - val_accuracy: 0.0000e+00\n",
            "Epoch 24/100\n",
            "10/10 [==============================] - 0s 10ms/step - loss: 3717.3011 - accuracy: 0.0000e+00 - val_loss: 3515.1106 - val_accuracy: 0.0000e+00\n",
            "Epoch 25/100\n",
            "10/10 [==============================] - 0s 8ms/step - loss: 3341.0189 - accuracy: 0.0000e+00 - val_loss: 3510.8835 - val_accuracy: 0.0000e+00\n",
            "Epoch 26/100\n",
            "10/10 [==============================] - 0s 9ms/step - loss: 3707.1908 - accuracy: 0.0000e+00 - val_loss: 3506.6062 - val_accuracy: 0.0000e+00\n",
            "Epoch 27/100\n",
            "10/10 [==============================] - 0s 8ms/step - loss: 3454.1250 - accuracy: 0.0000e+00 - val_loss: 3502.4165 - val_accuracy: 0.0000e+00\n",
            "Epoch 28/100\n",
            "10/10 [==============================] - 0s 9ms/step - loss: 3511.7944 - accuracy: 0.0000e+00 - val_loss: 3498.2683 - val_accuracy: 0.0000e+00\n",
            "Epoch 29/100\n",
            "10/10 [==============================] - 0s 9ms/step - loss: 3527.2054 - accuracy: 0.0000e+00 - val_loss: 3494.0586 - val_accuracy: 0.0000e+00\n",
            "Epoch 30/100\n",
            "10/10 [==============================] - 0s 10ms/step - loss: 3767.5943 - accuracy: 0.0000e+00 - val_loss: 3489.9185 - val_accuracy: 0.0000e+00\n",
            "Epoch 31/100\n",
            "10/10 [==============================] - 0s 8ms/step - loss: 3892.4844 - accuracy: 0.0000e+00 - val_loss: 3485.6863 - val_accuracy: 0.0000e+00\n",
            "Epoch 32/100\n",
            "10/10 [==============================] - 0s 8ms/step - loss: 3552.2124 - accuracy: 0.0000e+00 - val_loss: 3481.5190 - val_accuracy: 0.0000e+00\n",
            "Epoch 33/100\n",
            "10/10 [==============================] - 0s 8ms/step - loss: 3503.6871 - accuracy: 0.0000e+00 - val_loss: 3477.3875 - val_accuracy: 0.0000e+00\n",
            "Epoch 34/100\n",
            "10/10 [==============================] - 0s 9ms/step - loss: 3795.3863 - accuracy: 0.0000e+00 - val_loss: 3473.2622 - val_accuracy: 0.0000e+00\n",
            "Epoch 35/100\n",
            "10/10 [==============================] - 0s 8ms/step - loss: 3337.6957 - accuracy: 0.0000e+00 - val_loss: 3469.1431 - val_accuracy: 0.0000e+00\n",
            "Epoch 36/100\n",
            "10/10 [==============================] - 0s 8ms/step - loss: 3292.1754 - accuracy: 0.0000e+00 - val_loss: 3465.0559 - val_accuracy: 0.0000e+00\n",
            "Epoch 37/100\n",
            "10/10 [==============================] - 0s 9ms/step - loss: 3425.1076 - accuracy: 0.0000e+00 - val_loss: 3460.9126 - val_accuracy: 0.0000e+00\n",
            "Epoch 38/100\n",
            "10/10 [==============================] - 0s 8ms/step - loss: 3384.3784 - accuracy: 0.0000e+00 - val_loss: 3456.7878 - val_accuracy: 0.0000e+00\n",
            "Epoch 39/100\n",
            "10/10 [==============================] - 0s 8ms/step - loss: 3653.5776 - accuracy: 0.0000e+00 - val_loss: 3452.6216 - val_accuracy: 0.0000e+00\n",
            "Epoch 40/100\n",
            "10/10 [==============================] - 0s 8ms/step - loss: 3446.8999 - accuracy: 0.0000e+00 - val_loss: 3448.5415 - val_accuracy: 0.0000e+00\n",
            "Epoch 41/100\n",
            "10/10 [==============================] - 0s 9ms/step - loss: 3540.7802 - accuracy: 0.0000e+00 - val_loss: 3444.3718 - val_accuracy: 0.0000e+00\n",
            "Epoch 42/100\n",
            "10/10 [==============================] - 0s 9ms/step - loss: 3344.2883 - accuracy: 0.0000e+00 - val_loss: 3440.3835 - val_accuracy: 0.0000e+00\n",
            "Epoch 43/100\n",
            "10/10 [==============================] - 0s 9ms/step - loss: 3858.9133 - accuracy: 0.0000e+00 - val_loss: 3436.2180 - val_accuracy: 0.0000e+00\n",
            "Epoch 44/100\n",
            "10/10 [==============================] - 0s 9ms/step - loss: 3285.6727 - accuracy: 0.0000e+00 - val_loss: 3432.2078 - val_accuracy: 0.0000e+00\n",
            "Epoch 45/100\n",
            "10/10 [==============================] - 0s 9ms/step - loss: 3216.1669 - accuracy: 0.0000e+00 - val_loss: 3428.1567 - val_accuracy: 0.0000e+00\n",
            "Epoch 46/100\n",
            "10/10 [==============================] - 0s 9ms/step - loss: 3774.0539 - accuracy: 0.0000e+00 - val_loss: 3423.9875 - val_accuracy: 0.0000e+00\n",
            "Epoch 47/100\n",
            "10/10 [==============================] - 0s 8ms/step - loss: 3808.2457 - accuracy: 0.0000e+00 - val_loss: 3419.9067 - val_accuracy: 0.0000e+00\n",
            "Epoch 48/100\n",
            "10/10 [==============================] - 0s 9ms/step - loss: 3342.3789 - accuracy: 0.0000e+00 - val_loss: 3415.9290 - val_accuracy: 0.0000e+00\n",
            "Epoch 49/100\n",
            "10/10 [==============================] - 0s 8ms/step - loss: 3059.8038 - accuracy: 0.0000e+00 - val_loss: 3411.9297 - val_accuracy: 0.0000e+00\n",
            "Epoch 50/100\n",
            "10/10 [==============================] - 0s 8ms/step - loss: 3503.4741 - accuracy: 0.0000e+00 - val_loss: 3407.8484 - val_accuracy: 0.0000e+00\n",
            "Epoch 51/100\n",
            "10/10 [==============================] - 0s 9ms/step - loss: 3253.5888 - accuracy: 0.0000e+00 - val_loss: 3403.8191 - val_accuracy: 0.0000e+00\n",
            "Epoch 52/100\n",
            "10/10 [==============================] - 0s 9ms/step - loss: 3419.8570 - accuracy: 0.0000e+00 - val_loss: 3399.7375 - val_accuracy: 0.0000e+00\n",
            "Epoch 53/100\n",
            "10/10 [==============================] - 0s 8ms/step - loss: 3848.3564 - accuracy: 0.0000e+00 - val_loss: 3395.6685 - val_accuracy: 0.0000e+00\n",
            "Epoch 54/100\n",
            "10/10 [==============================] - 0s 8ms/step - loss: 3418.8413 - accuracy: 0.0000e+00 - val_loss: 3391.6836 - val_accuracy: 0.0000e+00\n",
            "Epoch 55/100\n",
            "10/10 [==============================] - 0s 9ms/step - loss: 3592.1655 - accuracy: 0.0000e+00 - val_loss: 3387.6685 - val_accuracy: 0.0000e+00\n",
            "Epoch 56/100\n",
            "10/10 [==============================] - 0s 8ms/step - loss: 3574.2052 - accuracy: 0.0000e+00 - val_loss: 3383.6335 - val_accuracy: 0.0000e+00\n",
            "Epoch 57/100\n",
            "10/10 [==============================] - 0s 9ms/step - loss: 3816.2908 - accuracy: 0.0000e+00 - val_loss: 3379.6089 - val_accuracy: 0.0000e+00\n",
            "Epoch 58/100\n",
            "10/10 [==============================] - 0s 8ms/step - loss: 3136.7493 - accuracy: 0.0000e+00 - val_loss: 3375.6929 - val_accuracy: 0.0000e+00\n",
            "Epoch 59/100\n",
            "10/10 [==============================] - 0s 9ms/step - loss: 3694.9108 - accuracy: 0.0000e+00 - val_loss: 3371.6382 - val_accuracy: 0.0000e+00\n",
            "Epoch 60/100\n",
            "10/10 [==============================] - 0s 8ms/step - loss: 3965.4304 - accuracy: 0.0000e+00 - val_loss: 3367.5879 - val_accuracy: 0.0000e+00\n",
            "Epoch 61/100\n",
            "10/10 [==============================] - 0s 8ms/step - loss: 3636.5060 - accuracy: 0.0000e+00 - val_loss: 3363.6216 - val_accuracy: 0.0000e+00\n",
            "Epoch 62/100\n",
            "10/10 [==============================] - 0s 8ms/step - loss: 3052.3078 - accuracy: 0.0000e+00 - val_loss: 3359.6953 - val_accuracy: 0.0000e+00\n",
            "Epoch 63/100\n",
            "10/10 [==============================] - 0s 9ms/step - loss: 3727.3705 - accuracy: 0.0000e+00 - val_loss: 3355.6772 - val_accuracy: 0.0000e+00\n",
            "Epoch 64/100\n",
            "10/10 [==============================] - 0s 8ms/step - loss: 3001.9628 - accuracy: 0.0000e+00 - val_loss: 3351.7974 - val_accuracy: 0.0000e+00\n",
            "Epoch 65/100\n",
            "10/10 [==============================] - 0s 10ms/step - loss: 3127.2665 - accuracy: 0.0000e+00 - val_loss: 3347.8391 - val_accuracy: 0.0000e+00\n",
            "Epoch 66/100\n",
            "10/10 [==============================] - 0s 9ms/step - loss: 3230.3999 - accuracy: 0.0000e+00 - val_loss: 3343.8257 - val_accuracy: 0.0000e+00\n",
            "Epoch 67/100\n",
            "10/10 [==============================] - 0s 9ms/step - loss: 3298.7671 - accuracy: 0.0000e+00 - val_loss: 3339.8547 - val_accuracy: 0.0000e+00\n",
            "Epoch 68/100\n",
            "10/10 [==============================] - 0s 10ms/step - loss: 3530.5014 - accuracy: 0.0000e+00 - val_loss: 3335.9009 - val_accuracy: 0.0000e+00\n",
            "Epoch 69/100\n",
            "10/10 [==============================] - 0s 11ms/step - loss: 3196.8924 - accuracy: 0.0000e+00 - val_loss: 3331.9478 - val_accuracy: 0.0000e+00\n",
            "Epoch 70/100\n",
            "10/10 [==============================] - 0s 10ms/step - loss: 3608.4102 - accuracy: 0.0000e+00 - val_loss: 3327.9360 - val_accuracy: 0.0000e+00\n",
            "Epoch 71/100\n",
            "10/10 [==============================] - 0s 9ms/step - loss: 3077.8600 - accuracy: 0.0000e+00 - val_loss: 3324.1069 - val_accuracy: 0.0000e+00\n",
            "Epoch 72/100\n",
            "10/10 [==============================] - 0s 10ms/step - loss: 3242.7322 - accuracy: 0.0000e+00 - val_loss: 3320.1714 - val_accuracy: 0.0000e+00\n",
            "Epoch 73/100\n",
            "10/10 [==============================] - 0s 9ms/step - loss: 3041.8602 - accuracy: 0.0000e+00 - val_loss: 3316.2485 - val_accuracy: 0.0000e+00\n",
            "Epoch 74/100\n",
            "10/10 [==============================] - 0s 9ms/step - loss: 3532.3894 - accuracy: 0.0000e+00 - val_loss: 3312.2461 - val_accuracy: 0.0000e+00\n",
            "Epoch 75/100\n",
            "10/10 [==============================] - 0s 9ms/step - loss: 3268.0103 - accuracy: 0.0000e+00 - val_loss: 3308.3210 - val_accuracy: 0.0000e+00\n",
            "Epoch 76/100\n",
            "10/10 [==============================] - 0s 9ms/step - loss: 3958.2579 - accuracy: 0.0000e+00 - val_loss: 3304.3296 - val_accuracy: 0.0000e+00\n",
            "Epoch 77/100\n",
            "10/10 [==============================] - 0s 9ms/step - loss: 3482.8319 - accuracy: 0.0000e+00 - val_loss: 3300.4839 - val_accuracy: 0.0000e+00\n",
            "Epoch 78/100\n",
            "10/10 [==============================] - 0s 9ms/step - loss: 3394.1184 - accuracy: 0.0000e+00 - val_loss: 3296.5664 - val_accuracy: 0.0000e+00\n",
            "Epoch 79/100\n",
            "10/10 [==============================] - 0s 11ms/step - loss: 3588.9694 - accuracy: 0.0000e+00 - val_loss: 3292.6421 - val_accuracy: 0.0000e+00\n",
            "Epoch 80/100\n",
            "10/10 [==============================] - 0s 10ms/step - loss: 3822.7718 - accuracy: 0.0000e+00 - val_loss: 3288.7539 - val_accuracy: 0.0000e+00\n",
            "Epoch 81/100\n",
            "10/10 [==============================] - 0s 8ms/step - loss: 3844.7604 - accuracy: 0.0000e+00 - val_loss: 3284.8452 - val_accuracy: 0.0000e+00\n",
            "Epoch 82/100\n",
            "10/10 [==============================] - 0s 12ms/step - loss: 2816.7296 - accuracy: 0.0000e+00 - val_loss: 3281.0786 - val_accuracy: 0.0000e+00\n",
            "Epoch 83/100\n",
            "10/10 [==============================] - 0s 10ms/step - loss: 2632.2305 - accuracy: 0.0000e+00 - val_loss: 3277.2188 - val_accuracy: 0.0000e+00\n",
            "Epoch 84/100\n",
            "10/10 [==============================] - 0s 9ms/step - loss: 3409.6171 - accuracy: 0.0000e+00 - val_loss: 3273.2961 - val_accuracy: 0.0000e+00\n",
            "Epoch 85/100\n",
            "10/10 [==============================] - 0s 9ms/step - loss: 3199.7611 - accuracy: 0.0000e+00 - val_loss: 3269.4001 - val_accuracy: 0.0000e+00\n",
            "Epoch 86/100\n",
            "10/10 [==============================] - 0s 9ms/step - loss: 3322.8333 - accuracy: 0.0000e+00 - val_loss: 3265.5620 - val_accuracy: 0.0000e+00\n",
            "Epoch 87/100\n",
            "10/10 [==============================] - 0s 8ms/step - loss: 3633.6685 - accuracy: 0.0000e+00 - val_loss: 3261.6326 - val_accuracy: 0.0000e+00\n",
            "Epoch 88/100\n",
            "10/10 [==============================] - 0s 9ms/step - loss: 3050.6041 - accuracy: 0.0000e+00 - val_loss: 3257.7832 - val_accuracy: 0.0000e+00\n",
            "Epoch 89/100\n",
            "10/10 [==============================] - 0s 10ms/step - loss: 3780.6543 - accuracy: 0.0000e+00 - val_loss: 3253.8481 - val_accuracy: 0.0000e+00\n",
            "Epoch 90/100\n",
            "10/10 [==============================] - 0s 9ms/step - loss: 3255.7619 - accuracy: 0.0000e+00 - val_loss: 3250.0261 - val_accuracy: 0.0000e+00\n",
            "Epoch 91/100\n",
            "10/10 [==============================] - 0s 10ms/step - loss: 3057.3659 - accuracy: 0.0000e+00 - val_loss: 3246.2598 - val_accuracy: 0.0000e+00\n",
            "Epoch 92/100\n",
            "10/10 [==============================] - 0s 9ms/step - loss: 3298.9262 - accuracy: 0.0000e+00 - val_loss: 3242.3948 - val_accuracy: 0.0000e+00\n",
            "Epoch 93/100\n",
            "10/10 [==============================] - 0s 11ms/step - loss: 2917.8253 - accuracy: 0.0000e+00 - val_loss: 3238.6277 - val_accuracy: 0.0000e+00\n",
            "Epoch 94/100\n",
            "10/10 [==============================] - 0s 9ms/step - loss: 3555.1537 - accuracy: 0.0000e+00 - val_loss: 3234.6948 - val_accuracy: 0.0000e+00\n",
            "Epoch 95/100\n",
            "10/10 [==============================] - 0s 9ms/step - loss: 3256.2697 - accuracy: 0.0000e+00 - val_loss: 3230.8909 - val_accuracy: 0.0000e+00\n",
            "Epoch 96/100\n",
            "10/10 [==============================] - 0s 9ms/step - loss: 3782.4803 - accuracy: 0.0000e+00 - val_loss: 3227.0061 - val_accuracy: 0.0000e+00\n",
            "Epoch 97/100\n",
            "10/10 [==============================] - 0s 9ms/step - loss: 3403.1222 - accuracy: 0.0000e+00 - val_loss: 3223.1702 - val_accuracy: 0.0000e+00\n",
            "Epoch 98/100\n",
            "10/10 [==============================] - 0s 8ms/step - loss: 3384.9205 - accuracy: 0.0000e+00 - val_loss: 3219.3606 - val_accuracy: 0.0000e+00\n",
            "Epoch 99/100\n",
            "10/10 [==============================] - 0s 8ms/step - loss: 3565.3237 - accuracy: 0.0000e+00 - val_loss: 3215.5320 - val_accuracy: 0.0000e+00\n",
            "Epoch 100/100\n",
            "10/10 [==============================] - 0s 9ms/step - loss: 3308.7884 - accuracy: 0.0000e+00 - val_loss: 3211.7693 - val_accuracy: 0.0000e+00\n"
          ],
          "name": "stdout"
        }
      ]
    },
    {
      "cell_type": "markdown",
      "metadata": {
        "id": "U7HXOAwBM3xy"
      },
      "source": [
        "#### (4) Model Predict"
      ]
    },
    {
      "cell_type": "code",
      "metadata": {
        "id": "PE3A7YfiM0K2"
      },
      "source": [
        "y_hat = model_1.predict(X_test)"
      ],
      "execution_count": 12,
      "outputs": []
    },
    {
      "cell_type": "markdown",
      "metadata": {
        "id": "JN2Vk4PNM80M"
      },
      "source": [
        "#### (5) Result Visualization\n",
        "* Loss"
      ]
    },
    {
      "cell_type": "code",
      "metadata": {
        "colab": {
          "base_uri": "https://localhost:8080/",
          "height": 265
        },
        "id": "5m5b9rudM79A",
        "outputId": "a165f120-5100-4bf0-e8e6-201032e9cdc0"
      },
      "source": [
        "plt.plot(Hist_1.history['loss'])\n",
        "\n",
        "plt.show()"
      ],
      "execution_count": 13,
      "outputs": [
        {
          "output_type": "display_data",
          "data": {
            "image/png": "[encoded data removed]",
            "text/plain": [
              "<Figure size 432x288 with 1 Axes>"
            ]
          },
          "metadata": {
            "tags": [],
            "needs_background": "light"
          }
        }
      ]
    },
    {
      "cell_type": "markdown",
      "metadata": {
        "id": "OSqhLeGFNIEv"
      },
      "source": [
        "* 학습 되지 않음\n",
        "  * 녹색 -> 정답(y_test) \n",
        "  * 적색 -> 예측(y_hat)"
      ]
    },
    {
      "cell_type": "code",
      "metadata": {
        "colab": {
          "base_uri": "https://localhost:8080/",
          "height": 265
        },
        "id": "3ga_0XPPNFBK",
        "outputId": "999d3c68-1f2d-45a3-99d6-6b4d00f8a9e6"
      },
      "source": [
        "plt.scatter(range(20), y_hat, c = 'r') \n",
        "plt.scatter(range(20), y_test, c = 'g') \n",
        "plt.show()\n",
        "#정규화를 하지 않았을 때 학습이 전혀 되지 않았음"
      ],
      "execution_count": 14,
      "outputs": [
        {
          "output_type": "display_data",
          "data": {
            "image/png": "[encoded data removed]",
            "text/plain": [
              "<Figure size 432x288 with 1 Axes>"
            ]
          },
          "metadata": {
            "tags": [],
            "needs_background": "light"
          }
        }
      ]
    },
    {
      "cell_type": "markdown",
      "metadata": {
        "id": "wGj4jwaONX0H"
      },
      "source": [
        "## 2.SimpleRNN - with Normalization"
      ]
    },
    {
      "cell_type": "markdown",
      "metadata": {
        "id": "bOZ8aL05Na-Y"
      },
      "source": [
        "### 1) Sample Data - with Normalization"
      ]
    },
    {
      "cell_type": "code",
      "metadata": {
        "id": "IUT210ZcNRW5"
      },
      "source": [
        "X = [[[(i + j)] for i in range(5)] for j in range(100)] \n",
        "y = [(i + 5) for i in range(100)]\n",
        "\n",
        "X = (X - np.min(X)) / (np.max(X) - np.min(X)) \n",
        "y = (y - np.min(y)) / (np.max(y) - np.min(y))"
      ],
      "execution_count": 15,
      "outputs": []
    },
    {
      "cell_type": "markdown",
      "metadata": {
        "id": "aQMikcRlNme-"
      },
      "source": [
        "### 2) Casting"
      ]
    },
    {
      "cell_type": "code",
      "metadata": {
        "colab": {
          "base_uri": "https://localhost:8080/"
        },
        "id": "8LMnY0YvNfrY",
        "outputId": "462cfaf7-f104-4440-8c7a-88074a952dfb"
      },
      "source": [
        "X = np.array(X, dtype = float) \n",
        "y = np.array(y, dtype = float)\n",
        "\n",
        "X.shape, y.shape"
      ],
      "execution_count": 16,
      "outputs": [
        {
          "output_type": "execute_result",
          "data": {
            "text/plain": [
              "((100, 5, 1), (100,))"
            ]
          },
          "metadata": {
            "tags": []
          },
          "execution_count": 16
        }
      ]
    },
    {
      "cell_type": "markdown",
      "metadata": {
        "id": "NmYEgLq3NudT"
      },
      "source": [
        "### 3) Train vs. Test Split"
      ]
    },
    {
      "cell_type": "code",
      "metadata": {
        "colab": {
          "base_uri": "https://localhost:8080/"
        },
        "id": "TDxET6qoNr53",
        "outputId": "87278489-fe03-444c-f3d8-dc497d2158bb"
      },
      "source": [
        "X_train, X_test, y_train, y_test = train_test_split(X, y,\n",
        "                                                    test_size = 0.2, \n",
        "                                                    random_state = 2045)\n",
        "\n",
        "X_train.shape, y_train.shape, X_test.shape, y_test.shape"
      ],
      "execution_count": 17,
      "outputs": [
        {
          "output_type": "execute_result",
          "data": {
            "text/plain": [
              "((80, 5, 1), (80,), (20, 5, 1), (20,))"
            ]
          },
          "metadata": {
            "tags": []
          },
          "execution_count": 17
        }
      ]
    },
    {
      "cell_type": "markdown",
      "metadata": {
        "id": "iRbcJXKLN4Ei"
      },
      "source": [
        "### 4) Keras SimpleRNN Modeling"
      ]
    },
    {
      "cell_type": "markdown",
      "metadata": {
        "id": "3TatCR2NN5kR"
      },
      "source": [
        "#### (1) Model Define & Summary\n",
        "* None : input_length 자동 맞춤"
      ]
    },
    {
      "cell_type": "code",
      "metadata": {
        "colab": {
          "base_uri": "https://localhost:8080/"
        },
        "id": "30kQZqA7N1pX",
        "outputId": "00e16222-975b-44ab-ecc9-e00c5770e4f7"
      },
      "source": [
        "model_2 = models.Sequential(name = 'SimpleRNN_2') \n",
        "model_2.add(layers.SimpleRNN(3,\n",
        "                             input_shape = (None, 1), \n",
        "                             return_sequences = False))\n",
        "\n",
        "model_2.add(layers.Dense(1)) \n",
        "model_2.summary()"
      ],
      "execution_count": 18,
      "outputs": [
        {
          "output_type": "stream",
          "text": [
            "Model: \"SimpleRNN_2\"\n",
            "_________________________________________________________________\n",
            "Layer (type)                 Output Shape              Param #   \n",
            "=================================================================\n",
            "simple_rnn_1 (SimpleRNN)     (None, 3)                 15        \n",
            "_________________________________________________________________\n",
            "dense_1 (Dense)              (None, 1)                 4         \n",
            "=================================================================\n",
            "Total params: 19\n",
            "Trainable params: 19\n",
            "Non-trainable params: 0\n",
            "_________________________________________________________________\n"
          ],
          "name": "stdout"
        }
      ]
    },
    {
      "cell_type": "markdown",
      "metadata": {
        "id": "ZN7tpQVeONpJ"
      },
      "source": [
        "#### (2) Model Compile"
      ]
    },
    {
      "cell_type": "code",
      "metadata": {
        "id": "X4CHLmoIOLYi"
      },
      "source": [
        "model_2.compile(loss = 'mse', \n",
        "                optimizer = 'adam', \n",
        "                metrics = ['accuracy'])"
      ],
      "execution_count": 19,
      "outputs": []
    },
    {
      "cell_type": "markdown",
      "metadata": {
        "id": "LEO8tZoSOS73"
      },
      "source": [
        "#### (3) Model Fit"
      ]
    },
    {
      "cell_type": "code",
      "metadata": {
        "colab": {
          "base_uri": "https://localhost:8080/"
        },
        "id": "ZX5tTfDAORHf",
        "outputId": "007bb5f9-b4f0-4cfa-ddae-776af614c693"
      },
      "source": [
        "Hist_2 = model_2.fit(X_train, y_train, \n",
        "                     epochs = 100, \n",
        "                     batch_size = 8,\n",
        "                     validation_data = (X_test, y_test))"
      ],
      "execution_count": 20,
      "outputs": [
        {
          "output_type": "stream",
          "text": [
            "Epoch 1/100\n",
            "10/10 [==============================] - 1s 35ms/step - loss: 0.3000 - accuracy: 0.0136 - val_loss: 0.2743 - val_accuracy: 0.0000e+00\n",
            "Epoch 2/100\n",
            "10/10 [==============================] - 0s 8ms/step - loss: 0.2532 - accuracy: 0.0050 - val_loss: 0.2443 - val_accuracy: 0.0000e+00\n",
            "Epoch 3/100\n",
            "10/10 [==============================] - 0s 9ms/step - loss: 0.2489 - accuracy: 0.0136 - val_loss: 0.2159 - val_accuracy: 0.0000e+00\n",
            "Epoch 4/100\n",
            "10/10 [==============================] - 0s 8ms/step - loss: 0.2367 - accuracy: 0.0066 - val_loss: 0.1895 - val_accuracy: 0.0000e+00\n",
            "Epoch 5/100\n",
            "10/10 [==============================] - 0s 8ms/step - loss: 0.1675 - accuracy: 0.0107 - val_loss: 0.1663 - val_accuracy: 0.0000e+00\n",
            "Epoch 6/100\n",
            "10/10 [==============================] - 0s 8ms/step - loss: 0.1433 - accuracy: 0.0050 - val_loss: 0.1447 - val_accuracy: 0.0000e+00\n",
            "Epoch 7/100\n",
            "10/10 [==============================] - 0s 8ms/step - loss: 0.1538 - accuracy: 0.0107 - val_loss: 0.1255 - val_accuracy: 0.0000e+00\n",
            "Epoch 8/100\n",
            "10/10 [==============================] - 0s 7ms/step - loss: 0.1461 - accuracy: 0.0107 - val_loss: 0.1088 - val_accuracy: 0.0000e+00\n",
            "Epoch 9/100\n",
            "10/10 [==============================] - 0s 7ms/step - loss: 0.1070 - accuracy: 0.0174 - val_loss: 0.0955 - val_accuracy: 0.0000e+00\n",
            "Epoch 10/100\n",
            "10/10 [==============================] - 0s 8ms/step - loss: 0.0967 - accuracy: 0.0344 - val_loss: 0.0839 - val_accuracy: 0.0000e+00\n",
            "Epoch 11/100\n",
            "10/10 [==============================] - 0s 8ms/step - loss: 0.0979 - accuracy: 0.0174 - val_loss: 0.0739 - val_accuracy: 0.0000e+00\n",
            "Epoch 12/100\n",
            "10/10 [==============================] - 0s 9ms/step - loss: 0.0761 - accuracy: 0.0107 - val_loss: 0.0656 - val_accuracy: 0.0000e+00\n",
            "Epoch 13/100\n",
            "10/10 [==============================] - 0s 8ms/step - loss: 0.0795 - accuracy: 0.0174 - val_loss: 0.0587 - val_accuracy: 0.0000e+00\n",
            "Epoch 14/100\n",
            "10/10 [==============================] - 0s 9ms/step - loss: 0.0686 - accuracy: 0.0050 - val_loss: 0.0529 - val_accuracy: 0.0000e+00\n",
            "Epoch 15/100\n",
            "10/10 [==============================] - 0s 8ms/step - loss: 0.0612 - accuracy: 0.0344 - val_loss: 0.0478 - val_accuracy: 0.0000e+00\n",
            "Epoch 16/100\n",
            "10/10 [==============================] - 0s 8ms/step - loss: 0.0488 - accuracy: 0.0134 - val_loss: 0.0432 - val_accuracy: 0.0000e+00\n",
            "Epoch 17/100\n",
            "10/10 [==============================] - 0s 8ms/step - loss: 0.0539 - accuracy: 0.0404 - val_loss: 0.0388 - val_accuracy: 0.0000e+00\n",
            "Epoch 18/100\n",
            "10/10 [==============================] - 0s 8ms/step - loss: 0.0462 - accuracy: 0.0132 - val_loss: 0.0351 - val_accuracy: 0.0000e+00\n",
            "Epoch 19/100\n",
            "10/10 [==============================] - 0s 8ms/step - loss: 0.0399 - accuracy: 0.0132 - val_loss: 0.0317 - val_accuracy: 0.0000e+00\n",
            "Epoch 20/100\n",
            "10/10 [==============================] - 0s 8ms/step - loss: 0.0422 - accuracy: 0.0338 - val_loss: 0.0287 - val_accuracy: 0.0000e+00\n",
            "Epoch 21/100\n",
            "10/10 [==============================] - 0s 8ms/step - loss: 0.0338 - accuracy: 0.0107 - val_loss: 0.0260 - val_accuracy: 0.0000e+00\n",
            "Epoch 22/100\n",
            "10/10 [==============================] - 0s 8ms/step - loss: 0.0335 - accuracy: 0.0461 - val_loss: 0.0237 - val_accuracy: 0.0000e+00\n",
            "Epoch 23/100\n",
            "10/10 [==============================] - 0s 9ms/step - loss: 0.0289 - accuracy: 0.0185 - val_loss: 0.0217 - val_accuracy: 0.0000e+00\n",
            "Epoch 24/100\n",
            "10/10 [==============================] - 0s 8ms/step - loss: 0.0234 - accuracy: 0.0120 - val_loss: 0.0200 - val_accuracy: 0.0000e+00\n",
            "Epoch 25/100\n",
            "10/10 [==============================] - 0s 8ms/step - loss: 0.0219 - accuracy: 0.0058 - val_loss: 0.0185 - val_accuracy: 0.0000e+00\n",
            "Epoch 26/100\n",
            "10/10 [==============================] - 0s 7ms/step - loss: 0.0187 - accuracy: 0.0089 - val_loss: 0.0171 - val_accuracy: 0.0000e+00\n",
            "Epoch 27/100\n",
            "10/10 [==============================] - 0s 8ms/step - loss: 0.0169 - accuracy: 0.0347 - val_loss: 0.0161 - val_accuracy: 0.0000e+00\n",
            "Epoch 28/100\n",
            "10/10 [==============================] - 0s 8ms/step - loss: 0.0163 - accuracy: 0.0143 - val_loss: 0.0151 - val_accuracy: 0.0000e+00\n",
            "Epoch 29/100\n",
            "10/10 [==============================] - 0s 8ms/step - loss: 0.0200 - accuracy: 0.0338 - val_loss: 0.0141 - val_accuracy: 0.0000e+00\n",
            "Epoch 30/100\n",
            "10/10 [==============================] - 0s 7ms/step - loss: 0.0153 - accuracy: 0.0272 - val_loss: 0.0133 - val_accuracy: 0.0000e+00\n",
            "Epoch 31/100\n",
            "10/10 [==============================] - 0s 8ms/step - loss: 0.0128 - accuracy: 0.0452 - val_loss: 0.0124 - val_accuracy: 0.0000e+00\n",
            "Epoch 32/100\n",
            "10/10 [==============================] - 0s 8ms/step - loss: 0.0101 - accuracy: 0.0280 - val_loss: 0.0117 - val_accuracy: 0.0000e+00\n",
            "Epoch 33/100\n",
            "10/10 [==============================] - 0s 8ms/step - loss: 0.0083 - accuracy: 0.0281 - val_loss: 0.0111 - val_accuracy: 0.0000e+00\n",
            "Epoch 34/100\n",
            "10/10 [==============================] - 0s 7ms/step - loss: 0.0091 - accuracy: 0.0243 - val_loss: 0.0105 - val_accuracy: 0.0000e+00\n",
            "Epoch 35/100\n",
            "10/10 [==============================] - 0s 7ms/step - loss: 0.0102 - accuracy: 0.0367 - val_loss: 0.0100 - val_accuracy: 0.0000e+00\n",
            "Epoch 36/100\n",
            "10/10 [==============================] - 0s 8ms/step - loss: 0.0121 - accuracy: 0.0223 - val_loss: 0.0094 - val_accuracy: 0.0000e+00\n",
            "Epoch 37/100\n",
            "10/10 [==============================] - 0s 8ms/step - loss: 0.0098 - accuracy: 0.0089 - val_loss: 0.0089 - val_accuracy: 0.0000e+00\n",
            "Epoch 38/100\n",
            "10/10 [==============================] - 0s 8ms/step - loss: 0.0097 - accuracy: 0.0085 - val_loss: 0.0084 - val_accuracy: 0.0000e+00\n",
            "Epoch 39/100\n",
            "10/10 [==============================] - 0s 7ms/step - loss: 0.0075 - accuracy: 0.0209 - val_loss: 0.0080 - val_accuracy: 0.0000e+00\n",
            "Epoch 40/100\n",
            "10/10 [==============================] - 0s 8ms/step - loss: 0.0090 - accuracy: 0.0130 - val_loss: 0.0077 - val_accuracy: 0.0000e+00\n",
            "Epoch 41/100\n",
            "10/10 [==============================] - 0s 8ms/step - loss: 0.0077 - accuracy: 0.0130 - val_loss: 0.0073 - val_accuracy: 0.0000e+00\n",
            "Epoch 42/100\n",
            "10/10 [==============================] - 0s 8ms/step - loss: 0.0079 - accuracy: 0.0072 - val_loss: 0.0069 - val_accuracy: 0.0000e+00\n",
            "Epoch 43/100\n",
            "10/10 [==============================] - 0s 7ms/step - loss: 0.0067 - accuracy: 0.0196 - val_loss: 0.0065 - val_accuracy: 0.0000e+00\n",
            "Epoch 44/100\n",
            "10/10 [==============================] - 0s 7ms/step - loss: 0.0062 - accuracy: 0.0280 - val_loss: 0.0063 - val_accuracy: 0.0000e+00\n",
            "Epoch 45/100\n",
            "10/10 [==============================] - 0s 8ms/step - loss: 0.0085 - accuracy: 0.0221 - val_loss: 0.0061 - val_accuracy: 0.0000e+00\n",
            "Epoch 46/100\n",
            "10/10 [==============================] - 0s 8ms/step - loss: 0.0064 - accuracy: 0.0202 - val_loss: 0.0057 - val_accuracy: 0.0000e+00\n",
            "Epoch 47/100\n",
            "10/10 [==============================] - 0s 9ms/step - loss: 0.0091 - accuracy: 0.0452 - val_loss: 0.0054 - val_accuracy: 0.0000e+00\n",
            "Epoch 48/100\n",
            "10/10 [==============================] - 0s 7ms/step - loss: 0.0065 - accuracy: 0.0452 - val_loss: 0.0052 - val_accuracy: 0.0000e+00\n",
            "Epoch 49/100\n",
            "10/10 [==============================] - 0s 8ms/step - loss: 0.0055 - accuracy: 0.0085 - val_loss: 0.0050 - val_accuracy: 0.0000e+00\n",
            "Epoch 50/100\n",
            "10/10 [==============================] - 0s 7ms/step - loss: 0.0056 - accuracy: 0.0280 - val_loss: 0.0049 - val_accuracy: 0.0000e+00\n",
            "Epoch 51/100\n",
            "10/10 [==============================] - 0s 7ms/step - loss: 0.0062 - accuracy: 0.0380 - val_loss: 0.0046 - val_accuracy: 0.0000e+00\n",
            "Epoch 52/100\n",
            "10/10 [==============================] - 0s 8ms/step - loss: 0.0051 - accuracy: 0.0452 - val_loss: 0.0045 - val_accuracy: 0.0000e+00\n",
            "Epoch 53/100\n",
            "10/10 [==============================] - 0s 8ms/step - loss: 0.0059 - accuracy: 0.0272 - val_loss: 0.0043 - val_accuracy: 0.0000e+00\n",
            "Epoch 54/100\n",
            "10/10 [==============================] - 0s 8ms/step - loss: 0.0044 - accuracy: 0.0240 - val_loss: 0.0041 - val_accuracy: 0.0000e+00\n",
            "Epoch 55/100\n",
            "10/10 [==============================] - 0s 8ms/step - loss: 0.0051 - accuracy: 0.0243 - val_loss: 0.0040 - val_accuracy: 0.0000e+00\n",
            "Epoch 56/100\n",
            "10/10 [==============================] - 0s 8ms/step - loss: 0.0044 - accuracy: 0.0058 - val_loss: 0.0038 - val_accuracy: 0.0000e+00\n",
            "Epoch 57/100\n",
            "10/10 [==============================] - 0s 7ms/step - loss: 0.0040 - accuracy: 0.0394 - val_loss: 0.0037 - val_accuracy: 0.0000e+00\n",
            "Epoch 58/100\n",
            "10/10 [==============================] - 0s 7ms/step - loss: 0.0060 - accuracy: 0.0518 - val_loss: 0.0036 - val_accuracy: 0.0000e+00\n",
            "Epoch 59/100\n",
            "10/10 [==============================] - 0s 7ms/step - loss: 0.0039 - accuracy: 0.0366 - val_loss: 0.0034 - val_accuracy: 0.0000e+00\n",
            "Epoch 60/100\n",
            "10/10 [==============================] - 0s 9ms/step - loss: 0.0053 - accuracy: 0.0367 - val_loss: 0.0033 - val_accuracy: 0.0000e+00\n",
            "Epoch 61/100\n",
            "10/10 [==============================] - 0s 9ms/step - loss: 0.0048 - accuracy: 0.0338 - val_loss: 0.0032 - val_accuracy: 0.0000e+00\n",
            "Epoch 62/100\n",
            "10/10 [==============================] - 0s 7ms/step - loss: 0.0033 - accuracy: 0.0196 - val_loss: 0.0031 - val_accuracy: 0.0000e+00\n",
            "Epoch 63/100\n",
            "10/10 [==============================] - 0s 7ms/step - loss: 0.0043 - accuracy: 0.0243 - val_loss: 0.0030 - val_accuracy: 0.0000e+00\n",
            "Epoch 64/100\n",
            "10/10 [==============================] - 0s 8ms/step - loss: 0.0038 - accuracy: 0.0192 - val_loss: 0.0028 - val_accuracy: 0.0000e+00\n",
            "Epoch 65/100\n",
            "10/10 [==============================] - 0s 7ms/step - loss: 0.0036 - accuracy: 0.0151 - val_loss: 0.0027 - val_accuracy: 0.0000e+00\n",
            "Epoch 66/100\n",
            "10/10 [==============================] - 0s 8ms/step - loss: 0.0032 - accuracy: 0.0085 - val_loss: 0.0027 - val_accuracy: 0.0000e+00\n",
            "Epoch 67/100\n",
            "10/10 [==============================] - 0s 8ms/step - loss: 0.0037 - accuracy: 0.0281 - val_loss: 0.0026 - val_accuracy: 0.0000e+00\n",
            "Epoch 68/100\n",
            "10/10 [==============================] - 0s 8ms/step - loss: 0.0032 - accuracy: 0.0366 - val_loss: 0.0025 - val_accuracy: 0.0000e+00\n",
            "Epoch 69/100\n",
            "10/10 [==============================] - 0s 7ms/step - loss: 0.0030 - accuracy: 0.0310 - val_loss: 0.0024 - val_accuracy: 0.0000e+00\n",
            "Epoch 70/100\n",
            "10/10 [==============================] - 0s 8ms/step - loss: 0.0032 - accuracy: 0.0394 - val_loss: 0.0024 - val_accuracy: 0.0000e+00\n",
            "Epoch 71/100\n",
            "10/10 [==============================] - 0s 8ms/step - loss: 0.0026 - accuracy: 0.0243 - val_loss: 0.0023 - val_accuracy: 0.0000e+00\n",
            "Epoch 72/100\n",
            "10/10 [==============================] - 0s 8ms/step - loss: 0.0030 - accuracy: 0.0192 - val_loss: 0.0022 - val_accuracy: 0.0000e+00\n",
            "Epoch 73/100\n",
            "10/10 [==============================] - 0s 9ms/step - loss: 0.0026 - accuracy: 0.0404 - val_loss: 0.0021 - val_accuracy: 0.0000e+00\n",
            "Epoch 74/100\n",
            "10/10 [==============================] - 0s 8ms/step - loss: 0.0023 - accuracy: 0.0221 - val_loss: 0.0021 - val_accuracy: 0.0000e+00\n",
            "Epoch 75/100\n",
            "10/10 [==============================] - 0s 8ms/step - loss: 0.0018 - accuracy: 0.0296 - val_loss: 0.0020 - val_accuracy: 0.0000e+00\n",
            "Epoch 76/100\n",
            "10/10 [==============================] - 0s 8ms/step - loss: 0.0022 - accuracy: 0.0169 - val_loss: 0.0020 - val_accuracy: 0.0000e+00\n",
            "Epoch 77/100\n",
            "10/10 [==============================] - 0s 8ms/step - loss: 0.0029 - accuracy: 0.0157 - val_loss: 0.0019 - val_accuracy: 0.0000e+00\n",
            "Epoch 78/100\n",
            "10/10 [==============================] - 0s 8ms/step - loss: 0.0021 - accuracy: 0.0072 - val_loss: 0.0018 - val_accuracy: 0.0000e+00\n",
            "Epoch 79/100\n",
            "10/10 [==============================] - 0s 9ms/step - loss: 0.0020 - accuracy: 0.0315 - val_loss: 0.0018 - val_accuracy: 0.0000e+00\n",
            "Epoch 80/100\n",
            "10/10 [==============================] - 0s 8ms/step - loss: 0.0025 - accuracy: 0.0221 - val_loss: 0.0018 - val_accuracy: 0.0000e+00\n",
            "Epoch 81/100\n",
            "10/10 [==============================] - 0s 8ms/step - loss: 0.0021 - accuracy: 0.0185 - val_loss: 0.0017 - val_accuracy: 0.0000e+00\n",
            "Epoch 82/100\n",
            "10/10 [==============================] - 0s 8ms/step - loss: 0.0020 - accuracy: 0.0480 - val_loss: 0.0016 - val_accuracy: 0.0000e+00\n",
            "Epoch 83/100\n",
            "10/10 [==============================] - 0s 8ms/step - loss: 0.0019 - accuracy: 0.0132 - val_loss: 0.0016 - val_accuracy: 0.0000e+00\n",
            "Epoch 84/100\n",
            "10/10 [==============================] - 0s 8ms/step - loss: 0.0017 - accuracy: 0.0173 - val_loss: 0.0016 - val_accuracy: 0.0000e+00\n",
            "Epoch 85/100\n",
            "10/10 [==============================] - 0s 7ms/step - loss: 0.0020 - accuracy: 0.0157 - val_loss: 0.0015 - val_accuracy: 0.0000e+00\n",
            "Epoch 86/100\n",
            "10/10 [==============================] - 0s 8ms/step - loss: 0.0017 - accuracy: 0.0296 - val_loss: 0.0015 - val_accuracy: 0.0000e+00\n",
            "Epoch 87/100\n",
            "10/10 [==============================] - 0s 8ms/step - loss: 0.0018 - accuracy: 0.0173 - val_loss: 0.0014 - val_accuracy: 0.0000e+00\n",
            "Epoch 88/100\n",
            "10/10 [==============================] - 0s 7ms/step - loss: 0.0013 - accuracy: 0.0157 - val_loss: 0.0014 - val_accuracy: 0.0000e+00\n",
            "Epoch 89/100\n",
            "10/10 [==============================] - 0s 7ms/step - loss: 0.0017 - accuracy: 0.0196 - val_loss: 0.0014 - val_accuracy: 0.0000e+00\n",
            "Epoch 90/100\n",
            "10/10 [==============================] - 0s 8ms/step - loss: 0.0019 - accuracy: 0.0347 - val_loss: 0.0013 - val_accuracy: 0.0000e+00\n",
            "Epoch 91/100\n",
            "10/10 [==============================] - 0s 8ms/step - loss: 0.0015 - accuracy: 0.0461 - val_loss: 0.0013 - val_accuracy: 0.0000e+00\n",
            "Epoch 92/100\n",
            "10/10 [==============================] - 0s 8ms/step - loss: 0.0017 - accuracy: 0.0367 - val_loss: 0.0012 - val_accuracy: 0.0000e+00\n",
            "Epoch 93/100\n",
            "10/10 [==============================] - 0s 8ms/step - loss: 0.0012 - accuracy: 0.0169 - val_loss: 0.0012 - val_accuracy: 0.0000e+00\n",
            "Epoch 94/100\n",
            "10/10 [==============================] - 0s 7ms/step - loss: 0.0018 - accuracy: 0.0243 - val_loss: 0.0012 - val_accuracy: 0.0000e+00\n",
            "Epoch 95/100\n",
            "10/10 [==============================] - 0s 8ms/step - loss: 0.0016 - accuracy: 0.0202 - val_loss: 0.0011 - val_accuracy: 0.0000e+00\n",
            "Epoch 96/100\n",
            "10/10 [==============================] - 0s 7ms/step - loss: 0.0013 - accuracy: 0.0280 - val_loss: 0.0011 - val_accuracy: 0.0000e+00\n",
            "Epoch 97/100\n",
            "10/10 [==============================] - 0s 8ms/step - loss: 0.0013 - accuracy: 0.0072 - val_loss: 0.0011 - val_accuracy: 0.0000e+00\n",
            "Epoch 98/100\n",
            "10/10 [==============================] - 0s 8ms/step - loss: 0.0014 - accuracy: 0.0171 - val_loss: 0.0011 - val_accuracy: 0.0000e+00\n",
            "Epoch 99/100\n",
            "10/10 [==============================] - 0s 8ms/step - loss: 0.0010 - accuracy: 0.0071 - val_loss: 0.0010 - val_accuracy: 0.0000e+00\n",
            "Epoch 100/100\n",
            "10/10 [==============================] - 0s 7ms/step - loss: 0.0014 - accuracy: 0.0266 - val_loss: 0.0010 - val_accuracy: 0.0000e+00\n"
          ],
          "name": "stdout"
        }
      ]
    },
    {
      "cell_type": "markdown",
      "metadata": {
        "id": "CtzyuRKWOa66"
      },
      "source": [
        "#### (4) Model Predict"
      ]
    },
    {
      "cell_type": "code",
      "metadata": {
        "id": "U5IKQItKOY7o"
      },
      "source": [
        "y_hat = model_2.predict(X_test)"
      ],
      "execution_count": 21,
      "outputs": []
    },
    {
      "cell_type": "markdown",
      "metadata": {
        "id": "SkuGlpXpOfg5"
      },
      "source": [
        "#### (5) Result Visualization\n",
        "* Loss"
      ]
    },
    {
      "cell_type": "code",
      "metadata": {
        "colab": {
          "base_uri": "https://localhost:8080/",
          "height": 265
        },
        "id": "Nh7XrESMOe3-",
        "outputId": "297fd009-4116-4d21-f9a8-259225ce4f83"
      },
      "source": [
        "plt.plot(Hist_2.history['loss']) \n",
        "\n",
        "plt.show()"
      ],
      "execution_count": 22,
      "outputs": [
        {
          "output_type": "display_data",
          "data": {
            "image/png": "[encoded data removed]",
            "text/plain": [
              "<Figure size 432x288 with 1 Axes>"
            ]
          },
          "metadata": {
            "tags": [],
            "needs_background": "light"
          }
        }
      ]
    },
    {
      "cell_type": "markdown",
      "metadata": {
        "id": "qyhV35orOo3b"
      },
      "source": [
        "* 학습 진행\n",
        "  * 녹색 -> 정답(y_test) \n",
        "  * 적색 -> 예측(y_hat)"
      ]
    },
    {
      "cell_type": "code",
      "metadata": {
        "colab": {
          "base_uri": "https://localhost:8080/",
          "height": 265
        },
        "id": "2nXk7QltOnkU",
        "outputId": "f3d81cba-4c0e-4cc2-9030-8390fa945cbc"
      },
      "source": [
        "plt.scatter(range(20), y_hat, c = 'r') \n",
        "plt.scatter(range(20), y_test, c = 'g') \n",
        "plt.show()\n",
        "#정규화를 하니 학습이 진행되었다"
      ],
      "execution_count": 23,
      "outputs": [
        {
          "output_type": "display_data",
          "data": {
            "image/png": "[encoded data removed]",
            "text/plain": [
              "<Figure size 432x288 with 1 Axes>"
            ]
          },
          "metadata": {
            "tags": [],
            "needs_background": "light"
          }
        }
      ]
    },
    {
      "cell_type": "markdown",
      "metadata": {
        "id": "2k9jIqBKO_Mw"
      },
      "source": [
        "## 3.Stacked_SimpleRNN"
      ]
    },
    {
      "cell_type": "markdown",
      "metadata": {
        "id": "RTfmI4Q4PBiZ"
      },
      "source": [
        "1) Model Define & Summary\n",
        "* return_sequences = True"
      ]
    },
    {
      "cell_type": "code",
      "metadata": {
        "colab": {
          "base_uri": "https://localhost:8080/"
        },
        "id": "PeNDVCMROvf4",
        "outputId": "35d5aa78-09bd-4b30-ca99-977c3fcdcad0"
      },
      "source": [
        "model_4 = models.Sequential(name = 'Stackd_RNN') \n",
        "\n",
        "model_4.add(layers.SimpleRNN(3,\n",
        "                             input_shape = (None, 1), \n",
        "                             return_sequences = True))\n",
        "\n",
        "model_4.add(layers.SimpleRNN(3,\n",
        "                             input_shape = (None, 1), \n",
        "                             return_sequences = False))\n",
        "\n",
        "model_4.add(layers.Dense(1)) \n",
        "\n",
        "model_4.summary()"
      ],
      "execution_count": 24,
      "outputs": [
        {
          "output_type": "stream",
          "text": [
            "Model: \"Stackd_RNN\"\n",
            "_________________________________________________________________\n",
            "Layer (type)                 Output Shape              Param #   \n",
            "=================================================================\n",
            "simple_rnn_2 (SimpleRNN)     (None, None, 3)           15        \n",
            "_________________________________________________________________\n",
            "simple_rnn_3 (SimpleRNN)     (None, 3)                 21        \n",
            "_________________________________________________________________\n",
            "dense_2 (Dense)              (None, 1)                 4         \n",
            "=================================================================\n",
            "Total params: 40\n",
            "Trainable params: 40\n",
            "Non-trainable params: 0\n",
            "_________________________________________________________________\n"
          ],
          "name": "stdout"
        }
      ]
    },
    {
      "cell_type": "markdown",
      "metadata": {
        "id": "Uk_PIgp0PVyw"
      },
      "source": [
        "### 2) Model Compile"
      ]
    },
    {
      "cell_type": "code",
      "metadata": {
        "id": "-KTGgQ0iPPqQ"
      },
      "source": [
        "model_4.compile(loss = 'mse', \n",
        "                optimizer = 'adam', \n",
        "                metrics = ['accuracy'])"
      ],
      "execution_count": 25,
      "outputs": []
    },
    {
      "cell_type": "markdown",
      "metadata": {
        "id": "kuxFNWbTPabN"
      },
      "source": [
        "### 3) Model Fit"
      ]
    },
    {
      "cell_type": "code",
      "metadata": {
        "colab": {
          "base_uri": "https://localhost:8080/"
        },
        "id": "AlO4EiO5PYxX",
        "outputId": "b2c2609c-a7b2-4b5d-d038-e488862e8f08"
      },
      "source": [
        "Hist_4 = model_4.fit(X_train, y_train, \n",
        "                     epochs = 100, \n",
        "                     batch_size = 8,\n",
        "                     validation_data = (X_test, y_test))"
      ],
      "execution_count": 26,
      "outputs": [
        {
          "output_type": "stream",
          "text": [
            "Epoch 1/100\n",
            "10/10 [==============================] - 2s 48ms/step - loss: 0.0232 - accuracy: 0.0518 - val_loss: 0.0185 - val_accuracy: 0.0000e+00\n",
            "Epoch 2/100\n",
            "10/10 [==============================] - 0s 9ms/step - loss: 0.0169 - accuracy: 0.0157 - val_loss: 0.0139 - val_accuracy: 0.0000e+00\n",
            "Epoch 3/100\n",
            "10/10 [==============================] - 0s 8ms/step - loss: 0.0159 - accuracy: 0.0159 - val_loss: 0.0104 - val_accuracy: 0.0000e+00\n",
            "Epoch 4/100\n",
            "10/10 [==============================] - 0s 8ms/step - loss: 0.0107 - accuracy: 0.0101 - val_loss: 0.0079 - val_accuracy: 0.0000e+00\n",
            "Epoch 5/100\n",
            "10/10 [==============================] - 0s 9ms/step - loss: 0.0072 - accuracy: 0.0130 - val_loss: 0.0063 - val_accuracy: 0.0000e+00\n",
            "Epoch 6/100\n",
            "10/10 [==============================] - 0s 9ms/step - loss: 0.0074 - accuracy: 0.0394 - val_loss: 0.0051 - val_accuracy: 0.0000e+00\n",
            "Epoch 7/100\n",
            "10/10 [==============================] - 0s 9ms/step - loss: 0.0048 - accuracy: 0.0280 - val_loss: 0.0043 - val_accuracy: 0.0000e+00\n",
            "Epoch 8/100\n",
            "10/10 [==============================] - 0s 9ms/step - loss: 0.0052 - accuracy: 0.0089 - val_loss: 0.0037 - val_accuracy: 0.0000e+00\n",
            "Epoch 9/100\n",
            "10/10 [==============================] - 0s 8ms/step - loss: 0.0045 - accuracy: 0.0266 - val_loss: 0.0030 - val_accuracy: 0.0000e+00\n",
            "Epoch 10/100\n",
            "10/10 [==============================] - 0s 8ms/step - loss: 0.0034 - accuracy: 0.0089 - val_loss: 0.0025 - val_accuracy: 0.0000e+00\n",
            "Epoch 11/100\n",
            "10/10 [==============================] - 0s 10ms/step - loss: 0.0025 - accuracy: 0.0240 - val_loss: 0.0023 - val_accuracy: 0.0000e+00\n",
            "Epoch 12/100\n",
            "10/10 [==============================] - 0s 9ms/step - loss: 0.0021 - accuracy: 0.0185 - val_loss: 0.0018 - val_accuracy: 0.0000e+00\n",
            "Epoch 13/100\n",
            "10/10 [==============================] - 0s 10ms/step - loss: 0.0022 - accuracy: 0.0280 - val_loss: 0.0015 - val_accuracy: 0.0000e+00\n",
            "Epoch 14/100\n",
            "10/10 [==============================] - 0s 9ms/step - loss: 0.0014 - accuracy: 0.0310 - val_loss: 0.0013 - val_accuracy: 0.0000e+00\n",
            "Epoch 15/100\n",
            "10/10 [==============================] - 0s 8ms/step - loss: 0.0018 - accuracy: 0.0310 - val_loss: 0.0011 - val_accuracy: 0.0000e+00\n",
            "Epoch 16/100\n",
            "10/10 [==============================] - 0s 9ms/step - loss: 0.0015 - accuracy: 0.0272 - val_loss: 9.6654e-04 - val_accuracy: 0.0000e+00\n",
            "Epoch 17/100\n",
            "10/10 [==============================] - 0s 8ms/step - loss: 8.1897e-04 - accuracy: 0.0367 - val_loss: 8.3916e-04 - val_accuracy: 0.0000e+00\n",
            "Epoch 18/100\n",
            "10/10 [==============================] - 0s 9ms/step - loss: 0.0014 - accuracy: 0.0280 - val_loss: 7.9585e-04 - val_accuracy: 0.0000e+00\n",
            "Epoch 19/100\n",
            "10/10 [==============================] - 0s 9ms/step - loss: 9.8186e-04 - accuracy: 0.0404 - val_loss: 6.8051e-04 - val_accuracy: 0.0000e+00\n",
            "Epoch 20/100\n",
            "10/10 [==============================] - 0s 9ms/step - loss: 9.4544e-04 - accuracy: 0.0058 - val_loss: 6.3318e-04 - val_accuracy: 0.0000e+00\n",
            "Epoch 21/100\n",
            "10/10 [==============================] - 0s 9ms/step - loss: 8.1087e-04 - accuracy: 0.0101 - val_loss: 6.4597e-04 - val_accuracy: 0.0000e+00\n",
            "Epoch 22/100\n",
            "10/10 [==============================] - 0s 9ms/step - loss: 9.2121e-04 - accuracy: 0.0461 - val_loss: 5.7536e-04 - val_accuracy: 0.0000e+00\n",
            "Epoch 23/100\n",
            "10/10 [==============================] - 0s 9ms/step - loss: 7.7386e-04 - accuracy: 0.0404 - val_loss: 5.5668e-04 - val_accuracy: 0.0000e+00\n",
            "Epoch 24/100\n",
            "10/10 [==============================] - 0s 9ms/step - loss: 7.2533e-04 - accuracy: 0.0101 - val_loss: 5.5080e-04 - val_accuracy: 0.0000e+00\n",
            "Epoch 25/100\n",
            "10/10 [==============================] - 0s 9ms/step - loss: 8.3297e-04 - accuracy: 0.0192 - val_loss: 5.2541e-04 - val_accuracy: 0.0000e+00\n",
            "Epoch 26/100\n",
            "10/10 [==============================] - 0s 8ms/step - loss: 6.9154e-04 - accuracy: 0.0159 - val_loss: 5.1888e-04 - val_accuracy: 0.0000e+00\n",
            "Epoch 27/100\n",
            "10/10 [==============================] - 0s 8ms/step - loss: 6.8233e-04 - accuracy: 0.0107 - val_loss: 5.1671e-04 - val_accuracy: 0.0000e+00\n",
            "Epoch 28/100\n",
            "10/10 [==============================] - 0s 9ms/step - loss: 6.1107e-04 - accuracy: 0.0071 - val_loss: 4.9114e-04 - val_accuracy: 0.0000e+00\n",
            "Epoch 29/100\n",
            "10/10 [==============================] - 0s 9ms/step - loss: 6.0925e-04 - accuracy: 0.0196 - val_loss: 4.9566e-04 - val_accuracy: 0.0000e+00\n",
            "Epoch 30/100\n",
            "10/10 [==============================] - 0s 10ms/step - loss: 6.5657e-04 - accuracy: 0.0272 - val_loss: 4.7855e-04 - val_accuracy: 0.0000e+00\n",
            "Epoch 31/100\n",
            "10/10 [==============================] - 0s 10ms/step - loss: 6.9868e-04 - accuracy: 0.0310 - val_loss: 4.6087e-04 - val_accuracy: 0.0000e+00\n",
            "Epoch 32/100\n",
            "10/10 [==============================] - 0s 9ms/step - loss: 6.3499e-04 - accuracy: 0.0280 - val_loss: 4.4768e-04 - val_accuracy: 0.0000e+00\n",
            "Epoch 33/100\n",
            "10/10 [==============================] - 0s 9ms/step - loss: 6.0667e-04 - accuracy: 0.0310 - val_loss: 4.3487e-04 - val_accuracy: 0.0000e+00\n",
            "Epoch 34/100\n",
            "10/10 [==============================] - 0s 8ms/step - loss: 5.9151e-04 - accuracy: 0.0410 - val_loss: 4.2610e-04 - val_accuracy: 0.0000e+00\n",
            "Epoch 35/100\n",
            "10/10 [==============================] - 0s 9ms/step - loss: 5.4094e-04 - accuracy: 0.0151 - val_loss: 4.1076e-04 - val_accuracy: 0.0000e+00\n",
            "Epoch 36/100\n",
            "10/10 [==============================] - 0s 9ms/step - loss: 4.8545e-04 - accuracy: 0.0151 - val_loss: 4.0707e-04 - val_accuracy: 0.0000e+00\n",
            "Epoch 37/100\n",
            "10/10 [==============================] - 0s 9ms/step - loss: 4.8600e-04 - accuracy: 0.0171 - val_loss: 3.9378e-04 - val_accuracy: 0.0000e+00\n",
            "Epoch 38/100\n",
            "10/10 [==============================] - 0s 10ms/step - loss: 6.3953e-04 - accuracy: 0.0688 - val_loss: 3.7795e-04 - val_accuracy: 0.0000e+00\n",
            "Epoch 39/100\n",
            "10/10 [==============================] - 0s 8ms/step - loss: 4.9371e-04 - accuracy: 0.0394 - val_loss: 3.6658e-04 - val_accuracy: 0.0000e+00\n",
            "Epoch 40/100\n",
            "10/10 [==============================] - 0s 9ms/step - loss: 4.9168e-04 - accuracy: 0.0192 - val_loss: 3.6111e-04 - val_accuracy: 0.0000e+00\n",
            "Epoch 41/100\n",
            "10/10 [==============================] - 0s 8ms/step - loss: 5.3124e-04 - accuracy: 0.0461 - val_loss: 3.5030e-04 - val_accuracy: 0.0000e+00\n",
            "Epoch 42/100\n",
            "10/10 [==============================] - 0s 8ms/step - loss: 4.8046e-04 - accuracy: 0.0185 - val_loss: 3.4026e-04 - val_accuracy: 0.0000e+00\n",
            "Epoch 43/100\n",
            "10/10 [==============================] - 0s 9ms/step - loss: 4.3762e-04 - accuracy: 0.0296 - val_loss: 3.2581e-04 - val_accuracy: 0.0000e+00\n",
            "Epoch 44/100\n",
            "10/10 [==============================] - 0s 11ms/step - loss: 4.7797e-04 - accuracy: 0.0394 - val_loss: 3.2126e-04 - val_accuracy: 0.0000e+00\n",
            "Epoch 45/100\n",
            "10/10 [==============================] - 0s 9ms/step - loss: 3.4893e-04 - accuracy: 0.0130 - val_loss: 3.0616e-04 - val_accuracy: 0.0000e+00\n",
            "Epoch 46/100\n",
            "10/10 [==============================] - 0s 10ms/step - loss: 4.6935e-04 - accuracy: 0.0367 - val_loss: 2.9648e-04 - val_accuracy: 0.0000e+00\n",
            "Epoch 47/100\n",
            "10/10 [==============================] - 0s 10ms/step - loss: 4.9646e-04 - accuracy: 0.0452 - val_loss: 2.9080e-04 - val_accuracy: 0.0000e+00\n",
            "Epoch 48/100\n",
            "10/10 [==============================] - 0s 10ms/step - loss: 3.2458e-04 - accuracy: 0.0380 - val_loss: 2.8026e-04 - val_accuracy: 0.0000e+00\n",
            "Epoch 49/100\n",
            "10/10 [==============================] - 0s 10ms/step - loss: 4.9026e-04 - accuracy: 0.0338 - val_loss: 2.9458e-04 - val_accuracy: 0.0000e+00\n",
            "Epoch 50/100\n",
            "10/10 [==============================] - 0s 9ms/step - loss: 5.3601e-04 - accuracy: 0.0688 - val_loss: 2.6348e-04 - val_accuracy: 0.0000e+00\n",
            "Epoch 51/100\n",
            "10/10 [==============================] - 0s 9ms/step - loss: 3.4432e-04 - accuracy: 0.0185 - val_loss: 2.5244e-04 - val_accuracy: 0.0000e+00\n",
            "Epoch 52/100\n",
            "10/10 [==============================] - 0s 9ms/step - loss: 3.3570e-04 - accuracy: 0.0243 - val_loss: 2.5294e-04 - val_accuracy: 0.0000e+00\n",
            "Epoch 53/100\n",
            "10/10 [==============================] - 0s 10ms/step - loss: 3.5242e-04 - accuracy: 0.0315 - val_loss: 2.3735e-04 - val_accuracy: 0.0000e+00\n",
            "Epoch 54/100\n",
            "10/10 [==============================] - 0s 9ms/step - loss: 3.7340e-04 - accuracy: 0.0072 - val_loss: 2.3208e-04 - val_accuracy: 0.0000e+00\n",
            "Epoch 55/100\n",
            "10/10 [==============================] - 0s 9ms/step - loss: 3.5557e-04 - accuracy: 0.0429 - val_loss: 2.3077e-04 - val_accuracy: 0.0000e+00\n",
            "Epoch 56/100\n",
            "10/10 [==============================] - 0s 9ms/step - loss: 3.3900e-04 - accuracy: 0.0272 - val_loss: 2.1336e-04 - val_accuracy: 0.0000e+00\n",
            "Epoch 57/100\n",
            "10/10 [==============================] - 0s 10ms/step - loss: 3.3613e-04 - accuracy: 0.0394 - val_loss: 2.1079e-04 - val_accuracy: 0.0000e+00\n",
            "Epoch 58/100\n",
            "10/10 [==============================] - 0s 9ms/step - loss: 3.4838e-04 - accuracy: 0.0266 - val_loss: 2.0712e-04 - val_accuracy: 0.0000e+00\n",
            "Epoch 59/100\n",
            "10/10 [==============================] - 0s 10ms/step - loss: 3.2118e-04 - accuracy: 0.0045 - val_loss: 1.9548e-04 - val_accuracy: 0.0000e+00\n",
            "Epoch 60/100\n",
            "10/10 [==============================] - 0s 10ms/step - loss: 2.6142e-04 - accuracy: 0.0058 - val_loss: 1.8468e-04 - val_accuracy: 0.0000e+00\n",
            "Epoch 61/100\n",
            "10/10 [==============================] - 0s 9ms/step - loss: 2.6194e-04 - accuracy: 0.0258 - val_loss: 1.8037e-04 - val_accuracy: 0.0000e+00\n",
            "Epoch 62/100\n",
            "10/10 [==============================] - 0s 8ms/step - loss: 3.6898e-04 - accuracy: 0.0575 - val_loss: 1.7769e-04 - val_accuracy: 0.0000e+00\n",
            "Epoch 63/100\n",
            "10/10 [==============================] - 0s 8ms/step - loss: 2.8507e-04 - accuracy: 0.0169 - val_loss: 1.6903e-04 - val_accuracy: 0.0000e+00\n",
            "Epoch 64/100\n",
            "10/10 [==============================] - 0s 9ms/step - loss: 2.3334e-04 - accuracy: 0.0072 - val_loss: 1.6886e-04 - val_accuracy: 0.0000e+00\n",
            "Epoch 65/100\n",
            "10/10 [==============================] - 0s 9ms/step - loss: 3.1669e-04 - accuracy: 0.0380 - val_loss: 1.5550e-04 - val_accuracy: 0.0000e+00\n",
            "Epoch 66/100\n",
            "10/10 [==============================] - 0s 9ms/step - loss: 2.5378e-04 - accuracy: 0.0099 - val_loss: 1.6022e-04 - val_accuracy: 0.0000e+00\n",
            "Epoch 67/100\n",
            "10/10 [==============================] - 0s 9ms/step - loss: 2.1489e-04 - accuracy: 0.0243 - val_loss: 1.4464e-04 - val_accuracy: 0.0000e+00\n",
            "Epoch 68/100\n",
            "10/10 [==============================] - 0s 9ms/step - loss: 2.6506e-04 - accuracy: 0.0240 - val_loss: 1.4002e-04 - val_accuracy: 0.0000e+00\n",
            "Epoch 69/100\n",
            "10/10 [==============================] - 0s 9ms/step - loss: 2.2077e-04 - accuracy: 0.0480 - val_loss: 1.4570e-04 - val_accuracy: 0.0000e+00\n",
            "Epoch 70/100\n",
            "10/10 [==============================] - 0s 8ms/step - loss: 2.1931e-04 - accuracy: 0.0518 - val_loss: 1.3607e-04 - val_accuracy: 0.0000e+00\n",
            "Epoch 71/100\n",
            "10/10 [==============================] - 0s 9ms/step - loss: 1.9630e-04 - accuracy: 0.0429 - val_loss: 1.2783e-04 - val_accuracy: 0.0000e+00\n",
            "Epoch 72/100\n",
            "10/10 [==============================] - 0s 10ms/step - loss: 1.9786e-04 - accuracy: 0.0394 - val_loss: 1.2185e-04 - val_accuracy: 0.0000e+00\n",
            "Epoch 73/100\n",
            "10/10 [==============================] - 0s 9ms/step - loss: 2.3227e-04 - accuracy: 0.0157 - val_loss: 1.4753e-04 - val_accuracy: 0.0000e+00\n",
            "Epoch 74/100\n",
            "10/10 [==============================] - 0s 9ms/step - loss: 1.3567e-04 - accuracy: 0.0107 - val_loss: 1.2552e-04 - val_accuracy: 0.0000e+00\n",
            "Epoch 75/100\n",
            "10/10 [==============================] - 0s 9ms/step - loss: 2.1422e-04 - accuracy: 0.0099 - val_loss: 1.2394e-04 - val_accuracy: 0.0000e+00\n",
            "Epoch 76/100\n",
            "10/10 [==============================] - 0s 10ms/step - loss: 2.2583e-04 - accuracy: 0.0404 - val_loss: 1.2317e-04 - val_accuracy: 0.0000e+00\n",
            "Epoch 77/100\n",
            "10/10 [==============================] - 0s 9ms/step - loss: 2.2169e-04 - accuracy: 0.0315 - val_loss: 1.1614e-04 - val_accuracy: 0.0000e+00\n",
            "Epoch 78/100\n",
            "10/10 [==============================] - 0s 9ms/step - loss: 1.7068e-04 - accuracy: 0.0280 - val_loss: 1.5224e-04 - val_accuracy: 0.0000e+00\n",
            "Epoch 79/100\n",
            "10/10 [==============================] - 0s 9ms/step - loss: 2.6506e-04 - accuracy: 0.0338 - val_loss: 1.0690e-04 - val_accuracy: 0.0000e+00\n",
            "Epoch 80/100\n",
            "10/10 [==============================] - 0s 9ms/step - loss: 1.5529e-04 - accuracy: 0.0120 - val_loss: 8.9555e-05 - val_accuracy: 0.0000e+00\n",
            "Epoch 81/100\n",
            "10/10 [==============================] - 0s 9ms/step - loss: 1.2985e-04 - accuracy: 0.0089 - val_loss: 1.2171e-04 - val_accuracy: 0.0000e+00\n",
            "Epoch 82/100\n",
            "10/10 [==============================] - 0s 9ms/step - loss: 2.1101e-04 - accuracy: 0.0101 - val_loss: 2.0384e-04 - val_accuracy: 0.0000e+00\n",
            "Epoch 83/100\n",
            "10/10 [==============================] - 0s 8ms/step - loss: 1.8849e-04 - accuracy: 0.0151 - val_loss: 1.2136e-04 - val_accuracy: 0.0000e+00\n",
            "Epoch 84/100\n",
            "10/10 [==============================] - 0s 9ms/step - loss: 1.7108e-04 - accuracy: 0.0253 - val_loss: 8.0503e-05 - val_accuracy: 0.0000e+00\n",
            "Epoch 85/100\n",
            "10/10 [==============================] - 0s 9ms/step - loss: 1.8638e-04 - accuracy: 0.0221 - val_loss: 9.2120e-05 - val_accuracy: 0.0000e+00\n",
            "Epoch 86/100\n",
            "10/10 [==============================] - 0s 9ms/step - loss: 1.5667e-04 - accuracy: 0.0151 - val_loss: 7.7551e-05 - val_accuracy: 0.0000e+00\n",
            "Epoch 87/100\n",
            "10/10 [==============================] - 0s 10ms/step - loss: 1.3988e-04 - accuracy: 0.0253 - val_loss: 6.9592e-05 - val_accuracy: 0.0000e+00\n",
            "Epoch 88/100\n",
            "10/10 [==============================] - 0s 10ms/step - loss: 1.2799e-04 - accuracy: 0.0223 - val_loss: 6.7786e-05 - val_accuracy: 0.0000e+00\n",
            "Epoch 89/100\n",
            "10/10 [==============================] - 0s 10ms/step - loss: 1.0303e-04 - accuracy: 0.0071 - val_loss: 6.7815e-05 - val_accuracy: 0.0000e+00\n",
            "Epoch 90/100\n",
            "10/10 [==============================] - 0s 9ms/step - loss: 1.0499e-04 - accuracy: 0.0115 - val_loss: 6.7008e-05 - val_accuracy: 0.0000e+00\n",
            "Epoch 91/100\n",
            "10/10 [==============================] - 0s 10ms/step - loss: 9.8769e-05 - accuracy: 0.0171 - val_loss: 7.1701e-05 - val_accuracy: 0.0000e+00\n",
            "Epoch 92/100\n",
            "10/10 [==============================] - 0s 9ms/step - loss: 1.2479e-04 - accuracy: 0.0221 - val_loss: 9.6323e-05 - val_accuracy: 0.0000e+00\n",
            "Epoch 93/100\n",
            "10/10 [==============================] - 0s 9ms/step - loss: 1.1641e-04 - accuracy: 0.0107 - val_loss: 6.7888e-05 - val_accuracy: 0.0000e+00\n",
            "Epoch 94/100\n",
            "10/10 [==============================] - 0s 9ms/step - loss: 1.3016e-04 - accuracy: 0.0130 - val_loss: 6.7330e-05 - val_accuracy: 0.0000e+00\n",
            "Epoch 95/100\n",
            "10/10 [==============================] - 0s 10ms/step - loss: 1.2171e-04 - accuracy: 0.0296 - val_loss: 6.8907e-05 - val_accuracy: 0.0000e+00\n",
            "Epoch 96/100\n",
            "10/10 [==============================] - 0s 9ms/step - loss: 1.2240e-04 - accuracy: 0.0196 - val_loss: 5.9417e-05 - val_accuracy: 0.0000e+00\n",
            "Epoch 97/100\n",
            "10/10 [==============================] - 0s 9ms/step - loss: 1.0087e-04 - accuracy: 0.0101 - val_loss: 7.6237e-05 - val_accuracy: 0.0000e+00\n",
            "Epoch 98/100\n",
            "10/10 [==============================] - 0s 9ms/step - loss: 1.3164e-04 - accuracy: 0.0169 - val_loss: 5.1934e-05 - val_accuracy: 0.0000e+00\n",
            "Epoch 99/100\n",
            "10/10 [==============================] - 0s 10ms/step - loss: 9.4964e-05 - accuracy: 0.0266 - val_loss: 4.9637e-05 - val_accuracy: 0.0000e+00\n",
            "Epoch 100/100\n",
            "10/10 [==============================] - 0s 9ms/step - loss: 1.2975e-04 - accuracy: 0.0367 - val_loss: 4.7248e-05 - val_accuracy: 0.0000e+00\n"
          ],
          "name": "stdout"
        }
      ]
    },
    {
      "cell_type": "markdown",
      "metadata": {
        "id": "Xjy-G5IaPjSj"
      },
      "source": [
        "### 4) Model Predict"
      ]
    },
    {
      "cell_type": "code",
      "metadata": {
        "id": "0TrXetcrPgbM"
      },
      "source": [
        "y_hat = model_4.predict(X_test)"
      ],
      "execution_count": 27,
      "outputs": []
    },
    {
      "cell_type": "markdown",
      "metadata": {
        "id": "LnhtoHiOPnh-"
      },
      "source": [
        "### 5) 학습 결과 시각화"
      ]
    },
    {
      "cell_type": "code",
      "metadata": {
        "colab": {
          "base_uri": "https://localhost:8080/",
          "height": 269
        },
        "id": "vcUe4u3qPls0",
        "outputId": "144ebf88-3406-4aa2-e6ad-ad42c5062d5f"
      },
      "source": [
        "plt.plot(Hist_4.history['loss']) \n",
        "plt.show()"
      ],
      "execution_count": 28,
      "outputs": [
        {
          "output_type": "display_data",
          "data": {
            "image/png": "[encoded data removed]",
            "text/plain": [
              "<Figure size 432x288 with 1 Axes>"
            ]
          },
          "metadata": {
            "tags": [],
            "needs_background": "light"
          }
        }
      ]
    },
    {
      "cell_type": "code",
      "metadata": {
        "colab": {
          "base_uri": "https://localhost:8080/",
          "height": 265
        },
        "id": "XDE69ae1PsPQ",
        "outputId": "22fc2053-f863-470d-a1eb-24ade6c0b45b"
      },
      "source": [
        "plt.scatter(range(20), y_hat, c = 'r') \n",
        "plt.scatter(range(20), y_test, c = 'g') \n",
        "plt.show()\n",
        "#학습이 잘 진행됨"
      ],
      "execution_count": 29,
      "outputs": [
        {
          "output_type": "display_data",
          "data": {
            "image/png": "[encoded data removed]",
            "text/plain": [
              "<Figure size 432x288 with 1 Axes>"
            ]
          },
          "metadata": {
            "tags": [],
            "needs_background": "light"
          }
        }
      ]
    },
    {
      "cell_type": "markdown",
      "metadata": {
        "id": "tKyMDetLP3dN"
      },
      "source": [
        "## 4.'return_sequences' Output_Options\n",
        "* 'input_length'에 대한 Sequance 전체를 출력할지 설정 \n",
        "  * 'False' vs. 'True'"
      ]
    },
    {
      "cell_type": "markdown",
      "metadata": {
        "id": "p7zcQ_mPP-wW"
      },
      "source": [
        "### 1) 실습데이터 생성"
      ]
    },
    {
      "cell_type": "code",
      "metadata": {
        "id": "shofBksNPvr7"
      },
      "source": [
        "X = [[[i + j] for i in range(5)] for j in range(100)] \n",
        "y = [i + 5 for i in range(100)]"
      ],
      "execution_count": 30,
      "outputs": []
    },
    {
      "cell_type": "code",
      "metadata": {
        "id": "HPQnD08sQB2k"
      },
      "source": [
        "X = np.array(X, dtype = float) \n",
        "y = np.array(y, dtype = float)"
      ],
      "execution_count": 31,
      "outputs": []
    },
    {
      "cell_type": "code",
      "metadata": {
        "colab": {
          "base_uri": "https://localhost:8080/"
        },
        "id": "yCyUaOJ-QDw3",
        "outputId": "a0c19ed7-bfec-4138-959a-d0f8fc473d9b"
      },
      "source": [
        "X_train, X_test, y_train, y_test = train_test_split(X, y,\n",
        "                                                    test_size = 0.2, \n",
        "                                                    random_state = 2045)\n",
        "\n",
        "X_train.shape, y_train.shape, X_test.shape, y_test.shape"
      ],
      "execution_count": 32,
      "outputs": [
        {
          "output_type": "execute_result",
          "data": {
            "text/plain": [
              "((80, 5, 1), (80,), (20, 5, 1), (20,))"
            ]
          },
          "metadata": {
            "tags": []
          },
          "execution_count": 32
        }
      ]
    },
    {
      "cell_type": "markdown",
      "metadata": {
        "id": "4rV0CWmwQJad"
      },
      "source": [
        "### 2) 테스트용 Input Data"
      ]
    },
    {
      "cell_type": "code",
      "metadata": {
        "colab": {
          "base_uri": "https://localhost:8080/"
        },
        "id": "Jfon2rl6QHw1",
        "outputId": "cbb663be-84ee-4913-e996-aea66886e582"
      },
      "source": [
        "X_test[0].reshape(1, 5, 1)"
      ],
      "execution_count": 33,
      "outputs": [
        {
          "output_type": "execute_result",
          "data": {
            "text/plain": [
              "array([[[29.],\n",
              "        [30.],\n",
              "        [31.],\n",
              "        [32.],\n",
              "        [33.]]])"
            ]
          },
          "metadata": {
            "tags": []
          },
          "execution_count": 33
        }
      ]
    },
    {
      "cell_type": "markdown",
      "metadata": {
        "id": "-UdT0BUuQQS7"
      },
      "source": [
        "### 3) False_Option\n",
        "* 마지막 Output만 출력 \n",
        "  * Unit -> 1"
      ]
    },
    {
      "cell_type": "code",
      "metadata": {
        "id": "xBftqQ9AQLzQ"
      },
      "source": [
        "Model_False = models.Sequential() \n",
        "Model_False.add(layers.SimpleRNN(1,\n",
        "                                 input_shape = (5, 1), \n",
        "                                 return_sequences = False))\n",
        "\n",
        "Model_False.compile(loss = 'mse', \n",
        "                    optimizer = 'adam', \n",
        "                    metrics = ['accuracy'])"
      ],
      "execution_count": 34,
      "outputs": []
    },
    {
      "cell_type": "markdown",
      "metadata": {
        "id": "xq5bClU_Qehu"
      },
      "source": [
        "* 마지막 Output만 출력 \n",
        "  * Unit -> 3"
      ]
    },
    {
      "cell_type": "code",
      "metadata": {
        "id": "fQTAdAEPQc-2"
      },
      "source": [
        "Model_False = models.Sequential() \n",
        "Model_False.add(layers.SimpleRNN(3,\n",
        "                                 input_shape = (5, 1), \n",
        "                                 return_sequences = False))\n",
        "\n",
        "Model_False.compile(loss = 'mse', \n",
        "                    optimizer = 'adam', \n",
        "                    metrics = ['accuracy'])"
      ],
      "execution_count": 35,
      "outputs": []
    },
    {
      "cell_type": "code",
      "metadata": {
        "colab": {
          "base_uri": "https://localhost:8080/"
        },
        "id": "tfSMu-0RQn8C",
        "outputId": "c9c89bff-4d5c-437e-a0bd-ee3a8fd3aeb8"
      },
      "source": [
        "Model_False.predict(X_test[0].reshape(1, 5, 1))"
      ],
      "execution_count": 36,
      "outputs": [
        {
          "output_type": "execute_result",
          "data": {
            "text/plain": [
              "array([[-0.99397326,  0.9999988 , -0.01907868]], dtype=float32)"
            ]
          },
          "metadata": {
            "tags": []
          },
          "execution_count": 36
        }
      ]
    },
    {
      "cell_type": "markdown",
      "metadata": {
        "id": "ziRqJHEwQtzR"
      },
      "source": [
        "### 4) True_Option\n",
        "* 매 순환마다 Output 출력 \n",
        "  * Unit -> 1\n",
        "  * input_length -> 5"
      ]
    },
    {
      "cell_type": "code",
      "metadata": {
        "id": "g655Dc_rQpoF"
      },
      "source": [
        "Model_True = models.Sequential() \n",
        "Model_True.add(layers.SimpleRNN(1,\n",
        "                                input_shape = (5, 1), \n",
        "                                return_sequences = True))\n",
        "\n",
        "Model_True.compile(loss = 'mse', \n",
        "                   optimizer = 'adam',\n",
        "                   metrics = ['accuracy'])"
      ],
      "execution_count": 38,
      "outputs": []
    },
    {
      "cell_type": "code",
      "metadata": {
        "colab": {
          "base_uri": "https://localhost:8080/"
        },
        "id": "cLWTVYHLQ8ir",
        "outputId": "a67f58bf-4a60-42af-a482-59920c589b8c"
      },
      "source": [
        "Model_True.predict(X_test[0].reshape(1, 5, 1))"
      ],
      "execution_count": 39,
      "outputs": [
        {
          "output_type": "stream",
          "text": [
            "WARNING:tensorflow:5 out of the last 5 calls to <function Model.make_predict_function.<locals>.predict_function at 0x7fc193c3c3b0> triggered tf.function retracing. Tracing is expensive and the excessive number of tracings could be due to (1) creating @tf.function repeatedly in a loop, (2) passing tensors with different shapes, (3) passing Python objects instead of tensors. For (1), please define your @tf.function outside of the loop. For (2), @tf.function has experimental_relax_shapes=True option that relaxes argument shapes that can avoid unnecessary retracing. For (3), please refer to https://www.tensorflow.org/guide/function#controlling_retracing and https://www.tensorflow.org/api_docs/python/tf/function for  more details.\n"
          ],
          "name": "stdout"
        },
        {
          "output_type": "execute_result",
          "data": {
            "text/plain": [
              "array([[[-0.9999945 ],\n",
              "        [-0.99999964],\n",
              "        [-0.9999998 ],\n",
              "        [-1.        ],\n",
              "        [-1.        ]]], dtype=float32)"
            ]
          },
          "metadata": {
            "tags": []
          },
          "execution_count": 39
        }
      ]
    },
    {
      "cell_type": "markdown",
      "metadata": {
        "id": "15tdaasbRDDP"
      },
      "source": [
        "* 매 순환마다 Output만 출력 \n",
        "  * Unit -> 3\n",
        "  * input_length -> 5"
      ]
    },
    {
      "cell_type": "code",
      "metadata": {
        "id": "7jCm2qacRAZ2"
      },
      "source": [
        "Model_True = models.Sequential() \n",
        "Model_True.add(layers.SimpleRNN(3,\n",
        "                                input_shape = (5, 1), \n",
        "                                return_sequences = True))\n",
        "\n",
        "Model_True.compile(loss = 'mse', \n",
        "                   optimizer = 'adam', \n",
        "                   metrics = ['accuracy'])"
      ],
      "execution_count": 40,
      "outputs": []
    },
    {
      "cell_type": "code",
      "metadata": {
        "colab": {
          "base_uri": "https://localhost:8080/"
        },
        "id": "c4hzR2W0RMbZ",
        "outputId": "d867c950-6171-41df-8508-1ea454fdeac2"
      },
      "source": [
        "Model_True.predict(X_test[0].reshape(1, 5, 1))"
      ],
      "execution_count": 41,
      "outputs": [
        {
          "output_type": "stream",
          "text": [
            "WARNING:tensorflow:6 out of the last 6 calls to <function Model.make_predict_function.<locals>.predict_function at 0x7fc193ed58c0> triggered tf.function retracing. Tracing is expensive and the excessive number of tracings could be due to (1) creating @tf.function repeatedly in a loop, (2) passing tensors with different shapes, (3) passing Python objects instead of tensors. For (1), please define your @tf.function outside of the loop. For (2), @tf.function has experimental_relax_shapes=True option that relaxes argument shapes that can avoid unnecessary retracing. For (3), please refer to https://www.tensorflow.org/guide/function#controlling_retracing and https://www.tensorflow.org/api_docs/python/tf/function for  more details.\n"
          ],
          "name": "stdout"
        },
        {
          "output_type": "execute_result",
          "data": {
            "text/plain": [
              "array([[[ 1.        ,  0.98958385, -1.        ],\n",
              "        [ 1.        ,  0.9993746 , -1.        ],\n",
              "        [ 1.        ,  0.99948806, -1.        ],\n",
              "        [ 1.        ,  0.9995728 , -1.        ],\n",
              "        [ 1.        ,  0.9996436 , -1.        ]]], dtype=float32)"
            ]
          },
          "metadata": {
            "tags": []
          },
          "execution_count": 41
        }
      ]
    },
    {
      "cell_type": "markdown",
      "metadata": {
        "id": "2QUBvgi_RRi0"
      },
      "source": [
        "본 내용은 2021/03/25(목)에 학습한 내용입니다."
      ]
    }
  ]
}
{
  "nbformat": 4,
  "nbformat_minor": 0,
  "metadata": {
    "colab": {
      "name": "SimpleRNN_Test_Code_CPU.ipynb",
      "provenance": [],
      "collapsed_sections": [],
      "authorship_tag": "ABX9TyMWAqt5B9l2XLw+GOzq0XLx",
      "include_colab_link": true
    },
    "kernelspec": {
      "name": "python3",
      "display_name": "Python 3"
    },
    "language_info": {
      "name": "python"
    }
  },
  "cells": [
    {
      "cell_type": "markdown",
      "metadata": {
        "id": "view-in-github",
        "colab_type": "text"
      },
      "source": [
        "<a href=\"https://colab.research.google.com/github/jungmin0710/K-digital-PythonDeepLearning/blob/main/SimpleRNN_Test_Code_CPU.ipynb\" target=\"_parent\"><img src=\"https://colab.research.google.com/assets/colab-badge.svg\" alt=\"Open In Colab\"/></a>"
      ]
    },
    {
      "cell_type": "markdown",
      "metadata": {
        "id": "KUl_XRE5KD57"
      },
      "source": [
        "## SimpleRNN Test Code"
      ]
    },
    {
      "cell_type": "code",
      "metadata": {
        "id": "gmXpbAQKKAu7"
      },
      "source": [
        "import warnings\n",
        "warnings.filterwarnings('ignore')"
      ],
      "execution_count": 40,
      "outputs": []
    },
    {
      "cell_type": "markdown",
      "metadata": {
        "id": "kSYB1OO0KLvQ"
      },
      "source": [
        "## 0.Import Packages"
      ]
    },
    {
      "cell_type": "code",
      "metadata": {
        "id": "YF-BG4NqKK9F"
      },
      "source": [
        "import numpy as np\n",
        "import matplotlib.pyplot as plt\n"
      ],
      "execution_count": 2,
      "outputs": []
    },
    {
      "cell_type": "markdown",
      "metadata": {
        "id": "DHWBpMKxKRYy"
      },
      "source": [
        "## 1.SimpleRNN - without Normalization"
      ]
    },
    {
      "cell_type": "markdown",
      "metadata": {
        "id": "jgIAm4c5KUU5"
      },
      "source": [
        "### 1)Sample Data\n",
        "* Inputs 데이터 생성(100, 5, 1)"
      ]
    },
    {
      "cell_type": "code",
      "metadata": {
        "colab": {
          "base_uri": "https://localhost:8080/"
        },
        "id": "-haBVnzqKQ5W",
        "outputId": "d6e103fe-09d2-42da-ac6a-aabb6fdf3369"
      },
      "source": [
        "X = [[[i + j] for i in range(5)] for j in range(100)]\n",
        "\n",
        "X[:3], X[-3:]"
      ],
      "execution_count": 3,
      "outputs": [
        {
          "output_type": "execute_result",
          "data": {
            "text/plain": [
              "([[[0], [1], [2], [3], [4]],\n",
              "  [[1], [2], [3], [4], [5]],\n",
              "  [[2], [3], [4], [5], [6]]],\n",
              " [[[97], [98], [99], [100], [101]],\n",
              "  [[98], [99], [100], [101], [102]],\n",
              "  [[99], [100], [101], [102], [103]]])"
            ]
          },
          "metadata": {
            "tags": []
          },
          "execution_count": 3
        }
      ]
    },
    {
      "cell_type": "markdown",
      "metadata": {
        "id": "nb9wO6xoKllO"
      },
      "source": [
        "* Outputs 데이터 생성(100, 1)"
      ]
    },
    {
      "cell_type": "code",
      "metadata": {
        "colab": {
          "base_uri": "https://localhost:8080/"
        },
        "id": "Z8EVrSvkKhui",
        "outputId": "0eafc80a-2dd6-4388-d26c-dfa2554604c7"
      },
      "source": [
        "y = [(i + 5) for i in range(100)]\n",
        "\n",
        "y[:3], y[-3:]"
      ],
      "execution_count": 4,
      "outputs": [
        {
          "output_type": "execute_result",
          "data": {
            "text/plain": [
              "([5, 6, 7], [102, 103, 104])"
            ]
          },
          "metadata": {
            "tags": []
          },
          "execution_count": 4
        }
      ]
    },
    {
      "cell_type": "markdown",
      "metadata": {
        "id": "idX5RtbQLGWJ"
      },
      "source": [
        "### 2)numpy_Array Casting"
      ]
    },
    {
      "cell_type": "code",
      "metadata": {
        "colab": {
          "base_uri": "https://localhost:8080/"
        },
        "id": "I4PFxDsBLBT5",
        "outputId": "f058b808-f065-4cbd-e629-e54d99b25831"
      },
      "source": [
        "X = np.array(X, dtype = float)\n",
        "y = np.array(y, dtype = float)\n",
        "\n",
        "X.shape, y.shape"
      ],
      "execution_count": 5,
      "outputs": [
        {
          "output_type": "execute_result",
          "data": {
            "text/plain": [
              "((100, 5, 1), (100,))"
            ]
          },
          "metadata": {
            "tags": []
          },
          "execution_count": 5
        }
      ]
    },
    {
      "cell_type": "markdown",
      "metadata": {
        "id": "WSLGvtMULP9H"
      },
      "source": [
        "### 3) Train vs Test Split\n",
        "* 80:20"
      ]
    },
    {
      "cell_type": "code",
      "metadata": {
        "colab": {
          "base_uri": "https://localhost:8080/"
        },
        "id": "cEYh9aUTLPQZ",
        "outputId": "c6d7da5e-b1b0-4a0e-b0c7-0a971e9a470d"
      },
      "source": [
        "from sklearn.model_selection import train_test_split\n",
        "\n",
        "X_train, X_test, y_train, y_test = train_test_split(X, y,\n",
        "                                                    test_size = 0.2,\n",
        "                                                    random_state = 2045)\n",
        "\n",
        "X_train.shape, y_train.shape, X_test.shape, y_test.shape"
      ],
      "execution_count": 6,
      "outputs": [
        {
          "output_type": "execute_result",
          "data": {
            "text/plain": [
              "((80, 5, 1), (80,), (20, 5, 1), (20,))"
            ]
          },
          "metadata": {
            "tags": []
          },
          "execution_count": 6
        }
      ]
    },
    {
      "cell_type": "markdown",
      "metadata": {
        "id": "evwht7bDLj8e"
      },
      "source": [
        "### 4) Keras SimpleRNN Modeling\n"
      ]
    },
    {
      "cell_type": "markdown",
      "metadata": {
        "id": "0PcvJAGALqFh"
      },
      "source": [
        "#### (1) Model Define & Summary\n",
        "* Unit(output_dim) : 3\n",
        "* input_shape(input_length, imput_dim) : (5,1)\n",
        "* return_sequences = False : 최종 Unit만 출력\n",
        "* layers.Dense(1) : y_hat"
      ]
    },
    {
      "cell_type": "code",
      "metadata": {
        "colab": {
          "base_uri": "https://localhost:8080/"
        },
        "id": "i6K0LC2MLi4N",
        "outputId": "d041c38b-d0da-4ae1-99cb-0f66dde659c4"
      },
      "source": [
        "from keras import models, layers\n",
        "\n",
        "model_1 = models.Sequential(name = 'SimpleRNN_1')\n",
        "model_1.add(layers.SimpleRNN(3,\n",
        "                             input_shape = (5,1),\n",
        "                             return_sequences = False))\n",
        "\n",
        "model_1.add(layers.Dense(1))\n",
        "\n",
        "model_1.summary()"
      ],
      "execution_count": 7,
      "outputs": [
        {
          "output_type": "stream",
          "text": [
            "Model: \"SimpleRNN_1\"\n",
            "_________________________________________________________________\n",
            "Layer (type)                 Output Shape              Param #   \n",
            "=================================================================\n",
            "simple_rnn (SimpleRNN)       (None, 3)                 15        \n",
            "_________________________________________________________________\n",
            "dense (Dense)                (None, 1)                 4         \n",
            "=================================================================\n",
            "Total params: 19\n",
            "Trainable params: 19\n",
            "Non-trainable params: 0\n",
            "_________________________________________________________________\n"
          ],
          "name": "stdout"
        }
      ]
    },
    {
      "cell_type": "markdown",
      "metadata": {
        "id": "aEN1-6AeMfd-"
      },
      "source": [
        "#### (2) Model Compile"
      ]
    },
    {
      "cell_type": "code",
      "metadata": {
        "id": "2tHhF5d0MPnI"
      },
      "source": [
        "model_1.compile(loss = 'mse',\n",
        "                optimizer = 'adam',\n",
        "                metrics = ['accuracy'])"
      ],
      "execution_count": 8,
      "outputs": []
    },
    {
      "cell_type": "markdown",
      "metadata": {
        "id": "RCKQX9-9MpDi"
      },
      "source": [
        "#### (3) Model Fit"
      ]
    },
    {
      "cell_type": "code",
      "metadata": {
        "colab": {
          "base_uri": "https://localhost:8080/"
        },
        "id": "1E-ONs9TMndy",
        "outputId": "f126a3e9-98fe-4418-b518-66f00f452f3a"
      },
      "source": [
        "Hist_1 = model_1.fit(X_train, y_train,\n",
        "                     epochs = 100,\n",
        "                     batch_size = 8,\n",
        "                     validation_data = (X_test, y_test))"
      ],
      "execution_count": 9,
      "outputs": [
        {
          "output_type": "stream",
          "text": [
            "Epoch 1/100\n",
            "10/10 [==============================] - 2s 72ms/step - loss: 3977.2178 - accuracy: 0.0000e+00 - val_loss: 3680.4927 - val_accuracy: 0.0000e+00\n",
            "Epoch 2/100\n",
            "10/10 [==============================] - 0s 8ms/step - loss: 3724.9686 - accuracy: 0.0000e+00 - val_loss: 3676.0352 - val_accuracy: 0.0000e+00\n",
            "Epoch 3/100\n",
            "10/10 [==============================] - 0s 8ms/step - loss: 3318.8125 - accuracy: 0.0000e+00 - val_loss: 3671.6765 - val_accuracy: 0.0000e+00\n",
            "Epoch 4/100\n",
            "10/10 [==============================] - 0s 10ms/step - loss: 3654.5297 - accuracy: 0.0000e+00 - val_loss: 3667.2710 - val_accuracy: 0.0000e+00\n",
            "Epoch 5/100\n",
            "10/10 [==============================] - 0s 9ms/step - loss: 3393.8245 - accuracy: 0.0000e+00 - val_loss: 3662.9578 - val_accuracy: 0.0000e+00\n",
            "Epoch 6/100\n",
            "10/10 [==============================] - 0s 8ms/step - loss: 3441.0965 - accuracy: 0.0000e+00 - val_loss: 3658.6316 - val_accuracy: 0.0000e+00\n",
            "Epoch 7/100\n",
            "10/10 [==============================] - 0s 8ms/step - loss: 4047.9595 - accuracy: 0.0000e+00 - val_loss: 3654.2175 - val_accuracy: 0.0000e+00\n",
            "Epoch 8/100\n",
            "10/10 [==============================] - 0s 8ms/step - loss: 3609.2123 - accuracy: 0.0000e+00 - val_loss: 3649.9617 - val_accuracy: 0.0000e+00\n",
            "Epoch 9/100\n",
            "10/10 [==============================] - 0s 8ms/step - loss: 3612.0769 - accuracy: 0.0000e+00 - val_loss: 3645.6890 - val_accuracy: 0.0000e+00\n",
            "Epoch 10/100\n",
            "10/10 [==============================] - 0s 8ms/step - loss: 3779.7931 - accuracy: 0.0000e+00 - val_loss: 3641.3711 - val_accuracy: 0.0000e+00\n",
            "Epoch 11/100\n",
            "10/10 [==============================] - 0s 8ms/step - loss: 3901.7581 - accuracy: 0.0000e+00 - val_loss: 3637.1245 - val_accuracy: 0.0000e+00\n",
            "Epoch 12/100\n",
            "10/10 [==============================] - 0s 8ms/step - loss: 3891.7028 - accuracy: 0.0000e+00 - val_loss: 3632.8691 - val_accuracy: 0.0000e+00\n",
            "Epoch 13/100\n",
            "10/10 [==============================] - 0s 7ms/step - loss: 3963.8566 - accuracy: 0.0000e+00 - val_loss: 3628.5793 - val_accuracy: 0.0000e+00\n",
            "Epoch 14/100\n",
            "10/10 [==============================] - 0s 8ms/step - loss: 3583.1861 - accuracy: 0.0000e+00 - val_loss: 3624.4478 - val_accuracy: 0.0000e+00\n",
            "Epoch 15/100\n",
            "10/10 [==============================] - 0s 7ms/step - loss: 3671.4865 - accuracy: 0.0000e+00 - val_loss: 3620.2085 - val_accuracy: 0.0000e+00\n",
            "Epoch 16/100\n",
            "10/10 [==============================] - 0s 8ms/step - loss: 3756.4436 - accuracy: 0.0000e+00 - val_loss: 3615.9207 - val_accuracy: 0.0000e+00\n",
            "Epoch 17/100\n",
            "10/10 [==============================] - 0s 7ms/step - loss: 3532.6954 - accuracy: 0.0000e+00 - val_loss: 3611.7825 - val_accuracy: 0.0000e+00\n",
            "Epoch 18/100\n",
            "10/10 [==============================] - 0s 8ms/step - loss: 3579.6969 - accuracy: 0.0000e+00 - val_loss: 3607.5852 - val_accuracy: 0.0000e+00\n",
            "Epoch 19/100\n",
            "10/10 [==============================] - 0s 9ms/step - loss: 3675.6594 - accuracy: 0.0000e+00 - val_loss: 3603.3647 - val_accuracy: 0.0000e+00\n",
            "Epoch 20/100\n",
            "10/10 [==============================] - 0s 8ms/step - loss: 3709.0618 - accuracy: 0.0000e+00 - val_loss: 3599.1472 - val_accuracy: 0.0000e+00\n",
            "Epoch 21/100\n",
            "10/10 [==============================] - 0s 8ms/step - loss: 3875.9662 - accuracy: 0.0000e+00 - val_loss: 3594.8938 - val_accuracy: 0.0000e+00\n",
            "Epoch 22/100\n",
            "10/10 [==============================] - 0s 8ms/step - loss: 3869.3737 - accuracy: 0.0000e+00 - val_loss: 3590.7261 - val_accuracy: 0.0000e+00\n",
            "Epoch 23/100\n",
            "10/10 [==============================] - 0s 8ms/step - loss: 4272.5685 - accuracy: 0.0000e+00 - val_loss: 3586.4695 - val_accuracy: 0.0000e+00\n",
            "Epoch 24/100\n",
            "10/10 [==============================] - 0s 7ms/step - loss: 3441.2254 - accuracy: 0.0000e+00 - val_loss: 3582.4043 - val_accuracy: 0.0000e+00\n",
            "Epoch 25/100\n",
            "10/10 [==============================] - 0s 8ms/step - loss: 3738.8454 - accuracy: 0.0000e+00 - val_loss: 3578.2319 - val_accuracy: 0.0000e+00\n",
            "Epoch 26/100\n",
            "10/10 [==============================] - 0s 8ms/step - loss: 3331.0783 - accuracy: 0.0000e+00 - val_loss: 3574.1021 - val_accuracy: 0.0000e+00\n",
            "Epoch 27/100\n",
            "10/10 [==============================] - 0s 8ms/step - loss: 3632.0948 - accuracy: 0.0000e+00 - val_loss: 3569.8875 - val_accuracy: 0.0000e+00\n",
            "Epoch 28/100\n",
            "10/10 [==============================] - 0s 7ms/step - loss: 3524.5837 - accuracy: 0.0000e+00 - val_loss: 3565.7649 - val_accuracy: 0.0000e+00\n",
            "Epoch 29/100\n",
            "10/10 [==============================] - 0s 8ms/step - loss: 3337.5600 - accuracy: 0.0000e+00 - val_loss: 3561.6465 - val_accuracy: 0.0000e+00\n",
            "Epoch 30/100\n",
            "10/10 [==============================] - 0s 8ms/step - loss: 3225.7498 - accuracy: 0.0000e+00 - val_loss: 3557.5039 - val_accuracy: 0.0000e+00\n",
            "Epoch 31/100\n",
            "10/10 [==============================] - 0s 10ms/step - loss: 3659.0521 - accuracy: 0.0000e+00 - val_loss: 3553.3047 - val_accuracy: 0.0000e+00\n",
            "Epoch 32/100\n",
            "10/10 [==============================] - 0s 8ms/step - loss: 3610.9937 - accuracy: 0.0000e+00 - val_loss: 3549.1567 - val_accuracy: 0.0000e+00\n",
            "Epoch 33/100\n",
            "10/10 [==============================] - 0s 9ms/step - loss: 3979.4868 - accuracy: 0.0000e+00 - val_loss: 3545.0032 - val_accuracy: 0.0000e+00\n",
            "Epoch 34/100\n",
            "10/10 [==============================] - 0s 8ms/step - loss: 3377.6519 - accuracy: 0.0000e+00 - val_loss: 3540.8960 - val_accuracy: 0.0000e+00\n",
            "Epoch 35/100\n",
            "10/10 [==============================] - 0s 8ms/step - loss: 3736.3517 - accuracy: 0.0000e+00 - val_loss: 3536.7688 - val_accuracy: 0.0000e+00\n",
            "Epoch 36/100\n",
            "10/10 [==============================] - 0s 7ms/step - loss: 3945.0749 - accuracy: 0.0000e+00 - val_loss: 3532.5933 - val_accuracy: 0.0000e+00\n",
            "Epoch 37/100\n",
            "10/10 [==============================] - 0s 8ms/step - loss: 3221.4209 - accuracy: 0.0000e+00 - val_loss: 3528.5476 - val_accuracy: 0.0000e+00\n",
            "Epoch 38/100\n",
            "10/10 [==============================] - 0s 8ms/step - loss: 3377.3788 - accuracy: 0.0000e+00 - val_loss: 3524.4739 - val_accuracy: 0.0000e+00\n",
            "Epoch 39/100\n",
            "10/10 [==============================] - 0s 8ms/step - loss: 3665.8601 - accuracy: 0.0000e+00 - val_loss: 3520.3386 - val_accuracy: 0.0000e+00\n",
            "Epoch 40/100\n",
            "10/10 [==============================] - 0s 9ms/step - loss: 3110.5667 - accuracy: 0.0000e+00 - val_loss: 3516.3091 - val_accuracy: 0.0000e+00\n",
            "Epoch 41/100\n",
            "10/10 [==============================] - 0s 10ms/step - loss: 3655.7685 - accuracy: 0.0000e+00 - val_loss: 3512.1282 - val_accuracy: 0.0000e+00\n",
            "Epoch 42/100\n",
            "10/10 [==============================] - 0s 8ms/step - loss: 3295.2648 - accuracy: 0.0000e+00 - val_loss: 3508.0234 - val_accuracy: 0.0000e+00\n",
            "Epoch 43/100\n",
            "10/10 [==============================] - 0s 9ms/step - loss: 3476.8778 - accuracy: 0.0000e+00 - val_loss: 3503.9226 - val_accuracy: 0.0000e+00\n",
            "Epoch 44/100\n",
            "10/10 [==============================] - 0s 8ms/step - loss: 3232.8458 - accuracy: 0.0000e+00 - val_loss: 3499.8484 - val_accuracy: 0.0000e+00\n",
            "Epoch 45/100\n",
            "10/10 [==============================] - 0s 9ms/step - loss: 3372.8973 - accuracy: 0.0000e+00 - val_loss: 3495.7769 - val_accuracy: 0.0000e+00\n",
            "Epoch 46/100\n",
            "10/10 [==============================] - 0s 8ms/step - loss: 3492.9876 - accuracy: 0.0000e+00 - val_loss: 3491.6765 - val_accuracy: 0.0000e+00\n",
            "Epoch 47/100\n",
            "10/10 [==============================] - 0s 8ms/step - loss: 3987.7164 - accuracy: 0.0000e+00 - val_loss: 3487.5249 - val_accuracy: 0.0000e+00\n",
            "Epoch 48/100\n",
            "10/10 [==============================] - 0s 8ms/step - loss: 3648.3429 - accuracy: 0.0000e+00 - val_loss: 3483.4839 - val_accuracy: 0.0000e+00\n",
            "Epoch 49/100\n",
            "10/10 [==============================] - 0s 8ms/step - loss: 3940.6070 - accuracy: 0.0000e+00 - val_loss: 3479.4011 - val_accuracy: 0.0000e+00\n",
            "Epoch 50/100\n",
            "10/10 [==============================] - 0s 8ms/step - loss: 3409.7636 - accuracy: 0.0000e+00 - val_loss: 3475.3931 - val_accuracy: 0.0000e+00\n",
            "Epoch 51/100\n",
            "10/10 [==============================] - 0s 7ms/step - loss: 4017.1415 - accuracy: 0.0000e+00 - val_loss: 3471.2883 - val_accuracy: 0.0000e+00\n",
            "Epoch 52/100\n",
            "10/10 [==============================] - 0s 8ms/step - loss: 3782.5903 - accuracy: 0.0000e+00 - val_loss: 3467.2605 - val_accuracy: 0.0000e+00\n",
            "Epoch 53/100\n",
            "10/10 [==============================] - 0s 7ms/step - loss: 2831.5297 - accuracy: 0.0000e+00 - val_loss: 3463.3716 - val_accuracy: 0.0000e+00\n",
            "Epoch 54/100\n",
            "10/10 [==============================] - 0s 8ms/step - loss: 3394.7450 - accuracy: 0.0000e+00 - val_loss: 3459.2637 - val_accuracy: 0.0000e+00\n",
            "Epoch 55/100\n",
            "10/10 [==============================] - 0s 10ms/step - loss: 2987.1047 - accuracy: 0.0000e+00 - val_loss: 3455.3164 - val_accuracy: 0.0000e+00\n",
            "Epoch 56/100\n",
            "10/10 [==============================] - 0s 10ms/step - loss: 3279.5795 - accuracy: 0.0000e+00 - val_loss: 3451.2183 - val_accuracy: 0.0000e+00\n",
            "Epoch 57/100\n",
            "10/10 [==============================] - 0s 8ms/step - loss: 3204.4651 - accuracy: 0.0000e+00 - val_loss: 3447.1626 - val_accuracy: 0.0000e+00\n",
            "Epoch 58/100\n",
            "10/10 [==============================] - 0s 8ms/step - loss: 3431.5229 - accuracy: 0.0000e+00 - val_loss: 3443.1296 - val_accuracy: 0.0000e+00\n",
            "Epoch 59/100\n",
            "10/10 [==============================] - 0s 8ms/step - loss: 3636.9699 - accuracy: 0.0000e+00 - val_loss: 3439.0867 - val_accuracy: 0.0000e+00\n",
            "Epoch 60/100\n",
            "10/10 [==============================] - 0s 8ms/step - loss: 3142.1884 - accuracy: 0.0000e+00 - val_loss: 3435.1147 - val_accuracy: 0.0000e+00\n",
            "Epoch 61/100\n",
            "10/10 [==============================] - 0s 8ms/step - loss: 3560.1562 - accuracy: 0.0000e+00 - val_loss: 3431.0684 - val_accuracy: 0.0000e+00\n",
            "Epoch 62/100\n",
            "10/10 [==============================] - 0s 8ms/step - loss: 3295.7352 - accuracy: 0.0000e+00 - val_loss: 3427.0923 - val_accuracy: 0.0000e+00\n",
            "Epoch 63/100\n",
            "10/10 [==============================] - 0s 8ms/step - loss: 3335.4837 - accuracy: 0.0000e+00 - val_loss: 3423.1050 - val_accuracy: 0.0000e+00\n",
            "Epoch 64/100\n",
            "10/10 [==============================] - 0s 8ms/step - loss: 3360.9033 - accuracy: 0.0000e+00 - val_loss: 3419.0923 - val_accuracy: 0.0000e+00\n",
            "Epoch 65/100\n",
            "10/10 [==============================] - 0s 7ms/step - loss: 3896.7756 - accuracy: 0.0000e+00 - val_loss: 3414.9883 - val_accuracy: 0.0000e+00\n",
            "Epoch 66/100\n",
            "10/10 [==============================] - 0s 7ms/step - loss: 3309.5619 - accuracy: 0.0000e+00 - val_loss: 3411.1125 - val_accuracy: 0.0000e+00\n",
            "Epoch 67/100\n",
            "10/10 [==============================] - 0s 8ms/step - loss: 3065.7330 - accuracy: 0.0000e+00 - val_loss: 3407.1606 - val_accuracy: 0.0000e+00\n",
            "Epoch 68/100\n",
            "10/10 [==============================] - 0s 10ms/step - loss: 3243.0722 - accuracy: 0.0000e+00 - val_loss: 3403.1743 - val_accuracy: 0.0000e+00\n",
            "Epoch 69/100\n",
            "10/10 [==============================] - 0s 8ms/step - loss: 3285.2526 - accuracy: 0.0000e+00 - val_loss: 3399.2000 - val_accuracy: 0.0000e+00\n",
            "Epoch 70/100\n",
            "10/10 [==============================] - 0s 9ms/step - loss: 3450.7104 - accuracy: 0.0000e+00 - val_loss: 3395.1855 - val_accuracy: 0.0000e+00\n",
            "Epoch 71/100\n",
            "10/10 [==============================] - 0s 7ms/step - loss: 3957.4827 - accuracy: 0.0000e+00 - val_loss: 3391.1011 - val_accuracy: 0.0000e+00\n",
            "Epoch 72/100\n",
            "10/10 [==============================] - 0s 8ms/step - loss: 3308.8464 - accuracy: 0.0000e+00 - val_loss: 3387.2173 - val_accuracy: 0.0000e+00\n",
            "Epoch 73/100\n",
            "10/10 [==============================] - 0s 9ms/step - loss: 3468.9488 - accuracy: 0.0000e+00 - val_loss: 3383.2961 - val_accuracy: 0.0000e+00\n",
            "Epoch 74/100\n",
            "10/10 [==============================] - 0s 9ms/step - loss: 3337.8541 - accuracy: 0.0000e+00 - val_loss: 3379.3516 - val_accuracy: 0.0000e+00\n",
            "Epoch 75/100\n",
            "10/10 [==============================] - 0s 8ms/step - loss: 3558.7954 - accuracy: 0.0000e+00 - val_loss: 3375.3667 - val_accuracy: 0.0000e+00\n",
            "Epoch 76/100\n",
            "10/10 [==============================] - 0s 8ms/step - loss: 3553.4714 - accuracy: 0.0000e+00 - val_loss: 3371.4194 - val_accuracy: 0.0000e+00\n",
            "Epoch 77/100\n",
            "10/10 [==============================] - 0s 9ms/step - loss: 3266.5109 - accuracy: 0.0000e+00 - val_loss: 3367.5298 - val_accuracy: 0.0000e+00\n",
            "Epoch 78/100\n",
            "10/10 [==============================] - 0s 8ms/step - loss: 3596.3063 - accuracy: 0.0000e+00 - val_loss: 3363.5027 - val_accuracy: 0.0000e+00\n",
            "Epoch 79/100\n",
            "10/10 [==============================] - 0s 9ms/step - loss: 3809.5615 - accuracy: 0.0000e+00 - val_loss: 3359.5364 - val_accuracy: 0.0000e+00\n",
            "Epoch 80/100\n",
            "10/10 [==============================] - 0s 10ms/step - loss: 3051.0936 - accuracy: 0.0000e+00 - val_loss: 3355.6934 - val_accuracy: 0.0000e+00\n",
            "Epoch 81/100\n",
            "10/10 [==============================] - 0s 8ms/step - loss: 3759.6676 - accuracy: 0.0000e+00 - val_loss: 3351.7163 - val_accuracy: 0.0000e+00\n",
            "Epoch 82/100\n",
            "10/10 [==============================] - 0s 9ms/step - loss: 3396.7429 - accuracy: 0.0000e+00 - val_loss: 3347.8406 - val_accuracy: 0.0000e+00\n",
            "Epoch 83/100\n",
            "10/10 [==============================] - 0s 8ms/step - loss: 2590.1259 - accuracy: 0.0000e+00 - val_loss: 3344.0195 - val_accuracy: 0.0000e+00\n",
            "Epoch 84/100\n",
            "10/10 [==============================] - 0s 9ms/step - loss: 2898.3819 - accuracy: 0.0000e+00 - val_loss: 3340.1074 - val_accuracy: 0.0000e+00\n",
            "Epoch 85/100\n",
            "10/10 [==============================] - 0s 7ms/step - loss: 3537.2255 - accuracy: 0.0000e+00 - val_loss: 3336.0938 - val_accuracy: 0.0000e+00\n",
            "Epoch 86/100\n",
            "10/10 [==============================] - 0s 8ms/step - loss: 3034.5478 - accuracy: 0.0000e+00 - val_loss: 3332.2070 - val_accuracy: 0.0000e+00\n",
            "Epoch 87/100\n",
            "10/10 [==============================] - 0s 8ms/step - loss: 3508.8251 - accuracy: 0.0000e+00 - val_loss: 3328.2632 - val_accuracy: 0.0000e+00\n",
            "Epoch 88/100\n",
            "10/10 [==============================] - 0s 9ms/step - loss: 2968.5106 - accuracy: 0.0000e+00 - val_loss: 3324.4304 - val_accuracy: 0.0000e+00\n",
            "Epoch 89/100\n",
            "10/10 [==============================] - 0s 8ms/step - loss: 3290.9104 - accuracy: 0.0000e+00 - val_loss: 3320.4937 - val_accuracy: 0.0000e+00\n",
            "Epoch 90/100\n",
            "10/10 [==============================] - 0s 8ms/step - loss: 3036.4175 - accuracy: 0.0000e+00 - val_loss: 3316.6196 - val_accuracy: 0.0000e+00\n",
            "Epoch 91/100\n",
            "10/10 [==============================] - 0s 8ms/step - loss: 3297.4407 - accuracy: 0.0000e+00 - val_loss: 3312.6938 - val_accuracy: 0.0000e+00\n",
            "Epoch 92/100\n",
            "10/10 [==============================] - 0s 9ms/step - loss: 3768.2843 - accuracy: 0.0000e+00 - val_loss: 3308.7524 - val_accuracy: 0.0000e+00\n",
            "Epoch 93/100\n",
            "10/10 [==============================] - 0s 8ms/step - loss: 3297.0309 - accuracy: 0.0000e+00 - val_loss: 3304.9070 - val_accuracy: 0.0000e+00\n",
            "Epoch 94/100\n",
            "10/10 [==============================] - 0s 8ms/step - loss: 3245.3820 - accuracy: 0.0000e+00 - val_loss: 3301.0444 - val_accuracy: 0.0000e+00\n",
            "Epoch 95/100\n",
            "10/10 [==============================] - 0s 8ms/step - loss: 3508.8173 - accuracy: 0.0000e+00 - val_loss: 3297.1304 - val_accuracy: 0.0000e+00\n",
            "Epoch 96/100\n",
            "10/10 [==============================] - 0s 8ms/step - loss: 3523.4506 - accuracy: 0.0000e+00 - val_loss: 3293.2192 - val_accuracy: 0.0000e+00\n",
            "Epoch 97/100\n",
            "10/10 [==============================] - 0s 8ms/step - loss: 3641.0981 - accuracy: 0.0000e+00 - val_loss: 3289.2935 - val_accuracy: 0.0000e+00\n",
            "Epoch 98/100\n",
            "10/10 [==============================] - 0s 8ms/step - loss: 3190.7766 - accuracy: 0.0000e+00 - val_loss: 3285.5181 - val_accuracy: 0.0000e+00\n",
            "Epoch 99/100\n",
            "10/10 [==============================] - 0s 8ms/step - loss: 3453.2182 - accuracy: 0.0000e+00 - val_loss: 3281.6509 - val_accuracy: 0.0000e+00\n",
            "Epoch 100/100\n",
            "10/10 [==============================] - 0s 9ms/step - loss: 3211.4787 - accuracy: 0.0000e+00 - val_loss: 3277.8237 - val_accuracy: 0.0000e+00\n"
          ],
          "name": "stdout"
        }
      ]
    },
    {
      "cell_type": "markdown",
      "metadata": {
        "id": "U7HXOAwBM3xy"
      },
      "source": [
        "#### (4) Model Predict"
      ]
    },
    {
      "cell_type": "code",
      "metadata": {
        "id": "PE3A7YfiM0K2"
      },
      "source": [
        "y_hat = model_1.predict(X_test)"
      ],
      "execution_count": 10,
      "outputs": []
    },
    {
      "cell_type": "markdown",
      "metadata": {
        "id": "JN2Vk4PNM80M"
      },
      "source": [
        "#### (5) Result Visualization\n",
        "* Loss"
      ]
    },
    {
      "cell_type": "code",
      "metadata": {
        "colab": {
          "base_uri": "https://localhost:8080/",
          "height": 265
        },
        "id": "5m5b9rudM79A",
        "outputId": "71223a8d-2d76-4a42-f4da-4c23a095321e"
      },
      "source": [
        "plt.plot(Hist_1.history['loss'])\n",
        "\n",
        "plt.show()"
      ],
      "execution_count": 11,
      "outputs": [
        {
          "output_type": "display_data",
          "data": {
            "image/png": "[encoded data removed]",
            "text/plain": [
              "<Figure size 432x288 with 1 Axes>"
            ]
          },
          "metadata": {
            "tags": [],
            "needs_background": "light"
          }
        }
      ]
    },
    {
      "cell_type": "markdown",
      "metadata": {
        "id": "OSqhLeGFNIEv"
      },
      "source": [
        "* 학습 되지 않음\n",
        "  * 녹색 -> 정답(y_test) \n",
        "  * 적색 -> 예측(y_hat)"
      ]
    },
    {
      "cell_type": "code",
      "metadata": {
        "colab": {
          "base_uri": "https://localhost:8080/",
          "height": 265
        },
        "id": "3ga_0XPPNFBK",
        "outputId": "f0967ff7-3662-4f30-9c47-596c258728b1"
      },
      "source": [
        "plt.scatter(range(20), y_hat, c = 'r') \n",
        "plt.scatter(range(20), y_test, c = 'g') \n",
        "plt.show()\n",
        "#정규화를 하지 않았을 때 학습이 전혀 되지 않았음"
      ],
      "execution_count": 12,
      "outputs": [
        {
          "output_type": "display_data",
          "data": {
            "image/png": "[encoded data removed]",
            "text/plain": [
              "<Figure size 432x288 with 1 Axes>"
            ]
          },
          "metadata": {
            "tags": [],
            "needs_background": "light"
          }
        }
      ]
    },
    {
      "cell_type": "markdown",
      "metadata": {
        "id": "wGj4jwaONX0H"
      },
      "source": [
        "## 2.SimpleRNN - with Normalization"
      ]
    },
    {
      "cell_type": "markdown",
      "metadata": {
        "id": "bOZ8aL05Na-Y"
      },
      "source": [
        "### 1) Sample Data - with Normalization"
      ]
    },
    {
      "cell_type": "code",
      "metadata": {
        "id": "IUT210ZcNRW5"
      },
      "source": [
        "X = [[[(i + j)] for i in range(5)] for j in range(100)] \n",
        "y = [(i + 5) for i in range(100)]\n",
        "\n",
        "X = (X - np.min(X)) / (np.max(X) - np.min(X)) \n",
        "y = (y - np.min(y)) / (np.max(y) - np.min(y))"
      ],
      "execution_count": 13,
      "outputs": []
    },
    {
      "cell_type": "markdown",
      "metadata": {
        "id": "aQMikcRlNme-"
      },
      "source": [
        "### 2) Casting"
      ]
    },
    {
      "cell_type": "code",
      "metadata": {
        "colab": {
          "base_uri": "https://localhost:8080/"
        },
        "id": "8LMnY0YvNfrY",
        "outputId": "abcf7da3-afea-44ef-88fe-80f87b76b53b"
      },
      "source": [
        "X = np.array(X, dtype = float) \n",
        "y = np.array(y, dtype = float)\n",
        "\n",
        "X.shape, y.shape"
      ],
      "execution_count": 14,
      "outputs": [
        {
          "output_type": "execute_result",
          "data": {
            "text/plain": [
              "((100, 5, 1), (100,))"
            ]
          },
          "metadata": {
            "tags": []
          },
          "execution_count": 14
        }
      ]
    },
    {
      "cell_type": "markdown",
      "metadata": {
        "id": "NmYEgLq3NudT"
      },
      "source": [
        "### 3) Train vs. Test Split"
      ]
    },
    {
      "cell_type": "code",
      "metadata": {
        "colab": {
          "base_uri": "https://localhost:8080/"
        },
        "id": "TDxET6qoNr53",
        "outputId": "6cddb949-c7d7-4891-99bb-5ea60d2420b4"
      },
      "source": [
        "X_train, X_test, y_train, y_test = train_test_split(X, y,\n",
        "                                                    test_size = 0.2, \n",
        "                                                    random_state = 2045)\n",
        "\n",
        "X_train.shape, y_train.shape, X_test.shape, y_test.shape"
      ],
      "execution_count": 15,
      "outputs": [
        {
          "output_type": "execute_result",
          "data": {
            "text/plain": [
              "((80, 5, 1), (80,), (20, 5, 1), (20,))"
            ]
          },
          "metadata": {
            "tags": []
          },
          "execution_count": 15
        }
      ]
    },
    {
      "cell_type": "markdown",
      "metadata": {
        "id": "iRbcJXKLN4Ei"
      },
      "source": [
        "### 4) Keras SimpleRNN Modeling"
      ]
    },
    {
      "cell_type": "markdown",
      "metadata": {
        "id": "3TatCR2NN5kR"
      },
      "source": [
        "#### (1) Model Define & Summary\n",
        "* None : input_length 자동 맞춤"
      ]
    },
    {
      "cell_type": "code",
      "metadata": {
        "colab": {
          "base_uri": "https://localhost:8080/"
        },
        "id": "30kQZqA7N1pX",
        "outputId": "0954a903-bfa5-47ff-87cd-661a77b75c70"
      },
      "source": [
        "model_2 = models.Sequential(name = 'SimpleRNN_2') \n",
        "model_2.add(layers.SimpleRNN(3,\n",
        "                             input_shape = (None, 1), \n",
        "                             return_sequences = False))\n",
        "\n",
        "model_2.add(layers.Dense(1)) \n",
        "model_2.summary()"
      ],
      "execution_count": 16,
      "outputs": [
        {
          "output_type": "stream",
          "text": [
            "Model: \"SimpleRNN_2\"\n",
            "_________________________________________________________________\n",
            "Layer (type)                 Output Shape              Param #   \n",
            "=================================================================\n",
            "simple_rnn_1 (SimpleRNN)     (None, 3)                 15        \n",
            "_________________________________________________________________\n",
            "dense_1 (Dense)              (None, 1)                 4         \n",
            "=================================================================\n",
            "Total params: 19\n",
            "Trainable params: 19\n",
            "Non-trainable params: 0\n",
            "_________________________________________________________________\n"
          ],
          "name": "stdout"
        }
      ]
    },
    {
      "cell_type": "markdown",
      "metadata": {
        "id": "ZN7tpQVeONpJ"
      },
      "source": [
        "#### (2) Model Compile"
      ]
    },
    {
      "cell_type": "code",
      "metadata": {
        "id": "X4CHLmoIOLYi"
      },
      "source": [
        "model_2.compile(loss = 'mse', \n",
        "                optimizer = 'adam', \n",
        "                metrics = ['accuracy'])"
      ],
      "execution_count": 17,
      "outputs": []
    },
    {
      "cell_type": "markdown",
      "metadata": {
        "id": "LEO8tZoSOS73"
      },
      "source": [
        "#### (3) Model Fit"
      ]
    },
    {
      "cell_type": "code",
      "metadata": {
        "colab": {
          "base_uri": "https://localhost:8080/"
        },
        "id": "ZX5tTfDAORHf",
        "outputId": "950d450f-f394-4de8-dc83-9f50250332f4"
      },
      "source": [
        "Hist_2 = model_2.fit(X_train, y_train, \n",
        "                     epochs = 100, \n",
        "                     batch_size = 8,\n",
        "                     validation_data = (X_test, y_test))"
      ],
      "execution_count": 18,
      "outputs": [
        {
          "output_type": "stream",
          "text": [
            "Epoch 1/100\n",
            "10/10 [==============================] - 1s 37ms/step - loss: 0.0408 - accuracy: 0.0209 - val_loss: 0.0322 - val_accuracy: 0.0000e+00\n",
            "Epoch 2/100\n",
            "10/10 [==============================] - 0s 9ms/step - loss: 0.0309 - accuracy: 0.0143 - val_loss: 0.0276 - val_accuracy: 0.0000e+00\n",
            "Epoch 3/100\n",
            "10/10 [==============================] - 0s 9ms/step - loss: 0.0270 - accuracy: 0.0310 - val_loss: 0.0246 - val_accuracy: 0.0000e+00\n",
            "Epoch 4/100\n",
            "10/10 [==============================] - 0s 8ms/step - loss: 0.0261 - accuracy: 0.0202 - val_loss: 0.0225 - val_accuracy: 0.0000e+00\n",
            "Epoch 5/100\n",
            "10/10 [==============================] - 0s 8ms/step - loss: 0.0257 - accuracy: 0.0099 - val_loss: 0.0208 - val_accuracy: 0.0000e+00\n",
            "Epoch 6/100\n",
            "10/10 [==============================] - 0s 7ms/step - loss: 0.0227 - accuracy: 0.0367 - val_loss: 0.0193 - val_accuracy: 0.0000e+00\n",
            "Epoch 7/100\n",
            "10/10 [==============================] - 0s 7ms/step - loss: 0.0175 - accuracy: 0.0169 - val_loss: 0.0179 - val_accuracy: 0.0000e+00\n",
            "Epoch 8/100\n",
            "10/10 [==============================] - 0s 8ms/step - loss: 0.0166 - accuracy: 0.0410 - val_loss: 0.0166 - val_accuracy: 0.0000e+00\n",
            "Epoch 9/100\n",
            "10/10 [==============================] - 0s 8ms/step - loss: 0.0128 - accuracy: 0.0151 - val_loss: 0.0156 - val_accuracy: 0.0000e+00\n",
            "Epoch 10/100\n",
            "10/10 [==============================] - 0s 8ms/step - loss: 0.0149 - accuracy: 0.0266 - val_loss: 0.0146 - val_accuracy: 0.0000e+00\n",
            "Epoch 11/100\n",
            "10/10 [==============================] - 0s 8ms/step - loss: 0.0134 - accuracy: 0.0132 - val_loss: 0.0137 - val_accuracy: 0.0000e+00\n",
            "Epoch 12/100\n",
            "10/10 [==============================] - 0s 8ms/step - loss: 0.0130 - accuracy: 0.0380 - val_loss: 0.0128 - val_accuracy: 0.0000e+00\n",
            "Epoch 13/100\n",
            "10/10 [==============================] - 0s 8ms/step - loss: 0.0114 - accuracy: 0.0221 - val_loss: 0.0121 - val_accuracy: 0.0000e+00\n",
            "Epoch 14/100\n",
            "10/10 [==============================] - 0s 8ms/step - loss: 0.0105 - accuracy: 0.0132 - val_loss: 0.0114 - val_accuracy: 0.0000e+00\n",
            "Epoch 15/100\n",
            "10/10 [==============================] - 0s 8ms/step - loss: 0.0105 - accuracy: 0.0107 - val_loss: 0.0108 - val_accuracy: 0.0000e+00\n",
            "Epoch 16/100\n",
            "10/10 [==============================] - 0s 8ms/step - loss: 0.0099 - accuracy: 0.0258 - val_loss: 0.0102 - val_accuracy: 0.0000e+00\n",
            "Epoch 17/100\n",
            "10/10 [==============================] - 0s 8ms/step - loss: 0.0087 - accuracy: 0.0115 - val_loss: 0.0096 - val_accuracy: 0.0000e+00\n",
            "Epoch 18/100\n",
            "10/10 [==============================] - 0s 8ms/step - loss: 0.0098 - accuracy: 0.0202 - val_loss: 0.0090 - val_accuracy: 0.0000e+00\n",
            "Epoch 19/100\n",
            "10/10 [==============================] - 0s 7ms/step - loss: 0.0084 - accuracy: 0.0296 - val_loss: 0.0084 - val_accuracy: 0.0000e+00\n",
            "Epoch 20/100\n",
            "10/10 [==============================] - 0s 7ms/step - loss: 0.0080 - accuracy: 0.0240 - val_loss: 0.0080 - val_accuracy: 0.0000e+00\n",
            "Epoch 21/100\n",
            "10/10 [==============================] - 0s 8ms/step - loss: 0.0072 - accuracy: 0.0280 - val_loss: 0.0075 - val_accuracy: 0.0000e+00\n",
            "Epoch 22/100\n",
            "10/10 [==============================] - 0s 8ms/step - loss: 0.0080 - accuracy: 0.0315 - val_loss: 0.0071 - val_accuracy: 0.0000e+00\n",
            "Epoch 23/100\n",
            "10/10 [==============================] - 0s 8ms/step - loss: 0.0052 - accuracy: 0.0310 - val_loss: 0.0067 - val_accuracy: 0.0000e+00\n",
            "Epoch 24/100\n",
            "10/10 [==============================] - 0s 8ms/step - loss: 0.0058 - accuracy: 0.0143 - val_loss: 0.0063 - val_accuracy: 0.0000e+00\n",
            "Epoch 25/100\n",
            "10/10 [==============================] - 0s 8ms/step - loss: 0.0055 - accuracy: 0.0151 - val_loss: 0.0060 - val_accuracy: 0.0000e+00\n",
            "Epoch 26/100\n",
            "10/10 [==============================] - 0s 7ms/step - loss: 0.0053 - accuracy: 0.0296 - val_loss: 0.0056 - val_accuracy: 0.0000e+00\n",
            "Epoch 27/100\n",
            "10/10 [==============================] - 0s 8ms/step - loss: 0.0047 - accuracy: 0.0134 - val_loss: 0.0053 - val_accuracy: 0.0000e+00\n",
            "Epoch 28/100\n",
            "10/10 [==============================] - 0s 8ms/step - loss: 0.0046 - accuracy: 0.0045 - val_loss: 0.0050 - val_accuracy: 0.0000e+00\n",
            "Epoch 29/100\n",
            "10/10 [==============================] - 0s 7ms/step - loss: 0.0054 - accuracy: 0.0575 - val_loss: 0.0048 - val_accuracy: 0.0000e+00\n",
            "Epoch 30/100\n",
            "10/10 [==============================] - 0s 8ms/step - loss: 0.0042 - accuracy: 0.0089 - val_loss: 0.0045 - val_accuracy: 0.0000e+00\n",
            "Epoch 31/100\n",
            "10/10 [==============================] - 0s 7ms/step - loss: 0.0045 - accuracy: 0.0157 - val_loss: 0.0042 - val_accuracy: 0.0000e+00\n",
            "Epoch 32/100\n",
            "10/10 [==============================] - 0s 7ms/step - loss: 0.0036 - accuracy: 0.0192 - val_loss: 0.0040 - val_accuracy: 0.0000e+00\n",
            "Epoch 33/100\n",
            "10/10 [==============================] - 0s 8ms/step - loss: 0.0038 - accuracy: 0.0429 - val_loss: 0.0038 - val_accuracy: 0.0000e+00\n",
            "Epoch 34/100\n",
            "10/10 [==============================] - 0s 8ms/step - loss: 0.0033 - accuracy: 0.0072 - val_loss: 0.0036 - val_accuracy: 0.0000e+00\n",
            "Epoch 35/100\n",
            "10/10 [==============================] - 0s 8ms/step - loss: 0.0035 - accuracy: 0.0575 - val_loss: 0.0033 - val_accuracy: 0.0000e+00\n",
            "Epoch 36/100\n",
            "10/10 [==============================] - 0s 7ms/step - loss: 0.0031 - accuracy: 0.0243 - val_loss: 0.0031 - val_accuracy: 0.0000e+00\n",
            "Epoch 37/100\n",
            "10/10 [==============================] - 0s 8ms/step - loss: 0.0025 - accuracy: 0.0185 - val_loss: 0.0030 - val_accuracy: 0.0000e+00\n",
            "Epoch 38/100\n",
            "10/10 [==============================] - 0s 8ms/step - loss: 0.0028 - accuracy: 0.0310 - val_loss: 0.0029 - val_accuracy: 0.0000e+00\n",
            "Epoch 39/100\n",
            "10/10 [==============================] - 0s 8ms/step - loss: 0.0030 - accuracy: 0.0159 - val_loss: 0.0027 - val_accuracy: 0.0000e+00\n",
            "Epoch 40/100\n",
            "10/10 [==============================] - 0s 8ms/step - loss: 0.0023 - accuracy: 0.0085 - val_loss: 0.0025 - val_accuracy: 0.0000e+00\n",
            "Epoch 41/100\n",
            "10/10 [==============================] - 0s 8ms/step - loss: 0.0024 - accuracy: 0.0085 - val_loss: 0.0024 - val_accuracy: 0.0000e+00\n",
            "Epoch 42/100\n",
            "10/10 [==============================] - 0s 9ms/step - loss: 0.0021 - accuracy: 0.0209 - val_loss: 0.0022 - val_accuracy: 0.0000e+00\n",
            "Epoch 43/100\n",
            "10/10 [==============================] - 0s 9ms/step - loss: 0.0024 - accuracy: 0.0296 - val_loss: 0.0022 - val_accuracy: 0.0000e+00\n",
            "Epoch 44/100\n",
            "10/10 [==============================] - 0s 8ms/step - loss: 0.0018 - accuracy: 0.0134 - val_loss: 0.0020 - val_accuracy: 0.0000e+00\n",
            "Epoch 45/100\n",
            "10/10 [==============================] - 0s 9ms/step - loss: 0.0020 - accuracy: 0.0266 - val_loss: 0.0019 - val_accuracy: 0.0000e+00\n",
            "Epoch 46/100\n",
            "10/10 [==============================] - 0s 8ms/step - loss: 0.0015 - accuracy: 0.0296 - val_loss: 0.0018 - val_accuracy: 0.0000e+00\n",
            "Epoch 47/100\n",
            "10/10 [==============================] - 0s 9ms/step - loss: 0.0017 - accuracy: 0.0258 - val_loss: 0.0017 - val_accuracy: 0.0000e+00\n",
            "Epoch 48/100\n",
            "10/10 [==============================] - 0s 9ms/step - loss: 0.0016 - accuracy: 0.0243 - val_loss: 0.0016 - val_accuracy: 0.0000e+00\n",
            "Epoch 49/100\n",
            "10/10 [==============================] - 0s 8ms/step - loss: 0.0015 - accuracy: 0.0367 - val_loss: 0.0015 - val_accuracy: 0.0000e+00\n",
            "Epoch 50/100\n",
            "10/10 [==============================] - 0s 8ms/step - loss: 0.0016 - accuracy: 0.0196 - val_loss: 0.0014 - val_accuracy: 0.0000e+00\n",
            "Epoch 51/100\n",
            "10/10 [==============================] - 0s 9ms/step - loss: 0.0014 - accuracy: 0.0134 - val_loss: 0.0013 - val_accuracy: 0.0000e+00\n",
            "Epoch 52/100\n",
            "10/10 [==============================] - 0s 9ms/step - loss: 0.0012 - accuracy: 0.0132 - val_loss: 0.0013 - val_accuracy: 0.0000e+00\n",
            "Epoch 53/100\n",
            "10/10 [==============================] - 0s 9ms/step - loss: 0.0012 - accuracy: 0.0223 - val_loss: 0.0012 - val_accuracy: 0.0000e+00\n",
            "Epoch 54/100\n",
            "10/10 [==============================] - 0s 8ms/step - loss: 0.0014 - accuracy: 0.0107 - val_loss: 0.0011 - val_accuracy: 0.0000e+00\n",
            "Epoch 55/100\n",
            "10/10 [==============================] - 0s 8ms/step - loss: 0.0011 - accuracy: 0.0072 - val_loss: 0.0011 - val_accuracy: 0.0000e+00\n",
            "Epoch 56/100\n",
            "10/10 [==============================] - 0s 8ms/step - loss: 0.0012 - accuracy: 0.0120 - val_loss: 0.0010 - val_accuracy: 0.0000e+00\n",
            "Epoch 57/100\n",
            "10/10 [==============================] - 0s 8ms/step - loss: 9.8165e-04 - accuracy: 0.0130 - val_loss: 9.4294e-04 - val_accuracy: 0.0000e+00\n",
            "Epoch 58/100\n",
            "10/10 [==============================] - 0s 8ms/step - loss: 8.9864e-04 - accuracy: 0.0130 - val_loss: 8.9808e-04 - val_accuracy: 0.0000e+00\n",
            "Epoch 59/100\n",
            "10/10 [==============================] - 0s 7ms/step - loss: 0.0010 - accuracy: 0.0240 - val_loss: 8.6038e-04 - val_accuracy: 0.0000e+00\n",
            "Epoch 60/100\n",
            "10/10 [==============================] - 0s 7ms/step - loss: 8.6727e-04 - accuracy: 0.0296 - val_loss: 7.8955e-04 - val_accuracy: 0.0000e+00\n",
            "Epoch 61/100\n",
            "10/10 [==============================] - 0s 8ms/step - loss: 7.9172e-04 - accuracy: 0.0185 - val_loss: 7.5446e-04 - val_accuracy: 0.0000e+00\n",
            "Epoch 62/100\n",
            "10/10 [==============================] - 0s 7ms/step - loss: 7.6164e-04 - accuracy: 0.0480 - val_loss: 7.2486e-04 - val_accuracy: 0.0000e+00\n",
            "Epoch 63/100\n",
            "10/10 [==============================] - 0s 8ms/step - loss: 8.4684e-04 - accuracy: 0.0315 - val_loss: 6.6099e-04 - val_accuracy: 0.0000e+00\n",
            "Epoch 64/100\n",
            "10/10 [==============================] - 0s 8ms/step - loss: 7.2159e-04 - accuracy: 0.0380 - val_loss: 6.2243e-04 - val_accuracy: 0.0000e+00\n",
            "Epoch 65/100\n",
            "10/10 [==============================] - 0s 10ms/step - loss: 6.3647e-04 - accuracy: 0.0101 - val_loss: 5.7735e-04 - val_accuracy: 0.0000e+00\n",
            "Epoch 66/100\n",
            "10/10 [==============================] - 0s 8ms/step - loss: 5.3039e-04 - accuracy: 0.0296 - val_loss: 5.5612e-04 - val_accuracy: 0.0000e+00\n",
            "Epoch 67/100\n",
            "10/10 [==============================] - 0s 8ms/step - loss: 5.1566e-04 - accuracy: 0.0171 - val_loss: 5.1321e-04 - val_accuracy: 0.0000e+00\n",
            "Epoch 68/100\n",
            "10/10 [==============================] - 0s 8ms/step - loss: 6.2116e-04 - accuracy: 0.0380 - val_loss: 4.8327e-04 - val_accuracy: 0.0000e+00\n",
            "Epoch 69/100\n",
            "10/10 [==============================] - 0s 8ms/step - loss: 5.6783e-04 - accuracy: 0.0280 - val_loss: 4.5259e-04 - val_accuracy: 0.0000e+00\n",
            "Epoch 70/100\n",
            "10/10 [==============================] - 0s 8ms/step - loss: 5.3106e-04 - accuracy: 0.0185 - val_loss: 4.2421e-04 - val_accuracy: 0.0000e+00\n",
            "Epoch 71/100\n",
            "10/10 [==============================] - 0s 8ms/step - loss: 4.8811e-04 - accuracy: 0.0072 - val_loss: 3.8336e-04 - val_accuracy: 0.0000e+00\n",
            "Epoch 72/100\n",
            "10/10 [==============================] - 0s 8ms/step - loss: 3.2252e-04 - accuracy: 0.0151 - val_loss: 3.6193e-04 - val_accuracy: 0.0000e+00\n",
            "Epoch 73/100\n",
            "10/10 [==============================] - 0s 9ms/step - loss: 5.1490e-04 - accuracy: 0.0429 - val_loss: 3.5800e-04 - val_accuracy: 0.0000e+00\n",
            "Epoch 74/100\n",
            "10/10 [==============================] - 0s 8ms/step - loss: 3.9589e-04 - accuracy: 0.0115 - val_loss: 3.2028e-04 - val_accuracy: 0.0000e+00\n",
            "Epoch 75/100\n",
            "10/10 [==============================] - 0s 9ms/step - loss: 3.5896e-04 - accuracy: 0.0429 - val_loss: 2.9107e-04 - val_accuracy: 0.0000e+00\n",
            "Epoch 76/100\n",
            "10/10 [==============================] - 0s 9ms/step - loss: 3.4224e-04 - accuracy: 0.0380 - val_loss: 2.6816e-04 - val_accuracy: 0.0000e+00\n",
            "Epoch 77/100\n",
            "10/10 [==============================] - 0s 9ms/step - loss: 3.5383e-04 - accuracy: 0.0366 - val_loss: 2.5673e-04 - val_accuracy: 0.0000e+00\n",
            "Epoch 78/100\n",
            "10/10 [==============================] - 0s 8ms/step - loss: 3.6362e-04 - accuracy: 0.0221 - val_loss: 2.3203e-04 - val_accuracy: 0.0000e+00\n",
            "Epoch 79/100\n",
            "10/10 [==============================] - 0s 8ms/step - loss: 3.6287e-04 - accuracy: 0.0310 - val_loss: 2.1204e-04 - val_accuracy: 0.0000e+00\n",
            "Epoch 80/100\n",
            "10/10 [==============================] - 0s 7ms/step - loss: 2.7516e-04 - accuracy: 0.0151 - val_loss: 1.9905e-04 - val_accuracy: 0.0000e+00\n",
            "Epoch 81/100\n",
            "10/10 [==============================] - 0s 8ms/step - loss: 2.7461e-04 - accuracy: 0.0196 - val_loss: 1.8579e-04 - val_accuracy: 0.0000e+00\n",
            "Epoch 82/100\n",
            "10/10 [==============================] - 0s 8ms/step - loss: 2.3382e-04 - accuracy: 0.0518 - val_loss: 1.6894e-04 - val_accuracy: 0.0000e+00\n",
            "Epoch 83/100\n",
            "10/10 [==============================] - 0s 8ms/step - loss: 2.2707e-04 - accuracy: 0.0072 - val_loss: 1.5442e-04 - val_accuracy: 0.0000e+00\n",
            "Epoch 84/100\n",
            "10/10 [==============================] - 0s 9ms/step - loss: 3.1885e-04 - accuracy: 0.0130 - val_loss: 1.4957e-04 - val_accuracy: 0.0000e+00\n",
            "Epoch 85/100\n",
            "10/10 [==============================] - 0s 8ms/step - loss: 1.6732e-04 - accuracy: 0.0258 - val_loss: 1.3139e-04 - val_accuracy: 0.0000e+00\n",
            "Epoch 86/100\n",
            "10/10 [==============================] - 0s 8ms/step - loss: 2.2841e-04 - accuracy: 0.0072 - val_loss: 1.2312e-04 - val_accuracy: 0.0000e+00\n",
            "Epoch 87/100\n",
            "10/10 [==============================] - 0s 9ms/step - loss: 2.6637e-04 - accuracy: 0.0575 - val_loss: 1.1523e-04 - val_accuracy: 0.0000e+00\n",
            "Epoch 88/100\n",
            "10/10 [==============================] - 0s 8ms/step - loss: 1.3099e-04 - accuracy: 0.0071 - val_loss: 1.0400e-04 - val_accuracy: 0.0000e+00\n",
            "Epoch 89/100\n",
            "10/10 [==============================] - 0s 8ms/step - loss: 2.2060e-04 - accuracy: 0.0366 - val_loss: 9.9922e-05 - val_accuracy: 0.0000e+00\n",
            "Epoch 90/100\n",
            "10/10 [==============================] - 0s 9ms/step - loss: 1.6695e-04 - accuracy: 0.0253 - val_loss: 8.9238e-05 - val_accuracy: 0.0000e+00\n",
            "Epoch 91/100\n",
            "10/10 [==============================] - 0s 8ms/step - loss: 1.4096e-04 - accuracy: 0.0575 - val_loss: 8.2575e-05 - val_accuracy: 0.0000e+00\n",
            "Epoch 92/100\n",
            "10/10 [==============================] - 0s 8ms/step - loss: 1.3876e-04 - accuracy: 0.0575 - val_loss: 7.8268e-05 - val_accuracy: 0.0000e+00\n",
            "Epoch 93/100\n",
            "10/10 [==============================] - 0s 8ms/step - loss: 1.0653e-04 - accuracy: 0.0223 - val_loss: 7.1830e-05 - val_accuracy: 0.0000e+00\n",
            "Epoch 94/100\n",
            "10/10 [==============================] - 0s 8ms/step - loss: 1.4364e-04 - accuracy: 0.0171 - val_loss: 7.3541e-05 - val_accuracy: 0.0000e+00\n",
            "Epoch 95/100\n",
            "10/10 [==============================] - 0s 8ms/step - loss: 8.9752e-05 - accuracy: 0.0115 - val_loss: 6.3484e-05 - val_accuracy: 0.0000e+00\n",
            "Epoch 96/100\n",
            "10/10 [==============================] - 0s 8ms/step - loss: 6.7494e-05 - accuracy: 0.0159 - val_loss: 5.9462e-05 - val_accuracy: 0.0000e+00\n",
            "Epoch 97/100\n",
            "10/10 [==============================] - 0s 8ms/step - loss: 8.6077e-05 - accuracy: 0.0315 - val_loss: 6.2728e-05 - val_accuracy: 0.0000e+00\n",
            "Epoch 98/100\n",
            "10/10 [==============================] - 0s 9ms/step - loss: 8.7623e-05 - accuracy: 0.0071 - val_loss: 5.3000e-05 - val_accuracy: 0.0000e+00\n",
            "Epoch 99/100\n",
            "10/10 [==============================] - 0s 9ms/step - loss: 9.0558e-05 - accuracy: 0.0192 - val_loss: 5.0173e-05 - val_accuracy: 0.0000e+00\n",
            "Epoch 100/100\n",
            "10/10 [==============================] - 0s 9ms/step - loss: 7.6851e-05 - accuracy: 0.0130 - val_loss: 4.8368e-05 - val_accuracy: 0.0000e+00\n"
          ],
          "name": "stdout"
        }
      ]
    },
    {
      "cell_type": "markdown",
      "metadata": {
        "id": "CtzyuRKWOa66"
      },
      "source": [
        "#### (4) Model Predict"
      ]
    },
    {
      "cell_type": "code",
      "metadata": {
        "id": "U5IKQItKOY7o"
      },
      "source": [
        "y_hat = model_2.predict(X_test)"
      ],
      "execution_count": 19,
      "outputs": []
    },
    {
      "cell_type": "markdown",
      "metadata": {
        "id": "SkuGlpXpOfg5"
      },
      "source": [
        "#### (5) Result Visualization\n",
        "* Loss"
      ]
    },
    {
      "cell_type": "code",
      "metadata": {
        "colab": {
          "base_uri": "https://localhost:8080/",
          "height": 265
        },
        "id": "Nh7XrESMOe3-",
        "outputId": "3194049d-4fb7-4bf7-9000-da8d5bf53e62"
      },
      "source": [
        "plt.plot(Hist_2.history['loss']) \n",
        "\n",
        "plt.show()"
      ],
      "execution_count": 20,
      "outputs": [
        {
          "output_type": "display_data",
          "data": {
            "image/png": "[encoded data removed]",
            "text/plain": [
              "<Figure size 432x288 with 1 Axes>"
            ]
          },
          "metadata": {
            "tags": [],
            "needs_background": "light"
          }
        }
      ]
    },
    {
      "cell_type": "markdown",
      "metadata": {
        "id": "qyhV35orOo3b"
      },
      "source": [
        "* 학습 진행\n",
        "  * 녹색 -> 정답(y_test) \n",
        "  * 적색 -> 예측(y_hat)"
      ]
    },
    {
      "cell_type": "code",
      "metadata": {
        "colab": {
          "base_uri": "https://localhost:8080/",
          "height": 265
        },
        "id": "2nXk7QltOnkU",
        "outputId": "5b2b2fa0-4503-4daf-f8dd-01ad6fc28c6f"
      },
      "source": [
        "plt.scatter(range(20), y_hat, c = 'r') \n",
        "plt.scatter(range(20), y_test, c = 'g') \n",
        "plt.show()\n",
        "#정규화를 하니 학습이 진행되었다"
      ],
      "execution_count": 21,
      "outputs": [
        {
          "output_type": "display_data",
          "data": {
            "image/png": "[encoded data removed]",
            "text/plain": [
              "<Figure size 432x288 with 1 Axes>"
            ]
          },
          "metadata": {
            "tags": [],
            "needs_background": "light"
          }
        }
      ]
    },
    {
      "cell_type": "markdown",
      "metadata": {
        "id": "2k9jIqBKO_Mw"
      },
      "source": [
        "## 3.Stacked_SimpleRNN"
      ]
    },
    {
      "cell_type": "markdown",
      "metadata": {
        "id": "RTfmI4Q4PBiZ"
      },
      "source": [
        "1) Model Define & Summary\n",
        "* return_sequences = True"
      ]
    },
    {
      "cell_type": "code",
      "metadata": {
        "colab": {
          "base_uri": "https://localhost:8080/"
        },
        "id": "PeNDVCMROvf4",
        "outputId": "5a993b51-7355-4ba5-bdfe-9016522e5b9a"
      },
      "source": [
        "model_4 = models.Sequential(name = 'Stackd_RNN') \n",
        "\n",
        "model_4.add(layers.SimpleRNN(3,\n",
        "                             input_shape = (None, 1), \n",
        "                             return_sequences = True))\n",
        "\n",
        "model_4.add(layers.SimpleRNN(3,\n",
        "                             input_shape = (None, 1), \n",
        "                             return_sequences = False))\n",
        "\n",
        "model_4.add(layers.Dense(1)) \n",
        "\n",
        "model_4.summary()"
      ],
      "execution_count": 22,
      "outputs": [
        {
          "output_type": "stream",
          "text": [
            "Model: \"Stackd_RNN\"\n",
            "_________________________________________________________________\n",
            "Layer (type)                 Output Shape              Param #   \n",
            "=================================================================\n",
            "simple_rnn_2 (SimpleRNN)     (None, None, 3)           15        \n",
            "_________________________________________________________________\n",
            "simple_rnn_3 (SimpleRNN)     (None, 3)                 21        \n",
            "_________________________________________________________________\n",
            "dense_2 (Dense)              (None, 1)                 4         \n",
            "=================================================================\n",
            "Total params: 40\n",
            "Trainable params: 40\n",
            "Non-trainable params: 0\n",
            "_________________________________________________________________\n"
          ],
          "name": "stdout"
        }
      ]
    },
    {
      "cell_type": "markdown",
      "metadata": {
        "id": "Uk_PIgp0PVyw"
      },
      "source": [
        "### 2) Model Compile"
      ]
    },
    {
      "cell_type": "code",
      "metadata": {
        "id": "-KTGgQ0iPPqQ"
      },
      "source": [
        "model_4.compile(loss = 'mse', \n",
        "                optimizer = 'adam', \n",
        "                metrics = ['accuracy'])"
      ],
      "execution_count": 23,
      "outputs": []
    },
    {
      "cell_type": "markdown",
      "metadata": {
        "id": "kuxFNWbTPabN"
      },
      "source": [
        "### 3) Model Fit"
      ]
    },
    {
      "cell_type": "code",
      "metadata": {
        "colab": {
          "base_uri": "https://localhost:8080/"
        },
        "id": "AlO4EiO5PYxX",
        "outputId": "25c31483-93e8-4728-fa4d-f8736366260d"
      },
      "source": [
        "Hist_4 = model_4.fit(X_train, y_train, \n",
        "                     epochs = 100, \n",
        "                     batch_size = 8,\n",
        "                     validation_data = (X_test, y_test))"
      ],
      "execution_count": 24,
      "outputs": [
        {
          "output_type": "stream",
          "text": [
            "Epoch 1/100\n",
            "10/10 [==============================] - 2s 49ms/step - loss: 3.4915 - accuracy: 0.0066 - val_loss: 2.5514 - val_accuracy: 0.0000e+00\n",
            "Epoch 2/100\n",
            "10/10 [==============================] - 0s 9ms/step - loss: 2.2571 - accuracy: 0.0231 - val_loss: 1.5774 - val_accuracy: 0.0000e+00\n",
            "Epoch 3/100\n",
            "10/10 [==============================] - 0s 9ms/step - loss: 1.3471 - accuracy: 0.0000e+00 - val_loss: 0.8865 - val_accuracy: 0.0000e+00\n",
            "Epoch 4/100\n",
            "10/10 [==============================] - 0s 9ms/step - loss: 0.8962 - accuracy: 0.0000e+00 - val_loss: 0.4883 - val_accuracy: 0.0000e+00\n",
            "Epoch 5/100\n",
            "10/10 [==============================] - 0s 9ms/step - loss: 0.5134 - accuracy: 0.0000e+00 - val_loss: 0.3361 - val_accuracy: 0.0000e+00\n",
            "Epoch 6/100\n",
            "10/10 [==============================] - 0s 9ms/step - loss: 0.3797 - accuracy: 0.0000e+00 - val_loss: 0.2783 - val_accuracy: 0.0000e+00\n",
            "Epoch 7/100\n",
            "10/10 [==============================] - 0s 9ms/step - loss: 0.3382 - accuracy: 0.0000e+00 - val_loss: 0.2560 - val_accuracy: 0.0000e+00\n",
            "Epoch 8/100\n",
            "10/10 [==============================] - 0s 9ms/step - loss: 0.2940 - accuracy: 0.0000e+00 - val_loss: 0.2423 - val_accuracy: 0.0000e+00\n",
            "Epoch 9/100\n",
            "10/10 [==============================] - 0s 8ms/step - loss: 0.2772 - accuracy: 0.0000e+00 - val_loss: 0.2283 - val_accuracy: 0.0000e+00\n",
            "Epoch 10/100\n",
            "10/10 [==============================] - 0s 8ms/step - loss: 0.2966 - accuracy: 0.0000e+00 - val_loss: 0.2154 - val_accuracy: 0.0000e+00\n",
            "Epoch 11/100\n",
            "10/10 [==============================] - 0s 9ms/step - loss: 0.2381 - accuracy: 0.0000e+00 - val_loss: 0.2034 - val_accuracy: 0.0000e+00\n",
            "Epoch 12/100\n",
            "10/10 [==============================] - 0s 9ms/step - loss: 0.2342 - accuracy: 0.0000e+00 - val_loss: 0.1920 - val_accuracy: 0.0000e+00\n",
            "Epoch 13/100\n",
            "10/10 [==============================] - 0s 9ms/step - loss: 0.2439 - accuracy: 0.0000e+00 - val_loss: 0.1809 - val_accuracy: 0.0000e+00\n",
            "Epoch 14/100\n",
            "10/10 [==============================] - 0s 8ms/step - loss: 0.2397 - accuracy: 0.0000e+00 - val_loss: 0.1705 - val_accuracy: 0.0000e+00\n",
            "Epoch 15/100\n",
            "10/10 [==============================] - 0s 8ms/step - loss: 0.1957 - accuracy: 0.0000e+00 - val_loss: 0.1610 - val_accuracy: 0.0000e+00\n",
            "Epoch 16/100\n",
            "10/10 [==============================] - 0s 8ms/step - loss: 0.2045 - accuracy: 0.0000e+00 - val_loss: 0.1515 - val_accuracy: 0.0000e+00\n",
            "Epoch 17/100\n",
            "10/10 [==============================] - 0s 8ms/step - loss: 0.1764 - accuracy: 0.0000e+00 - val_loss: 0.1425 - val_accuracy: 0.0000e+00\n",
            "Epoch 18/100\n",
            "10/10 [==============================] - 0s 8ms/step - loss: 0.1813 - accuracy: 0.0000e+00 - val_loss: 0.1340 - val_accuracy: 0.0000e+00\n",
            "Epoch 19/100\n",
            "10/10 [==============================] - 0s 9ms/step - loss: 0.1729 - accuracy: 0.0000e+00 - val_loss: 0.1259 - val_accuracy: 0.0000e+00\n",
            "Epoch 20/100\n",
            "10/10 [==============================] - 0s 8ms/step - loss: 0.1360 - accuracy: 0.0000e+00 - val_loss: 0.1184 - val_accuracy: 0.0000e+00\n",
            "Epoch 21/100\n",
            "10/10 [==============================] - 0s 8ms/step - loss: 0.1574 - accuracy: 0.0000e+00 - val_loss: 0.1105 - val_accuracy: 0.0000e+00\n",
            "Epoch 22/100\n",
            "10/10 [==============================] - 0s 8ms/step - loss: 0.1292 - accuracy: 0.0000e+00 - val_loss: 0.1033 - val_accuracy: 0.0000e+00\n",
            "Epoch 23/100\n",
            "10/10 [==============================] - 0s 8ms/step - loss: 0.1169 - accuracy: 0.0000e+00 - val_loss: 0.0962 - val_accuracy: 0.0000e+00\n",
            "Epoch 24/100\n",
            "10/10 [==============================] - 0s 8ms/step - loss: 0.1186 - accuracy: 0.0000e+00 - val_loss: 0.0893 - val_accuracy: 0.0000e+00\n",
            "Epoch 25/100\n",
            "10/10 [==============================] - 0s 9ms/step - loss: 0.1083 - accuracy: 0.0000e+00 - val_loss: 0.0828 - val_accuracy: 0.0000e+00\n",
            "Epoch 26/100\n",
            "10/10 [==============================] - 0s 8ms/step - loss: 0.0993 - accuracy: 0.0000e+00 - val_loss: 0.0764 - val_accuracy: 0.0000e+00\n",
            "Epoch 27/100\n",
            "10/10 [==============================] - 0s 8ms/step - loss: 0.0918 - accuracy: 0.0066 - val_loss: 0.0702 - val_accuracy: 0.0000e+00\n",
            "Epoch 28/100\n",
            "10/10 [==============================] - 0s 8ms/step - loss: 0.0861 - accuracy: 0.0480 - val_loss: 0.0642 - val_accuracy: 0.0000e+00\n",
            "Epoch 29/100\n",
            "10/10 [==============================] - 0s 8ms/step - loss: 0.0669 - accuracy: 0.0258 - val_loss: 0.0586 - val_accuracy: 0.0000e+00\n",
            "Epoch 30/100\n",
            "10/10 [==============================] - 0s 8ms/step - loss: 0.0676 - accuracy: 0.0120 - val_loss: 0.0531 - val_accuracy: 0.0000e+00\n",
            "Epoch 31/100\n",
            "10/10 [==============================] - 0s 9ms/step - loss: 0.0572 - accuracy: 0.0099 - val_loss: 0.0478 - val_accuracy: 0.0000e+00\n",
            "Epoch 32/100\n",
            "10/10 [==============================] - 0s 8ms/step - loss: 0.0548 - accuracy: 0.0253 - val_loss: 0.0427 - val_accuracy: 0.0000e+00\n",
            "Epoch 33/100\n",
            "10/10 [==============================] - 0s 9ms/step - loss: 0.0526 - accuracy: 0.0347 - val_loss: 0.0378 - val_accuracy: 0.0000e+00\n",
            "Epoch 34/100\n",
            "10/10 [==============================] - 0s 9ms/step - loss: 0.0493 - accuracy: 0.0209 - val_loss: 0.0334 - val_accuracy: 0.0000e+00\n",
            "Epoch 35/100\n",
            "10/10 [==============================] - 0s 8ms/step - loss: 0.0430 - accuracy: 0.0157 - val_loss: 0.0292 - val_accuracy: 0.0000e+00\n",
            "Epoch 36/100\n",
            "10/10 [==============================] - 0s 10ms/step - loss: 0.0317 - accuracy: 0.0221 - val_loss: 0.0255 - val_accuracy: 0.0000e+00\n",
            "Epoch 37/100\n",
            "10/10 [==============================] - 0s 9ms/step - loss: 0.0267 - accuracy: 0.0240 - val_loss: 0.0221 - val_accuracy: 0.0000e+00\n",
            "Epoch 38/100\n",
            "10/10 [==============================] - 0s 8ms/step - loss: 0.0223 - accuracy: 0.0134 - val_loss: 0.0190 - val_accuracy: 0.0000e+00\n",
            "Epoch 39/100\n",
            "10/10 [==============================] - 0s 9ms/step - loss: 0.0223 - accuracy: 0.0429 - val_loss: 0.0162 - val_accuracy: 0.0000e+00\n",
            "Epoch 40/100\n",
            "10/10 [==============================] - 0s 9ms/step - loss: 0.0168 - accuracy: 0.0107 - val_loss: 0.0139 - val_accuracy: 0.0000e+00\n",
            "Epoch 41/100\n",
            "10/10 [==============================] - 0s 9ms/step - loss: 0.0157 - accuracy: 0.0159 - val_loss: 0.0118 - val_accuracy: 0.0000e+00\n",
            "Epoch 42/100\n",
            "10/10 [==============================] - 0s 9ms/step - loss: 0.0143 - accuracy: 0.0202 - val_loss: 0.0100 - val_accuracy: 0.0000e+00\n",
            "Epoch 43/100\n",
            "10/10 [==============================] - 0s 8ms/step - loss: 0.0105 - accuracy: 0.0058 - val_loss: 0.0085 - val_accuracy: 0.0000e+00\n",
            "Epoch 44/100\n",
            "10/10 [==============================] - 0s 9ms/step - loss: 0.0077 - accuracy: 0.0394 - val_loss: 0.0073 - val_accuracy: 0.0000e+00\n",
            "Epoch 45/100\n",
            "10/10 [==============================] - 0s 8ms/step - loss: 0.0106 - accuracy: 0.0575 - val_loss: 0.0063 - val_accuracy: 0.0000e+00\n",
            "Epoch 46/100\n",
            "10/10 [==============================] - 0s 9ms/step - loss: 0.0065 - accuracy: 0.0480 - val_loss: 0.0055 - val_accuracy: 0.0000e+00\n",
            "Epoch 47/100\n",
            "10/10 [==============================] - 0s 9ms/step - loss: 0.0062 - accuracy: 0.0107 - val_loss: 0.0049 - val_accuracy: 0.0000e+00\n",
            "Epoch 48/100\n",
            "10/10 [==============================] - 0s 8ms/step - loss: 0.0049 - accuracy: 0.0480 - val_loss: 0.0044 - val_accuracy: 0.0000e+00\n",
            "Epoch 49/100\n",
            "10/10 [==============================] - 0s 9ms/step - loss: 0.0048 - accuracy: 0.0253 - val_loss: 0.0041 - val_accuracy: 0.0000e+00\n",
            "Epoch 50/100\n",
            "10/10 [==============================] - 0s 9ms/step - loss: 0.0047 - accuracy: 0.0258 - val_loss: 0.0038 - val_accuracy: 0.0000e+00\n",
            "Epoch 51/100\n",
            "10/10 [==============================] - 0s 9ms/step - loss: 0.0035 - accuracy: 0.0173 - val_loss: 0.0036 - val_accuracy: 0.0000e+00\n",
            "Epoch 52/100\n",
            "10/10 [==============================] - 0s 9ms/step - loss: 0.0034 - accuracy: 0.0157 - val_loss: 0.0035 - val_accuracy: 0.0000e+00\n",
            "Epoch 53/100\n",
            "10/10 [==============================] - 0s 9ms/step - loss: 0.0041 - accuracy: 0.0480 - val_loss: 0.0033 - val_accuracy: 0.0000e+00\n",
            "Epoch 54/100\n",
            "10/10 [==============================] - 0s 8ms/step - loss: 0.0030 - accuracy: 0.0394 - val_loss: 0.0032 - val_accuracy: 0.0000e+00\n",
            "Epoch 55/100\n",
            "10/10 [==============================] - 0s 9ms/step - loss: 0.0035 - accuracy: 0.0209 - val_loss: 0.0032 - val_accuracy: 0.0000e+00\n",
            "Epoch 56/100\n",
            "10/10 [==============================] - 0s 8ms/step - loss: 0.0034 - accuracy: 0.0429 - val_loss: 0.0031 - val_accuracy: 0.0000e+00\n",
            "Epoch 57/100\n",
            "10/10 [==============================] - 0s 8ms/step - loss: 0.0031 - accuracy: 0.0296 - val_loss: 0.0031 - val_accuracy: 0.0000e+00\n",
            "Epoch 58/100\n",
            "10/10 [==============================] - 0s 8ms/step - loss: 0.0030 - accuracy: 0.0185 - val_loss: 0.0030 - val_accuracy: 0.0000e+00\n",
            "Epoch 59/100\n",
            "10/10 [==============================] - 0s 8ms/step - loss: 0.0029 - accuracy: 0.0071 - val_loss: 0.0030 - val_accuracy: 0.0000e+00\n",
            "Epoch 60/100\n",
            "10/10 [==============================] - 0s 9ms/step - loss: 0.0030 - accuracy: 0.0089 - val_loss: 0.0030 - val_accuracy: 0.0000e+00\n",
            "Epoch 61/100\n",
            "10/10 [==============================] - 0s 9ms/step - loss: 0.0033 - accuracy: 0.0347 - val_loss: 0.0031 - val_accuracy: 0.0000e+00\n",
            "Epoch 62/100\n",
            "10/10 [==============================] - 0s 8ms/step - loss: 0.0040 - accuracy: 0.0518 - val_loss: 0.0030 - val_accuracy: 0.0000e+00\n",
            "Epoch 63/100\n",
            "10/10 [==============================] - 0s 9ms/step - loss: 0.0028 - accuracy: 0.0185 - val_loss: 0.0029 - val_accuracy: 0.0000e+00\n",
            "Epoch 64/100\n",
            "10/10 [==============================] - 0s 9ms/step - loss: 0.0033 - accuracy: 0.0272 - val_loss: 0.0030 - val_accuracy: 0.0000e+00\n",
            "Epoch 65/100\n",
            "10/10 [==============================] - 0s 9ms/step - loss: 0.0037 - accuracy: 0.0452 - val_loss: 0.0029 - val_accuracy: 0.0000e+00\n",
            "Epoch 66/100\n",
            "10/10 [==============================] - 0s 8ms/step - loss: 0.0026 - accuracy: 0.0115 - val_loss: 0.0029 - val_accuracy: 0.0000e+00\n",
            "Epoch 67/100\n",
            "10/10 [==============================] - 0s 9ms/step - loss: 0.0031 - accuracy: 0.0085 - val_loss: 0.0029 - val_accuracy: 0.0000e+00\n",
            "Epoch 68/100\n",
            "10/10 [==============================] - 0s 9ms/step - loss: 0.0029 - accuracy: 0.0281 - val_loss: 0.0029 - val_accuracy: 0.0000e+00\n",
            "Epoch 69/100\n",
            "10/10 [==============================] - 0s 8ms/step - loss: 0.0028 - accuracy: 0.0366 - val_loss: 0.0028 - val_accuracy: 0.0000e+00\n",
            "Epoch 70/100\n",
            "10/10 [==============================] - 0s 8ms/step - loss: 0.0027 - accuracy: 0.0171 - val_loss: 0.0029 - val_accuracy: 0.0000e+00\n",
            "Epoch 71/100\n",
            "10/10 [==============================] - 0s 8ms/step - loss: 0.0032 - accuracy: 0.0338 - val_loss: 0.0028 - val_accuracy: 0.0000e+00\n",
            "Epoch 72/100\n",
            "10/10 [==============================] - 0s 8ms/step - loss: 0.0031 - accuracy: 0.0410 - val_loss: 0.0028 - val_accuracy: 0.0000e+00\n",
            "Epoch 73/100\n",
            "10/10 [==============================] - 0s 9ms/step - loss: 0.0023 - accuracy: 0.0380 - val_loss: 0.0028 - val_accuracy: 0.0000e+00\n",
            "Epoch 74/100\n",
            "10/10 [==============================] - 0s 9ms/step - loss: 0.0028 - accuracy: 0.0196 - val_loss: 0.0028 - val_accuracy: 0.0000e+00\n",
            "Epoch 75/100\n",
            "10/10 [==============================] - 0s 9ms/step - loss: 0.0034 - accuracy: 0.0272 - val_loss: 0.0028 - val_accuracy: 0.0000e+00\n",
            "Epoch 76/100\n",
            "10/10 [==============================] - 0s 10ms/step - loss: 0.0032 - accuracy: 0.0240 - val_loss: 0.0028 - val_accuracy: 0.0000e+00\n",
            "Epoch 77/100\n",
            "10/10 [==============================] - 0s 9ms/step - loss: 0.0029 - accuracy: 0.0151 - val_loss: 0.0027 - val_accuracy: 0.0000e+00\n",
            "Epoch 78/100\n",
            "10/10 [==============================] - 0s 10ms/step - loss: 0.0027 - accuracy: 0.0410 - val_loss: 0.0027 - val_accuracy: 0.0000e+00\n",
            "Epoch 79/100\n",
            "10/10 [==============================] - 0s 8ms/step - loss: 0.0029 - accuracy: 0.0058 - val_loss: 0.0027 - val_accuracy: 0.0000e+00\n",
            "Epoch 80/100\n",
            "10/10 [==============================] - 0s 9ms/step - loss: 0.0027 - accuracy: 0.0151 - val_loss: 0.0027 - val_accuracy: 0.0000e+00\n",
            "Epoch 81/100\n",
            "10/10 [==============================] - 0s 9ms/step - loss: 0.0031 - accuracy: 0.0518 - val_loss: 0.0027 - val_accuracy: 0.0000e+00\n",
            "Epoch 82/100\n",
            "10/10 [==============================] - 0s 9ms/step - loss: 0.0028 - accuracy: 0.0132 - val_loss: 0.0027 - val_accuracy: 0.0000e+00\n",
            "Epoch 83/100\n",
            "10/10 [==============================] - 0s 8ms/step - loss: 0.0024 - accuracy: 0.0240 - val_loss: 0.0026 - val_accuracy: 0.0000e+00\n",
            "Epoch 84/100\n",
            "10/10 [==============================] - 0s 9ms/step - loss: 0.0038 - accuracy: 0.0367 - val_loss: 0.0026 - val_accuracy: 0.0000e+00\n",
            "Epoch 85/100\n",
            "10/10 [==============================] - 0s 10ms/step - loss: 0.0034 - accuracy: 0.0518 - val_loss: 0.0026 - val_accuracy: 0.0000e+00\n",
            "Epoch 86/100\n",
            "10/10 [==============================] - 0s 9ms/step - loss: 0.0031 - accuracy: 0.0688 - val_loss: 0.0026 - val_accuracy: 0.0000e+00\n",
            "Epoch 87/100\n",
            "10/10 [==============================] - 0s 10ms/step - loss: 0.0037 - accuracy: 0.0575 - val_loss: 0.0027 - val_accuracy: 0.0000e+00\n",
            "Epoch 88/100\n",
            "10/10 [==============================] - 0s 9ms/step - loss: 0.0032 - accuracy: 0.0575 - val_loss: 0.0025 - val_accuracy: 0.0000e+00\n",
            "Epoch 89/100\n",
            "10/10 [==============================] - 0s 10ms/step - loss: 0.0029 - accuracy: 0.0338 - val_loss: 0.0026 - val_accuracy: 0.0000e+00\n",
            "Epoch 90/100\n",
            "10/10 [==============================] - 0s 9ms/step - loss: 0.0024 - accuracy: 0.0169 - val_loss: 0.0025 - val_accuracy: 0.0000e+00\n",
            "Epoch 91/100\n",
            "10/10 [==============================] - 0s 9ms/step - loss: 0.0026 - accuracy: 0.0315 - val_loss: 0.0026 - val_accuracy: 0.0000e+00\n",
            "Epoch 92/100\n",
            "10/10 [==============================] - 0s 11ms/step - loss: 0.0028 - accuracy: 0.0296 - val_loss: 0.0026 - val_accuracy: 0.0000e+00\n",
            "Epoch 93/100\n",
            "10/10 [==============================] - 0s 9ms/step - loss: 0.0026 - accuracy: 0.0169 - val_loss: 0.0025 - val_accuracy: 0.0000e+00\n",
            "Epoch 94/100\n",
            "10/10 [==============================] - 0s 9ms/step - loss: 0.0028 - accuracy: 0.0169 - val_loss: 0.0025 - val_accuracy: 0.0000e+00\n",
            "Epoch 95/100\n",
            "10/10 [==============================] - 0s 10ms/step - loss: 0.0026 - accuracy: 0.0120 - val_loss: 0.0025 - val_accuracy: 0.0000e+00\n",
            "Epoch 96/100\n",
            "10/10 [==============================] - 0s 9ms/step - loss: 0.0025 - accuracy: 0.0085 - val_loss: 0.0025 - val_accuracy: 0.0000e+00\n",
            "Epoch 97/100\n",
            "10/10 [==============================] - 0s 10ms/step - loss: 0.0031 - accuracy: 0.0688 - val_loss: 0.0025 - val_accuracy: 0.0000e+00\n",
            "Epoch 98/100\n",
            "10/10 [==============================] - 0s 9ms/step - loss: 0.0026 - accuracy: 0.0223 - val_loss: 0.0024 - val_accuracy: 0.0000e+00\n",
            "Epoch 99/100\n",
            "10/10 [==============================] - 0s 9ms/step - loss: 0.0025 - accuracy: 0.0452 - val_loss: 0.0024 - val_accuracy: 0.0000e+00\n",
            "Epoch 100/100\n",
            "10/10 [==============================] - 0s 9ms/step - loss: 0.0024 - accuracy: 0.0089 - val_loss: 0.0024 - val_accuracy: 0.0000e+00\n"
          ],
          "name": "stdout"
        }
      ]
    },
    {
      "cell_type": "markdown",
      "metadata": {
        "id": "Xjy-G5IaPjSj"
      },
      "source": [
        "### 4) Model Predict"
      ]
    },
    {
      "cell_type": "code",
      "metadata": {
        "id": "0TrXetcrPgbM"
      },
      "source": [
        "y_hat = model_4.predict(X_test)"
      ],
      "execution_count": 25,
      "outputs": []
    },
    {
      "cell_type": "markdown",
      "metadata": {
        "id": "LnhtoHiOPnh-"
      },
      "source": [
        "### 5) 학습 결과 시각화"
      ]
    },
    {
      "cell_type": "code",
      "metadata": {
        "colab": {
          "base_uri": "https://localhost:8080/",
          "height": 265
        },
        "id": "vcUe4u3qPls0",
        "outputId": "9956f292-9f3a-4a83-b92e-da8c8fdd5f83"
      },
      "source": [
        "plt.plot(Hist_4.history['loss']) \n",
        "plt.show()"
      ],
      "execution_count": 26,
      "outputs": [
        {
          "output_type": "display_data",
          "data": {
            "image/png": "[encoded data removed]",
            "text/plain": [
              "<Figure size 432x288 with 1 Axes>"
            ]
          },
          "metadata": {
            "tags": [],
            "needs_background": "light"
          }
        }
      ]
    },
    {
      "cell_type": "code",
      "metadata": {
        "colab": {
          "base_uri": "https://localhost:8080/",
          "height": 265
        },
        "id": "XDE69ae1PsPQ",
        "outputId": "4552e7ec-7a73-43a1-8d5c-6c3c4d9b424c"
      },
      "source": [
        "plt.scatter(range(20), y_hat, c = 'r') \n",
        "plt.scatter(range(20), y_test, c = 'g') \n",
        "plt.show()\n",
        "#학습이 잘 진행됨"
      ],
      "execution_count": 27,
      "outputs": [
        {
          "output_type": "display_data",
          "data": {
            "image/png": "[encoded data removed]",
            "text/plain": [
              "<Figure size 432x288 with 1 Axes>"
            ]
          },
          "metadata": {
            "tags": [],
            "needs_background": "light"
          }
        }
      ]
    },
    {
      "cell_type": "markdown",
      "metadata": {
        "id": "tKyMDetLP3dN"
      },
      "source": [
        "## 4.'return_sequences' Output_Options\n",
        "* 'input_length'에 대한 Sequance 전체를 출력할지 설정 \n",
        "  * 'False' vs. 'True'"
      ]
    },
    {
      "cell_type": "markdown",
      "metadata": {
        "id": "p7zcQ_mPP-wW"
      },
      "source": [
        "### 1) 실습데이터 생성"
      ]
    },
    {
      "cell_type": "code",
      "metadata": {
        "id": "shofBksNPvr7"
      },
      "source": [
        "X = [[[i + j] for i in range(5)] for j in range(100)] \n",
        "y = [i + 5 for i in range(100)]"
      ],
      "execution_count": 28,
      "outputs": []
    },
    {
      "cell_type": "code",
      "metadata": {
        "id": "HPQnD08sQB2k"
      },
      "source": [
        "X = np.array(X, dtype = float) \n",
        "y = np.array(y, dtype = float)"
      ],
      "execution_count": 29,
      "outputs": []
    },
    {
      "cell_type": "code",
      "metadata": {
        "colab": {
          "base_uri": "https://localhost:8080/"
        },
        "id": "yCyUaOJ-QDw3",
        "outputId": "08824524-378c-4fa7-ba2e-4b59c280d3cf"
      },
      "source": [
        "X_train, X_test, y_train, y_test = train_test_split(X, y,\n",
        "                                                    test_size = 0.2, \n",
        "                                                    random_state = 2045)\n",
        "\n",
        "X_train.shape, y_train.shape, X_test.shape, y_test.shape"
      ],
      "execution_count": 30,
      "outputs": [
        {
          "output_type": "execute_result",
          "data": {
            "text/plain": [
              "((80, 5, 1), (80,), (20, 5, 1), (20,))"
            ]
          },
          "metadata": {
            "tags": []
          },
          "execution_count": 30
        }
      ]
    },
    {
      "cell_type": "markdown",
      "metadata": {
        "id": "4rV0CWmwQJad"
      },
      "source": [
        "### 2) 테스트용 Input Data"
      ]
    },
    {
      "cell_type": "code",
      "metadata": {
        "colab": {
          "base_uri": "https://localhost:8080/"
        },
        "id": "Jfon2rl6QHw1",
        "outputId": "eeb5455a-e681-4146-bfd3-2bf646100e7e"
      },
      "source": [
        "X_test[0].reshape(1, 5, 1)"
      ],
      "execution_count": 31,
      "outputs": [
        {
          "output_type": "execute_result",
          "data": {
            "text/plain": [
              "array([[[29.],\n",
              "        [30.],\n",
              "        [31.],\n",
              "        [32.],\n",
              "        [33.]]])"
            ]
          },
          "metadata": {
            "tags": []
          },
          "execution_count": 31
        }
      ]
    },
    {
      "cell_type": "markdown",
      "metadata": {
        "id": "-UdT0BUuQQS7"
      },
      "source": [
        "### 3) False_Option\n",
        "* 마지막 Output만 출력 \n",
        "  * Unit -> 1"
      ]
    },
    {
      "cell_type": "code",
      "metadata": {
        "id": "xBftqQ9AQLzQ"
      },
      "source": [
        "Model_False = models.Sequential() \n",
        "Model_False.add(layers.SimpleRNN(1,\n",
        "                                 input_shape = (5, 1), \n",
        "                                 return_sequences = False))\n",
        "\n",
        "Model_False.compile(loss = 'mse', \n",
        "                    optimizer = 'adam', \n",
        "                    metrics = ['accuracy'])"
      ],
      "execution_count": 32,
      "outputs": []
    },
    {
      "cell_type": "code",
      "metadata": {
        "colab": {
          "base_uri": "https://localhost:8080/"
        },
        "id": "gF4r9CLiSUZV",
        "outputId": "8fdf2255-e542-4ce8-8c68-fb04e9efbee0"
      },
      "source": [
        "Model_False.predict(X_test[0].reshape(1, 5, 1))"
      ],
      "execution_count": 33,
      "outputs": [
        {
          "output_type": "execute_result",
          "data": {
            "text/plain": [
              "array([[-1.]], dtype=float32)"
            ]
          },
          "metadata": {
            "tags": []
          },
          "execution_count": 33
        }
      ]
    },
    {
      "cell_type": "markdown",
      "metadata": {
        "id": "xq5bClU_Qehu"
      },
      "source": [
        "* 마지막 Output만 출력 \n",
        "  * Unit -> 3"
      ]
    },
    {
      "cell_type": "code",
      "metadata": {
        "id": "fQTAdAEPQc-2"
      },
      "source": [
        "Model_False = models.Sequential() \n",
        "Model_False.add(layers.SimpleRNN(3,\n",
        "                                 input_shape = (5, 1), \n",
        "                                 return_sequences = False))\n",
        "\n",
        "Model_False.compile(loss = 'mse', \n",
        "                    optimizer = 'adam', \n",
        "                    metrics = ['accuracy'])"
      ],
      "execution_count": 34,
      "outputs": []
    },
    {
      "cell_type": "code",
      "metadata": {
        "colab": {
          "base_uri": "https://localhost:8080/"
        },
        "id": "tfSMu-0RQn8C",
        "outputId": "b7c92e2e-44a7-4491-a94e-a36a77e269f8"
      },
      "source": [
        "Model_False.predict(X_test[0].reshape(1, 5, 1))"
      ],
      "execution_count": 41,
      "outputs": [
        {
          "output_type": "execute_result",
          "data": {
            "text/plain": [
              "array([[-1.,  1., -1.]], dtype=float32)"
            ]
          },
          "metadata": {
            "tags": []
          },
          "execution_count": 41
        }
      ]
    },
    {
      "cell_type": "markdown",
      "metadata": {
        "id": "ziRqJHEwQtzR"
      },
      "source": [
        "### 4) True_Option\n",
        "* 매 순환마다 Output 출력 \n",
        "  * Unit -> 1\n",
        "  * input_length -> 5"
      ]
    },
    {
      "cell_type": "code",
      "metadata": {
        "id": "g655Dc_rQpoF"
      },
      "source": [
        "Model_True = models.Sequential() \n",
        "Model_True.add(layers.SimpleRNN(1,\n",
        "                                input_shape = (5, 1), \n",
        "                                return_sequences = True))\n",
        "\n",
        "Model_True.compile(loss = 'mse', \n",
        "                   optimizer = 'adam',\n",
        "                   metrics = ['accuracy'])"
      ],
      "execution_count": 36,
      "outputs": []
    },
    {
      "cell_type": "code",
      "metadata": {
        "colab": {
          "base_uri": "https://localhost:8080/"
        },
        "id": "cLWTVYHLQ8ir",
        "outputId": "d59e1aa5-1d82-4f26-9dc4-efe5284068ab"
      },
      "source": [
        "Model_True.predict(X_test[0].reshape(1, 5, 1))"
      ],
      "execution_count": 37,
      "outputs": [
        {
          "output_type": "stream",
          "text": [
            "WARNING:tensorflow:6 out of the last 6 calls to <function Model.make_predict_function.<locals>.predict_function at 0x7fbc26ce5a70> triggered tf.function retracing. Tracing is expensive and the excessive number of tracings could be due to (1) creating @tf.function repeatedly in a loop, (2) passing tensors with different shapes, (3) passing Python objects instead of tensors. For (1), please define your @tf.function outside of the loop. For (2), @tf.function has experimental_relax_shapes=True option that relaxes argument shapes that can avoid unnecessary retracing. For (3), please refer to https://www.tensorflow.org/guide/function#controlling_retracing and https://www.tensorflow.org/api_docs/python/tf/function for  more details.\n"
          ],
          "name": "stdout"
        },
        {
          "output_type": "execute_result",
          "data": {
            "text/plain": [
              "array([[[1.],\n",
              "        [1.],\n",
              "        [1.],\n",
              "        [1.],\n",
              "        [1.]]], dtype=float32)"
            ]
          },
          "metadata": {
            "tags": []
          },
          "execution_count": 37
        }
      ]
    },
    {
      "cell_type": "markdown",
      "metadata": {
        "id": "15tdaasbRDDP"
      },
      "source": [
        "* 매 순환마다 Output만 출력 \n",
        "  * Unit -> 3\n",
        "  * input_length -> 5"
      ]
    },
    {
      "cell_type": "code",
      "metadata": {
        "id": "7jCm2qacRAZ2"
      },
      "source": [
        "Model_True = models.Sequential() \n",
        "Model_True.add(layers.SimpleRNN(3,\n",
        "                                input_shape = (5, 1), \n",
        "                                return_sequences = True))\n",
        "\n",
        "Model_True.compile(loss = 'mse', \n",
        "                   optimizer = 'adam', \n",
        "                   metrics = ['accuracy'])"
      ],
      "execution_count": 38,
      "outputs": []
    },
    {
      "cell_type": "code",
      "metadata": {
        "colab": {
          "base_uri": "https://localhost:8080/"
        },
        "id": "c4hzR2W0RMbZ",
        "outputId": "58925e75-59ae-4984-8ece-ad6a86097cbc"
      },
      "source": [
        "Model_True.predict(X_test[0].reshape(1, 5, 1))"
      ],
      "execution_count": 39,
      "outputs": [
        {
          "output_type": "stream",
          "text": [
            "WARNING:tensorflow:7 out of the last 7 calls to <function Model.make_predict_function.<locals>.predict_function at 0x7fbc24b9fdd0> triggered tf.function retracing. Tracing is expensive and the excessive number of tracings could be due to (1) creating @tf.function repeatedly in a loop, (2) passing tensors with different shapes, (3) passing Python objects instead of tensors. For (1), please define your @tf.function outside of the loop. For (2), @tf.function has experimental_relax_shapes=True option that relaxes argument shapes that can avoid unnecessary retracing. For (3), please refer to https://www.tensorflow.org/guide/function#controlling_retracing and https://www.tensorflow.org/api_docs/python/tf/function for  more details.\n"
          ],
          "name": "stdout"
        },
        {
          "output_type": "execute_result",
          "data": {
            "text/plain": [
              "array([[[1.        , 0.4845507 , 1.        ],\n",
              "        [1.        , 0.91474825, 1.        ],\n",
              "        [1.        , 0.9329308 , 1.        ],\n",
              "        [1.        , 0.93581676, 1.        ],\n",
              "        [1.        , 0.93813014, 1.        ]]], dtype=float32)"
            ]
          },
          "metadata": {
            "tags": []
          },
          "execution_count": 39
        }
      ]
    },
    {
      "cell_type": "markdown",
      "metadata": {
        "id": "2QUBvgi_RRi0"
      },
      "source": [
        "본 내용은 2021/03/25(목)에 학습한 내용입니다."
      ]
    }
  ]
}
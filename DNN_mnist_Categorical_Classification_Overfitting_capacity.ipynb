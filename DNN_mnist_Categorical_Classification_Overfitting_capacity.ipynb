{
  "nbformat": 4,
  "nbformat_minor": 0,
  "metadata": {
    "colab": {
      "name": "DNN_mnist_Categorical_Classification_Overfitting_capacity.ipynb",
      "provenance": [],
      "collapsed_sections": [],
      "authorship_tag": "ABX9TyMMrU6/yUVUtvKtGXAJlkMw",
      "include_colab_link": true
    },
    "kernelspec": {
      "name": "python3",
      "display_name": "Python 3"
    },
    "language_info": {
      "name": "python"
    },
    "accelerator": "GPU"
  },
  "cells": [
    {
      "cell_type": "markdown",
      "metadata": {
        "id": "view-in-github",
        "colab_type": "text"
      },
      "source": [
        "<a href=\"https://colab.research.google.com/github/jungmin0710/K-digital-PythonDeepLearning/blob/main/DNN_mnist_Categorical_Classification_Overfitting_capacity.ipynb\" target=\"_parent\"><img src=\"https://colab.research.google.com/assets/colab-badge.svg\" alt=\"Open In Colab\"/></a>"
      ]
    },
    {
      "cell_type": "markdown",
      "metadata": {
        "id": "RPif9R491-aS"
      },
      "source": [
        "# MNIST - Categorical Classification\n",
        "* 다중분류 + Overfitting Issue\n",
        "* Model Capacity를 감소시켜 overfitting 해결\n",
        "* Hidden layer 및 Node 개수 줄이기\n",
        "## 0. Import Tensorflow & Keras"
      ]
    },
    {
      "cell_type": "code",
      "metadata": {
        "id": "ME78yNgL13Xf"
      },
      "source": [
        "import warnings\n",
        "warnings.filterwarnings('ignore')"
      ],
      "execution_count": 1,
      "outputs": []
    },
    {
      "cell_type": "markdown",
      "metadata": {
        "id": "nyQMVSxG2N4G"
      },
      "source": [
        "* import Tensorflow"
      ]
    },
    {
      "cell_type": "code",
      "metadata": {
        "colab": {
          "base_uri": "https://localhost:8080/",
          "height": 35
        },
        "id": "oGRHzs6_2NBb",
        "outputId": "d91c19ba-6e4d-4e92-ba11-85e0c37bb1c3"
      },
      "source": [
        "import tensorflow as tf\n",
        "\n",
        "tf.__version__ "
      ],
      "execution_count": 2,
      "outputs": [
        {
          "output_type": "execute_result",
          "data": {
            "application/vnd.google.colaboratory.intrinsic+json": {
              "type": "string"
            },
            "text/plain": [
              "'2.4.1'"
            ]
          },
          "metadata": {
            "tags": []
          },
          "execution_count": 2
        }
      ]
    },
    {
      "cell_type": "markdown",
      "metadata": {
        "id": "e72BvXOL2Wok"
      },
      "source": [
        "* GPU 설정 확인"
      ]
    },
    {
      "cell_type": "code",
      "metadata": {
        "colab": {
          "base_uri": "https://localhost:8080/",
          "height": 35
        },
        "id": "UGSRP3Jm2SyN",
        "outputId": "6bf3f81d-1695-4b0c-9ffe-51f321225bde"
      },
      "source": [
        "tf.test.gpu_device_name()"
      ],
      "execution_count": 3,
      "outputs": [
        {
          "output_type": "execute_result",
          "data": {
            "application/vnd.google.colaboratory.intrinsic+json": {
              "type": "string"
            },
            "text/plain": [
              "'/device:GPU:0'"
            ]
          },
          "metadata": {
            "tags": []
          },
          "execution_count": 3
        }
      ]
    },
    {
      "cell_type": "markdown",
      "metadata": {
        "id": "BpoI5w782i7i"
      },
      "source": [
        "* Import Keras"
      ]
    },
    {
      "cell_type": "code",
      "metadata": {
        "colab": {
          "base_uri": "https://localhost:8080/",
          "height": 35
        },
        "id": "uQqFNB442UlG",
        "outputId": "c1c5da55-9ca3-411d-814b-b8e4c908a4af"
      },
      "source": [
        "import keras\n",
        "keras.__version__"
      ],
      "execution_count": 4,
      "outputs": [
        {
          "output_type": "execute_result",
          "data": {
            "application/vnd.google.colaboratory.intrinsic+json": {
              "type": "string"
            },
            "text/plain": [
              "'2.4.3'"
            ]
          },
          "metadata": {
            "tags": []
          },
          "execution_count": 4
        }
      ]
    },
    {
      "cell_type": "markdown",
      "metadata": {
        "id": "QpvxqSPf2nbD"
      },
      "source": [
        "## 1.MNIST Data_Set Load & Review\n",
        "### 1)Load MNIST_Data_Set"
      ]
    },
    {
      "cell_type": "code",
      "metadata": {
        "id": "LXQIbNvq2mNw",
        "colab": {
          "base_uri": "https://localhost:8080/"
        },
        "outputId": "efda8bd9-54e3-48a0-c23d-d6dcd91bce7b"
      },
      "source": [
        "from keras.datasets import mnist\n",
        "\n",
        "(X_train, y_train), (X_test, y_test) = mnist.load_data()"
      ],
      "execution_count": 5,
      "outputs": [
        {
          "output_type": "stream",
          "text": [
            "Downloading data from https://storage.googleapis.com/tensorflow/tf-keras-datasets/mnist.npz\n",
            "11493376/11490434 [==============================] - 0s 0us/step\n"
          ],
          "name": "stdout"
        }
      ]
    },
    {
      "cell_type": "markdown",
      "metadata": {
        "id": "mv1TcvlY3A-C"
      },
      "source": [
        "* Train_Data Information"
      ]
    },
    {
      "cell_type": "code",
      "metadata": {
        "colab": {
          "base_uri": "https://localhost:8080/"
        },
        "id": "x_oe8wva23sh",
        "outputId": "9b0c12fb-117e-41f0-86e7-4f5faf51807d"
      },
      "source": [
        "print(len(X_train))\n",
        "print(X_train.shape)\n",
        "print(len(y_train))\n",
        "print(y_train[0:5])"
      ],
      "execution_count": 6,
      "outputs": [
        {
          "output_type": "stream",
          "text": [
            "60000\n",
            "(60000, 28, 28)\n",
            "60000\n",
            "[5 0 4 1 9]\n"
          ],
          "name": "stdout"
        }
      ]
    },
    {
      "cell_type": "markdown",
      "metadata": {
        "id": "av1K6Lug3PJ3"
      },
      "source": [
        "* Test_Data Information"
      ]
    },
    {
      "cell_type": "code",
      "metadata": {
        "colab": {
          "base_uri": "https://localhost:8080/"
        },
        "id": "r8dIdUqQ3LpB",
        "outputId": "ebfa8559-cf28-4f72-eb22-2d7032f854c9"
      },
      "source": [
        "print(len(X_test))\n",
        "print(X_test.shape)\n",
        "print(len(y_test))\n",
        "print(y_test[0:5])"
      ],
      "execution_count": 7,
      "outputs": [
        {
          "output_type": "stream",
          "text": [
            "10000\n",
            "(10000, 28, 28)\n",
            "10000\n",
            "[7 2 1 0 4]\n"
          ],
          "name": "stdout"
        }
      ]
    },
    {
      "cell_type": "markdown",
      "metadata": {
        "id": "sHMMSmV53Z5v"
      },
      "source": [
        "### 2)Visualization"
      ]
    },
    {
      "cell_type": "code",
      "metadata": {
        "colab": {
          "base_uri": "https://localhost:8080/",
          "height": 265
        },
        "id": "s_S8W7OC3W5A",
        "outputId": "7c7516a3-4f67-48af-9a07-06029532c59c"
      },
      "source": [
        "import matplotlib.pyplot as plt\n",
        "\n",
        "digit = X_train[4]\n",
        "plt.imshow(digit, cmap = 'gray')\n",
        "plt.show()"
      ],
      "execution_count": 8,
      "outputs": [
        {
          "output_type": "display_data",
          "data": {
            "image/png": "[encoded data removed]",
            "text/plain": [
              "<Figure size 432x288 with 1 Axes>"
            ]
          },
          "metadata": {
            "tags": [],
            "needs_background": "light"
          }
        }
      ]
    },
    {
      "cell_type": "code",
      "metadata": {
        "colab": {
          "base_uri": "https://localhost:8080/"
        },
        "id": "K8POsbvo3hVs",
        "outputId": "9b9e63bc-9e62-4c09-838b-b5741ca840cb"
      },
      "source": [
        "import numpy as np\n",
        "\n",
        "np.set_printoptions(linewidth = 150)\n",
        "\n",
        "print(X_train[4])"
      ],
      "execution_count": 9,
      "outputs": [
        {
          "output_type": "stream",
          "text": [
            "[[  0   0   0   0   0   0   0   0   0   0   0   0   0   0   0   0   0   0   0   0   0   0   0   0   0   0   0   0]\n",
            " [  0   0   0   0   0   0   0   0   0   0   0   0   0   0   0   0   0   0   0   0   0   0   0   0   0   0   0   0]\n",
            " [  0   0   0   0   0   0   0   0   0   0   0   0   0   0   0   0   0   0   0   0   0   0   0   0   0   0   0   0]\n",
            " [  0   0   0   0   0   0   0   0   0   0   0   0   0   0   0   0   0   0   0   0   0   0   0   0   0   0   0   0]\n",
            " [  0   0   0   0   0   0   0   0   0   0   0   0   0   0   0   0   0   0   0   0   0   0   0   0   0   0   0   0]\n",
            " [  0   0   0   0   0   0   0   0   0   0   0   0   0   0   0   0   0   0   0   0   0   0   0   0   0   0   0   0]\n",
            " [  0   0   0   0   0   0   0   0   0   0   0   0   0   0   0   0   0   0   0   0   0   0   0   0   0   0   0   0]\n",
            " [  0   0   0   0   0   0   0   0   0   0   0   0  55 148 210 253 253 113  87 148  55   0   0   0   0   0   0   0]\n",
            " [  0   0   0   0   0   0   0   0   0   0   0  87 232 252 253 189 210 252 252 253 168   0   0   0   0   0   0   0]\n",
            " [  0   0   0   0   0   0   0   0   0   4  57 242 252 190  65   5  12 182 252 253 116   0   0   0   0   0   0   0]\n",
            " [  0   0   0   0   0   0   0   0   0  96 252 252 183  14   0   0  92 252 252 225  21   0   0   0   0   0   0   0]\n",
            " [  0   0   0   0   0   0   0   0 132 253 252 146  14   0   0   0 215 252 252  79   0   0   0   0   0   0   0   0]\n",
            " [  0   0   0   0   0   0   0 126 253 247 176   9   0   0   8  78 245 253 129   0   0   0   0   0   0   0   0   0]\n",
            " [  0   0   0   0   0   0  16 232 252 176   0   0   0  36 201 252 252 169  11   0   0   0   0   0   0   0   0   0]\n",
            " [  0   0   0   0   0   0  22 252 252  30  22 119 197 241 253 252 251  77   0   0   0   0   0   0   0   0   0   0]\n",
            " [  0   0   0   0   0   0  16 231 252 253 252 252 252 226 227 252 231   0   0   0   0   0   0   0   0   0   0   0]\n",
            " [  0   0   0   0   0   0   0  55 235 253 217 138  42  24 192 252 143   0   0   0   0   0   0   0   0   0   0   0]\n",
            " [  0   0   0   0   0   0   0   0   0   0   0   0   0  62 255 253 109   0   0   0   0   0   0   0   0   0   0   0]\n",
            " [  0   0   0   0   0   0   0   0   0   0   0   0   0  71 253 252  21   0   0   0   0   0   0   0   0   0   0   0]\n",
            " [  0   0   0   0   0   0   0   0   0   0   0   0   0   0 253 252  21   0   0   0   0   0   0   0   0   0   0   0]\n",
            " [  0   0   0   0   0   0   0   0   0   0   0   0   0  71 253 252  21   0   0   0   0   0   0   0   0   0   0   0]\n",
            " [  0   0   0   0   0   0   0   0   0   0   0   0   0 106 253 252  21   0   0   0   0   0   0   0   0   0   0   0]\n",
            " [  0   0   0   0   0   0   0   0   0   0   0   0   0  45 255 253  21   0   0   0   0   0   0   0   0   0   0   0]\n",
            " [  0   0   0   0   0   0   0   0   0   0   0   0   0   0 218 252  56   0   0   0   0   0   0   0   0   0   0   0]\n",
            " [  0   0   0   0   0   0   0   0   0   0   0   0   0   0  96 252 189  42   0   0   0   0   0   0   0   0   0   0]\n",
            " [  0   0   0   0   0   0   0   0   0   0   0   0   0   0  14 184 252 170  11   0   0   0   0   0   0   0   0   0]\n",
            " [  0   0   0   0   0   0   0   0   0   0   0   0   0   0   0  14 147 252  42   0   0   0   0   0   0   0   0   0]\n",
            " [  0   0   0   0   0   0   0   0   0   0   0   0   0   0   0   0   0   0   0   0   0   0   0   0   0   0   0   0]]\n"
          ],
          "name": "stdout"
        }
      ]
    },
    {
      "cell_type": "markdown",
      "metadata": {
        "id": "NVhIEgT831Ah"
      },
      "source": [
        "## 2.Data Preprocessing\n",
        "### 1)Reshape and Normalization\n",
        "* reshape\n",
        "  * (60000, 28, 28) to (60000, 784)"
      ]
    },
    {
      "cell_type": "code",
      "metadata": {
        "colab": {
          "base_uri": "https://localhost:8080/"
        },
        "id": "iRSjQn9t3yeo",
        "outputId": "5edf4e1a-7c8b-4523-ac4a-827ca19fc649"
      },
      "source": [
        "#한줄로 쭉 펴준다\n",
        "X_train = X_train.reshape((60000, 28 * 28))\n",
        "X_test = X_test.reshape((10000, 28 * 28))\n",
        "\n",
        "X_train.shape, X_test.shape"
      ],
      "execution_count": 10,
      "outputs": [
        {
          "output_type": "execute_result",
          "data": {
            "text/plain": [
              "((60000, 784), (10000, 784))"
            ]
          },
          "metadata": {
            "tags": []
          },
          "execution_count": 10
        }
      ]
    },
    {
      "cell_type": "markdown",
      "metadata": {
        "id": "5fJTF8b64WDg"
      },
      "source": [
        "* Normalization"
      ]
    },
    {
      "cell_type": "code",
      "metadata": {
        "colab": {
          "base_uri": "https://localhost:8080/"
        },
        "id": "bFERRefZ4PG7",
        "outputId": "d8f0c4a6-f445-4df6-c088-ea12798b6373"
      },
      "source": [
        "X_train = X_train.astype(float) / 255\n",
        "X_test = X_test.astype(float) / 255\n",
        "\n",
        "print(X_train[4])"
      ],
      "execution_count": 11,
      "outputs": [
        {
          "output_type": "stream",
          "text": [
            "[0.         0.         0.         0.         0.         0.         0.         0.         0.         0.         0.         0.         0.\n",
            " 0.         0.         0.         0.         0.         0.         0.         0.         0.         0.         0.         0.         0.\n",
            " 0.         0.         0.         0.         0.         0.         0.         0.         0.         0.         0.         0.         0.\n",
            " 0.         0.         0.         0.         0.         0.         0.         0.         0.         0.         0.         0.         0.\n",
            " 0.         0.         0.         0.         0.         0.         0.         0.         0.         0.         0.         0.         0.\n",
            " 0.         0.         0.         0.         0.         0.         0.         0.         0.         0.         0.         0.         0.\n",
            " 0.         0.         0.         0.         0.         0.         0.         0.         0.         0.         0.         0.         0.\n",
            " 0.         0.         0.         0.         0.         0.         0.         0.         0.         0.         0.         0.         0.\n",
            " 0.         0.         0.         0.         0.         0.         0.         0.         0.         0.         0.         0.         0.\n",
            " 0.         0.         0.         0.         0.         0.         0.         0.         0.         0.         0.         0.         0.\n",
            " 0.         0.         0.         0.         0.         0.         0.         0.         0.         0.         0.         0.         0.\n",
            " 0.         0.         0.         0.         0.         0.         0.         0.         0.         0.         0.         0.         0.\n",
            " 0.         0.         0.         0.         0.         0.         0.         0.         0.         0.         0.         0.         0.\n",
            " 0.         0.         0.         0.         0.         0.         0.         0.         0.         0.         0.         0.         0.\n",
            " 0.         0.         0.         0.         0.         0.         0.         0.         0.         0.         0.         0.         0.\n",
            " 0.         0.         0.         0.         0.         0.         0.         0.         0.         0.         0.         0.         0.\n",
            " 0.21568627 0.58039216 0.82352941 0.99215686 0.99215686 0.44313725 0.34117647 0.58039216 0.21568627 0.         0.         0.         0.\n",
            " 0.         0.         0.         0.         0.         0.         0.         0.         0.         0.         0.         0.         0.\n",
            " 0.         0.34117647 0.90980392 0.98823529 0.99215686 0.74117647 0.82352941 0.98823529 0.98823529 0.99215686 0.65882353 0.         0.\n",
            " 0.         0.         0.         0.         0.         0.         0.         0.         0.         0.         0.         0.         0.\n",
            " 0.         0.01568627 0.22352941 0.94901961 0.98823529 0.74509804 0.25490196 0.01960784 0.04705882 0.71372549 0.98823529 0.99215686 0.45490196\n",
            " 0.         0.         0.         0.         0.         0.         0.         0.         0.         0.         0.         0.         0.\n",
            " 0.         0.         0.         0.37647059 0.98823529 0.98823529 0.71764706 0.05490196 0.         0.         0.36078431 0.98823529 0.98823529\n",
            " 0.88235294 0.08235294 0.         0.         0.         0.         0.         0.         0.         0.         0.         0.         0.\n",
            " 0.         0.         0.         0.         0.51764706 0.99215686 0.98823529 0.57254902 0.05490196 0.         0.         0.         0.84313725\n",
            " 0.98823529 0.98823529 0.30980392 0.         0.         0.         0.         0.         0.         0.         0.         0.         0.\n",
            " 0.         0.         0.         0.         0.         0.49411765 0.99215686 0.96862745 0.69019608 0.03529412 0.         0.         0.03137255\n",
            " 0.30588235 0.96078431 0.99215686 0.50588235 0.         0.         0.         0.         0.         0.         0.         0.         0.\n",
            " 0.         0.         0.         0.         0.         0.         0.0627451  0.90980392 0.98823529 0.69019608 0.         0.         0.\n",
            " 0.14117647 0.78823529 0.98823529 0.98823529 0.6627451  0.04313725 0.         0.         0.         0.         0.         0.         0.\n",
            " 0.         0.         0.         0.         0.         0.         0.         0.         0.08627451 0.98823529 0.98823529 0.11764706 0.08627451\n",
            " 0.46666667 0.77254902 0.94509804 0.99215686 0.98823529 0.98431373 0.30196078 0.         0.         0.         0.         0.         0.\n",
            " 0.         0.         0.         0.         0.         0.         0.         0.         0.         0.         0.0627451  0.90588235 0.98823529\n",
            " 0.99215686 0.98823529 0.98823529 0.98823529 0.88627451 0.89019608 0.98823529 0.90588235 0.         0.         0.         0.         0.\n",
            " 0.         0.         0.         0.         0.         0.         0.         0.         0.         0.         0.         0.         0.\n",
            " 0.21568627 0.92156863 0.99215686 0.85098039 0.54117647 0.16470588 0.09411765 0.75294118 0.98823529 0.56078431 0.         0.         0.\n",
            " 0.         0.         0.         0.         0.         0.         0.         0.         0.         0.         0.         0.         0.\n",
            " 0.         0.         0.         0.         0.         0.         0.         0.         0.24313725 1.         0.99215686 0.42745098 0.\n",
            " 0.         0.         0.         0.         0.         0.         0.         0.         0.         0.         0.         0.         0.\n",
            " 0.         0.         0.         0.         0.         0.         0.         0.         0.         0.         0.27843137 0.99215686 0.98823529\n",
            " 0.08235294 0.         0.         0.         0.         0.         0.         0.         0.         0.         0.         0.         0.\n",
            " 0.         0.         0.         0.         0.         0.         0.         0.         0.         0.         0.         0.         0.\n",
            " 0.99215686 0.98823529 0.08235294 0.         0.         0.         0.         0.         0.         0.         0.         0.         0.\n",
            " 0.         0.         0.         0.         0.         0.         0.         0.         0.         0.         0.         0.         0.\n",
            " 0.         0.27843137 0.99215686 0.98823529 0.08235294 0.         0.         0.         0.         0.         0.         0.         0.\n",
            " 0.         0.         0.         0.         0.         0.         0.         0.         0.         0.         0.         0.         0.\n",
            " 0.         0.         0.         0.41568627 0.99215686 0.98823529 0.08235294 0.         0.         0.         0.         0.         0.\n",
            " 0.         0.         0.         0.         0.         0.         0.         0.         0.         0.         0.         0.         0.\n",
            " 0.         0.         0.         0.         0.         0.17647059 1.         0.99215686 0.08235294 0.         0.         0.         0.\n",
            " 0.         0.         0.         0.         0.         0.         0.         0.         0.         0.         0.         0.         0.\n",
            " 0.         0.         0.         0.         0.         0.         0.         0.         0.85490196 0.98823529 0.21960784 0.         0.\n",
            " 0.         0.         0.         0.         0.         0.         0.         0.         0.         0.         0.         0.         0.\n",
            " 0.         0.         0.         0.         0.         0.         0.         0.         0.         0.         0.37647059 0.98823529 0.74117647\n",
            " 0.16470588 0.         0.         0.         0.         0.         0.         0.         0.         0.         0.         0.         0.\n",
            " 0.         0.         0.         0.         0.         0.         0.         0.         0.         0.         0.         0.         0.05490196\n",
            " 0.72156863 0.98823529 0.66666667 0.04313725 0.         0.         0.         0.         0.         0.         0.         0.         0.\n",
            " 0.         0.         0.         0.         0.         0.         0.         0.         0.         0.         0.         0.         0.\n",
            " 0.         0.         0.05490196 0.57647059 0.98823529 0.16470588 0.         0.         0.         0.         0.         0.         0.\n",
            " 0.         0.         0.         0.         0.         0.         0.         0.         0.         0.         0.         0.         0.\n",
            " 0.         0.         0.         0.         0.         0.         0.         0.         0.         0.         0.         0.         0.\n",
            " 0.         0.         0.         0.        ]\n"
          ],
          "name": "stdout"
        }
      ]
    },
    {
      "cell_type": "markdown",
      "metadata": {
        "id": "2smwfSor4jSM"
      },
      "source": [
        "### 2)One Hot Encoding"
      ]
    },
    {
      "cell_type": "code",
      "metadata": {
        "colab": {
          "base_uri": "https://localhost:8080/"
        },
        "id": "7A7rMhl54dlR",
        "outputId": "26f859c6-d26b-4928-d3dc-2aee6b18d184"
      },
      "source": [
        "from keras.utils import to_categorical\n",
        "\n",
        "y_train = to_categorical(y_train)\n",
        "y_test = to_categorical(y_test)\n",
        "\n",
        "print(y_train[:5])"
      ],
      "execution_count": 12,
      "outputs": [
        {
          "output_type": "stream",
          "text": [
            "[[0. 0. 0. 0. 0. 1. 0. 0. 0. 0.]\n",
            " [1. 0. 0. 0. 0. 0. 0. 0. 0. 0.]\n",
            " [0. 0. 0. 0. 1. 0. 0. 0. 0. 0.]\n",
            " [0. 1. 0. 0. 0. 0. 0. 0. 0. 0.]\n",
            " [0. 0. 0. 0. 0. 0. 0. 0. 0. 1.]]\n"
          ],
          "name": "stdout"
        }
      ]
    },
    {
      "cell_type": "markdown",
      "metadata": {
        "id": "QmHwT9gn5Gfo"
      },
      "source": [
        "## 3.MNIST Keras Modeling\n",
        "### 1)Model Define\n",
        "* 모델 신경망 구조 정의\n",
        "  * 2개의 Hidden Layers & 768개의 Nodes에서 1개의 Hidden Layers & 256개의 Nodes로 변경\n",
        "  * 복잡한 Model Capacity로 인한 Overfitting을 해결하고자 함"
      ]
    },
    {
      "cell_type": "code",
      "metadata": {
        "id": "_kzp48sL4t79"
      },
      "source": [
        "from keras import models\n",
        "from keras import layers\n",
        "\n",
        "#기존보다 layer를 한 층 줄이고, 첫 단계의 노드를 512=>256으로 변경 \n",
        "mnist = models.Sequential()\n",
        "mnist.add(layers.Dense(256, activation = 'relu', input_shape = (28 * 28,)))\n",
        "mnist.add(layers.Dense(10, activation = 'softmax'))"
      ],
      "execution_count": 13,
      "outputs": []
    },
    {
      "cell_type": "markdown",
      "metadata": {
        "id": "ad2SBreP5zPO"
      },
      "source": [
        "* 모델 구조 확인"
      ]
    },
    {
      "cell_type": "code",
      "metadata": {
        "colab": {
          "base_uri": "https://localhost:8080/"
        },
        "id": "oiQR7i_x5XXd",
        "outputId": "cc6b305d-b8ac-4594-d75d-a5b0b2562dc7"
      },
      "source": [
        "mnist.summary()"
      ],
      "execution_count": 14,
      "outputs": [
        {
          "output_type": "stream",
          "text": [
            "Model: \"sequential\"\n",
            "_________________________________________________________________\n",
            "Layer (type)                 Output Shape              Param #   \n",
            "=================================================================\n",
            "dense (Dense)                (None, 256)               200960    \n",
            "_________________________________________________________________\n",
            "dense_1 (Dense)              (None, 10)                2570      \n",
            "=================================================================\n",
            "Total params: 203,530\n",
            "Trainable params: 203,530\n",
            "Non-trainable params: 0\n",
            "_________________________________________________________________\n"
          ],
          "name": "stdout"
        }
      ]
    },
    {
      "cell_type": "markdown",
      "metadata": {
        "id": "t-5xfoRX55L3"
      },
      "source": [
        "### 2)Model Compile\n",
        "* 모델 학습방법 설정"
      ]
    },
    {
      "cell_type": "code",
      "metadata": {
        "id": "TxStfclx51G5"
      },
      "source": [
        "mnist.compile(loss = 'categorical_crossentropy',\n",
        "              optimizer = 'rmsprop',\n",
        "              metrics = ['accuracy'])"
      ],
      "execution_count": 15,
      "outputs": []
    },
    {
      "cell_type": "markdown",
      "metadata": {
        "id": "sb9suqV-6GDN"
      },
      "source": [
        "### 3)Model Fit\n",
        "* 약 3분"
      ]
    },
    {
      "cell_type": "code",
      "metadata": {
        "colab": {
          "base_uri": "https://localhost:8080/"
        },
        "id": "fzzDXAk36E0Y",
        "outputId": "fcb5da67-6c46-4234-c833-ba3f244b5a52"
      },
      "source": [
        "%%time\n",
        "\n",
        "Hist_mnist = mnist.fit(X_train, y_train,\n",
        "                       epochs = 100,\n",
        "                       batch_size = 128,\n",
        "                       validation_split = 0.2)"
      ],
      "execution_count": 16,
      "outputs": [
        {
          "output_type": "stream",
          "text": [
            "Epoch 1/100\n",
            "375/375 [==============================] - 4s 4ms/step - loss: 0.5166 - accuracy: 0.8569 - val_loss: 0.1846 - val_accuracy: 0.9470\n",
            "Epoch 2/100\n",
            "375/375 [==============================] - 1s 3ms/step - loss: 0.1558 - accuracy: 0.9562 - val_loss: 0.1222 - val_accuracy: 0.9649\n",
            "Epoch 3/100\n",
            "375/375 [==============================] - 1s 3ms/step - loss: 0.1045 - accuracy: 0.9697 - val_loss: 0.1063 - val_accuracy: 0.9703\n",
            "Epoch 4/100\n",
            "375/375 [==============================] - 1s 3ms/step - loss: 0.0732 - accuracy: 0.9785 - val_loss: 0.0911 - val_accuracy: 0.9731\n",
            "Epoch 5/100\n",
            "375/375 [==============================] - 1s 3ms/step - loss: 0.0575 - accuracy: 0.9838 - val_loss: 0.0892 - val_accuracy: 0.9735\n",
            "Epoch 6/100\n",
            "375/375 [==============================] - 1s 3ms/step - loss: 0.0453 - accuracy: 0.9868 - val_loss: 0.0831 - val_accuracy: 0.9762\n",
            "Epoch 7/100\n",
            "375/375 [==============================] - 1s 3ms/step - loss: 0.0382 - accuracy: 0.9890 - val_loss: 0.0882 - val_accuracy: 0.9742\n",
            "Epoch 8/100\n",
            "375/375 [==============================] - 1s 3ms/step - loss: 0.0281 - accuracy: 0.9927 - val_loss: 0.0819 - val_accuracy: 0.9773\n",
            "Epoch 9/100\n",
            "375/375 [==============================] - 1s 3ms/step - loss: 0.0237 - accuracy: 0.9931 - val_loss: 0.0825 - val_accuracy: 0.9767\n",
            "Epoch 10/100\n",
            "375/375 [==============================] - 1s 3ms/step - loss: 0.0178 - accuracy: 0.9953 - val_loss: 0.0854 - val_accuracy: 0.9777\n",
            "Epoch 11/100\n",
            "375/375 [==============================] - 1s 3ms/step - loss: 0.0139 - accuracy: 0.9968 - val_loss: 0.0924 - val_accuracy: 0.9768\n",
            "Epoch 12/100\n",
            "375/375 [==============================] - 1s 3ms/step - loss: 0.0111 - accuracy: 0.9974 - val_loss: 0.0975 - val_accuracy: 0.9772\n",
            "Epoch 13/100\n",
            "375/375 [==============================] - 1s 3ms/step - loss: 0.0093 - accuracy: 0.9978 - val_loss: 0.0874 - val_accuracy: 0.9790\n",
            "Epoch 14/100\n",
            "375/375 [==============================] - 1s 3ms/step - loss: 0.0084 - accuracy: 0.9985 - val_loss: 0.0996 - val_accuracy: 0.9777\n",
            "Epoch 15/100\n",
            "375/375 [==============================] - 1s 3ms/step - loss: 0.0056 - accuracy: 0.9989 - val_loss: 0.0970 - val_accuracy: 0.9777\n",
            "Epoch 16/100\n",
            "375/375 [==============================] - 1s 3ms/step - loss: 0.0055 - accuracy: 0.9986 - val_loss: 0.1034 - val_accuracy: 0.9770\n",
            "Epoch 17/100\n",
            "375/375 [==============================] - 1s 3ms/step - loss: 0.0039 - accuracy: 0.9993 - val_loss: 0.1010 - val_accuracy: 0.9794\n",
            "Epoch 18/100\n",
            "375/375 [==============================] - 1s 3ms/step - loss: 0.0029 - accuracy: 0.9994 - val_loss: 0.1045 - val_accuracy: 0.9795\n",
            "Epoch 19/100\n",
            "375/375 [==============================] - 1s 3ms/step - loss: 0.0026 - accuracy: 0.9994 - val_loss: 0.1066 - val_accuracy: 0.9793\n",
            "Epoch 20/100\n",
            "375/375 [==============================] - 1s 3ms/step - loss: 0.0018 - accuracy: 0.9996 - val_loss: 0.1121 - val_accuracy: 0.9780\n",
            "Epoch 21/100\n",
            "375/375 [==============================] - 1s 3ms/step - loss: 0.0014 - accuracy: 0.9998 - val_loss: 0.1117 - val_accuracy: 0.9792\n",
            "Epoch 22/100\n",
            "375/375 [==============================] - 1s 3ms/step - loss: 0.0011 - accuracy: 0.9999 - val_loss: 0.1166 - val_accuracy: 0.9797\n",
            "Epoch 23/100\n",
            "375/375 [==============================] - 1s 3ms/step - loss: 0.0011 - accuracy: 0.9997 - val_loss: 0.1244 - val_accuracy: 0.9793\n",
            "Epoch 24/100\n",
            "375/375 [==============================] - 1s 3ms/step - loss: 7.1030e-04 - accuracy: 0.9999 - val_loss: 0.1223 - val_accuracy: 0.9795\n",
            "Epoch 25/100\n",
            "375/375 [==============================] - 1s 3ms/step - loss: 6.7074e-04 - accuracy: 0.9999 - val_loss: 0.1250 - val_accuracy: 0.9798\n",
            "Epoch 26/100\n",
            "375/375 [==============================] - 1s 3ms/step - loss: 6.1322e-04 - accuracy: 0.9998 - val_loss: 0.1258 - val_accuracy: 0.9806\n",
            "Epoch 27/100\n",
            "375/375 [==============================] - 1s 3ms/step - loss: 3.1900e-04 - accuracy: 1.0000 - val_loss: 0.1298 - val_accuracy: 0.9800\n",
            "Epoch 28/100\n",
            "375/375 [==============================] - 1s 3ms/step - loss: 3.3537e-04 - accuracy: 0.9999 - val_loss: 0.1320 - val_accuracy: 0.9796\n",
            "Epoch 29/100\n",
            "375/375 [==============================] - 1s 3ms/step - loss: 2.4279e-04 - accuracy: 1.0000 - val_loss: 0.1439 - val_accuracy: 0.9792\n",
            "Epoch 30/100\n",
            "375/375 [==============================] - 1s 3ms/step - loss: 2.2609e-04 - accuracy: 1.0000 - val_loss: 0.1434 - val_accuracy: 0.9803\n",
            "Epoch 31/100\n",
            "375/375 [==============================] - 1s 3ms/step - loss: 1.3705e-04 - accuracy: 1.0000 - val_loss: 0.1493 - val_accuracy: 0.9798\n",
            "Epoch 32/100\n",
            "375/375 [==============================] - 1s 3ms/step - loss: 1.7608e-04 - accuracy: 0.9999 - val_loss: 0.1495 - val_accuracy: 0.9791\n",
            "Epoch 33/100\n",
            "375/375 [==============================] - 1s 3ms/step - loss: 8.9414e-05 - accuracy: 1.0000 - val_loss: 0.1543 - val_accuracy: 0.9797\n",
            "Epoch 34/100\n",
            "375/375 [==============================] - 1s 3ms/step - loss: 7.1055e-05 - accuracy: 1.0000 - val_loss: 0.1538 - val_accuracy: 0.9803\n",
            "Epoch 35/100\n",
            "375/375 [==============================] - 1s 3ms/step - loss: 4.9714e-05 - accuracy: 1.0000 - val_loss: 0.1592 - val_accuracy: 0.9802\n",
            "Epoch 36/100\n",
            "375/375 [==============================] - 1s 3ms/step - loss: 2.4878e-05 - accuracy: 1.0000 - val_loss: 0.1572 - val_accuracy: 0.9811\n",
            "Epoch 37/100\n",
            "375/375 [==============================] - 1s 3ms/step - loss: 4.5655e-05 - accuracy: 1.0000 - val_loss: 0.1611 - val_accuracy: 0.9797\n",
            "Epoch 38/100\n",
            "375/375 [==============================] - 1s 3ms/step - loss: 2.6242e-05 - accuracy: 1.0000 - val_loss: 0.1778 - val_accuracy: 0.9786\n",
            "Epoch 39/100\n",
            "375/375 [==============================] - 1s 3ms/step - loss: 2.8934e-05 - accuracy: 1.0000 - val_loss: 0.1709 - val_accuracy: 0.9803\n",
            "Epoch 40/100\n",
            "375/375 [==============================] - 1s 3ms/step - loss: 3.1409e-05 - accuracy: 1.0000 - val_loss: 0.1727 - val_accuracy: 0.9796\n",
            "Epoch 41/100\n",
            "375/375 [==============================] - 1s 3ms/step - loss: 1.8858e-05 - accuracy: 1.0000 - val_loss: 0.1833 - val_accuracy: 0.9788\n",
            "Epoch 42/100\n",
            "375/375 [==============================] - 1s 3ms/step - loss: 1.0774e-05 - accuracy: 1.0000 - val_loss: 0.1803 - val_accuracy: 0.9805\n",
            "Epoch 43/100\n",
            "375/375 [==============================] - 1s 3ms/step - loss: 1.2182e-05 - accuracy: 1.0000 - val_loss: 0.1808 - val_accuracy: 0.9808\n",
            "Epoch 44/100\n",
            "375/375 [==============================] - 1s 3ms/step - loss: 4.6560e-06 - accuracy: 1.0000 - val_loss: 0.1797 - val_accuracy: 0.9808\n",
            "Epoch 45/100\n",
            "375/375 [==============================] - 1s 3ms/step - loss: 4.1193e-06 - accuracy: 1.0000 - val_loss: 0.1791 - val_accuracy: 0.9806\n",
            "Epoch 46/100\n",
            "375/375 [==============================] - 1s 3ms/step - loss: 5.9379e-06 - accuracy: 1.0000 - val_loss: 0.1895 - val_accuracy: 0.9790\n",
            "Epoch 47/100\n",
            "375/375 [==============================] - 1s 3ms/step - loss: 1.7184e-06 - accuracy: 1.0000 - val_loss: 0.1882 - val_accuracy: 0.9801\n",
            "Epoch 48/100\n",
            "375/375 [==============================] - 1s 3ms/step - loss: 1.7487e-06 - accuracy: 1.0000 - val_loss: 0.1941 - val_accuracy: 0.9800\n",
            "Epoch 49/100\n",
            "375/375 [==============================] - 1s 3ms/step - loss: 3.6656e-06 - accuracy: 1.0000 - val_loss: 0.1939 - val_accuracy: 0.9803\n",
            "Epoch 50/100\n",
            "375/375 [==============================] - 1s 3ms/step - loss: 6.9626e-07 - accuracy: 1.0000 - val_loss: 0.1936 - val_accuracy: 0.9801\n",
            "Epoch 51/100\n",
            "375/375 [==============================] - 1s 3ms/step - loss: 1.0726e-07 - accuracy: 1.0000 - val_loss: 0.1947 - val_accuracy: 0.9805\n",
            "Epoch 52/100\n",
            "375/375 [==============================] - 1s 3ms/step - loss: 8.6746e-08 - accuracy: 1.0000 - val_loss: 0.1980 - val_accuracy: 0.9801\n",
            "Epoch 53/100\n",
            "375/375 [==============================] - 1s 3ms/step - loss: 1.3872e-07 - accuracy: 1.0000 - val_loss: 0.1964 - val_accuracy: 0.9806\n",
            "Epoch 54/100\n",
            "375/375 [==============================] - 1s 3ms/step - loss: 1.1110e-07 - accuracy: 1.0000 - val_loss: 0.1979 - val_accuracy: 0.9807\n",
            "Epoch 55/100\n",
            "375/375 [==============================] - 1s 3ms/step - loss: 4.5023e-08 - accuracy: 1.0000 - val_loss: 0.1981 - val_accuracy: 0.9805\n",
            "Epoch 56/100\n",
            "375/375 [==============================] - 1s 3ms/step - loss: 3.6291e-08 - accuracy: 1.0000 - val_loss: 0.1987 - val_accuracy: 0.9806\n",
            "Epoch 57/100\n",
            "375/375 [==============================] - 1s 3ms/step - loss: 3.3615e-08 - accuracy: 1.0000 - val_loss: 0.1999 - val_accuracy: 0.9807\n",
            "Epoch 58/100\n",
            "375/375 [==============================] - 1s 3ms/step - loss: 3.0254e-08 - accuracy: 1.0000 - val_loss: 0.2006 - val_accuracy: 0.9806\n",
            "Epoch 59/100\n",
            "375/375 [==============================] - 1s 3ms/step - loss: 2.9990e-08 - accuracy: 1.0000 - val_loss: 0.2019 - val_accuracy: 0.9804\n",
            "Epoch 60/100\n",
            "375/375 [==============================] - 1s 3ms/step - loss: 2.3616e-08 - accuracy: 1.0000 - val_loss: 0.2021 - val_accuracy: 0.9807\n",
            "Epoch 61/100\n",
            "375/375 [==============================] - 1s 3ms/step - loss: 2.2061e-08 - accuracy: 1.0000 - val_loss: 0.2022 - val_accuracy: 0.9809\n",
            "Epoch 62/100\n",
            "375/375 [==============================] - 1s 3ms/step - loss: 2.1857e-08 - accuracy: 1.0000 - val_loss: 0.2032 - val_accuracy: 0.9805\n",
            "Epoch 63/100\n",
            "375/375 [==============================] - 1s 3ms/step - loss: 2.1279e-08 - accuracy: 1.0000 - val_loss: 0.2033 - val_accuracy: 0.9808\n",
            "Epoch 64/100\n",
            "375/375 [==============================] - 1s 3ms/step - loss: 1.9679e-08 - accuracy: 1.0000 - val_loss: 0.2044 - val_accuracy: 0.9803\n",
            "Epoch 65/100\n",
            "375/375 [==============================] - 1s 3ms/step - loss: 1.8692e-08 - accuracy: 1.0000 - val_loss: 0.2040 - val_accuracy: 0.9808\n",
            "Epoch 66/100\n",
            "375/375 [==============================] - 1s 3ms/step - loss: 1.6739e-08 - accuracy: 1.0000 - val_loss: 0.2050 - val_accuracy: 0.9805\n",
            "Epoch 67/100\n",
            "375/375 [==============================] - 1s 3ms/step - loss: 1.7288e-08 - accuracy: 1.0000 - val_loss: 0.2055 - val_accuracy: 0.9806\n",
            "Epoch 68/100\n",
            "375/375 [==============================] - 1s 3ms/step - loss: 1.6795e-08 - accuracy: 1.0000 - val_loss: 0.2057 - val_accuracy: 0.9804\n",
            "Epoch 69/100\n",
            "375/375 [==============================] - 1s 3ms/step - loss: 1.5254e-08 - accuracy: 1.0000 - val_loss: 0.2064 - val_accuracy: 0.9805\n",
            "Epoch 70/100\n",
            "375/375 [==============================] - 1s 3ms/step - loss: 1.4689e-08 - accuracy: 1.0000 - val_loss: 0.2063 - val_accuracy: 0.9806\n",
            "Epoch 71/100\n",
            "375/375 [==============================] - 1s 3ms/step - loss: 1.4800e-08 - accuracy: 1.0000 - val_loss: 0.2066 - val_accuracy: 0.9803\n",
            "Epoch 72/100\n",
            "375/375 [==============================] - 1s 3ms/step - loss: 1.4055e-08 - accuracy: 1.0000 - val_loss: 0.2070 - val_accuracy: 0.9807\n",
            "Epoch 73/100\n",
            "375/375 [==============================] - 1s 3ms/step - loss: 1.3405e-08 - accuracy: 1.0000 - val_loss: 0.2075 - val_accuracy: 0.9808\n",
            "Epoch 74/100\n",
            "375/375 [==============================] - 1s 3ms/step - loss: 1.3111e-08 - accuracy: 1.0000 - val_loss: 0.2079 - val_accuracy: 0.9807\n",
            "Epoch 75/100\n",
            "375/375 [==============================] - 1s 3ms/step - loss: 1.1971e-08 - accuracy: 1.0000 - val_loss: 0.2086 - val_accuracy: 0.9805\n",
            "Epoch 76/100\n",
            "375/375 [==============================] - 1s 3ms/step - loss: 1.1820e-08 - accuracy: 1.0000 - val_loss: 0.2086 - val_accuracy: 0.9806\n",
            "Epoch 77/100\n",
            "375/375 [==============================] - 1s 3ms/step - loss: 1.2200e-08 - accuracy: 1.0000 - val_loss: 0.2092 - val_accuracy: 0.9807\n",
            "Epoch 78/100\n",
            "375/375 [==============================] - 1s 3ms/step - loss: 1.1673e-08 - accuracy: 1.0000 - val_loss: 0.2094 - val_accuracy: 0.9805\n",
            "Epoch 79/100\n",
            "375/375 [==============================] - 1s 3ms/step - loss: 1.0940e-08 - accuracy: 1.0000 - val_loss: 0.2097 - val_accuracy: 0.9806\n",
            "Epoch 80/100\n",
            "375/375 [==============================] - 1s 3ms/step - loss: 1.0952e-08 - accuracy: 1.0000 - val_loss: 0.2096 - val_accuracy: 0.9805\n",
            "Epoch 81/100\n",
            "375/375 [==============================] - 1s 3ms/step - loss: 1.0194e-08 - accuracy: 1.0000 - val_loss: 0.2100 - val_accuracy: 0.9805\n",
            "Epoch 82/100\n",
            "375/375 [==============================] - 1s 3ms/step - loss: 1.0354e-08 - accuracy: 1.0000 - val_loss: 0.2107 - val_accuracy: 0.9807\n",
            "Epoch 83/100\n",
            "375/375 [==============================] - 1s 3ms/step - loss: 9.5766e-09 - accuracy: 1.0000 - val_loss: 0.2108 - val_accuracy: 0.9806\n",
            "Epoch 84/100\n",
            "375/375 [==============================] - 1s 3ms/step - loss: 1.0134e-08 - accuracy: 1.0000 - val_loss: 0.2108 - val_accuracy: 0.9808\n",
            "Epoch 85/100\n",
            "375/375 [==============================] - 1s 3ms/step - loss: 9.8661e-09 - accuracy: 1.0000 - val_loss: 0.2117 - val_accuracy: 0.9805\n",
            "Epoch 86/100\n",
            "375/375 [==============================] - 1s 3ms/step - loss: 9.3629e-09 - accuracy: 1.0000 - val_loss: 0.2114 - val_accuracy: 0.9806\n",
            "Epoch 87/100\n",
            "375/375 [==============================] - 1s 3ms/step - loss: 9.4621e-09 - accuracy: 1.0000 - val_loss: 0.2118 - val_accuracy: 0.9805\n",
            "Epoch 88/100\n",
            "375/375 [==============================] - 1s 3ms/step - loss: 9.4940e-09 - accuracy: 1.0000 - val_loss: 0.2123 - val_accuracy: 0.9808\n",
            "Epoch 89/100\n",
            "375/375 [==============================] - 1s 3ms/step - loss: 8.6369e-09 - accuracy: 1.0000 - val_loss: 0.2124 - val_accuracy: 0.9806\n",
            "Epoch 90/100\n",
            "375/375 [==============================] - 1s 3ms/step - loss: 8.6973e-09 - accuracy: 1.0000 - val_loss: 0.2125 - val_accuracy: 0.9806\n",
            "Epoch 91/100\n",
            "375/375 [==============================] - 1s 3ms/step - loss: 8.0071e-09 - accuracy: 1.0000 - val_loss: 0.2129 - val_accuracy: 0.9805\n",
            "Epoch 92/100\n",
            "375/375 [==============================] - 1s 3ms/step - loss: 8.3034e-09 - accuracy: 1.0000 - val_loss: 0.2137 - val_accuracy: 0.9805\n",
            "Epoch 93/100\n",
            "375/375 [==============================] - 1s 3ms/step - loss: 8.4008e-09 - accuracy: 1.0000 - val_loss: 0.2133 - val_accuracy: 0.9806\n",
            "Epoch 94/100\n",
            "375/375 [==============================] - 1s 3ms/step - loss: 7.9068e-09 - accuracy: 1.0000 - val_loss: 0.2139 - val_accuracy: 0.9808\n",
            "Epoch 95/100\n",
            "375/375 [==============================] - 1s 3ms/step - loss: 8.1547e-09 - accuracy: 1.0000 - val_loss: 0.2141 - val_accuracy: 0.9808\n",
            "Epoch 96/100\n",
            "375/375 [==============================] - 1s 3ms/step - loss: 7.7658e-09 - accuracy: 1.0000 - val_loss: 0.2146 - val_accuracy: 0.9808\n",
            "Epoch 97/100\n",
            "375/375 [==============================] - 1s 3ms/step - loss: 8.0992e-09 - accuracy: 1.0000 - val_loss: 0.2146 - val_accuracy: 0.9805\n",
            "Epoch 98/100\n",
            "375/375 [==============================] - 1s 3ms/step - loss: 7.7484e-09 - accuracy: 1.0000 - val_loss: 0.2148 - val_accuracy: 0.9807\n",
            "Epoch 99/100\n",
            "375/375 [==============================] - 1s 3ms/step - loss: 7.5105e-09 - accuracy: 1.0000 - val_loss: 0.2149 - val_accuracy: 0.9806\n",
            "Epoch 100/100\n",
            "375/375 [==============================] - 1s 3ms/step - loss: 7.3090e-09 - accuracy: 1.0000 - val_loss: 0.2152 - val_accuracy: 0.9806\n",
            "CPU times: user 1min 56s, sys: 17.3 s, total: 2min 13s\n",
            "Wall time: 1min 47s\n"
          ],
          "name": "stdout"
        }
      ]
    },
    {
      "cell_type": "markdown",
      "metadata": {
        "id": "sQeVm5066Wvc"
      },
      "source": [
        "### 4)학습 결과 시각화 - Overfitting\n",
        "* Loss Visualization"
      ]
    },
    {
      "cell_type": "code",
      "metadata": {
        "colab": {
          "base_uri": "https://localhost:8080/",
          "height": 404
        },
        "id": "Ghu6ioDF6Uzk",
        "outputId": "cc0b9fb0-9410-4794-9422-6794d97e7987"
      },
      "source": [
        "import matplotlib.pyplot as plt\n",
        "\n",
        "epochs = range(1, len(Hist_mnist.history['loss']) + 1)\n",
        "\n",
        "plt.figure(figsize = (9,6))\n",
        "plt.plot(epochs, Hist_mnist.history['loss'])\n",
        "plt.plot(epochs, Hist_mnist.history['val_loss'])\n",
        "#plt.ylim(0,0.25)\n",
        "plt.title('Training & Validation Loss')\n",
        "plt.xlabel('Epochs')\n",
        "plt.ylabel('Loss')\n",
        "plt.legend(['Training Loss', 'Validation Loss'])\n",
        "plt.grid()\n",
        "plt.show()\n",
        "\n",
        "#기존에 비해 overfitting이 덜 일어났다다lt.ylabel('Loss')\n",
        "plt.legend(['Training Loss', 'Validation Loss'])\n",
        "plt.grid()\n",
        "plt.show()\n",
        "\n",
        "#기존에 비해 overfitting이 덜 일어났다다"
      ],
      "execution_count": 17,
      "outputs": [
        {
          "output_type": "display_data",
          "data": {
            "image/png": "[encoded data removed]",
            "text/plain": [
              "<Figure size 648x432 with 1 Axes>"
            ]
          },
          "metadata": {
            "tags": [],
            "needs_background": "light"
          }
        }
      ]
    },
    {
      "cell_type": "markdown",
      "metadata": {
        "id": "qjfFXGmJ7Fqn"
      },
      "source": [
        "## 5)Model Evaluate\n",
        "* Loss & Accuracy"
      ]
    },
    {
      "cell_type": "code",
      "metadata": {
        "colab": {
          "base_uri": "https://localhost:8080/"
        },
        "id": "bhPMNZgw6-oA",
        "outputId": "ba897e4c-fb9a-496c-aeb7-438b0ba9aba0"
      },
      "source": [
        "loss, accuracy = mnist.evaluate(X_test, y_test)\n",
        "\n",
        "print('Loss = {:.5f}'.format(loss))\n",
        "print('Accuracy = {:.5f}'.format(accuracy))\n",
        "\n",
        "#기존에 비해 Accuracy는 약간 떨어졌다(성능감소)"
      ],
      "execution_count": 18,
      "outputs": [
        {
          "output_type": "stream",
          "text": [
            "313/313 [==============================] - 1s 2ms/step - loss: 0.1777 - accuracy: 0.9817\n",
            "Loss = 0.17768\n",
            "Accuracy = 0.98170\n"
          ],
          "name": "stdout"
        }
      ]
    },
    {
      "cell_type": "markdown",
      "metadata": {
        "id": "TMoM7ZTU7Zk3"
      },
      "source": [
        "### 6)Model Predict\n",
        "* Probability"
      ]
    },
    {
      "cell_type": "code",
      "metadata": {
        "colab": {
          "base_uri": "https://localhost:8080/"
        },
        "id": "NgWFv2h37W72",
        "outputId": "9111c228-0f56-420f-ea89-3561d5a2bb9b"
      },
      "source": [
        "np.set_printoptions(suppress=True, precision=9)\n",
        "\n",
        "print(mnist.predict(X_test[:1,:]))"
      ],
      "execution_count": 19,
      "outputs": [
        {
          "output_type": "stream",
          "text": [
            "[[0. 0. 0. 0. 0. 0. 0. 1. 0. 0.]]\n"
          ],
          "name": "stdout"
        }
      ]
    },
    {
      "cell_type": "markdown",
      "metadata": {
        "id": "n5BbTnFg7lcj"
      },
      "source": [
        "* Class"
      ]
    },
    {
      "cell_type": "code",
      "metadata": {
        "colab": {
          "base_uri": "https://localhost:8080/"
        },
        "id": "kyhcz2cw7j1E",
        "outputId": "d9305a3f-6c79-4fef-c429-aa56d517e60c"
      },
      "source": [
        "print(mnist.predict_classes(X_test[:1, :]))"
      ],
      "execution_count": 20,
      "outputs": [
        {
          "output_type": "stream",
          "text": [
            "[7]\n"
          ],
          "name": "stdout"
        }
      ]
    },
    {
      "cell_type": "markdown",
      "metadata": {
        "id": "T7MUNWkX7ygw"
      },
      "source": [
        "본 내용은 2021/03/19(금)에 학습한 내용입니다."
      ]
    }
  ]
}
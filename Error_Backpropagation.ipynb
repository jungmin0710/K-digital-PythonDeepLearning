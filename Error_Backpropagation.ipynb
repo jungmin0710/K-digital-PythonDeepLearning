{
  "nbformat": 4,
  "nbformat_minor": 0,
  "metadata": {
    "colab": {
      "name": "Error_Backpropagation.ipynb",
      "provenance": [],
      "authorship_tag": "ABX9TyNF5/JwZQp7Rx7BBGoi+k+e",
      "include_colab_link": true
    },
    "kernelspec": {
      "name": "python3",
      "display_name": "Python 3"
    }
  },
  "cells": [
    {
      "cell_type": "markdown",
      "metadata": {
        "id": "view-in-github",
        "colab_type": "text"
      },
      "source": [
        "<a href=\"https://colab.research.google.com/github/jungmin0710/K-digital-PythonDeepLearning/blob/main/Error_Backpropagation.ipynb\" target=\"_parent\"><img src=\"https://colab.research.google.com/assets/colab-badge.svg\" alt=\"Open In Colab\"/></a>"
      ]
    },
    {
      "cell_type": "markdown",
      "metadata": {
        "id": "zeaPtP5mZb2T"
      },
      "source": [
        "# Error Backpropagation"
      ]
    },
    {
      "cell_type": "code",
      "metadata": {
        "id": "pK0yukV_X2__"
      },
      "source": [
        "import warnings\r\n",
        "warnings.filterwarnings('ignore')"
      ],
      "execution_count": 1,
      "outputs": []
    },
    {
      "cell_type": "markdown",
      "metadata": {
        "id": "hc1IkGJSZlGf"
      },
      "source": [
        "## 1.실습용 데이터 생성"
      ]
    },
    {
      "cell_type": "code",
      "metadata": {
        "id": "25_yeOgQZkhW"
      },
      "source": [
        "import numpy as np\r\n",
        "\r\n",
        "np.set_printoptions(suppress = True, precision = 3)"
      ],
      "execution_count": 3,
      "outputs": []
    },
    {
      "cell_type": "markdown",
      "metadata": {
        "id": "x4wmWmcsZuqc"
      },
      "source": [
        "### 1)Input : X (4 * 3) "
      ]
    },
    {
      "cell_type": "code",
      "metadata": {
        "colab": {
          "base_uri": "https://localhost:8080/"
        },
        "id": "Q5x9dgpfZrh1",
        "outputId": "6d886097-b064-42ed-e229-a234ef5940ff"
      },
      "source": [
        "X = np.array([[0,0,1],\r\n",
        "              [0,1,1],\r\n",
        "              [1,0,1],\r\n",
        "              [1,1,1]])\r\n",
        "\r\n",
        "X"
      ],
      "execution_count": 4,
      "outputs": [
        {
          "output_type": "execute_result",
          "data": {
            "text/plain": [
              "array([[0, 0, 1],\n",
              "       [0, 1, 1],\n",
              "       [1, 0, 1],\n",
              "       [1, 1, 1]])"
            ]
          },
          "metadata": {
            "tags": []
          },
          "execution_count": 4
        }
      ]
    },
    {
      "cell_type": "markdown",
      "metadata": {
        "id": "7Dp6A2BNZ6o0"
      },
      "source": [
        "### 2)Output : y (4 * 1)"
      ]
    },
    {
      "cell_type": "code",
      "metadata": {
        "colab": {
          "base_uri": "https://localhost:8080/"
        },
        "id": "hhsLkUdJZ5ng",
        "outputId": "11ab41f5-771d-463f-8826-6d33a122b3a2"
      },
      "source": [
        "y = np.array([0., 1., 1., 0.]).reshape(4,1)\r\n",
        "\r\n",
        "y"
      ],
      "execution_count": 5,
      "outputs": [
        {
          "output_type": "execute_result",
          "data": {
            "text/plain": [
              "array([[0.],\n",
              "       [1.],\n",
              "       [1.],\n",
              "       [0.]])"
            ]
          },
          "metadata": {
            "tags": []
          },
          "execution_count": 5
        }
      ]
    },
    {
      "cell_type": "markdown",
      "metadata": {
        "id": "7Y2RjGOhaGi_"
      },
      "source": [
        "### 3)W1 (3 * 4)"
      ]
    },
    {
      "cell_type": "code",
      "metadata": {
        "colab": {
          "base_uri": "https://localhost:8080/"
        },
        "id": "Mx5uP23daCll",
        "outputId": "f5d2a08f-28fb-42ab-e0bb-88708c220c24"
      },
      "source": [
        "#행렬의 곱을 위해 3 * 4 형태로 만듬 => (4 * 3) * (3 * 4) = (4 * 4)\r\n",
        "np.random.seed(2045)\r\n",
        "W1 = np.random.rand(3, 4)\r\n",
        "\r\n",
        "W1"
      ],
      "execution_count": 6,
      "outputs": [
        {
          "output_type": "execute_result",
          "data": {
            "text/plain": [
              "array([[0.844, 0.886, 0.139, 0.061],\n",
              "       [0.192, 0.532, 0.155, 0.827],\n",
              "       [0.92 , 0.015, 0.49 , 0.692]])"
            ]
          },
          "metadata": {
            "tags": []
          },
          "execution_count": 6
        }
      ]
    },
    {
      "cell_type": "markdown",
      "metadata": {
        "id": "VsUZ5wXqaSrO"
      },
      "source": [
        "### 4)W2 (4 * 1)"
      ]
    },
    {
      "cell_type": "code",
      "metadata": {
        "colab": {
          "base_uri": "https://localhost:8080/"
        },
        "id": "oG56fl_QaPAS",
        "outputId": "bd0bc0d4-bc21-4216-dd3c-8f9cab1d527b"
      },
      "source": [
        "# (4 * 4) * (4 * 1) = (4 * 1)\r\n",
        "np.random.seed(2046)\r\n",
        "W2 = np.random.rand(4)\r\n",
        "\r\n",
        "W2 = W2.reshape(4, 1)\r\n",
        "W2"
      ],
      "execution_count": 7,
      "outputs": [
        {
          "output_type": "execute_result",
          "data": {
            "text/plain": [
              "array([[0.895],\n",
              "       [0.596],\n",
              "       [0.436],\n",
              "       [0.153]])"
            ]
          },
          "metadata": {
            "tags": []
          },
          "execution_count": 7
        }
      ]
    },
    {
      "cell_type": "markdown",
      "metadata": {
        "id": "E9OMWF5SaepO"
      },
      "source": [
        "### 5)y_hat (4 * 1)"
      ]
    },
    {
      "cell_type": "code",
      "metadata": {
        "colab": {
          "base_uri": "https://localhost:8080/"
        },
        "id": "AimXr1n5ac4l",
        "outputId": "67370a69-ceed-4ba9-c0ed-ef92a537016a"
      },
      "source": [
        "np.random.seed(2045)\r\n",
        "y_hat = np.random.rand(4).reshape(4,1)\r\n",
        "\r\n",
        "y_hat"
      ],
      "execution_count": 8,
      "outputs": [
        {
          "output_type": "execute_result",
          "data": {
            "text/plain": [
              "array([[0.844],\n",
              "       [0.886],\n",
              "       [0.139],\n",
              "       [0.061]])"
            ]
          },
          "metadata": {
            "tags": []
          },
          "execution_count": 8
        }
      ]
    },
    {
      "cell_type": "markdown",
      "metadata": {
        "id": "R9CItSY_ao5s"
      },
      "source": [
        "### 6)Layer1 (4 * 4)"
      ]
    },
    {
      "cell_type": "code",
      "metadata": {
        "colab": {
          "base_uri": "https://localhost:8080/"
        },
        "id": "ybVBS-gTanvc",
        "outputId": "c5a8a9db-ea92-432b-b88a-3f0dad9821c8"
      },
      "source": [
        "Layer1 = np.ones([4,4])\r\n",
        "\r\n",
        "Layer1"
      ],
      "execution_count": 9,
      "outputs": [
        {
          "output_type": "execute_result",
          "data": {
            "text/plain": [
              "array([[1., 1., 1., 1.],\n",
              "       [1., 1., 1., 1.],\n",
              "       [1., 1., 1., 1.],\n",
              "       [1., 1., 1., 1.]])"
            ]
          },
          "metadata": {
            "tags": []
          },
          "execution_count": 9
        }
      ]
    },
    {
      "cell_type": "markdown",
      "metadata": {
        "id": "7a9K9xm9axl8"
      },
      "source": [
        "## 2.함수 정의"
      ]
    },
    {
      "cell_type": "markdown",
      "metadata": {
        "id": "eYvMSdc9azGN"
      },
      "source": [
        "### 1)sigmoid()"
      ]
    },
    {
      "cell_type": "markdown",
      "metadata": {
        "id": "6PzdkcvMbA2A"
      },
      "source": [
        "* Activation Function"
      ]
    },
    {
      "cell_type": "code",
      "metadata": {
        "id": "gJW-CRujatnu"
      },
      "source": [
        "def sigmoid(x):\r\n",
        "  y = 1 / (1 + np.exp(-x))\r\n",
        "  return y"
      ],
      "execution_count": 11,
      "outputs": []
    },
    {
      "cell_type": "markdown",
      "metadata": {
        "id": "11SCfJgGbHYM"
      },
      "source": [
        "### 2)d_sigmoid()\r\n",
        "* sigmoid() 미분함수"
      ]
    },
    {
      "cell_type": "code",
      "metadata": {
        "id": "hWoOzS_Ya7ua"
      },
      "source": [
        "def d_sigmoid(x):\r\n",
        "  dy = x * (1.0 - x)\r\n",
        "  return dy"
      ],
      "execution_count": 12,
      "outputs": []
    },
    {
      "cell_type": "markdown",
      "metadata": {
        "id": "0gnkVljkbTHt"
      },
      "source": [
        "### 3)Loss function\r\n",
        "* Mean Squared Error"
      ]
    },
    {
      "cell_type": "code",
      "metadata": {
        "id": "DVVmBy6ybPZS"
      },
      "source": [
        "#def loss_function(y, y_hat):\r\n",
        "#  Loss = np.mean((y - y_hat)**2)\r\n",
        "#  return Loss"
      ],
      "execution_count": 13,
      "outputs": []
    },
    {
      "cell_type": "markdown",
      "metadata": {
        "id": "t36y17fXbjdD"
      },
      "source": [
        "* Binary Cross Entropy Error"
      ]
    },
    {
      "cell_type": "code",
      "metadata": {
        "id": "JzWr2mbHbiz4"
      },
      "source": [
        "def loss_function(y, y_hat):\r\n",
        "  Loss = -np.mean((y * np.log(y_hat) + (1 - y) * np.log(1 - y_hat)))\r\n",
        "  return Loss"
      ],
      "execution_count": 14,
      "outputs": []
    },
    {
      "cell_type": "markdown",
      "metadata": {
        "id": "dPyfrPPNbwUt"
      },
      "source": [
        "## 3.순방향과 역방향 함수 정의\r\n",
        "### 1)Forward_ Propagation\r\n",
        "* Layer1 Output\r\n",
        "  * Layer1 = sigmoid(np.dot(X, W1)\r\n",
        "* y_hat Output\r\n",
        "  * y_hat = sigmoid(np.dot(Layer1, W2))"
      ]
    },
    {
      "cell_type": "code",
      "metadata": {
        "id": "UVuWP-VCbvBz"
      },
      "source": [
        "def forwardProp(X, W1, Layer1, W2, y_hat):\r\n",
        "  Layer1 = sigmoid(np.dot(X, W1))\r\n",
        "  y_hat = sigmoid(np.dot(Layer1,W2))\r\n",
        "\r\n",
        "  return Layer1, y_hat"
      ],
      "execution_count": 15,
      "outputs": []
    },
    {
      "cell_type": "markdown",
      "metadata": {
        "id": "ItT2se8OcK4h"
      },
      "source": [
        "### 2)Back_Propagation\r\n",
        "* d_W2\r\n",
        "  * d_W2 = np.dot(np.transpose(Layer1), (-2 * (y - y_hat) * d_sigmoid(y_hat))) \r\n",
        "* d_W1\r\n",
        "  * d_W1 = np.dot((-2 * (y - y_hat) * d_sigmoid(y_hat)), np.transpose(W2)) d_W1 = d_W1 * d_sigmoid(Layer1) d_W1 = np.dot(np.transpose(X), d_W1)\r\n",
        "* Gradient Descent\r\n",
        "  * W1 = W1 - (0.001 * d_W1) \r\n",
        "  * W2 = W2 - (0.001 * d_W2)"
      ]
    },
    {
      "cell_type": "code",
      "metadata": {
        "id": "Ofy25wBXcJ3b"
      },
      "source": [
        "def backProp(X, y, y_hat, Layer1, W1, W2):\r\n",
        "  d_W2 = np.dot(np.transpose(Layer1), (-2 * (y - y_hat) * d_sigmoid(y_hat)))\r\n",
        "\r\n",
        "  d_W1 = np.dot((-2 * (y - y_hat) * d_sigmoid(y_hat)), np.transpose(W2))\r\n",
        "  d_W1 = d_W1 * d_sigmoid(Layer1)\r\n",
        "  d_W1 = np.dot(np.transpose(X), d_W1)\r\n",
        "\r\n",
        "  W1 = W1 - d_W1\r\n",
        "  W2 = W2 - d_W2\r\n",
        "\r\n",
        "  return y_hat, Layer1, W1, W2"
      ],
      "execution_count": 31,
      "outputs": []
    },
    {
      "cell_type": "markdown",
      "metadata": {
        "id": "I76xTUE-c8Pf"
      },
      "source": [
        "## 4.오차역전파를 적용한 Gradient Descent\r\n",
        "* 학습 과정의 Loss값 저장 객체"
      ]
    },
    {
      "cell_type": "code",
      "metadata": {
        "id": "6EvGNxw8c7Gc"
      },
      "source": [
        "Loss_Record = []\r\n"
      ],
      "execution_count": 32,
      "outputs": []
    },
    {
      "cell_type": "markdown",
      "metadata": {
        "id": "4kkXdmQgdEm6"
      },
      "source": [
        "### 1)Learning with Error Backpropagation"
      ]
    },
    {
      "cell_type": "code",
      "metadata": {
        "id": "XBi6yv81dDxY"
      },
      "source": [
        "for k in range(0, 1000):\r\n",
        "  Layer1, y_hat = forwardProp(X, W1, Layer1, W2, y_hat)\r\n",
        "  y_hat, Layer1, W1, W2 = backProp(X, y, y_hat, Layer1, W1, W2)\r\n",
        "\r\n",
        "  Loss_Record.append(loss_function(y, y_hat))"
      ],
      "execution_count": 33,
      "outputs": []
    },
    {
      "cell_type": "markdown",
      "metadata": {
        "id": "QfHTTLytdZIb"
      },
      "source": [
        "### 2)Parameter Update Check\r\n",
        "* W1"
      ]
    },
    {
      "cell_type": "code",
      "metadata": {
        "colab": {
          "base_uri": "https://localhost:8080/"
        },
        "id": "qglXYDA2dYSM",
        "outputId": "f57c467c-fe54-41c1-aee6-bb52fc914a29"
      },
      "source": [
        "W1"
      ],
      "execution_count": 34,
      "outputs": [
        {
          "output_type": "execute_result",
          "data": {
            "text/plain": [
              "array([[ 2.33 ,  4.824,  6.845, -4.605],\n",
              "       [ 2.581,  5.093, -3.344,  7.112],\n",
              "       [ 1.71 , -0.555,  0.405,  1.512]])"
            ]
          },
          "metadata": {
            "tags": []
          },
          "execution_count": 34
        }
      ]
    },
    {
      "cell_type": "markdown",
      "metadata": {
        "id": "RXZi2agadfYv"
      },
      "source": [
        "* W2"
      ]
    },
    {
      "cell_type": "code",
      "metadata": {
        "colab": {
          "base_uri": "https://localhost:8080/"
        },
        "id": "jqpccYKoddI3",
        "outputId": "0a4f8b74-c61b-4c38-d476-18eb69959020"
      },
      "source": [
        "W2"
      ],
      "execution_count": 35,
      "outputs": [
        {
          "output_type": "execute_result",
          "data": {
            "text/plain": [
              "array([[ 4.69 ],\n",
              "       [ 8.34 ],\n",
              "       [-8.528],\n",
              "       [-8.528]])"
            ]
          },
          "metadata": {
            "tags": []
          },
          "execution_count": 35
        }
      ]
    },
    {
      "cell_type": "markdown",
      "metadata": {
        "id": "-vYxeySMdghz"
      },
      "source": [
        "* y_hat"
      ]
    },
    {
      "cell_type": "code",
      "metadata": {
        "colab": {
          "base_uri": "https://localhost:8080/"
        },
        "id": "4CkXtM85ddvS",
        "outputId": "751658ae-0362-4de9-82dd-ed16a5ebf010"
      },
      "source": [
        "# y_hat.round()\r\n",
        "\r\n",
        "y_hat"
      ],
      "execution_count": 36,
      "outputs": [
        {
          "output_type": "execute_result",
          "data": {
            "text/plain": [
              "array([[0.006],\n",
              "       [0.981],\n",
              "       [0.981],\n",
              "       [0.024]])"
            ]
          },
          "metadata": {
            "tags": []
          },
          "execution_count": 36
        }
      ]
    },
    {
      "cell_type": "markdown",
      "metadata": {
        "id": "9Xsr4KEvdlZu"
      },
      "source": [
        "### 3)Visualization"
      ]
    },
    {
      "cell_type": "code",
      "metadata": {
        "colab": {
          "base_uri": "https://localhost:8080/",
          "height": 374
        },
        "id": "XNMPE-4_di3w",
        "outputId": "e1c7c1d6-0aa4-4020-ad82-4ff4b57caaf1"
      },
      "source": [
        "import matplotlib.pyplot as plt\r\n",
        "\r\n",
        "plt.figure(figsize = (9,6))\r\n",
        "plt.plot(Loss_Record)\r\n",
        "plt.show()"
      ],
      "execution_count": 37,
      "outputs": [
        {
          "output_type": "display_data",
          "data": {
            "image/png": "[encoded data removed]",
            "text/plain": [
              "<Figure size 648x432 with 1 Axes>"
            ]
          },
          "metadata": {
            "tags": [],
            "needs_background": "light"
          }
        }
      ]
    },
    {
      "cell_type": "markdown",
      "metadata": {
        "id": "7ebRPMMDdzhj"
      },
      "source": [
        "본 내용은 2021/03/17(수)에 학습한 내용입니다."
      ]
    }
  ]
}
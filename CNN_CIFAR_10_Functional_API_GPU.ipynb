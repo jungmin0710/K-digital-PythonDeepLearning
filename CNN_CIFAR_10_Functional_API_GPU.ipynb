{
  "nbformat": 4,
  "nbformat_minor": 0,
  "metadata": {
    "colab": {
      "name": "CNN_CIFAR_10_Functional_API_GPU.ipynb",
      "provenance": [],
      "authorship_tag": "ABX9TyPsE1FV6jqjutQ4YC8mKkyh",
      "include_colab_link": true
    },
    "kernelspec": {
      "name": "python3",
      "display_name": "Python 3"
    },
    "language_info": {
      "name": "python"
    },
    "accelerator": "GPU"
  },
  "cells": [
    {
      "cell_type": "markdown",
      "metadata": {
        "id": "view-in-github",
        "colab_type": "text"
      },
      "source": [
        "<a href=\"https://colab.research.google.com/github/jungmin0710/K-digital-PythonDeepLearning/blob/main/CNN_CIFAR_10_Functional_API_GPU.ipynb\" target=\"_parent\"><img src=\"https://colab.research.google.com/assets/colab-badge.svg\" alt=\"Open In Colab\"/></a>"
      ]
    },
    {
      "cell_type": "markdown",
      "metadata": {
        "id": "wG40mZRhD43d"
      },
      "source": [
        "# CIFAR 10 - Functional API Modeling\n",
        "* Categorical Classification"
      ]
    },
    {
      "cell_type": "code",
      "metadata": {
        "id": "atVJJ8BID1jA"
      },
      "source": [
        "import warnings\n",
        "warnings.filterwarnings('ignore')"
      ],
      "execution_count": 1,
      "outputs": []
    },
    {
      "cell_type": "markdown",
      "metadata": {
        "id": "_35onR4OEIUe"
      },
      "source": [
        "## 0.Import Tensorflow & Keras\n",
        "* import Keras"
      ]
    },
    {
      "cell_type": "code",
      "metadata": {
        "colab": {
          "base_uri": "https://localhost:8080/",
          "height": 35
        },
        "id": "kA34CjlEEG9y",
        "outputId": "e2047f52-bf6c-42bc-88af-fc8a442a3622"
      },
      "source": [
        "import keras\n",
        "\n",
        "keras.__version__"
      ],
      "execution_count": 2,
      "outputs": [
        {
          "output_type": "execute_result",
          "data": {
            "application/vnd.google.colaboratory.intrinsic+json": {
              "type": "string"
            },
            "text/plain": [
              "'2.4.3'"
            ]
          },
          "metadata": {
            "tags": []
          },
          "execution_count": 2
        }
      ]
    },
    {
      "cell_type": "markdown",
      "metadata": {
        "id": "9o69UBoCEYh1"
      },
      "source": [
        "## 1.CIFAR 10 Data_Set Load & Review"
      ]
    },
    {
      "cell_type": "markdown",
      "metadata": {
        "id": "uiqN8MtwEf_I"
      },
      "source": [
        "### 1)Load CIFAR 10 Data_Set"
      ]
    },
    {
      "cell_type": "code",
      "metadata": {
        "colab": {
          "base_uri": "https://localhost:8080/"
        },
        "id": "VPPSF8ZUEXTZ",
        "outputId": "f602445e-e19e-4d1e-d734-67bbc186ebc0"
      },
      "source": [
        "from keras.datasets import cifar10\n",
        "\n",
        "(X_train, y_train), (X_test, y_test) = cifar10.load_data()"
      ],
      "execution_count": 3,
      "outputs": [
        {
          "output_type": "stream",
          "text": [
            "Downloading data from https://www.cs.toronto.edu/~kriz/cifar-10-python.tar.gz\n",
            "170500096/170498071 [==============================] - 2s 0us/step\n"
          ],
          "name": "stdout"
        }
      ]
    },
    {
      "cell_type": "markdown",
      "metadata": {
        "id": "n0Y2peMtEv4x"
      },
      "source": [
        "* Train_Data Information"
      ]
    },
    {
      "cell_type": "code",
      "metadata": {
        "colab": {
          "base_uri": "https://localhost:8080/"
        },
        "id": "3s9y-_R3Eo50",
        "outputId": "78aa38ac-f17a-42b9-d907-7d369d43a584"
      },
      "source": [
        "print(len(X_train)) \n",
        "print(X_train.shape)\n",
        "\n",
        "print(len(y_train)) \n",
        "print(y_train[0:5])"
      ],
      "execution_count": 4,
      "outputs": [
        {
          "output_type": "stream",
          "text": [
            "50000\n",
            "(50000, 32, 32, 3)\n",
            "50000\n",
            "[[6]\n",
            " [9]\n",
            " [9]\n",
            " [4]\n",
            " [1]]\n"
          ],
          "name": "stdout"
        }
      ]
    },
    {
      "cell_type": "markdown",
      "metadata": {
        "id": "-G2y_w6xE1YN"
      },
      "source": [
        "* Test_Data Information"
      ]
    },
    {
      "cell_type": "code",
      "metadata": {
        "colab": {
          "base_uri": "https://localhost:8080/"
        },
        "id": "jBSw11tBEzlf",
        "outputId": "e930fa1c-49e1-4b6a-f4e5-5312cc7e5c9f"
      },
      "source": [
        "print(len(X_test)) \n",
        "print(X_test.shape)\n",
        "\n",
        "print(len(y_test)) \n",
        "print(y_test[0:5])"
      ],
      "execution_count": 5,
      "outputs": [
        {
          "output_type": "stream",
          "text": [
            "10000\n",
            "(10000, 32, 32, 3)\n",
            "10000\n",
            "[[3]\n",
            " [8]\n",
            " [8]\n",
            " [0]\n",
            " [6]]\n"
          ],
          "name": "stdout"
        }
      ]
    },
    {
      "cell_type": "markdown",
      "metadata": {
        "id": "FhWdxh0LE7yV"
      },
      "source": [
        "## 2.Data Preprocessing"
      ]
    },
    {
      "cell_type": "markdown",
      "metadata": {
        "id": "Ko4RiRuhE9dC"
      },
      "source": [
        "### 1) Normalization"
      ]
    },
    {
      "cell_type": "code",
      "metadata": {
        "id": "O8BuDpLZE5t_"
      },
      "source": [
        "X_train = X_train.astype(float) / 255 \n",
        "X_test = X_test.astype(float) / 255"
      ],
      "execution_count": 6,
      "outputs": []
    },
    {
      "cell_type": "code",
      "metadata": {
        "colab": {
          "base_uri": "https://localhost:8080/"
        },
        "id": "IyT_-TAqFBv8",
        "outputId": "a5adadc1-dd6d-42ba-8bf8-4d58f84ff3d1"
      },
      "source": [
        "print(X_train[0])"
      ],
      "execution_count": 7,
      "outputs": [
        {
          "output_type": "stream",
          "text": [
            "[[[0.23137255 0.24313725 0.24705882]\n",
            "  [0.16862745 0.18039216 0.17647059]\n",
            "  [0.19607843 0.18823529 0.16862745]\n",
            "  ...\n",
            "  [0.61960784 0.51764706 0.42352941]\n",
            "  [0.59607843 0.49019608 0.4       ]\n",
            "  [0.58039216 0.48627451 0.40392157]]\n",
            "\n",
            " [[0.0627451  0.07843137 0.07843137]\n",
            "  [0.         0.         0.        ]\n",
            "  [0.07058824 0.03137255 0.        ]\n",
            "  ...\n",
            "  [0.48235294 0.34509804 0.21568627]\n",
            "  [0.46666667 0.3254902  0.19607843]\n",
            "  [0.47843137 0.34117647 0.22352941]]\n",
            "\n",
            " [[0.09803922 0.09411765 0.08235294]\n",
            "  [0.0627451  0.02745098 0.        ]\n",
            "  [0.19215686 0.10588235 0.03137255]\n",
            "  ...\n",
            "  [0.4627451  0.32941176 0.19607843]\n",
            "  [0.47058824 0.32941176 0.19607843]\n",
            "  [0.42745098 0.28627451 0.16470588]]\n",
            "\n",
            " ...\n",
            "\n",
            " [[0.81568627 0.66666667 0.37647059]\n",
            "  [0.78823529 0.6        0.13333333]\n",
            "  [0.77647059 0.63137255 0.10196078]\n",
            "  ...\n",
            "  [0.62745098 0.52156863 0.2745098 ]\n",
            "  [0.21960784 0.12156863 0.02745098]\n",
            "  [0.20784314 0.13333333 0.07843137]]\n",
            "\n",
            " [[0.70588235 0.54509804 0.37647059]\n",
            "  [0.67843137 0.48235294 0.16470588]\n",
            "  [0.72941176 0.56470588 0.11764706]\n",
            "  ...\n",
            "  [0.72156863 0.58039216 0.36862745]\n",
            "  [0.38039216 0.24313725 0.13333333]\n",
            "  [0.3254902  0.20784314 0.13333333]]\n",
            "\n",
            " [[0.69411765 0.56470588 0.45490196]\n",
            "  [0.65882353 0.50588235 0.36862745]\n",
            "  [0.70196078 0.55686275 0.34117647]\n",
            "  ...\n",
            "  [0.84705882 0.72156863 0.54901961]\n",
            "  [0.59215686 0.4627451  0.32941176]\n",
            "  [0.48235294 0.36078431 0.28235294]]]\n"
          ],
          "name": "stdout"
        }
      ]
    },
    {
      "cell_type": "markdown",
      "metadata": {
        "id": "s7Z5ODZGFF1w"
      },
      "source": [
        "### 2) One Hot Encoding"
      ]
    },
    {
      "cell_type": "code",
      "metadata": {
        "id": "ZMi5l2VCFDeG"
      },
      "source": [
        "from keras.utils import to_categorical\n",
        "\n",
        "y_train = to_categorical(y_train) \n",
        "y_test = to_categorical(y_test)"
      ],
      "execution_count": 8,
      "outputs": []
    },
    {
      "cell_type": "code",
      "metadata": {
        "colab": {
          "base_uri": "https://localhost:8080/"
        },
        "id": "nnXYW1X6FJy2",
        "outputId": "914582eb-0366-4b13-ca05-d200bd50dfce"
      },
      "source": [
        "print(y_train[:5])"
      ],
      "execution_count": 9,
      "outputs": [
        {
          "output_type": "stream",
          "text": [
            "[[0. 0. 0. 0. 0. 0. 1. 0. 0. 0.]\n",
            " [0. 0. 0. 0. 0. 0. 0. 0. 0. 1.]\n",
            " [0. 0. 0. 0. 0. 0. 0. 0. 0. 1.]\n",
            " [0. 0. 0. 0. 1. 0. 0. 0. 0. 0.]\n",
            " [0. 1. 0. 0. 0. 0. 0. 0. 0. 0.]]\n"
          ],
          "name": "stdout"
        }
      ]
    },
    {
      "cell_type": "markdown",
      "metadata": {
        "id": "J4f3XKQ3FNSW"
      },
      "source": [
        "## 3.Keras Functional API Modeling"
      ]
    },
    {
      "cell_type": "markdown",
      "metadata": {
        "id": "NSToebZZFPvr"
      },
      "source": [
        "### 1) Model Define\n",
        "* 모델 신경망 구조 정의"
      ]
    },
    {
      "cell_type": "code",
      "metadata": {
        "colab": {
          "base_uri": "https://localhost:8080/"
        },
        "id": "6rKt7Oh_FK-_",
        "outputId": "262c7b2d-db15-4512-f357-4656f7de43fe"
      },
      "source": [
        "%%time\n",
        "from keras import models \n",
        "from keras import layers \n",
        "\n",
        "input_img = layers.Input((32,32,3))\n",
        "\n",
        "x = layers.Conv2D(filters = 32, kernel_size = (3, 3), strides = (1, 1), padding = 'same')(input_img)\n",
        "x = layers.BatchNormalization()(x) \n",
        "x = layers.LeakyReLU()(x)\n",
        "\n",
        "x = layers.Conv2D(filters = 32, kernel_size = (3, 3), strides = (2, 2), padding = 'same')(x) \n",
        "x = layers.BatchNormalization()(x) \n",
        "x = layers.LeakyReLU()(x)\n",
        "\n",
        "x = layers.Conv2D(filters = 64, kernel_size = (3, 3), strides = (1, 1), padding = 'same')(x) \n",
        "x = layers.BatchNormalization()(x) \n",
        "x = layers.LeakyReLU()(x)\n",
        "\n",
        "x = layers.Conv2D(filters = 64, kernel_size = (3, 3), strides = (2, 2), padding = 'same')(x) \n",
        "x = layers.BatchNormalization()(x) \n",
        "x = layers.LeakyReLU()(x)\n",
        "\n",
        "x = layers.Flatten()(x)\n",
        "\n",
        "x = layers.Dense(128)(x) \n",
        "x = layers.BatchNormalization()(x) \n",
        "x = layers.LeakyReLU()(x) \n",
        "x = layers.Dropout(0.5)(x)\n",
        "\n",
        "x = layers.Dense(10)(x)\n",
        "output_y_hat = layers.Activation('softmax')(x) \n",
        "\n",
        "CIFAR = models.Model(input_img, output_y_hat)"
      ],
      "execution_count": 10,
      "outputs": [
        {
          "output_type": "stream",
          "text": [
            "CPU times: user 559 ms, sys: 262 ms, total: 821 ms\n",
            "Wall time: 5.4 s\n"
          ],
          "name": "stdout"
        }
      ]
    },
    {
      "cell_type": "markdown",
      "metadata": {
        "id": "OczUaPKEGV7Q"
      },
      "source": [
        "* 모델 구조 확인"
      ]
    },
    {
      "cell_type": "code",
      "metadata": {
        "colab": {
          "base_uri": "https://localhost:8080/"
        },
        "id": "kBNNFiZRF2pp",
        "outputId": "85c3a9ea-c7c1-45ba-902f-3648395a9b64"
      },
      "source": [
        "CIFAR.summary()"
      ],
      "execution_count": 11,
      "outputs": [
        {
          "output_type": "stream",
          "text": [
            "Model: \"model\"\n",
            "_________________________________________________________________\n",
            "Layer (type)                 Output Shape              Param #   \n",
            "=================================================================\n",
            "input_1 (InputLayer)         [(None, 32, 32, 3)]       0         \n",
            "_________________________________________________________________\n",
            "conv2d (Conv2D)              (None, 32, 32, 32)        896       \n",
            "_________________________________________________________________\n",
            "batch_normalization (BatchNo (None, 32, 32, 32)        128       \n",
            "_________________________________________________________________\n",
            "leaky_re_lu (LeakyReLU)      (None, 32, 32, 32)        0         \n",
            "_________________________________________________________________\n",
            "conv2d_1 (Conv2D)            (None, 16, 16, 32)        9248      \n",
            "_________________________________________________________________\n",
            "batch_normalization_1 (Batch (None, 16, 16, 32)        128       \n",
            "_________________________________________________________________\n",
            "leaky_re_lu_1 (LeakyReLU)    (None, 16, 16, 32)        0         \n",
            "_________________________________________________________________\n",
            "conv2d_2 (Conv2D)            (None, 16, 16, 64)        18496     \n",
            "_________________________________________________________________\n",
            "batch_normalization_2 (Batch (None, 16, 16, 64)        256       \n",
            "_________________________________________________________________\n",
            "leaky_re_lu_2 (LeakyReLU)    (None, 16, 16, 64)        0         \n",
            "_________________________________________________________________\n",
            "conv2d_3 (Conv2D)            (None, 8, 8, 64)          36928     \n",
            "_________________________________________________________________\n",
            "batch_normalization_3 (Batch (None, 8, 8, 64)          256       \n",
            "_________________________________________________________________\n",
            "leaky_re_lu_3 (LeakyReLU)    (None, 8, 8, 64)          0         \n",
            "_________________________________________________________________\n",
            "flatten (Flatten)            (None, 4096)              0         \n",
            "_________________________________________________________________\n",
            "dense (Dense)                (None, 128)               524416    \n",
            "_________________________________________________________________\n",
            "batch_normalization_4 (Batch (None, 128)               512       \n",
            "_________________________________________________________________\n",
            "leaky_re_lu_4 (LeakyReLU)    (None, 128)               0         \n",
            "_________________________________________________________________\n",
            "dropout (Dropout)            (None, 128)               0         \n",
            "_________________________________________________________________\n",
            "dense_1 (Dense)              (None, 10)                1290      \n",
            "_________________________________________________________________\n",
            "activation (Activation)      (None, 10)                0         \n",
            "=================================================================\n",
            "Total params: 592,554\n",
            "Trainable params: 591,914\n",
            "Non-trainable params: 640\n",
            "_________________________________________________________________\n"
          ],
          "name": "stdout"
        }
      ]
    },
    {
      "cell_type": "markdown",
      "metadata": {
        "id": "Qddbqd86GaDt"
      },
      "source": [
        "### 2) Model Compile\n",
        "* 모델 학습방법 설정"
      ]
    },
    {
      "cell_type": "code",
      "metadata": {
        "id": "MhvCFzC8GYK4"
      },
      "source": [
        "CIFAR.compile(loss = 'categorical_crossentropy', \n",
        "              optimizer = 'adam', \n",
        "              metrics = ['accuracy'])"
      ],
      "execution_count": 12,
      "outputs": []
    },
    {
      "cell_type": "markdown",
      "metadata": {
        "id": "pLX05KeSGjNI"
      },
      "source": [
        "### 3) Model Fit"
      ]
    },
    {
      "cell_type": "code",
      "metadata": {
        "colab": {
          "base_uri": "https://localhost:8080/"
        },
        "id": "wdWZTcjCGhR2",
        "outputId": "bc0a40f9-3be3-4b46-a906-e6c06fb95377"
      },
      "source": [
        "%%time\n",
        "Hist_CIFAR = CIFAR.fit(X_train, y_train, \n",
        "                       epochs = 100, \n",
        "                       batch_size = 128, \n",
        "                       validation_split = 0.2)"
      ],
      "execution_count": 13,
      "outputs": [
        {
          "output_type": "stream",
          "text": [
            "Epoch 1/100\n",
            "313/313 [==============================] - 38s 15ms/step - loss: 1.8388 - accuracy: 0.3725 - val_loss: 2.5470 - val_accuracy: 0.2405\n",
            "Epoch 2/100\n",
            "313/313 [==============================] - 4s 13ms/step - loss: 1.2161 - accuracy: 0.5704 - val_loss: 1.1983 - val_accuracy: 0.5755\n",
            "Epoch 3/100\n",
            "313/313 [==============================] - 4s 13ms/step - loss: 1.0278 - accuracy: 0.6332 - val_loss: 1.9307 - val_accuracy: 0.4735\n",
            "Epoch 4/100\n",
            "313/313 [==============================] - 4s 13ms/step - loss: 0.9270 - accuracy: 0.6737 - val_loss: 0.9482 - val_accuracy: 0.6700\n",
            "Epoch 5/100\n",
            "313/313 [==============================] - 4s 13ms/step - loss: 0.8485 - accuracy: 0.7045 - val_loss: 0.9779 - val_accuracy: 0.6644\n",
            "Epoch 6/100\n",
            "313/313 [==============================] - 4s 13ms/step - loss: 0.7828 - accuracy: 0.7261 - val_loss: 0.8804 - val_accuracy: 0.6900\n",
            "Epoch 7/100\n",
            "313/313 [==============================] - 4s 13ms/step - loss: 0.7418 - accuracy: 0.7398 - val_loss: 1.0614 - val_accuracy: 0.6471\n",
            "Epoch 8/100\n",
            "313/313 [==============================] - 4s 13ms/step - loss: 0.6867 - accuracy: 0.7543 - val_loss: 0.8566 - val_accuracy: 0.7089\n",
            "Epoch 9/100\n",
            "313/313 [==============================] - 4s 13ms/step - loss: 0.6502 - accuracy: 0.7760 - val_loss: 0.8695 - val_accuracy: 0.7017\n",
            "Epoch 10/100\n",
            "313/313 [==============================] - 4s 13ms/step - loss: 0.6086 - accuracy: 0.7850 - val_loss: 0.8452 - val_accuracy: 0.7117\n",
            "Epoch 11/100\n",
            "313/313 [==============================] - 4s 13ms/step - loss: 0.5749 - accuracy: 0.7973 - val_loss: 0.9709 - val_accuracy: 0.6830\n",
            "Epoch 12/100\n",
            "313/313 [==============================] - 4s 13ms/step - loss: 0.5375 - accuracy: 0.8095 - val_loss: 0.8909 - val_accuracy: 0.7055\n",
            "Epoch 13/100\n",
            "313/313 [==============================] - 4s 13ms/step - loss: 0.5084 - accuracy: 0.8221 - val_loss: 0.9254 - val_accuracy: 0.6987\n",
            "Epoch 14/100\n",
            "313/313 [==============================] - 4s 13ms/step - loss: 0.4894 - accuracy: 0.8278 - val_loss: 1.1263 - val_accuracy: 0.6557\n",
            "Epoch 15/100\n",
            "313/313 [==============================] - 4s 13ms/step - loss: 0.4577 - accuracy: 0.8384 - val_loss: 0.9559 - val_accuracy: 0.7094\n",
            "Epoch 16/100\n",
            "313/313 [==============================] - 4s 13ms/step - loss: 0.4287 - accuracy: 0.8466 - val_loss: 1.1554 - val_accuracy: 0.6654\n",
            "Epoch 17/100\n",
            "313/313 [==============================] - 4s 13ms/step - loss: 0.3984 - accuracy: 0.8571 - val_loss: 0.9579 - val_accuracy: 0.7099\n",
            "Epoch 18/100\n",
            "313/313 [==============================] - 4s 13ms/step - loss: 0.3765 - accuracy: 0.8671 - val_loss: 1.0448 - val_accuracy: 0.7027\n",
            "Epoch 19/100\n",
            "313/313 [==============================] - 4s 13ms/step - loss: 0.3554 - accuracy: 0.8747 - val_loss: 1.0282 - val_accuracy: 0.6933\n",
            "Epoch 20/100\n",
            "313/313 [==============================] - 4s 13ms/step - loss: 0.3426 - accuracy: 0.8777 - val_loss: 1.0332 - val_accuracy: 0.7045\n",
            "Epoch 21/100\n",
            "313/313 [==============================] - 4s 13ms/step - loss: 0.3262 - accuracy: 0.8829 - val_loss: 0.9797 - val_accuracy: 0.7234\n",
            "Epoch 22/100\n",
            "313/313 [==============================] - 4s 13ms/step - loss: 0.3093 - accuracy: 0.8889 - val_loss: 1.1284 - val_accuracy: 0.7020\n",
            "Epoch 23/100\n",
            "313/313 [==============================] - 4s 13ms/step - loss: 0.2954 - accuracy: 0.8935 - val_loss: 1.1470 - val_accuracy: 0.7008\n",
            "Epoch 24/100\n",
            "313/313 [==============================] - 4s 13ms/step - loss: 0.2796 - accuracy: 0.8988 - val_loss: 1.1929 - val_accuracy: 0.6952\n",
            "Epoch 25/100\n",
            "313/313 [==============================] - 4s 13ms/step - loss: 0.2703 - accuracy: 0.9045 - val_loss: 1.2471 - val_accuracy: 0.7021\n",
            "Epoch 26/100\n",
            "313/313 [==============================] - 4s 13ms/step - loss: 0.2541 - accuracy: 0.9088 - val_loss: 1.2273 - val_accuracy: 0.6917\n",
            "Epoch 27/100\n",
            "313/313 [==============================] - 4s 13ms/step - loss: 0.2431 - accuracy: 0.9108 - val_loss: 1.2746 - val_accuracy: 0.6979\n",
            "Epoch 28/100\n",
            "313/313 [==============================] - 4s 13ms/step - loss: 0.2309 - accuracy: 0.9181 - val_loss: 1.2087 - val_accuracy: 0.7003\n",
            "Epoch 29/100\n",
            "313/313 [==============================] - 4s 13ms/step - loss: 0.2245 - accuracy: 0.9190 - val_loss: 1.2629 - val_accuracy: 0.6992\n",
            "Epoch 30/100\n",
            "313/313 [==============================] - 4s 13ms/step - loss: 0.2164 - accuracy: 0.9207 - val_loss: 1.4412 - val_accuracy: 0.6973\n",
            "Epoch 31/100\n",
            "313/313 [==============================] - 4s 13ms/step - loss: 0.2115 - accuracy: 0.9235 - val_loss: 1.2803 - val_accuracy: 0.6995\n",
            "Epoch 32/100\n",
            "313/313 [==============================] - 4s 13ms/step - loss: 0.1981 - accuracy: 0.9275 - val_loss: 1.1944 - val_accuracy: 0.7206\n",
            "Epoch 33/100\n",
            "313/313 [==============================] - 4s 13ms/step - loss: 0.1813 - accuracy: 0.9343 - val_loss: 1.5998 - val_accuracy: 0.6699\n",
            "Epoch 34/100\n",
            "313/313 [==============================] - 4s 13ms/step - loss: 0.1947 - accuracy: 0.9283 - val_loss: 1.3833 - val_accuracy: 0.6883\n",
            "Epoch 35/100\n",
            "313/313 [==============================] - 4s 13ms/step - loss: 0.1824 - accuracy: 0.9347 - val_loss: 1.4576 - val_accuracy: 0.6916\n",
            "Epoch 36/100\n",
            "313/313 [==============================] - 4s 13ms/step - loss: 0.1707 - accuracy: 0.9387 - val_loss: 1.3657 - val_accuracy: 0.7076\n",
            "Epoch 37/100\n",
            "313/313 [==============================] - 4s 13ms/step - loss: 0.1694 - accuracy: 0.9393 - val_loss: 1.4984 - val_accuracy: 0.6938\n",
            "Epoch 38/100\n",
            "313/313 [==============================] - 4s 13ms/step - loss: 0.1555 - accuracy: 0.9441 - val_loss: 1.6189 - val_accuracy: 0.6927\n",
            "Epoch 39/100\n",
            "313/313 [==============================] - 4s 13ms/step - loss: 0.1684 - accuracy: 0.9398 - val_loss: 1.5639 - val_accuracy: 0.6908\n",
            "Epoch 40/100\n",
            "313/313 [==============================] - 4s 13ms/step - loss: 0.1568 - accuracy: 0.9442 - val_loss: 1.4574 - val_accuracy: 0.7085\n",
            "Epoch 41/100\n",
            "313/313 [==============================] - 4s 13ms/step - loss: 0.1525 - accuracy: 0.9462 - val_loss: 1.5559 - val_accuracy: 0.6953\n",
            "Epoch 42/100\n",
            "313/313 [==============================] - 4s 13ms/step - loss: 0.1517 - accuracy: 0.9457 - val_loss: 1.5562 - val_accuracy: 0.6912\n",
            "Epoch 43/100\n",
            "313/313 [==============================] - 4s 13ms/step - loss: 0.1472 - accuracy: 0.9470 - val_loss: 1.5382 - val_accuracy: 0.7019\n",
            "Epoch 44/100\n",
            "313/313 [==============================] - 4s 13ms/step - loss: 0.1411 - accuracy: 0.9504 - val_loss: 1.5457 - val_accuracy: 0.6995\n",
            "Epoch 45/100\n",
            "313/313 [==============================] - 4s 13ms/step - loss: 0.1503 - accuracy: 0.9453 - val_loss: 1.5557 - val_accuracy: 0.7005\n",
            "Epoch 46/100\n",
            "313/313 [==============================] - 4s 13ms/step - loss: 0.1396 - accuracy: 0.9505 - val_loss: 1.6012 - val_accuracy: 0.6990\n",
            "Epoch 47/100\n",
            "313/313 [==============================] - 4s 13ms/step - loss: 0.1227 - accuracy: 0.9547 - val_loss: 1.5277 - val_accuracy: 0.7008\n",
            "Epoch 48/100\n",
            "313/313 [==============================] - 4s 13ms/step - loss: 0.1336 - accuracy: 0.9522 - val_loss: 1.8714 - val_accuracy: 0.6703\n",
            "Epoch 49/100\n",
            "313/313 [==============================] - 4s 13ms/step - loss: 0.1392 - accuracy: 0.9487 - val_loss: 1.7052 - val_accuracy: 0.6954\n",
            "Epoch 50/100\n",
            "313/313 [==============================] - 4s 13ms/step - loss: 0.1224 - accuracy: 0.9561 - val_loss: 1.5512 - val_accuracy: 0.7071\n",
            "Epoch 51/100\n",
            "313/313 [==============================] - 4s 13ms/step - loss: 0.1209 - accuracy: 0.9566 - val_loss: 1.6106 - val_accuracy: 0.6976\n",
            "Epoch 52/100\n",
            "313/313 [==============================] - 4s 13ms/step - loss: 0.1217 - accuracy: 0.9572 - val_loss: 1.9327 - val_accuracy: 0.6713\n",
            "Epoch 53/100\n",
            "313/313 [==============================] - 4s 13ms/step - loss: 0.1154 - accuracy: 0.9580 - val_loss: 1.5430 - val_accuracy: 0.7047\n",
            "Epoch 54/100\n",
            "313/313 [==============================] - 4s 13ms/step - loss: 0.1062 - accuracy: 0.9636 - val_loss: 1.7087 - val_accuracy: 0.6985\n",
            "Epoch 55/100\n",
            "313/313 [==============================] - 4s 13ms/step - loss: 0.1090 - accuracy: 0.9610 - val_loss: 1.7739 - val_accuracy: 0.6968\n",
            "Epoch 56/100\n",
            "313/313 [==============================] - 4s 13ms/step - loss: 0.1060 - accuracy: 0.9619 - val_loss: 1.7260 - val_accuracy: 0.6957\n",
            "Epoch 57/100\n",
            "313/313 [==============================] - 4s 13ms/step - loss: 0.1103 - accuracy: 0.9604 - val_loss: 1.8257 - val_accuracy: 0.6853\n",
            "Epoch 58/100\n",
            "313/313 [==============================] - 4s 14ms/step - loss: 0.1122 - accuracy: 0.9608 - val_loss: 1.7882 - val_accuracy: 0.7012\n",
            "Epoch 59/100\n",
            "313/313 [==============================] - 4s 14ms/step - loss: 0.0999 - accuracy: 0.9629 - val_loss: 1.7073 - val_accuracy: 0.7151\n",
            "Epoch 60/100\n",
            "313/313 [==============================] - 4s 14ms/step - loss: 0.0970 - accuracy: 0.9658 - val_loss: 1.6568 - val_accuracy: 0.7131\n",
            "Epoch 61/100\n",
            "313/313 [==============================] - 4s 13ms/step - loss: 0.0994 - accuracy: 0.9638 - val_loss: 1.7073 - val_accuracy: 0.6986\n",
            "Epoch 62/100\n",
            "313/313 [==============================] - 4s 13ms/step - loss: 0.1045 - accuracy: 0.9632 - val_loss: 1.9476 - val_accuracy: 0.6882\n",
            "Epoch 63/100\n",
            "313/313 [==============================] - 4s 13ms/step - loss: 0.1076 - accuracy: 0.9627 - val_loss: 1.7442 - val_accuracy: 0.6899\n",
            "Epoch 64/100\n",
            "313/313 [==============================] - 4s 13ms/step - loss: 0.1019 - accuracy: 0.9637 - val_loss: 1.8052 - val_accuracy: 0.6993\n",
            "Epoch 65/100\n",
            "313/313 [==============================] - 4s 13ms/step - loss: 0.0924 - accuracy: 0.9663 - val_loss: 1.7804 - val_accuracy: 0.7051\n",
            "Epoch 66/100\n",
            "313/313 [==============================] - 4s 13ms/step - loss: 0.0978 - accuracy: 0.9656 - val_loss: 1.6919 - val_accuracy: 0.7060\n",
            "Epoch 67/100\n",
            "313/313 [==============================] - 4s 13ms/step - loss: 0.0914 - accuracy: 0.9678 - val_loss: 1.8731 - val_accuracy: 0.6976\n",
            "Epoch 68/100\n",
            "313/313 [==============================] - 4s 13ms/step - loss: 0.0857 - accuracy: 0.9696 - val_loss: 1.8002 - val_accuracy: 0.6953\n",
            "Epoch 69/100\n",
            "313/313 [==============================] - 4s 13ms/step - loss: 0.0920 - accuracy: 0.9687 - val_loss: 1.7599 - val_accuracy: 0.7012\n",
            "Epoch 70/100\n",
            "313/313 [==============================] - 4s 13ms/step - loss: 0.0904 - accuracy: 0.9675 - val_loss: 1.8049 - val_accuracy: 0.7091\n",
            "Epoch 71/100\n",
            "313/313 [==============================] - 4s 13ms/step - loss: 0.0856 - accuracy: 0.9692 - val_loss: 1.7927 - val_accuracy: 0.7088\n",
            "Epoch 72/100\n",
            "313/313 [==============================] - 4s 13ms/step - loss: 0.0937 - accuracy: 0.9670 - val_loss: 1.8663 - val_accuracy: 0.6936\n",
            "Epoch 73/100\n",
            "313/313 [==============================] - 4s 13ms/step - loss: 0.0875 - accuracy: 0.9686 - val_loss: 1.8686 - val_accuracy: 0.7012\n",
            "Epoch 74/100\n",
            "313/313 [==============================] - 4s 13ms/step - loss: 0.0881 - accuracy: 0.9682 - val_loss: 1.8740 - val_accuracy: 0.6973\n",
            "Epoch 75/100\n",
            "313/313 [==============================] - 4s 13ms/step - loss: 0.0850 - accuracy: 0.9703 - val_loss: 1.8484 - val_accuracy: 0.7043\n",
            "Epoch 76/100\n",
            "313/313 [==============================] - 4s 13ms/step - loss: 0.0946 - accuracy: 0.9672 - val_loss: 1.8210 - val_accuracy: 0.7012\n",
            "Epoch 77/100\n",
            "313/313 [==============================] - 4s 13ms/step - loss: 0.0841 - accuracy: 0.9716 - val_loss: 1.8687 - val_accuracy: 0.7022\n",
            "Epoch 78/100\n",
            "313/313 [==============================] - 4s 13ms/step - loss: 0.0812 - accuracy: 0.9711 - val_loss: 1.9439 - val_accuracy: 0.7043\n",
            "Epoch 79/100\n",
            "313/313 [==============================] - 4s 13ms/step - loss: 0.0853 - accuracy: 0.9694 - val_loss: 1.9127 - val_accuracy: 0.6985\n",
            "Epoch 80/100\n",
            "313/313 [==============================] - 4s 13ms/step - loss: 0.0820 - accuracy: 0.9709 - val_loss: 1.9824 - val_accuracy: 0.6909\n",
            "Epoch 81/100\n",
            "313/313 [==============================] - 4s 13ms/step - loss: 0.0771 - accuracy: 0.9721 - val_loss: 1.9591 - val_accuracy: 0.6882\n",
            "Epoch 82/100\n",
            "313/313 [==============================] - 4s 13ms/step - loss: 0.0824 - accuracy: 0.9705 - val_loss: 1.8613 - val_accuracy: 0.7107\n",
            "Epoch 83/100\n",
            "313/313 [==============================] - 4s 13ms/step - loss: 0.0716 - accuracy: 0.9750 - val_loss: 1.9196 - val_accuracy: 0.7055\n",
            "Epoch 84/100\n",
            "313/313 [==============================] - 4s 13ms/step - loss: 0.0755 - accuracy: 0.9717 - val_loss: 1.9689 - val_accuracy: 0.6986\n",
            "Epoch 85/100\n",
            "313/313 [==============================] - 4s 13ms/step - loss: 0.0794 - accuracy: 0.9707 - val_loss: 1.8411 - val_accuracy: 0.7034\n",
            "Epoch 86/100\n",
            "313/313 [==============================] - 4s 14ms/step - loss: 0.0748 - accuracy: 0.9736 - val_loss: 2.1625 - val_accuracy: 0.6862\n",
            "Epoch 87/100\n",
            "313/313 [==============================] - 4s 13ms/step - loss: 0.0738 - accuracy: 0.9740 - val_loss: 1.9548 - val_accuracy: 0.6959\n",
            "Epoch 88/100\n",
            "313/313 [==============================] - 4s 13ms/step - loss: 0.0733 - accuracy: 0.9737 - val_loss: 1.9398 - val_accuracy: 0.7001\n",
            "Epoch 89/100\n",
            "313/313 [==============================] - 4s 13ms/step - loss: 0.0692 - accuracy: 0.9758 - val_loss: 1.9813 - val_accuracy: 0.6994\n",
            "Epoch 90/100\n",
            "313/313 [==============================] - 4s 13ms/step - loss: 0.0751 - accuracy: 0.9725 - val_loss: 2.0197 - val_accuracy: 0.6929\n",
            "Epoch 91/100\n",
            "313/313 [==============================] - 4s 13ms/step - loss: 0.0696 - accuracy: 0.9760 - val_loss: 2.0812 - val_accuracy: 0.6990\n",
            "Epoch 92/100\n",
            "313/313 [==============================] - 4s 13ms/step - loss: 0.0739 - accuracy: 0.9753 - val_loss: 1.9028 - val_accuracy: 0.7029\n",
            "Epoch 93/100\n",
            "313/313 [==============================] - 4s 13ms/step - loss: 0.0627 - accuracy: 0.9777 - val_loss: 2.1448 - val_accuracy: 0.6948\n",
            "Epoch 94/100\n",
            "313/313 [==============================] - 4s 13ms/step - loss: 0.0690 - accuracy: 0.9749 - val_loss: 1.9345 - val_accuracy: 0.7041\n",
            "Epoch 95/100\n",
            "313/313 [==============================] - 4s 13ms/step - loss: 0.0731 - accuracy: 0.9741 - val_loss: 2.2273 - val_accuracy: 0.6843\n",
            "Epoch 96/100\n",
            "313/313 [==============================] - 4s 13ms/step - loss: 0.0655 - accuracy: 0.9765 - val_loss: 2.2152 - val_accuracy: 0.6912\n",
            "Epoch 97/100\n",
            "313/313 [==============================] - 4s 13ms/step - loss: 0.0694 - accuracy: 0.9757 - val_loss: 1.9826 - val_accuracy: 0.7108\n",
            "Epoch 98/100\n",
            "313/313 [==============================] - 4s 13ms/step - loss: 0.0635 - accuracy: 0.9783 - val_loss: 2.0421 - val_accuracy: 0.6979\n",
            "Epoch 99/100\n",
            "313/313 [==============================] - 4s 13ms/step - loss: 0.0630 - accuracy: 0.9772 - val_loss: 2.0860 - val_accuracy: 0.7024\n",
            "Epoch 100/100\n",
            "313/313 [==============================] - 4s 13ms/step - loss: 0.0662 - accuracy: 0.9774 - val_loss: 1.9686 - val_accuracy: 0.7049\n",
            "CPU times: user 5min 34s, sys: 1min 35s, total: 7min 9s\n",
            "Wall time: 7min 27s\n"
          ],
          "name": "stdout"
        }
      ]
    },
    {
      "cell_type": "markdown",
      "metadata": {
        "id": "yUe8PUmFGrJ4"
      },
      "source": [
        "### 4) 학습 결과 시각화\n",
        "* Loss Visualization"
      ]
    },
    {
      "cell_type": "code",
      "metadata": {
        "colab": {
          "base_uri": "https://localhost:8080/",
          "height": 404
        },
        "id": "o5XGceAcGoZh",
        "outputId": "a3a7914d-964b-465e-fbef-840c4b2b6674"
      },
      "source": [
        "import matplotlib.pyplot as plt \n",
        "\n",
        "epochs = range(1, len(Hist_CIFAR.history['loss']) + 1)\n",
        "\n",
        "plt.figure(figsize = (9, 6)) \n",
        "plt.plot(epochs, Hist_CIFAR.history['loss']) \n",
        "plt.plot(epochs, Hist_CIFAR.history['val_loss']) \n",
        "# plt.ylim(0, 0.25) \n",
        "plt.title('Training & Validation Loss') \n",
        "plt.xlabel('Epochs') \n",
        "plt.ylabel('Loss') \n",
        "plt.legend(['Training Loss', 'Validation Loss']) \n",
        "plt.grid() \n",
        "plt.show()"
      ],
      "execution_count": 14,
      "outputs": [
        {
          "output_type": "display_data",
          "data": {
            "image/png": "[encoded data removed]",
            "text/plain": [
              "<Figure size 648x432 with 1 Axes>"
            ]
          },
          "metadata": {
            "tags": [],
            "needs_background": "light"
          }
        }
      ]
    },
    {
      "cell_type": "markdown",
      "metadata": {
        "id": "AIAtPiJoG808"
      },
      "source": [
        "### 5) Model Evaluate\n",
        "* Loss & Accuracy"
      ]
    },
    {
      "cell_type": "code",
      "metadata": {
        "colab": {
          "base_uri": "https://localhost:8080/"
        },
        "id": "T1aI6ylqHDJq",
        "outputId": "d042f9fd-f3ac-4df7-cb32-be54397fde9f"
      },
      "source": [
        "loss, accuracy = CIFAR.evaluate(X_test, y_test)\n",
        "\n",
        "print('Loss = {:.5f}'.format(loss)) \n",
        "print('Accuracy = {:.5f}'.format(accuracy))"
      ],
      "execution_count": 15,
      "outputs": [
        {
          "output_type": "stream",
          "text": [
            "313/313 [==============================] - 1s 3ms/step - loss: 2.1104 - accuracy: 0.6914\n",
            "Loss = 2.11039\n",
            "Accuracy = 0.69140\n"
          ],
          "name": "stdout"
        }
      ]
    },
    {
      "cell_type": "markdown",
      "metadata": {
        "id": "xTdoWmQ9HGpv"
      },
      "source": [
        "## 4.성능평가"
      ]
    },
    {
      "cell_type": "markdown",
      "metadata": {
        "id": "Ep8crNh6HKQw"
      },
      "source": [
        "### 1) Label Name 지정"
      ]
    },
    {
      "cell_type": "code",
      "metadata": {
        "id": "h1J8tV_HHMX3"
      },
      "source": [
        "import numpy as np\n",
        "\n",
        "CLASSES = np.array(['Airplane', 'Automobile', 'Bird', 'Cat', 'Deer', 'Dog', 'Frog', 'Horse', 'Ship', 'Truck'])\n",
        "\n",
        "preds = CIFAR.predict(X_test)\n",
        "preds_single = CLASSES[np.argmax(preds, axis = -1)] \n",
        "actual_single = CLASSES[np.argmax(y_test, axis = -1)]"
      ],
      "execution_count": 16,
      "outputs": []
    },
    {
      "cell_type": "markdown",
      "metadata": {
        "id": "W3nrAB-gHRMa"
      },
      "source": [
        "### 2) 비교 시각화"
      ]
    },
    {
      "cell_type": "code",
      "metadata": {
        "colab": {
          "base_uri": "https://localhost:8080/",
          "height": 135
        },
        "id": "m_8S3cN8HTS9",
        "outputId": "34e1f25e-079c-4963-8eec-e40ea778a052"
      },
      "source": [
        "import matplotlib.pyplot as plt\n",
        "\n",
        "n_to_show = 10 \n",
        "indices = np.random.choice(range(len(X_test)), n_to_show)\n",
        "\n",
        "fig = plt.figure(figsize = (15, 3)) \n",
        "fig.subplots_adjust(hspace = 0.4, wspace = 0.4)\n",
        "\n",
        "for i, idx in enumerate(indices): \n",
        "  img = X_test[idx] \n",
        "  ax = fig.add_subplot(1, n_to_show, i + 1) \n",
        "  ax.axis('off') \n",
        "  ax.text(0.5, -0.35, \n",
        "          'Pred = ' + str(preds_single[idx]), \n",
        "          fontsize = 10, \n",
        "          ha = 'center',\n",
        "          transform = ax.transAxes)\n",
        "  ax.text(0.5, -0.7, \n",
        "          'Act = ' + str(actual_single[idx]), \n",
        "          fontsize = 10, \n",
        "          ha = 'center',\n",
        "          transform = ax.transAxes) \n",
        "  ax.imshow(img)"
      ],
      "execution_count": 17,
      "outputs": [
        {
          "output_type": "display_data",
          "data": {
            "image/png": "[encoded data removed]",
            "text/plain": [
              "<Figure size 1080x216 with 10 Axes>"
            ]
          },
          "metadata": {
            "tags": [],
            "needs_background": "light"
          }
        }
      ]
    },
    {
      "cell_type": "markdown",
      "metadata": {
        "id": "RKwEMfDlHsAt"
      },
      "source": [
        "본 내용은 2021/03/23(화)에 학습한 내용입니다."
      ]
    }
  ]
}
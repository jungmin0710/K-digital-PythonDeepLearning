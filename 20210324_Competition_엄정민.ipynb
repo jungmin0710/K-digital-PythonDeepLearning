{
  "nbformat": 4,
  "nbformat_minor": 0,
  "metadata": {
    "colab": {
      "name": "20210324_Competition_엄정민.ipynb",
      "provenance": [],
      "collapsed_sections": [],
      "include_colab_link": true
    },
    "kernelspec": {
      "name": "python3",
      "display_name": "Python 3"
    },
    "language_info": {
      "name": "python"
    },
    "accelerator": "GPU"
  },
  "cells": [
    {
      "cell_type": "markdown",
      "metadata": {
        "id": "view-in-github",
        "colab_type": "text"
      },
      "source": [
        "<a href=\"https://colab.research.google.com/github/jungmin0710/K-digital-PythonDeepLearning/blob/main/20210324_Competition_%EC%97%84%EC%A0%95%EB%AF%BC.ipynb\" target=\"_parent\"><img src=\"https://colab.research.google.com/assets/colab-badge.svg\" alt=\"Open In Colab\"/></a>"
      ]
    },
    {
      "cell_type": "markdown",
      "metadata": {
        "id": "ez9NLsFQIsJ6"
      },
      "source": [
        "# Competition\n",
        "\n",
        "##자동차 모델 분류"
      ]
    },
    {
      "cell_type": "markdown",
      "metadata": {
        "id": "j8tPrci_mHbh"
      },
      "source": [
        "* 조건\n",
        "- Categorical Classification(몇 개로 분류되는지도 확인)\n",
        "- Metric -> 'Accuracy'\n",
        "- 프로젝트와 관련된 의견을 작성할 것\n",
        "- 11시 20분까지 메일로 제출"
      ]
    },
    {
      "cell_type": "code",
      "metadata": {
        "id": "RbPgODpVzdHI"
      },
      "source": [
        "import warnings\n",
        "warnings.filterwarnings('ignore')"
      ],
      "execution_count": 1,
      "outputs": []
    },
    {
      "cell_type": "markdown",
      "metadata": {
        "id": "CCYwQff0IwzA"
      },
      "source": [
        "# I. DataSet Load"
      ]
    },
    {
      "cell_type": "code",
      "metadata": {
        "id": "EkooevWlEpae",
        "colab": {
          "base_uri": "https://localhost:8080/"
        },
        "outputId": "a5edd703-8435-4d9d-cde6-a16ce8c57657"
      },
      "source": [
        "from google.colab import drive\n",
        "\n",
        "drive.mount('/content/drive')"
      ],
      "execution_count": 2,
      "outputs": [
        {
          "output_type": "stream",
          "text": [
            "Drive already mounted at /content/drive; to attempt to forcibly remount, call drive.mount(\"/content/drive\", force_remount=True).\n"
          ],
          "name": "stdout"
        }
      ]
    },
    {
      "cell_type": "code",
      "metadata": {
        "id": "ZAA_YjrVExu7",
        "colab": {
          "base_uri": "https://localhost:8080/"
        },
        "outputId": "b563c555-7a8b-42a9-d902-69d87e298b20"
      },
      "source": [
        "!ls -l '/content/drive/My Drive/Colab Notebooks/datasets/DataSet.pkl'"
      ],
      "execution_count": 3,
      "outputs": [
        {
          "output_type": "stream",
          "text": [
            "-rw------- 1 root root 82003032 Mar 24 00:15 '/content/drive/My Drive/Colab Notebooks/datasets/DataSet.pkl'\n"
          ],
          "name": "stdout"
        }
      ]
    },
    {
      "cell_type": "markdown",
      "metadata": {
        "id": "4AHg3MGJI1zS"
      },
      "source": [
        "> ## 1) 'DataSet.pkl'\n",
        "\n",
        "* 압축형식 : 'Gzip'"
      ]
    },
    {
      "cell_type": "code",
      "metadata": {
        "id": "n0peLvWIfc0F",
        "colab": {
          "base_uri": "https://localhost:8080/"
        },
        "outputId": "4467b6d1-c2f9-42c6-f52e-4cc2403a61e6"
      },
      "source": [
        "import pandas as pd\n",
        "\n",
        "url = '/content/drive/My Drive/Colab Notebooks/datasets/DataSet.pkl'\n",
        "DF = pd.read_pickle(url, compression = 'gzip')\n",
        "\n",
        "DF.shape"
      ],
      "execution_count": 4,
      "outputs": [
        {
          "output_type": "execute_result",
          "data": {
            "text/plain": [
              "(24916, 2701)"
            ]
          },
          "metadata": {
            "tags": []
          },
          "execution_count": 4
        }
      ]
    },
    {
      "cell_type": "markdown",
      "metadata": {
        "id": "QOLgyA5YJTsL"
      },
      "source": [
        "> ## 2) DataFrame Information"
      ]
    },
    {
      "cell_type": "code",
      "metadata": {
        "colab": {
          "base_uri": "https://localhost:8080/"
        },
        "id": "4LZX5mJmHn28",
        "outputId": "c47e8325-2405-451a-badc-d83136b1db1e"
      },
      "source": [
        "DF.info()"
      ],
      "execution_count": 5,
      "outputs": [
        {
          "output_type": "stream",
          "text": [
            "<class 'pandas.core.frame.DataFrame'>\n",
            "RangeIndex: 24916 entries, 0 to 24915\n",
            "Columns: 2701 entries, 0 to 2700\n",
            "dtypes: object(2701)\n",
            "memory usage: 513.4+ MB\n"
          ],
          "name": "stdout"
        }
      ]
    },
    {
      "cell_type": "code",
      "metadata": {
        "colab": {
          "base_uri": "https://localhost:8080/",
          "height": 423
        },
        "id": "LkKyNTbcHqf0",
        "outputId": "30d6762d-017c-41c2-d647-d092f88ccae8"
      },
      "source": [
        "DF.head() #마지막 열(2700)이 자동차 모델 네임"
      ],
      "execution_count": 6,
      "outputs": [
        {
          "output_type": "execute_result",
          "data": {
            "text/html": [
              "<div>\n",
              "<style scoped>\n",
              "    .dataframe tbody tr th:only-of-type {\n",
              "        vertical-align: middle;\n",
              "    }\n",
              "\n",
              "    .dataframe tbody tr th {\n",
              "        vertical-align: top;\n",
              "    }\n",
              "\n",
              "    .dataframe thead th {\n",
              "        text-align: right;\n",
              "    }\n",
              "</style>\n",
              "<table border=\"1\" class=\"dataframe\">\n",
              "  <thead>\n",
              "    <tr style=\"text-align: right;\">\n",
              "      <th></th>\n",
              "      <th>0</th>\n",
              "      <th>1</th>\n",
              "      <th>2</th>\n",
              "      <th>3</th>\n",
              "      <th>4</th>\n",
              "      <th>5</th>\n",
              "      <th>6</th>\n",
              "      <th>7</th>\n",
              "      <th>8</th>\n",
              "      <th>9</th>\n",
              "      <th>10</th>\n",
              "      <th>11</th>\n",
              "      <th>12</th>\n",
              "      <th>13</th>\n",
              "      <th>14</th>\n",
              "      <th>15</th>\n",
              "      <th>16</th>\n",
              "      <th>17</th>\n",
              "      <th>18</th>\n",
              "      <th>19</th>\n",
              "      <th>20</th>\n",
              "      <th>21</th>\n",
              "      <th>22</th>\n",
              "      <th>23</th>\n",
              "      <th>24</th>\n",
              "      <th>25</th>\n",
              "      <th>26</th>\n",
              "      <th>27</th>\n",
              "      <th>28</th>\n",
              "      <th>29</th>\n",
              "      <th>30</th>\n",
              "      <th>31</th>\n",
              "      <th>32</th>\n",
              "      <th>33</th>\n",
              "      <th>34</th>\n",
              "      <th>35</th>\n",
              "      <th>36</th>\n",
              "      <th>37</th>\n",
              "      <th>38</th>\n",
              "      <th>39</th>\n",
              "      <th>...</th>\n",
              "      <th>2661</th>\n",
              "      <th>2662</th>\n",
              "      <th>2663</th>\n",
              "      <th>2664</th>\n",
              "      <th>2665</th>\n",
              "      <th>2666</th>\n",
              "      <th>2667</th>\n",
              "      <th>2668</th>\n",
              "      <th>2669</th>\n",
              "      <th>2670</th>\n",
              "      <th>2671</th>\n",
              "      <th>2672</th>\n",
              "      <th>2673</th>\n",
              "      <th>2674</th>\n",
              "      <th>2675</th>\n",
              "      <th>2676</th>\n",
              "      <th>2677</th>\n",
              "      <th>2678</th>\n",
              "      <th>2679</th>\n",
              "      <th>2680</th>\n",
              "      <th>2681</th>\n",
              "      <th>2682</th>\n",
              "      <th>2683</th>\n",
              "      <th>2684</th>\n",
              "      <th>2685</th>\n",
              "      <th>2686</th>\n",
              "      <th>2687</th>\n",
              "      <th>2688</th>\n",
              "      <th>2689</th>\n",
              "      <th>2690</th>\n",
              "      <th>2691</th>\n",
              "      <th>2692</th>\n",
              "      <th>2693</th>\n",
              "      <th>2694</th>\n",
              "      <th>2695</th>\n",
              "      <th>2696</th>\n",
              "      <th>2697</th>\n",
              "      <th>2698</th>\n",
              "      <th>2699</th>\n",
              "      <th>2700</th>\n",
              "    </tr>\n",
              "  </thead>\n",
              "  <tbody>\n",
              "    <tr>\n",
              "      <th>0</th>\n",
              "      <td>230</td>\n",
              "      <td>236</td>\n",
              "      <td>252</td>\n",
              "      <td>226</td>\n",
              "      <td>232</td>\n",
              "      <td>248</td>\n",
              "      <td>220</td>\n",
              "      <td>227</td>\n",
              "      <td>245</td>\n",
              "      <td>214</td>\n",
              "      <td>223</td>\n",
              "      <td>240</td>\n",
              "      <td>212</td>\n",
              "      <td>220</td>\n",
              "      <td>241</td>\n",
              "      <td>206</td>\n",
              "      <td>219</td>\n",
              "      <td>238</td>\n",
              "      <td>204</td>\n",
              "      <td>216</td>\n",
              "      <td>240</td>\n",
              "      <td>199</td>\n",
              "      <td>215</td>\n",
              "      <td>238</td>\n",
              "      <td>199</td>\n",
              "      <td>215</td>\n",
              "      <td>241</td>\n",
              "      <td>193</td>\n",
              "      <td>213</td>\n",
              "      <td>238</td>\n",
              "      <td>189</td>\n",
              "      <td>208</td>\n",
              "      <td>238</td>\n",
              "      <td>183</td>\n",
              "      <td>207</td>\n",
              "      <td>235</td>\n",
              "      <td>181</td>\n",
              "      <td>204</td>\n",
              "      <td>236</td>\n",
              "      <td>177</td>\n",
              "      <td>...</td>\n",
              "      <td>28</td>\n",
              "      <td>28</td>\n",
              "      <td>28</td>\n",
              "      <td>23</td>\n",
              "      <td>24</td>\n",
              "      <td>26</td>\n",
              "      <td>18</td>\n",
              "      <td>22</td>\n",
              "      <td>23</td>\n",
              "      <td>18</td>\n",
              "      <td>21</td>\n",
              "      <td>26</td>\n",
              "      <td>17</td>\n",
              "      <td>22</td>\n",
              "      <td>26</td>\n",
              "      <td>14</td>\n",
              "      <td>21</td>\n",
              "      <td>27</td>\n",
              "      <td>13</td>\n",
              "      <td>20</td>\n",
              "      <td>26</td>\n",
              "      <td>11</td>\n",
              "      <td>16</td>\n",
              "      <td>20</td>\n",
              "      <td>15</td>\n",
              "      <td>20</td>\n",
              "      <td>23</td>\n",
              "      <td>20</td>\n",
              "      <td>21</td>\n",
              "      <td>25</td>\n",
              "      <td>22</td>\n",
              "      <td>24</td>\n",
              "      <td>23</td>\n",
              "      <td>37</td>\n",
              "      <td>35</td>\n",
              "      <td>36</td>\n",
              "      <td>55</td>\n",
              "      <td>54</td>\n",
              "      <td>52</td>\n",
              "      <td>G80스포츠</td>\n",
              "    </tr>\n",
              "    <tr>\n",
              "      <th>1</th>\n",
              "      <td>235</td>\n",
              "      <td>238</td>\n",
              "      <td>243</td>\n",
              "      <td>251</td>\n",
              "      <td>254</td>\n",
              "      <td>255</td>\n",
              "      <td>251</td>\n",
              "      <td>255</td>\n",
              "      <td>255</td>\n",
              "      <td>242</td>\n",
              "      <td>249</td>\n",
              "      <td>255</td>\n",
              "      <td>239</td>\n",
              "      <td>246</td>\n",
              "      <td>255</td>\n",
              "      <td>248</td>\n",
              "      <td>255</td>\n",
              "      <td>255</td>\n",
              "      <td>247</td>\n",
              "      <td>255</td>\n",
              "      <td>255</td>\n",
              "      <td>238</td>\n",
              "      <td>248</td>\n",
              "      <td>255</td>\n",
              "      <td>246</td>\n",
              "      <td>255</td>\n",
              "      <td>255</td>\n",
              "      <td>249</td>\n",
              "      <td>255</td>\n",
              "      <td>255</td>\n",
              "      <td>251</td>\n",
              "      <td>255</td>\n",
              "      <td>255</td>\n",
              "      <td>249</td>\n",
              "      <td>250</td>\n",
              "      <td>255</td>\n",
              "      <td>248</td>\n",
              "      <td>248</td>\n",
              "      <td>250</td>\n",
              "      <td>251</td>\n",
              "      <td>...</td>\n",
              "      <td>54</td>\n",
              "      <td>59</td>\n",
              "      <td>62</td>\n",
              "      <td>46</td>\n",
              "      <td>53</td>\n",
              "      <td>59</td>\n",
              "      <td>40</td>\n",
              "      <td>47</td>\n",
              "      <td>55</td>\n",
              "      <td>36</td>\n",
              "      <td>45</td>\n",
              "      <td>54</td>\n",
              "      <td>36</td>\n",
              "      <td>44</td>\n",
              "      <td>55</td>\n",
              "      <td>38</td>\n",
              "      <td>46</td>\n",
              "      <td>59</td>\n",
              "      <td>40</td>\n",
              "      <td>48</td>\n",
              "      <td>59</td>\n",
              "      <td>33</td>\n",
              "      <td>39</td>\n",
              "      <td>51</td>\n",
              "      <td>38</td>\n",
              "      <td>45</td>\n",
              "      <td>53</td>\n",
              "      <td>42</td>\n",
              "      <td>45</td>\n",
              "      <td>50</td>\n",
              "      <td>51</td>\n",
              "      <td>52</td>\n",
              "      <td>54</td>\n",
              "      <td>69</td>\n",
              "      <td>70</td>\n",
              "      <td>65</td>\n",
              "      <td>124</td>\n",
              "      <td>123</td>\n",
              "      <td>118</td>\n",
              "      <td>G80스포츠</td>\n",
              "    </tr>\n",
              "    <tr>\n",
              "      <th>2</th>\n",
              "      <td>94</td>\n",
              "      <td>112</td>\n",
              "      <td>134</td>\n",
              "      <td>85</td>\n",
              "      <td>103</td>\n",
              "      <td>125</td>\n",
              "      <td>76</td>\n",
              "      <td>97</td>\n",
              "      <td>118</td>\n",
              "      <td>80</td>\n",
              "      <td>101</td>\n",
              "      <td>122</td>\n",
              "      <td>95</td>\n",
              "      <td>116</td>\n",
              "      <td>137</td>\n",
              "      <td>109</td>\n",
              "      <td>130</td>\n",
              "      <td>151</td>\n",
              "      <td>114</td>\n",
              "      <td>137</td>\n",
              "      <td>155</td>\n",
              "      <td>114</td>\n",
              "      <td>137</td>\n",
              "      <td>155</td>\n",
              "      <td>112</td>\n",
              "      <td>133</td>\n",
              "      <td>150</td>\n",
              "      <td>121</td>\n",
              "      <td>143</td>\n",
              "      <td>157</td>\n",
              "      <td>86</td>\n",
              "      <td>105</td>\n",
              "      <td>120</td>\n",
              "      <td>66</td>\n",
              "      <td>86</td>\n",
              "      <td>97</td>\n",
              "      <td>127</td>\n",
              "      <td>145</td>\n",
              "      <td>157</td>\n",
              "      <td>189</td>\n",
              "      <td>...</td>\n",
              "      <td>41</td>\n",
              "      <td>53</td>\n",
              "      <td>65</td>\n",
              "      <td>41</td>\n",
              "      <td>54</td>\n",
              "      <td>63</td>\n",
              "      <td>51</td>\n",
              "      <td>64</td>\n",
              "      <td>73</td>\n",
              "      <td>64</td>\n",
              "      <td>77</td>\n",
              "      <td>86</td>\n",
              "      <td>66</td>\n",
              "      <td>79</td>\n",
              "      <td>88</td>\n",
              "      <td>55</td>\n",
              "      <td>68</td>\n",
              "      <td>76</td>\n",
              "      <td>42</td>\n",
              "      <td>55</td>\n",
              "      <td>63</td>\n",
              "      <td>51</td>\n",
              "      <td>64</td>\n",
              "      <td>70</td>\n",
              "      <td>50</td>\n",
              "      <td>63</td>\n",
              "      <td>69</td>\n",
              "      <td>48</td>\n",
              "      <td>62</td>\n",
              "      <td>65</td>\n",
              "      <td>52</td>\n",
              "      <td>66</td>\n",
              "      <td>69</td>\n",
              "      <td>67</td>\n",
              "      <td>78</td>\n",
              "      <td>82</td>\n",
              "      <td>80</td>\n",
              "      <td>91</td>\n",
              "      <td>95</td>\n",
              "      <td>G80스포츠</td>\n",
              "    </tr>\n",
              "    <tr>\n",
              "      <th>3</th>\n",
              "      <td>80</td>\n",
              "      <td>88</td>\n",
              "      <td>90</td>\n",
              "      <td>68</td>\n",
              "      <td>76</td>\n",
              "      <td>78</td>\n",
              "      <td>79</td>\n",
              "      <td>83</td>\n",
              "      <td>84</td>\n",
              "      <td>122</td>\n",
              "      <td>126</td>\n",
              "      <td>125</td>\n",
              "      <td>178</td>\n",
              "      <td>178</td>\n",
              "      <td>178</td>\n",
              "      <td>211</td>\n",
              "      <td>211</td>\n",
              "      <td>209</td>\n",
              "      <td>221</td>\n",
              "      <td>217</td>\n",
              "      <td>214</td>\n",
              "      <td>216</td>\n",
              "      <td>213</td>\n",
              "      <td>208</td>\n",
              "      <td>223</td>\n",
              "      <td>218</td>\n",
              "      <td>214</td>\n",
              "      <td>213</td>\n",
              "      <td>208</td>\n",
              "      <td>202</td>\n",
              "      <td>204</td>\n",
              "      <td>201</td>\n",
              "      <td>194</td>\n",
              "      <td>205</td>\n",
              "      <td>202</td>\n",
              "      <td>195</td>\n",
              "      <td>208</td>\n",
              "      <td>208</td>\n",
              "      <td>200</td>\n",
              "      <td>209</td>\n",
              "      <td>...</td>\n",
              "      <td>53</td>\n",
              "      <td>64</td>\n",
              "      <td>84</td>\n",
              "      <td>54</td>\n",
              "      <td>65</td>\n",
              "      <td>85</td>\n",
              "      <td>52</td>\n",
              "      <td>64</td>\n",
              "      <td>80</td>\n",
              "      <td>55</td>\n",
              "      <td>67</td>\n",
              "      <td>81</td>\n",
              "      <td>66</td>\n",
              "      <td>79</td>\n",
              "      <td>88</td>\n",
              "      <td>77</td>\n",
              "      <td>90</td>\n",
              "      <td>99</td>\n",
              "      <td>84</td>\n",
              "      <td>97</td>\n",
              "      <td>105</td>\n",
              "      <td>64</td>\n",
              "      <td>77</td>\n",
              "      <td>83</td>\n",
              "      <td>63</td>\n",
              "      <td>76</td>\n",
              "      <td>82</td>\n",
              "      <td>63</td>\n",
              "      <td>76</td>\n",
              "      <td>84</td>\n",
              "      <td>84</td>\n",
              "      <td>97</td>\n",
              "      <td>105</td>\n",
              "      <td>82</td>\n",
              "      <td>92</td>\n",
              "      <td>102</td>\n",
              "      <td>104</td>\n",
              "      <td>114</td>\n",
              "      <td>124</td>\n",
              "      <td>G80스포츠</td>\n",
              "    </tr>\n",
              "    <tr>\n",
              "      <th>4</th>\n",
              "      <td>215</td>\n",
              "      <td>229</td>\n",
              "      <td>194</td>\n",
              "      <td>212</td>\n",
              "      <td>222</td>\n",
              "      <td>195</td>\n",
              "      <td>210</td>\n",
              "      <td>217</td>\n",
              "      <td>201</td>\n",
              "      <td>217</td>\n",
              "      <td>218</td>\n",
              "      <td>213</td>\n",
              "      <td>226</td>\n",
              "      <td>223</td>\n",
              "      <td>232</td>\n",
              "      <td>229</td>\n",
              "      <td>221</td>\n",
              "      <td>236</td>\n",
              "      <td>222</td>\n",
              "      <td>211</td>\n",
              "      <td>227</td>\n",
              "      <td>213</td>\n",
              "      <td>201</td>\n",
              "      <td>211</td>\n",
              "      <td>213</td>\n",
              "      <td>203</td>\n",
              "      <td>204</td>\n",
              "      <td>216</td>\n",
              "      <td>209</td>\n",
              "      <td>199</td>\n",
              "      <td>221</td>\n",
              "      <td>215</td>\n",
              "      <td>201</td>\n",
              "      <td>218</td>\n",
              "      <td>217</td>\n",
              "      <td>197</td>\n",
              "      <td>210</td>\n",
              "      <td>211</td>\n",
              "      <td>195</td>\n",
              "      <td>205</td>\n",
              "      <td>...</td>\n",
              "      <td>31</td>\n",
              "      <td>47</td>\n",
              "      <td>60</td>\n",
              "      <td>42</td>\n",
              "      <td>58</td>\n",
              "      <td>71</td>\n",
              "      <td>51</td>\n",
              "      <td>67</td>\n",
              "      <td>80</td>\n",
              "      <td>58</td>\n",
              "      <td>72</td>\n",
              "      <td>83</td>\n",
              "      <td>61</td>\n",
              "      <td>75</td>\n",
              "      <td>86</td>\n",
              "      <td>62</td>\n",
              "      <td>76</td>\n",
              "      <td>85</td>\n",
              "      <td>63</td>\n",
              "      <td>77</td>\n",
              "      <td>86</td>\n",
              "      <td>87</td>\n",
              "      <td>101</td>\n",
              "      <td>110</td>\n",
              "      <td>94</td>\n",
              "      <td>108</td>\n",
              "      <td>117</td>\n",
              "      <td>84</td>\n",
              "      <td>99</td>\n",
              "      <td>106</td>\n",
              "      <td>94</td>\n",
              "      <td>109</td>\n",
              "      <td>116</td>\n",
              "      <td>99</td>\n",
              "      <td>114</td>\n",
              "      <td>119</td>\n",
              "      <td>81</td>\n",
              "      <td>96</td>\n",
              "      <td>101</td>\n",
              "      <td>G80스포츠</td>\n",
              "    </tr>\n",
              "  </tbody>\n",
              "</table>\n",
              "<p>5 rows × 2701 columns</p>\n",
              "</div>"
            ],
            "text/plain": [
              "  0    1    2    3    4    5    6     ... 2694 2695 2696 2697 2698 2699    2700\n",
              "0  230  236  252  226  232  248  220  ...   37   35   36   55   54   52  G80스포츠\n",
              "1  235  238  243  251  254  255  251  ...   69   70   65  124  123  118  G80스포츠\n",
              "2   94  112  134   85  103  125   76  ...   67   78   82   80   91   95  G80스포츠\n",
              "3   80   88   90   68   76   78   79  ...   82   92  102  104  114  124  G80스포츠\n",
              "4  215  229  194  212  222  195  210  ...   99  114  119   81   96  101  G80스포츠\n",
              "\n",
              "[5 rows x 2701 columns]"
            ]
          },
          "metadata": {
            "tags": []
          },
          "execution_count": 6
        }
      ]
    },
    {
      "cell_type": "code",
      "metadata": {
        "colab": {
          "base_uri": "https://localhost:8080/"
        },
        "id": "ORTewppmmwfF",
        "outputId": "7c553c83-7d89-4d8f-cd1a-7439474bbf33"
      },
      "source": [
        "DF[2700].value_counts() \n",
        "#자동차 모델은 34개로 분류되어있음 : 차를 잘 알지못하므로 그대로 34개로 분류하기로 함"
      ],
      "execution_count": 7,
      "outputs": [
        {
          "output_type": "execute_result",
          "data": {
            "text/plain": [
              "투싼            1931\n",
              "i30           1296\n",
              "싼타페           1282\n",
              "그랜저HG240       940\n",
              "KONA 1         840\n",
              "그랜저            770\n",
              "소나타 YF         762\n",
              "소나타 뉴라이즈       725\n",
              "G90            714\n",
              "소나타 하이브리드      664\n",
              "아슬란            659\n",
              "더뉴아반떼AD        653\n",
              "소나타 LF         653\n",
              "제네시스G380       652\n",
              "소나타 LPI        646\n",
              "엑센트            641\n",
              "아반떼 XD         639\n",
              "제네시스 G80       638\n",
              "아반떼MD          636\n",
              "소나타            635\n",
              "아이오닉 하이브리드     633\n",
              "투싼1            628\n",
              "팰리세이드          628\n",
              "아반떼AD          627\n",
              "그랜저 IG         627\n",
              "아이오닉 일렉트릭      620\n",
              "벨로스터           620\n",
              "에쿠스            619\n",
              "스타렉스           614\n",
              "맥스크루즈          605\n",
              "G80스포츠         605\n",
              "소나타 NF         605\n",
              "제네시스 G70       600\n",
              "더뉴그랜드스타렉스      509\n",
              "Name: 2700, dtype: int64"
            ]
          },
          "metadata": {
            "tags": []
          },
          "execution_count": 7
        }
      ]
    },
    {
      "cell_type": "markdown",
      "metadata": {
        "id": "Zn9cXkE-JaDX"
      },
      "source": [
        "> ## 3) 'X', 'y' 분리"
      ]
    },
    {
      "cell_type": "code",
      "metadata": {
        "colab": {
          "base_uri": "https://localhost:8080/"
        },
        "id": "dmQpKLT5Hxfr",
        "outputId": "81123451-0f4f-4a34-87b3-37ce16a9e281"
      },
      "source": [
        "X = DF.iloc[:,:-1]\n",
        "y = DF.iloc[:,-1]\n",
        "\n",
        "X.shape, y.shape"
      ],
      "execution_count": 8,
      "outputs": [
        {
          "output_type": "execute_result",
          "data": {
            "text/plain": [
              "((24916, 2700), (24916,))"
            ]
          },
          "metadata": {
            "tags": []
          },
          "execution_count": 8
        }
      ]
    },
    {
      "cell_type": "markdown",
      "metadata": {
        "id": "uojYWg36Jeg6"
      },
      "source": [
        "> ## 4) Visualization\n",
        "\n",
        "* '0'번 인덱스 label 및 이미지"
      ]
    },
    {
      "cell_type": "code",
      "metadata": {
        "colab": {
          "base_uri": "https://localhost:8080/",
          "height": 284
        },
        "id": "gnU3cfQfH5eI",
        "outputId": "7c0b6fd4-42a0-4a5f-f294-0c7baccd4955"
      },
      "source": [
        "import numpy as np\n",
        "import matplotlib.pyplot as plt\n",
        "\n",
        "print(y.iloc[0])\n",
        "\n",
        "plt.imshow(X.iloc[0].values.astype(np.int).reshape(30,30,3))\n",
        "plt.show()"
      ],
      "execution_count": 9,
      "outputs": [
        {
          "output_type": "stream",
          "text": [
            "G80스포츠\n"
          ],
          "name": "stdout"
        },
        {
          "output_type": "display_data",
          "data": {
            "image/png": "[encoded data removed]",
            "text/plain": [
              "<Figure size 432x288 with 1 Axes>"
            ]
          },
          "metadata": {
            "tags": [],
            "needs_background": "light"
          }
        }
      ]
    },
    {
      "cell_type": "markdown",
      "metadata": {
        "id": "-1NQMDoyJoyz"
      },
      "source": [
        "* '200'번 인덱스 label 및 이미지"
      ]
    },
    {
      "cell_type": "code",
      "metadata": {
        "colab": {
          "base_uri": "https://localhost:8080/",
          "height": 284
        },
        "id": "q2H7U68lIOl5",
        "outputId": "c3fcfeb8-a347-4d45-d02f-a21eac6c5a17"
      },
      "source": [
        "print(y.iloc[200])\n",
        "\n",
        "plt.imshow(X.iloc[200].values.astype(np.int).reshape(30,30,3))\n",
        "plt.show()"
      ],
      "execution_count": 10,
      "outputs": [
        {
          "output_type": "stream",
          "text": [
            "G80스포츠\n"
          ],
          "name": "stdout"
        },
        {
          "output_type": "display_data",
          "data": {
            "image/png": "[encoded data removed]",
            "text/plain": [
              "<Figure size 432x288 with 1 Axes>"
            ]
          },
          "metadata": {
            "tags": [],
            "needs_background": "light"
          }
        }
      ]
    },
    {
      "cell_type": "markdown",
      "metadata": {
        "id": "PL4IWtd-Jui8"
      },
      "source": [
        "* '400'번 인덱스 label 및 이미지"
      ]
    },
    {
      "cell_type": "code",
      "metadata": {
        "colab": {
          "base_uri": "https://localhost:8080/",
          "height": 284
        },
        "id": "XfUwPcazIYhd",
        "outputId": "1f01db7a-db64-49a1-acc2-d3cd0d600354"
      },
      "source": [
        "print(y.iloc[400])\n",
        "\n",
        "plt.imshow(X.iloc[400].values.astype(np.int).reshape(30,30,3))\n",
        "plt.show()"
      ],
      "execution_count": 11,
      "outputs": [
        {
          "output_type": "stream",
          "text": [
            "G80스포츠\n"
          ],
          "name": "stdout"
        },
        {
          "output_type": "display_data",
          "data": {
            "image/png": "[encoded data removed]",
            "text/plain": [
              "<Figure size 432x288 with 1 Axes>"
            ]
          },
          "metadata": {
            "tags": [],
            "needs_background": "light"
          }
        }
      ]
    },
    {
      "cell_type": "markdown",
      "metadata": {
        "id": "rJWmxDcYKDjk"
      },
      "source": [
        "# II. Data Preprocessing"
      ]
    },
    {
      "cell_type": "markdown",
      "metadata": {
        "id": "v8ixLXynquOI"
      },
      "source": [
        "* To array & object to float"
      ]
    },
    {
      "cell_type": "code",
      "metadata": {
        "colab": {
          "base_uri": "https://localhost:8080/"
        },
        "id": "wj0kAp4yuRUe",
        "outputId": "68350ccf-facb-452c-c791-4c82a75773ff"
      },
      "source": [
        "AR = DF.values\n",
        "\n",
        "AR"
      ],
      "execution_count": 12,
      "outputs": [
        {
          "output_type": "execute_result",
          "data": {
            "text/plain": [
              "array([[230, 236, 252, ..., 54, 52, 'G80스포츠'],\n",
              "       [235, 238, 243, ..., 123, 118, 'G80스포츠'],\n",
              "       [94, 112, 134, ..., 91, 95, 'G80스포츠'],\n",
              "       ...,\n",
              "       [132, 133, 128, ..., 160, 161, '팰리세이드'],\n",
              "       [97, 104, 97, ..., 178, 175, '팰리세이드'],\n",
              "       [57, 58, 53, ..., 158, 150, '팰리세이드']], dtype=object)"
            ]
          },
          "metadata": {
            "tags": []
          },
          "execution_count": 12
        }
      ]
    },
    {
      "cell_type": "code",
      "metadata": {
        "colab": {
          "base_uri": "https://localhost:8080/"
        },
        "id": "N0DEE0h4qsxx",
        "outputId": "8223ee18-1095-41f5-8538-cc8a9e39bf96"
      },
      "source": [
        "AR_X = AR[:,0:-1]\n",
        "AR_y = AR[:,-1]\n",
        "\n",
        "AR_X.shape, AR_y.shape"
      ],
      "execution_count": 13,
      "outputs": [
        {
          "output_type": "execute_result",
          "data": {
            "text/plain": [
              "((24916, 2700), (24916,))"
            ]
          },
          "metadata": {
            "tags": []
          },
          "execution_count": 13
        }
      ]
    },
    {
      "cell_type": "markdown",
      "metadata": {
        "id": "JktMaw0nvE2E"
      },
      "source": [
        "* One Hot Encoding"
      ]
    },
    {
      "cell_type": "code",
      "metadata": {
        "colab": {
          "base_uri": "https://localhost:8080/"
        },
        "id": "Owj0_QuIzUF8",
        "outputId": "ff8f12c9-e07c-4a10-b22c-8f528eb3ba89"
      },
      "source": [
        "from sklearn.preprocessing import LabelEncoder\n",
        "\n",
        "encoder = LabelEncoder()\n",
        "AR_yLBE = encoder.fit_transform(AR_y)\n",
        "\n",
        "AR_yLBE"
      ],
      "execution_count": 14,
      "outputs": [
        {
          "output_type": "execute_result",
          "data": {
            "text/plain": [
              "array([ 0,  0,  0, ..., 33, 33, 33])"
            ]
          },
          "metadata": {
            "tags": []
          },
          "execution_count": 14
        }
      ]
    },
    {
      "cell_type": "code",
      "metadata": {
        "colab": {
          "base_uri": "https://localhost:8080/"
        },
        "id": "TrnL0NfyzfE7",
        "outputId": "b3a55d21-29b9-4822-edf9-aa439d54eb09"
      },
      "source": [
        "import tensorflow as tf\n",
        "\n",
        "AR_yOHE = tf.keras.utils.to_categorical(AR_yLBE)\n",
        "\n",
        "AR_yOHE"
      ],
      "execution_count": 15,
      "outputs": [
        {
          "output_type": "execute_result",
          "data": {
            "text/plain": [
              "array([[1., 0., 0., ..., 0., 0., 0.],\n",
              "       [1., 0., 0., ..., 0., 0., 0.],\n",
              "       [1., 0., 0., ..., 0., 0., 0.],\n",
              "       ...,\n",
              "       [0., 0., 0., ..., 0., 0., 1.],\n",
              "       [0., 0., 0., ..., 0., 0., 1.],\n",
              "       [0., 0., 0., ..., 0., 0., 1.]], dtype=float32)"
            ]
          },
          "metadata": {
            "tags": []
          },
          "execution_count": 15
        }
      ]
    },
    {
      "cell_type": "markdown",
      "metadata": {
        "id": "peo4oJV8vQP6"
      },
      "source": [
        "* Train & Test split"
      ]
    },
    {
      "cell_type": "code",
      "metadata": {
        "colab": {
          "base_uri": "https://localhost:8080/"
        },
        "id": "mTdcF0f7pTBg",
        "outputId": "40394c69-1c01-4b98-87b6-51a896174f42"
      },
      "source": [
        "from sklearn.model_selection import train_test_split\n",
        "\n",
        "X_train, X_test, y_train, y_test = train_test_split(AR_X, AR_yOHE,\n",
        "                                                    test_size = 0.3,\n",
        "                                                    random_state = 2045)\n",
        "\n",
        "X_train.shape, X_test.shape, y_train.shape, y_test.shape"
      ],
      "execution_count": 16,
      "outputs": [
        {
          "output_type": "execute_result",
          "data": {
            "text/plain": [
              "((17441, 2700), (7475, 2700), (17441, 34), (7475, 34))"
            ]
          },
          "metadata": {
            "tags": []
          },
          "execution_count": 16
        }
      ]
    },
    {
      "cell_type": "markdown",
      "metadata": {
        "id": "w122HpvOpONi"
      },
      "source": [
        "* reshape & normalization\n"
      ]
    },
    {
      "cell_type": "code",
      "metadata": {
        "id": "5J_1E9Ocva0o"
      },
      "source": [
        "X_train = X_train.reshape((17441, 30, 30, 3))\n",
        "X_test = X_test.reshape((7475, 30, 30, 3))"
      ],
      "execution_count": 17,
      "outputs": []
    },
    {
      "cell_type": "code",
      "metadata": {
        "colab": {
          "base_uri": "https://localhost:8080/"
        },
        "id": "UJ9DZ1rfzmng",
        "outputId": "c4b2fc8d-4a94-4231-b773-222815bb9638"
      },
      "source": [
        "print(X_train[0])"
      ],
      "execution_count": 19,
      "outputs": [
        {
          "output_type": "stream",
          "text": [
            "[[[101 92 85]\n",
            "  [99 92 84]\n",
            "  [99 92 86]\n",
            "  ...\n",
            "  [108 105 100]\n",
            "  [106 102 99]\n",
            "  [115 111 108]]\n",
            "\n",
            " [[107 98 89]\n",
            "  [98 89 80]\n",
            "  [101 94 86]\n",
            "  ...\n",
            "  [126 123 118]\n",
            "  [124 120 117]\n",
            "  [126 122 119]]\n",
            "\n",
            " [[102 94 81]\n",
            "  [96 88 75]\n",
            "  [99 93 81]\n",
            "  ...\n",
            "  [110 109 104]\n",
            "  [111 110 105]\n",
            "  [107 106 101]]\n",
            "\n",
            " ...\n",
            "\n",
            " [[75 74 70]\n",
            "  [75 74 70]\n",
            "  [75 74 70]\n",
            "  ...\n",
            "  [111 105 91]\n",
            "  [111 103 90]\n",
            "  [106 97 82]]\n",
            "\n",
            " [[71 70 65]\n",
            "  [72 71 66]\n",
            "  [72 71 66]\n",
            "  ...\n",
            "  [79 73 59]\n",
            "  [88 80 67]\n",
            "  [99 92 76]]\n",
            "\n",
            " [[69 68 63]\n",
            "  [69 68 63]\n",
            "  [70 69 64]\n",
            "  ...\n",
            "  [64 61 46]\n",
            "  [59 51 38]\n",
            "  [59 52 36]]]\n"
          ],
          "name": "stdout"
        }
      ]
    },
    {
      "cell_type": "code",
      "metadata": {
        "colab": {
          "base_uri": "https://localhost:8080/"
        },
        "id": "oBOQNlvly8wd",
        "outputId": "d79efdb5-bf1c-4c01-8555-21a115b96576"
      },
      "source": [
        "print(y_train[:5])"
      ],
      "execution_count": 20,
      "outputs": [
        {
          "output_type": "stream",
          "text": [
            "[[0. 0. 0. 0. 0. 1. 0. 0. 0. 0. 0. 0. 0. 0. 0. 0. 0. 0. 0. 0. 0. 0. 0. 0.\n",
            "  0. 0. 0. 0. 0. 0. 0. 0. 0. 0.]\n",
            " [0. 0. 0. 0. 0. 0. 0. 0. 0. 0. 0. 0. 0. 0. 0. 1. 0. 0. 0. 0. 0. 0. 0. 0.\n",
            "  0. 0. 0. 0. 0. 0. 0. 0. 0. 0.]\n",
            " [0. 0. 0. 0. 0. 0. 0. 0. 0. 0. 0. 1. 0. 0. 0. 0. 0. 0. 0. 0. 0. 0. 0. 0.\n",
            "  0. 0. 0. 0. 0. 0. 0. 0. 0. 0.]\n",
            " [0. 0. 0. 0. 0. 0. 0. 0. 0. 0. 0. 0. 0. 0. 0. 0. 0. 0. 0. 0. 0. 0. 0. 0.\n",
            "  0. 0. 0. 0. 0. 0. 0. 0. 0. 1.]\n",
            " [0. 0. 0. 0. 0. 0. 0. 0. 0. 0. 0. 0. 0. 0. 0. 0. 0. 0. 0. 0. 0. 0. 0. 0.\n",
            "  0. 0. 0. 0. 1. 0. 0. 0. 0. 0.]]\n"
          ],
          "name": "stdout"
        }
      ]
    },
    {
      "cell_type": "markdown",
      "metadata": {
        "id": "yNA2XSwQ-6XK"
      },
      "source": [
        "* ImageDataGenerator"
      ]
    },
    {
      "cell_type": "code",
      "metadata": {
        "colab": {
          "base_uri": "https://localhost:8080/"
        },
        "id": "aDMDPjNg-8mP",
        "outputId": "39e38812-d136-4839-9472-5152331cf255"
      },
      "source": [
        "from sklearn.model_selection import train_test_split\n",
        "\n",
        "X_train, X_val, y_train, y_val = train_test_split(X_train, y_train,\n",
        "                                                    test_size = 0.2,\n",
        "                                                    random_state = 2045)\n",
        "\n",
        "X_train.shape, X_val.shape, y_train.shape, y_val.shape"
      ],
      "execution_count": 21,
      "outputs": [
        {
          "output_type": "execute_result",
          "data": {
            "text/plain": [
              "((13952, 30, 30, 3), (3489, 30, 30, 3), (13952, 34), (3489, 34))"
            ]
          },
          "metadata": {
            "tags": []
          },
          "execution_count": 21
        }
      ]
    },
    {
      "cell_type": "code",
      "metadata": {
        "id": "qUZtyi5a8qfO"
      },
      "source": [
        "from keras.preprocessing.image import ImageDataGenerator \n",
        "\n",
        "# With Augmentation\n",
        "train_datagen = ImageDataGenerator(rescale = 1./255, \n",
        "                                   rotation_range = 40, \n",
        "                                   width_shift_range = 0.2, \n",
        "                                   height_shift_range = 0.2, \n",
        "                                   shear_range = 0.2, \n",
        "                                   zoom_range = 0.2, \n",
        "                                   horizontal_flip=True, \n",
        "                                   vertical_flip = True, \n",
        "                                   fill_mode = 'nearest')\n",
        "\n",
        "# Without Augmentation\n",
        "val_datagen = ImageDataGenerator(rescale = 1./255) \n",
        "\n",
        "# With Augmentation\n",
        "train_generator = train_datagen.flow( \n",
        "    X_train,\n",
        "    y = y_train,\n",
        "    batch_size = 20,\n",
        "    shuffle = True)\n",
        "\n",
        "# Without Augmentation\n",
        "val_generator = val_datagen.flow( \n",
        "    X_val,\n",
        "    y = y_val,\n",
        "    batch_size = 20, \n",
        "    shuffle = True)"
      ],
      "execution_count": 22,
      "outputs": []
    },
    {
      "cell_type": "markdown",
      "metadata": {
        "id": "JyDKz5dkKJxI"
      },
      "source": [
        "# III. Modeling"
      ]
    },
    {
      "cell_type": "markdown",
      "metadata": {
        "id": "3e78HP3BwKP3"
      },
      "source": [
        "* Model define"
      ]
    },
    {
      "cell_type": "code",
      "metadata": {
        "colab": {
          "base_uri": "https://localhost:8080/"
        },
        "id": "vdCPihs8wOCb",
        "outputId": "fc43c6bd-65b2-4f3b-c70f-55f7df1acd05"
      },
      "source": [
        "from keras import layers \n",
        "from keras import models\n",
        "\n",
        "#익숙한 Sequential 모델로\n",
        "model = models.Sequential()\n",
        "model.add(layers.Conv2D(filters=32, kernel_size=(3,3), activation='relu', input_shape=(30, 30, 3)))\n",
        "model.add(layers.MaxPool2D(pool_size=(2,2)))\n",
        "model.add(layers.Conv2D(filters=64, kernel_size=(3,3), activation='relu'))\n",
        "model.add(layers.MaxPool2D(pool_size=(2,2)))\n",
        "model.add(layers.Conv2D(filters=128, kernel_size=(3,3), activation='relu'))\n",
        "model.add(layers.MaxPool2D(pool_size=(2,2)))\n",
        "\n",
        "\n",
        "model.add(layers.Flatten()) #한줄로 편다\n",
        "model.add(layers.Dense(units=128, activation='relu'))\n",
        "model.add(layers.Dense(units=34, activation='softmax'))\n",
        "\n",
        "model.summary()"
      ],
      "execution_count": 23,
      "outputs": [
        {
          "output_type": "stream",
          "text": [
            "Model: \"sequential\"\n",
            "_________________________________________________________________\n",
            "Layer (type)                 Output Shape              Param #   \n",
            "=================================================================\n",
            "conv2d (Conv2D)              (None, 28, 28, 32)        896       \n",
            "_________________________________________________________________\n",
            "max_pooling2d (MaxPooling2D) (None, 14, 14, 32)        0         \n",
            "_________________________________________________________________\n",
            "conv2d_1 (Conv2D)            (None, 12, 12, 64)        18496     \n",
            "_________________________________________________________________\n",
            "max_pooling2d_1 (MaxPooling2 (None, 6, 6, 64)          0         \n",
            "_________________________________________________________________\n",
            "conv2d_2 (Conv2D)            (None, 4, 4, 128)         73856     \n",
            "_________________________________________________________________\n",
            "max_pooling2d_2 (MaxPooling2 (None, 2, 2, 128)         0         \n",
            "_________________________________________________________________\n",
            "flatten (Flatten)            (None, 512)               0         \n",
            "_________________________________________________________________\n",
            "dense (Dense)                (None, 128)               65664     \n",
            "_________________________________________________________________\n",
            "dense_1 (Dense)              (None, 34)                4386      \n",
            "=================================================================\n",
            "Total params: 163,298\n",
            "Trainable params: 163,298\n",
            "Non-trainable params: 0\n",
            "_________________________________________________________________\n"
          ],
          "name": "stdout"
        }
      ]
    },
    {
      "cell_type": "markdown",
      "metadata": {
        "id": "LCi3W5hTw1j4"
      },
      "source": [
        "* Model compile"
      ]
    },
    {
      "cell_type": "code",
      "metadata": {
        "id": "vHRFaFPsw4V-"
      },
      "source": [
        "model.compile(loss = 'categorical_crossentropy', \n",
        "              optimizer = 'adam', \n",
        "              metrics = ['accuracy'])"
      ],
      "execution_count": 24,
      "outputs": []
    },
    {
      "cell_type": "markdown",
      "metadata": {
        "id": "K8TjyxCrxAIA"
      },
      "source": [
        "* Model fit"
      ]
    },
    {
      "cell_type": "code",
      "metadata": {
        "colab": {
          "base_uri": "https://localhost:8080/"
        },
        "id": "tR-Xq8lExBef",
        "outputId": "84803d10-a750-425e-95e0-4a0eb713774f"
      },
      "source": [
        "%%time\n",
        "\n",
        "Hist_model = model.fit(train_generator,\n",
        "                       steps_per_epoch = 100, \n",
        "                       epochs = 500,\n",
        "                       validation_data = val_generator, \n",
        "                       validation_steps = 50)"
      ],
      "execution_count": 30,
      "outputs": [
        {
          "output_type": "stream",
          "text": [
            "Epoch 1/500\n",
            "100/100 [==============================] - 1s 14ms/step - loss: 2.2305 - accuracy: 0.2870 - val_loss: 2.8038 - val_accuracy: 0.2210\n",
            "Epoch 2/500\n",
            "100/100 [==============================] - 1s 14ms/step - loss: 2.2870 - accuracy: 0.2725 - val_loss: 2.8565 - val_accuracy: 0.2170\n",
            "Epoch 3/500\n",
            "100/100 [==============================] - 1s 14ms/step - loss: 2.2618 - accuracy: 0.2695 - val_loss: 3.0177 - val_accuracy: 0.1870\n",
            "Epoch 4/500\n",
            "100/100 [==============================] - 1s 14ms/step - loss: 2.2601 - accuracy: 0.2795 - val_loss: 2.5368 - val_accuracy: 0.2230\n",
            "Epoch 5/500\n",
            "100/100 [==============================] - 1s 14ms/step - loss: 2.2570 - accuracy: 0.2940 - val_loss: 2.3602 - val_accuracy: 0.2830\n",
            "Epoch 6/500\n",
            "100/100 [==============================] - 1s 14ms/step - loss: 2.2077 - accuracy: 0.2805 - val_loss: 2.5732 - val_accuracy: 0.2410\n",
            "Epoch 7/500\n",
            "100/100 [==============================] - 1s 14ms/step - loss: 2.2457 - accuracy: 0.2990 - val_loss: 2.5666 - val_accuracy: 0.2450\n",
            "Epoch 8/500\n",
            "100/100 [==============================] - 1s 14ms/step - loss: 2.2068 - accuracy: 0.2995 - val_loss: 2.4478 - val_accuracy: 0.2580\n",
            "Epoch 9/500\n",
            "100/100 [==============================] - 1s 13ms/step - loss: 2.2133 - accuracy: 0.2830 - val_loss: 2.4976 - val_accuracy: 0.2630\n",
            "Epoch 10/500\n",
            "100/100 [==============================] - 1s 13ms/step - loss: 2.2594 - accuracy: 0.2786 - val_loss: 2.5470 - val_accuracy: 0.2400\n",
            "Epoch 11/500\n",
            "100/100 [==============================] - 1s 13ms/step - loss: 2.2500 - accuracy: 0.2840 - val_loss: 2.5210 - val_accuracy: 0.2650\n",
            "Epoch 12/500\n",
            "100/100 [==============================] - 1s 14ms/step - loss: 2.2465 - accuracy: 0.2955 - val_loss: 2.1450 - val_accuracy: 0.3170\n",
            "Epoch 13/500\n",
            "100/100 [==============================] - 1s 14ms/step - loss: 2.2564 - accuracy: 0.2835 - val_loss: 2.4202 - val_accuracy: 0.2710\n",
            "Epoch 14/500\n",
            "100/100 [==============================] - 1s 14ms/step - loss: 2.1993 - accuracy: 0.2890 - val_loss: 2.5987 - val_accuracy: 0.2590\n",
            "Epoch 15/500\n",
            "100/100 [==============================] - 1s 13ms/step - loss: 2.2293 - accuracy: 0.2795 - val_loss: 2.8446 - val_accuracy: 0.2260\n",
            "Epoch 16/500\n",
            "100/100 [==============================] - 1s 13ms/step - loss: 2.2143 - accuracy: 0.2907 - val_loss: 2.2236 - val_accuracy: 0.2950\n",
            "Epoch 17/500\n",
            "100/100 [==============================] - 1s 14ms/step - loss: 2.1992 - accuracy: 0.2850 - val_loss: 2.5791 - val_accuracy: 0.2560\n",
            "Epoch 18/500\n",
            "100/100 [==============================] - 1s 14ms/step - loss: 2.2042 - accuracy: 0.2870 - val_loss: 2.8090 - val_accuracy: 0.2200\n",
            "Epoch 19/500\n",
            "100/100 [==============================] - 1s 13ms/step - loss: 2.2171 - accuracy: 0.2885 - val_loss: 2.2699 - val_accuracy: 0.3050\n",
            "Epoch 20/500\n",
            "100/100 [==============================] - 1s 14ms/step - loss: 2.2309 - accuracy: 0.2940 - val_loss: 2.5060 - val_accuracy: 0.2800\n",
            "Epoch 21/500\n",
            "100/100 [==============================] - 1s 14ms/step - loss: 2.1655 - accuracy: 0.3000 - val_loss: 2.3758 - val_accuracy: 0.2820\n",
            "Epoch 22/500\n",
            "100/100 [==============================] - 1s 14ms/step - loss: 2.1888 - accuracy: 0.2995 - val_loss: 2.5697 - val_accuracy: 0.2430\n",
            "Epoch 23/500\n",
            "100/100 [==============================] - 1s 13ms/step - loss: 2.2136 - accuracy: 0.2830 - val_loss: 2.4021 - val_accuracy: 0.2620\n",
            "Epoch 24/500\n",
            "100/100 [==============================] - 1s 13ms/step - loss: 2.2037 - accuracy: 0.2880 - val_loss: 2.7101 - val_accuracy: 0.2320\n",
            "Epoch 25/500\n",
            "100/100 [==============================] - 1s 14ms/step - loss: 2.1776 - accuracy: 0.3120 - val_loss: 2.6357 - val_accuracy: 0.2400\n",
            "Epoch 26/500\n",
            "100/100 [==============================] - 1s 14ms/step - loss: 2.1646 - accuracy: 0.3040 - val_loss: 2.6218 - val_accuracy: 0.2450\n",
            "Epoch 27/500\n",
            "100/100 [==============================] - 1s 14ms/step - loss: 2.1838 - accuracy: 0.3080 - val_loss: 2.4230 - val_accuracy: 0.2670\n",
            "Epoch 28/500\n",
            "100/100 [==============================] - 1s 14ms/step - loss: 2.1709 - accuracy: 0.3213 - val_loss: 2.6659 - val_accuracy: 0.2150\n",
            "Epoch 29/500\n",
            "100/100 [==============================] - 1s 14ms/step - loss: 2.1597 - accuracy: 0.3090 - val_loss: 2.6306 - val_accuracy: 0.2650\n",
            "Epoch 30/500\n",
            "100/100 [==============================] - 1s 14ms/step - loss: 2.1950 - accuracy: 0.3012 - val_loss: 2.7667 - val_accuracy: 0.2520\n",
            "Epoch 31/500\n",
            "100/100 [==============================] - 1s 14ms/step - loss: 2.1238 - accuracy: 0.3095 - val_loss: 2.8192 - val_accuracy: 0.2290\n",
            "Epoch 32/500\n",
            "100/100 [==============================] - 1s 13ms/step - loss: 2.1674 - accuracy: 0.3100 - val_loss: 2.2395 - val_accuracy: 0.2840\n",
            "Epoch 33/500\n",
            "100/100 [==============================] - 1s 14ms/step - loss: 2.1649 - accuracy: 0.3100 - val_loss: 2.6556 - val_accuracy: 0.2390\n",
            "Epoch 34/500\n",
            "100/100 [==============================] - 1s 14ms/step - loss: 2.1419 - accuracy: 0.3090 - val_loss: 2.4471 - val_accuracy: 0.2890\n",
            "Epoch 35/500\n",
            "100/100 [==============================] - 1s 14ms/step - loss: 2.1413 - accuracy: 0.3015 - val_loss: 2.4599 - val_accuracy: 0.2510\n",
            "Epoch 36/500\n",
            "100/100 [==============================] - 1s 14ms/step - loss: 2.1547 - accuracy: 0.2965 - val_loss: 2.4512 - val_accuracy: 0.2570\n",
            "Epoch 37/500\n",
            "100/100 [==============================] - 1s 14ms/step - loss: 2.1785 - accuracy: 0.3000 - val_loss: 2.6060 - val_accuracy: 0.2470\n",
            "Epoch 38/500\n",
            "100/100 [==============================] - 1s 14ms/step - loss: 2.0837 - accuracy: 0.3190 - val_loss: 2.7326 - val_accuracy: 0.2540\n",
            "Epoch 39/500\n",
            "100/100 [==============================] - 1s 13ms/step - loss: 2.0995 - accuracy: 0.3230 - val_loss: 2.4988 - val_accuracy: 0.2660\n",
            "Epoch 40/500\n",
            "100/100 [==============================] - 1s 14ms/step - loss: 2.1544 - accuracy: 0.3165 - val_loss: 2.6368 - val_accuracy: 0.2720\n",
            "Epoch 41/500\n",
            "100/100 [==============================] - 1s 14ms/step - loss: 2.0948 - accuracy: 0.3215 - val_loss: 2.3405 - val_accuracy: 0.2970\n",
            "Epoch 42/500\n",
            "100/100 [==============================] - 1s 14ms/step - loss: 2.0869 - accuracy: 0.3180 - val_loss: 2.5684 - val_accuracy: 0.2630\n",
            "Epoch 43/500\n",
            "100/100 [==============================] - 1s 14ms/step - loss: 2.1137 - accuracy: 0.3385 - val_loss: 2.4214 - val_accuracy: 0.2810\n",
            "Epoch 44/500\n",
            "100/100 [==============================] - 1s 13ms/step - loss: 2.0768 - accuracy: 0.3315 - val_loss: 2.2409 - val_accuracy: 0.2890\n",
            "Epoch 45/500\n",
            "100/100 [==============================] - 1s 13ms/step - loss: 2.1029 - accuracy: 0.3315 - val_loss: 2.3083 - val_accuracy: 0.3060\n",
            "Epoch 46/500\n",
            "100/100 [==============================] - 1s 14ms/step - loss: 2.1142 - accuracy: 0.3155 - val_loss: 2.4092 - val_accuracy: 0.2520\n",
            "Epoch 47/500\n",
            "100/100 [==============================] - 1s 14ms/step - loss: 2.0895 - accuracy: 0.3405 - val_loss: 2.4017 - val_accuracy: 0.2970\n",
            "Epoch 48/500\n",
            "100/100 [==============================] - 1s 13ms/step - loss: 2.0721 - accuracy: 0.3430 - val_loss: 2.9767 - val_accuracy: 0.2610\n",
            "Epoch 49/500\n",
            "100/100 [==============================] - 1s 14ms/step - loss: 2.0961 - accuracy: 0.3460 - val_loss: 2.4539 - val_accuracy: 0.3000\n",
            "Epoch 50/500\n",
            "100/100 [==============================] - 1s 14ms/step - loss: 2.0784 - accuracy: 0.3223 - val_loss: 2.3549 - val_accuracy: 0.2790\n",
            "Epoch 51/500\n",
            "100/100 [==============================] - 1s 14ms/step - loss: 2.0814 - accuracy: 0.3298 - val_loss: 2.6021 - val_accuracy: 0.2650\n",
            "Epoch 52/500\n",
            "100/100 [==============================] - 1s 14ms/step - loss: 2.0986 - accuracy: 0.3250 - val_loss: 2.0803 - val_accuracy: 0.3320\n",
            "Epoch 53/500\n",
            "100/100 [==============================] - 1s 13ms/step - loss: 2.0477 - accuracy: 0.3345 - val_loss: 2.3012 - val_accuracy: 0.2850\n",
            "Epoch 54/500\n",
            "100/100 [==============================] - 1s 13ms/step - loss: 2.0865 - accuracy: 0.3200 - val_loss: 2.2908 - val_accuracy: 0.2870\n",
            "Epoch 55/500\n",
            "100/100 [==============================] - 1s 14ms/step - loss: 2.0838 - accuracy: 0.3290 - val_loss: 2.4520 - val_accuracy: 0.2670\n",
            "Epoch 56/500\n",
            "100/100 [==============================] - 1s 14ms/step - loss: 2.0964 - accuracy: 0.3180 - val_loss: 2.2688 - val_accuracy: 0.2960\n",
            "Epoch 57/500\n",
            "100/100 [==============================] - 1s 14ms/step - loss: 2.0910 - accuracy: 0.3305 - val_loss: 2.4982 - val_accuracy: 0.2780\n",
            "Epoch 58/500\n",
            "100/100 [==============================] - 1s 13ms/step - loss: 2.0769 - accuracy: 0.3283 - val_loss: 2.4215 - val_accuracy: 0.2860\n",
            "Epoch 59/500\n",
            "100/100 [==============================] - 1s 14ms/step - loss: 2.0272 - accuracy: 0.3475 - val_loss: 2.1525 - val_accuracy: 0.3100\n",
            "Epoch 60/500\n",
            "100/100 [==============================] - 1s 14ms/step - loss: 2.0515 - accuracy: 0.3430 - val_loss: 2.6727 - val_accuracy: 0.2820\n",
            "Epoch 61/500\n",
            "100/100 [==============================] - 1s 14ms/step - loss: 2.0390 - accuracy: 0.3460 - val_loss: 2.1750 - val_accuracy: 0.3160\n",
            "Epoch 62/500\n",
            "100/100 [==============================] - 1s 14ms/step - loss: 2.0803 - accuracy: 0.3220 - val_loss: 2.3546 - val_accuracy: 0.2980\n",
            "Epoch 63/500\n",
            "100/100 [==============================] - 1s 14ms/step - loss: 2.0606 - accuracy: 0.3270 - val_loss: 2.4836 - val_accuracy: 0.2720\n",
            "Epoch 64/500\n",
            "100/100 [==============================] - 1s 14ms/step - loss: 2.0366 - accuracy: 0.3240 - val_loss: 2.4685 - val_accuracy: 0.2950\n",
            "Epoch 65/500\n",
            "100/100 [==============================] - 1s 14ms/step - loss: 2.0578 - accuracy: 0.3368 - val_loss: 2.3256 - val_accuracy: 0.3130\n",
            "Epoch 66/500\n",
            "100/100 [==============================] - 1s 14ms/step - loss: 2.0277 - accuracy: 0.3440 - val_loss: 2.4568 - val_accuracy: 0.2860\n",
            "Epoch 67/500\n",
            "100/100 [==============================] - 1s 14ms/step - loss: 2.0308 - accuracy: 0.3455 - val_loss: 2.3394 - val_accuracy: 0.3040\n",
            "Epoch 68/500\n",
            "100/100 [==============================] - 1s 14ms/step - loss: 2.0453 - accuracy: 0.3355 - val_loss: 2.8110 - val_accuracy: 0.2410\n",
            "Epoch 69/500\n",
            "100/100 [==============================] - 1s 14ms/step - loss: 2.0494 - accuracy: 0.3323 - val_loss: 2.7031 - val_accuracy: 0.2850\n",
            "Epoch 70/500\n",
            "100/100 [==============================] - 1s 14ms/step - loss: 2.0983 - accuracy: 0.3399 - val_loss: 2.2190 - val_accuracy: 0.3050\n",
            "Epoch 71/500\n",
            "100/100 [==============================] - 1s 14ms/step - loss: 2.0216 - accuracy: 0.3465 - val_loss: 2.3015 - val_accuracy: 0.3030\n",
            "Epoch 72/500\n",
            "100/100 [==============================] - 1s 14ms/step - loss: 1.9899 - accuracy: 0.3470 - val_loss: 2.3053 - val_accuracy: 0.2960\n",
            "Epoch 73/500\n",
            "100/100 [==============================] - 1s 14ms/step - loss: 1.9819 - accuracy: 0.3480 - val_loss: 2.4710 - val_accuracy: 0.2730\n",
            "Epoch 74/500\n",
            "100/100 [==============================] - 1s 14ms/step - loss: 2.0218 - accuracy: 0.3385 - val_loss: 2.2288 - val_accuracy: 0.3490\n",
            "Epoch 75/500\n",
            "100/100 [==============================] - 1s 14ms/step - loss: 2.0028 - accuracy: 0.3675 - val_loss: 2.3658 - val_accuracy: 0.3090\n",
            "Epoch 76/500\n",
            "100/100 [==============================] - 1s 14ms/step - loss: 2.0249 - accuracy: 0.3565 - val_loss: 2.5932 - val_accuracy: 0.2940\n",
            "Epoch 77/500\n",
            "100/100 [==============================] - 1s 14ms/step - loss: 2.0144 - accuracy: 0.3370 - val_loss: 2.4629 - val_accuracy: 0.2740\n",
            "Epoch 78/500\n",
            "100/100 [==============================] - 1s 14ms/step - loss: 2.0320 - accuracy: 0.3405 - val_loss: 2.1705 - val_accuracy: 0.3130\n",
            "Epoch 79/500\n",
            "100/100 [==============================] - 1s 14ms/step - loss: 2.0995 - accuracy: 0.3210 - val_loss: 2.3488 - val_accuracy: 0.3080\n",
            "Epoch 80/500\n",
            "100/100 [==============================] - 1s 14ms/step - loss: 2.0034 - accuracy: 0.3570 - val_loss: 2.2837 - val_accuracy: 0.3020\n",
            "Epoch 81/500\n",
            "100/100 [==============================] - 1s 14ms/step - loss: 1.9907 - accuracy: 0.3555 - val_loss: 2.4097 - val_accuracy: 0.3020\n",
            "Epoch 82/500\n",
            "100/100 [==============================] - 1s 14ms/step - loss: 2.0288 - accuracy: 0.3308 - val_loss: 2.4748 - val_accuracy: 0.2840\n",
            "Epoch 83/500\n",
            "100/100 [==============================] - 1s 14ms/step - loss: 2.0074 - accuracy: 0.3495 - val_loss: 2.2404 - val_accuracy: 0.3170\n",
            "Epoch 84/500\n",
            "100/100 [==============================] - 1s 14ms/step - loss: 1.9801 - accuracy: 0.3615 - val_loss: 2.1733 - val_accuracy: 0.3250\n",
            "Epoch 85/500\n",
            "100/100 [==============================] - 1s 14ms/step - loss: 1.9435 - accuracy: 0.3700 - val_loss: 2.4823 - val_accuracy: 0.3190\n",
            "Epoch 86/500\n",
            "100/100 [==============================] - 1s 14ms/step - loss: 2.0023 - accuracy: 0.3620 - val_loss: 2.1333 - val_accuracy: 0.3110\n",
            "Epoch 87/500\n",
            "100/100 [==============================] - 1s 14ms/step - loss: 1.9361 - accuracy: 0.3640 - val_loss: 2.5241 - val_accuracy: 0.2810\n",
            "Epoch 88/500\n",
            "100/100 [==============================] - 1s 14ms/step - loss: 2.0046 - accuracy: 0.3515 - val_loss: 2.1253 - val_accuracy: 0.3200\n",
            "Epoch 89/500\n",
            "100/100 [==============================] - 1s 14ms/step - loss: 1.9516 - accuracy: 0.3790 - val_loss: 2.6455 - val_accuracy: 0.2640\n",
            "Epoch 90/500\n",
            "100/100 [==============================] - 1s 14ms/step - loss: 1.9367 - accuracy: 0.3695 - val_loss: 2.3822 - val_accuracy: 0.2980\n",
            "Epoch 91/500\n",
            "100/100 [==============================] - 1s 14ms/step - loss: 1.9711 - accuracy: 0.3500 - val_loss: 2.4435 - val_accuracy: 0.3090\n",
            "Epoch 92/500\n",
            "100/100 [==============================] - 1s 14ms/step - loss: 2.0123 - accuracy: 0.3650 - val_loss: 2.6377 - val_accuracy: 0.2620\n",
            "Epoch 93/500\n",
            "100/100 [==============================] - 1s 14ms/step - loss: 2.0015 - accuracy: 0.3620 - val_loss: 2.4394 - val_accuracy: 0.3060\n",
            "Epoch 94/500\n",
            "100/100 [==============================] - 1s 14ms/step - loss: 2.0065 - accuracy: 0.3655 - val_loss: 2.1046 - val_accuracy: 0.3380\n",
            "Epoch 95/500\n",
            "100/100 [==============================] - 1s 14ms/step - loss: 1.9842 - accuracy: 0.3449 - val_loss: 2.2425 - val_accuracy: 0.3110\n",
            "Epoch 96/500\n",
            "100/100 [==============================] - 1s 14ms/step - loss: 1.9697 - accuracy: 0.3600 - val_loss: 2.3401 - val_accuracy: 0.2800\n",
            "Epoch 97/500\n",
            "100/100 [==============================] - 1s 14ms/step - loss: 1.9261 - accuracy: 0.3670 - val_loss: 2.3666 - val_accuracy: 0.2960\n",
            "Epoch 98/500\n",
            "100/100 [==============================] - 1s 14ms/step - loss: 1.9482 - accuracy: 0.3725 - val_loss: 2.5394 - val_accuracy: 0.2790\n",
            "Epoch 99/500\n",
            "100/100 [==============================] - 1s 14ms/step - loss: 1.9491 - accuracy: 0.3705 - val_loss: 2.4100 - val_accuracy: 0.2760\n",
            "Epoch 100/500\n",
            "100/100 [==============================] - 1s 14ms/step - loss: 1.9928 - accuracy: 0.3484 - val_loss: 2.2255 - val_accuracy: 0.2980\n",
            "Epoch 101/500\n",
            "100/100 [==============================] - 1s 14ms/step - loss: 1.9748 - accuracy: 0.3600 - val_loss: 2.0366 - val_accuracy: 0.3650\n",
            "Epoch 102/500\n",
            "100/100 [==============================] - 1s 14ms/step - loss: 1.9425 - accuracy: 0.3595 - val_loss: 2.6326 - val_accuracy: 0.2910\n",
            "Epoch 103/500\n",
            "100/100 [==============================] - 1s 14ms/step - loss: 1.9457 - accuracy: 0.3675 - val_loss: 2.3992 - val_accuracy: 0.3100\n",
            "Epoch 104/500\n",
            "100/100 [==============================] - 1s 14ms/step - loss: 1.9325 - accuracy: 0.3750 - val_loss: 2.3973 - val_accuracy: 0.3070\n",
            "Epoch 105/500\n",
            "100/100 [==============================] - 1s 14ms/step - loss: 1.9736 - accuracy: 0.3599 - val_loss: 2.4927 - val_accuracy: 0.2990\n",
            "Epoch 106/500\n",
            "100/100 [==============================] - 1s 14ms/step - loss: 1.8984 - accuracy: 0.3660 - val_loss: 2.5048 - val_accuracy: 0.3020\n",
            "Epoch 107/500\n",
            "100/100 [==============================] - 1s 14ms/step - loss: 1.9036 - accuracy: 0.3916 - val_loss: 2.3685 - val_accuracy: 0.3360\n",
            "Epoch 108/500\n",
            "100/100 [==============================] - 1s 14ms/step - loss: 1.9610 - accuracy: 0.3630 - val_loss: 2.4466 - val_accuracy: 0.3190\n",
            "Epoch 109/500\n",
            "100/100 [==============================] - 1s 14ms/step - loss: 1.9859 - accuracy: 0.3520 - val_loss: 2.3730 - val_accuracy: 0.3450\n",
            "Epoch 110/500\n",
            "100/100 [==============================] - 1s 14ms/step - loss: 1.9714 - accuracy: 0.3579 - val_loss: 2.6992 - val_accuracy: 0.2880\n",
            "Epoch 111/500\n",
            "100/100 [==============================] - 1s 14ms/step - loss: 1.9825 - accuracy: 0.3605 - val_loss: 2.3120 - val_accuracy: 0.3270\n",
            "Epoch 112/500\n",
            "100/100 [==============================] - 1s 14ms/step - loss: 1.9353 - accuracy: 0.3755 - val_loss: 2.6234 - val_accuracy: 0.3000\n",
            "Epoch 113/500\n",
            "100/100 [==============================] - 1s 14ms/step - loss: 1.9377 - accuracy: 0.3665 - val_loss: 2.4416 - val_accuracy: 0.3040\n",
            "Epoch 114/500\n",
            "100/100 [==============================] - 1s 14ms/step - loss: 1.9146 - accuracy: 0.3815 - val_loss: 2.6465 - val_accuracy: 0.2910\n",
            "Epoch 115/500\n",
            "100/100 [==============================] - 1s 14ms/step - loss: 1.9270 - accuracy: 0.3755 - val_loss: 2.6578 - val_accuracy: 0.2860\n",
            "Epoch 116/500\n",
            "100/100 [==============================] - 1s 14ms/step - loss: 1.9067 - accuracy: 0.3915 - val_loss: 2.3368 - val_accuracy: 0.3140\n",
            "Epoch 117/500\n",
            "100/100 [==============================] - 1s 14ms/step - loss: 1.9408 - accuracy: 0.3610 - val_loss: 2.4529 - val_accuracy: 0.2950\n",
            "Epoch 118/500\n",
            "100/100 [==============================] - 1s 14ms/step - loss: 1.9403 - accuracy: 0.3655 - val_loss: 2.1829 - val_accuracy: 0.3320\n",
            "Epoch 119/500\n",
            "100/100 [==============================] - 1s 14ms/step - loss: 1.9272 - accuracy: 0.3885 - val_loss: 2.1626 - val_accuracy: 0.3380\n",
            "Epoch 120/500\n",
            "100/100 [==============================] - 1s 14ms/step - loss: 1.9479 - accuracy: 0.3710 - val_loss: 2.6192 - val_accuracy: 0.2950\n",
            "Epoch 121/500\n",
            "100/100 [==============================] - 1s 14ms/step - loss: 1.9684 - accuracy: 0.3640 - val_loss: 2.3423 - val_accuracy: 0.3120\n",
            "Epoch 122/500\n",
            "100/100 [==============================] - 1s 14ms/step - loss: 1.9208 - accuracy: 0.3720 - val_loss: 2.2807 - val_accuracy: 0.3170\n",
            "Epoch 123/500\n",
            "100/100 [==============================] - 1s 14ms/step - loss: 1.9289 - accuracy: 0.3690 - val_loss: 2.2957 - val_accuracy: 0.3090\n",
            "Epoch 124/500\n",
            "100/100 [==============================] - 1s 14ms/step - loss: 1.9343 - accuracy: 0.3760 - val_loss: 2.2160 - val_accuracy: 0.3230\n",
            "Epoch 125/500\n",
            "100/100 [==============================] - 1s 14ms/step - loss: 1.9068 - accuracy: 0.3860 - val_loss: 2.4070 - val_accuracy: 0.3200\n",
            "Epoch 126/500\n",
            "100/100 [==============================] - 1s 14ms/step - loss: 1.9217 - accuracy: 0.3825 - val_loss: 2.5522 - val_accuracy: 0.3000\n",
            "Epoch 127/500\n",
            "100/100 [==============================] - 1s 14ms/step - loss: 1.8224 - accuracy: 0.4015 - val_loss: 2.3972 - val_accuracy: 0.3130\n",
            "Epoch 128/500\n",
            "100/100 [==============================] - 1s 14ms/step - loss: 1.9246 - accuracy: 0.3675 - val_loss: 2.7057 - val_accuracy: 0.2780\n",
            "Epoch 129/500\n",
            "100/100 [==============================] - 1s 14ms/step - loss: 1.9508 - accuracy: 0.3605 - val_loss: 2.1164 - val_accuracy: 0.3320\n",
            "Epoch 130/500\n",
            "100/100 [==============================] - 1s 14ms/step - loss: 1.9037 - accuracy: 0.3805 - val_loss: 2.3709 - val_accuracy: 0.3160\n",
            "Epoch 131/500\n",
            "100/100 [==============================] - 1s 14ms/step - loss: 1.8931 - accuracy: 0.3735 - val_loss: 2.2637 - val_accuracy: 0.3280\n",
            "Epoch 132/500\n",
            "100/100 [==============================] - 1s 14ms/step - loss: 1.9030 - accuracy: 0.3800 - val_loss: 2.5348 - val_accuracy: 0.2950\n",
            "Epoch 133/500\n",
            "100/100 [==============================] - 1s 14ms/step - loss: 1.8753 - accuracy: 0.3975 - val_loss: 2.2094 - val_accuracy: 0.3430\n",
            "Epoch 134/500\n",
            "100/100 [==============================] - 1s 14ms/step - loss: 1.9126 - accuracy: 0.3745 - val_loss: 2.1705 - val_accuracy: 0.3370\n",
            "Epoch 135/500\n",
            "100/100 [==============================] - 1s 14ms/step - loss: 1.8703 - accuracy: 0.3935 - val_loss: 2.3265 - val_accuracy: 0.3140\n",
            "Epoch 136/500\n",
            "100/100 [==============================] - 1s 14ms/step - loss: 1.9121 - accuracy: 0.3725 - val_loss: 2.0247 - val_accuracy: 0.3700\n",
            "Epoch 137/500\n",
            "100/100 [==============================] - 1s 15ms/step - loss: 1.8871 - accuracy: 0.3810 - val_loss: 2.0830 - val_accuracy: 0.3730\n",
            "Epoch 138/500\n",
            "100/100 [==============================] - 1s 14ms/step - loss: 1.8861 - accuracy: 0.3765 - val_loss: 2.2367 - val_accuracy: 0.3390\n",
            "Epoch 139/500\n",
            "100/100 [==============================] - 1s 14ms/step - loss: 1.8825 - accuracy: 0.3900 - val_loss: 2.2970 - val_accuracy: 0.3360\n",
            "Epoch 140/500\n",
            "100/100 [==============================] - 1s 14ms/step - loss: 1.8693 - accuracy: 0.3940 - val_loss: 2.3619 - val_accuracy: 0.3090\n",
            "Epoch 141/500\n",
            "100/100 [==============================] - 1s 14ms/step - loss: 1.8939 - accuracy: 0.3931 - val_loss: 2.4884 - val_accuracy: 0.3080\n",
            "Epoch 142/500\n",
            "100/100 [==============================] - 1s 14ms/step - loss: 1.9080 - accuracy: 0.3730 - val_loss: 2.3787 - val_accuracy: 0.3160\n",
            "Epoch 143/500\n",
            "100/100 [==============================] - 1s 14ms/step - loss: 1.8517 - accuracy: 0.3955 - val_loss: 2.2667 - val_accuracy: 0.3360\n",
            "Epoch 144/500\n",
            "100/100 [==============================] - 1s 14ms/step - loss: 1.8501 - accuracy: 0.4095 - val_loss: 2.5514 - val_accuracy: 0.2970\n",
            "Epoch 145/500\n",
            "100/100 [==============================] - 1s 14ms/step - loss: 1.8517 - accuracy: 0.4000 - val_loss: 2.7966 - val_accuracy: 0.2800\n",
            "Epoch 146/500\n",
            "100/100 [==============================] - 1s 14ms/step - loss: 1.8841 - accuracy: 0.3775 - val_loss: 2.3131 - val_accuracy: 0.3210\n",
            "Epoch 147/500\n",
            "100/100 [==============================] - 1s 14ms/step - loss: 1.8441 - accuracy: 0.3980 - val_loss: 2.3657 - val_accuracy: 0.3100\n",
            "Epoch 148/500\n",
            "100/100 [==============================] - 1s 14ms/step - loss: 1.8396 - accuracy: 0.3925 - val_loss: 2.3766 - val_accuracy: 0.3180\n",
            "Epoch 149/500\n",
            "100/100 [==============================] - 1s 14ms/step - loss: 1.8331 - accuracy: 0.3955 - val_loss: 2.1013 - val_accuracy: 0.3590\n",
            "Epoch 150/500\n",
            "100/100 [==============================] - 1s 14ms/step - loss: 1.8601 - accuracy: 0.3900 - val_loss: 2.0220 - val_accuracy: 0.3770\n",
            "Epoch 151/500\n",
            "100/100 [==============================] - 1s 14ms/step - loss: 1.9148 - accuracy: 0.3930 - val_loss: 2.5422 - val_accuracy: 0.2950\n",
            "Epoch 152/500\n",
            "100/100 [==============================] - 1s 14ms/step - loss: 1.8821 - accuracy: 0.3700 - val_loss: 2.5308 - val_accuracy: 0.3170\n",
            "Epoch 153/500\n",
            "100/100 [==============================] - 1s 14ms/step - loss: 1.7899 - accuracy: 0.4200 - val_loss: 2.6645 - val_accuracy: 0.3170\n",
            "Epoch 154/500\n",
            "100/100 [==============================] - 1s 14ms/step - loss: 1.8864 - accuracy: 0.3890 - val_loss: 2.5660 - val_accuracy: 0.3210\n",
            "Epoch 155/500\n",
            "100/100 [==============================] - 1s 14ms/step - loss: 1.8557 - accuracy: 0.3875 - val_loss: 2.1903 - val_accuracy: 0.3270\n",
            "Epoch 156/500\n",
            "100/100 [==============================] - 1s 14ms/step - loss: 1.8865 - accuracy: 0.3870 - val_loss: 2.4744 - val_accuracy: 0.3280\n",
            "Epoch 157/500\n",
            "100/100 [==============================] - 1s 14ms/step - loss: 1.8176 - accuracy: 0.3960 - val_loss: 2.1861 - val_accuracy: 0.3460\n",
            "Epoch 158/500\n",
            "100/100 [==============================] - 1s 14ms/step - loss: 1.8798 - accuracy: 0.3760 - val_loss: 2.5922 - val_accuracy: 0.2920\n",
            "Epoch 159/500\n",
            "100/100 [==============================] - 1s 14ms/step - loss: 1.8432 - accuracy: 0.4015 - val_loss: 2.2607 - val_accuracy: 0.3190\n",
            "Epoch 160/500\n",
            "100/100 [==============================] - 1s 14ms/step - loss: 1.9181 - accuracy: 0.3755 - val_loss: 2.5732 - val_accuracy: 0.2970\n",
            "Epoch 161/500\n",
            "100/100 [==============================] - 1s 14ms/step - loss: 1.8349 - accuracy: 0.4132 - val_loss: 2.0161 - val_accuracy: 0.3530\n",
            "Epoch 162/500\n",
            "100/100 [==============================] - 1s 14ms/step - loss: 1.8850 - accuracy: 0.3820 - val_loss: 2.5059 - val_accuracy: 0.3010\n",
            "Epoch 163/500\n",
            "100/100 [==============================] - 1s 14ms/step - loss: 1.7856 - accuracy: 0.4185 - val_loss: 2.3666 - val_accuracy: 0.3450\n",
            "Epoch 164/500\n",
            "100/100 [==============================] - 1s 14ms/step - loss: 1.8627 - accuracy: 0.3910 - val_loss: 2.6821 - val_accuracy: 0.2930\n",
            "Epoch 165/500\n",
            "100/100 [==============================] - 1s 14ms/step - loss: 1.8034 - accuracy: 0.4175 - val_loss: 2.1902 - val_accuracy: 0.3540\n",
            "Epoch 166/500\n",
            "100/100 [==============================] - 1s 14ms/step - loss: 1.8485 - accuracy: 0.4005 - val_loss: 2.0161 - val_accuracy: 0.3750\n",
            "Epoch 167/500\n",
            "100/100 [==============================] - 1s 14ms/step - loss: 1.8751 - accuracy: 0.3865 - val_loss: 2.2285 - val_accuracy: 0.3330\n",
            "Epoch 168/500\n",
            "100/100 [==============================] - 1s 14ms/step - loss: 1.8362 - accuracy: 0.3975 - val_loss: 2.3024 - val_accuracy: 0.3300\n",
            "Epoch 169/500\n",
            "100/100 [==============================] - 1s 14ms/step - loss: 1.8310 - accuracy: 0.3875 - val_loss: 2.3146 - val_accuracy: 0.3560\n",
            "Epoch 170/500\n",
            "100/100 [==============================] - 1s 14ms/step - loss: 1.8216 - accuracy: 0.4015 - val_loss: 2.5077 - val_accuracy: 0.3270\n",
            "Epoch 171/500\n",
            "100/100 [==============================] - 1s 14ms/step - loss: 1.8757 - accuracy: 0.3775 - val_loss: 2.4939 - val_accuracy: 0.3290\n",
            "Epoch 172/500\n",
            "100/100 [==============================] - 1s 14ms/step - loss: 1.8361 - accuracy: 0.3960 - val_loss: 2.2201 - val_accuracy: 0.3660\n",
            "Epoch 173/500\n",
            "100/100 [==============================] - 1s 15ms/step - loss: 1.7615 - accuracy: 0.4252 - val_loss: 2.2549 - val_accuracy: 0.3630\n",
            "Epoch 174/500\n",
            "100/100 [==============================] - 1s 14ms/step - loss: 1.8228 - accuracy: 0.3995 - val_loss: 2.3739 - val_accuracy: 0.3110\n",
            "Epoch 175/500\n",
            "100/100 [==============================] - 1s 14ms/step - loss: 1.7960 - accuracy: 0.4105 - val_loss: 2.3857 - val_accuracy: 0.3200\n",
            "Epoch 176/500\n",
            "100/100 [==============================] - 1s 14ms/step - loss: 1.8379 - accuracy: 0.4030 - val_loss: 2.1485 - val_accuracy: 0.3400\n",
            "Epoch 177/500\n",
            "100/100 [==============================] - 1s 14ms/step - loss: 1.8964 - accuracy: 0.3915 - val_loss: 2.1664 - val_accuracy: 0.3390\n",
            "Epoch 178/500\n",
            "100/100 [==============================] - 1s 14ms/step - loss: 1.7961 - accuracy: 0.4140 - val_loss: 2.3269 - val_accuracy: 0.3290\n",
            "Epoch 179/500\n",
            "100/100 [==============================] - 1s 14ms/step - loss: 1.8442 - accuracy: 0.4065 - val_loss: 2.0755 - val_accuracy: 0.3570\n",
            "Epoch 180/500\n",
            "100/100 [==============================] - 1s 14ms/step - loss: 1.8470 - accuracy: 0.3910 - val_loss: 2.3952 - val_accuracy: 0.3390\n",
            "Epoch 181/500\n",
            "100/100 [==============================] - 1s 14ms/step - loss: 1.7481 - accuracy: 0.4185 - val_loss: 2.5126 - val_accuracy: 0.3010\n",
            "Epoch 182/500\n",
            "100/100 [==============================] - 1s 14ms/step - loss: 1.8447 - accuracy: 0.3915 - val_loss: 1.9610 - val_accuracy: 0.3720\n",
            "Epoch 183/500\n",
            "100/100 [==============================] - 1s 14ms/step - loss: 1.8349 - accuracy: 0.3930 - val_loss: 2.4059 - val_accuracy: 0.3330\n",
            "Epoch 184/500\n",
            "100/100 [==============================] - 1s 14ms/step - loss: 1.7973 - accuracy: 0.4125 - val_loss: 2.5402 - val_accuracy: 0.3250\n",
            "Epoch 185/500\n",
            "100/100 [==============================] - 1s 14ms/step - loss: 1.8072 - accuracy: 0.4046 - val_loss: 2.6324 - val_accuracy: 0.3090\n",
            "Epoch 186/500\n",
            "100/100 [==============================] - 1s 14ms/step - loss: 1.7991 - accuracy: 0.4030 - val_loss: 2.2002 - val_accuracy: 0.3440\n",
            "Epoch 187/500\n",
            "100/100 [==============================] - 1s 14ms/step - loss: 1.8222 - accuracy: 0.3990 - val_loss: 2.1859 - val_accuracy: 0.3400\n",
            "Epoch 188/500\n",
            "100/100 [==============================] - 1s 14ms/step - loss: 1.8256 - accuracy: 0.3995 - val_loss: 2.4301 - val_accuracy: 0.3310\n",
            "Epoch 189/500\n",
            "100/100 [==============================] - 1s 14ms/step - loss: 1.8173 - accuracy: 0.4011 - val_loss: 2.3316 - val_accuracy: 0.3470\n",
            "Epoch 190/500\n",
            "100/100 [==============================] - 1s 14ms/step - loss: 1.8057 - accuracy: 0.4160 - val_loss: 2.5107 - val_accuracy: 0.3020\n",
            "Epoch 191/500\n",
            "100/100 [==============================] - 1s 14ms/step - loss: 1.8711 - accuracy: 0.3895 - val_loss: 2.2257 - val_accuracy: 0.3370\n",
            "Epoch 192/500\n",
            "100/100 [==============================] - 1s 14ms/step - loss: 1.8048 - accuracy: 0.3940 - val_loss: 2.1772 - val_accuracy: 0.3530\n",
            "Epoch 193/500\n",
            "100/100 [==============================] - 1s 14ms/step - loss: 1.7855 - accuracy: 0.4115 - val_loss: 2.3258 - val_accuracy: 0.3440\n",
            "Epoch 194/500\n",
            "100/100 [==============================] - 1s 14ms/step - loss: 1.7269 - accuracy: 0.4325 - val_loss: 2.3077 - val_accuracy: 0.3420\n",
            "Epoch 195/500\n",
            "100/100 [==============================] - 1s 14ms/step - loss: 1.7329 - accuracy: 0.4225 - val_loss: 2.3561 - val_accuracy: 0.3370\n",
            "Epoch 196/500\n",
            "100/100 [==============================] - 1s 14ms/step - loss: 1.7856 - accuracy: 0.4350 - val_loss: 2.3035 - val_accuracy: 0.3440\n",
            "Epoch 197/500\n",
            "100/100 [==============================] - 1s 14ms/step - loss: 1.8043 - accuracy: 0.3940 - val_loss: 2.4146 - val_accuracy: 0.3310\n",
            "Epoch 198/500\n",
            "100/100 [==============================] - 1s 14ms/step - loss: 1.7495 - accuracy: 0.4215 - val_loss: 2.1541 - val_accuracy: 0.3480\n",
            "Epoch 199/500\n",
            "100/100 [==============================] - 1s 14ms/step - loss: 1.7837 - accuracy: 0.4275 - val_loss: 2.1210 - val_accuracy: 0.3700\n",
            "Epoch 200/500\n",
            "100/100 [==============================] - 1s 14ms/step - loss: 1.7487 - accuracy: 0.4235 - val_loss: 2.0948 - val_accuracy: 0.3720\n",
            "Epoch 201/500\n",
            "100/100 [==============================] - 1s 15ms/step - loss: 1.7840 - accuracy: 0.4090 - val_loss: 2.1106 - val_accuracy: 0.3630\n",
            "Epoch 202/500\n",
            "100/100 [==============================] - 1s 14ms/step - loss: 1.8004 - accuracy: 0.4320 - val_loss: 2.4349 - val_accuracy: 0.3330\n",
            "Epoch 203/500\n",
            "100/100 [==============================] - 1s 14ms/step - loss: 1.8198 - accuracy: 0.4165 - val_loss: 3.2402 - val_accuracy: 0.2740\n",
            "Epoch 204/500\n",
            "100/100 [==============================] - 1s 14ms/step - loss: 1.8275 - accuracy: 0.3980 - val_loss: 2.2710 - val_accuracy: 0.3490\n",
            "Epoch 205/500\n",
            "100/100 [==============================] - 1s 14ms/step - loss: 1.8118 - accuracy: 0.4045 - val_loss: 2.3871 - val_accuracy: 0.3200\n",
            "Epoch 206/500\n",
            "100/100 [==============================] - 1s 14ms/step - loss: 1.8341 - accuracy: 0.4130 - val_loss: 2.2090 - val_accuracy: 0.3460\n",
            "Epoch 207/500\n",
            "100/100 [==============================] - 1s 14ms/step - loss: 1.8359 - accuracy: 0.4070 - val_loss: 2.4013 - val_accuracy: 0.3340\n",
            "Epoch 208/500\n",
            "100/100 [==============================] - 1s 15ms/step - loss: 1.8189 - accuracy: 0.3965 - val_loss: 2.3442 - val_accuracy: 0.3250\n",
            "Epoch 209/500\n",
            "100/100 [==============================] - 1s 15ms/step - loss: 1.7802 - accuracy: 0.4085 - val_loss: 2.4058 - val_accuracy: 0.3300\n",
            "Epoch 210/500\n",
            "100/100 [==============================] - 1s 14ms/step - loss: 1.8080 - accuracy: 0.4085 - val_loss: 2.1452 - val_accuracy: 0.3610\n",
            "Epoch 211/500\n",
            "100/100 [==============================] - 1s 14ms/step - loss: 1.7232 - accuracy: 0.4240 - val_loss: 2.2560 - val_accuracy: 0.3610\n",
            "Epoch 212/500\n",
            "100/100 [==============================] - 1s 15ms/step - loss: 1.7968 - accuracy: 0.4025 - val_loss: 2.2293 - val_accuracy: 0.3430\n",
            "Epoch 213/500\n",
            "100/100 [==============================] - 1s 14ms/step - loss: 1.7795 - accuracy: 0.4255 - val_loss: 2.4580 - val_accuracy: 0.3290\n",
            "Epoch 214/500\n",
            "100/100 [==============================] - 1s 14ms/step - loss: 1.7552 - accuracy: 0.4375 - val_loss: 2.2374 - val_accuracy: 0.3380\n",
            "Epoch 215/500\n",
            "100/100 [==============================] - 1s 14ms/step - loss: 1.7773 - accuracy: 0.4025 - val_loss: 2.2466 - val_accuracy: 0.3350\n",
            "Epoch 216/500\n",
            "100/100 [==============================] - 1s 14ms/step - loss: 1.7341 - accuracy: 0.4330 - val_loss: 2.4543 - val_accuracy: 0.3200\n",
            "Epoch 217/500\n",
            "100/100 [==============================] - 1s 14ms/step - loss: 1.7511 - accuracy: 0.4250 - val_loss: 2.5329 - val_accuracy: 0.3020\n",
            "Epoch 218/500\n",
            "100/100 [==============================] - 1s 15ms/step - loss: 1.7618 - accuracy: 0.4130 - val_loss: 2.0523 - val_accuracy: 0.3700\n",
            "Epoch 219/500\n",
            "100/100 [==============================] - 1s 14ms/step - loss: 1.7568 - accuracy: 0.4100 - val_loss: 1.8529 - val_accuracy: 0.4160\n",
            "Epoch 220/500\n",
            "100/100 [==============================] - 1s 14ms/step - loss: 1.7367 - accuracy: 0.4275 - val_loss: 2.3146 - val_accuracy: 0.3610\n",
            "Epoch 221/500\n",
            "100/100 [==============================] - 1s 14ms/step - loss: 1.7901 - accuracy: 0.4100 - val_loss: 2.4356 - val_accuracy: 0.3310\n",
            "Epoch 222/500\n",
            "100/100 [==============================] - 1s 14ms/step - loss: 1.7462 - accuracy: 0.4250 - val_loss: 2.2002 - val_accuracy: 0.3710\n",
            "Epoch 223/500\n",
            "100/100 [==============================] - 1s 14ms/step - loss: 1.7499 - accuracy: 0.4400 - val_loss: 2.4918 - val_accuracy: 0.3070\n",
            "Epoch 224/500\n",
            "100/100 [==============================] - 1s 14ms/step - loss: 1.7174 - accuracy: 0.4403 - val_loss: 2.3326 - val_accuracy: 0.3240\n",
            "Epoch 225/500\n",
            "100/100 [==============================] - 1s 15ms/step - loss: 1.7510 - accuracy: 0.4140 - val_loss: 2.2354 - val_accuracy: 0.3550\n",
            "Epoch 226/500\n",
            "100/100 [==============================] - 1s 15ms/step - loss: 1.7076 - accuracy: 0.4413 - val_loss: 2.6332 - val_accuracy: 0.3250\n",
            "Epoch 227/500\n",
            "100/100 [==============================] - 1s 14ms/step - loss: 1.7146 - accuracy: 0.4420 - val_loss: 2.5245 - val_accuracy: 0.3290\n",
            "Epoch 228/500\n",
            "100/100 [==============================] - 1s 14ms/step - loss: 1.7963 - accuracy: 0.4210 - val_loss: 2.1066 - val_accuracy: 0.3590\n",
            "Epoch 229/500\n",
            "100/100 [==============================] - 1s 15ms/step - loss: 1.7435 - accuracy: 0.4210 - val_loss: 2.2194 - val_accuracy: 0.3430\n",
            "Epoch 230/500\n",
            "100/100 [==============================] - 1s 14ms/step - loss: 1.7337 - accuracy: 0.4325 - val_loss: 2.3341 - val_accuracy: 0.3450\n",
            "Epoch 231/500\n",
            "100/100 [==============================] - 1s 14ms/step - loss: 1.7870 - accuracy: 0.4030 - val_loss: 2.2139 - val_accuracy: 0.3380\n",
            "Epoch 232/500\n",
            "100/100 [==============================] - 1s 14ms/step - loss: 1.7109 - accuracy: 0.4315 - val_loss: 2.2322 - val_accuracy: 0.3870\n",
            "Epoch 233/500\n",
            "100/100 [==============================] - 1s 14ms/step - loss: 1.7262 - accuracy: 0.4225 - val_loss: 2.5009 - val_accuracy: 0.3260\n",
            "Epoch 234/500\n",
            "100/100 [==============================] - 1s 14ms/step - loss: 1.7081 - accuracy: 0.4415 - val_loss: 2.7119 - val_accuracy: 0.3000\n",
            "Epoch 235/500\n",
            "100/100 [==============================] - 1s 14ms/step - loss: 1.7459 - accuracy: 0.4405 - val_loss: 2.3594 - val_accuracy: 0.3300\n",
            "Epoch 236/500\n",
            "100/100 [==============================] - 1s 14ms/step - loss: 1.7424 - accuracy: 0.4295 - val_loss: 1.9992 - val_accuracy: 0.3760\n",
            "Epoch 237/500\n",
            "100/100 [==============================] - 1s 14ms/step - loss: 1.7727 - accuracy: 0.4105 - val_loss: 2.5846 - val_accuracy: 0.3130\n",
            "Epoch 238/500\n",
            "100/100 [==============================] - 1s 14ms/step - loss: 1.7856 - accuracy: 0.4187 - val_loss: 2.1354 - val_accuracy: 0.3710\n",
            "Epoch 239/500\n",
            "100/100 [==============================] - 1s 14ms/step - loss: 1.7946 - accuracy: 0.4116 - val_loss: 2.1451 - val_accuracy: 0.3560\n",
            "Epoch 240/500\n",
            "100/100 [==============================] - 1s 14ms/step - loss: 1.7783 - accuracy: 0.4265 - val_loss: 2.9619 - val_accuracy: 0.2860\n",
            "Epoch 241/500\n",
            "100/100 [==============================] - 1s 14ms/step - loss: 1.7807 - accuracy: 0.4190 - val_loss: 2.2902 - val_accuracy: 0.3680\n",
            "Epoch 242/500\n",
            "100/100 [==============================] - 1s 14ms/step - loss: 1.7849 - accuracy: 0.4265 - val_loss: 2.0718 - val_accuracy: 0.3810\n",
            "Epoch 243/500\n",
            "100/100 [==============================] - 1s 14ms/step - loss: 1.6943 - accuracy: 0.4383 - val_loss: 2.2960 - val_accuracy: 0.3520\n",
            "Epoch 244/500\n",
            "100/100 [==============================] - 1s 14ms/step - loss: 1.7039 - accuracy: 0.4320 - val_loss: 2.2717 - val_accuracy: 0.3570\n",
            "Epoch 245/500\n",
            "100/100 [==============================] - 1s 14ms/step - loss: 1.7128 - accuracy: 0.4490 - val_loss: 2.3429 - val_accuracy: 0.3460\n",
            "Epoch 246/500\n",
            "100/100 [==============================] - 1s 14ms/step - loss: 1.7448 - accuracy: 0.4257 - val_loss: 2.0804 - val_accuracy: 0.3890\n",
            "Epoch 247/500\n",
            "100/100 [==============================] - 1s 14ms/step - loss: 1.6971 - accuracy: 0.4425 - val_loss: 2.5233 - val_accuracy: 0.3270\n",
            "Epoch 248/500\n",
            "100/100 [==============================] - 1s 14ms/step - loss: 1.8076 - accuracy: 0.4225 - val_loss: 2.4825 - val_accuracy: 0.2970\n",
            "Epoch 249/500\n",
            "100/100 [==============================] - 1s 14ms/step - loss: 1.7297 - accuracy: 0.4352 - val_loss: 2.1099 - val_accuracy: 0.3620\n",
            "Epoch 250/500\n",
            "100/100 [==============================] - 1s 14ms/step - loss: 1.7316 - accuracy: 0.4400 - val_loss: 2.4528 - val_accuracy: 0.3380\n",
            "Epoch 251/500\n",
            "100/100 [==============================] - 1s 14ms/step - loss: 1.7448 - accuracy: 0.4285 - val_loss: 2.4344 - val_accuracy: 0.3170\n",
            "Epoch 252/500\n",
            "100/100 [==============================] - 1s 14ms/step - loss: 1.7278 - accuracy: 0.4250 - val_loss: 2.2287 - val_accuracy: 0.3590\n",
            "Epoch 253/500\n",
            "100/100 [==============================] - 1s 14ms/step - loss: 1.7001 - accuracy: 0.4315 - val_loss: 2.3100 - val_accuracy: 0.3490\n",
            "Epoch 254/500\n",
            "100/100 [==============================] - 1s 14ms/step - loss: 1.7523 - accuracy: 0.4175 - val_loss: 1.9754 - val_accuracy: 0.3810\n",
            "Epoch 255/500\n",
            "100/100 [==============================] - 1s 14ms/step - loss: 1.7120 - accuracy: 0.4272 - val_loss: 2.3397 - val_accuracy: 0.3460\n",
            "Epoch 256/500\n",
            "100/100 [==============================] - 1s 14ms/step - loss: 1.7108 - accuracy: 0.4405 - val_loss: 2.1472 - val_accuracy: 0.3460\n",
            "Epoch 257/500\n",
            "100/100 [==============================] - 1s 14ms/step - loss: 1.7057 - accuracy: 0.4345 - val_loss: 2.1425 - val_accuracy: 0.3620\n",
            "Epoch 258/500\n",
            "100/100 [==============================] - 1s 14ms/step - loss: 1.7190 - accuracy: 0.4280 - val_loss: 2.3834 - val_accuracy: 0.3320\n",
            "Epoch 259/500\n",
            "100/100 [==============================] - 1s 14ms/step - loss: 1.7416 - accuracy: 0.4325 - val_loss: 2.1957 - val_accuracy: 0.3640\n",
            "Epoch 260/500\n",
            "100/100 [==============================] - 1s 15ms/step - loss: 1.7220 - accuracy: 0.4470 - val_loss: 2.0763 - val_accuracy: 0.3860\n",
            "Epoch 261/500\n",
            "100/100 [==============================] - 1s 14ms/step - loss: 1.7674 - accuracy: 0.4095 - val_loss: 2.0935 - val_accuracy: 0.3780\n",
            "Epoch 262/500\n",
            "100/100 [==============================] - 1s 14ms/step - loss: 1.6543 - accuracy: 0.4570 - val_loss: 2.3210 - val_accuracy: 0.3310\n",
            "Epoch 263/500\n",
            "100/100 [==============================] - 1s 14ms/step - loss: 1.7369 - accuracy: 0.4110 - val_loss: 2.0723 - val_accuracy: 0.3920\n",
            "Epoch 264/500\n",
            "100/100 [==============================] - 1s 14ms/step - loss: 1.7542 - accuracy: 0.4340 - val_loss: 2.2545 - val_accuracy: 0.3580\n",
            "Epoch 265/500\n",
            "100/100 [==============================] - 1s 14ms/step - loss: 1.7700 - accuracy: 0.4215 - val_loss: 2.0798 - val_accuracy: 0.3660\n",
            "Epoch 266/500\n",
            "100/100 [==============================] - 1s 14ms/step - loss: 1.6788 - accuracy: 0.4538 - val_loss: 2.1654 - val_accuracy: 0.3720\n",
            "Epoch 267/500\n",
            "100/100 [==============================] - 1s 15ms/step - loss: 1.6923 - accuracy: 0.4450 - val_loss: 2.4058 - val_accuracy: 0.3440\n",
            "Epoch 268/500\n",
            "100/100 [==============================] - 1s 14ms/step - loss: 1.6889 - accuracy: 0.4460 - val_loss: 2.5290 - val_accuracy: 0.3200\n",
            "Epoch 269/500\n",
            "100/100 [==============================] - 1s 14ms/step - loss: 1.7327 - accuracy: 0.4315 - val_loss: 1.9867 - val_accuracy: 0.3760\n",
            "Epoch 270/500\n",
            "100/100 [==============================] - 1s 14ms/step - loss: 1.7310 - accuracy: 0.4310 - val_loss: 2.0595 - val_accuracy: 0.4020\n",
            "Epoch 271/500\n",
            "100/100 [==============================] - 1s 14ms/step - loss: 1.7005 - accuracy: 0.4350 - val_loss: 2.2197 - val_accuracy: 0.3650\n",
            "Epoch 272/500\n",
            "100/100 [==============================] - 1s 14ms/step - loss: 1.6984 - accuracy: 0.4380 - val_loss: 2.1853 - val_accuracy: 0.3710\n",
            "Epoch 273/500\n",
            "100/100 [==============================] - 1s 14ms/step - loss: 1.6615 - accuracy: 0.4320 - val_loss: 2.7454 - val_accuracy: 0.3020\n",
            "Epoch 274/500\n",
            "100/100 [==============================] - 1s 14ms/step - loss: 1.7349 - accuracy: 0.4195 - val_loss: 2.4595 - val_accuracy: 0.3150\n",
            "Epoch 275/500\n",
            "100/100 [==============================] - 1s 14ms/step - loss: 1.7491 - accuracy: 0.4180 - val_loss: 2.2010 - val_accuracy: 0.3680\n",
            "Epoch 276/500\n",
            "100/100 [==============================] - 1s 14ms/step - loss: 1.6779 - accuracy: 0.4385 - val_loss: 2.2127 - val_accuracy: 0.3300\n",
            "Epoch 277/500\n",
            "100/100 [==============================] - 1s 14ms/step - loss: 1.7175 - accuracy: 0.4365 - val_loss: 2.1885 - val_accuracy: 0.3510\n",
            "Epoch 278/500\n",
            "100/100 [==============================] - 1s 14ms/step - loss: 1.7170 - accuracy: 0.4425 - val_loss: 2.7838 - val_accuracy: 0.3000\n",
            "Epoch 279/500\n",
            "100/100 [==============================] - 1s 14ms/step - loss: 1.7088 - accuracy: 0.4305 - val_loss: 2.0664 - val_accuracy: 0.3630\n",
            "Epoch 280/500\n",
            "100/100 [==============================] - 1s 14ms/step - loss: 1.7304 - accuracy: 0.4415 - val_loss: 1.9991 - val_accuracy: 0.3980\n",
            "Epoch 281/500\n",
            "100/100 [==============================] - 1s 15ms/step - loss: 1.6571 - accuracy: 0.4465 - val_loss: 2.3056 - val_accuracy: 0.3510\n",
            "Epoch 282/500\n",
            "100/100 [==============================] - 1s 14ms/step - loss: 1.6900 - accuracy: 0.4315 - val_loss: 2.1941 - val_accuracy: 0.3510\n",
            "Epoch 283/500\n",
            "100/100 [==============================] - 1s 14ms/step - loss: 1.7259 - accuracy: 0.4345 - val_loss: 1.9531 - val_accuracy: 0.4140\n",
            "Epoch 284/500\n",
            "100/100 [==============================] - 1s 14ms/step - loss: 1.6468 - accuracy: 0.4473 - val_loss: 2.2215 - val_accuracy: 0.3540\n",
            "Epoch 285/500\n",
            "100/100 [==============================] - 1s 14ms/step - loss: 1.7173 - accuracy: 0.4340 - val_loss: 2.1048 - val_accuracy: 0.3520\n",
            "Epoch 286/500\n",
            "100/100 [==============================] - 1s 14ms/step - loss: 1.7678 - accuracy: 0.4200 - val_loss: 2.3308 - val_accuracy: 0.3340\n",
            "Epoch 287/500\n",
            "100/100 [==============================] - 1s 15ms/step - loss: 1.7326 - accuracy: 0.4360 - val_loss: 2.3267 - val_accuracy: 0.3640\n",
            "Epoch 288/500\n",
            "100/100 [==============================] - 1s 15ms/step - loss: 1.7104 - accuracy: 0.4347 - val_loss: 2.4320 - val_accuracy: 0.3430\n",
            "Epoch 289/500\n",
            "100/100 [==============================] - 1s 14ms/step - loss: 1.7060 - accuracy: 0.4295 - val_loss: 2.2130 - val_accuracy: 0.3610\n",
            "Epoch 290/500\n",
            "100/100 [==============================] - 1s 15ms/step - loss: 1.7099 - accuracy: 0.4450 - val_loss: 2.1267 - val_accuracy: 0.3870\n",
            "Epoch 291/500\n",
            "100/100 [==============================] - 1s 14ms/step - loss: 1.6978 - accuracy: 0.4445 - val_loss: 2.4112 - val_accuracy: 0.3400\n",
            "Epoch 292/500\n",
            "100/100 [==============================] - 1s 14ms/step - loss: 1.7001 - accuracy: 0.4475 - val_loss: 2.0360 - val_accuracy: 0.3790\n",
            "Epoch 293/500\n",
            "100/100 [==============================] - 1s 14ms/step - loss: 1.7056 - accuracy: 0.4375 - val_loss: 2.2501 - val_accuracy: 0.3630\n",
            "Epoch 294/500\n",
            "100/100 [==============================] - 1s 14ms/step - loss: 1.7025 - accuracy: 0.4383 - val_loss: 2.4296 - val_accuracy: 0.3450\n",
            "Epoch 295/500\n",
            "100/100 [==============================] - 1s 15ms/step - loss: 1.7112 - accuracy: 0.4280 - val_loss: 2.0650 - val_accuracy: 0.3910\n",
            "Epoch 296/500\n",
            "100/100 [==============================] - 1s 14ms/step - loss: 1.6535 - accuracy: 0.4600 - val_loss: 2.4959 - val_accuracy: 0.3430\n",
            "Epoch 297/500\n",
            "100/100 [==============================] - 1s 14ms/step - loss: 1.6892 - accuracy: 0.4365 - val_loss: 2.0413 - val_accuracy: 0.3990\n",
            "Epoch 298/500\n",
            "100/100 [==============================] - 1s 14ms/step - loss: 1.7034 - accuracy: 0.4350 - val_loss: 2.4651 - val_accuracy: 0.3560\n",
            "Epoch 299/500\n",
            "100/100 [==============================] - 1s 15ms/step - loss: 1.7245 - accuracy: 0.4135 - val_loss: 2.1751 - val_accuracy: 0.3720\n",
            "Epoch 300/500\n",
            "100/100 [==============================] - 1s 14ms/step - loss: 1.6825 - accuracy: 0.4475 - val_loss: 2.7864 - val_accuracy: 0.3060\n",
            "Epoch 301/500\n",
            "100/100 [==============================] - 1s 14ms/step - loss: 1.7156 - accuracy: 0.4390 - val_loss: 2.0307 - val_accuracy: 0.3850\n",
            "Epoch 302/500\n",
            "100/100 [==============================] - 1s 14ms/step - loss: 1.6533 - accuracy: 0.4488 - val_loss: 2.1139 - val_accuracy: 0.3840\n",
            "Epoch 303/500\n",
            "100/100 [==============================] - 1s 15ms/step - loss: 1.6261 - accuracy: 0.4605 - val_loss: 2.3648 - val_accuracy: 0.3530\n",
            "Epoch 304/500\n",
            "100/100 [==============================] - 1s 14ms/step - loss: 1.6438 - accuracy: 0.4550 - val_loss: 2.2153 - val_accuracy: 0.3540\n",
            "Epoch 305/500\n",
            "100/100 [==============================] - 1s 14ms/step - loss: 1.6835 - accuracy: 0.4495 - val_loss: 2.2403 - val_accuracy: 0.3670\n",
            "Epoch 306/500\n",
            "100/100 [==============================] - 1s 15ms/step - loss: 1.6726 - accuracy: 0.4418 - val_loss: 2.4181 - val_accuracy: 0.3480\n",
            "Epoch 307/500\n",
            "100/100 [==============================] - 1s 14ms/step - loss: 1.6472 - accuracy: 0.4660 - val_loss: 2.2048 - val_accuracy: 0.3700\n",
            "Epoch 308/500\n",
            "100/100 [==============================] - 1s 14ms/step - loss: 1.7001 - accuracy: 0.4430 - val_loss: 2.3459 - val_accuracy: 0.3560\n",
            "Epoch 309/500\n",
            "100/100 [==============================] - 1s 15ms/step - loss: 1.6126 - accuracy: 0.4550 - val_loss: 2.2483 - val_accuracy: 0.3620\n",
            "Epoch 310/500\n",
            "100/100 [==============================] - 1s 15ms/step - loss: 1.6608 - accuracy: 0.4615 - val_loss: 2.1557 - val_accuracy: 0.3400\n",
            "Epoch 311/500\n",
            "100/100 [==============================] - 1s 15ms/step - loss: 1.6466 - accuracy: 0.4430 - val_loss: 2.3296 - val_accuracy: 0.3610\n",
            "Epoch 312/500\n",
            "100/100 [==============================] - 1s 15ms/step - loss: 1.7298 - accuracy: 0.4270 - val_loss: 2.1159 - val_accuracy: 0.3840\n",
            "Epoch 313/500\n",
            "100/100 [==============================] - 1s 15ms/step - loss: 1.6866 - accuracy: 0.4580 - val_loss: 2.3097 - val_accuracy: 0.3580\n",
            "Epoch 314/500\n",
            "100/100 [==============================] - 1s 15ms/step - loss: 1.6582 - accuracy: 0.4485 - val_loss: 2.6375 - val_accuracy: 0.3310\n",
            "Epoch 315/500\n",
            "100/100 [==============================] - 1s 15ms/step - loss: 1.6896 - accuracy: 0.4405 - val_loss: 2.1551 - val_accuracy: 0.3780\n",
            "Epoch 316/500\n",
            "100/100 [==============================] - 1s 15ms/step - loss: 1.6649 - accuracy: 0.4400 - val_loss: 2.2052 - val_accuracy: 0.3660\n",
            "Epoch 317/500\n",
            "100/100 [==============================] - 1s 15ms/step - loss: 1.6507 - accuracy: 0.4505 - val_loss: 2.5103 - val_accuracy: 0.3250\n",
            "Epoch 318/500\n",
            "100/100 [==============================] - 1s 14ms/step - loss: 1.6460 - accuracy: 0.4625 - val_loss: 2.0713 - val_accuracy: 0.3770\n",
            "Epoch 319/500\n",
            "100/100 [==============================] - 1s 14ms/step - loss: 1.6543 - accuracy: 0.4630 - val_loss: 2.0515 - val_accuracy: 0.3780\n",
            "Epoch 320/500\n",
            "100/100 [==============================] - 1s 14ms/step - loss: 1.7443 - accuracy: 0.4345 - val_loss: 2.2266 - val_accuracy: 0.3970\n",
            "Epoch 321/500\n",
            "100/100 [==============================] - 1s 14ms/step - loss: 1.6537 - accuracy: 0.4465 - val_loss: 2.2260 - val_accuracy: 0.3780\n",
            "Epoch 322/500\n",
            "100/100 [==============================] - 1s 14ms/step - loss: 1.6841 - accuracy: 0.4463 - val_loss: 2.4351 - val_accuracy: 0.3260\n",
            "Epoch 323/500\n",
            "100/100 [==============================] - 1s 14ms/step - loss: 1.6319 - accuracy: 0.4654 - val_loss: 2.2457 - val_accuracy: 0.3690\n",
            "Epoch 324/500\n",
            "100/100 [==============================] - 2s 15ms/step - loss: 1.6438 - accuracy: 0.4450 - val_loss: 2.3066 - val_accuracy: 0.3550\n",
            "Epoch 325/500\n",
            "100/100 [==============================] - 1s 15ms/step - loss: 1.6804 - accuracy: 0.4400 - val_loss: 2.1933 - val_accuracy: 0.3750\n",
            "Epoch 326/500\n",
            "100/100 [==============================] - 1s 15ms/step - loss: 1.6685 - accuracy: 0.4525 - val_loss: 2.3882 - val_accuracy: 0.3410\n",
            "Epoch 327/500\n",
            "100/100 [==============================] - 1s 14ms/step - loss: 1.6502 - accuracy: 0.4550 - val_loss: 2.1372 - val_accuracy: 0.3770\n",
            "Epoch 328/500\n",
            "100/100 [==============================] - 1s 14ms/step - loss: 1.6334 - accuracy: 0.4694 - val_loss: 2.1382 - val_accuracy: 0.3780\n",
            "Epoch 329/500\n",
            "100/100 [==============================] - 1s 15ms/step - loss: 1.6238 - accuracy: 0.4525 - val_loss: 2.0863 - val_accuracy: 0.3670\n",
            "Epoch 330/500\n",
            "100/100 [==============================] - 1s 14ms/step - loss: 1.7031 - accuracy: 0.4465 - val_loss: 2.5185 - val_accuracy: 0.3450\n",
            "Epoch 331/500\n",
            "100/100 [==============================] - 1s 15ms/step - loss: 1.6341 - accuracy: 0.4645 - val_loss: 2.2558 - val_accuracy: 0.3570\n",
            "Epoch 332/500\n",
            "100/100 [==============================] - 1s 15ms/step - loss: 1.6090 - accuracy: 0.4720 - val_loss: 2.5820 - val_accuracy: 0.3550\n",
            "Epoch 333/500\n",
            "100/100 [==============================] - 1s 15ms/step - loss: 1.6463 - accuracy: 0.4670 - val_loss: 1.9864 - val_accuracy: 0.3950\n",
            "Epoch 334/500\n",
            "100/100 [==============================] - 1s 14ms/step - loss: 1.6336 - accuracy: 0.4615 - val_loss: 2.1029 - val_accuracy: 0.3890\n",
            "Epoch 335/500\n",
            "100/100 [==============================] - 1s 15ms/step - loss: 1.6588 - accuracy: 0.4680 - val_loss: 2.2860 - val_accuracy: 0.3470\n",
            "Epoch 336/500\n",
            "100/100 [==============================] - 1s 14ms/step - loss: 1.6405 - accuracy: 0.4615 - val_loss: 2.3421 - val_accuracy: 0.3430\n",
            "Epoch 337/500\n",
            "100/100 [==============================] - 1s 15ms/step - loss: 1.6594 - accuracy: 0.4550 - val_loss: 2.3445 - val_accuracy: 0.3430\n",
            "Epoch 338/500\n",
            "100/100 [==============================] - 1s 15ms/step - loss: 1.6622 - accuracy: 0.4455 - val_loss: 2.5786 - val_accuracy: 0.3180\n",
            "Epoch 339/500\n",
            "100/100 [==============================] - 1s 14ms/step - loss: 1.6465 - accuracy: 0.4645 - val_loss: 2.5024 - val_accuracy: 0.3620\n",
            "Epoch 340/500\n",
            "100/100 [==============================] - 1s 15ms/step - loss: 1.6601 - accuracy: 0.4423 - val_loss: 2.3342 - val_accuracy: 0.3710\n",
            "Epoch 341/500\n",
            "100/100 [==============================] - 1s 14ms/step - loss: 1.6404 - accuracy: 0.4575 - val_loss: 2.4016 - val_accuracy: 0.3430\n",
            "Epoch 342/500\n",
            "100/100 [==============================] - 1s 14ms/step - loss: 1.6373 - accuracy: 0.4533 - val_loss: 2.2631 - val_accuracy: 0.3670\n",
            "Epoch 343/500\n",
            "100/100 [==============================] - 1s 14ms/step - loss: 1.6979 - accuracy: 0.4495 - val_loss: 2.4214 - val_accuracy: 0.3450\n",
            "Epoch 344/500\n",
            "100/100 [==============================] - 1s 14ms/step - loss: 1.6810 - accuracy: 0.4342 - val_loss: 2.3444 - val_accuracy: 0.3390\n",
            "Epoch 345/500\n",
            "100/100 [==============================] - 1s 15ms/step - loss: 1.6560 - accuracy: 0.4365 - val_loss: 1.7888 - val_accuracy: 0.4100\n",
            "Epoch 346/500\n",
            "100/100 [==============================] - 1s 14ms/step - loss: 1.6442 - accuracy: 0.4480 - val_loss: 2.7336 - val_accuracy: 0.3120\n",
            "Epoch 347/500\n",
            "100/100 [==============================] - 1s 14ms/step - loss: 1.6276 - accuracy: 0.4570 - val_loss: 2.2134 - val_accuracy: 0.3660\n",
            "Epoch 348/500\n",
            "100/100 [==============================] - 1s 15ms/step - loss: 1.6701 - accuracy: 0.4445 - val_loss: 2.1018 - val_accuracy: 0.3670\n",
            "Epoch 349/500\n",
            "100/100 [==============================] - 1s 15ms/step - loss: 1.6580 - accuracy: 0.4505 - val_loss: 2.2798 - val_accuracy: 0.3480\n",
            "Epoch 350/500\n",
            "100/100 [==============================] - 1s 15ms/step - loss: 1.5979 - accuracy: 0.4800 - val_loss: 2.3749 - val_accuracy: 0.3450\n",
            "Epoch 351/500\n",
            "100/100 [==============================] - 1s 15ms/step - loss: 1.6495 - accuracy: 0.4610 - val_loss: 2.0292 - val_accuracy: 0.3770\n",
            "Epoch 352/500\n",
            "100/100 [==============================] - 2s 15ms/step - loss: 1.6102 - accuracy: 0.4590 - val_loss: 2.3146 - val_accuracy: 0.3480\n",
            "Epoch 353/500\n",
            "100/100 [==============================] - 1s 15ms/step - loss: 1.6528 - accuracy: 0.4515 - val_loss: 2.1822 - val_accuracy: 0.3860\n",
            "Epoch 354/500\n",
            "100/100 [==============================] - 1s 15ms/step - loss: 1.6236 - accuracy: 0.4725 - val_loss: 2.0584 - val_accuracy: 0.3750\n",
            "Epoch 355/500\n",
            "100/100 [==============================] - 1s 14ms/step - loss: 1.6273 - accuracy: 0.4685 - val_loss: 2.2461 - val_accuracy: 0.3730\n",
            "Epoch 356/500\n",
            "100/100 [==============================] - 1s 15ms/step - loss: 1.6578 - accuracy: 0.4470 - val_loss: 2.3725 - val_accuracy: 0.3820\n",
            "Epoch 357/500\n",
            "100/100 [==============================] - 1s 15ms/step - loss: 1.6753 - accuracy: 0.4475 - val_loss: 2.1328 - val_accuracy: 0.3860\n",
            "Epoch 358/500\n",
            "100/100 [==============================] - 1s 15ms/step - loss: 1.6532 - accuracy: 0.4455 - val_loss: 2.1771 - val_accuracy: 0.3540\n",
            "Epoch 359/500\n",
            "100/100 [==============================] - 1s 15ms/step - loss: 1.6661 - accuracy: 0.4540 - val_loss: 2.0890 - val_accuracy: 0.3950\n",
            "Epoch 360/500\n",
            "100/100 [==============================] - 1s 15ms/step - loss: 1.6316 - accuracy: 0.4445 - val_loss: 2.3279 - val_accuracy: 0.3490\n",
            "Epoch 361/500\n",
            "100/100 [==============================] - 1s 15ms/step - loss: 1.6543 - accuracy: 0.4548 - val_loss: 2.1424 - val_accuracy: 0.3810\n",
            "Epoch 362/500\n",
            "100/100 [==============================] - 1s 15ms/step - loss: 1.6060 - accuracy: 0.4625 - val_loss: 2.3325 - val_accuracy: 0.3440\n",
            "Epoch 363/500\n",
            "100/100 [==============================] - 1s 15ms/step - loss: 1.6014 - accuracy: 0.4765 - val_loss: 2.0135 - val_accuracy: 0.4140\n",
            "Epoch 364/500\n",
            "100/100 [==============================] - 1s 14ms/step - loss: 1.6466 - accuracy: 0.4590 - val_loss: 2.0716 - val_accuracy: 0.3800\n",
            "Epoch 365/500\n",
            "100/100 [==============================] - 1s 15ms/step - loss: 1.6031 - accuracy: 0.4630 - val_loss: 2.1328 - val_accuracy: 0.3970\n",
            "Epoch 366/500\n",
            "100/100 [==============================] - 1s 15ms/step - loss: 1.6185 - accuracy: 0.4690 - val_loss: 2.0992 - val_accuracy: 0.3760\n",
            "Epoch 367/500\n",
            "100/100 [==============================] - 1s 15ms/step - loss: 1.6469 - accuracy: 0.4345 - val_loss: 1.8834 - val_accuracy: 0.3910\n",
            "Epoch 368/500\n",
            "100/100 [==============================] - 1s 15ms/step - loss: 1.6253 - accuracy: 0.4765 - val_loss: 2.0840 - val_accuracy: 0.3960\n",
            "Epoch 369/500\n",
            "100/100 [==============================] - 1s 15ms/step - loss: 1.6273 - accuracy: 0.4665 - val_loss: 2.0991 - val_accuracy: 0.3960\n",
            "Epoch 370/500\n",
            "100/100 [==============================] - 1s 14ms/step - loss: 1.6561 - accuracy: 0.4603 - val_loss: 2.0513 - val_accuracy: 0.3970\n",
            "Epoch 371/500\n",
            "100/100 [==============================] - 1s 15ms/step - loss: 1.5632 - accuracy: 0.4850 - val_loss: 2.4130 - val_accuracy: 0.3380\n",
            "Epoch 372/500\n",
            "100/100 [==============================] - 1s 15ms/step - loss: 1.6259 - accuracy: 0.4680 - val_loss: 2.3591 - val_accuracy: 0.3550\n",
            "Epoch 373/500\n",
            "100/100 [==============================] - 2s 15ms/step - loss: 1.6273 - accuracy: 0.4630 - val_loss: 2.2632 - val_accuracy: 0.3640\n",
            "Epoch 374/500\n",
            "100/100 [==============================] - 1s 15ms/step - loss: 1.5677 - accuracy: 0.4820 - val_loss: 2.4139 - val_accuracy: 0.3500\n",
            "Epoch 375/500\n",
            "100/100 [==============================] - 1s 15ms/step - loss: 1.6036 - accuracy: 0.4675 - val_loss: 2.7426 - val_accuracy: 0.3160\n",
            "Epoch 376/500\n",
            "100/100 [==============================] - 1s 15ms/step - loss: 1.5866 - accuracy: 0.4725 - val_loss: 2.2517 - val_accuracy: 0.3640\n",
            "Epoch 377/500\n",
            "100/100 [==============================] - 1s 15ms/step - loss: 1.6653 - accuracy: 0.4470 - val_loss: 2.2612 - val_accuracy: 0.3810\n",
            "Epoch 378/500\n",
            "100/100 [==============================] - 1s 15ms/step - loss: 1.6279 - accuracy: 0.4540 - val_loss: 2.2244 - val_accuracy: 0.3650\n",
            "Epoch 379/500\n",
            "100/100 [==============================] - 1s 15ms/step - loss: 1.5803 - accuracy: 0.4755 - val_loss: 2.1580 - val_accuracy: 0.3790\n",
            "Epoch 380/500\n",
            "100/100 [==============================] - 2s 15ms/step - loss: 1.5813 - accuracy: 0.4640 - val_loss: 2.5816 - val_accuracy: 0.3280\n",
            "Epoch 381/500\n",
            "100/100 [==============================] - 1s 15ms/step - loss: 1.6419 - accuracy: 0.4510 - val_loss: 1.9767 - val_accuracy: 0.4230\n",
            "Epoch 382/500\n",
            "100/100 [==============================] - 1s 15ms/step - loss: 1.6385 - accuracy: 0.4700 - val_loss: 2.2285 - val_accuracy: 0.3790\n",
            "Epoch 383/500\n",
            "100/100 [==============================] - 1s 14ms/step - loss: 1.6203 - accuracy: 0.4540 - val_loss: 2.4003 - val_accuracy: 0.3540\n",
            "Epoch 384/500\n",
            "100/100 [==============================] - 2s 15ms/step - loss: 1.6160 - accuracy: 0.4695 - val_loss: 2.3484 - val_accuracy: 0.3520\n",
            "Epoch 385/500\n",
            "100/100 [==============================] - 1s 15ms/step - loss: 1.6111 - accuracy: 0.4760 - val_loss: 2.0381 - val_accuracy: 0.4050\n",
            "Epoch 386/500\n",
            "100/100 [==============================] - 1s 15ms/step - loss: 1.6244 - accuracy: 0.4615 - val_loss: 1.9264 - val_accuracy: 0.4110\n",
            "Epoch 387/500\n",
            "100/100 [==============================] - 1s 14ms/step - loss: 1.6483 - accuracy: 0.4490 - val_loss: 2.3391 - val_accuracy: 0.3660\n",
            "Epoch 388/500\n",
            "100/100 [==============================] - 1s 15ms/step - loss: 1.6492 - accuracy: 0.4605 - val_loss: 2.2228 - val_accuracy: 0.3720\n",
            "Epoch 389/500\n",
            "100/100 [==============================] - 1s 15ms/step - loss: 1.6051 - accuracy: 0.4640 - val_loss: 2.3434 - val_accuracy: 0.3570\n",
            "Epoch 390/500\n",
            "100/100 [==============================] - 1s 15ms/step - loss: 1.6030 - accuracy: 0.4650 - val_loss: 2.0910 - val_accuracy: 0.3940\n",
            "Epoch 391/500\n",
            "100/100 [==============================] - 1s 15ms/step - loss: 1.6306 - accuracy: 0.4645 - val_loss: 2.3843 - val_accuracy: 0.3550\n",
            "Epoch 392/500\n",
            "100/100 [==============================] - 1s 15ms/step - loss: 1.6037 - accuracy: 0.4660 - val_loss: 2.1456 - val_accuracy: 0.3740\n",
            "Epoch 393/500\n",
            "100/100 [==============================] - 1s 15ms/step - loss: 1.6138 - accuracy: 0.4650 - val_loss: 2.1715 - val_accuracy: 0.3720\n",
            "Epoch 394/500\n",
            "100/100 [==============================] - 2s 15ms/step - loss: 1.6192 - accuracy: 0.4625 - val_loss: 2.1749 - val_accuracy: 0.3660\n",
            "Epoch 395/500\n",
            "100/100 [==============================] - 1s 15ms/step - loss: 1.5918 - accuracy: 0.4695 - val_loss: 2.1010 - val_accuracy: 0.3930\n",
            "Epoch 396/500\n",
            "100/100 [==============================] - 1s 15ms/step - loss: 1.6075 - accuracy: 0.4620 - val_loss: 2.4240 - val_accuracy: 0.3590\n",
            "Epoch 397/500\n",
            "100/100 [==============================] - 1s 15ms/step - loss: 1.6124 - accuracy: 0.4655 - val_loss: 2.2779 - val_accuracy: 0.3550\n",
            "Epoch 398/500\n",
            "100/100 [==============================] - 2s 15ms/step - loss: 1.5610 - accuracy: 0.4795 - val_loss: 1.9531 - val_accuracy: 0.4170\n",
            "Epoch 399/500\n",
            "100/100 [==============================] - 1s 15ms/step - loss: 1.5551 - accuracy: 0.4705 - val_loss: 2.4146 - val_accuracy: 0.3640\n",
            "Epoch 400/500\n",
            "100/100 [==============================] - 2s 15ms/step - loss: 1.5648 - accuracy: 0.4740 - val_loss: 1.8349 - val_accuracy: 0.4360\n",
            "Epoch 401/500\n",
            "100/100 [==============================] - 1s 15ms/step - loss: 1.5866 - accuracy: 0.4625 - val_loss: 2.1466 - val_accuracy: 0.3610\n",
            "Epoch 402/500\n",
            "100/100 [==============================] - 1s 15ms/step - loss: 1.6320 - accuracy: 0.4605 - val_loss: 2.1075 - val_accuracy: 0.3870\n",
            "Epoch 403/500\n",
            "100/100 [==============================] - 1s 15ms/step - loss: 1.6513 - accuracy: 0.4490 - val_loss: 1.9582 - val_accuracy: 0.4170\n",
            "Epoch 404/500\n",
            "100/100 [==============================] - 1s 15ms/step - loss: 1.6210 - accuracy: 0.4665 - val_loss: 2.2785 - val_accuracy: 0.3780\n",
            "Epoch 405/500\n",
            "100/100 [==============================] - 2s 15ms/step - loss: 1.6532 - accuracy: 0.4730 - val_loss: 2.3869 - val_accuracy: 0.3430\n",
            "Epoch 406/500\n",
            "100/100 [==============================] - 1s 15ms/step - loss: 1.5920 - accuracy: 0.4669 - val_loss: 1.9835 - val_accuracy: 0.4290\n",
            "Epoch 407/500\n",
            "100/100 [==============================] - 2s 15ms/step - loss: 1.5645 - accuracy: 0.4780 - val_loss: 2.1839 - val_accuracy: 0.3860\n",
            "Epoch 408/500\n",
            "100/100 [==============================] - 1s 15ms/step - loss: 1.5566 - accuracy: 0.4885 - val_loss: 2.1045 - val_accuracy: 0.3790\n",
            "Epoch 409/500\n",
            "100/100 [==============================] - 1s 15ms/step - loss: 1.5760 - accuracy: 0.4740 - val_loss: 2.1169 - val_accuracy: 0.3930\n",
            "Epoch 410/500\n",
            "100/100 [==============================] - 1s 15ms/step - loss: 1.6299 - accuracy: 0.4555 - val_loss: 2.3700 - val_accuracy: 0.3530\n",
            "Epoch 411/500\n",
            "100/100 [==============================] - 1s 15ms/step - loss: 1.5588 - accuracy: 0.4940 - val_loss: 2.5018 - val_accuracy: 0.3410\n",
            "Epoch 412/500\n",
            "100/100 [==============================] - 1s 15ms/step - loss: 1.6188 - accuracy: 0.4665 - val_loss: 2.3343 - val_accuracy: 0.3760\n",
            "Epoch 413/500\n",
            "100/100 [==============================] - 1s 15ms/step - loss: 1.6226 - accuracy: 0.4580 - val_loss: 2.4067 - val_accuracy: 0.3410\n",
            "Epoch 414/500\n",
            "100/100 [==============================] - 2s 15ms/step - loss: 1.5333 - accuracy: 0.4875 - val_loss: 2.3426 - val_accuracy: 0.3640\n",
            "Epoch 415/500\n",
            "100/100 [==============================] - 1s 15ms/step - loss: 1.5612 - accuracy: 0.4875 - val_loss: 2.1046 - val_accuracy: 0.3800\n",
            "Epoch 416/500\n",
            "100/100 [==============================] - 2s 15ms/step - loss: 1.5848 - accuracy: 0.4785 - val_loss: 2.1850 - val_accuracy: 0.3660\n",
            "Epoch 417/500\n",
            "100/100 [==============================] - 2s 15ms/step - loss: 1.6227 - accuracy: 0.4545 - val_loss: 2.2962 - val_accuracy: 0.3480\n",
            "Epoch 418/500\n",
            "100/100 [==============================] - 1s 15ms/step - loss: 1.6140 - accuracy: 0.4645 - val_loss: 1.9494 - val_accuracy: 0.3990\n",
            "Epoch 419/500\n",
            "100/100 [==============================] - 1s 15ms/step - loss: 1.6096 - accuracy: 0.4625 - val_loss: 2.5358 - val_accuracy: 0.3350\n",
            "Epoch 420/500\n",
            "100/100 [==============================] - 1s 15ms/step - loss: 1.5807 - accuracy: 0.4759 - val_loss: 2.0499 - val_accuracy: 0.3880\n",
            "Epoch 421/500\n",
            "100/100 [==============================] - 2s 15ms/step - loss: 1.6598 - accuracy: 0.4498 - val_loss: 2.0625 - val_accuracy: 0.3720\n",
            "Epoch 422/500\n",
            "100/100 [==============================] - 2s 15ms/step - loss: 1.5873 - accuracy: 0.4705 - val_loss: 2.2771 - val_accuracy: 0.3650\n",
            "Epoch 423/500\n",
            "100/100 [==============================] - 1s 15ms/step - loss: 1.5471 - accuracy: 0.4915 - val_loss: 2.0566 - val_accuracy: 0.3970\n",
            "Epoch 424/500\n",
            "100/100 [==============================] - 1s 15ms/step - loss: 1.6411 - accuracy: 0.4595 - val_loss: 2.2865 - val_accuracy: 0.3650\n",
            "Epoch 425/500\n",
            "100/100 [==============================] - 2s 15ms/step - loss: 1.5646 - accuracy: 0.4755 - val_loss: 2.5143 - val_accuracy: 0.3410\n",
            "Epoch 426/500\n",
            "100/100 [==============================] - 1s 15ms/step - loss: 1.5242 - accuracy: 0.4975 - val_loss: 2.3114 - val_accuracy: 0.3730\n",
            "Epoch 427/500\n",
            "100/100 [==============================] - 1s 15ms/step - loss: 1.5984 - accuracy: 0.4690 - val_loss: 2.3231 - val_accuracy: 0.3680\n",
            "Epoch 428/500\n",
            "100/100 [==============================] - 2s 15ms/step - loss: 1.5543 - accuracy: 0.4840 - val_loss: 2.1772 - val_accuracy: 0.3900\n",
            "Epoch 429/500\n",
            "100/100 [==============================] - 1s 15ms/step - loss: 1.6104 - accuracy: 0.4625 - val_loss: 1.9321 - val_accuracy: 0.4410\n",
            "Epoch 430/500\n",
            "100/100 [==============================] - 2s 15ms/step - loss: 1.5990 - accuracy: 0.4655 - val_loss: 2.0569 - val_accuracy: 0.4140\n",
            "Epoch 431/500\n",
            "100/100 [==============================] - 2s 15ms/step - loss: 1.5925 - accuracy: 0.4730 - val_loss: 2.2740 - val_accuracy: 0.3870\n",
            "Epoch 432/500\n",
            "100/100 [==============================] - 2s 15ms/step - loss: 1.5630 - accuracy: 0.4770 - val_loss: 2.2737 - val_accuracy: 0.3890\n",
            "Epoch 433/500\n",
            "100/100 [==============================] - 1s 15ms/step - loss: 1.5670 - accuracy: 0.4850 - val_loss: 1.8458 - val_accuracy: 0.4410\n",
            "Epoch 434/500\n",
            "100/100 [==============================] - 1s 15ms/step - loss: 1.5843 - accuracy: 0.4620 - val_loss: 2.0565 - val_accuracy: 0.4290\n",
            "Epoch 435/500\n",
            "100/100 [==============================] - 2s 15ms/step - loss: 1.5788 - accuracy: 0.4800 - val_loss: 2.2120 - val_accuracy: 0.3900\n",
            "Epoch 436/500\n",
            "100/100 [==============================] - 1s 15ms/step - loss: 1.6491 - accuracy: 0.4705 - val_loss: 2.2120 - val_accuracy: 0.3800\n",
            "Epoch 437/500\n",
            "100/100 [==============================] - 2s 15ms/step - loss: 1.5660 - accuracy: 0.4744 - val_loss: 2.4762 - val_accuracy: 0.3470\n",
            "Epoch 438/500\n",
            "100/100 [==============================] - 1s 15ms/step - loss: 1.5785 - accuracy: 0.4735 - val_loss: 2.3235 - val_accuracy: 0.3900\n",
            "Epoch 439/500\n",
            "100/100 [==============================] - 1s 15ms/step - loss: 1.5596 - accuracy: 0.4755 - val_loss: 2.1900 - val_accuracy: 0.3780\n",
            "Epoch 440/500\n",
            "100/100 [==============================] - 1s 15ms/step - loss: 1.5639 - accuracy: 0.4800 - val_loss: 2.3435 - val_accuracy: 0.3560\n",
            "Epoch 441/500\n",
            "100/100 [==============================] - 2s 15ms/step - loss: 1.5842 - accuracy: 0.4734 - val_loss: 2.5055 - val_accuracy: 0.3540\n",
            "Epoch 442/500\n",
            "100/100 [==============================] - 2s 15ms/step - loss: 1.5799 - accuracy: 0.4885 - val_loss: 2.1876 - val_accuracy: 0.3880\n",
            "Epoch 443/500\n",
            "100/100 [==============================] - 1s 15ms/step - loss: 1.5899 - accuracy: 0.4760 - val_loss: 3.1640 - val_accuracy: 0.3200\n",
            "Epoch 444/500\n",
            "100/100 [==============================] - 2s 16ms/step - loss: 1.5513 - accuracy: 0.4835 - val_loss: 2.3035 - val_accuracy: 0.3530\n",
            "Epoch 445/500\n",
            "100/100 [==============================] - 2s 15ms/step - loss: 1.5535 - accuracy: 0.4659 - val_loss: 2.6049 - val_accuracy: 0.3630\n",
            "Epoch 446/500\n",
            "100/100 [==============================] - 1s 15ms/step - loss: 1.5674 - accuracy: 0.4740 - val_loss: 2.2876 - val_accuracy: 0.3810\n",
            "Epoch 447/500\n",
            "100/100 [==============================] - 1s 15ms/step - loss: 1.5833 - accuracy: 0.4795 - val_loss: 2.6257 - val_accuracy: 0.3310\n",
            "Epoch 448/500\n",
            "100/100 [==============================] - 1s 15ms/step - loss: 1.5664 - accuracy: 0.4805 - val_loss: 2.4426 - val_accuracy: 0.3590\n",
            "Epoch 449/500\n",
            "100/100 [==============================] - 2s 15ms/step - loss: 1.5464 - accuracy: 0.4870 - val_loss: 2.0572 - val_accuracy: 0.4240\n",
            "Epoch 450/500\n",
            "100/100 [==============================] - 1s 15ms/step - loss: 1.6040 - accuracy: 0.4725 - val_loss: 2.1932 - val_accuracy: 0.4020\n",
            "Epoch 451/500\n",
            "100/100 [==============================] - 2s 15ms/step - loss: 1.5591 - accuracy: 0.4755 - val_loss: 2.0978 - val_accuracy: 0.3990\n",
            "Epoch 452/500\n",
            "100/100 [==============================] - 1s 15ms/step - loss: 1.6132 - accuracy: 0.4610 - val_loss: 2.5314 - val_accuracy: 0.3660\n",
            "Epoch 453/500\n",
            "100/100 [==============================] - 1s 15ms/step - loss: 1.5831 - accuracy: 0.4800 - val_loss: 2.3815 - val_accuracy: 0.3700\n",
            "Epoch 454/500\n",
            "100/100 [==============================] - 1s 15ms/step - loss: 1.5695 - accuracy: 0.4910 - val_loss: 2.1358 - val_accuracy: 0.4030\n",
            "Epoch 455/500\n",
            "100/100 [==============================] - 1s 15ms/step - loss: 1.5190 - accuracy: 0.5010 - val_loss: 2.3424 - val_accuracy: 0.3930\n",
            "Epoch 456/500\n",
            "100/100 [==============================] - 2s 15ms/step - loss: 1.5518 - accuracy: 0.4875 - val_loss: 1.7529 - val_accuracy: 0.4610\n",
            "Epoch 457/500\n",
            "100/100 [==============================] - 1s 15ms/step - loss: 1.6246 - accuracy: 0.4550 - val_loss: 2.3314 - val_accuracy: 0.3700\n",
            "Epoch 458/500\n",
            "100/100 [==============================] - 1s 15ms/step - loss: 1.5480 - accuracy: 0.5055 - val_loss: 2.4678 - val_accuracy: 0.3730\n",
            "Epoch 459/500\n",
            "100/100 [==============================] - 2s 15ms/step - loss: 1.5603 - accuracy: 0.4720 - val_loss: 1.9654 - val_accuracy: 0.4250\n",
            "Epoch 460/500\n",
            "100/100 [==============================] - 2s 15ms/step - loss: 1.5807 - accuracy: 0.4660 - val_loss: 1.9368 - val_accuracy: 0.4300\n",
            "Epoch 461/500\n",
            "100/100 [==============================] - 2s 15ms/step - loss: 1.5838 - accuracy: 0.4695 - val_loss: 2.4558 - val_accuracy: 0.3500\n",
            "Epoch 462/500\n",
            "100/100 [==============================] - 2s 15ms/step - loss: 1.6085 - accuracy: 0.4585 - val_loss: 2.3739 - val_accuracy: 0.3500\n",
            "Epoch 463/500\n",
            "100/100 [==============================] - 2s 15ms/step - loss: 1.5862 - accuracy: 0.4680 - val_loss: 2.0830 - val_accuracy: 0.3780\n",
            "Epoch 464/500\n",
            "100/100 [==============================] - 2s 15ms/step - loss: 1.5773 - accuracy: 0.4689 - val_loss: 2.2368 - val_accuracy: 0.3650\n",
            "Epoch 465/500\n",
            "100/100 [==============================] - 2s 15ms/step - loss: 1.6067 - accuracy: 0.4625 - val_loss: 2.3957 - val_accuracy: 0.3680\n",
            "Epoch 466/500\n",
            "100/100 [==============================] - 1s 15ms/step - loss: 1.5747 - accuracy: 0.4710 - val_loss: 2.2412 - val_accuracy: 0.4070\n",
            "Epoch 467/500\n",
            "100/100 [==============================] - 1s 15ms/step - loss: 1.5596 - accuracy: 0.4860 - val_loss: 2.4072 - val_accuracy: 0.3810\n",
            "Epoch 468/500\n",
            "100/100 [==============================] - 1s 15ms/step - loss: 1.6011 - accuracy: 0.4613 - val_loss: 2.0819 - val_accuracy: 0.3890\n",
            "Epoch 469/500\n",
            "100/100 [==============================] - 2s 15ms/step - loss: 1.5915 - accuracy: 0.4735 - val_loss: 2.0350 - val_accuracy: 0.4010\n",
            "Epoch 470/500\n",
            "100/100 [==============================] - 2s 15ms/step - loss: 1.5562 - accuracy: 0.4835 - val_loss: 2.0024 - val_accuracy: 0.3980\n",
            "Epoch 471/500\n",
            "100/100 [==============================] - 2s 15ms/step - loss: 1.5763 - accuracy: 0.4809 - val_loss: 2.1948 - val_accuracy: 0.3920\n",
            "Epoch 472/500\n",
            "100/100 [==============================] - 2s 15ms/step - loss: 1.5371 - accuracy: 0.4900 - val_loss: 2.0347 - val_accuracy: 0.4090\n",
            "Epoch 473/500\n",
            "100/100 [==============================] - 2s 15ms/step - loss: 1.5599 - accuracy: 0.4750 - val_loss: 2.0779 - val_accuracy: 0.4240\n",
            "Epoch 474/500\n",
            "100/100 [==============================] - 2s 15ms/step - loss: 1.4830 - accuracy: 0.5035 - val_loss: 2.1631 - val_accuracy: 0.4410\n",
            "Epoch 475/500\n",
            "100/100 [==============================] - 2s 15ms/step - loss: 1.6136 - accuracy: 0.4463 - val_loss: 2.0636 - val_accuracy: 0.4060\n",
            "Epoch 476/500\n",
            "100/100 [==============================] - 2s 15ms/step - loss: 1.6000 - accuracy: 0.4630 - val_loss: 2.1696 - val_accuracy: 0.4060\n",
            "Epoch 477/500\n",
            "100/100 [==============================] - 1s 15ms/step - loss: 1.5987 - accuracy: 0.4689 - val_loss: 1.8640 - val_accuracy: 0.4380\n",
            "Epoch 478/500\n",
            "100/100 [==============================] - 2s 15ms/step - loss: 1.5579 - accuracy: 0.4890 - val_loss: 1.9302 - val_accuracy: 0.4450\n",
            "Epoch 479/500\n",
            "100/100 [==============================] - 2s 15ms/step - loss: 1.5490 - accuracy: 0.4820 - val_loss: 2.5937 - val_accuracy: 0.3880\n",
            "Epoch 480/500\n",
            "100/100 [==============================] - 1s 15ms/step - loss: 1.5139 - accuracy: 0.4955 - val_loss: 2.0303 - val_accuracy: 0.4120\n",
            "Epoch 481/500\n",
            "100/100 [==============================] - 2s 15ms/step - loss: 1.5004 - accuracy: 0.5000 - val_loss: 2.0577 - val_accuracy: 0.4250\n",
            "Epoch 482/500\n",
            "100/100 [==============================] - 2s 15ms/step - loss: 1.5457 - accuracy: 0.4830 - val_loss: 2.1089 - val_accuracy: 0.3980\n",
            "Epoch 483/500\n",
            "100/100 [==============================] - 2s 15ms/step - loss: 1.5552 - accuracy: 0.4920 - val_loss: 2.3161 - val_accuracy: 0.3870\n",
            "Epoch 484/500\n",
            "100/100 [==============================] - 2s 15ms/step - loss: 1.5769 - accuracy: 0.4910 - val_loss: 2.1642 - val_accuracy: 0.4070\n",
            "Epoch 485/500\n",
            "100/100 [==============================] - 2s 15ms/step - loss: 1.5660 - accuracy: 0.4819 - val_loss: 1.9123 - val_accuracy: 0.4150\n",
            "Epoch 486/500\n",
            "100/100 [==============================] - 2s 15ms/step - loss: 1.5724 - accuracy: 0.4720 - val_loss: 2.0599 - val_accuracy: 0.4190\n",
            "Epoch 487/500\n",
            "100/100 [==============================] - 2s 15ms/step - loss: 1.5625 - accuracy: 0.4770 - val_loss: 2.1395 - val_accuracy: 0.3930\n",
            "Epoch 488/500\n",
            "100/100 [==============================] - 2s 15ms/step - loss: 1.5613 - accuracy: 0.4880 - val_loss: 2.0790 - val_accuracy: 0.4180\n",
            "Epoch 489/500\n",
            "100/100 [==============================] - 1s 15ms/step - loss: 1.4981 - accuracy: 0.5085 - val_loss: 2.0734 - val_accuracy: 0.4170\n",
            "Epoch 490/500\n",
            "100/100 [==============================] - 2s 15ms/step - loss: 1.5662 - accuracy: 0.4865 - val_loss: 2.0799 - val_accuracy: 0.4110\n",
            "Epoch 491/500\n",
            "100/100 [==============================] - 2s 15ms/step - loss: 1.6159 - accuracy: 0.4710 - val_loss: 2.4935 - val_accuracy: 0.3430\n",
            "Epoch 492/500\n",
            "100/100 [==============================] - 2s 15ms/step - loss: 1.5553 - accuracy: 0.4860 - val_loss: 2.3231 - val_accuracy: 0.3650\n",
            "Epoch 493/500\n",
            "100/100 [==============================] - 2s 15ms/step - loss: 1.4823 - accuracy: 0.5050 - val_loss: 2.5861 - val_accuracy: 0.3340\n",
            "Epoch 494/500\n",
            "100/100 [==============================] - 1s 15ms/step - loss: 1.5354 - accuracy: 0.4910 - val_loss: 2.0001 - val_accuracy: 0.4320\n",
            "Epoch 495/500\n",
            "100/100 [==============================] - 2s 15ms/step - loss: 1.5424 - accuracy: 0.4875 - val_loss: 2.5887 - val_accuracy: 0.3480\n",
            "Epoch 496/500\n",
            "100/100 [==============================] - 2s 15ms/step - loss: 1.5817 - accuracy: 0.4820 - val_loss: 2.1242 - val_accuracy: 0.4060\n",
            "Epoch 497/500\n",
            "100/100 [==============================] - 2s 15ms/step - loss: 1.5391 - accuracy: 0.4750 - val_loss: 2.4489 - val_accuracy: 0.3730\n",
            "Epoch 498/500\n",
            "100/100 [==============================] - 2s 15ms/step - loss: 1.5469 - accuracy: 0.4830 - val_loss: 2.3077 - val_accuracy: 0.3630\n",
            "Epoch 499/500\n",
            "100/100 [==============================] - 2s 15ms/step - loss: 1.5247 - accuracy: 0.4890 - val_loss: 2.0616 - val_accuracy: 0.4150\n",
            "Epoch 500/500\n",
            "100/100 [==============================] - 2s 15ms/step - loss: 1.5756 - accuracy: 0.4855 - val_loss: 2.2866 - val_accuracy: 0.3850\n",
            "CPU times: user 14min 37s, sys: 42.4 s, total: 15min 19s\n",
            "Wall time: 12min 6s\n"
          ],
          "name": "stdout"
        }
      ]
    },
    {
      "cell_type": "markdown",
      "metadata": {
        "id": "K1fUWvqlz7PM"
      },
      "source": [
        "# IV. Result Visualization"
      ]
    },
    {
      "cell_type": "markdown",
      "metadata": {
        "id": "y2MG-Ze20NHY"
      },
      "source": [
        "* Accuracy Visualization"
      ]
    },
    {
      "cell_type": "code",
      "metadata": {
        "colab": {
          "base_uri": "https://localhost:8080/",
          "height": 404
        },
        "id": "EyGfIbMk0PfU",
        "outputId": "8a8d5ff9-ef32-47e4-8e9c-9e4458c71a79"
      },
      "source": [
        "import matplotlib.pyplot as plt\n",
        "\n",
        "epochs = range(1, len(Hist_model.history['accuracy']) + 1)\n",
        "\n",
        "plt.figure(figsize = (9, 6))\n",
        "plt.plot(epochs, Hist_model.history['accuracy'])\n",
        "plt.plot(epochs, Hist_model.history['val_accuracy'])\n",
        "plt.title('Training & Validation Accuracy')\n",
        "plt.xlabel('Epochs')\n",
        "plt.ylabel('Accuracy')\n",
        "plt.legend(['Training Accuracy', 'Validation Accuracy'])\n",
        "plt.grid()\n",
        "plt.show()\n",
        "#이전 CNN 모델에서 val_accuracy가 62%정도 나와서, image Augmentaion을 사용해 보았다.\n",
        "#기존 accuracy를 넘어서지는 못했지만 계속 좋아지고 있다. epoch를 더 많이 돌리면 더 좋아질 것 같다"
      ],
      "execution_count": 31,
      "outputs": [
        {
          "output_type": "display_data",
          "data": {
            "image/png": "[encoded data removed]",
            "text/plain": [
              "<Figure size 648x432 with 1 Axes>"
            ]
          },
          "metadata": {
            "tags": [],
            "needs_background": "light"
          }
        }
      ]
    },
    {
      "cell_type": "markdown",
      "metadata": {
        "id": "7ts4O1yH0deO"
      },
      "source": [
        "* Model Evaluate"
      ]
    },
    {
      "cell_type": "code",
      "metadata": {
        "id": "TXJAz9FP_1Ye"
      },
      "source": [
        "test_datagen = ImageDataGenerator(rescale = 1./255) \n",
        "\n",
        "test_generator = test_datagen.flow(\n",
        "    X_val,\n",
        "    y = y_val,\n",
        "    batch_size = 20, \n",
        "    shuffle = True)"
      ],
      "execution_count": 32,
      "outputs": []
    },
    {
      "cell_type": "code",
      "metadata": {
        "colab": {
          "base_uri": "https://localhost:8080/"
        },
        "id": "uZcrX9a70fh_",
        "outputId": "fe8f0ee8-2306-495f-80b8-cc17b46893e5"
      },
      "source": [
        "loss, accuracy = model.evaluate(test_generator,\n",
        "                                steps = 50)\n",
        "\n",
        "print('Loss = {:.5f}'.format(loss))\n",
        "print('Accuracy = {:.5f}'.format(accuracy))"
      ],
      "execution_count": 33,
      "outputs": [
        {
          "output_type": "stream",
          "text": [
            "50/50 [==============================] - 0s 3ms/step - loss: 2.3176 - accuracy: 0.3820\n",
            "Loss = 2.31765\n",
            "Accuracy = 0.38200\n"
          ],
          "name": "stdout"
        }
      ]
    },
    {
      "cell_type": "markdown",
      "metadata": {
        "id": "87NXzUJU0qRQ"
      },
      "source": [
        "* Capacity Visualization"
      ]
    },
    {
      "cell_type": "code",
      "metadata": {
        "colab": {
          "base_uri": "https://localhost:8080/"
        },
        "id": "R5Af64IX41z7",
        "outputId": "4c61a9da-bfab-4fad-e43f-46746d828edd"
      },
      "source": [
        "#한글폰트\n",
        "!apt-get update\n",
        "!apt-get install -y fonts-nanum\n",
        "!fc-cache -fv\n",
        "!rm -/.cache/matplotlib -rf"
      ],
      "execution_count": 34,
      "outputs": [
        {
          "output_type": "stream",
          "text": [
            "\r0% [Working]\r            \rHit:1 https://cloud.r-project.org/bin/linux/ubuntu bionic-cran40/ InRelease\n",
            "Ign:2 https://developer.download.nvidia.com/compute/cuda/repos/ubuntu1804/x86_64  InRelease\n",
            "Hit:3 http://security.ubuntu.com/ubuntu bionic-security InRelease\n",
            "Ign:4 https://developer.download.nvidia.com/compute/machine-learning/repos/ubuntu1804/x86_64  InRelease\n",
            "Hit:5 https://developer.download.nvidia.com/compute/cuda/repos/ubuntu1804/x86_64  Release\n",
            "Hit:6 https://developer.download.nvidia.com/compute/machine-learning/repos/ubuntu1804/x86_64  Release\n",
            "Hit:7 http://ppa.launchpad.net/c2d4u.team/c2d4u4.0+/ubuntu bionic InRelease\n",
            "Hit:8 http://archive.ubuntu.com/ubuntu bionic InRelease\n",
            "Hit:10 http://ppa.launchpad.net/cran/libgit2/ubuntu bionic InRelease\n",
            "Hit:12 http://ppa.launchpad.net/deadsnakes/ppa/ubuntu bionic InRelease\n",
            "Hit:13 http://ppa.launchpad.net/graphics-drivers/ppa/ubuntu bionic InRelease\n",
            "Get:14 http://archive.ubuntu.com/ubuntu bionic-updates InRelease [88.7 kB]\n",
            "Get:15 http://archive.ubuntu.com/ubuntu bionic-backports InRelease [74.6 kB]\n",
            "Fetched 163 kB in 4s (44.9 kB/s)\n",
            "Reading package lists... Done\n",
            "Reading package lists... Done\n",
            "Building dependency tree       \n",
            "Reading state information... Done\n",
            "fonts-nanum is already the newest version (20170925-1).\n",
            "0 upgraded, 0 newly installed, 0 to remove and 55 not upgraded.\n",
            "/usr/share/fonts: caching, new cache contents: 0 fonts, 1 dirs\n",
            "/usr/share/fonts/truetype: caching, new cache contents: 0 fonts, 3 dirs\n",
            "/usr/share/fonts/truetype/humor-sans: caching, new cache contents: 1 fonts, 0 dirs\n",
            "/usr/share/fonts/truetype/liberation: caching, new cache contents: 16 fonts, 0 dirs\n",
            "/usr/share/fonts/truetype/nanum: caching, new cache contents: 10 fonts, 0 dirs\n",
            "/usr/local/share/fonts: caching, new cache contents: 0 fonts, 0 dirs\n",
            "/root/.local/share/fonts: skipping, no such directory\n",
            "/root/.fonts: skipping, no such directory\n",
            "/var/cache/fontconfig: cleaning cache directory\n",
            "/root/.cache/fontconfig: not cleaning non-existent cache directory\n",
            "/root/.fontconfig: not cleaning non-existent cache directory\n",
            "fc-cache: succeeded\n",
            "rm: invalid option -- '/'\n",
            "Try 'rm --help' for more information.\n"
          ],
          "name": "stdout"
        }
      ]
    },
    {
      "cell_type": "code",
      "metadata": {
        "id": "K0JMqlE847BV"
      },
      "source": [
        "import matplotlib as mpl\n",
        "\n",
        "mpl.rcParams['axes.unicode_minus'] = False\n",
        "\n",
        "plt.rc('font', family = 'NanumBarunGothic')\n",
        "\n",
        "import matplotlib.font_manager as fm \n",
        "\n",
        "fm._rebuild()"
      ],
      "execution_count": 35,
      "outputs": []
    },
    {
      "cell_type": "code",
      "metadata": {
        "id": "J4GFuDxcvlJ7"
      },
      "source": [
        "X_test = X_test.astype(float) / 255 #시각화를 위해 다시 적용"
      ],
      "execution_count": null,
      "outputs": []
    },
    {
      "cell_type": "code",
      "metadata": {
        "id": "sHdXg20Q0w2U"
      },
      "source": [
        "import numpy as np\n",
        "\n",
        "CLASSES = np.array(['G80스포츠', 'G90', 'KONA 1', 'i30', '그랜저', '그랜저 IG', '그랜저HG240', \n",
        "                    '더뉴그랜드스타렉스', '더뉴아반떼AD', '맥스크루즈', '벨로스터', '소나타', '소나타 LF', \n",
        "                    '소나타 LPI', '소나타 NF', '소나타 YF', '소나타 뉴라이즈', '소나타 하이브리드', '스타렉스', \n",
        "                    '싼타페', '아반떼 XD', '아반떼AD', '아반떼MD', '아슬란', '아이오닉 일렉트릭', '아이오닉 하이브리드', \n",
        "                    '에쿠스', '엑센트', '제네시스 G70', '제네시스 G80', '제네시스G380', '투싼', '투싼1', '팰리세이드'])\n",
        "\n",
        "preds = model.predict(X_test)\n",
        "preds_single = CLASSES[np.argmax(preds, axis = -1)] \n",
        "actual_single = CLASSES[np.argmax(y_test, axis = -1)]"
      ],
      "execution_count": 39,
      "outputs": []
    },
    {
      "cell_type": "code",
      "metadata": {
        "colab": {
          "base_uri": "https://localhost:8080/",
          "height": 245
        },
        "id": "3DgYqg9B02DD",
        "outputId": "3d5a0154-9766-44a9-d6cc-69fd0ed75242"
      },
      "source": [
        "import matplotlib.pyplot as plt\n",
        "\n",
        "n_to_show = 5\n",
        "indices = np.random.choice(range(len(X_test)), n_to_show)\n",
        "\n",
        "fig = plt.figure(figsize = (15, 3)) \n",
        "fig.subplots_adjust(hspace = 0.4, wspace = 0.4)\n",
        "\n",
        "for i, idx in enumerate(indices): \n",
        "  img = X_test[idx] \n",
        "  ax = fig.add_subplot(1, n_to_show, i + 1) \n",
        "  ax.axis('off') \n",
        "  ax.text(0.5, -0.35, \n",
        "          'Pred = ' + str(preds_single[idx]), \n",
        "          fontsize = 10, \n",
        "          ha = 'center',\n",
        "          transform = ax.transAxes)\n",
        "  ax.text(0.5, -0.7, \n",
        "          'Act = ' + str(actual_single[idx]), \n",
        "          fontsize = 10, \n",
        "          ha = 'center',\n",
        "          transform = ax.transAxes) \n",
        "  ax.imshow(img)\n",
        "\n",
        "  #한글처리 할 것"
      ],
      "execution_count": 40,
      "outputs": [
        {
          "output_type": "display_data",
          "data": {
            "image/png": "[encoded data removed]",
            "text/plain": [
              "<Figure size 1080x216 with 5 Axes>"
            ]
          },
          "metadata": {
            "tags": [],
            "needs_background": "light"
          }
        }
      ]
    },
    {
      "cell_type": "markdown",
      "metadata": {
        "id": "zaGLBKVgEctF"
      },
      "source": [
        "본 내용은 2021/03/24(수)에 학습한 내용입니다."
      ]
    }
  ]
}
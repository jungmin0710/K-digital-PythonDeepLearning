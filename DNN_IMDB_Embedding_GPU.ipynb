{
  "nbformat": 4,
  "nbformat_minor": 0,
  "metadata": {
    "colab": {
      "name": "DNN_IMDB_Embedding_GPU.ipynb",
      "provenance": [],
      "authorship_tag": "ABX9TyOk9xHtYYGO5PjWZNSXB6j4",
      "include_colab_link": true
    },
    "kernelspec": {
      "name": "python3",
      "display_name": "Python 3"
    },
    "language_info": {
      "name": "python"
    },
    "accelerator": "GPU"
  },
  "cells": [
    {
      "cell_type": "markdown",
      "metadata": {
        "id": "view-in-github",
        "colab_type": "text"
      },
      "source": [
        "<a href=\"https://colab.research.google.com/github/jungmin0710/K-digital-PythonDeepLearning/blob/main/DNN_IMDB_Embedding_GPU.ipynb\" target=\"_parent\"><img src=\"https://colab.research.google.com/assets/colab-badge.svg\" alt=\"Open In Colab\"/></a>"
      ]
    },
    {
      "cell_type": "markdown",
      "metadata": {
        "id": "VH6fnVkxv6zM"
      },
      "source": [
        "# IMDB - Embedding with DNN\n",
        "NLP(Natural Language Processing)"
      ]
    },
    {
      "cell_type": "code",
      "metadata": {
        "id": "AOEBTUtFv39j"
      },
      "source": [
        "import warnings \n",
        "warnings.filterwarnings('ignore')"
      ],
      "execution_count": 1,
      "outputs": []
    },
    {
      "cell_type": "markdown",
      "metadata": {
        "id": "T-VZppgswEF5"
      },
      "source": [
        "## 0.Import Keras\n",
        "# * Keras Version 확인"
      ]
    },
    {
      "cell_type": "code",
      "metadata": {
        "colab": {
          "base_uri": "https://localhost:8080/",
          "height": 35
        },
        "id": "SEIGd8O-wDR2",
        "outputId": "ec1c72df-81a3-491d-c5a0-cf623c08248f"
      },
      "source": [
        "import keras\n",
        "\n",
        "keras.__version__"
      ],
      "execution_count": 2,
      "outputs": [
        {
          "output_type": "execute_result",
          "data": {
            "application/vnd.google.colaboratory.intrinsic+json": {
              "type": "string"
            },
            "text/plain": [
              "'2.4.3'"
            ]
          },
          "metadata": {
            "tags": []
          },
          "execution_count": 2
        }
      ]
    },
    {
      "cell_type": "markdown",
      "metadata": {
        "id": "L0cogotLwMfr"
      },
      "source": [
        "## 1.IMDB Data_Set Load & Review\n"
      ]
    },
    {
      "cell_type": "markdown",
      "metadata": {
        "id": "4QZfEQVawQF2"
      },
      "source": [
        "### 1) Load IMDB Data_Set\n",
        "* Word to Vector \n",
        "* 전체 데이터 내에서 단어의 사용빈도에 따라 인덱스화 \n",
        "* 정수 인덱스 '11'은 11번째로 자주 사용된 단어를 나타냄 \n",
        "* num_words = 10000 : 인덱스 값 10000 이하의 단어만 추출 \n",
        "* 단어 인덱스 값이 10000을 넘지 않는 단어만 분석에 사용"
      ]
    },
    {
      "cell_type": "code",
      "metadata": {
        "colab": {
          "base_uri": "https://localhost:8080/"
        },
        "id": "dA2jtRaMwJFH",
        "outputId": "897b5b7c-881e-48c6-c819-b2cd552884f7"
      },
      "source": [
        "from keras.datasets import imdb\n",
        "\n",
        "(X_train, y_train), (X_test, y_test) = imdb.load_data(num_words = 10000)"
      ],
      "execution_count": 3,
      "outputs": [
        {
          "output_type": "stream",
          "text": [
            "Downloading data from https://storage.googleapis.com/tensorflow/tf-keras-datasets/imdb.npz\n",
            "17465344/17464789 [==============================] - 0s 0us/step\n"
          ],
          "name": "stdout"
        }
      ]
    },
    {
      "cell_type": "markdown",
      "metadata": {
        "id": "G1GeUHZ7wks7"
      },
      "source": [
        "### 2) Visualization & Frequency(Optional)\n",
        "* x - Histogram(리뷰 길이)"
      ]
    },
    {
      "cell_type": "code",
      "metadata": {
        "colab": {
          "base_uri": "https://localhost:8080/",
          "height": 424
        },
        "id": "LD7gcqxIwhRZ",
        "outputId": "ed339db2-cd72-43fb-fed3-19c99b57bc94"
      },
      "source": [
        "import matplotlib.pyplot as plt\n",
        "\n",
        "print('리뷰 최대 길이 : ', max(len(L) for L in X_train))\n",
        "print('리뷰 평균 길이 : ', sum(map(len, X_train)) / len(X_train))\n",
        "\n",
        "plt.figure(figsize = (9, 6))\n",
        "plt.hist([len(L) for L in X_train], bins = 50)\n",
        "plt.xlabel('Length of X_train')\n",
        "plt.ylabel('Number of X_train')\n",
        "plt.show()"
      ],
      "execution_count": 4,
      "outputs": [
        {
          "output_type": "stream",
          "text": [
            "리뷰 최대 길이 :  2494\n",
            "리뷰 평균 길이 :  238.71364\n"
          ],
          "name": "stdout"
        },
        {
          "output_type": "display_data",
          "data": {
            "image/png": "[encoded data removed]",
            "text/plain": [
              "<Figure size 648x432 with 1 Axes>"
            ]
          },
          "metadata": {
            "tags": [],
            "needs_background": "light"
          }
        }
      ]
    },
    {
      "cell_type": "markdown",
      "metadata": {
        "id": "quf0CV9AxKvV"
      },
      "source": [
        "* y - Frequency(0 : 부정, 1 : 긍정)"
      ]
    },
    {
      "cell_type": "code",
      "metadata": {
        "colab": {
          "base_uri": "https://localhost:8080/"
        },
        "id": "7WWD7jkcxFg1",
        "outputId": "04066de4-de9e-4304-f203-052e7184b04b"
      },
      "source": [
        "import numpy as np\n",
        "\n",
        "unique_elements, counts_elements = np.unique(y_train, return_counts = True)\n",
        "\n",
        "print('Label 빈도수 : ')\n",
        "print(np.asarray((unique_elements, counts_elements)))"
      ],
      "execution_count": 5,
      "outputs": [
        {
          "output_type": "stream",
          "text": [
            "Label 빈도수 : \n",
            "[[    0     1]\n",
            " [12500 12500]]\n"
          ],
          "name": "stdout"
        }
      ]
    },
    {
      "cell_type": "markdown",
      "metadata": {
        "id": "zw85x12HxiCb"
      },
      "source": [
        "## 2.Tensor Transformation"
      ]
    },
    {
      "cell_type": "markdown",
      "metadata": {
        "id": "UC--bz8Gxl6l"
      },
      "source": [
        "1) X_train & X_test : (25000, 10000)\n",
        "* vectorization\n",
        "  * (25000, 10000)"
      ]
    },
    {
      "cell_type": "code",
      "metadata": {
        "colab": {
          "base_uri": "https://localhost:8080/"
        },
        "id": "h8SgWkDZxbZ-",
        "outputId": "6f633cb4-f80b-416b-a352-23d287c98dd1"
      },
      "source": [
        "from keras import preprocessing\n",
        "\n",
        "X_train = preprocessing.sequence.pad_sequences(X_train, maxlen = 10000)\n",
        "X_test = preprocessing.sequence.pad_sequences(X_test, maxlen = 10000)\n",
        "\n",
        "X_train.shape, X_test.shape"
      ],
      "execution_count": 6,
      "outputs": [
        {
          "output_type": "execute_result",
          "data": {
            "text/plain": [
              "((25000, 10000), (25000, 10000))"
            ]
          },
          "metadata": {
            "tags": []
          },
          "execution_count": 6
        }
      ]
    },
    {
      "cell_type": "markdown",
      "metadata": {
        "id": "jkAfYHhLyCXt"
      },
      "source": [
        "* Transformation Check"
      ]
    },
    {
      "cell_type": "code",
      "metadata": {
        "colab": {
          "base_uri": "https://localhost:8080/"
        },
        "id": "OZtfEW5px7B5",
        "outputId": "5f871712-5d06-4a58-848c-1fb3994606fb"
      },
      "source": [
        "print(X_train[0][:21])\n",
        "print(X_train[0][9979:])\n",
        "print(X_test[0][:21])\n",
        "print(X_test[0][9979:])"
      ],
      "execution_count": 7,
      "outputs": [
        {
          "output_type": "stream",
          "text": [
            "[0 0 0 0 0 0 0 0 0 0 0 0 0 0 0 0 0 0 0 0 0]\n",
            "[ 226   65   16   38 1334   88   12   16  283    5   16 4472  113  103\n",
            "   32   15   16 5345   19  178   32]\n",
            "[0 0 0 0 0 0 0 0 0 0 0 0 0 0 0 0 0 0 0 0 0]\n",
            "[  14  286  170    8  157   46    5   27  239   16  179    2   38   32\n",
            "   25 7944  451  202   14    6  717]\n"
          ],
          "name": "stdout"
        }
      ]
    },
    {
      "cell_type": "markdown",
      "metadata": {
        "id": "VoFn_sJH0Cu1"
      },
      "source": [
        "### 2) y_train & y_test"
      ]
    },
    {
      "cell_type": "code",
      "metadata": {
        "colab": {
          "base_uri": "https://localhost:8080/"
        },
        "id": "ygWsNEhR0GlY",
        "outputId": "66525bf0-58ca-4a5d-f27f-2768a23d8bf1"
      },
      "source": [
        "y_train = np.asarray(y_train).astype(float) \n",
        "y_test = np.asarray(y_test).astype(float)\n",
        "\n",
        "print(y_train[:21]) \n",
        "print(y_test[:21])"
      ],
      "execution_count": 8,
      "outputs": [
        {
          "output_type": "stream",
          "text": [
            "[1. 0. 0. 1. 0. 0. 1. 0. 1. 0. 1. 0. 0. 0. 0. 0. 1. 1. 0. 1. 0.]\n",
            "[0. 1. 1. 0. 1. 1. 1. 0. 0. 1. 1. 0. 0. 0. 1. 0. 1. 0. 0. 0. 1.]\n"
          ],
          "name": "stdout"
        }
      ]
    },
    {
      "cell_type": "markdown",
      "metadata": {
        "id": "VoXjf7FQygX3"
      },
      "source": [
        "## 3.Keras Embedding Modeling"
      ]
    },
    {
      "cell_type": "markdown",
      "metadata": {
        "id": "DmWDhmn6yjm8"
      },
      "source": [
        "### 1) Model Define\n",
        "* 모델 신경망 구조 정의\n",
        "  * Embedding Dimension : 32"
      ]
    },
    {
      "cell_type": "code",
      "metadata": {
        "id": "PGVTOfUkyNE4"
      },
      "source": [
        "from keras import models \n",
        "from keras import layers\n",
        "\n",
        "imdb = models.Sequential() \n",
        "\n",
        "imdb.add(layers.Embedding(10000, 32, input_length = 10000)) \n",
        "\n",
        "imdb.add(layers.Flatten())\n",
        "\n",
        "imdb.add(layers.Dense(16)) \n",
        "imdb.add(layers.Dropout(0.5)) \n",
        "imdb.add(layers.Dense(1, activation = 'sigmoid'))"
      ],
      "execution_count": 9,
      "outputs": []
    },
    {
      "cell_type": "markdown",
      "metadata": {
        "id": "jjDk25Iiy0pK"
      },
      "source": [
        "* 모델 구조 확인"
      ]
    },
    {
      "cell_type": "code",
      "metadata": {
        "colab": {
          "base_uri": "https://localhost:8080/"
        },
        "id": "BuKLQm9oyqOJ",
        "outputId": "74374712-5ae5-4535-9ba8-f14740c7377b"
      },
      "source": [
        "imdb.summary()"
      ],
      "execution_count": 10,
      "outputs": [
        {
          "output_type": "stream",
          "text": [
            "Model: \"sequential\"\n",
            "_________________________________________________________________\n",
            "Layer (type)                 Output Shape              Param #   \n",
            "=================================================================\n",
            "embedding (Embedding)        (None, 10000, 32)         320000    \n",
            "_________________________________________________________________\n",
            "flatten (Flatten)            (None, 320000)            0         \n",
            "_________________________________________________________________\n",
            "dense (Dense)                (None, 16)                5120016   \n",
            "_________________________________________________________________\n",
            "dropout (Dropout)            (None, 16)                0         \n",
            "_________________________________________________________________\n",
            "dense_1 (Dense)              (None, 1)                 17        \n",
            "=================================================================\n",
            "Total params: 5,440,033\n",
            "Trainable params: 5,440,033\n",
            "Non-trainable params: 0\n",
            "_________________________________________________________________\n"
          ],
          "name": "stdout"
        }
      ]
    },
    {
      "cell_type": "markdown",
      "metadata": {
        "id": "kKvyTj-Vy7X9"
      },
      "source": [
        "### 2) Model Compile\n",
        "* 모델 학습방법 설정"
      ]
    },
    {
      "cell_type": "code",
      "metadata": {
        "id": "HF4sl46Ay274"
      },
      "source": [
        "imdb.compile(loss = 'binary_crossentropy',\n",
        "             optimizer = 'adam',\n",
        "             metrics = ['accuracy'])"
      ],
      "execution_count": 11,
      "outputs": []
    },
    {
      "cell_type": "markdown",
      "metadata": {
        "id": "WSLmTDXdzFVB"
      },
      "source": [
        "### 3) Model Fit\n",
        "* 약 20분"
      ]
    },
    {
      "cell_type": "code",
      "metadata": {
        "colab": {
          "base_uri": "https://localhost:8080/"
        },
        "id": "fY5avmXvzEaG",
        "outputId": "bdedc847-e875-46e6-c64b-acec648fe59f"
      },
      "source": [
        "%%time\n",
        "\n",
        "Hist_imdb = imdb.fit(X_train, y_train, \n",
        "                     epochs = 50, \n",
        "                     batch_size = 512,\n",
        "                     validation_data = (X_test, y_test))"
      ],
      "execution_count": 12,
      "outputs": [
        {
          "output_type": "stream",
          "text": [
            "Epoch 1/50\n",
            "49/49 [==============================] - 24s 419ms/step - loss: 4.6488 - accuracy: 0.5011 - val_loss: 0.7439 - val_accuracy: 0.5000\n",
            "Epoch 2/50\n",
            "49/49 [==============================] - 20s 411ms/step - loss: 0.6245 - accuracy: 0.6559 - val_loss: 0.3891 - val_accuracy: 0.8530\n",
            "Epoch 3/50\n",
            "49/49 [==============================] - 20s 409ms/step - loss: 0.3149 - accuracy: 0.8984 - val_loss: 0.2936 - val_accuracy: 0.8785\n",
            "Epoch 4/50\n",
            "49/49 [==============================] - 20s 411ms/step - loss: 0.2084 - accuracy: 0.9336 - val_loss: 0.2753 - val_accuracy: 0.8861\n",
            "Epoch 5/50\n",
            "49/49 [==============================] - 20s 412ms/step - loss: 0.1548 - accuracy: 0.9566 - val_loss: 0.2746 - val_accuracy: 0.8851\n",
            "Epoch 6/50\n",
            "49/49 [==============================] - 20s 411ms/step - loss: 0.1164 - accuracy: 0.9725 - val_loss: 0.2818 - val_accuracy: 0.8835\n",
            "Epoch 7/50\n",
            "49/49 [==============================] - 20s 407ms/step - loss: 0.0872 - accuracy: 0.9848 - val_loss: 0.2915 - val_accuracy: 0.8819\n",
            "Epoch 8/50\n",
            "49/49 [==============================] - 20s 407ms/step - loss: 0.0631 - accuracy: 0.9925 - val_loss: 0.3051 - val_accuracy: 0.8794\n",
            "Epoch 9/50\n",
            "49/49 [==============================] - 20s 408ms/step - loss: 0.0464 - accuracy: 0.9950 - val_loss: 0.3180 - val_accuracy: 0.8787\n",
            "Epoch 10/50\n",
            "49/49 [==============================] - 20s 408ms/step - loss: 0.0342 - accuracy: 0.9980 - val_loss: 0.3309 - val_accuracy: 0.8779\n",
            "Epoch 11/50\n",
            "49/49 [==============================] - 20s 407ms/step - loss: 0.0269 - accuracy: 0.9989 - val_loss: 0.3437 - val_accuracy: 0.8775\n",
            "Epoch 12/50\n",
            "49/49 [==============================] - 20s 407ms/step - loss: 0.0210 - accuracy: 0.9994 - val_loss: 0.3573 - val_accuracy: 0.8777\n",
            "Epoch 13/50\n",
            "49/49 [==============================] - 20s 407ms/step - loss: 0.0166 - accuracy: 0.9998 - val_loss: 0.3690 - val_accuracy: 0.8770\n",
            "Epoch 14/50\n",
            "49/49 [==============================] - 20s 409ms/step - loss: 0.0137 - accuracy: 0.9999 - val_loss: 0.3807 - val_accuracy: 0.8774\n",
            "Epoch 15/50\n",
            "49/49 [==============================] - 20s 408ms/step - loss: 0.0115 - accuracy: 1.0000 - val_loss: 0.3915 - val_accuracy: 0.8775\n",
            "Epoch 16/50\n",
            "49/49 [==============================] - 20s 406ms/step - loss: 0.0097 - accuracy: 1.0000 - val_loss: 0.4041 - val_accuracy: 0.8766\n",
            "Epoch 17/50\n",
            "49/49 [==============================] - 20s 406ms/step - loss: 0.0082 - accuracy: 0.9999 - val_loss: 0.4119 - val_accuracy: 0.8768\n",
            "Epoch 18/50\n",
            "49/49 [==============================] - 20s 407ms/step - loss: 0.0078 - accuracy: 1.0000 - val_loss: 0.4210 - val_accuracy: 0.8768\n",
            "Epoch 19/50\n",
            "49/49 [==============================] - 20s 405ms/step - loss: 0.0065 - accuracy: 1.0000 - val_loss: 0.4304 - val_accuracy: 0.8762\n",
            "Epoch 20/50\n",
            "49/49 [==============================] - 20s 406ms/step - loss: 0.0057 - accuracy: 1.0000 - val_loss: 0.4397 - val_accuracy: 0.8766\n",
            "Epoch 21/50\n",
            "49/49 [==============================] - 20s 404ms/step - loss: 0.0054 - accuracy: 1.0000 - val_loss: 0.4479 - val_accuracy: 0.8765\n",
            "Epoch 22/50\n",
            "49/49 [==============================] - 20s 405ms/step - loss: 0.0047 - accuracy: 1.0000 - val_loss: 0.4561 - val_accuracy: 0.8764\n",
            "Epoch 23/50\n",
            "49/49 [==============================] - 20s 405ms/step - loss: 0.0044 - accuracy: 1.0000 - val_loss: 0.4640 - val_accuracy: 0.8766\n",
            "Epoch 24/50\n",
            "49/49 [==============================] - 20s 406ms/step - loss: 0.0039 - accuracy: 1.0000 - val_loss: 0.4717 - val_accuracy: 0.8760\n",
            "Epoch 25/50\n",
            "49/49 [==============================] - 20s 405ms/step - loss: 0.0036 - accuracy: 1.0000 - val_loss: 0.4787 - val_accuracy: 0.8762\n",
            "Epoch 26/50\n",
            "49/49 [==============================] - 20s 407ms/step - loss: 0.0033 - accuracy: 1.0000 - val_loss: 0.4859 - val_accuracy: 0.8761\n",
            "Epoch 27/50\n",
            "49/49 [==============================] - 20s 406ms/step - loss: 0.0030 - accuracy: 1.0000 - val_loss: 0.4923 - val_accuracy: 0.8760\n",
            "Epoch 28/50\n",
            "49/49 [==============================] - 20s 402ms/step - loss: 0.0028 - accuracy: 0.9999 - val_loss: 0.4995 - val_accuracy: 0.8763\n",
            "Epoch 29/50\n",
            "49/49 [==============================] - 20s 405ms/step - loss: 0.0026 - accuracy: 1.0000 - val_loss: 0.5063 - val_accuracy: 0.8762\n",
            "Epoch 30/50\n",
            "49/49 [==============================] - 20s 406ms/step - loss: 0.0024 - accuracy: 1.0000 - val_loss: 0.5127 - val_accuracy: 0.8756\n",
            "Epoch 31/50\n",
            "49/49 [==============================] - 20s 404ms/step - loss: 0.0022 - accuracy: 1.0000 - val_loss: 0.5190 - val_accuracy: 0.8757\n",
            "Epoch 32/50\n",
            "49/49 [==============================] - 20s 404ms/step - loss: 0.0022 - accuracy: 0.9999 - val_loss: 0.5251 - val_accuracy: 0.8756\n",
            "Epoch 33/50\n",
            "49/49 [==============================] - 20s 405ms/step - loss: 0.0020 - accuracy: 1.0000 - val_loss: 0.5316 - val_accuracy: 0.8755\n",
            "Epoch 34/50\n",
            "49/49 [==============================] - 20s 404ms/step - loss: 0.0018 - accuracy: 1.0000 - val_loss: 0.5369 - val_accuracy: 0.8759\n",
            "Epoch 35/50\n",
            "49/49 [==============================] - 20s 406ms/step - loss: 0.0017 - accuracy: 1.0000 - val_loss: 0.5421 - val_accuracy: 0.8756\n",
            "Epoch 36/50\n",
            "49/49 [==============================] - 20s 404ms/step - loss: 0.0016 - accuracy: 1.0000 - val_loss: 0.5485 - val_accuracy: 0.8754\n",
            "Epoch 37/50\n",
            "49/49 [==============================] - 20s 405ms/step - loss: 0.0015 - accuracy: 1.0000 - val_loss: 0.5537 - val_accuracy: 0.8752\n",
            "Epoch 38/50\n",
            "49/49 [==============================] - 20s 405ms/step - loss: 0.0014 - accuracy: 1.0000 - val_loss: 0.5591 - val_accuracy: 0.8756\n",
            "Epoch 39/50\n",
            "49/49 [==============================] - 20s 408ms/step - loss: 0.0015 - accuracy: 1.0000 - val_loss: 0.5643 - val_accuracy: 0.8752\n",
            "Epoch 40/50\n",
            "49/49 [==============================] - 20s 409ms/step - loss: 0.0013 - accuracy: 1.0000 - val_loss: 0.5698 - val_accuracy: 0.8753\n",
            "Epoch 41/50\n",
            "49/49 [==============================] - 20s 409ms/step - loss: 0.0013 - accuracy: 1.0000 - val_loss: 0.5746 - val_accuracy: 0.8753\n",
            "Epoch 42/50\n",
            "49/49 [==============================] - 20s 410ms/step - loss: 0.0011 - accuracy: 1.0000 - val_loss: 0.5798 - val_accuracy: 0.8750\n",
            "Epoch 43/50\n",
            "49/49 [==============================] - 20s 408ms/step - loss: 0.0012 - accuracy: 0.9999 - val_loss: 0.5847 - val_accuracy: 0.8753\n",
            "Epoch 44/50\n",
            "49/49 [==============================] - 20s 406ms/step - loss: 0.0013 - accuracy: 1.0000 - val_loss: 0.5898 - val_accuracy: 0.8754\n",
            "Epoch 45/50\n",
            "49/49 [==============================] - 20s 405ms/step - loss: 9.2741e-04 - accuracy: 1.0000 - val_loss: 0.5947 - val_accuracy: 0.8750\n",
            "Epoch 46/50\n",
            "49/49 [==============================] - 20s 405ms/step - loss: 0.0010 - accuracy: 1.0000 - val_loss: 0.5998 - val_accuracy: 0.8756\n",
            "Epoch 47/50\n",
            "49/49 [==============================] - 20s 406ms/step - loss: 9.1133e-04 - accuracy: 1.0000 - val_loss: 0.6048 - val_accuracy: 0.8755\n",
            "Epoch 48/50\n",
            "49/49 [==============================] - 20s 404ms/step - loss: 9.1171e-04 - accuracy: 1.0000 - val_loss: 0.6097 - val_accuracy: 0.8755\n",
            "Epoch 49/50\n",
            "49/49 [==============================] - 20s 405ms/step - loss: 8.9868e-04 - accuracy: 1.0000 - val_loss: 0.6147 - val_accuracy: 0.8753\n",
            "Epoch 50/50\n",
            "49/49 [==============================] - 20s 406ms/step - loss: 7.6366e-04 - accuracy: 1.0000 - val_loss: 0.6195 - val_accuracy: 0.8751\n",
            "CPU times: user 16min 3s, sys: 22.9 s, total: 16min 26s\n",
            "Wall time: 16min 33s\n"
          ],
          "name": "stdout"
        }
      ]
    },
    {
      "cell_type": "markdown",
      "metadata": {
        "id": "SeKFihQ-zQIt"
      },
      "source": [
        "### 4) 학습 결과 시각화\n",
        "* Loss Visualization"
      ]
    },
    {
      "cell_type": "code",
      "metadata": {
        "colab": {
          "base_uri": "https://localhost:8080/",
          "height": 404
        },
        "id": "5qdFxo9gzN1_",
        "outputId": "bf07525c-b715-44d2-f88c-7da9025ec1e2"
      },
      "source": [
        "import matplotlib.pyplot as plt \n",
        "\n",
        "epochs = range(1, len(Hist_imdb.history['loss']) + 1)\n",
        "\n",
        "plt.figure(figsize = (9, 6)) \n",
        "plt.plot(epochs, Hist_imdb.history['loss']) \n",
        "plt.plot(epochs, Hist_imdb.history['val_loss']) \n",
        "plt.title('Training & Validation Loss') \n",
        "plt.xlabel('Epochs') \n",
        "plt.ylabel('Loss') \n",
        "plt.legend(['Training Loss', 'Validation Loss']) \n",
        "plt.grid() \n",
        "plt.show()"
      ],
      "execution_count": 13,
      "outputs": [
        {
          "output_type": "display_data",
          "data": {
            "image/png": "[encoded data removed]",
            "text/plain": [
              "<Figure size 648x432 with 1 Axes>"
            ]
          },
          "metadata": {
            "tags": [],
            "needs_background": "light"
          }
        }
      ]
    },
    {
      "cell_type": "markdown",
      "metadata": {
        "id": "HDX6C5wwzgX8"
      },
      "source": [
        "* Accuracy Visualization"
      ]
    },
    {
      "cell_type": "code",
      "metadata": {
        "colab": {
          "base_uri": "https://localhost:8080/",
          "height": 404
        },
        "id": "tjCGfc4Tziv-",
        "outputId": "97b7d956-b96a-45a6-bb33-6267563da615"
      },
      "source": [
        "import matplotlib.pyplot as plt \n",
        "\n",
        "epochs = range(1, len(Hist_imdb.history['accuracy']) + 1)\n",
        "\n",
        "plt.figure(figsize = (9, 6)) \n",
        "plt.plot(epochs, Hist_imdb.history['accuracy']) \n",
        "plt.plot(epochs, Hist_imdb.history['val_accuracy']) \n",
        "plt.title('Training & Validation Accuracy') \n",
        "plt.xlabel('Epochs') \n",
        "plt.ylabel('Accuracy') \n",
        "plt.legend(['Training Accuracy', 'Validation Accuracy']) \n",
        "plt.grid() \n",
        "plt.show()"
      ],
      "execution_count": 14,
      "outputs": [
        {
          "output_type": "display_data",
          "data": {
            "image/png": "[encoded data removed]",
            "text/plain": [
              "<Figure size 648x432 with 1 Axes>"
            ]
          },
          "metadata": {
            "tags": [],
            "needs_background": "light"
          }
        }
      ]
    },
    {
      "cell_type": "markdown",
      "metadata": {
        "id": "Aql59m0czrxY"
      },
      "source": [
        "### 5) Model Evaluate\n",
        "* Loss & Accuracy"
      ]
    },
    {
      "cell_type": "code",
      "metadata": {
        "colab": {
          "base_uri": "https://localhost:8080/"
        },
        "id": "rdlhFiSvzviR",
        "outputId": "ea3a4268-73b9-4e70-b1ce-b0c6b11dd999"
      },
      "source": [
        "loss, accuracy = imdb.evaluate(X_test, y_test)\n",
        "\n",
        "print('Loss = {:.5f}'.format(loss)) \n",
        "print('Accuracy = {:.5f}'.format(accuracy))"
      ],
      "execution_count": 15,
      "outputs": [
        {
          "output_type": "stream",
          "text": [
            "782/782 [==============================] - 8s 10ms/step - loss: 0.6195 - accuracy: 0.8751\n",
            "Loss = 0.61952\n",
            "Accuracy = 0.87508\n"
          ],
          "name": "stdout"
        }
      ]
    }
  ]
}
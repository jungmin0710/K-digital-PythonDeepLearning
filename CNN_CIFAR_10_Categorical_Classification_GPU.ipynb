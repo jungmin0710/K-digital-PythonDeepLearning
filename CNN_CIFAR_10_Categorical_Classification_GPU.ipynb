{
  "nbformat": 4,
  "nbformat_minor": 0,
  "metadata": {
    "colab": {
      "name": "CNN_CIFAR_10_Categorical_Classification_GPU.ipynb",
      "provenance": [],
      "collapsed_sections": [],
      "include_colab_link": true
    },
    "kernelspec": {
      "name": "python3",
      "display_name": "Python 3"
    },
    "accelerator": "GPU"
  },
  "cells": [
    {
      "cell_type": "markdown",
      "metadata": {
        "id": "view-in-github",
        "colab_type": "text"
      },
      "source": [
        "<a href=\"https://colab.research.google.com/github/jungmin0710/K-digital-PythonDeepLearning/blob/main/CNN_CIFAR_10_Categorical_Classification_GPU.ipynb\" target=\"_parent\"><img src=\"https://colab.research.google.com/assets/colab-badge.svg\" alt=\"Open In Colab\"/></a>"
      ]
    },
    {
      "cell_type": "markdown",
      "metadata": {
        "id": "q2Pr7oBdYLdf"
      },
      "source": [
        "# CIFAR 10 - Categorical Classification"
      ]
    },
    {
      "cell_type": "markdown",
      "metadata": {
        "id": "JqbykTFu2S0W"
      },
      "source": [
        "CNN으로 컬러 이미지 분류하기(10종류)\n"
      ]
    },
    {
      "cell_type": "code",
      "metadata": {
        "id": "RbPgODpVzdHI"
      },
      "source": [
        "import warnings\n",
        "warnings.filterwarnings('ignore')"
      ],
      "execution_count": 1,
      "outputs": []
    },
    {
      "cell_type": "markdown",
      "metadata": {
        "id": "MPISe865ZBcL"
      },
      "source": [
        "# Import Tensorflow & Keras"
      ]
    },
    {
      "cell_type": "markdown",
      "metadata": {
        "id": "tUvJIk2aRFtw"
      },
      "source": [
        "* import Keras"
      ]
    },
    {
      "cell_type": "code",
      "metadata": {
        "id": "GR4j3p6N_rDV",
        "colab": {
          "base_uri": "https://localhost:8080/",
          "height": 35
        },
        "outputId": "87908dfc-fcfd-4b07-b148-a0f854b32e1e"
      },
      "source": [
        "import keras\n",
        "\n",
        "keras.__version__"
      ],
      "execution_count": 2,
      "outputs": [
        {
          "output_type": "execute_result",
          "data": {
            "application/vnd.google.colaboratory.intrinsic+json": {
              "type": "string"
            },
            "text/plain": [
              "'2.4.3'"
            ]
          },
          "metadata": {
            "tags": []
          },
          "execution_count": 2
        }
      ]
    },
    {
      "cell_type": "markdown",
      "metadata": {
        "id": "H49A769LYp-a"
      },
      "source": [
        "# I. CIFAR 10 Data_Set Load & Review"
      ]
    },
    {
      "cell_type": "markdown",
      "metadata": {
        "id": "vb6EIkRcbPb4"
      },
      "source": [
        "> ## 1) Load CIFAR 10 Data_Set"
      ]
    },
    {
      "cell_type": "code",
      "metadata": {
        "id": "DxstjE8b_6Te",
        "colab": {
          "base_uri": "https://localhost:8080/"
        },
        "outputId": "c6c6fc94-eba9-4f15-d293-2b9866fcab3c"
      },
      "source": [
        "from keras.datasets import cifar10\n",
        "\n",
        "(X_train, y_train), (X_test, y_test) = cifar10.load_data()"
      ],
      "execution_count": 3,
      "outputs": [
        {
          "output_type": "stream",
          "text": [
            "Downloading data from https://www.cs.toronto.edu/~kriz/cifar-10-python.tar.gz\n",
            "170500096/170498071 [==============================] - 2s 0us/step\n"
          ],
          "name": "stdout"
        }
      ]
    },
    {
      "cell_type": "markdown",
      "metadata": {
        "id": "Mt11QE0EHCiJ"
      },
      "source": [
        "* Train_Data Information"
      ]
    },
    {
      "cell_type": "code",
      "metadata": {
        "id": "KT_Mr_Hb__VH",
        "colab": {
          "base_uri": "https://localhost:8080/"
        },
        "outputId": "cab48b9d-4bc7-4c79-9d80-f501933082da"
      },
      "source": [
        "print(len(X_train))\n",
        "print(X_train.shape)\n",
        "\n",
        "print(len(y_train))\n",
        "print(y_train[0:5])"
      ],
      "execution_count": 4,
      "outputs": [
        {
          "output_type": "stream",
          "text": [
            "50000\n",
            "(50000, 32, 32, 3)\n",
            "50000\n",
            "[[6]\n",
            " [9]\n",
            " [9]\n",
            " [4]\n",
            " [1]]\n"
          ],
          "name": "stdout"
        }
      ]
    },
    {
      "cell_type": "markdown",
      "metadata": {
        "id": "QolAqIwgHGRI"
      },
      "source": [
        "* Test_Data Information"
      ]
    },
    {
      "cell_type": "code",
      "metadata": {
        "id": "NtkD2BKUANZE",
        "colab": {
          "base_uri": "https://localhost:8080/"
        },
        "outputId": "50d613f5-1054-4a38-fe65-a23a23918f38"
      },
      "source": [
        "print(len(X_test))\n",
        "print(X_test.shape)#컬러이므로 마지막이 3\n",
        "\n",
        "print(len(y_test))\n",
        "print(y_test[0:5])"
      ],
      "execution_count": 5,
      "outputs": [
        {
          "output_type": "stream",
          "text": [
            "10000\n",
            "(10000, 32, 32, 3)\n",
            "10000\n",
            "[[3]\n",
            " [8]\n",
            " [8]\n",
            " [0]\n",
            " [6]]\n"
          ],
          "name": "stdout"
        }
      ]
    },
    {
      "cell_type": "markdown",
      "metadata": {
        "id": "Mk9XL5vGHor6"
      },
      "source": [
        "# II. Data Preprocessing"
      ]
    },
    {
      "cell_type": "markdown",
      "metadata": {
        "id": "ec8zU4XCZRUF"
      },
      "source": [
        "> ## 1) Normalization"
      ]
    },
    {
      "cell_type": "code",
      "metadata": {
        "id": "SoGHuYeFIGBj"
      },
      "source": [
        "X_train = X_train.astype(float) / 255\n",
        "X_test = X_test.astype(float) / 255"
      ],
      "execution_count": 6,
      "outputs": []
    },
    {
      "cell_type": "code",
      "metadata": {
        "id": "m1HezAboV-x8",
        "colab": {
          "base_uri": "https://localhost:8080/"
        },
        "outputId": "6fe14626-e5d8-4fc8-ab5a-60c3fce87e12"
      },
      "source": [
        "print(X_train[0])"
      ],
      "execution_count": 7,
      "outputs": [
        {
          "output_type": "stream",
          "text": [
            "[[[0.23137255 0.24313725 0.24705882]\n",
            "  [0.16862745 0.18039216 0.17647059]\n",
            "  [0.19607843 0.18823529 0.16862745]\n",
            "  ...\n",
            "  [0.61960784 0.51764706 0.42352941]\n",
            "  [0.59607843 0.49019608 0.4       ]\n",
            "  [0.58039216 0.48627451 0.40392157]]\n",
            "\n",
            " [[0.0627451  0.07843137 0.07843137]\n",
            "  [0.         0.         0.        ]\n",
            "  [0.07058824 0.03137255 0.        ]\n",
            "  ...\n",
            "  [0.48235294 0.34509804 0.21568627]\n",
            "  [0.46666667 0.3254902  0.19607843]\n",
            "  [0.47843137 0.34117647 0.22352941]]\n",
            "\n",
            " [[0.09803922 0.09411765 0.08235294]\n",
            "  [0.0627451  0.02745098 0.        ]\n",
            "  [0.19215686 0.10588235 0.03137255]\n",
            "  ...\n",
            "  [0.4627451  0.32941176 0.19607843]\n",
            "  [0.47058824 0.32941176 0.19607843]\n",
            "  [0.42745098 0.28627451 0.16470588]]\n",
            "\n",
            " ...\n",
            "\n",
            " [[0.81568627 0.66666667 0.37647059]\n",
            "  [0.78823529 0.6        0.13333333]\n",
            "  [0.77647059 0.63137255 0.10196078]\n",
            "  ...\n",
            "  [0.62745098 0.52156863 0.2745098 ]\n",
            "  [0.21960784 0.12156863 0.02745098]\n",
            "  [0.20784314 0.13333333 0.07843137]]\n",
            "\n",
            " [[0.70588235 0.54509804 0.37647059]\n",
            "  [0.67843137 0.48235294 0.16470588]\n",
            "  [0.72941176 0.56470588 0.11764706]\n",
            "  ...\n",
            "  [0.72156863 0.58039216 0.36862745]\n",
            "  [0.38039216 0.24313725 0.13333333]\n",
            "  [0.3254902  0.20784314 0.13333333]]\n",
            "\n",
            " [[0.69411765 0.56470588 0.45490196]\n",
            "  [0.65882353 0.50588235 0.36862745]\n",
            "  [0.70196078 0.55686275 0.34117647]\n",
            "  ...\n",
            "  [0.84705882 0.72156863 0.54901961]\n",
            "  [0.59215686 0.4627451  0.32941176]\n",
            "  [0.48235294 0.36078431 0.28235294]]]\n"
          ],
          "name": "stdout"
        }
      ]
    },
    {
      "cell_type": "markdown",
      "metadata": {
        "id": "BtSROU80aF12"
      },
      "source": [
        "> ## 2) One Hot Encoding"
      ]
    },
    {
      "cell_type": "code",
      "metadata": {
        "id": "eC48Oym3Ao8E"
      },
      "source": [
        "from keras.utils import to_categorical\n",
        "\n",
        "y_train = to_categorical(y_train)\n",
        "y_test = to_categorical(y_test)"
      ],
      "execution_count": 8,
      "outputs": []
    },
    {
      "cell_type": "code",
      "metadata": {
        "id": "q1O-NsoJMyWU",
        "colab": {
          "base_uri": "https://localhost:8080/"
        },
        "outputId": "189275cc-ba8c-4f3f-bafb-7b7fad5057f1"
      },
      "source": [
        "print(y_train[:5])"
      ],
      "execution_count": 9,
      "outputs": [
        {
          "output_type": "stream",
          "text": [
            "[[0. 0. 0. 0. 0. 0. 1. 0. 0. 0.]\n",
            " [0. 0. 0. 0. 0. 0. 0. 0. 0. 1.]\n",
            " [0. 0. 0. 0. 0. 0. 0. 0. 0. 1.]\n",
            " [0. 0. 0. 0. 1. 0. 0. 0. 0. 0.]\n",
            " [0. 1. 0. 0. 0. 0. 0. 0. 0. 0.]]\n"
          ],
          "name": "stdout"
        }
      ]
    },
    {
      "cell_type": "markdown",
      "metadata": {
        "id": "NTwZiSjiop3v"
      },
      "source": [
        "# III. Keras Modeling"
      ]
    },
    {
      "cell_type": "markdown",
      "metadata": {
        "id": "j5CT0TurJCkc"
      },
      "source": [
        "> ## 1) Model Define"
      ]
    },
    {
      "cell_type": "markdown",
      "metadata": {
        "id": "ydDCl0jTJD58"
      },
      "source": [
        "* 모델 신경망 구조 정의"
      ]
    },
    {
      "cell_type": "code",
      "metadata": {
        "id": "II0DskRdAcHS"
      },
      "source": [
        "from keras import models\n",
        "from keras import layers\n",
        "\n",
        "#CNN\n",
        "model = models.Sequential()\n",
        "model.add(layers.Conv2D(filters=32, kernel_size=(3,3), activation='relu', input_shape=(32, 32, 3)))\n",
        "model.add(layers.MaxPool2D(pool_size=(2,2)))\n",
        "model.add(layers.Conv2D(filters=64, kernel_size=(3,3), activation='relu'))\n",
        "model.add(layers.MaxPool2D(pool_size=(2,2)))\n",
        "model.add(layers.Conv2D(filters=64, kernel_size=(3,3), activation='relu'))\n",
        "#DNN\n",
        "model.add(layers.Flatten()) #한줄로 편다\n",
        "model.add(layers.Dense(units=64, activation='relu'))\n",
        "model.add(layers.Dense(units=10, activation='softmax'))"
      ],
      "execution_count": 10,
      "outputs": []
    },
    {
      "cell_type": "markdown",
      "metadata": {
        "id": "PqrObAHZJTN8"
      },
      "source": [
        "* 모델 구조 확인"
      ]
    },
    {
      "cell_type": "code",
      "metadata": {
        "id": "wbtjOA4XMTUd",
        "colab": {
          "base_uri": "https://localhost:8080/"
        },
        "outputId": "0d202f4f-6fe2-4f6f-f35a-1ae8cc4de747"
      },
      "source": [
        "model.summary()"
      ],
      "execution_count": 11,
      "outputs": [
        {
          "output_type": "stream",
          "text": [
            "Model: \"sequential\"\n",
            "_________________________________________________________________\n",
            "Layer (type)                 Output Shape              Param #   \n",
            "=================================================================\n",
            "conv2d (Conv2D)              (None, 30, 30, 32)        896       \n",
            "_________________________________________________________________\n",
            "max_pooling2d (MaxPooling2D) (None, 15, 15, 32)        0         \n",
            "_________________________________________________________________\n",
            "conv2d_1 (Conv2D)            (None, 13, 13, 64)        18496     \n",
            "_________________________________________________________________\n",
            "max_pooling2d_1 (MaxPooling2 (None, 6, 6, 64)          0         \n",
            "_________________________________________________________________\n",
            "conv2d_2 (Conv2D)            (None, 4, 4, 64)          36928     \n",
            "_________________________________________________________________\n",
            "flatten (Flatten)            (None, 1024)              0         \n",
            "_________________________________________________________________\n",
            "dense (Dense)                (None, 64)                65600     \n",
            "_________________________________________________________________\n",
            "dense_1 (Dense)              (None, 10)                650       \n",
            "=================================================================\n",
            "Total params: 122,570\n",
            "Trainable params: 122,570\n",
            "Non-trainable params: 0\n",
            "_________________________________________________________________\n"
          ],
          "name": "stdout"
        }
      ]
    },
    {
      "cell_type": "markdown",
      "metadata": {
        "id": "tpjBDBeYoyuj"
      },
      "source": [
        "> ## 2) Model Compile"
      ]
    },
    {
      "cell_type": "markdown",
      "metadata": {
        "id": "f3sxkQa0JoUr"
      },
      "source": [
        "* 모델 학습방법 설정"
      ]
    },
    {
      "cell_type": "code",
      "metadata": {
        "id": "AyK_t1qwAi6M"
      },
      "source": [
        "model.compile(loss = 'categorical_crossentropy',\n",
        "              optimizer = 'adam',\n",
        "              metrics = ['accuracy'])"
      ],
      "execution_count": 12,
      "outputs": []
    },
    {
      "cell_type": "markdown",
      "metadata": {
        "id": "umiq4B-Xo3OB"
      },
      "source": [
        "> ## 3) Model Fit"
      ]
    },
    {
      "cell_type": "markdown",
      "metadata": {
        "id": "1KuXREziKMD1"
      },
      "source": [
        "* 약 4분"
      ]
    },
    {
      "cell_type": "code",
      "metadata": {
        "id": "zxwqwAqRAqRP",
        "colab": {
          "base_uri": "https://localhost:8080/"
        },
        "outputId": "661ca8e9-e167-46e3-d765-e3072641ab00"
      },
      "source": [
        "%%time\n",
        "\n",
        "Hist_model = model.fit(X_train, y_train,\n",
        "                       epochs = 100,\n",
        "                       batch_size = 128,\n",
        "                       validation_split = 0.2)"
      ],
      "execution_count": 13,
      "outputs": [
        {
          "output_type": "stream",
          "text": [
            "Epoch 1/100\n",
            "313/313 [==============================] - 35s 8ms/step - loss: 1.9340 - accuracy: 0.2799 - val_loss: 1.4520 - val_accuracy: 0.4742\n",
            "Epoch 2/100\n",
            "313/313 [==============================] - 2s 6ms/step - loss: 1.4051 - accuracy: 0.4915 - val_loss: 1.3422 - val_accuracy: 0.5213\n",
            "Epoch 3/100\n",
            "313/313 [==============================] - 2s 6ms/step - loss: 1.2480 - accuracy: 0.5559 - val_loss: 1.2198 - val_accuracy: 0.5699\n",
            "Epoch 4/100\n",
            "313/313 [==============================] - 2s 6ms/step - loss: 1.1426 - accuracy: 0.5960 - val_loss: 1.0999 - val_accuracy: 0.6131\n",
            "Epoch 5/100\n",
            "313/313 [==============================] - 2s 6ms/step - loss: 1.0377 - accuracy: 0.6351 - val_loss: 1.0785 - val_accuracy: 0.6250\n",
            "Epoch 6/100\n",
            "313/313 [==============================] - 2s 6ms/step - loss: 1.0051 - accuracy: 0.6475 - val_loss: 0.9961 - val_accuracy: 0.6522\n",
            "Epoch 7/100\n",
            "313/313 [==============================] - 2s 6ms/step - loss: 0.9315 - accuracy: 0.6696 - val_loss: 0.9855 - val_accuracy: 0.6598\n",
            "Epoch 8/100\n",
            "313/313 [==============================] - 2s 6ms/step - loss: 0.8848 - accuracy: 0.6904 - val_loss: 0.9672 - val_accuracy: 0.6660\n",
            "Epoch 9/100\n",
            "313/313 [==============================] - 2s 6ms/step - loss: 0.8569 - accuracy: 0.7015 - val_loss: 0.9386 - val_accuracy: 0.6762\n",
            "Epoch 10/100\n",
            "313/313 [==============================] - 2s 6ms/step - loss: 0.8149 - accuracy: 0.7156 - val_loss: 0.9760 - val_accuracy: 0.6660\n",
            "Epoch 11/100\n",
            "313/313 [==============================] - 2s 6ms/step - loss: 0.7903 - accuracy: 0.7230 - val_loss: 0.9091 - val_accuracy: 0.6912\n",
            "Epoch 12/100\n",
            "313/313 [==============================] - 2s 6ms/step - loss: 0.7536 - accuracy: 0.7354 - val_loss: 0.9478 - val_accuracy: 0.6806\n",
            "Epoch 13/100\n",
            "313/313 [==============================] - 2s 6ms/step - loss: 0.7382 - accuracy: 0.7451 - val_loss: 0.9018 - val_accuracy: 0.6979\n",
            "Epoch 14/100\n",
            "313/313 [==============================] - 2s 6ms/step - loss: 0.6980 - accuracy: 0.7572 - val_loss: 0.8778 - val_accuracy: 0.7049\n",
            "Epoch 15/100\n",
            "313/313 [==============================] - 2s 6ms/step - loss: 0.6754 - accuracy: 0.7651 - val_loss: 0.8790 - val_accuracy: 0.7018\n",
            "Epoch 16/100\n",
            "313/313 [==============================] - 2s 6ms/step - loss: 0.6435 - accuracy: 0.7763 - val_loss: 0.8903 - val_accuracy: 0.7039\n",
            "Epoch 17/100\n",
            "313/313 [==============================] - 2s 6ms/step - loss: 0.6188 - accuracy: 0.7830 - val_loss: 0.8932 - val_accuracy: 0.7001\n",
            "Epoch 18/100\n",
            "313/313 [==============================] - 2s 6ms/step - loss: 0.5915 - accuracy: 0.7940 - val_loss: 0.8742 - val_accuracy: 0.7149\n",
            "Epoch 19/100\n",
            "313/313 [==============================] - 2s 6ms/step - loss: 0.5836 - accuracy: 0.7968 - val_loss: 0.9470 - val_accuracy: 0.6863\n",
            "Epoch 20/100\n",
            "313/313 [==============================] - 2s 6ms/step - loss: 0.5528 - accuracy: 0.8065 - val_loss: 0.9025 - val_accuracy: 0.7028\n",
            "Epoch 21/100\n",
            "313/313 [==============================] - 2s 6ms/step - loss: 0.5411 - accuracy: 0.8136 - val_loss: 0.9076 - val_accuracy: 0.7083\n",
            "Epoch 22/100\n",
            "313/313 [==============================] - 2s 6ms/step - loss: 0.5067 - accuracy: 0.8236 - val_loss: 0.9558 - val_accuracy: 0.6930\n",
            "Epoch 23/100\n",
            "313/313 [==============================] - 2s 6ms/step - loss: 0.4909 - accuracy: 0.8321 - val_loss: 0.9506 - val_accuracy: 0.7011\n",
            "Epoch 24/100\n",
            "313/313 [==============================] - 2s 6ms/step - loss: 0.4647 - accuracy: 0.8358 - val_loss: 0.9502 - val_accuracy: 0.7021\n",
            "Epoch 25/100\n",
            "313/313 [==============================] - 2s 6ms/step - loss: 0.4371 - accuracy: 0.8474 - val_loss: 0.9805 - val_accuracy: 0.7012\n",
            "Epoch 26/100\n",
            "313/313 [==============================] - 2s 6ms/step - loss: 0.4231 - accuracy: 0.8492 - val_loss: 0.9803 - val_accuracy: 0.7032\n",
            "Epoch 27/100\n",
            "313/313 [==============================] - 2s 6ms/step - loss: 0.4059 - accuracy: 0.8601 - val_loss: 1.0122 - val_accuracy: 0.7007\n",
            "Epoch 28/100\n",
            "313/313 [==============================] - 2s 6ms/step - loss: 0.3921 - accuracy: 0.8641 - val_loss: 1.0236 - val_accuracy: 0.7028\n",
            "Epoch 29/100\n",
            "313/313 [==============================] - 2s 6ms/step - loss: 0.3616 - accuracy: 0.8725 - val_loss: 1.0543 - val_accuracy: 0.7016\n",
            "Epoch 30/100\n",
            "313/313 [==============================] - 2s 6ms/step - loss: 0.3518 - accuracy: 0.8736 - val_loss: 1.0524 - val_accuracy: 0.7025\n",
            "Epoch 31/100\n",
            "313/313 [==============================] - 2s 6ms/step - loss: 0.3459 - accuracy: 0.8770 - val_loss: 1.0907 - val_accuracy: 0.7028\n",
            "Epoch 32/100\n",
            "313/313 [==============================] - 2s 6ms/step - loss: 0.3032 - accuracy: 0.8957 - val_loss: 1.1149 - val_accuracy: 0.6977\n",
            "Epoch 33/100\n",
            "313/313 [==============================] - 2s 6ms/step - loss: 0.3009 - accuracy: 0.8935 - val_loss: 1.1418 - val_accuracy: 0.7016\n",
            "Epoch 34/100\n",
            "313/313 [==============================] - 2s 6ms/step - loss: 0.2832 - accuracy: 0.9003 - val_loss: 1.1763 - val_accuracy: 0.6969\n",
            "Epoch 35/100\n",
            "313/313 [==============================] - 2s 6ms/step - loss: 0.2753 - accuracy: 0.9041 - val_loss: 1.2921 - val_accuracy: 0.6812\n",
            "Epoch 36/100\n",
            "313/313 [==============================] - 2s 6ms/step - loss: 0.2721 - accuracy: 0.9029 - val_loss: 1.3294 - val_accuracy: 0.6900\n",
            "Epoch 37/100\n",
            "313/313 [==============================] - 2s 6ms/step - loss: 0.2357 - accuracy: 0.9185 - val_loss: 1.3271 - val_accuracy: 0.6915\n",
            "Epoch 38/100\n",
            "313/313 [==============================] - 2s 6ms/step - loss: 0.2237 - accuracy: 0.9219 - val_loss: 1.3612 - val_accuracy: 0.6955\n",
            "Epoch 39/100\n",
            "313/313 [==============================] - 2s 6ms/step - loss: 0.2108 - accuracy: 0.9270 - val_loss: 1.3850 - val_accuracy: 0.6957\n",
            "Epoch 40/100\n",
            "313/313 [==============================] - 2s 7ms/step - loss: 0.2006 - accuracy: 0.9308 - val_loss: 1.4139 - val_accuracy: 0.6900\n",
            "Epoch 41/100\n",
            "313/313 [==============================] - 2s 6ms/step - loss: 0.1939 - accuracy: 0.9320 - val_loss: 1.5026 - val_accuracy: 0.6943\n",
            "Epoch 42/100\n",
            "313/313 [==============================] - 2s 6ms/step - loss: 0.1833 - accuracy: 0.9357 - val_loss: 1.5111 - val_accuracy: 0.6931\n",
            "Epoch 43/100\n",
            "313/313 [==============================] - 2s 6ms/step - loss: 0.1679 - accuracy: 0.9423 - val_loss: 1.5762 - val_accuracy: 0.6905\n",
            "Epoch 44/100\n",
            "313/313 [==============================] - 2s 6ms/step - loss: 0.1640 - accuracy: 0.9431 - val_loss: 1.6262 - val_accuracy: 0.6874\n",
            "Epoch 45/100\n",
            "313/313 [==============================] - 2s 6ms/step - loss: 0.1600 - accuracy: 0.9442 - val_loss: 1.6754 - val_accuracy: 0.6839\n",
            "Epoch 46/100\n",
            "313/313 [==============================] - 2s 6ms/step - loss: 0.1432 - accuracy: 0.9516 - val_loss: 1.8061 - val_accuracy: 0.6813\n",
            "Epoch 47/100\n",
            "313/313 [==============================] - 2s 6ms/step - loss: 0.1468 - accuracy: 0.9484 - val_loss: 1.7841 - val_accuracy: 0.6863\n",
            "Epoch 48/100\n",
            "313/313 [==============================] - 2s 6ms/step - loss: 0.1226 - accuracy: 0.9568 - val_loss: 1.8363 - val_accuracy: 0.6788\n",
            "Epoch 49/100\n",
            "313/313 [==============================] - 2s 6ms/step - loss: 0.1372 - accuracy: 0.9504 - val_loss: 1.9021 - val_accuracy: 0.6845\n",
            "Epoch 50/100\n",
            "313/313 [==============================] - 2s 6ms/step - loss: 0.1202 - accuracy: 0.9587 - val_loss: 1.8808 - val_accuracy: 0.6815\n",
            "Epoch 51/100\n",
            "313/313 [==============================] - 2s 6ms/step - loss: 0.1230 - accuracy: 0.9567 - val_loss: 1.9839 - val_accuracy: 0.6904\n",
            "Epoch 52/100\n",
            "313/313 [==============================] - 2s 6ms/step - loss: 0.0959 - accuracy: 0.9664 - val_loss: 1.9926 - val_accuracy: 0.6862\n",
            "Epoch 53/100\n",
            "313/313 [==============================] - 2s 6ms/step - loss: 0.0922 - accuracy: 0.9685 - val_loss: 2.1323 - val_accuracy: 0.6790\n",
            "Epoch 54/100\n",
            "313/313 [==============================] - 2s 6ms/step - loss: 0.1119 - accuracy: 0.9608 - val_loss: 2.1833 - val_accuracy: 0.6827\n",
            "Epoch 55/100\n",
            "313/313 [==============================] - 2s 6ms/step - loss: 0.0944 - accuracy: 0.9673 - val_loss: 2.1811 - val_accuracy: 0.6806\n",
            "Epoch 56/100\n",
            "313/313 [==============================] - 2s 6ms/step - loss: 0.1023 - accuracy: 0.9636 - val_loss: 2.2563 - val_accuracy: 0.6796\n",
            "Epoch 57/100\n",
            "313/313 [==============================] - 2s 6ms/step - loss: 0.0884 - accuracy: 0.9695 - val_loss: 2.2624 - val_accuracy: 0.6805\n",
            "Epoch 58/100\n",
            "313/313 [==============================] - 2s 6ms/step - loss: 0.1069 - accuracy: 0.9625 - val_loss: 2.2644 - val_accuracy: 0.6842\n",
            "Epoch 59/100\n",
            "313/313 [==============================] - 2s 6ms/step - loss: 0.0781 - accuracy: 0.9739 - val_loss: 2.3423 - val_accuracy: 0.6829\n",
            "Epoch 60/100\n",
            "313/313 [==============================] - 2s 7ms/step - loss: 0.0780 - accuracy: 0.9708 - val_loss: 2.3445 - val_accuracy: 0.6879\n",
            "Epoch 61/100\n",
            "313/313 [==============================] - 2s 6ms/step - loss: 0.0645 - accuracy: 0.9782 - val_loss: 2.4901 - val_accuracy: 0.6822\n",
            "Epoch 62/100\n",
            "313/313 [==============================] - 2s 6ms/step - loss: 0.0818 - accuracy: 0.9713 - val_loss: 2.4731 - val_accuracy: 0.6831\n",
            "Epoch 63/100\n",
            "313/313 [==============================] - 2s 6ms/step - loss: 0.0693 - accuracy: 0.9761 - val_loss: 2.5670 - val_accuracy: 0.6756\n",
            "Epoch 64/100\n",
            "313/313 [==============================] - 2s 6ms/step - loss: 0.0873 - accuracy: 0.9697 - val_loss: 2.6364 - val_accuracy: 0.6718\n",
            "Epoch 65/100\n",
            "313/313 [==============================] - 2s 6ms/step - loss: 0.1017 - accuracy: 0.9660 - val_loss: 2.5804 - val_accuracy: 0.6844\n",
            "Epoch 66/100\n",
            "313/313 [==============================] - 2s 6ms/step - loss: 0.0515 - accuracy: 0.9833 - val_loss: 2.7021 - val_accuracy: 0.6790\n",
            "Epoch 67/100\n",
            "313/313 [==============================] - 2s 6ms/step - loss: 0.0554 - accuracy: 0.9809 - val_loss: 2.7559 - val_accuracy: 0.6863\n",
            "Epoch 68/100\n",
            "313/313 [==============================] - 2s 6ms/step - loss: 0.0630 - accuracy: 0.9775 - val_loss: 2.7140 - val_accuracy: 0.6799\n",
            "Epoch 69/100\n",
            "313/313 [==============================] - 2s 6ms/step - loss: 0.0665 - accuracy: 0.9760 - val_loss: 2.8048 - val_accuracy: 0.6730\n",
            "Epoch 70/100\n",
            "313/313 [==============================] - 2s 6ms/step - loss: 0.0853 - accuracy: 0.9709 - val_loss: 2.8624 - val_accuracy: 0.6737\n",
            "Epoch 71/100\n",
            "313/313 [==============================] - 2s 6ms/step - loss: 0.0730 - accuracy: 0.9743 - val_loss: 2.9706 - val_accuracy: 0.6606\n",
            "Epoch 72/100\n",
            "313/313 [==============================] - 2s 6ms/step - loss: 0.0942 - accuracy: 0.9672 - val_loss: 2.8440 - val_accuracy: 0.6774\n",
            "Epoch 73/100\n",
            "313/313 [==============================] - 2s 6ms/step - loss: 0.0451 - accuracy: 0.9838 - val_loss: 2.9429 - val_accuracy: 0.6803\n",
            "Epoch 74/100\n",
            "313/313 [==============================] - 2s 6ms/step - loss: 0.0655 - accuracy: 0.9773 - val_loss: 3.0074 - val_accuracy: 0.6768\n",
            "Epoch 75/100\n",
            "313/313 [==============================] - 2s 6ms/step - loss: 0.0907 - accuracy: 0.9678 - val_loss: 2.9113 - val_accuracy: 0.6734\n",
            "Epoch 76/100\n",
            "313/313 [==============================] - 2s 6ms/step - loss: 0.0709 - accuracy: 0.9764 - val_loss: 2.9085 - val_accuracy: 0.6731\n",
            "Epoch 77/100\n",
            "313/313 [==============================] - 2s 6ms/step - loss: 0.0674 - accuracy: 0.9764 - val_loss: 3.0591 - val_accuracy: 0.6820\n",
            "Epoch 78/100\n",
            "313/313 [==============================] - 2s 6ms/step - loss: 0.0298 - accuracy: 0.9900 - val_loss: 3.1437 - val_accuracy: 0.6744\n",
            "Epoch 79/100\n",
            "313/313 [==============================] - 2s 6ms/step - loss: 0.1064 - accuracy: 0.9636 - val_loss: 3.1997 - val_accuracy: 0.6615\n",
            "Epoch 80/100\n",
            "313/313 [==============================] - 2s 6ms/step - loss: 0.0866 - accuracy: 0.9695 - val_loss: 3.0783 - val_accuracy: 0.6827\n",
            "Epoch 81/100\n",
            "313/313 [==============================] - 2s 6ms/step - loss: 0.0543 - accuracy: 0.9817 - val_loss: 3.1425 - val_accuracy: 0.6788\n",
            "Epoch 82/100\n",
            "313/313 [==============================] - 2s 6ms/step - loss: 0.0296 - accuracy: 0.9910 - val_loss: 3.1393 - val_accuracy: 0.6806\n",
            "Epoch 83/100\n",
            "313/313 [==============================] - 2s 6ms/step - loss: 0.0552 - accuracy: 0.9813 - val_loss: 3.2600 - val_accuracy: 0.6716\n",
            "Epoch 84/100\n",
            "313/313 [==============================] - 2s 6ms/step - loss: 0.1016 - accuracy: 0.9656 - val_loss: 3.1785 - val_accuracy: 0.6743\n",
            "Epoch 85/100\n",
            "313/313 [==============================] - 2s 6ms/step - loss: 0.0551 - accuracy: 0.9809 - val_loss: 3.2672 - val_accuracy: 0.6771\n",
            "Epoch 86/100\n",
            "313/313 [==============================] - 2s 6ms/step - loss: 0.0535 - accuracy: 0.9829 - val_loss: 3.3771 - val_accuracy: 0.6762\n",
            "Epoch 87/100\n",
            "313/313 [==============================] - 2s 6ms/step - loss: 0.0385 - accuracy: 0.9874 - val_loss: 3.3646 - val_accuracy: 0.6715\n",
            "Epoch 88/100\n",
            "313/313 [==============================] - 2s 6ms/step - loss: 0.0753 - accuracy: 0.9747 - val_loss: 3.2734 - val_accuracy: 0.6763\n",
            "Epoch 89/100\n",
            "313/313 [==============================] - 2s 6ms/step - loss: 0.0847 - accuracy: 0.9719 - val_loss: 3.3189 - val_accuracy: 0.6777\n",
            "Epoch 90/100\n",
            "313/313 [==============================] - 2s 6ms/step - loss: 0.0476 - accuracy: 0.9839 - val_loss: 3.3817 - val_accuracy: 0.6749\n",
            "Epoch 91/100\n",
            "313/313 [==============================] - 2s 6ms/step - loss: 0.0553 - accuracy: 0.9816 - val_loss: 3.4395 - val_accuracy: 0.6726\n",
            "Epoch 92/100\n",
            "313/313 [==============================] - 2s 6ms/step - loss: 0.0418 - accuracy: 0.9863 - val_loss: 3.4077 - val_accuracy: 0.6813\n",
            "Epoch 93/100\n",
            "313/313 [==============================] - 2s 7ms/step - loss: 0.0521 - accuracy: 0.9829 - val_loss: 3.4165 - val_accuracy: 0.6757\n",
            "Epoch 94/100\n",
            "313/313 [==============================] - 2s 6ms/step - loss: 0.0780 - accuracy: 0.9725 - val_loss: 3.4057 - val_accuracy: 0.6727\n",
            "Epoch 95/100\n",
            "313/313 [==============================] - 2s 6ms/step - loss: 0.0556 - accuracy: 0.9810 - val_loss: 3.3924 - val_accuracy: 0.6721\n",
            "Epoch 96/100\n",
            "313/313 [==============================] - 2s 6ms/step - loss: 0.0592 - accuracy: 0.9794 - val_loss: 3.5636 - val_accuracy: 0.6722\n",
            "Epoch 97/100\n",
            "313/313 [==============================] - 2s 6ms/step - loss: 0.0436 - accuracy: 0.9847 - val_loss: 3.5917 - val_accuracy: 0.6733\n",
            "Epoch 98/100\n",
            "313/313 [==============================] - 2s 6ms/step - loss: 0.0508 - accuracy: 0.9820 - val_loss: 3.6626 - val_accuracy: 0.6769\n",
            "Epoch 99/100\n",
            "313/313 [==============================] - 2s 6ms/step - loss: 0.0461 - accuracy: 0.9836 - val_loss: 3.5991 - val_accuracy: 0.6725\n",
            "Epoch 100/100\n",
            "313/313 [==============================] - 2s 6ms/step - loss: 0.0624 - accuracy: 0.9792 - val_loss: 3.6608 - val_accuracy: 0.6745\n",
            "CPU times: user 3min 14s, sys: 35.1 s, total: 3min 49s\n",
            "Wall time: 3min 53s\n"
          ],
          "name": "stdout"
        }
      ]
    },
    {
      "cell_type": "markdown",
      "metadata": {
        "id": "FnnIyFtNKhbD"
      },
      "source": [
        "> ## 4) 학습 결과 시각화"
      ]
    },
    {
      "cell_type": "markdown",
      "metadata": {
        "id": "YgXRhVauKqOm"
      },
      "source": [
        "* Loss Visualization"
      ]
    },
    {
      "cell_type": "code",
      "metadata": {
        "id": "OQ4ke8BbKi50",
        "colab": {
          "base_uri": "https://localhost:8080/",
          "height": 404
        },
        "outputId": "9575e3fd-ceb1-4be3-b458-1412c6359b55"
      },
      "source": [
        "import matplotlib.pyplot as plt\n",
        "\n",
        "epochs = range(1, len(Hist_model.history['loss']) + 1)\n",
        "\n",
        "plt.figure(figsize = (9, 6))\n",
        "plt.plot(epochs, Hist_model.history['loss'])\n",
        "plt.plot(epochs, Hist_model.history['val_loss'])\n",
        "# plt.ylim(0, 0.25)\n",
        "plt.title('Training & Validation Loss')\n",
        "plt.xlabel('Epochs')\n",
        "plt.ylabel('Loss')\n",
        "plt.legend(['Training Loss', 'Validation Loss'])\n",
        "plt.grid()\n",
        "plt.show()"
      ],
      "execution_count": 14,
      "outputs": [
        {
          "output_type": "display_data",
          "data": {
            "image/png": "[encoded data removed]",
            "text/plain": [
              "<Figure size 648x432 with 1 Axes>"
            ]
          },
          "metadata": {
            "tags": [],
            "needs_background": "light"
          }
        }
      ]
    },
    {
      "cell_type": "markdown",
      "metadata": {
        "id": "_uJSOLBko7lh"
      },
      "source": [
        "> ## 5) Model Evaluate"
      ]
    },
    {
      "cell_type": "markdown",
      "metadata": {
        "id": "i-TqAB2ALGzZ"
      },
      "source": [
        "* Loss & Accuracy"
      ]
    },
    {
      "cell_type": "code",
      "metadata": {
        "id": "OF30PuZsAxQJ",
        "colab": {
          "base_uri": "https://localhost:8080/"
        },
        "outputId": "538b3bf5-81b9-47d5-a588-02909c41fd99"
      },
      "source": [
        "loss, accuracy = model.evaluate(X_test, y_test)\n",
        "\n",
        "print('Loss = {:.5f}'.format(loss))\n",
        "print('Accuracy = {:.5f}'.format(accuracy))\n",
        "#DNN만 사용했을 경우 보다 accuracy가 높아짐"
      ],
      "execution_count": 15,
      "outputs": [
        {
          "output_type": "stream",
          "text": [
            "313/313 [==============================] - 1s 2ms/step - loss: 3.7041 - accuracy: 0.6667\n",
            "Loss = 3.70413\n",
            "Accuracy = 0.66670\n"
          ],
          "name": "stdout"
        }
      ]
    },
    {
      "cell_type": "markdown",
      "metadata": {
        "id": "sN48I9GrLxOX"
      },
      "source": [
        "# \n",
        "# \n",
        "# \n",
        "# The End\n",
        "# \n",
        "# \n",
        "# "
      ]
    }
  ]
}
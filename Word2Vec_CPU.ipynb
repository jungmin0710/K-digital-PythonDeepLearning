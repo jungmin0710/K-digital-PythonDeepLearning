{
  "nbformat": 4,
  "nbformat_minor": 0,
  "metadata": {
    "colab": {
      "name": "Word2Vec_CPU.ipynb",
      "provenance": [],
      "authorship_tag": "ABX9TyOF8wcF9tdtv33jGwmzBJWP",
      "include_colab_link": true
    },
    "kernelspec": {
      "name": "python3",
      "display_name": "Python 3"
    },
    "language_info": {
      "name": "python"
    }
  },
  "cells": [
    {
      "cell_type": "markdown",
      "metadata": {
        "id": "view-in-github",
        "colab_type": "text"
      },
      "source": [
        "<a href=\"https://colab.research.google.com/github/jungmin0710/K-digital-PythonDeepLearning/blob/main/Word2Vec_CPU.ipynb\" target=\"_parent\"><img src=\"https://colab.research.google.com/assets/colab-badge.svg\" alt=\"Open In Colab\"/></a>"
      ]
    },
    {
      "cell_type": "markdown",
      "metadata": {
        "id": "uHmDBe48Eqfv"
      },
      "source": [
        "# Korean Word2Vec\n",
        "네이버 영화 리뷰 데이터\n"
      ]
    },
    {
      "cell_type": "code",
      "metadata": {
        "id": "v5WhhU5vEnu2"
      },
      "source": [
        "import warnings \n",
        "warnings.filterwarnings('ignore')"
      ],
      "execution_count": 1,
      "outputs": []
    },
    {
      "cell_type": "markdown",
      "metadata": {
        "id": "sD5iHdInE1PU"
      },
      "source": [
        "## 1.Install & Import Packages\n",
        "* Install KoNLPy"
      ]
    },
    {
      "cell_type": "code",
      "metadata": {
        "colab": {
          "base_uri": "https://localhost:8080/"
        },
        "id": "oJ6O2Z7tEzpH",
        "outputId": "5c6dbac6-1ce1-4340-e9b2-20eb300a517a"
      },
      "source": [
        "!pip install konlpy"
      ],
      "execution_count": 2,
      "outputs": [
        {
          "output_type": "stream",
          "text": [
            "Collecting konlpy\n",
            "\u001b[?25l  Downloading https://files.pythonhosted.org/packages/85/0e/f385566fec837c0b83f216b2da65db9997b35dd675e107752005b7d392b1/konlpy-0.5.2-py2.py3-none-any.whl (19.4MB)\n",
            "\u001b[K     |████████████████████████████████| 19.4MB 1.3MB/s \n",
            "\u001b[?25hCollecting JPype1>=0.7.0\n",
            "\u001b[?25l  Downloading https://files.pythonhosted.org/packages/cd/a5/9781e2ef4ca92d09912c4794642c1653aea7607f473e156cf4d423a881a1/JPype1-1.2.1-cp37-cp37m-manylinux2010_x86_64.whl (457kB)\n",
            "\u001b[K     |████████████████████████████████| 460kB 34.7MB/s \n",
            "\u001b[?25hRequirement already satisfied: tweepy>=3.7.0 in /usr/local/lib/python3.7/dist-packages (from konlpy) (3.10.0)\n",
            "Collecting beautifulsoup4==4.6.0\n",
            "\u001b[?25l  Downloading https://files.pythonhosted.org/packages/9e/d4/10f46e5cfac773e22707237bfcd51bbffeaf0a576b0a847ec7ab15bd7ace/beautifulsoup4-4.6.0-py3-none-any.whl (86kB)\n",
            "\u001b[K     |████████████████████████████████| 92kB 8.1MB/s \n",
            "\u001b[?25hRequirement already satisfied: lxml>=4.1.0 in /usr/local/lib/python3.7/dist-packages (from konlpy) (4.2.6)\n",
            "Requirement already satisfied: numpy>=1.6 in /usr/local/lib/python3.7/dist-packages (from konlpy) (1.19.5)\n",
            "Collecting colorama\n",
            "  Downloading https://files.pythonhosted.org/packages/44/98/5b86278fbbf250d239ae0ecb724f8572af1c91f4a11edf4d36a206189440/colorama-0.4.4-py2.py3-none-any.whl\n",
            "Requirement already satisfied: typing-extensions; python_version < \"3.8\" in /usr/local/lib/python3.7/dist-packages (from JPype1>=0.7.0->konlpy) (3.7.4.3)\n",
            "Requirement already satisfied: six>=1.10.0 in /usr/local/lib/python3.7/dist-packages (from tweepy>=3.7.0->konlpy) (1.15.0)\n",
            "Requirement already satisfied: requests[socks]>=2.11.1 in /usr/local/lib/python3.7/dist-packages (from tweepy>=3.7.0->konlpy) (2.23.0)\n",
            "Requirement already satisfied: requests-oauthlib>=0.7.0 in /usr/local/lib/python3.7/dist-packages (from tweepy>=3.7.0->konlpy) (1.3.0)\n",
            "Requirement already satisfied: idna<3,>=2.5 in /usr/local/lib/python3.7/dist-packages (from requests[socks]>=2.11.1->tweepy>=3.7.0->konlpy) (2.10)\n",
            "Requirement already satisfied: urllib3!=1.25.0,!=1.25.1,<1.26,>=1.21.1 in /usr/local/lib/python3.7/dist-packages (from requests[socks]>=2.11.1->tweepy>=3.7.0->konlpy) (1.24.3)\n",
            "Requirement already satisfied: chardet<4,>=3.0.2 in /usr/local/lib/python3.7/dist-packages (from requests[socks]>=2.11.1->tweepy>=3.7.0->konlpy) (3.0.4)\n",
            "Requirement already satisfied: certifi>=2017.4.17 in /usr/local/lib/python3.7/dist-packages (from requests[socks]>=2.11.1->tweepy>=3.7.0->konlpy) (2020.12.5)\n",
            "Requirement already satisfied: PySocks!=1.5.7,>=1.5.6; extra == \"socks\" in /usr/local/lib/python3.7/dist-packages (from requests[socks]>=2.11.1->tweepy>=3.7.0->konlpy) (1.7.1)\n",
            "Requirement already satisfied: oauthlib>=3.0.0 in /usr/local/lib/python3.7/dist-packages (from requests-oauthlib>=0.7.0->tweepy>=3.7.0->konlpy) (3.1.0)\n",
            "Installing collected packages: JPype1, beautifulsoup4, colorama, konlpy\n",
            "  Found existing installation: beautifulsoup4 4.6.3\n",
            "    Uninstalling beautifulsoup4-4.6.3:\n",
            "      Successfully uninstalled beautifulsoup4-4.6.3\n",
            "Successfully installed JPype1-1.2.1 beautifulsoup4-4.6.0 colorama-0.4.4 konlpy-0.5.2\n"
          ],
          "name": "stdout"
        }
      ]
    },
    {
      "cell_type": "markdown",
      "metadata": {
        "id": "rPf_IBQJE8UK"
      },
      "source": [
        "* Import Packages"
      ]
    },
    {
      "cell_type": "code",
      "metadata": {
        "id": "djmceEg0E6Ku"
      },
      "source": [
        "import pandas as pd\n",
        "import matplotlib.pyplot as plt\n"
      ],
      "execution_count": 3,
      "outputs": []
    },
    {
      "cell_type": "markdown",
      "metadata": {
        "id": "x5zvoUC1FCXk"
      },
      "source": [
        "## 2.Data Preprocessing"
      ]
    },
    {
      "cell_type": "markdown",
      "metadata": {
        "id": "uzODPoxsFExn"
      },
      "source": [
        "### 1)naverRatings.zip\n",
        "* Google Drive Mount"
      ]
    },
    {
      "cell_type": "code",
      "metadata": {
        "colab": {
          "base_uri": "https://localhost:8080/"
        },
        "id": "vt94G7eDFBlo",
        "outputId": "6521a45c-0418-4521-a2e7-53bc46b58999"
      },
      "source": [
        "from google.colab import drive\n",
        "drive.mount('/content/drive')"
      ],
      "execution_count": 4,
      "outputs": [
        {
          "output_type": "stream",
          "text": [
            "Mounted at /content/drive\n"
          ],
          "name": "stdout"
        }
      ]
    },
    {
      "cell_type": "code",
      "metadata": {
        "colab": {
          "base_uri": "https://localhost:8080/"
        },
        "id": "zC-PaPuQFWKD",
        "outputId": "1975e7d8-e8da-476e-afd3-7883f67d5d97"
      },
      "source": [
        "!ls -l /content/drive/My\\ Drive/Colab\\ Notebooks/datasets/naverRatings.zip"
      ],
      "execution_count": 5,
      "outputs": [
        {
          "output_type": "stream",
          "text": [
            "-rw------- 1 root root 7903524 Mar 31 02:11 '/content/drive/My Drive/Colab Notebooks/datasets/naverRatings.zip'\n"
          ],
          "name": "stdout"
        }
      ]
    },
    {
      "cell_type": "code",
      "metadata": {
        "colab": {
          "base_uri": "https://localhost:8080/"
        },
        "id": "rHhk5-38FWnH",
        "outputId": "a84c4396-82f6-4f8a-ba9c-5f6a9c4c36ed"
      },
      "source": [
        "!unzip /content/drive/My\\ Drive/Colab\\ Notebooks/datasets/naverRatings.zip"
      ],
      "execution_count": 6,
      "outputs": [
        {
          "output_type": "stream",
          "text": [
            "Archive:  /content/drive/My Drive/Colab Notebooks/datasets/naverRatings.zip\n",
            "  inflating: naverRatings.txt        \n"
          ],
          "name": "stdout"
        }
      ]
    },
    {
      "cell_type": "code",
      "metadata": {
        "colab": {
          "base_uri": "https://localhost:8080/"
        },
        "id": "S1YW63KUFYGt",
        "outputId": "a3ed267e-1ca9-4ecf-a1c2-735c4ca4a1af"
      },
      "source": [
        "!ls -l naverRatings.txt"
      ],
      "execution_count": 7,
      "outputs": [
        {
          "output_type": "stream",
          "text": [
            "-rw-r--r-- 1 root root 19515078 May  4  2020 naverRatings.txt\n"
          ],
          "name": "stdout"
        }
      ]
    },
    {
      "cell_type": "markdown",
      "metadata": {
        "id": "LzWxXIlXFa5d"
      },
      "source": [
        "### 2) 데이터 읽어오기\n",
        "* Label : '1'(긍정), '0'(부정)"
      ]
    },
    {
      "cell_type": "code",
      "metadata": {
        "colab": {
          "base_uri": "https://localhost:8080/",
          "height": 229
        },
        "id": "CLfpYpN6FZTS",
        "outputId": "55f6783b-2657-44e6-b085-308a26648029"
      },
      "source": [
        "train_data = pd.read_table('naverRatings.txt') \n",
        "\n",
        "train_data[:5]"
      ],
      "execution_count": 8,
      "outputs": [
        {
          "output_type": "execute_result",
          "data": {
            "text/html": [
              "<div>\n",
              "<style scoped>\n",
              "    .dataframe tbody tr th:only-of-type {\n",
              "        vertical-align: middle;\n",
              "    }\n",
              "\n",
              "    .dataframe tbody tr th {\n",
              "        vertical-align: top;\n",
              "    }\n",
              "\n",
              "    .dataframe thead th {\n",
              "        text-align: right;\n",
              "    }\n",
              "</style>\n",
              "<table border=\"1\" class=\"dataframe\">\n",
              "  <thead>\n",
              "    <tr style=\"text-align: right;\">\n",
              "      <th></th>\n",
              "      <th>id</th>\n",
              "      <th>document</th>\n",
              "      <th>label</th>\n",
              "    </tr>\n",
              "  </thead>\n",
              "  <tbody>\n",
              "    <tr>\n",
              "      <th>0</th>\n",
              "      <td>8112052</td>\n",
              "      <td>어릴때보고 지금다시봐도 재밌어요ㅋㅋ</td>\n",
              "      <td>1</td>\n",
              "    </tr>\n",
              "    <tr>\n",
              "      <th>1</th>\n",
              "      <td>8132799</td>\n",
              "      <td>디자인을 배우는 학생으로, 외국디자이너와 그들이 일군 전통을 통해 발전해가는 문화산...</td>\n",
              "      <td>1</td>\n",
              "    </tr>\n",
              "    <tr>\n",
              "      <th>2</th>\n",
              "      <td>4655635</td>\n",
              "      <td>폴리스스토리 시리즈는 1부터 뉴까지 버릴께 하나도 없음.. 최고.</td>\n",
              "      <td>1</td>\n",
              "    </tr>\n",
              "    <tr>\n",
              "      <th>3</th>\n",
              "      <td>9251303</td>\n",
              "      <td>와.. 연기가 진짜 개쩔구나.. 지루할거라고 생각했는데 몰입해서 봤다.. 그래 이런...</td>\n",
              "      <td>1</td>\n",
              "    </tr>\n",
              "    <tr>\n",
              "      <th>4</th>\n",
              "      <td>10067386</td>\n",
              "      <td>안개 자욱한 밤하늘에 떠 있는 초승달 같은 영화.</td>\n",
              "      <td>1</td>\n",
              "    </tr>\n",
              "  </tbody>\n",
              "</table>\n",
              "</div>"
            ],
            "text/plain": [
              "         id                                           document  label\n",
              "0   8112052                                어릴때보고 지금다시봐도 재밌어요ㅋㅋ      1\n",
              "1   8132799  디자인을 배우는 학생으로, 외국디자이너와 그들이 일군 전통을 통해 발전해가는 문화산...      1\n",
              "2   4655635               폴리스스토리 시리즈는 1부터 뉴까지 버릴께 하나도 없음.. 최고.      1\n",
              "3   9251303  와.. 연기가 진짜 개쩔구나.. 지루할거라고 생각했는데 몰입해서 봤다.. 그래 이런...      1\n",
              "4  10067386                        안개 자욱한 밤하늘에 떠 있는 초승달 같은 영화.      1"
            ]
          },
          "metadata": {
            "tags": []
          },
          "execution_count": 8
        }
      ]
    },
    {
      "cell_type": "markdown",
      "metadata": {
        "id": "EQP31SJKFn_O"
      },
      "source": [
        "* 네이버 영화 리뷰 개수"
      ]
    },
    {
      "cell_type": "code",
      "metadata": {
        "colab": {
          "base_uri": "https://localhost:8080/"
        },
        "id": "XRHNiCh9Ffo5",
        "outputId": "6705d268-90e1-456f-cad0-e1480f8ea816"
      },
      "source": [
        "print(len(train_data))"
      ],
      "execution_count": 9,
      "outputs": [
        {
          "output_type": "stream",
          "text": [
            "200000\n"
          ],
          "name": "stdout"
        }
      ]
    },
    {
      "cell_type": "markdown",
      "metadata": {
        "id": "ZkTW86NDFsr3"
      },
      "source": [
        "### 3) 데이터 정제(Cleaning)\n",
        "* NULL값 존재 확인"
      ]
    },
    {
      "cell_type": "code",
      "metadata": {
        "colab": {
          "base_uri": "https://localhost:8080/"
        },
        "id": "7Yt0x3OmFqs3",
        "outputId": "cb93653e-ef38-4799-9d15-5111d874203e"
      },
      "source": [
        "print(train_data.isnull().values.any())"
      ],
      "execution_count": 10,
      "outputs": [
        {
          "output_type": "stream",
          "text": [
            "True\n"
          ],
          "name": "stdout"
        }
      ]
    },
    {
      "cell_type": "markdown",
      "metadata": {
        "id": "01VJL4vEFyBq"
      },
      "source": [
        "* NULL값 존재 행 제거 후 재확인"
      ]
    },
    {
      "cell_type": "code",
      "metadata": {
        "colab": {
          "base_uri": "https://localhost:8080/"
        },
        "id": "KorXywf0Fw1X",
        "outputId": "2b5ad98c-5cd1-4fb9-97f5-f6d4951a216b"
      },
      "source": [
        "train_data = train_data.dropna(how = 'any') \n",
        "\n",
        "print(train_data.isnull().values.any())"
      ],
      "execution_count": 11,
      "outputs": [
        {
          "output_type": "stream",
          "text": [
            "False\n"
          ],
          "name": "stdout"
        }
      ]
    },
    {
      "cell_type": "markdown",
      "metadata": {
        "id": "7iiVhWjJF25C"
      },
      "source": [
        "* NULL값 제거 후 데이터 개수"
      ]
    },
    {
      "cell_type": "code",
      "metadata": {
        "colab": {
          "base_uri": "https://localhost:8080/"
        },
        "id": "KKifLd4OF1Gp",
        "outputId": "acc062d2-7cc7-4639-e4b0-4190dbd8ac40"
      },
      "source": [
        "print(len(train_data))"
      ],
      "execution_count": 12,
      "outputs": [
        {
          "output_type": "stream",
          "text": [
            "199992\n"
          ],
          "name": "stdout"
        }
      ]
    },
    {
      "cell_type": "markdown",
      "metadata": {
        "id": "E1sx8TqxF6mo"
      },
      "source": [
        "### 4) 정규표현식을 통한 한글 외 문자 제거"
      ]
    },
    {
      "cell_type": "code",
      "metadata": {
        "id": "wEKEuhqbF5Ym"
      },
      "source": [
        "train_data['document'] = train_data['document'].str.replace('[^ㄱ-ㅎㅏ-ㅣ가-힣 ]', '')"
      ],
      "execution_count": 13,
      "outputs": []
    },
    {
      "cell_type": "markdown",
      "metadata": {
        "id": "WalGFS5lF-hl"
      },
      "source": [
        "* 처리 결과 확인"
      ]
    },
    {
      "cell_type": "code",
      "metadata": {
        "colab": {
          "base_uri": "https://localhost:8080/",
          "height": 229
        },
        "id": "8BhOdIFHF9XV",
        "outputId": "0302083d-402a-40dd-fb50-886c85ea5948"
      },
      "source": [
        "train_data[:5]"
      ],
      "execution_count": 14,
      "outputs": [
        {
          "output_type": "execute_result",
          "data": {
            "text/html": [
              "<div>\n",
              "<style scoped>\n",
              "    .dataframe tbody tr th:only-of-type {\n",
              "        vertical-align: middle;\n",
              "    }\n",
              "\n",
              "    .dataframe tbody tr th {\n",
              "        vertical-align: top;\n",
              "    }\n",
              "\n",
              "    .dataframe thead th {\n",
              "        text-align: right;\n",
              "    }\n",
              "</style>\n",
              "<table border=\"1\" class=\"dataframe\">\n",
              "  <thead>\n",
              "    <tr style=\"text-align: right;\">\n",
              "      <th></th>\n",
              "      <th>id</th>\n",
              "      <th>document</th>\n",
              "      <th>label</th>\n",
              "    </tr>\n",
              "  </thead>\n",
              "  <tbody>\n",
              "    <tr>\n",
              "      <th>0</th>\n",
              "      <td>8112052</td>\n",
              "      <td>어릴때보고 지금다시봐도 재밌어요ㅋㅋ</td>\n",
              "      <td>1</td>\n",
              "    </tr>\n",
              "    <tr>\n",
              "      <th>1</th>\n",
              "      <td>8132799</td>\n",
              "      <td>디자인을 배우는 학생으로 외국디자이너와 그들이 일군 전통을 통해 발전해가는 문화산업...</td>\n",
              "      <td>1</td>\n",
              "    </tr>\n",
              "    <tr>\n",
              "      <th>2</th>\n",
              "      <td>4655635</td>\n",
              "      <td>폴리스스토리 시리즈는 부터 뉴까지 버릴께 하나도 없음 최고</td>\n",
              "      <td>1</td>\n",
              "    </tr>\n",
              "    <tr>\n",
              "      <th>3</th>\n",
              "      <td>9251303</td>\n",
              "      <td>와 연기가 진짜 개쩔구나 지루할거라고 생각했는데 몰입해서 봤다 그래 이런게 진짜 영화지</td>\n",
              "      <td>1</td>\n",
              "    </tr>\n",
              "    <tr>\n",
              "      <th>4</th>\n",
              "      <td>10067386</td>\n",
              "      <td>안개 자욱한 밤하늘에 떠 있는 초승달 같은 영화</td>\n",
              "      <td>1</td>\n",
              "    </tr>\n",
              "  </tbody>\n",
              "</table>\n",
              "</div>"
            ],
            "text/plain": [
              "         id                                           document  label\n",
              "0   8112052                                어릴때보고 지금다시봐도 재밌어요ㅋㅋ      1\n",
              "1   8132799  디자인을 배우는 학생으로 외국디자이너와 그들이 일군 전통을 통해 발전해가는 문화산업...      1\n",
              "2   4655635                   폴리스스토리 시리즈는 부터 뉴까지 버릴께 하나도 없음 최고      1\n",
              "3   9251303   와 연기가 진짜 개쩔구나 지루할거라고 생각했는데 몰입해서 봤다 그래 이런게 진짜 영화지      1\n",
              "4  10067386                         안개 자욱한 밤하늘에 떠 있는 초승달 같은 영화      1"
            ]
          },
          "metadata": {
            "tags": []
          },
          "execution_count": 14
        }
      ]
    },
    {
      "cell_type": "code",
      "metadata": {
        "colab": {
          "base_uri": "https://localhost:8080/"
        },
        "id": "ICdVRwAFGBHn",
        "outputId": "08f1230f-fcf3-49db-cea6-939f0eed66f6"
      },
      "source": [
        "train_data['document'].shape"
      ],
      "execution_count": 15,
      "outputs": [
        {
          "output_type": "execute_result",
          "data": {
            "text/plain": [
              "(199992,)"
            ]
          },
          "metadata": {
            "tags": []
          },
          "execution_count": 15
        }
      ]
    },
    {
      "cell_type": "markdown",
      "metadata": {
        "id": "KekriRgJGI79"
      },
      "source": [
        "### 5) 불용어(Stopword) 지정"
      ]
    },
    {
      "cell_type": "code",
      "metadata": {
        "id": "Y1d2m3CmGHRx"
      },
      "source": [
        "stopwords = ['의','가','이','은','들','는','좀','잘','걍', '과','도','를','으로','자','에','와','한','하다']"
      ],
      "execution_count": 16,
      "outputs": []
    },
    {
      "cell_type": "markdown",
      "metadata": {
        "id": "ttpcfAqdGOhD"
      },
      "source": [
        "### 6) Okt( )를 활용한 토큰화 및 불용어 제거"
      ]
    },
    {
      "cell_type": "code",
      "metadata": {
        "colab": {
          "base_uri": "https://localhost:8080/"
        },
        "id": "8mYh2d4VGMCM",
        "outputId": "91445f35-8af5-4780-f532-f6906ec9a71d"
      },
      "source": [
        "%%time\n",
        "\n",
        "from konlpy.tag import Okt\n",
        "\n",
        "okt = Okt()\n",
        "tokenized_data = []\n",
        "\n",
        "for sentence in train_data['document']:\n",
        "  temp_X = okt.morphs(sentence,\n",
        "                      stem = True)\n",
        "  temp_X = [word for word in temp_X if not word in stopwords]\n",
        "  tokenized_data.append(temp_X)"
      ],
      "execution_count": 17,
      "outputs": [
        {
          "output_type": "stream",
          "text": [
            "CPU times: user 7min 26s, sys: 1.76 s, total: 7min 28s\n",
            "Wall time: 7min 15s\n"
          ],
          "name": "stdout"
        }
      ]
    },
    {
      "cell_type": "code",
      "metadata": {
        "colab": {
          "base_uri": "https://localhost:8080/"
        },
        "id": "rGThe2PDGp37",
        "outputId": "aa7baadb-a8e1-4fd8-9018-fae3ffa7393d"
      },
      "source": [
        "len(tokenized_data)"
      ],
      "execution_count": 18,
      "outputs": [
        {
          "output_type": "execute_result",
          "data": {
            "text/plain": [
              "199992"
            ]
          },
          "metadata": {
            "tags": []
          },
          "execution_count": 18
        }
      ]
    },
    {
      "cell_type": "markdown",
      "metadata": {
        "id": "TLYud3DjGQve"
      },
      "source": [
        "## 3.리뷰 데이터 분포 시각화"
      ]
    },
    {
      "cell_type": "markdown",
      "metadata": {
        "id": "FiYY3gUTHDPU"
      },
      "source": [
        "### 1) 리뷰 길이 확인"
      ]
    },
    {
      "cell_type": "code",
      "metadata": {
        "colab": {
          "base_uri": "https://localhost:8080/"
        },
        "id": "fMwZxm4lHKXF",
        "outputId": "c37ebd2d-1249-463f-91aa-f2dbc1fe905a"
      },
      "source": [
        "print('리뷰의 최대 길이 :',max(len(l) for l in tokenized_data)) \n",
        "print('리뷰의 평균 길이 :',sum(map(len, tokenized_data))/len(tokenized_data))"
      ],
      "execution_count": 19,
      "outputs": [
        {
          "output_type": "stream",
          "text": [
            "리뷰의 최대 길이 : 72\n",
            "리뷰의 평균 길이 : 10.716703668146726\n"
          ],
          "name": "stdout"
        }
      ]
    },
    {
      "cell_type": "markdown",
      "metadata": {
        "id": "Wa7h7dHYHM5l"
      },
      "source": [
        "### 2) 리뷰 길이 시각화"
      ]
    },
    {
      "cell_type": "code",
      "metadata": {
        "colab": {
          "base_uri": "https://localhost:8080/",
          "height": 279
        },
        "id": "nV37To9zHOmh",
        "outputId": "729aaf1c-242a-4932-ff6f-b848791d2f41"
      },
      "source": [
        "plt.hist([len(s) for s in tokenized_data], bins = 50) \n",
        "plt.xlabel('length of samples') \n",
        "plt.ylabel('number of samples') \n",
        "plt.show()"
      ],
      "execution_count": 20,
      "outputs": [
        {
          "output_type": "display_data",
          "data": {
            "image/png": "[encoded data removed]",
            "text/plain": [
              "<Figure size 432x288 with 1 Axes>"
            ]
          },
          "metadata": {
            "tags": [],
            "needs_background": "light"
          }
        }
      ]
    },
    {
      "cell_type": "markdown",
      "metadata": {
        "id": "UqADaMyiHTTm"
      },
      "source": [
        "## 4.Word2Vec 수행"
      ]
    },
    {
      "cell_type": "markdown",
      "metadata": {
        "id": "6hFdjzvtHX9Y"
      },
      "source": [
        "### 1) 임베딩 학습\n",
        "* Vector 차원 : 100 \n",
        "* Window 크기 : 5 \n",
        "* size = 워드 벡터의 특징 값. 즉, 임베딩 된 벡터의 차원. \n",
        "* window = 컨텍스트 윈도우 크기 \n",
        "* min_count = 단어 최소 빈도 수 제한 (빈도가 적은 단어들은 학습하지 않는다.) \n",
        "* workers = 학습을 위한 프로세스 수 \n",
        "* sg = 0은 CBOW, 1은 Skip-gram"
      ]
    },
    {
      "cell_type": "code",
      "metadata": {
        "id": "6xYrUSufHhqg"
      },
      "source": [
        "from gensim.models import Word2Vec\n",
        "\n",
        "model = Word2Vec(sentences = tokenized_data, \n",
        "                 size = 100, \n",
        "                 window = 5, \n",
        "                 min_count = 5, \n",
        "                 workers = 4, \n",
        "                 sg = 1)"
      ],
      "execution_count": 21,
      "outputs": []
    },
    {
      "cell_type": "markdown",
      "metadata": {
        "id": "HKZ2_mC-HnvE"
      },
      "source": [
        "### 2) 학습된 임베딩 매트릭스 크기 확인"
      ]
    },
    {
      "cell_type": "code",
      "metadata": {
        "colab": {
          "base_uri": "https://localhost:8080/"
        },
        "id": "gbkEtU-KHpdI",
        "outputId": "c8c98644-e377-4094-9018-405dcb245aee"
      },
      "source": [
        "model.wv.vectors.shape"
      ],
      "execution_count": 22,
      "outputs": [
        {
          "output_type": "execute_result",
          "data": {
            "text/plain": [
              "(16477, 100)"
            ]
          },
          "metadata": {
            "tags": []
          },
          "execution_count": 22
        }
      ]
    },
    {
      "cell_type": "markdown",
      "metadata": {
        "id": "EPhQKwgxHqLE"
      },
      "source": [
        "## 5.임베딩 결과 테스트"
      ]
    },
    {
      "cell_type": "code",
      "metadata": {
        "colab": {
          "base_uri": "https://localhost:8080/"
        },
        "id": "MaeRy4RtHtTf",
        "outputId": "b3183791-59c2-4fb5-9a1c-3b6d47a2de5d"
      },
      "source": [
        "model.wv.most_similar('이병헌')"
      ],
      "execution_count": 23,
      "outputs": [
        {
          "output_type": "execute_result",
          "data": {
            "text/plain": [
              "[('정려원', 0.8157336711883545),\n",
              " ('최수종', 0.8139446973800659),\n",
              " ('유다인', 0.809329628944397),\n",
              " ('심은하', 0.8023520112037659),\n",
              " ('안성기', 0.7928484678268433),\n",
              " ('양동근', 0.7926052808761597),\n",
              " ('채민서', 0.791305422782898),\n",
              " ('샤룩', 0.7906743288040161),\n",
              " ('혼신', 0.7866038680076599),\n",
              " ('김승우', 0.7864974737167358)]"
            ]
          },
          "metadata": {
            "tags": []
          },
          "execution_count": 23
        }
      ]
    },
    {
      "cell_type": "code",
      "metadata": {
        "colab": {
          "base_uri": "https://localhost:8080/"
        },
        "id": "ZPjZGKsHHvSy",
        "outputId": "60e49834-f453-4e15-b709-48974b470db1"
      },
      "source": [
        "model.wv.most_similar('액션')"
      ],
      "execution_count": 24,
      "outputs": [
        {
          "output_type": "execute_result",
          "data": {
            "text/plain": [
              "[('액션씬', 0.7293186187744141),\n",
              " ('디도', 0.7227051258087158),\n",
              " ('격투', 0.720159649848938),\n",
              " ('무술', 0.7179709672927856),\n",
              " ('총격', 0.710495114326477),\n",
              " ('격투씬', 0.7075188755989075),\n",
              " ('레이싱', 0.6983073353767395),\n",
              " ('액션영화', 0.6946488618850708),\n",
              " ('스릴러물', 0.6874148845672607),\n",
              " ('추격', 0.6847896575927734)]"
            ]
          },
          "metadata": {
            "tags": []
          },
          "execution_count": 24
        }
      ]
    },
    {
      "cell_type": "code",
      "metadata": {
        "colab": {
          "base_uri": "https://localhost:8080/"
        },
        "id": "pQGyToU1JJVr",
        "outputId": "bb7a9623-83f4-4677-d405-634761737219"
      },
      "source": [
        "model.wv.most_similar('공리')"
      ],
      "execution_count": 33,
      "outputs": [
        {
          "output_type": "execute_result",
          "data": {
            "text/plain": [
              "[('공리계', 0.750770092010498),\n",
              " ('명제', 0.6549944877624512),\n",
              " ('연산자', 0.6441450715065002),\n",
              " ('공준', 0.6226961612701416),\n",
              " ('복소수', 0.6169536113739014),\n",
              " ('도함수', 0.6159658432006836),\n",
              " ('범주', 0.6145826578140259),\n",
              " ('집합론', 0.6102553606033325),\n",
              " ('논리', 0.6040921807289124),\n",
              " ('술어', 0.5986670255661011)]"
            ]
          },
          "metadata": {
            "tags": []
          },
          "execution_count": 33
        }
      ]
    },
    {
      "cell_type": "code",
      "metadata": {
        "colab": {
          "base_uri": "https://localhost:8080/"
        },
        "id": "Xhj2F_qTJOgV",
        "outputId": "f6ca6d66-a30d-4d77-9fb5-7cdea514e9c5"
      },
      "source": [
        "model.wv.most_similar('리듬')"
      ],
      "execution_count": 37,
      "outputs": [
        {
          "output_type": "execute_result",
          "data": {
            "text/plain": [
              "[('음색', 0.683139443397522),\n",
              " ('선율', 0.671829104423523),\n",
              " ('창법', 0.6605373024940491),\n",
              " ('멜로디', 0.6571379899978638),\n",
              " ('울림', 0.63868248462677),\n",
              " ('어쿠스틱', 0.6160341501235962),\n",
              " ('저음', 0.5951864719390869),\n",
              " ('건반', 0.5927807688713074),\n",
              " ('드럼', 0.583595871925354),\n",
              " ('댄스', 0.5775110721588135)]"
            ]
          },
          "metadata": {
            "tags": []
          },
          "execution_count": 37
        }
      ]
    },
    {
      "cell_type": "markdown",
      "metadata": {
        "id": "acXx4id_HwqY"
      },
      "source": [
        "## 6.사전훈련된 Word2Vec"
      ]
    },
    {
      "cell_type": "markdown",
      "metadata": {
        "id": "cqMwndA1H1cy"
      },
      "source": [
        "### 1) Google Drive Mount"
      ]
    },
    {
      "cell_type": "code",
      "metadata": {
        "colab": {
          "base_uri": "https://localhost:8080/"
        },
        "id": "6bpy__czH59Z",
        "outputId": "554cb3f1-13c4-4b9d-c84d-fc48fb4872f2"
      },
      "source": [
        "from google.colab import drive \n",
        "drive.mount('/content/drive')"
      ],
      "execution_count": 25,
      "outputs": [
        {
          "output_type": "stream",
          "text": [
            "Drive already mounted at /content/drive; to attempt to forcibly remount, call drive.mount(\"/content/drive\", force_remount=True).\n"
          ],
          "name": "stdout"
        }
      ]
    },
    {
      "cell_type": "code",
      "metadata": {
        "colab": {
          "base_uri": "https://localhost:8080/"
        },
        "id": "l0qXDjeUH8MC",
        "outputId": "8e102825-3b66-47d7-cb0a-ad161f6befc4"
      },
      "source": [
        "!ls -l /content/drive/My\\ Drive/Colab\\ Notebooks/datasets/ko_w2v.zip"
      ],
      "execution_count": 26,
      "outputs": [
        {
          "output_type": "stream",
          "text": [
            "-rw------- 1 root root 80596565 Mar 31 02:15 '/content/drive/My Drive/Colab Notebooks/datasets/ko_w2v.zip'\n"
          ],
          "name": "stdout"
        }
      ]
    },
    {
      "cell_type": "markdown",
      "metadata": {
        "id": "A6SMs34aH_vG"
      },
      "source": [
        "### 2) Unzip 'ko_w2v.zip'"
      ]
    },
    {
      "cell_type": "code",
      "metadata": {
        "colab": {
          "base_uri": "https://localhost:8080/"
        },
        "id": "slPLuI_NH8m6",
        "outputId": "0af2ff55-6055-4bb7-f97f-db01d69f1d93"
      },
      "source": [
        "!unzip /content/drive/My\\ Drive/Colab\\ Notebooks/datasets/ko_w2v.zip"
      ],
      "execution_count": 27,
      "outputs": [
        {
          "output_type": "stream",
          "text": [
            "Archive:  /content/drive/My Drive/Colab Notebooks/datasets/ko_w2v.zip\n",
            "  inflating: ko.bin                  \n",
            "  inflating: ko.tsv                  \n"
          ],
          "name": "stdout"
        }
      ]
    },
    {
      "cell_type": "code",
      "metadata": {
        "colab": {
          "base_uri": "https://localhost:8080/"
        },
        "id": "45BomyN3IC6J",
        "outputId": "27bce6b2-3b24-4fd2-a5da-228d78fc0aff"
      },
      "source": [
        "!ls -l ko.bin"
      ],
      "execution_count": 28,
      "outputs": [
        {
          "output_type": "stream",
          "text": [
            "-rw------- 1 root root 50697568 Dec 21  2016 ko.bin\n"
          ],
          "name": "stdout"
        }
      ]
    },
    {
      "cell_type": "markdown",
      "metadata": {
        "id": "CuH2Y1BlIDk6"
      },
      "source": [
        "### 3) Word2Vec 가져오기"
      ]
    },
    {
      "cell_type": "code",
      "metadata": {
        "id": "vgpQF_s7IG9C"
      },
      "source": [
        "import gensim"
      ],
      "execution_count": 29,
      "outputs": []
    },
    {
      "cell_type": "code",
      "metadata": {
        "id": "BmKxaykTIHWF"
      },
      "source": [
        "model = gensim.models.Word2Vec.load('ko.bin')"
      ],
      "execution_count": 30,
      "outputs": []
    },
    {
      "cell_type": "markdown",
      "metadata": {
        "id": "X_Abr1UmIJO7"
      },
      "source": [
        "### 4) Word2Vec Test"
      ]
    },
    {
      "cell_type": "code",
      "metadata": {
        "colab": {
          "base_uri": "https://localhost:8080/"
        },
        "id": "G5PtylR4ILI5",
        "outputId": "cb7212ba-2e7f-4f56-bc3a-2c45430c7e99"
      },
      "source": [
        "model.wv.most_similar('금융')"
      ],
      "execution_count": 31,
      "outputs": [
        {
          "output_type": "execute_result",
          "data": {
            "text/plain": [
              "[('감독원', 0.6556380391120911),\n",
              " ('신용', 0.6269841194152832),\n",
              " ('은행', 0.6236893534660339),\n",
              " ('외환', 0.6192121505737305),\n",
              " ('중소기업', 0.6051731705665588),\n",
              " ('중앙은행', 0.6050782799720764),\n",
              " ('증권', 0.5907014608383179),\n",
              " ('거래', 0.5898198485374451),\n",
              " ('투자', 0.5844753384590149),\n",
              " ('경영', 0.5692520141601562)]"
            ]
          },
          "metadata": {
            "tags": []
          },
          "execution_count": 31
        }
      ]
    },
    {
      "cell_type": "code",
      "metadata": {
        "colab": {
          "base_uri": "https://localhost:8080/"
        },
        "id": "kwNW89R8INDq",
        "outputId": "43386a16-963c-412f-b53d-f889be4bca7d"
      },
      "source": [
        "model.wv.most_similar('은행')"
      ],
      "execution_count": 32,
      "outputs": [
        {
          "output_type": "execute_result",
          "data": {
            "text/plain": [
              "[('씨티', 0.6328796148300171),\n",
              " ('금융', 0.6236892938613892),\n",
              " ('농협', 0.6008170247077942),\n",
              " ('본점', 0.5930641889572144),\n",
              " ('한국은행', 0.5903059840202332),\n",
              " ('지점장', 0.5847948789596558),\n",
              " ('은행장', 0.5830198526382446),\n",
              " ('거래소', 0.5792121887207031),\n",
              " ('증권', 0.5775279998779297),\n",
              " ('외환', 0.5623738765716553)]"
            ]
          },
          "metadata": {
            "tags": []
          },
          "execution_count": 32
        }
      ]
    },
    {
      "cell_type": "code",
      "metadata": {
        "colab": {
          "base_uri": "https://localhost:8080/"
        },
        "id": "COq7cHwdJfuk",
        "outputId": "fd92f937-7368-465c-d780-28f56252d118"
      },
      "source": [
        "model.wv.most_similar('쿠키')"
      ],
      "execution_count": 38,
      "outputs": [
        {
          "output_type": "execute_result",
          "data": {
            "text/plain": [
              "[('브레드', 0.6969012022018433),\n",
              " ('민트', 0.6922163367271423),\n",
              " ('케이크', 0.6763652563095093),\n",
              " ('에스프레소', 0.6717720031738281),\n",
              " ('아이스크림', 0.6696140766143799),\n",
              " ('요구르트', 0.6631724834442139),\n",
              " ('비스킷', 0.660405158996582),\n",
              " ('밀크', 0.657418966293335),\n",
              " ('샌드위치', 0.6537575125694275),\n",
              " ('버터', 0.6517305374145508)]"
            ]
          },
          "metadata": {
            "tags": []
          },
          "execution_count": 38
        }
      ]
    },
    {
      "cell_type": "code",
      "metadata": {
        "colab": {
          "base_uri": "https://localhost:8080/"
        },
        "id": "HwZK6ObBJkOj",
        "outputId": "d0e7d61c-dd19-40a9-d225-0a64ffd23acf"
      },
      "source": [
        "model.wv.most_similar('주식')"
      ],
      "execution_count": 39,
      "outputs": [
        {
          "output_type": "execute_result",
          "data": {
            "text/plain": [
              "[('지분', 0.6598864197731018),\n",
              " ('증권', 0.6218825578689575),\n",
              " ('사채', 0.6179963946342468),\n",
              " ('자본금', 0.6030240058898926),\n",
              " ('현물', 0.5963727235794067),\n",
              " ('주주', 0.5927849411964417),\n",
              " ('코스닥', 0.5803253650665283),\n",
              " ('모회사', 0.5793282985687256),\n",
              " ('상장', 0.5687190890312195),\n",
              " ('어음', 0.5640697479248047)]"
            ]
          },
          "metadata": {
            "tags": []
          },
          "execution_count": 39
        }
      ]
    },
    {
      "cell_type": "code",
      "metadata": {
        "colab": {
          "base_uri": "https://localhost:8080/"
        },
        "id": "hBIGLEO0Jm_6",
        "outputId": "eb69d077-a92c-4753-c7b8-816035f80cde"
      },
      "source": [
        "model.wv.most_similar('인공지능')"
      ],
      "execution_count": 40,
      "outputs": [
        {
          "output_type": "execute_result",
          "data": {
            "text/plain": [
              "[('컴퓨팅', 0.6520194411277771),\n",
              " ('가상현실', 0.6393702030181885),\n",
              " ('심리학', 0.63037109375),\n",
              " ('모델링', 0.625065267086029),\n",
              " ('신경망', 0.6200424432754517),\n",
              " ('로봇', 0.6109743118286133),\n",
              " ('시뮬레이션', 0.6101070642471313),\n",
              " ('지능', 0.6092983484268188),\n",
              " ('기술', 0.6087720990180969),\n",
              " ('기술인', 0.5957075953483582)]"
            ]
          },
          "metadata": {
            "tags": []
          },
          "execution_count": 40
        }
      ]
    },
    {
      "cell_type": "markdown",
      "metadata": {
        "id": "JVbCyAXbINxL"
      },
      "source": [
        "본 내용은 2021/03/31(수)에 학습한 내용입니다."
      ]
    }
  ]
}
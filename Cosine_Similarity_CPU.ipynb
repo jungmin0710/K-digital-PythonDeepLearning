{
  "nbformat": 4,
  "nbformat_minor": 0,
  "metadata": {
    "colab": {
      "name": "Cosine_Similarity_CPU.ipynb",
      "provenance": [],
      "collapsed_sections": [],
      "authorship_tag": "ABX9TyOSm9raMJ5jtx6bTpYzX6cz",
      "include_colab_link": true
    },
    "kernelspec": {
      "name": "python3",
      "display_name": "Python 3"
    },
    "language_info": {
      "name": "python"
    }
  },
  "cells": [
    {
      "cell_type": "markdown",
      "metadata": {
        "id": "view-in-github",
        "colab_type": "text"
      },
      "source": [
        "<a href=\"https://colab.research.google.com/github/jungmin0710/K-digital-PythonDeepLearning/blob/main/Cosine_Similarity_CPU.ipynb\" target=\"_parent\"><img src=\"https://colab.research.google.com/assets/colab-badge.svg\" alt=\"Open In Colab\"/></a>"
      ]
    },
    {
      "cell_type": "markdown",
      "metadata": {
        "id": "I6blbbBeSiOU"
      },
      "source": [
        "# Consine Similarity\n",
        "* 두 벡터의 크기와 상관없이, 상호 방향성이 얼마나 유사한지에 기반 \n",
        "  * 두 벡터의 사잇각이을 계산하여 유사도 측정\n",
        "* 문서(문장)의 크기를 고려하지 않는 빈도수 기반의 단점 보완\n"
      ]
    },
    {
      "cell_type": "code",
      "metadata": {
        "id": "vYGSiEm7SY_a"
      },
      "source": [
        "import warnings \n",
        "warnings.filterwarnings('ignore')"
      ],
      "execution_count": 1,
      "outputs": []
    },
    {
      "cell_type": "markdown",
      "metadata": {
        "id": "_bNClAqVSsuE"
      },
      "source": [
        "## 1.TF-IDF Vectorization"
      ]
    },
    {
      "cell_type": "markdown",
      "metadata": {
        "id": "7cyNmDc4St5O"
      },
      "source": [
        "### 1) 문장 3개 지정"
      ]
    },
    {
      "cell_type": "code",
      "metadata": {
        "id": "MmAFu831SrVV"
      },
      "source": [
        "doc_list = ['if you take the blue pill, the story ends' , 'if you take the red pill, you stay in Wonderland', 'if you take the red pill, I show you how deep the rabbit hole goes']"
      ],
      "execution_count": 2,
      "outputs": []
    },
    {
      "cell_type": "markdown",
      "metadata": {
        "id": "dG3g7yWTS3xK"
      },
      "source": [
        "### 2) Coordinate(좌표) 양식\n",
        "* '0'이 아닌 데이터포인트의 좌표만 저장"
      ]
    },
    {
      "cell_type": "code",
      "metadata": {
        "colab": {
          "base_uri": "https://localhost:8080/"
        },
        "id": "Ct4UxRR-S2gJ",
        "outputId": "c891d618-8ac2-4ca7-8483-20d611de157c"
      },
      "source": [
        "from sklearn.feature_extraction.text import TfidfVectorizer\n",
        "\n",
        "tfidf_vec_simple = TfidfVectorizer() \n",
        "feature_vec_simple = tfidf_vec_simple.fit_transform(doc_list) \n",
        "\n",
        "print(feature_vec_simple)"
      ],
      "execution_count": 3,
      "outputs": [
        {
          "output_type": "stream",
          "text": [
            "  (0, 2)\t0.41556360057939173\n",
            "  (0, 13)\t0.41556360057939173\n",
            "  (0, 8)\t0.24543855687841593\n",
            "  (0, 0)\t0.41556360057939173\n",
            "  (0, 15)\t0.49087711375683185\n",
            "  (0, 14)\t0.24543855687841593\n",
            "  (0, 17)\t0.24543855687841593\n",
            "  (0, 6)\t0.24543855687841593\n",
            "  (1, 16)\t0.39624495215024286\n",
            "  (1, 7)\t0.39624495215024286\n",
            "  (1, 12)\t0.39624495215024286\n",
            "  (1, 10)\t0.3013544995034864\n",
            "  (1, 8)\t0.2340286519091622\n",
            "  (1, 15)\t0.2340286519091622\n",
            "  (1, 14)\t0.2340286519091622\n",
            "  (1, 17)\t0.4680573038183244\n",
            "  (1, 6)\t0.2340286519091622\n",
            "  (2, 3)\t0.3098560092999078\n",
            "  (2, 4)\t0.3098560092999078\n",
            "  (2, 9)\t0.3098560092999078\n",
            "  (2, 1)\t0.3098560092999078\n",
            "  (2, 5)\t0.3098560092999078\n",
            "  (2, 11)\t0.3098560092999078\n",
            "  (2, 10)\t0.23565348175165166\n",
            "  (2, 8)\t0.1830059506093466\n",
            "  (2, 15)\t0.3660119012186932\n",
            "  (2, 14)\t0.1830059506093466\n",
            "  (2, 17)\t0.3660119012186932\n",
            "  (2, 6)\t0.1830059506093466\n"
          ],
          "name": "stdout"
        }
      ]
    },
    {
      "cell_type": "markdown",
      "metadata": {
        "id": "Uux-qS0STDf4"
      },
      "source": [
        "### 3) (밀집)행렬 변환"
      ]
    },
    {
      "cell_type": "code",
      "metadata": {
        "colab": {
          "base_uri": "https://localhost:8080/"
        },
        "id": "4ruyg0B3TAkG",
        "outputId": "e8cfe087-d69a-477f-f483-bfaa797e83a6"
      },
      "source": [
        "feature_vec_dense = feature_vec_simple.todense() \n",
        "\n",
        "print(feature_vec_dense)"
      ],
      "execution_count": 4,
      "outputs": [
        {
          "output_type": "stream",
          "text": [
            "[[0.4155636  0.         0.4155636  0.         0.         0.\n",
            "  0.24543856 0.         0.24543856 0.         0.         0.\n",
            "  0.         0.4155636  0.24543856 0.49087711 0.         0.24543856]\n",
            " [0.         0.         0.         0.         0.         0.\n",
            "  0.23402865 0.39624495 0.23402865 0.         0.3013545  0.\n",
            "  0.39624495 0.         0.23402865 0.23402865 0.39624495 0.4680573 ]\n",
            " [0.         0.30985601 0.         0.30985601 0.30985601 0.30985601\n",
            "  0.18300595 0.         0.18300595 0.30985601 0.23565348 0.30985601\n",
            "  0.         0.         0.18300595 0.3660119  0.         0.3660119 ]]\n"
          ],
          "name": "stdout"
        }
      ]
    },
    {
      "cell_type": "markdown",
      "metadata": {
        "id": "d7caK3yoTINb"
      },
      "source": [
        "### 4) 개별 Feature Vector 추출"
      ]
    },
    {
      "cell_type": "code",
      "metadata": {
        "colab": {
          "base_uri": "https://localhost:8080/"
        },
        "id": "GRZPq8sgTGma",
        "outputId": "e967613e-7aac-4e14-d4a3-ba74a7bbb95b"
      },
      "source": [
        "import numpy as np\n",
        "\n",
        "vec1 = np.array(feature_vec_dense[0]).reshape(-1,) \n",
        "vec2 = np.array(feature_vec_dense[1]).reshape(-1,) \n",
        "vec3 = np.array(feature_vec_dense[2]).reshape(-1,)\n",
        "\n",
        "vec1, vec2, vec3"
      ],
      "execution_count": 5,
      "outputs": [
        {
          "output_type": "execute_result",
          "data": {
            "text/plain": [
              "(array([0.4155636 , 0.        , 0.4155636 , 0.        , 0.        ,\n",
              "        0.        , 0.24543856, 0.        , 0.24543856, 0.        ,\n",
              "        0.        , 0.        , 0.        , 0.4155636 , 0.24543856,\n",
              "        0.49087711, 0.        , 0.24543856]),\n",
              " array([0.        , 0.        , 0.        , 0.        , 0.        ,\n",
              "        0.        , 0.23402865, 0.39624495, 0.23402865, 0.        ,\n",
              "        0.3013545 , 0.        , 0.39624495, 0.        , 0.23402865,\n",
              "        0.23402865, 0.39624495, 0.4680573 ]),\n",
              " array([0.        , 0.30985601, 0.        , 0.30985601, 0.30985601,\n",
              "        0.30985601, 0.18300595, 0.        , 0.18300595, 0.30985601,\n",
              "        0.23565348, 0.30985601, 0.        , 0.        , 0.18300595,\n",
              "        0.3660119 , 0.        , 0.3660119 ]))"
            ]
          },
          "metadata": {
            "tags": []
          },
          "execution_count": 5
        }
      ]
    },
    {
      "cell_type": "markdown",
      "metadata": {
        "id": "U90VQ1CHTRqc"
      },
      "source": [
        "## 2.cos_similarity( )\n",
        "* 두 벡터의 내적을 총 벡터 크기로 정규화(L2 Norm) \n",
        "  * dot_product : 두 벡터의 내적 \n",
        "  * l2_norm : 총 벡터 크기의 합"
      ]
    },
    {
      "cell_type": "code",
      "metadata": {
        "id": "nZ83uXH8TPuB"
      },
      "source": [
        "import numpy as np\n",
        "\n",
        "def cos_similarity(v1, v2): \n",
        "  dot_product = np.dot(v1, v2) \n",
        "  l2_norm = (np.sqrt(sum(np.square(v1))) * np.sqrt(sum(np.square(v2)))) \n",
        "  similarity = dot_product / l2_norm\n",
        "\n",
        "  return similarity"
      ],
      "execution_count": 6,
      "outputs": []
    },
    {
      "cell_type": "markdown",
      "metadata": {
        "id": "hFhsQB51TfV6"
      },
      "source": [
        "### 1) 'vec1', 'vec2' 코사인 유사도"
      ]
    },
    {
      "cell_type": "code",
      "metadata": {
        "colab": {
          "base_uri": "https://localhost:8080/"
        },
        "id": "W3kqjZIuTeLO",
        "outputId": "4da4ad2e-aa2e-45ac-88c9-c10e40c6ab07"
      },
      "source": [
        "similarity_simple = cos_similarity(vec1, vec2) \n",
        "\n",
        "print('vec1, vec2 코사인 유사도: {0:.5f}'.format(similarity_simple))"
      ],
      "execution_count": 7,
      "outputs": [
        {
          "output_type": "stream",
          "text": [
            "vec1, vec2 코사인 유사도: 0.40208\n"
          ],
          "name": "stdout"
        }
      ]
    },
    {
      "cell_type": "markdown",
      "metadata": {
        "id": "ukwVMGBzTlgi"
      },
      "source": [
        "### 2) 'vec1', 'vec3' 코사인 유사도"
      ]
    },
    {
      "cell_type": "code",
      "metadata": {
        "colab": {
          "base_uri": "https://localhost:8080/"
        },
        "id": "blA8O6rlTjBr",
        "outputId": "30591aa8-3c37-4c2c-da60-26ef5df3cf03"
      },
      "source": [
        "similarity_simple = cos_similarity(vec1, vec3) \n",
        "\n",
        "print('vec1, vec3 코사인 유사도: {0:.5f}'.format(similarity_simple))"
      ],
      "execution_count": 8,
      "outputs": [
        {
          "output_type": "stream",
          "text": [
            "vec1, vec3 코사인 유사도: 0.40425\n"
          ],
          "name": "stdout"
        }
      ]
    },
    {
      "cell_type": "markdown",
      "metadata": {
        "id": "Mo9HjJlKTpi5"
      },
      "source": [
        "### 3) 'vec2', 'vec3' 코사인 유사도"
      ]
    },
    {
      "cell_type": "code",
      "metadata": {
        "colab": {
          "base_uri": "https://localhost:8080/"
        },
        "id": "Pj_zaZMIToPN",
        "outputId": "bebe58d2-0abd-43af-e66c-cfe6dfdea5d9"
      },
      "source": [
        "similarity_simple = cos_similarity(vec2, vec3) \n",
        "\n",
        "print('vec2, vec3 코사인 유사도: {0:.5f}'.format(similarity_simple))"
      ],
      "execution_count": 9,
      "outputs": [
        {
          "output_type": "stream",
          "text": [
            "vec2, vec3 코사인 유사도: 0.45647\n"
          ],
          "name": "stdout"
        }
      ]
    },
    {
      "cell_type": "markdown",
      "metadata": {
        "id": "s71ol5WqTuOO"
      },
      "source": [
        "## 3.sklearn - cosine_similarity( )"
      ]
    },
    {
      "cell_type": "code",
      "metadata": {
        "colab": {
          "base_uri": "https://localhost:8080/"
        },
        "id": "67a5mmAfTsQH",
        "outputId": "4de3b79a-59d7-4b50-c376-edce4bb1b4ba"
      },
      "source": [
        "from sklearn.metrics.pairwise import cosine_similarity \n",
        "\n",
        "cosine_similarity(feature_vec_simple[0], feature_vec_simple)"
      ],
      "execution_count": 10,
      "outputs": [
        {
          "output_type": "execute_result",
          "data": {
            "text/plain": [
              "array([[1.        , 0.40207758, 0.40425045]])"
            ]
          },
          "metadata": {
            "tags": []
          },
          "execution_count": 10
        }
      ]
    },
    {
      "cell_type": "code",
      "metadata": {
        "colab": {
          "base_uri": "https://localhost:8080/"
        },
        "id": "KAMOD09pT2PR",
        "outputId": "3784d203-865a-4d58-99d5-a01e8103a8e0"
      },
      "source": [
        "cosine_similarity(feature_vec_simple[0], feature_vec_simple[1:])"
      ],
      "execution_count": 11,
      "outputs": [
        {
          "output_type": "execute_result",
          "data": {
            "text/plain": [
              "array([[0.40207758, 0.40425045]])"
            ]
          },
          "metadata": {
            "tags": []
          },
          "execution_count": 11
        }
      ]
    },
    {
      "cell_type": "code",
      "metadata": {
        "colab": {
          "base_uri": "https://localhost:8080/"
        },
        "id": "11Yo_HqbT3hc",
        "outputId": "d06ab0de-2c53-48a3-b4e0-263843339320"
      },
      "source": [
        "cosine_similarity(feature_vec_simple, feature_vec_simple)"
      ],
      "execution_count": 12,
      "outputs": [
        {
          "output_type": "execute_result",
          "data": {
            "text/plain": [
              "array([[1.        , 0.40207758, 0.40425045],\n",
              "       [0.40207758, 1.        , 0.45647296],\n",
              "       [0.40425045, 0.45647296, 1.        ]])"
            ]
          },
          "metadata": {
            "tags": []
          },
          "execution_count": 12
        }
      ]
    },
    {
      "cell_type": "markdown",
      "metadata": {
        "id": "U2xdLWrIT6oG"
      },
      "source": [
        "## 4.Topic Problem"
      ]
    },
    {
      "cell_type": "markdown",
      "metadata": {
        "id": "3-yrVNNpT8hZ"
      },
      "source": [
        "### 1) 문장 지정"
      ]
    },
    {
      "cell_type": "code",
      "metadata": {
        "id": "bdDXBJ9XT5N8"
      },
      "source": [
        "sent_list = ['I eat an apple' , 'Koo have fruit', 'I sell an apple']"
      ],
      "execution_count": 13,
      "outputs": []
    },
    {
      "cell_type": "markdown",
      "metadata": {
        "id": "IkfybZw5UA4H"
      },
      "source": [
        "### 2) 벡터 변환"
      ]
    },
    {
      "cell_type": "code",
      "metadata": {
        "id": "rrOLGcPkT_Pe"
      },
      "source": [
        "tfidf_vec = TfidfVectorizer() \n",
        "feature_vec = tfidf_vec.fit_transform(sent_list)"
      ],
      "execution_count": 14,
      "outputs": []
    },
    {
      "cell_type": "markdown",
      "metadata": {
        "id": "a67Frjm4UH2r"
      },
      "source": [
        "### 3) 문장1 vs. 문장2"
      ]
    },
    {
      "cell_type": "code",
      "metadata": {
        "colab": {
          "base_uri": "https://localhost:8080/"
        },
        "id": "jv_470FOUD20",
        "outputId": "7bd06d09-16c2-46d9-b0ad-521291687a1e"
      },
      "source": [
        "cosine_similarity(feature_vec[0], feature_vec[1])"
      ],
      "execution_count": 15,
      "outputs": [
        {
          "output_type": "execute_result",
          "data": {
            "text/plain": [
              "array([[0.]])"
            ]
          },
          "metadata": {
            "tags": []
          },
          "execution_count": 15
        }
      ]
    },
    {
      "cell_type": "markdown",
      "metadata": {
        "id": "Ca7aZlUKULy5"
      },
      "source": [
        "### 4) 문자1 vs. 문장3"
      ]
    },
    {
      "cell_type": "code",
      "metadata": {
        "colab": {
          "base_uri": "https://localhost:8080/"
        },
        "id": "xbtOLeqqUKOA",
        "outputId": "eb313ef8-8485-4839-e6d3-0e9696c539a7"
      },
      "source": [
        "cosine_similarity(feature_vec[0], feature_vec[2])"
      ],
      "execution_count": 16,
      "outputs": [
        {
          "output_type": "execute_result",
          "data": {
            "text/plain": [
              "array([[0.53634991]])"
            ]
          },
          "metadata": {
            "tags": []
          },
          "execution_count": 16
        }
      ]
    },
    {
      "cell_type": "markdown",
      "metadata": {
        "id": "Sxg7y1udUSw8"
      },
      "source": [
        "## 5.Word2Vec"
      ]
    },
    {
      "cell_type": "code",
      "metadata": {
        "id": "JRMXpyE3UVVa"
      },
      "source": [
        "# Load Pretrained Word2Vec \n",
        "import tensorflow_hub as hub \n",
        "\n",
        "embed = hub.load('https://tfhub.dev/google/Wiki-words-250/2')"
      ],
      "execution_count": 17,
      "outputs": []
    },
    {
      "cell_type": "code",
      "metadata": {
        "id": "UAqcoLF0UYMQ"
      },
      "source": [
        "words = ['apple', 'eat', 'fruit', 'have', 'sell']"
      ],
      "execution_count": 18,
      "outputs": []
    },
    {
      "cell_type": "code",
      "metadata": {
        "id": "5zvZu8zLUbWi"
      },
      "source": [
        "embeddings = embed(words)"
      ],
      "execution_count": 19,
      "outputs": []
    },
    {
      "cell_type": "code",
      "metadata": {
        "colab": {
          "base_uri": "https://localhost:8080/"
        },
        "id": "OtfVlMpZUgIy",
        "outputId": "448447a4-a7dc-463a-855b-e435494bd922"
      },
      "source": [
        "import numpy as np\n",
        "\n",
        "for i in range(len(words)): \n",
        "  for j in range(i,len(words)): \n",
        "    print(\"(\",words[i], \",\", words[j],\")\",np.inner(embeddings[i], embeddings[j]))"
      ],
      "execution_count": 20,
      "outputs": [
        {
          "output_type": "stream",
          "text": [
            "( apple , apple ) 1.0\n",
            "( apple , eat ) 0.48909307\n",
            "( apple , fruit ) 0.78753763\n",
            "( apple , have ) 0.13348329\n",
            "( apple , sell ) 0.106232405\n",
            "( eat , eat ) 1.0\n",
            "( eat , fruit ) 0.53294003\n",
            "( eat , have ) 0.3232242\n",
            "( eat , sell ) 0.2691978\n",
            "( fruit , fruit ) 1.0\n",
            "( fruit , have ) 0.13598028\n",
            "( fruit , sell ) 0.11212408\n",
            "( have , have ) 1.0\n",
            "( have , sell ) 0.21071003\n",
            "( sell , sell ) 1.0\n"
          ],
          "name": "stdout"
        }
      ]
    },
    {
      "cell_type": "markdown",
      "metadata": {
        "id": "TEeBgqraUoBw"
      },
      "source": [
        "본 내용은 2021/03/30(화)에 학습한 내용입니다."
      ]
    }
  ]
}
{
  "nbformat": 4,
  "nbformat_minor": 0,
  "metadata": {
    "colab": {
      "name": "Keras_iris_Modeling.ipynb",
      "provenance": [],
      "authorship_tag": "ABX9TyMSlTq56c9z0h9l9ep01PGy",
      "include_colab_link": true
    },
    "kernelspec": {
      "name": "python3",
      "display_name": "Python 3"
    }
  },
  "cells": [
    {
      "cell_type": "markdown",
      "metadata": {
        "id": "view-in-github",
        "colab_type": "text"
      },
      "source": [
        "<a href=\"https://colab.research.google.com/github/jungmin0710/K-digital-PythonDeepLearning/blob/main/Keras_iris_Modeling.ipynb\" target=\"_parent\"><img src=\"https://colab.research.google.com/assets/colab-badge.svg\" alt=\"Open In Colab\"/></a>"
      ]
    },
    {
      "cell_type": "markdown",
      "metadata": {
        "id": "5u4ka9kd_q4N"
      },
      "source": [
        "# Keras iris Modeling"
      ]
    },
    {
      "cell_type": "code",
      "metadata": {
        "id": "PN_TpySb_piT"
      },
      "source": [
        "import warnings\r\n",
        "warnings.filterwarnings('ignore')"
      ],
      "execution_count": null,
      "outputs": []
    },
    {
      "cell_type": "markdown",
      "metadata": {
        "id": "k9D0An1vAJlw"
      },
      "source": [
        "* 실습용 데이터 설정\r\n",
        "  * iris.csv"
      ]
    },
    {
      "cell_type": "code",
      "metadata": {
        "id": "dlTEFzHCAH-O"
      },
      "source": [
        "import seaborn as sns\r\n",
        "\r\n",
        "iris = sns.load_dataset('iris')"
      ],
      "execution_count": null,
      "outputs": []
    },
    {
      "cell_type": "markdown",
      "metadata": {
        "id": "hFJw_TuXAQu4"
      },
      "source": [
        "* pandas DataFrame"
      ]
    },
    {
      "cell_type": "code",
      "metadata": {
        "colab": {
          "base_uri": "https://localhost:8080/"
        },
        "id": "oG6kF37aAP8C",
        "outputId": "b054ffe7-15bc-482d-9c9a-5908e7de963d"
      },
      "source": [
        "iris.info()"
      ],
      "execution_count": null,
      "outputs": [
        {
          "output_type": "stream",
          "text": [
            "<class 'pandas.core.frame.DataFrame'>\n",
            "RangeIndex: 150 entries, 0 to 149\n",
            "Data columns (total 5 columns):\n",
            " #   Column        Non-Null Count  Dtype  \n",
            "---  ------        --------------  -----  \n",
            " 0   sepal_length  150 non-null    float64\n",
            " 1   sepal_width   150 non-null    float64\n",
            " 2   petal_length  150 non-null    float64\n",
            " 3   petal_width   150 non-null    float64\n",
            " 4   species       150 non-null    object \n",
            "dtypes: float64(4), object(1)\n",
            "memory usage: 6.0+ KB\n"
          ],
          "name": "stdout"
        }
      ]
    },
    {
      "cell_type": "code",
      "metadata": {
        "colab": {
          "base_uri": "https://localhost:8080/",
          "height": 194
        },
        "id": "jSN-BHeLATRk",
        "outputId": "8c352f6e-59c1-4093-a92f-f19177b91fdf"
      },
      "source": [
        "iris.head()"
      ],
      "execution_count": null,
      "outputs": [
        {
          "output_type": "execute_result",
          "data": {
            "text/html": [
              "<div>\n",
              "<style scoped>\n",
              "    .dataframe tbody tr th:only-of-type {\n",
              "        vertical-align: middle;\n",
              "    }\n",
              "\n",
              "    .dataframe tbody tr th {\n",
              "        vertical-align: top;\n",
              "    }\n",
              "\n",
              "    .dataframe thead th {\n",
              "        text-align: right;\n",
              "    }\n",
              "</style>\n",
              "<table border=\"1\" class=\"dataframe\">\n",
              "  <thead>\n",
              "    <tr style=\"text-align: right;\">\n",
              "      <th></th>\n",
              "      <th>sepal_length</th>\n",
              "      <th>sepal_width</th>\n",
              "      <th>petal_length</th>\n",
              "      <th>petal_width</th>\n",
              "      <th>species</th>\n",
              "    </tr>\n",
              "  </thead>\n",
              "  <tbody>\n",
              "    <tr>\n",
              "      <th>0</th>\n",
              "      <td>5.1</td>\n",
              "      <td>3.5</td>\n",
              "      <td>1.4</td>\n",
              "      <td>0.2</td>\n",
              "      <td>setosa</td>\n",
              "    </tr>\n",
              "    <tr>\n",
              "      <th>1</th>\n",
              "      <td>4.9</td>\n",
              "      <td>3.0</td>\n",
              "      <td>1.4</td>\n",
              "      <td>0.2</td>\n",
              "      <td>setosa</td>\n",
              "    </tr>\n",
              "    <tr>\n",
              "      <th>2</th>\n",
              "      <td>4.7</td>\n",
              "      <td>3.2</td>\n",
              "      <td>1.3</td>\n",
              "      <td>0.2</td>\n",
              "      <td>setosa</td>\n",
              "    </tr>\n",
              "    <tr>\n",
              "      <th>3</th>\n",
              "      <td>4.6</td>\n",
              "      <td>3.1</td>\n",
              "      <td>1.5</td>\n",
              "      <td>0.2</td>\n",
              "      <td>setosa</td>\n",
              "    </tr>\n",
              "    <tr>\n",
              "      <th>4</th>\n",
              "      <td>5.0</td>\n",
              "      <td>3.6</td>\n",
              "      <td>1.4</td>\n",
              "      <td>0.2</td>\n",
              "      <td>setosa</td>\n",
              "    </tr>\n",
              "  </tbody>\n",
              "</table>\n",
              "</div>"
            ],
            "text/plain": [
              "   sepal_length  sepal_width  petal_length  petal_width species\n",
              "0           5.1          3.5           1.4          0.2  setosa\n",
              "1           4.9          3.0           1.4          0.2  setosa\n",
              "2           4.7          3.2           1.3          0.2  setosa\n",
              "3           4.6          3.1           1.5          0.2  setosa\n",
              "4           5.0          3.6           1.4          0.2  setosa"
            ]
          },
          "metadata": {
            "tags": []
          },
          "execution_count": 4
        }
      ]
    },
    {
      "cell_type": "markdown",
      "metadata": {
        "id": "gucFmfngDGvD"
      },
      "source": [
        "## 1.Data Preprocessing\r\n",
        "### 1)iris.Species 빈도분석\r\n",
        "* Species : setosa, virginica, versicolor"
      ]
    },
    {
      "cell_type": "code",
      "metadata": {
        "id": "ZxU0SEYOApHz",
        "colab": {
          "base_uri": "https://localhost:8080/"
        },
        "outputId": "03360f4b-34fd-4aea-995c-7a0891a5315d"
      },
      "source": [
        "iris.species.value_counts()"
      ],
      "execution_count": 5,
      "outputs": [
        {
          "output_type": "execute_result",
          "data": {
            "text/plain": [
              "versicolor    50\n",
              "virginica     50\n",
              "setosa        50\n",
              "Name: species, dtype: int64"
            ]
          },
          "metadata": {
            "tags": []
          },
          "execution_count": 5
        }
      ]
    },
    {
      "cell_type": "markdown",
      "metadata": {
        "id": "ujXqPb3iDSP-"
      },
      "source": [
        "### 2)DataFrame to Array & Casting"
      ]
    },
    {
      "cell_type": "code",
      "metadata": {
        "colab": {
          "base_uri": "https://localhost:8080/"
        },
        "id": "07OFctRiDQW3",
        "outputId": "f02f47e6-6f39-4c53-949f-f9520a399b6e"
      },
      "source": [
        "iris_AR = iris.values\r\n",
        "\r\n",
        "iris_AR"
      ],
      "execution_count": 6,
      "outputs": [
        {
          "output_type": "execute_result",
          "data": {
            "text/plain": [
              "array([[5.1, 3.5, 1.4, 0.2, 'setosa'],\n",
              "       [4.9, 3.0, 1.4, 0.2, 'setosa'],\n",
              "       [4.7, 3.2, 1.3, 0.2, 'setosa'],\n",
              "       [4.6, 3.1, 1.5, 0.2, 'setosa'],\n",
              "       [5.0, 3.6, 1.4, 0.2, 'setosa'],\n",
              "       [5.4, 3.9, 1.7, 0.4, 'setosa'],\n",
              "       [4.6, 3.4, 1.4, 0.3, 'setosa'],\n",
              "       [5.0, 3.4, 1.5, 0.2, 'setosa'],\n",
              "       [4.4, 2.9, 1.4, 0.2, 'setosa'],\n",
              "       [4.9, 3.1, 1.5, 0.1, 'setosa'],\n",
              "       [5.4, 3.7, 1.5, 0.2, 'setosa'],\n",
              "       [4.8, 3.4, 1.6, 0.2, 'setosa'],\n",
              "       [4.8, 3.0, 1.4, 0.1, 'setosa'],\n",
              "       [4.3, 3.0, 1.1, 0.1, 'setosa'],\n",
              "       [5.8, 4.0, 1.2, 0.2, 'setosa'],\n",
              "       [5.7, 4.4, 1.5, 0.4, 'setosa'],\n",
              "       [5.4, 3.9, 1.3, 0.4, 'setosa'],\n",
              "       [5.1, 3.5, 1.4, 0.3, 'setosa'],\n",
              "       [5.7, 3.8, 1.7, 0.3, 'setosa'],\n",
              "       [5.1, 3.8, 1.5, 0.3, 'setosa'],\n",
              "       [5.4, 3.4, 1.7, 0.2, 'setosa'],\n",
              "       [5.1, 3.7, 1.5, 0.4, 'setosa'],\n",
              "       [4.6, 3.6, 1.0, 0.2, 'setosa'],\n",
              "       [5.1, 3.3, 1.7, 0.5, 'setosa'],\n",
              "       [4.8, 3.4, 1.9, 0.2, 'setosa'],\n",
              "       [5.0, 3.0, 1.6, 0.2, 'setosa'],\n",
              "       [5.0, 3.4, 1.6, 0.4, 'setosa'],\n",
              "       [5.2, 3.5, 1.5, 0.2, 'setosa'],\n",
              "       [5.2, 3.4, 1.4, 0.2, 'setosa'],\n",
              "       [4.7, 3.2, 1.6, 0.2, 'setosa'],\n",
              "       [4.8, 3.1, 1.6, 0.2, 'setosa'],\n",
              "       [5.4, 3.4, 1.5, 0.4, 'setosa'],\n",
              "       [5.2, 4.1, 1.5, 0.1, 'setosa'],\n",
              "       [5.5, 4.2, 1.4, 0.2, 'setosa'],\n",
              "       [4.9, 3.1, 1.5, 0.2, 'setosa'],\n",
              "       [5.0, 3.2, 1.2, 0.2, 'setosa'],\n",
              "       [5.5, 3.5, 1.3, 0.2, 'setosa'],\n",
              "       [4.9, 3.6, 1.4, 0.1, 'setosa'],\n",
              "       [4.4, 3.0, 1.3, 0.2, 'setosa'],\n",
              "       [5.1, 3.4, 1.5, 0.2, 'setosa'],\n",
              "       [5.0, 3.5, 1.3, 0.3, 'setosa'],\n",
              "       [4.5, 2.3, 1.3, 0.3, 'setosa'],\n",
              "       [4.4, 3.2, 1.3, 0.2, 'setosa'],\n",
              "       [5.0, 3.5, 1.6, 0.6, 'setosa'],\n",
              "       [5.1, 3.8, 1.9, 0.4, 'setosa'],\n",
              "       [4.8, 3.0, 1.4, 0.3, 'setosa'],\n",
              "       [5.1, 3.8, 1.6, 0.2, 'setosa'],\n",
              "       [4.6, 3.2, 1.4, 0.2, 'setosa'],\n",
              "       [5.3, 3.7, 1.5, 0.2, 'setosa'],\n",
              "       [5.0, 3.3, 1.4, 0.2, 'setosa'],\n",
              "       [7.0, 3.2, 4.7, 1.4, 'versicolor'],\n",
              "       [6.4, 3.2, 4.5, 1.5, 'versicolor'],\n",
              "       [6.9, 3.1, 4.9, 1.5, 'versicolor'],\n",
              "       [5.5, 2.3, 4.0, 1.3, 'versicolor'],\n",
              "       [6.5, 2.8, 4.6, 1.5, 'versicolor'],\n",
              "       [5.7, 2.8, 4.5, 1.3, 'versicolor'],\n",
              "       [6.3, 3.3, 4.7, 1.6, 'versicolor'],\n",
              "       [4.9, 2.4, 3.3, 1.0, 'versicolor'],\n",
              "       [6.6, 2.9, 4.6, 1.3, 'versicolor'],\n",
              "       [5.2, 2.7, 3.9, 1.4, 'versicolor'],\n",
              "       [5.0, 2.0, 3.5, 1.0, 'versicolor'],\n",
              "       [5.9, 3.0, 4.2, 1.5, 'versicolor'],\n",
              "       [6.0, 2.2, 4.0, 1.0, 'versicolor'],\n",
              "       [6.1, 2.9, 4.7, 1.4, 'versicolor'],\n",
              "       [5.6, 2.9, 3.6, 1.3, 'versicolor'],\n",
              "       [6.7, 3.1, 4.4, 1.4, 'versicolor'],\n",
              "       [5.6, 3.0, 4.5, 1.5, 'versicolor'],\n",
              "       [5.8, 2.7, 4.1, 1.0, 'versicolor'],\n",
              "       [6.2, 2.2, 4.5, 1.5, 'versicolor'],\n",
              "       [5.6, 2.5, 3.9, 1.1, 'versicolor'],\n",
              "       [5.9, 3.2, 4.8, 1.8, 'versicolor'],\n",
              "       [6.1, 2.8, 4.0, 1.3, 'versicolor'],\n",
              "       [6.3, 2.5, 4.9, 1.5, 'versicolor'],\n",
              "       [6.1, 2.8, 4.7, 1.2, 'versicolor'],\n",
              "       [6.4, 2.9, 4.3, 1.3, 'versicolor'],\n",
              "       [6.6, 3.0, 4.4, 1.4, 'versicolor'],\n",
              "       [6.8, 2.8, 4.8, 1.4, 'versicolor'],\n",
              "       [6.7, 3.0, 5.0, 1.7, 'versicolor'],\n",
              "       [6.0, 2.9, 4.5, 1.5, 'versicolor'],\n",
              "       [5.7, 2.6, 3.5, 1.0, 'versicolor'],\n",
              "       [5.5, 2.4, 3.8, 1.1, 'versicolor'],\n",
              "       [5.5, 2.4, 3.7, 1.0, 'versicolor'],\n",
              "       [5.8, 2.7, 3.9, 1.2, 'versicolor'],\n",
              "       [6.0, 2.7, 5.1, 1.6, 'versicolor'],\n",
              "       [5.4, 3.0, 4.5, 1.5, 'versicolor'],\n",
              "       [6.0, 3.4, 4.5, 1.6, 'versicolor'],\n",
              "       [6.7, 3.1, 4.7, 1.5, 'versicolor'],\n",
              "       [6.3, 2.3, 4.4, 1.3, 'versicolor'],\n",
              "       [5.6, 3.0, 4.1, 1.3, 'versicolor'],\n",
              "       [5.5, 2.5, 4.0, 1.3, 'versicolor'],\n",
              "       [5.5, 2.6, 4.4, 1.2, 'versicolor'],\n",
              "       [6.1, 3.0, 4.6, 1.4, 'versicolor'],\n",
              "       [5.8, 2.6, 4.0, 1.2, 'versicolor'],\n",
              "       [5.0, 2.3, 3.3, 1.0, 'versicolor'],\n",
              "       [5.6, 2.7, 4.2, 1.3, 'versicolor'],\n",
              "       [5.7, 3.0, 4.2, 1.2, 'versicolor'],\n",
              "       [5.7, 2.9, 4.2, 1.3, 'versicolor'],\n",
              "       [6.2, 2.9, 4.3, 1.3, 'versicolor'],\n",
              "       [5.1, 2.5, 3.0, 1.1, 'versicolor'],\n",
              "       [5.7, 2.8, 4.1, 1.3, 'versicolor'],\n",
              "       [6.3, 3.3, 6.0, 2.5, 'virginica'],\n",
              "       [5.8, 2.7, 5.1, 1.9, 'virginica'],\n",
              "       [7.1, 3.0, 5.9, 2.1, 'virginica'],\n",
              "       [6.3, 2.9, 5.6, 1.8, 'virginica'],\n",
              "       [6.5, 3.0, 5.8, 2.2, 'virginica'],\n",
              "       [7.6, 3.0, 6.6, 2.1, 'virginica'],\n",
              "       [4.9, 2.5, 4.5, 1.7, 'virginica'],\n",
              "       [7.3, 2.9, 6.3, 1.8, 'virginica'],\n",
              "       [6.7, 2.5, 5.8, 1.8, 'virginica'],\n",
              "       [7.2, 3.6, 6.1, 2.5, 'virginica'],\n",
              "       [6.5, 3.2, 5.1, 2.0, 'virginica'],\n",
              "       [6.4, 2.7, 5.3, 1.9, 'virginica'],\n",
              "       [6.8, 3.0, 5.5, 2.1, 'virginica'],\n",
              "       [5.7, 2.5, 5.0, 2.0, 'virginica'],\n",
              "       [5.8, 2.8, 5.1, 2.4, 'virginica'],\n",
              "       [6.4, 3.2, 5.3, 2.3, 'virginica'],\n",
              "       [6.5, 3.0, 5.5, 1.8, 'virginica'],\n",
              "       [7.7, 3.8, 6.7, 2.2, 'virginica'],\n",
              "       [7.7, 2.6, 6.9, 2.3, 'virginica'],\n",
              "       [6.0, 2.2, 5.0, 1.5, 'virginica'],\n",
              "       [6.9, 3.2, 5.7, 2.3, 'virginica'],\n",
              "       [5.6, 2.8, 4.9, 2.0, 'virginica'],\n",
              "       [7.7, 2.8, 6.7, 2.0, 'virginica'],\n",
              "       [6.3, 2.7, 4.9, 1.8, 'virginica'],\n",
              "       [6.7, 3.3, 5.7, 2.1, 'virginica'],\n",
              "       [7.2, 3.2, 6.0, 1.8, 'virginica'],\n",
              "       [6.2, 2.8, 4.8, 1.8, 'virginica'],\n",
              "       [6.1, 3.0, 4.9, 1.8, 'virginica'],\n",
              "       [6.4, 2.8, 5.6, 2.1, 'virginica'],\n",
              "       [7.2, 3.0, 5.8, 1.6, 'virginica'],\n",
              "       [7.4, 2.8, 6.1, 1.9, 'virginica'],\n",
              "       [7.9, 3.8, 6.4, 2.0, 'virginica'],\n",
              "       [6.4, 2.8, 5.6, 2.2, 'virginica'],\n",
              "       [6.3, 2.8, 5.1, 1.5, 'virginica'],\n",
              "       [6.1, 2.6, 5.6, 1.4, 'virginica'],\n",
              "       [7.7, 3.0, 6.1, 2.3, 'virginica'],\n",
              "       [6.3, 3.4, 5.6, 2.4, 'virginica'],\n",
              "       [6.4, 3.1, 5.5, 1.8, 'virginica'],\n",
              "       [6.0, 3.0, 4.8, 1.8, 'virginica'],\n",
              "       [6.9, 3.1, 5.4, 2.1, 'virginica'],\n",
              "       [6.7, 3.1, 5.6, 2.4, 'virginica'],\n",
              "       [6.9, 3.1, 5.1, 2.3, 'virginica'],\n",
              "       [5.8, 2.7, 5.1, 1.9, 'virginica'],\n",
              "       [6.8, 3.2, 5.9, 2.3, 'virginica'],\n",
              "       [6.7, 3.3, 5.7, 2.5, 'virginica'],\n",
              "       [6.7, 3.0, 5.2, 2.3, 'virginica'],\n",
              "       [6.3, 2.5, 5.0, 1.9, 'virginica'],\n",
              "       [6.5, 3.0, 5.2, 2.0, 'virginica'],\n",
              "       [6.2, 3.4, 5.4, 2.3, 'virginica'],\n",
              "       [5.9, 3.0, 5.1, 1.8, 'virginica']], dtype=object)"
            ]
          },
          "metadata": {
            "tags": []
          },
          "execution_count": 6
        }
      ]
    },
    {
      "cell_type": "markdown",
      "metadata": {
        "id": "VMO7m9laDdom"
      },
      "source": [
        "* object to float"
      ]
    },
    {
      "cell_type": "code",
      "metadata": {
        "colab": {
          "base_uri": "https://localhost:8080/"
        },
        "id": "I6-yvti7DX_X",
        "outputId": "b45c32fa-d3b6-450f-fc25-345360788e96"
      },
      "source": [
        "AR_X = iris_AR[:,0:4].astype(float)\r\n",
        "AR_y = iris_AR[:,4]\r\n",
        "\r\n",
        "AR_X.shape, AR_y.shape"
      ],
      "execution_count": 7,
      "outputs": [
        {
          "output_type": "execute_result",
          "data": {
            "text/plain": [
              "((150, 4), (150,))"
            ]
          },
          "metadata": {
            "tags": []
          },
          "execution_count": 7
        }
      ]
    },
    {
      "cell_type": "markdown",
      "metadata": {
        "id": "pjNXsDrXDrHd"
      },
      "source": [
        "### 3)One Hot Encoding with sklearn & Keras\r\n",
        "* LabelEncoder()\r\n",
        "  * ['setosa','verginica','virsicolor'] to [0,1,2]"
      ]
    },
    {
      "cell_type": "code",
      "metadata": {
        "colab": {
          "base_uri": "https://localhost:8080/"
        },
        "id": "chfNZo8NDoVb",
        "outputId": "fdd41043-c364-4b50-f8f9-a135f547c223"
      },
      "source": [
        "from sklearn.preprocessing import LabelEncoder\r\n",
        "\r\n",
        "encoder = LabelEncoder()\r\n",
        "AR_yLBE = encoder.fit_transform(AR_y)\r\n",
        "\r\n",
        "AR_yLBE"
      ],
      "execution_count": 8,
      "outputs": [
        {
          "output_type": "execute_result",
          "data": {
            "text/plain": [
              "array([0, 0, 0, 0, 0, 0, 0, 0, 0, 0, 0, 0, 0, 0, 0, 0, 0, 0, 0, 0, 0, 0,\n",
              "       0, 0, 0, 0, 0, 0, 0, 0, 0, 0, 0, 0, 0, 0, 0, 0, 0, 0, 0, 0, 0, 0,\n",
              "       0, 0, 0, 0, 0, 0, 1, 1, 1, 1, 1, 1, 1, 1, 1, 1, 1, 1, 1, 1, 1, 1,\n",
              "       1, 1, 1, 1, 1, 1, 1, 1, 1, 1, 1, 1, 1, 1, 1, 1, 1, 1, 1, 1, 1, 1,\n",
              "       1, 1, 1, 1, 1, 1, 1, 1, 1, 1, 1, 1, 2, 2, 2, 2, 2, 2, 2, 2, 2, 2,\n",
              "       2, 2, 2, 2, 2, 2, 2, 2, 2, 2, 2, 2, 2, 2, 2, 2, 2, 2, 2, 2, 2, 2,\n",
              "       2, 2, 2, 2, 2, 2, 2, 2, 2, 2, 2, 2, 2, 2, 2, 2, 2, 2])"
            ]
          },
          "metadata": {
            "tags": []
          },
          "execution_count": 8
        }
      ]
    },
    {
      "cell_type": "markdown",
      "metadata": {
        "id": "5RkDMA3sEBMJ"
      },
      "source": [
        "* One-Hot Encoding - to_categorical()"
      ]
    },
    {
      "cell_type": "code",
      "metadata": {
        "colab": {
          "base_uri": "https://localhost:8080/"
        },
        "id": "fLOf5a_qD--3",
        "outputId": "a3f79afa-0c46-4157-ed5b-f76a8bbd982d"
      },
      "source": [
        "import tensorflow as tf\r\n",
        "\r\n",
        "AR_yOHE = tf.keras.utils.to_categorical(AR_yLBE)\r\n",
        "\r\n",
        "AR_yOHE"
      ],
      "execution_count": 10,
      "outputs": [
        {
          "output_type": "execute_result",
          "data": {
            "text/plain": [
              "array([[1., 0., 0.],\n",
              "       [1., 0., 0.],\n",
              "       [1., 0., 0.],\n",
              "       [1., 0., 0.],\n",
              "       [1., 0., 0.],\n",
              "       [1., 0., 0.],\n",
              "       [1., 0., 0.],\n",
              "       [1., 0., 0.],\n",
              "       [1., 0., 0.],\n",
              "       [1., 0., 0.],\n",
              "       [1., 0., 0.],\n",
              "       [1., 0., 0.],\n",
              "       [1., 0., 0.],\n",
              "       [1., 0., 0.],\n",
              "       [1., 0., 0.],\n",
              "       [1., 0., 0.],\n",
              "       [1., 0., 0.],\n",
              "       [1., 0., 0.],\n",
              "       [1., 0., 0.],\n",
              "       [1., 0., 0.],\n",
              "       [1., 0., 0.],\n",
              "       [1., 0., 0.],\n",
              "       [1., 0., 0.],\n",
              "       [1., 0., 0.],\n",
              "       [1., 0., 0.],\n",
              "       [1., 0., 0.],\n",
              "       [1., 0., 0.],\n",
              "       [1., 0., 0.],\n",
              "       [1., 0., 0.],\n",
              "       [1., 0., 0.],\n",
              "       [1., 0., 0.],\n",
              "       [1., 0., 0.],\n",
              "       [1., 0., 0.],\n",
              "       [1., 0., 0.],\n",
              "       [1., 0., 0.],\n",
              "       [1., 0., 0.],\n",
              "       [1., 0., 0.],\n",
              "       [1., 0., 0.],\n",
              "       [1., 0., 0.],\n",
              "       [1., 0., 0.],\n",
              "       [1., 0., 0.],\n",
              "       [1., 0., 0.],\n",
              "       [1., 0., 0.],\n",
              "       [1., 0., 0.],\n",
              "       [1., 0., 0.],\n",
              "       [1., 0., 0.],\n",
              "       [1., 0., 0.],\n",
              "       [1., 0., 0.],\n",
              "       [1., 0., 0.],\n",
              "       [1., 0., 0.],\n",
              "       [0., 1., 0.],\n",
              "       [0., 1., 0.],\n",
              "       [0., 1., 0.],\n",
              "       [0., 1., 0.],\n",
              "       [0., 1., 0.],\n",
              "       [0., 1., 0.],\n",
              "       [0., 1., 0.],\n",
              "       [0., 1., 0.],\n",
              "       [0., 1., 0.],\n",
              "       [0., 1., 0.],\n",
              "       [0., 1., 0.],\n",
              "       [0., 1., 0.],\n",
              "       [0., 1., 0.],\n",
              "       [0., 1., 0.],\n",
              "       [0., 1., 0.],\n",
              "       [0., 1., 0.],\n",
              "       [0., 1., 0.],\n",
              "       [0., 1., 0.],\n",
              "       [0., 1., 0.],\n",
              "       [0., 1., 0.],\n",
              "       [0., 1., 0.],\n",
              "       [0., 1., 0.],\n",
              "       [0., 1., 0.],\n",
              "       [0., 1., 0.],\n",
              "       [0., 1., 0.],\n",
              "       [0., 1., 0.],\n",
              "       [0., 1., 0.],\n",
              "       [0., 1., 0.],\n",
              "       [0., 1., 0.],\n",
              "       [0., 1., 0.],\n",
              "       [0., 1., 0.],\n",
              "       [0., 1., 0.],\n",
              "       [0., 1., 0.],\n",
              "       [0., 1., 0.],\n",
              "       [0., 1., 0.],\n",
              "       [0., 1., 0.],\n",
              "       [0., 1., 0.],\n",
              "       [0., 1., 0.],\n",
              "       [0., 1., 0.],\n",
              "       [0., 1., 0.],\n",
              "       [0., 1., 0.],\n",
              "       [0., 1., 0.],\n",
              "       [0., 1., 0.],\n",
              "       [0., 1., 0.],\n",
              "       [0., 1., 0.],\n",
              "       [0., 1., 0.],\n",
              "       [0., 1., 0.],\n",
              "       [0., 1., 0.],\n",
              "       [0., 1., 0.],\n",
              "       [0., 1., 0.],\n",
              "       [0., 0., 1.],\n",
              "       [0., 0., 1.],\n",
              "       [0., 0., 1.],\n",
              "       [0., 0., 1.],\n",
              "       [0., 0., 1.],\n",
              "       [0., 0., 1.],\n",
              "       [0., 0., 1.],\n",
              "       [0., 0., 1.],\n",
              "       [0., 0., 1.],\n",
              "       [0., 0., 1.],\n",
              "       [0., 0., 1.],\n",
              "       [0., 0., 1.],\n",
              "       [0., 0., 1.],\n",
              "       [0., 0., 1.],\n",
              "       [0., 0., 1.],\n",
              "       [0., 0., 1.],\n",
              "       [0., 0., 1.],\n",
              "       [0., 0., 1.],\n",
              "       [0., 0., 1.],\n",
              "       [0., 0., 1.],\n",
              "       [0., 0., 1.],\n",
              "       [0., 0., 1.],\n",
              "       [0., 0., 1.],\n",
              "       [0., 0., 1.],\n",
              "       [0., 0., 1.],\n",
              "       [0., 0., 1.],\n",
              "       [0., 0., 1.],\n",
              "       [0., 0., 1.],\n",
              "       [0., 0., 1.],\n",
              "       [0., 0., 1.],\n",
              "       [0., 0., 1.],\n",
              "       [0., 0., 1.],\n",
              "       [0., 0., 1.],\n",
              "       [0., 0., 1.],\n",
              "       [0., 0., 1.],\n",
              "       [0., 0., 1.],\n",
              "       [0., 0., 1.],\n",
              "       [0., 0., 1.],\n",
              "       [0., 0., 1.],\n",
              "       [0., 0., 1.],\n",
              "       [0., 0., 1.],\n",
              "       [0., 0., 1.],\n",
              "       [0., 0., 1.],\n",
              "       [0., 0., 1.],\n",
              "       [0., 0., 1.],\n",
              "       [0., 0., 1.],\n",
              "       [0., 0., 1.],\n",
              "       [0., 0., 1.],\n",
              "       [0., 0., 1.],\n",
              "       [0., 0., 1.]], dtype=float32)"
            ]
          },
          "metadata": {
            "tags": []
          },
          "execution_count": 10
        }
      ]
    },
    {
      "cell_type": "markdown",
      "metadata": {
        "id": "leRHhASSESRq"
      },
      "source": [
        "* tensorFlow Version"
      ]
    },
    {
      "cell_type": "code",
      "metadata": {
        "colab": {
          "base_uri": "https://localhost:8080/",
          "height": 35
        },
        "id": "Zfl5PPENEKoy",
        "outputId": "1f7d2247-df83-448e-8d83-1b8285809d8c"
      },
      "source": [
        "tf.__version__"
      ],
      "execution_count": 11,
      "outputs": [
        {
          "output_type": "execute_result",
          "data": {
            "application/vnd.google.colaboratory.intrinsic+json": {
              "type": "string"
            },
            "text/plain": [
              "'2.4.1'"
            ]
          },
          "metadata": {
            "tags": []
          },
          "execution_count": 11
        }
      ]
    },
    {
      "cell_type": "markdown",
      "metadata": {
        "id": "-5crIy1XEXt9"
      },
      "source": [
        "* Keras Version"
      ]
    },
    {
      "cell_type": "code",
      "metadata": {
        "colab": {
          "base_uri": "https://localhost:8080/",
          "height": 35
        },
        "id": "7ted2483EVLi",
        "outputId": "fe28a23e-27a0-455c-d928-4756d2a4c7f3"
      },
      "source": [
        "tf.keras.__version__"
      ],
      "execution_count": 12,
      "outputs": [
        {
          "output_type": "execute_result",
          "data": {
            "application/vnd.google.colaboratory.intrinsic+json": {
              "type": "string"
            },
            "text/plain": [
              "'2.4.0'"
            ]
          },
          "metadata": {
            "tags": []
          },
          "execution_count": 12
        }
      ]
    },
    {
      "cell_type": "markdown",
      "metadata": {
        "id": "zfnr51jKEcDM"
      },
      "source": [
        "### 4)Train & Test Split with sklearn Package\r\n",
        "* 7:3"
      ]
    },
    {
      "cell_type": "code",
      "metadata": {
        "colab": {
          "base_uri": "https://localhost:8080/"
        },
        "id": "hgDOE1nUEa0Q",
        "outputId": "53a4bb86-72cc-4641-b04a-e7063e079f87"
      },
      "source": [
        "from sklearn.model_selection import train_test_split\r\n",
        "\r\n",
        "X_train, X_test, y_train, y_test = train_test_split(AR_X, AR_yOHE,\r\n",
        "                                                    test_size = 0.3,\r\n",
        "                                                    random_state = 2045)\r\n",
        "\r\n",
        "X_train.shape, X_test.shape, y_train.shape, y_test.shape"
      ],
      "execution_count": 13,
      "outputs": [
        {
          "output_type": "execute_result",
          "data": {
            "text/plain": [
              "((105, 4), (45, 4), (105, 3), (45, 3))"
            ]
          },
          "metadata": {
            "tags": []
          },
          "execution_count": 13
        }
      ]
    },
    {
      "cell_type": "markdown",
      "metadata": {
        "id": "Of1HbGJRE3nP"
      },
      "source": [
        "## 2.Keras Modeling\r\n",
        "### 1)Keras models & layers Import"
      ]
    },
    {
      "cell_type": "code",
      "metadata": {
        "id": "KZ_6g5LcE0Cp"
      },
      "source": [
        "from tensorflow.keras import models\r\n",
        "from tensorflow.keras import layers"
      ],
      "execution_count": 14,
      "outputs": []
    },
    {
      "cell_type": "markdown",
      "metadata": {
        "id": "NVmjEURTFDLi"
      },
      "source": [
        "### 2)Model Define\r\n",
        "* 모델 신경망 구조 정의"
      ]
    },
    {
      "cell_type": "code",
      "metadata": {
        "id": "RlWsDmHTFCZp"
      },
      "source": [
        "Model_iris = models.Sequential()\r\n",
        "\r\n",
        "Model_iris.add(layers.Dense(16, activation = 'relu', input_shape = (4,)))\r\n",
        "Model_iris.add(layers.Dense(8, activation = 'relu'))\r\n",
        "Model_iris.add(layers.Dense(3, activation = 'softmax'))"
      ],
      "execution_count": 15,
      "outputs": []
    },
    {
      "cell_type": "markdown",
      "metadata": {
        "id": "yDILg1SXFb1s"
      },
      "source": [
        "* 모델 구조 확인\r\n",
        "  * Layers & Parameters"
      ]
    },
    {
      "cell_type": "code",
      "metadata": {
        "colab": {
          "base_uri": "https://localhost:8080/"
        },
        "id": "0MxEOEx9FXbS",
        "outputId": "813653ba-b767-4ccd-dd8f-3ae3543d8f2d"
      },
      "source": [
        "Model_iris.summary()"
      ],
      "execution_count": 16,
      "outputs": [
        {
          "output_type": "stream",
          "text": [
            "Model: \"sequential\"\n",
            "_________________________________________________________________\n",
            "Layer (type)                 Output Shape              Param #   \n",
            "=================================================================\n",
            "dense (Dense)                (None, 16)                80        \n",
            "_________________________________________________________________\n",
            "dense_1 (Dense)              (None, 8)                 136       \n",
            "_________________________________________________________________\n",
            "dense_2 (Dense)              (None, 3)                 27        \n",
            "=================================================================\n",
            "Total params: 243\n",
            "Trainable params: 243\n",
            "Non-trainable params: 0\n",
            "_________________________________________________________________\n"
          ],
          "name": "stdout"
        }
      ]
    },
    {
      "cell_type": "markdown",
      "metadata": {
        "id": "-XZjgTAbFl4K"
      },
      "source": [
        "* 모델 레이어 시각화"
      ]
    },
    {
      "cell_type": "code",
      "metadata": {
        "colab": {
          "base_uri": "https://localhost:8080/",
          "height": 369
        },
        "id": "z8MsCigvFgVy",
        "outputId": "8010ac89-4e5e-476d-a470-e03b24ec6595"
      },
      "source": [
        "from tensorflow.keras import utils\r\n",
        "\r\n",
        "utils.plot_model(Model_iris)"
      ],
      "execution_count": 18,
      "outputs": [
        {
          "output_type": "execute_result",
          "data": {
            "image/png": "[encoded data removed]",
            "text/plain": [
              "<IPython.core.display.Image object>"
            ]
          },
          "metadata": {
            "tags": []
          },
          "execution_count": 18
        }
      ]
    },
    {
      "cell_type": "markdown",
      "metadata": {
        "id": "0feqQ515F0XU"
      },
      "source": [
        "### 3)Model Compile\r\n",
        "* 모델 학습방법 설정"
      ]
    },
    {
      "cell_type": "code",
      "metadata": {
        "id": "ab5Hk_kpFtOs"
      },
      "source": [
        "Model_iris.compile(loss = 'categorical_crossentropy',\r\n",
        "                   optimizer = 'adam',\r\n",
        "                   metrics = ['accuracy'])"
      ],
      "execution_count": 19,
      "outputs": []
    },
    {
      "cell_type": "markdown",
      "metadata": {
        "id": "HHj89LQ1GCBL"
      },
      "source": [
        "### 4)Model Fit\r\n",
        "* 모델 학습 수행"
      ]
    },
    {
      "cell_type": "code",
      "metadata": {
        "colab": {
          "base_uri": "https://localhost:8080/"
        },
        "id": "MDowk2-fF_fd",
        "outputId": "07607b0e-e5e8-420d-d9ec-d0a4ac899257"
      },
      "source": [
        "History_iris = Model_iris.fit(X_train, y_train,\r\n",
        "                              epochs = 500,\r\n",
        "                              batch_size = 7,\r\n",
        "                              validation_data = (X_test, y_test))"
      ],
      "execution_count": 20,
      "outputs": [
        {
          "output_type": "stream",
          "text": [
            "Epoch 1/500\n",
            "15/15 [==============================] - 1s 37ms/step - loss: 1.0626 - accuracy: 0.5772 - val_loss: 0.9148 - val_accuracy: 0.6889\n",
            "Epoch 2/500\n",
            "15/15 [==============================] - 0s 4ms/step - loss: 0.9574 - accuracy: 0.5807 - val_loss: 0.8038 - val_accuracy: 0.8000\n",
            "Epoch 3/500\n",
            "15/15 [==============================] - 0s 4ms/step - loss: 0.8150 - accuracy: 0.7489 - val_loss: 0.7264 - val_accuracy: 0.8889\n",
            "Epoch 4/500\n",
            "15/15 [==============================] - 0s 5ms/step - loss: 0.7096 - accuracy: 0.8404 - val_loss: 0.6656 - val_accuracy: 0.8667\n",
            "Epoch 5/500\n",
            "15/15 [==============================] - 0s 4ms/step - loss: 0.7006 - accuracy: 0.8185 - val_loss: 0.6129 - val_accuracy: 0.9778\n",
            "Epoch 6/500\n",
            "15/15 [==============================] - 0s 5ms/step - loss: 0.6423 - accuracy: 0.8893 - val_loss: 0.5694 - val_accuracy: 0.9778\n",
            "Epoch 7/500\n",
            "15/15 [==============================] - 0s 5ms/step - loss: 0.5706 - accuracy: 0.9728 - val_loss: 0.5323 - val_accuracy: 0.9778\n",
            "Epoch 8/500\n",
            "15/15 [==============================] - 0s 4ms/step - loss: 0.5577 - accuracy: 0.9547 - val_loss: 0.4999 - val_accuracy: 0.9778\n",
            "Epoch 9/500\n",
            "15/15 [==============================] - 0s 4ms/step - loss: 0.4613 - accuracy: 0.9598 - val_loss: 0.4718 - val_accuracy: 0.9778\n",
            "Epoch 10/500\n",
            "15/15 [==============================] - 0s 4ms/step - loss: 0.4839 - accuracy: 0.9178 - val_loss: 0.4481 - val_accuracy: 0.9778\n",
            "Epoch 11/500\n",
            "15/15 [==============================] - 0s 4ms/step - loss: 0.4647 - accuracy: 0.9776 - val_loss: 0.4260 - val_accuracy: 0.9778\n",
            "Epoch 12/500\n",
            "15/15 [==============================] - 0s 5ms/step - loss: 0.4553 - accuracy: 0.9407 - val_loss: 0.4062 - val_accuracy: 0.9778\n",
            "Epoch 13/500\n",
            "15/15 [==============================] - 0s 4ms/step - loss: 0.4016 - accuracy: 0.9258 - val_loss: 0.3861 - val_accuracy: 0.9778\n",
            "Epoch 14/500\n",
            "15/15 [==============================] - 0s 4ms/step - loss: 0.3808 - accuracy: 0.9538 - val_loss: 0.3719 - val_accuracy: 0.9778\n",
            "Epoch 15/500\n",
            "15/15 [==============================] - 0s 4ms/step - loss: 0.4487 - accuracy: 0.9331 - val_loss: 0.3545 - val_accuracy: 0.9778\n",
            "Epoch 16/500\n",
            "15/15 [==============================] - 0s 4ms/step - loss: 0.3669 - accuracy: 0.9426 - val_loss: 0.3419 - val_accuracy: 0.9778\n",
            "Epoch 17/500\n",
            "15/15 [==============================] - 0s 5ms/step - loss: 0.3946 - accuracy: 0.9230 - val_loss: 0.3275 - val_accuracy: 0.9778\n",
            "Epoch 18/500\n",
            "15/15 [==============================] - 0s 4ms/step - loss: 0.3387 - accuracy: 0.9806 - val_loss: 0.3171 - val_accuracy: 0.9778\n",
            "Epoch 19/500\n",
            "15/15 [==============================] - 0s 4ms/step - loss: 0.3007 - accuracy: 0.9529 - val_loss: 0.3041 - val_accuracy: 0.9778\n",
            "Epoch 20/500\n",
            "15/15 [==============================] - 0s 4ms/step - loss: 0.3247 - accuracy: 0.9787 - val_loss: 0.2935 - val_accuracy: 0.9778\n",
            "Epoch 21/500\n",
            "15/15 [==============================] - 0s 4ms/step - loss: 0.3097 - accuracy: 0.9799 - val_loss: 0.2847 - val_accuracy: 0.9778\n",
            "Epoch 22/500\n",
            "15/15 [==============================] - 0s 5ms/step - loss: 0.3420 - accuracy: 0.9800 - val_loss: 0.2759 - val_accuracy: 0.9778\n",
            "Epoch 23/500\n",
            "15/15 [==============================] - 0s 4ms/step - loss: 0.3017 - accuracy: 0.9317 - val_loss: 0.2673 - val_accuracy: 0.9778\n",
            "Epoch 24/500\n",
            "15/15 [==============================] - 0s 4ms/step - loss: 0.2817 - accuracy: 0.9823 - val_loss: 0.2575 - val_accuracy: 0.9778\n",
            "Epoch 25/500\n",
            "15/15 [==============================] - 0s 4ms/step - loss: 0.3095 - accuracy: 0.9831 - val_loss: 0.2496 - val_accuracy: 0.9778\n",
            "Epoch 26/500\n",
            "15/15 [==============================] - 0s 4ms/step - loss: 0.2860 - accuracy: 0.9643 - val_loss: 0.2420 - val_accuracy: 0.9778\n",
            "Epoch 27/500\n",
            "15/15 [==============================] - 0s 5ms/step - loss: 0.2532 - accuracy: 0.9859 - val_loss: 0.2347 - val_accuracy: 0.9778\n",
            "Epoch 28/500\n",
            "15/15 [==============================] - 0s 4ms/step - loss: 0.2494 - accuracy: 0.9738 - val_loss: 0.2280 - val_accuracy: 0.9778\n",
            "Epoch 29/500\n",
            "15/15 [==============================] - 0s 5ms/step - loss: 0.2546 - accuracy: 0.9738 - val_loss: 0.2216 - val_accuracy: 0.9778\n",
            "Epoch 30/500\n",
            "15/15 [==============================] - 0s 5ms/step - loss: 0.2163 - accuracy: 0.9884 - val_loss: 0.2148 - val_accuracy: 0.9778\n",
            "Epoch 31/500\n",
            "15/15 [==============================] - 0s 4ms/step - loss: 0.2557 - accuracy: 0.9867 - val_loss: 0.2086 - val_accuracy: 0.9778\n",
            "Epoch 32/500\n",
            "15/15 [==============================] - 0s 4ms/step - loss: 0.2798 - accuracy: 0.9451 - val_loss: 0.2028 - val_accuracy: 0.9778\n",
            "Epoch 33/500\n",
            "15/15 [==============================] - 0s 5ms/step - loss: 0.2133 - accuracy: 0.9824 - val_loss: 0.1970 - val_accuracy: 0.9778\n",
            "Epoch 34/500\n",
            "15/15 [==============================] - 0s 5ms/step - loss: 0.2147 - accuracy: 0.9720 - val_loss: 0.1917 - val_accuracy: 0.9778\n",
            "Epoch 35/500\n",
            "15/15 [==============================] - 0s 4ms/step - loss: 0.2077 - accuracy: 0.9834 - val_loss: 0.1860 - val_accuracy: 0.9778\n",
            "Epoch 36/500\n",
            "15/15 [==============================] - 0s 5ms/step - loss: 0.2493 - accuracy: 0.9786 - val_loss: 0.1810 - val_accuracy: 0.9778\n",
            "Epoch 37/500\n",
            "15/15 [==============================] - 0s 4ms/step - loss: 0.2133 - accuracy: 0.9840 - val_loss: 0.1768 - val_accuracy: 0.9778\n",
            "Epoch 38/500\n",
            "15/15 [==============================] - 0s 4ms/step - loss: 0.1911 - accuracy: 0.9568 - val_loss: 0.1730 - val_accuracy: 0.9778\n",
            "Epoch 39/500\n",
            "15/15 [==============================] - 0s 4ms/step - loss: 0.1806 - accuracy: 0.9917 - val_loss: 0.1684 - val_accuracy: 0.9778\n",
            "Epoch 40/500\n",
            "15/15 [==============================] - 0s 4ms/step - loss: 0.1933 - accuracy: 0.9664 - val_loss: 0.1628 - val_accuracy: 0.9778\n",
            "Epoch 41/500\n",
            "15/15 [==============================] - 0s 5ms/step - loss: 0.2053 - accuracy: 0.9716 - val_loss: 0.1588 - val_accuracy: 0.9778\n",
            "Epoch 42/500\n",
            "15/15 [==============================] - 0s 4ms/step - loss: 0.2009 - accuracy: 0.9567 - val_loss: 0.1551 - val_accuracy: 0.9778\n",
            "Epoch 43/500\n",
            "15/15 [==============================] - 0s 4ms/step - loss: 0.1627 - accuracy: 0.9952 - val_loss: 0.1510 - val_accuracy: 0.9778\n",
            "Epoch 44/500\n",
            "15/15 [==============================] - 0s 4ms/step - loss: 0.1637 - accuracy: 0.9929 - val_loss: 0.1485 - val_accuracy: 0.9778\n",
            "Epoch 45/500\n",
            "15/15 [==============================] - 0s 4ms/step - loss: 0.1651 - accuracy: 0.9853 - val_loss: 0.1444 - val_accuracy: 0.9778\n",
            "Epoch 46/500\n",
            "15/15 [==============================] - 0s 5ms/step - loss: 0.1686 - accuracy: 0.9777 - val_loss: 0.1409 - val_accuracy: 0.9778\n",
            "Epoch 47/500\n",
            "15/15 [==============================] - 0s 4ms/step - loss: 0.1841 - accuracy: 0.9807 - val_loss: 0.1376 - val_accuracy: 0.9778\n",
            "Epoch 48/500\n",
            "15/15 [==============================] - 0s 5ms/step - loss: 0.1646 - accuracy: 0.9654 - val_loss: 0.1344 - val_accuracy: 0.9778\n",
            "Epoch 49/500\n",
            "15/15 [==============================] - 0s 5ms/step - loss: 0.1447 - accuracy: 0.9836 - val_loss: 0.1318 - val_accuracy: 0.9778\n",
            "Epoch 50/500\n",
            "15/15 [==============================] - 0s 4ms/step - loss: 0.1425 - accuracy: 0.9853 - val_loss: 0.1310 - val_accuracy: 0.9778\n",
            "Epoch 51/500\n",
            "15/15 [==============================] - 0s 5ms/step - loss: 0.1852 - accuracy: 0.9431 - val_loss: 0.1264 - val_accuracy: 0.9778\n",
            "Epoch 52/500\n",
            "15/15 [==============================] - 0s 5ms/step - loss: 0.1762 - accuracy: 0.9769 - val_loss: 0.1230 - val_accuracy: 0.9778\n",
            "Epoch 53/500\n",
            "15/15 [==============================] - 0s 5ms/step - loss: 0.1723 - accuracy: 0.9824 - val_loss: 0.1217 - val_accuracy: 0.9556\n",
            "Epoch 54/500\n",
            "15/15 [==============================] - 0s 5ms/step - loss: 0.1287 - accuracy: 0.9963 - val_loss: 0.1178 - val_accuracy: 0.9778\n",
            "Epoch 55/500\n",
            "15/15 [==============================] - 0s 4ms/step - loss: 0.1662 - accuracy: 0.9843 - val_loss: 0.1155 - val_accuracy: 0.9778\n",
            "Epoch 56/500\n",
            "15/15 [==============================] - 0s 5ms/step - loss: 0.1639 - accuracy: 0.9685 - val_loss: 0.1147 - val_accuracy: 0.9778\n",
            "Epoch 57/500\n",
            "15/15 [==============================] - 0s 4ms/step - loss: 0.1767 - accuracy: 0.9619 - val_loss: 0.1127 - val_accuracy: 0.9778\n",
            "Epoch 58/500\n",
            "15/15 [==============================] - 0s 5ms/step - loss: 0.1596 - accuracy: 0.9814 - val_loss: 0.1091 - val_accuracy: 0.9778\n",
            "Epoch 59/500\n",
            "15/15 [==============================] - 0s 4ms/step - loss: 0.1551 - accuracy: 0.9543 - val_loss: 0.1076 - val_accuracy: 0.9778\n",
            "Epoch 60/500\n",
            "15/15 [==============================] - 0s 4ms/step - loss: 0.1362 - accuracy: 0.9784 - val_loss: 0.1049 - val_accuracy: 0.9778\n",
            "Epoch 61/500\n",
            "15/15 [==============================] - 0s 4ms/step - loss: 0.1705 - accuracy: 0.9657 - val_loss: 0.1031 - val_accuracy: 0.9778\n",
            "Epoch 62/500\n",
            "15/15 [==============================] - 0s 4ms/step - loss: 0.1260 - accuracy: 0.9836 - val_loss: 0.1013 - val_accuracy: 0.9778\n",
            "Epoch 63/500\n",
            "15/15 [==============================] - 0s 5ms/step - loss: 0.1357 - accuracy: 0.9855 - val_loss: 0.1012 - val_accuracy: 0.9778\n",
            "Epoch 64/500\n",
            "15/15 [==============================] - 0s 5ms/step - loss: 0.1593 - accuracy: 0.9834 - val_loss: 0.0990 - val_accuracy: 0.9778\n",
            "Epoch 65/500\n",
            "15/15 [==============================] - 0s 5ms/step - loss: 0.1439 - accuracy: 0.9758 - val_loss: 0.1007 - val_accuracy: 0.9778\n",
            "Epoch 66/500\n",
            "15/15 [==============================] - 0s 5ms/step - loss: 0.1421 - accuracy: 0.9529 - val_loss: 0.0963 - val_accuracy: 0.9778\n",
            "Epoch 67/500\n",
            "15/15 [==============================] - 0s 5ms/step - loss: 0.1089 - accuracy: 0.9840 - val_loss: 0.0936 - val_accuracy: 0.9778\n",
            "Epoch 68/500\n",
            "15/15 [==============================] - 0s 4ms/step - loss: 0.1242 - accuracy: 0.9929 - val_loss: 0.0916 - val_accuracy: 0.9778\n",
            "Epoch 69/500\n",
            "15/15 [==============================] - 0s 5ms/step - loss: 0.1221 - accuracy: 0.9676 - val_loss: 0.0906 - val_accuracy: 0.9778\n",
            "Epoch 70/500\n",
            "15/15 [==============================] - 0s 5ms/step - loss: 0.1311 - accuracy: 0.9829 - val_loss: 0.0890 - val_accuracy: 0.9778\n",
            "Epoch 71/500\n",
            "15/15 [==============================] - 0s 4ms/step - loss: 0.1319 - accuracy: 0.9802 - val_loss: 0.0881 - val_accuracy: 1.0000\n",
            "Epoch 72/500\n",
            "15/15 [==============================] - 0s 4ms/step - loss: 0.1453 - accuracy: 0.9728 - val_loss: 0.0872 - val_accuracy: 0.9778\n",
            "Epoch 73/500\n",
            "15/15 [==============================] - 0s 5ms/step - loss: 0.1264 - accuracy: 0.9647 - val_loss: 0.0848 - val_accuracy: 0.9778\n",
            "Epoch 74/500\n",
            "15/15 [==============================] - 0s 5ms/step - loss: 0.1487 - accuracy: 0.9915 - val_loss: 0.0839 - val_accuracy: 0.9778\n",
            "Epoch 75/500\n",
            "15/15 [==============================] - 0s 4ms/step - loss: 0.1294 - accuracy: 0.9918 - val_loss: 0.0836 - val_accuracy: 0.9778\n",
            "Epoch 76/500\n",
            "15/15 [==============================] - 0s 5ms/step - loss: 0.1339 - accuracy: 0.9737 - val_loss: 0.0814 - val_accuracy: 0.9778\n",
            "Epoch 77/500\n",
            "15/15 [==============================] - 0s 5ms/step - loss: 0.1259 - accuracy: 0.9869 - val_loss: 0.0801 - val_accuracy: 0.9778\n",
            "Epoch 78/500\n",
            "15/15 [==============================] - 0s 5ms/step - loss: 0.1381 - accuracy: 0.9723 - val_loss: 0.0791 - val_accuracy: 0.9778\n",
            "Epoch 79/500\n",
            "15/15 [==============================] - 0s 5ms/step - loss: 0.1004 - accuracy: 0.9771 - val_loss: 0.0781 - val_accuracy: 0.9778\n",
            "Epoch 80/500\n",
            "15/15 [==============================] - 0s 4ms/step - loss: 0.1115 - accuracy: 0.9775 - val_loss: 0.0782 - val_accuracy: 0.9778\n",
            "Epoch 81/500\n",
            "15/15 [==============================] - 0s 4ms/step - loss: 0.1668 - accuracy: 0.9775 - val_loss: 0.0790 - val_accuracy: 0.9778\n",
            "Epoch 82/500\n",
            "15/15 [==============================] - 0s 4ms/step - loss: 0.1480 - accuracy: 0.9761 - val_loss: 0.0785 - val_accuracy: 0.9778\n",
            "Epoch 83/500\n",
            "15/15 [==============================] - 0s 4ms/step - loss: 0.1056 - accuracy: 0.9880 - val_loss: 0.0742 - val_accuracy: 0.9778\n",
            "Epoch 84/500\n",
            "15/15 [==============================] - 0s 5ms/step - loss: 0.1161 - accuracy: 0.9897 - val_loss: 0.0761 - val_accuracy: 0.9778\n",
            "Epoch 85/500\n",
            "15/15 [==============================] - 0s 4ms/step - loss: 0.0957 - accuracy: 0.9883 - val_loss: 0.0724 - val_accuracy: 0.9778\n",
            "Epoch 86/500\n",
            "15/15 [==============================] - 0s 4ms/step - loss: 0.0923 - accuracy: 0.9859 - val_loss: 0.0727 - val_accuracy: 0.9778\n",
            "Epoch 87/500\n",
            "15/15 [==============================] - 0s 4ms/step - loss: 0.1316 - accuracy: 0.9663 - val_loss: 0.0708 - val_accuracy: 0.9778\n",
            "Epoch 88/500\n",
            "15/15 [==============================] - 0s 5ms/step - loss: 0.1015 - accuracy: 0.9749 - val_loss: 0.0704 - val_accuracy: 1.0000\n",
            "Epoch 89/500\n",
            "15/15 [==============================] - 0s 5ms/step - loss: 0.1184 - accuracy: 0.9876 - val_loss: 0.0699 - val_accuracy: 1.0000\n",
            "Epoch 90/500\n",
            "15/15 [==============================] - 0s 5ms/step - loss: 0.1448 - accuracy: 0.9673 - val_loss: 0.0684 - val_accuracy: 0.9778\n",
            "Epoch 91/500\n",
            "15/15 [==============================] - 0s 4ms/step - loss: 0.1322 - accuracy: 0.9689 - val_loss: 0.0679 - val_accuracy: 1.0000\n",
            "Epoch 92/500\n",
            "15/15 [==============================] - 0s 4ms/step - loss: 0.1298 - accuracy: 0.9656 - val_loss: 0.0672 - val_accuracy: 1.0000\n",
            "Epoch 93/500\n",
            "15/15 [==============================] - 0s 4ms/step - loss: 0.1127 - accuracy: 0.9742 - val_loss: 0.0664 - val_accuracy: 1.0000\n",
            "Epoch 94/500\n",
            "15/15 [==============================] - 0s 5ms/step - loss: 0.1254 - accuracy: 0.9638 - val_loss: 0.0655 - val_accuracy: 0.9778\n",
            "Epoch 95/500\n",
            "15/15 [==============================] - 0s 4ms/step - loss: 0.1338 - accuracy: 0.9559 - val_loss: 0.0649 - val_accuracy: 0.9778\n",
            "Epoch 96/500\n",
            "15/15 [==============================] - 0s 5ms/step - loss: 0.1132 - accuracy: 0.9704 - val_loss: 0.0655 - val_accuracy: 0.9778\n",
            "Epoch 97/500\n",
            "15/15 [==============================] - 0s 5ms/step - loss: 0.1019 - accuracy: 0.9890 - val_loss: 0.0643 - val_accuracy: 0.9778\n",
            "Epoch 98/500\n",
            "15/15 [==============================] - 0s 5ms/step - loss: 0.1118 - accuracy: 0.9843 - val_loss: 0.0680 - val_accuracy: 0.9778\n",
            "Epoch 99/500\n",
            "15/15 [==============================] - 0s 4ms/step - loss: 0.1023 - accuracy: 0.9891 - val_loss: 0.0625 - val_accuracy: 1.0000\n",
            "Epoch 100/500\n",
            "15/15 [==============================] - 0s 4ms/step - loss: 0.1132 - accuracy: 0.9644 - val_loss: 0.0622 - val_accuracy: 0.9778\n",
            "Epoch 101/500\n",
            "15/15 [==============================] - 0s 5ms/step - loss: 0.1005 - accuracy: 0.9704 - val_loss: 0.0611 - val_accuracy: 0.9778\n",
            "Epoch 102/500\n",
            "15/15 [==============================] - 0s 4ms/step - loss: 0.0599 - accuracy: 0.9941 - val_loss: 0.0611 - val_accuracy: 1.0000\n",
            "Epoch 103/500\n",
            "15/15 [==============================] - 0s 4ms/step - loss: 0.1287 - accuracy: 0.9665 - val_loss: 0.0600 - val_accuracy: 0.9778\n",
            "Epoch 104/500\n",
            "15/15 [==============================] - 0s 5ms/step - loss: 0.0976 - accuracy: 0.9883 - val_loss: 0.0622 - val_accuracy: 0.9778\n",
            "Epoch 105/500\n",
            "15/15 [==============================] - 0s 5ms/step - loss: 0.0932 - accuracy: 0.9922 - val_loss: 0.0589 - val_accuracy: 0.9778\n",
            "Epoch 106/500\n",
            "15/15 [==============================] - 0s 4ms/step - loss: 0.0776 - accuracy: 0.9929 - val_loss: 0.0588 - val_accuracy: 1.0000\n",
            "Epoch 107/500\n",
            "15/15 [==============================] - 0s 5ms/step - loss: 0.1035 - accuracy: 0.9726 - val_loss: 0.0580 - val_accuracy: 0.9778\n",
            "Epoch 108/500\n",
            "15/15 [==============================] - 0s 5ms/step - loss: 0.0804 - accuracy: 0.9890 - val_loss: 0.0578 - val_accuracy: 1.0000\n",
            "Epoch 109/500\n",
            "15/15 [==============================] - 0s 5ms/step - loss: 0.0921 - accuracy: 0.9891 - val_loss: 0.0604 - val_accuracy: 0.9778\n",
            "Epoch 110/500\n",
            "15/15 [==============================] - 0s 4ms/step - loss: 0.0929 - accuracy: 0.9733 - val_loss: 0.0566 - val_accuracy: 0.9778\n",
            "Epoch 111/500\n",
            "15/15 [==============================] - 0s 4ms/step - loss: 0.1517 - accuracy: 0.9665 - val_loss: 0.0562 - val_accuracy: 0.9778\n",
            "Epoch 112/500\n",
            "15/15 [==============================] - 0s 5ms/step - loss: 0.0621 - accuracy: 0.9963 - val_loss: 0.0573 - val_accuracy: 0.9778\n",
            "Epoch 113/500\n",
            "15/15 [==============================] - 0s 5ms/step - loss: 0.0809 - accuracy: 0.9911 - val_loss: 0.0558 - val_accuracy: 1.0000\n",
            "Epoch 114/500\n",
            "15/15 [==============================] - 0s 5ms/step - loss: 0.0744 - accuracy: 0.9802 - val_loss: 0.0549 - val_accuracy: 0.9778\n",
            "Epoch 115/500\n",
            "15/15 [==============================] - 0s 5ms/step - loss: 0.0726 - accuracy: 0.9908 - val_loss: 0.0563 - val_accuracy: 0.9778\n",
            "Epoch 116/500\n",
            "15/15 [==============================] - 0s 5ms/step - loss: 0.0744 - accuracy: 0.9752 - val_loss: 0.0545 - val_accuracy: 0.9778\n",
            "Epoch 117/500\n",
            "15/15 [==============================] - 0s 5ms/step - loss: 0.1251 - accuracy: 0.9728 - val_loss: 0.0536 - val_accuracy: 1.0000\n",
            "Epoch 118/500\n",
            "15/15 [==============================] - 0s 5ms/step - loss: 0.0850 - accuracy: 0.9839 - val_loss: 0.0532 - val_accuracy: 0.9778\n",
            "Epoch 119/500\n",
            "15/15 [==============================] - 0s 4ms/step - loss: 0.1070 - accuracy: 0.9544 - val_loss: 0.0531 - val_accuracy: 1.0000\n",
            "Epoch 120/500\n",
            "15/15 [==============================] - 0s 4ms/step - loss: 0.0608 - accuracy: 0.9890 - val_loss: 0.0528 - val_accuracy: 1.0000\n",
            "Epoch 121/500\n",
            "15/15 [==============================] - 0s 5ms/step - loss: 0.0635 - accuracy: 0.9932 - val_loss: 0.0527 - val_accuracy: 0.9778\n",
            "Epoch 122/500\n",
            "15/15 [==============================] - 0s 5ms/step - loss: 0.0840 - accuracy: 0.9818 - val_loss: 0.0532 - val_accuracy: 0.9778\n",
            "Epoch 123/500\n",
            "15/15 [==============================] - 0s 5ms/step - loss: 0.0893 - accuracy: 0.9898 - val_loss: 0.0514 - val_accuracy: 0.9778\n",
            "Epoch 124/500\n",
            "15/15 [==============================] - 0s 5ms/step - loss: 0.0762 - accuracy: 0.9866 - val_loss: 0.0510 - val_accuracy: 1.0000\n",
            "Epoch 125/500\n",
            "15/15 [==============================] - 0s 5ms/step - loss: 0.0839 - accuracy: 0.9908 - val_loss: 0.0540 - val_accuracy: 0.9778\n",
            "Epoch 126/500\n",
            "15/15 [==============================] - 0s 5ms/step - loss: 0.0928 - accuracy: 0.9802 - val_loss: 0.0509 - val_accuracy: 0.9778\n",
            "Epoch 127/500\n",
            "15/15 [==============================] - 0s 4ms/step - loss: 0.1038 - accuracy: 0.9772 - val_loss: 0.0505 - val_accuracy: 1.0000\n",
            "Epoch 128/500\n",
            "15/15 [==============================] - 0s 5ms/step - loss: 0.0955 - accuracy: 0.9775 - val_loss: 0.0502 - val_accuracy: 1.0000\n",
            "Epoch 129/500\n",
            "15/15 [==============================] - 0s 5ms/step - loss: 0.1075 - accuracy: 0.9693 - val_loss: 0.0495 - val_accuracy: 1.0000\n",
            "Epoch 130/500\n",
            "15/15 [==============================] - 0s 4ms/step - loss: 0.0672 - accuracy: 0.9957 - val_loss: 0.0501 - val_accuracy: 0.9778\n",
            "Epoch 131/500\n",
            "15/15 [==============================] - 0s 4ms/step - loss: 0.0758 - accuracy: 0.9908 - val_loss: 0.0505 - val_accuracy: 0.9778\n",
            "Epoch 132/500\n",
            "15/15 [==============================] - 0s 5ms/step - loss: 0.0860 - accuracy: 0.9963 - val_loss: 0.0485 - val_accuracy: 1.0000\n",
            "Epoch 133/500\n",
            "15/15 [==============================] - 0s 5ms/step - loss: 0.0553 - accuracy: 0.9951 - val_loss: 0.0482 - val_accuracy: 1.0000\n",
            "Epoch 134/500\n",
            "15/15 [==============================] - 0s 4ms/step - loss: 0.0698 - accuracy: 0.9873 - val_loss: 0.0505 - val_accuracy: 0.9778\n",
            "Epoch 135/500\n",
            "15/15 [==============================] - 0s 5ms/step - loss: 0.0833 - accuracy: 0.9890 - val_loss: 0.0480 - val_accuracy: 1.0000\n",
            "Epoch 136/500\n",
            "15/15 [==============================] - 0s 5ms/step - loss: 0.1050 - accuracy: 0.9704 - val_loss: 0.0512 - val_accuracy: 0.9778\n",
            "Epoch 137/500\n",
            "15/15 [==============================] - 0s 4ms/step - loss: 0.0823 - accuracy: 0.9880 - val_loss: 0.0472 - val_accuracy: 1.0000\n",
            "Epoch 138/500\n",
            "15/15 [==============================] - 0s 4ms/step - loss: 0.1116 - accuracy: 0.9704 - val_loss: 0.0478 - val_accuracy: 0.9778\n",
            "Epoch 139/500\n",
            "15/15 [==============================] - 0s 5ms/step - loss: 0.0722 - accuracy: 0.9851 - val_loss: 0.0474 - val_accuracy: 0.9778\n",
            "Epoch 140/500\n",
            "15/15 [==============================] - 0s 5ms/step - loss: 0.0683 - accuracy: 0.9910 - val_loss: 0.0498 - val_accuracy: 0.9778\n",
            "Epoch 141/500\n",
            "15/15 [==============================] - 0s 5ms/step - loss: 0.0689 - accuracy: 0.9947 - val_loss: 0.0461 - val_accuracy: 1.0000\n",
            "Epoch 142/500\n",
            "15/15 [==============================] - 0s 5ms/step - loss: 0.0930 - accuracy: 0.9746 - val_loss: 0.0500 - val_accuracy: 0.9778\n",
            "Epoch 143/500\n",
            "15/15 [==============================] - 0s 5ms/step - loss: 0.0744 - accuracy: 0.9570 - val_loss: 0.0459 - val_accuracy: 1.0000\n",
            "Epoch 144/500\n",
            "15/15 [==============================] - 0s 5ms/step - loss: 0.0846 - accuracy: 0.9876 - val_loss: 0.0459 - val_accuracy: 0.9778\n",
            "Epoch 145/500\n",
            "15/15 [==============================] - 0s 5ms/step - loss: 0.1024 - accuracy: 0.9748 - val_loss: 0.0504 - val_accuracy: 0.9778\n",
            "Epoch 146/500\n",
            "15/15 [==============================] - 0s 5ms/step - loss: 0.0819 - accuracy: 0.9833 - val_loss: 0.0451 - val_accuracy: 1.0000\n",
            "Epoch 147/500\n",
            "15/15 [==============================] - 0s 5ms/step - loss: 0.0690 - accuracy: 0.9768 - val_loss: 0.0496 - val_accuracy: 0.9778\n",
            "Epoch 148/500\n",
            "15/15 [==============================] - 0s 5ms/step - loss: 0.0670 - accuracy: 0.9819 - val_loss: 0.0458 - val_accuracy: 0.9778\n",
            "Epoch 149/500\n",
            "15/15 [==============================] - 0s 5ms/step - loss: 0.1426 - accuracy: 0.9648 - val_loss: 0.0490 - val_accuracy: 0.9778\n",
            "Epoch 150/500\n",
            "15/15 [==============================] - 0s 5ms/step - loss: 0.0906 - accuracy: 0.9685 - val_loss: 0.0476 - val_accuracy: 0.9778\n",
            "Epoch 151/500\n",
            "15/15 [==============================] - 0s 4ms/step - loss: 0.0931 - accuracy: 0.9826 - val_loss: 0.0440 - val_accuracy: 1.0000\n",
            "Epoch 152/500\n",
            "15/15 [==============================] - 0s 5ms/step - loss: 0.0744 - accuracy: 0.9877 - val_loss: 0.0521 - val_accuracy: 0.9778\n",
            "Epoch 153/500\n",
            "15/15 [==============================] - 0s 5ms/step - loss: 0.1057 - accuracy: 0.9569 - val_loss: 0.0437 - val_accuracy: 1.0000\n",
            "Epoch 154/500\n",
            "15/15 [==============================] - 0s 5ms/step - loss: 0.1219 - accuracy: 0.9489 - val_loss: 0.0440 - val_accuracy: 0.9778\n",
            "Epoch 155/500\n",
            "15/15 [==============================] - 0s 5ms/step - loss: 0.0711 - accuracy: 0.9880 - val_loss: 0.0434 - val_accuracy: 0.9778\n",
            "Epoch 156/500\n",
            "15/15 [==============================] - 0s 4ms/step - loss: 0.0649 - accuracy: 0.9898 - val_loss: 0.0485 - val_accuracy: 0.9778\n",
            "Epoch 157/500\n",
            "15/15 [==============================] - 0s 5ms/step - loss: 0.1196 - accuracy: 0.9559 - val_loss: 0.0433 - val_accuracy: 1.0000\n",
            "Epoch 158/500\n",
            "15/15 [==============================] - 0s 5ms/step - loss: 0.1012 - accuracy: 0.9745 - val_loss: 0.0446 - val_accuracy: 0.9778\n",
            "Epoch 159/500\n",
            "15/15 [==============================] - 0s 5ms/step - loss: 0.0660 - accuracy: 0.9890 - val_loss: 0.0425 - val_accuracy: 1.0000\n",
            "Epoch 160/500\n",
            "15/15 [==============================] - 0s 5ms/step - loss: 0.0667 - accuracy: 0.9917 - val_loss: 0.0437 - val_accuracy: 0.9778\n",
            "Epoch 161/500\n",
            "15/15 [==============================] - 0s 4ms/step - loss: 0.0614 - accuracy: 0.9970 - val_loss: 0.0428 - val_accuracy: 0.9778\n",
            "Epoch 162/500\n",
            "15/15 [==============================] - 0s 5ms/step - loss: 0.0773 - accuracy: 0.9772 - val_loss: 0.0438 - val_accuracy: 0.9778\n",
            "Epoch 163/500\n",
            "15/15 [==============================] - 0s 6ms/step - loss: 0.0654 - accuracy: 0.9898 - val_loss: 0.0425 - val_accuracy: 0.9778\n",
            "Epoch 164/500\n",
            "15/15 [==============================] - 0s 5ms/step - loss: 0.1040 - accuracy: 0.9704 - val_loss: 0.0420 - val_accuracy: 1.0000\n",
            "Epoch 165/500\n",
            "15/15 [==============================] - 0s 5ms/step - loss: 0.0800 - accuracy: 0.9843 - val_loss: 0.0425 - val_accuracy: 0.9778\n",
            "Epoch 166/500\n",
            "15/15 [==============================] - 0s 5ms/step - loss: 0.0884 - accuracy: 0.9813 - val_loss: 0.0423 - val_accuracy: 0.9778\n",
            "Epoch 167/500\n",
            "15/15 [==============================] - 0s 5ms/step - loss: 0.1013 - accuracy: 0.9599 - val_loss: 0.0428 - val_accuracy: 0.9778\n",
            "Epoch 168/500\n",
            "15/15 [==============================] - 0s 5ms/step - loss: 0.0972 - accuracy: 0.9715 - val_loss: 0.0418 - val_accuracy: 0.9778\n",
            "Epoch 169/500\n",
            "15/15 [==============================] - 0s 6ms/step - loss: 0.0752 - accuracy: 0.9897 - val_loss: 0.0420 - val_accuracy: 0.9778\n",
            "Epoch 170/500\n",
            "15/15 [==============================] - 0s 5ms/step - loss: 0.0683 - accuracy: 0.9829 - val_loss: 0.0416 - val_accuracy: 0.9778\n",
            "Epoch 171/500\n",
            "15/15 [==============================] - 0s 5ms/step - loss: 0.0749 - accuracy: 0.9769 - val_loss: 0.0408 - val_accuracy: 1.0000\n",
            "Epoch 172/500\n",
            "15/15 [==============================] - 0s 4ms/step - loss: 0.0705 - accuracy: 0.9938 - val_loss: 0.0413 - val_accuracy: 0.9778\n",
            "Epoch 173/500\n",
            "15/15 [==============================] - 0s 5ms/step - loss: 0.0812 - accuracy: 0.9843 - val_loss: 0.0422 - val_accuracy: 0.9778\n",
            "Epoch 174/500\n",
            "15/15 [==============================] - 0s 5ms/step - loss: 0.0515 - accuracy: 0.9929 - val_loss: 0.0401 - val_accuracy: 1.0000\n",
            "Epoch 175/500\n",
            "15/15 [==============================] - 0s 5ms/step - loss: 0.0666 - accuracy: 0.9898 - val_loss: 0.0450 - val_accuracy: 0.9778\n",
            "Epoch 176/500\n",
            "15/15 [==============================] - 0s 5ms/step - loss: 0.1136 - accuracy: 0.9529 - val_loss: 0.0403 - val_accuracy: 1.0000\n",
            "Epoch 177/500\n",
            "15/15 [==============================] - 0s 4ms/step - loss: 0.1038 - accuracy: 0.9715 - val_loss: 0.0401 - val_accuracy: 1.0000\n",
            "Epoch 178/500\n",
            "15/15 [==============================] - 0s 5ms/step - loss: 0.0537 - accuracy: 0.9875 - val_loss: 0.0403 - val_accuracy: 0.9778\n",
            "Epoch 179/500\n",
            "15/15 [==============================] - 0s 5ms/step - loss: 0.0720 - accuracy: 0.9784 - val_loss: 0.0444 - val_accuracy: 0.9778\n",
            "Epoch 180/500\n",
            "15/15 [==============================] - 0s 5ms/step - loss: 0.0918 - accuracy: 0.9809 - val_loss: 0.0411 - val_accuracy: 0.9778\n",
            "Epoch 181/500\n",
            "15/15 [==============================] - 0s 5ms/step - loss: 0.0752 - accuracy: 0.9686 - val_loss: 0.0427 - val_accuracy: 0.9778\n",
            "Epoch 182/500\n",
            "15/15 [==============================] - 0s 5ms/step - loss: 0.1229 - accuracy: 0.9728 - val_loss: 0.0391 - val_accuracy: 1.0000\n",
            "Epoch 183/500\n",
            "15/15 [==============================] - 0s 5ms/step - loss: 0.0965 - accuracy: 0.9614 - val_loss: 0.0416 - val_accuracy: 0.9778\n",
            "Epoch 184/500\n",
            "15/15 [==============================] - 0s 5ms/step - loss: 0.0516 - accuracy: 0.9880 - val_loss: 0.0412 - val_accuracy: 0.9778\n",
            "Epoch 185/500\n",
            "15/15 [==============================] - 0s 5ms/step - loss: 0.0797 - accuracy: 0.9803 - val_loss: 0.0399 - val_accuracy: 0.9778\n",
            "Epoch 186/500\n",
            "15/15 [==============================] - 0s 5ms/step - loss: 0.0912 - accuracy: 0.9630 - val_loss: 0.0389 - val_accuracy: 1.0000\n",
            "Epoch 187/500\n",
            "15/15 [==============================] - 0s 5ms/step - loss: 0.1188 - accuracy: 0.9633 - val_loss: 0.0387 - val_accuracy: 1.0000\n",
            "Epoch 188/500\n",
            "15/15 [==============================] - 0s 5ms/step - loss: 0.1133 - accuracy: 0.9679 - val_loss: 0.0389 - val_accuracy: 0.9778\n",
            "Epoch 189/500\n",
            "15/15 [==============================] - 0s 5ms/step - loss: 0.1149 - accuracy: 0.9586 - val_loss: 0.0400 - val_accuracy: 0.9778\n",
            "Epoch 190/500\n",
            "15/15 [==============================] - 0s 5ms/step - loss: 0.0834 - accuracy: 0.9775 - val_loss: 0.0391 - val_accuracy: 0.9778\n",
            "Epoch 191/500\n",
            "15/15 [==============================] - 0s 4ms/step - loss: 0.0692 - accuracy: 0.9802 - val_loss: 0.0417 - val_accuracy: 0.9778\n",
            "Epoch 192/500\n",
            "15/15 [==============================] - 0s 5ms/step - loss: 0.0864 - accuracy: 0.9743 - val_loss: 0.0382 - val_accuracy: 1.0000\n",
            "Epoch 193/500\n",
            "15/15 [==============================] - 0s 5ms/step - loss: 0.0728 - accuracy: 0.9870 - val_loss: 0.0411 - val_accuracy: 0.9778\n",
            "Epoch 194/500\n",
            "15/15 [==============================] - 0s 6ms/step - loss: 0.0752 - accuracy: 0.9615 - val_loss: 0.0408 - val_accuracy: 0.9778\n",
            "Epoch 195/500\n",
            "15/15 [==============================] - 0s 5ms/step - loss: 0.1089 - accuracy: 0.9599 - val_loss: 0.0375 - val_accuracy: 1.0000\n",
            "Epoch 196/500\n",
            "15/15 [==============================] - 0s 4ms/step - loss: 0.0792 - accuracy: 0.9673 - val_loss: 0.0383 - val_accuracy: 0.9778\n",
            "Epoch 197/500\n",
            "15/15 [==============================] - 0s 5ms/step - loss: 0.0619 - accuracy: 0.9949 - val_loss: 0.0375 - val_accuracy: 1.0000\n",
            "Epoch 198/500\n",
            "15/15 [==============================] - 0s 5ms/step - loss: 0.0711 - accuracy: 0.9712 - val_loss: 0.0423 - val_accuracy: 0.9778\n",
            "Epoch 199/500\n",
            "15/15 [==============================] - 0s 5ms/step - loss: 0.1241 - accuracy: 0.9485 - val_loss: 0.0371 - val_accuracy: 1.0000\n",
            "Epoch 200/500\n",
            "15/15 [==============================] - 0s 5ms/step - loss: 0.0515 - accuracy: 0.9795 - val_loss: 0.0370 - val_accuracy: 1.0000\n",
            "Epoch 201/500\n",
            "15/15 [==============================] - 0s 5ms/step - loss: 0.0871 - accuracy: 0.9678 - val_loss: 0.0467 - val_accuracy: 0.9778\n",
            "Epoch 202/500\n",
            "15/15 [==============================] - 0s 5ms/step - loss: 0.0733 - accuracy: 0.9589 - val_loss: 0.0379 - val_accuracy: 0.9778\n",
            "Epoch 203/500\n",
            "15/15 [==============================] - 0s 5ms/step - loss: 0.0777 - accuracy: 0.9750 - val_loss: 0.0367 - val_accuracy: 1.0000\n",
            "Epoch 204/500\n",
            "15/15 [==============================] - 0s 5ms/step - loss: 0.0442 - accuracy: 0.9949 - val_loss: 0.0382 - val_accuracy: 0.9778\n",
            "Epoch 205/500\n",
            "15/15 [==============================] - 0s 5ms/step - loss: 0.1136 - accuracy: 0.9548 - val_loss: 0.0454 - val_accuracy: 0.9778\n",
            "Epoch 206/500\n",
            "15/15 [==============================] - 0s 5ms/step - loss: 0.0957 - accuracy: 0.9589 - val_loss: 0.0368 - val_accuracy: 1.0000\n",
            "Epoch 207/500\n",
            "15/15 [==============================] - 0s 5ms/step - loss: 0.0590 - accuracy: 0.9919 - val_loss: 0.0397 - val_accuracy: 0.9778\n",
            "Epoch 208/500\n",
            "15/15 [==============================] - 0s 5ms/step - loss: 0.0607 - accuracy: 0.9750 - val_loss: 0.0388 - val_accuracy: 0.9778\n",
            "Epoch 209/500\n",
            "15/15 [==============================] - 0s 5ms/step - loss: 0.0605 - accuracy: 0.9861 - val_loss: 0.0377 - val_accuracy: 0.9778\n",
            "Epoch 210/500\n",
            "15/15 [==============================] - 0s 5ms/step - loss: 0.1505 - accuracy: 0.9325 - val_loss: 0.0363 - val_accuracy: 1.0000\n",
            "Epoch 211/500\n",
            "15/15 [==============================] - 0s 6ms/step - loss: 0.0824 - accuracy: 0.9784 - val_loss: 0.0362 - val_accuracy: 1.0000\n",
            "Epoch 212/500\n",
            "15/15 [==============================] - 0s 6ms/step - loss: 0.0581 - accuracy: 0.9872 - val_loss: 0.0394 - val_accuracy: 0.9778\n",
            "Epoch 213/500\n",
            "15/15 [==============================] - 0s 5ms/step - loss: 0.0834 - accuracy: 0.9675 - val_loss: 0.0390 - val_accuracy: 0.9778\n",
            "Epoch 214/500\n",
            "15/15 [==============================] - 0s 5ms/step - loss: 0.0573 - accuracy: 0.9932 - val_loss: 0.0356 - val_accuracy: 1.0000\n",
            "Epoch 215/500\n",
            "15/15 [==============================] - 0s 5ms/step - loss: 0.1037 - accuracy: 0.9779 - val_loss: 0.0418 - val_accuracy: 0.9778\n",
            "Epoch 216/500\n",
            "15/15 [==============================] - 0s 4ms/step - loss: 0.0707 - accuracy: 0.9836 - val_loss: 0.0354 - val_accuracy: 1.0000\n",
            "Epoch 217/500\n",
            "15/15 [==============================] - 0s 5ms/step - loss: 0.0576 - accuracy: 0.9915 - val_loss: 0.0374 - val_accuracy: 0.9778\n",
            "Epoch 218/500\n",
            "15/15 [==============================] - 0s 5ms/step - loss: 0.0674 - accuracy: 0.9861 - val_loss: 0.0408 - val_accuracy: 0.9778\n",
            "Epoch 219/500\n",
            "15/15 [==============================] - 0s 5ms/step - loss: 0.0741 - accuracy: 0.9820 - val_loss: 0.0366 - val_accuracy: 0.9778\n",
            "Epoch 220/500\n",
            "15/15 [==============================] - 0s 5ms/step - loss: 0.0893 - accuracy: 0.9748 - val_loss: 0.0393 - val_accuracy: 0.9778\n",
            "Epoch 221/500\n",
            "15/15 [==============================] - 0s 4ms/step - loss: 0.0800 - accuracy: 0.9963 - val_loss: 0.0350 - val_accuracy: 1.0000\n",
            "Epoch 222/500\n",
            "15/15 [==============================] - 0s 5ms/step - loss: 0.1293 - accuracy: 0.9420 - val_loss: 0.0427 - val_accuracy: 0.9778\n",
            "Epoch 223/500\n",
            "15/15 [==============================] - 0s 5ms/step - loss: 0.0627 - accuracy: 0.9621 - val_loss: 0.0349 - val_accuracy: 1.0000\n",
            "Epoch 224/500\n",
            "15/15 [==============================] - 0s 5ms/step - loss: 0.0817 - accuracy: 0.9752 - val_loss: 0.0406 - val_accuracy: 0.9778\n",
            "Epoch 225/500\n",
            "15/15 [==============================] - 0s 5ms/step - loss: 0.0878 - accuracy: 0.9549 - val_loss: 0.0374 - val_accuracy: 0.9778\n",
            "Epoch 226/500\n",
            "15/15 [==============================] - 0s 5ms/step - loss: 0.0981 - accuracy: 0.9715 - val_loss: 0.0368 - val_accuracy: 0.9778\n",
            "Epoch 227/500\n",
            "15/15 [==============================] - 0s 5ms/step - loss: 0.0681 - accuracy: 0.9791 - val_loss: 0.0356 - val_accuracy: 0.9778\n",
            "Epoch 228/500\n",
            "15/15 [==============================] - 0s 5ms/step - loss: 0.0523 - accuracy: 0.9915 - val_loss: 0.0369 - val_accuracy: 0.9778\n",
            "Epoch 229/500\n",
            "15/15 [==============================] - 0s 5ms/step - loss: 0.0657 - accuracy: 0.9843 - val_loss: 0.0360 - val_accuracy: 0.9778\n",
            "Epoch 230/500\n",
            "15/15 [==============================] - 0s 5ms/step - loss: 0.0813 - accuracy: 0.9696 - val_loss: 0.0369 - val_accuracy: 0.9778\n",
            "Epoch 231/500\n",
            "15/15 [==============================] - 0s 5ms/step - loss: 0.0900 - accuracy: 0.9763 - val_loss: 0.0348 - val_accuracy: 0.9778\n",
            "Epoch 232/500\n",
            "15/15 [==============================] - 0s 5ms/step - loss: 0.0524 - accuracy: 0.9922 - val_loss: 0.0358 - val_accuracy: 0.9778\n",
            "Epoch 233/500\n",
            "15/15 [==============================] - 0s 5ms/step - loss: 0.0497 - accuracy: 0.9855 - val_loss: 0.0465 - val_accuracy: 0.9778\n",
            "Epoch 234/500\n",
            "15/15 [==============================] - 0s 5ms/step - loss: 0.0908 - accuracy: 0.9689 - val_loss: 0.0340 - val_accuracy: 1.0000\n",
            "Epoch 235/500\n",
            "15/15 [==============================] - 0s 5ms/step - loss: 0.1643 - accuracy: 0.9396 - val_loss: 0.0372 - val_accuracy: 0.9778\n",
            "Epoch 236/500\n",
            "15/15 [==============================] - 0s 6ms/step - loss: 0.0620 - accuracy: 0.9915 - val_loss: 0.0349 - val_accuracy: 0.9778\n",
            "Epoch 237/500\n",
            "15/15 [==============================] - 0s 5ms/step - loss: 0.0520 - accuracy: 0.9934 - val_loss: 0.0379 - val_accuracy: 0.9778\n",
            "Epoch 238/500\n",
            "15/15 [==============================] - 0s 4ms/step - loss: 0.0883 - accuracy: 0.9812 - val_loss: 0.0363 - val_accuracy: 0.9778\n",
            "Epoch 239/500\n",
            "15/15 [==============================] - 0s 4ms/step - loss: 0.0814 - accuracy: 0.9611 - val_loss: 0.0350 - val_accuracy: 0.9778\n",
            "Epoch 240/500\n",
            "15/15 [==============================] - 0s 5ms/step - loss: 0.0753 - accuracy: 0.9812 - val_loss: 0.0354 - val_accuracy: 0.9778\n",
            "Epoch 241/500\n",
            "15/15 [==============================] - 0s 5ms/step - loss: 0.0595 - accuracy: 0.9806 - val_loss: 0.0343 - val_accuracy: 0.9778\n",
            "Epoch 242/500\n",
            "15/15 [==============================] - 0s 4ms/step - loss: 0.0851 - accuracy: 0.9723 - val_loss: 0.0392 - val_accuracy: 0.9778\n",
            "Epoch 243/500\n",
            "15/15 [==============================] - 0s 5ms/step - loss: 0.0876 - accuracy: 0.9704 - val_loss: 0.0339 - val_accuracy: 0.9778\n",
            "Epoch 244/500\n",
            "15/15 [==============================] - 0s 5ms/step - loss: 0.1224 - accuracy: 0.9648 - val_loss: 0.0355 - val_accuracy: 0.9778\n",
            "Epoch 245/500\n",
            "15/15 [==============================] - 0s 5ms/step - loss: 0.0698 - accuracy: 0.9726 - val_loss: 0.0389 - val_accuracy: 0.9778\n",
            "Epoch 246/500\n",
            "15/15 [==============================] - 0s 4ms/step - loss: 0.0685 - accuracy: 0.9802 - val_loss: 0.0348 - val_accuracy: 0.9778\n",
            "Epoch 247/500\n",
            "15/15 [==============================] - 0s 6ms/step - loss: 0.0938 - accuracy: 0.9769 - val_loss: 0.0357 - val_accuracy: 0.9778\n",
            "Epoch 248/500\n",
            "15/15 [==============================] - 0s 5ms/step - loss: 0.0728 - accuracy: 0.9857 - val_loss: 0.0356 - val_accuracy: 0.9778\n",
            "Epoch 249/500\n",
            "15/15 [==============================] - 0s 5ms/step - loss: 0.0629 - accuracy: 0.9851 - val_loss: 0.0365 - val_accuracy: 0.9778\n",
            "Epoch 250/500\n",
            "15/15 [==============================] - 0s 5ms/step - loss: 0.0611 - accuracy: 0.9910 - val_loss: 0.0358 - val_accuracy: 0.9778\n",
            "Epoch 251/500\n",
            "15/15 [==============================] - 0s 5ms/step - loss: 0.0595 - accuracy: 0.9871 - val_loss: 0.0392 - val_accuracy: 0.9778\n",
            "Epoch 252/500\n",
            "15/15 [==============================] - 0s 5ms/step - loss: 0.0692 - accuracy: 0.9511 - val_loss: 0.0332 - val_accuracy: 1.0000\n",
            "Epoch 253/500\n",
            "15/15 [==============================] - 0s 5ms/step - loss: 0.0994 - accuracy: 0.9769 - val_loss: 0.0359 - val_accuracy: 0.9778\n",
            "Epoch 254/500\n",
            "15/15 [==============================] - 0s 5ms/step - loss: 0.0687 - accuracy: 0.9809 - val_loss: 0.0374 - val_accuracy: 0.9778\n",
            "Epoch 255/500\n",
            "15/15 [==============================] - 0s 5ms/step - loss: 0.0665 - accuracy: 0.9716 - val_loss: 0.0335 - val_accuracy: 0.9778\n",
            "Epoch 256/500\n",
            "15/15 [==============================] - 0s 5ms/step - loss: 0.1154 - accuracy: 0.9599 - val_loss: 0.0335 - val_accuracy: 0.9778\n",
            "Epoch 257/500\n",
            "15/15 [==============================] - 0s 5ms/step - loss: 0.0701 - accuracy: 0.9834 - val_loss: 0.0353 - val_accuracy: 0.9778\n",
            "Epoch 258/500\n",
            "15/15 [==============================] - 0s 5ms/step - loss: 0.0614 - accuracy: 0.9729 - val_loss: 0.0346 - val_accuracy: 0.9778\n",
            "Epoch 259/500\n",
            "15/15 [==============================] - 0s 4ms/step - loss: 0.0664 - accuracy: 0.9821 - val_loss: 0.0342 - val_accuracy: 0.9778\n",
            "Epoch 260/500\n",
            "15/15 [==============================] - 0s 6ms/step - loss: 0.0872 - accuracy: 0.9693 - val_loss: 0.0357 - val_accuracy: 0.9778\n",
            "Epoch 261/500\n",
            "15/15 [==============================] - 0s 5ms/step - loss: 0.0945 - accuracy: 0.9582 - val_loss: 0.0351 - val_accuracy: 0.9778\n",
            "Epoch 262/500\n",
            "15/15 [==============================] - 0s 4ms/step - loss: 0.0837 - accuracy: 0.9782 - val_loss: 0.0334 - val_accuracy: 0.9778\n",
            "Epoch 263/500\n",
            "15/15 [==============================] - 0s 5ms/step - loss: 0.0682 - accuracy: 0.9950 - val_loss: 0.0364 - val_accuracy: 0.9778\n",
            "Epoch 264/500\n",
            "15/15 [==============================] - 0s 5ms/step - loss: 0.0802 - accuracy: 0.9834 - val_loss: 0.0393 - val_accuracy: 0.9778\n",
            "Epoch 265/500\n",
            "15/15 [==============================] - 0s 5ms/step - loss: 0.1116 - accuracy: 0.9534 - val_loss: 0.0330 - val_accuracy: 0.9778\n",
            "Epoch 266/500\n",
            "15/15 [==============================] - 0s 5ms/step - loss: 0.0778 - accuracy: 0.9782 - val_loss: 0.0373 - val_accuracy: 0.9778\n",
            "Epoch 267/500\n",
            "15/15 [==============================] - 0s 5ms/step - loss: 0.1006 - accuracy: 0.9723 - val_loss: 0.0339 - val_accuracy: 0.9778\n",
            "Epoch 268/500\n",
            "15/15 [==============================] - 0s 5ms/step - loss: 0.1157 - accuracy: 0.9559 - val_loss: 0.0334 - val_accuracy: 0.9778\n",
            "Epoch 269/500\n",
            "15/15 [==============================] - 0s 5ms/step - loss: 0.0615 - accuracy: 0.9846 - val_loss: 0.0336 - val_accuracy: 0.9778\n",
            "Epoch 270/500\n",
            "15/15 [==============================] - 0s 5ms/step - loss: 0.0429 - accuracy: 0.9890 - val_loss: 0.0337 - val_accuracy: 0.9778\n",
            "Epoch 271/500\n",
            "15/15 [==============================] - 0s 5ms/step - loss: 0.0650 - accuracy: 0.9867 - val_loss: 0.0353 - val_accuracy: 0.9778\n",
            "Epoch 272/500\n",
            "15/15 [==============================] - 0s 5ms/step - loss: 0.0682 - accuracy: 0.9730 - val_loss: 0.0380 - val_accuracy: 0.9778\n",
            "Epoch 273/500\n",
            "15/15 [==============================] - 0s 6ms/step - loss: 0.1002 - accuracy: 0.9693 - val_loss: 0.0315 - val_accuracy: 1.0000\n",
            "Epoch 274/500\n",
            "15/15 [==============================] - 0s 5ms/step - loss: 0.0555 - accuracy: 0.9905 - val_loss: 0.0337 - val_accuracy: 0.9778\n",
            "Epoch 275/500\n",
            "15/15 [==============================] - 0s 5ms/step - loss: 0.0669 - accuracy: 0.9897 - val_loss: 0.0386 - val_accuracy: 0.9778\n",
            "Epoch 276/500\n",
            "15/15 [==============================] - 0s 5ms/step - loss: 0.0472 - accuracy: 0.9950 - val_loss: 0.0340 - val_accuracy: 0.9778\n",
            "Epoch 277/500\n",
            "15/15 [==============================] - 0s 5ms/step - loss: 0.0398 - accuracy: 0.9911 - val_loss: 0.0340 - val_accuracy: 0.9778\n",
            "Epoch 278/500\n",
            "15/15 [==============================] - 0s 5ms/step - loss: 0.0875 - accuracy: 0.9622 - val_loss: 0.0334 - val_accuracy: 0.9778\n",
            "Epoch 279/500\n",
            "15/15 [==============================] - 0s 5ms/step - loss: 0.0810 - accuracy: 0.9745 - val_loss: 0.0347 - val_accuracy: 0.9778\n",
            "Epoch 280/500\n",
            "15/15 [==============================] - 0s 5ms/step - loss: 0.0743 - accuracy: 0.9846 - val_loss: 0.0365 - val_accuracy: 0.9778\n",
            "Epoch 281/500\n",
            "15/15 [==============================] - 0s 5ms/step - loss: 0.1001 - accuracy: 0.9555 - val_loss: 0.0344 - val_accuracy: 0.9778\n",
            "Epoch 282/500\n",
            "15/15 [==============================] - 0s 5ms/step - loss: 0.0529 - accuracy: 0.9879 - val_loss: 0.0325 - val_accuracy: 0.9778\n",
            "Epoch 283/500\n",
            "15/15 [==============================] - 0s 5ms/step - loss: 0.0727 - accuracy: 0.9821 - val_loss: 0.0360 - val_accuracy: 0.9778\n",
            "Epoch 284/500\n",
            "15/15 [==============================] - 0s 5ms/step - loss: 0.0949 - accuracy: 0.9582 - val_loss: 0.0317 - val_accuracy: 0.9778\n",
            "Epoch 285/500\n",
            "15/15 [==============================] - 0s 5ms/step - loss: 0.0582 - accuracy: 0.9782 - val_loss: 0.0348 - val_accuracy: 0.9778\n",
            "Epoch 286/500\n",
            "15/15 [==============================] - 0s 6ms/step - loss: 0.0863 - accuracy: 0.9720 - val_loss: 0.0353 - val_accuracy: 0.9778\n",
            "Epoch 287/500\n",
            "15/15 [==============================] - 0s 5ms/step - loss: 0.0564 - accuracy: 0.9859 - val_loss: 0.0324 - val_accuracy: 0.9778\n",
            "Epoch 288/500\n",
            "15/15 [==============================] - 0s 5ms/step - loss: 0.0613 - accuracy: 0.9813 - val_loss: 0.0393 - val_accuracy: 0.9778\n",
            "Epoch 289/500\n",
            "15/15 [==============================] - 0s 5ms/step - loss: 0.0924 - accuracy: 0.9704 - val_loss: 0.0322 - val_accuracy: 0.9778\n",
            "Epoch 290/500\n",
            "15/15 [==============================] - 0s 5ms/step - loss: 0.0591 - accuracy: 0.9935 - val_loss: 0.0317 - val_accuracy: 0.9778\n",
            "Epoch 291/500\n",
            "15/15 [==============================] - 0s 6ms/step - loss: 0.1237 - accuracy: 0.9555 - val_loss: 0.0344 - val_accuracy: 0.9778\n",
            "Epoch 292/500\n",
            "15/15 [==============================] - 0s 5ms/step - loss: 0.0622 - accuracy: 0.9867 - val_loss: 0.0352 - val_accuracy: 0.9778\n",
            "Epoch 293/500\n",
            "15/15 [==============================] - 0s 5ms/step - loss: 0.0852 - accuracy: 0.9578 - val_loss: 0.0333 - val_accuracy: 0.9778\n",
            "Epoch 294/500\n",
            "15/15 [==============================] - 0s 4ms/step - loss: 0.0646 - accuracy: 0.9821 - val_loss: 0.0310 - val_accuracy: 1.0000\n",
            "Epoch 295/500\n",
            "15/15 [==============================] - 0s 5ms/step - loss: 0.0626 - accuracy: 0.9821 - val_loss: 0.0407 - val_accuracy: 0.9778\n",
            "Epoch 296/500\n",
            "15/15 [==============================] - 0s 5ms/step - loss: 0.0841 - accuracy: 0.9778 - val_loss: 0.0329 - val_accuracy: 0.9778\n",
            "Epoch 297/500\n",
            "15/15 [==============================] - 0s 5ms/step - loss: 0.0743 - accuracy: 0.9800 - val_loss: 0.0362 - val_accuracy: 0.9778\n",
            "Epoch 298/500\n",
            "15/15 [==============================] - 0s 5ms/step - loss: 0.0666 - accuracy: 0.9799 - val_loss: 0.0321 - val_accuracy: 0.9778\n",
            "Epoch 299/500\n",
            "15/15 [==============================] - 0s 5ms/step - loss: 0.0543 - accuracy: 0.9766 - val_loss: 0.0354 - val_accuracy: 0.9778\n",
            "Epoch 300/500\n",
            "15/15 [==============================] - 0s 5ms/step - loss: 0.0845 - accuracy: 0.9782 - val_loss: 0.0341 - val_accuracy: 0.9778\n",
            "Epoch 301/500\n",
            "15/15 [==============================] - 0s 5ms/step - loss: 0.1296 - accuracy: 0.9485 - val_loss: 0.0337 - val_accuracy: 0.9778\n",
            "Epoch 302/500\n",
            "15/15 [==============================] - 0s 5ms/step - loss: 0.0609 - accuracy: 0.9934 - val_loss: 0.0312 - val_accuracy: 0.9778\n",
            "Epoch 303/500\n",
            "15/15 [==============================] - 0s 5ms/step - loss: 0.0890 - accuracy: 0.9761 - val_loss: 0.0413 - val_accuracy: 0.9778\n",
            "Epoch 304/500\n",
            "15/15 [==============================] - 0s 5ms/step - loss: 0.0568 - accuracy: 0.9771 - val_loss: 0.0320 - val_accuracy: 0.9778\n",
            "Epoch 305/500\n",
            "15/15 [==============================] - 0s 5ms/step - loss: 0.1202 - accuracy: 0.9627 - val_loss: 0.0329 - val_accuracy: 0.9778\n",
            "Epoch 306/500\n",
            "15/15 [==============================] - 0s 5ms/step - loss: 0.0654 - accuracy: 0.9834 - val_loss: 0.0351 - val_accuracy: 0.9778\n",
            "Epoch 307/500\n",
            "15/15 [==============================] - 0s 5ms/step - loss: 0.0833 - accuracy: 0.9708 - val_loss: 0.0363 - val_accuracy: 0.9778\n",
            "Epoch 308/500\n",
            "15/15 [==============================] - 0s 5ms/step - loss: 0.0544 - accuracy: 0.9904 - val_loss: 0.0325 - val_accuracy: 0.9778\n",
            "Epoch 309/500\n",
            "15/15 [==============================] - 0s 5ms/step - loss: 0.0910 - accuracy: 0.9671 - val_loss: 0.0340 - val_accuracy: 0.9778\n",
            "Epoch 310/500\n",
            "15/15 [==============================] - 0s 5ms/step - loss: 0.0981 - accuracy: 0.9559 - val_loss: 0.0337 - val_accuracy: 0.9778\n",
            "Epoch 311/500\n",
            "15/15 [==============================] - 0s 5ms/step - loss: 0.0541 - accuracy: 0.9836 - val_loss: 0.0309 - val_accuracy: 0.9778\n",
            "Epoch 312/500\n",
            "15/15 [==============================] - 0s 5ms/step - loss: 0.0458 - accuracy: 0.9896 - val_loss: 0.0368 - val_accuracy: 0.9778\n",
            "Epoch 313/500\n",
            "15/15 [==============================] - 0s 5ms/step - loss: 0.0452 - accuracy: 0.9851 - val_loss: 0.0337 - val_accuracy: 0.9778\n",
            "Epoch 314/500\n",
            "15/15 [==============================] - 0s 5ms/step - loss: 0.0873 - accuracy: 0.9665 - val_loss: 0.0322 - val_accuracy: 0.9778\n",
            "Epoch 315/500\n",
            "15/15 [==============================] - 0s 6ms/step - loss: 0.1250 - accuracy: 0.9665 - val_loss: 0.0339 - val_accuracy: 0.9778\n",
            "Epoch 316/500\n",
            "15/15 [==============================] - 0s 5ms/step - loss: 0.0679 - accuracy: 0.9800 - val_loss: 0.0346 - val_accuracy: 0.9778\n",
            "Epoch 317/500\n",
            "15/15 [==============================] - 0s 5ms/step - loss: 0.0645 - accuracy: 0.9843 - val_loss: 0.0339 - val_accuracy: 0.9778\n",
            "Epoch 318/500\n",
            "15/15 [==============================] - 0s 5ms/step - loss: 0.0538 - accuracy: 0.9884 - val_loss: 0.0341 - val_accuracy: 0.9778\n",
            "Epoch 319/500\n",
            "15/15 [==============================] - 0s 5ms/step - loss: 0.1217 - accuracy: 0.9559 - val_loss: 0.0338 - val_accuracy: 0.9778\n",
            "Epoch 320/500\n",
            "15/15 [==============================] - 0s 5ms/step - loss: 0.0497 - accuracy: 0.9901 - val_loss: 0.0346 - val_accuracy: 0.9778\n",
            "Epoch 321/500\n",
            "15/15 [==============================] - 0s 5ms/step - loss: 0.0452 - accuracy: 0.9956 - val_loss: 0.0314 - val_accuracy: 0.9778\n",
            "Epoch 322/500\n",
            "15/15 [==============================] - 0s 5ms/step - loss: 0.0648 - accuracy: 0.9869 - val_loss: 0.0366 - val_accuracy: 0.9778\n",
            "Epoch 323/500\n",
            "15/15 [==============================] - 0s 5ms/step - loss: 0.0511 - accuracy: 0.9917 - val_loss: 0.0320 - val_accuracy: 0.9778\n",
            "Epoch 324/500\n",
            "15/15 [==============================] - 0s 5ms/step - loss: 0.1079 - accuracy: 0.9686 - val_loss: 0.0332 - val_accuracy: 0.9778\n",
            "Epoch 325/500\n",
            "15/15 [==============================] - 0s 5ms/step - loss: 0.0827 - accuracy: 0.9831 - val_loss: 0.0364 - val_accuracy: 0.9778\n",
            "Epoch 326/500\n",
            "15/15 [==============================] - 0s 5ms/step - loss: 0.0887 - accuracy: 0.9743 - val_loss: 0.0354 - val_accuracy: 0.9778\n",
            "Epoch 327/500\n",
            "15/15 [==============================] - 0s 5ms/step - loss: 0.0524 - accuracy: 0.9905 - val_loss: 0.0297 - val_accuracy: 0.9778\n",
            "Epoch 328/500\n",
            "15/15 [==============================] - 0s 5ms/step - loss: 0.0886 - accuracy: 0.9745 - val_loss: 0.0418 - val_accuracy: 0.9778\n",
            "Epoch 329/500\n",
            "15/15 [==============================] - 0s 5ms/step - loss: 0.0625 - accuracy: 0.9761 - val_loss: 0.0307 - val_accuracy: 0.9778\n",
            "Epoch 330/500\n",
            "15/15 [==============================] - 0s 5ms/step - loss: 0.0776 - accuracy: 0.9778 - val_loss: 0.0334 - val_accuracy: 0.9778\n",
            "Epoch 331/500\n",
            "15/15 [==============================] - 0s 5ms/step - loss: 0.0542 - accuracy: 0.9891 - val_loss: 0.0338 - val_accuracy: 0.9778\n",
            "Epoch 332/500\n",
            "15/15 [==============================] - 0s 5ms/step - loss: 0.0476 - accuracy: 0.9941 - val_loss: 0.0331 - val_accuracy: 0.9778\n",
            "Epoch 333/500\n",
            "15/15 [==============================] - 0s 5ms/step - loss: 0.0596 - accuracy: 0.9826 - val_loss: 0.0330 - val_accuracy: 0.9778\n",
            "Epoch 334/500\n",
            "15/15 [==============================] - 0s 5ms/step - loss: 0.0557 - accuracy: 0.9942 - val_loss: 0.0324 - val_accuracy: 0.9778\n",
            "Epoch 335/500\n",
            "15/15 [==============================] - 0s 5ms/step - loss: 0.0515 - accuracy: 0.9903 - val_loss: 0.0434 - val_accuracy: 0.9778\n",
            "Epoch 336/500\n",
            "15/15 [==============================] - 0s 5ms/step - loss: 0.0640 - accuracy: 0.9720 - val_loss: 0.0311 - val_accuracy: 0.9778\n",
            "Epoch 337/500\n",
            "15/15 [==============================] - 0s 5ms/step - loss: 0.0576 - accuracy: 0.9917 - val_loss: 0.0303 - val_accuracy: 0.9778\n",
            "Epoch 338/500\n",
            "15/15 [==============================] - 0s 5ms/step - loss: 0.0502 - accuracy: 0.9801 - val_loss: 0.0353 - val_accuracy: 0.9778\n",
            "Epoch 339/500\n",
            "15/15 [==============================] - 0s 6ms/step - loss: 0.0517 - accuracy: 0.9932 - val_loss: 0.0300 - val_accuracy: 0.9778\n",
            "Epoch 340/500\n",
            "15/15 [==============================] - 0s 5ms/step - loss: 0.0534 - accuracy: 0.9842 - val_loss: 0.0369 - val_accuracy: 0.9778\n",
            "Epoch 341/500\n",
            "15/15 [==============================] - 0s 5ms/step - loss: 0.1247 - accuracy: 0.9599 - val_loss: 0.0310 - val_accuracy: 0.9778\n",
            "Epoch 342/500\n",
            "15/15 [==============================] - 0s 5ms/step - loss: 0.0662 - accuracy: 0.9908 - val_loss: 0.0309 - val_accuracy: 0.9778\n",
            "Epoch 343/500\n",
            "15/15 [==============================] - 0s 5ms/step - loss: 0.0630 - accuracy: 0.9714 - val_loss: 0.0354 - val_accuracy: 0.9778\n",
            "Epoch 344/500\n",
            "15/15 [==============================] - 0s 5ms/step - loss: 0.0708 - accuracy: 0.9818 - val_loss: 0.0334 - val_accuracy: 0.9778\n",
            "Epoch 345/500\n",
            "15/15 [==============================] - 0s 5ms/step - loss: 0.0587 - accuracy: 0.9861 - val_loss: 0.0342 - val_accuracy: 0.9778\n",
            "Epoch 346/500\n",
            "15/15 [==============================] - 0s 6ms/step - loss: 0.0587 - accuracy: 0.9889 - val_loss: 0.0357 - val_accuracy: 0.9778\n",
            "Epoch 347/500\n",
            "15/15 [==============================] - 0s 5ms/step - loss: 0.0453 - accuracy: 0.9910 - val_loss: 0.0342 - val_accuracy: 0.9778\n",
            "Epoch 348/500\n",
            "15/15 [==============================] - 0s 5ms/step - loss: 0.0428 - accuracy: 0.9934 - val_loss: 0.0326 - val_accuracy: 0.9778\n",
            "Epoch 349/500\n",
            "15/15 [==============================] - 0s 5ms/step - loss: 0.0685 - accuracy: 0.9857 - val_loss: 0.0413 - val_accuracy: 0.9778\n",
            "Epoch 350/500\n",
            "15/15 [==============================] - 0s 5ms/step - loss: 0.0613 - accuracy: 0.9791 - val_loss: 0.0312 - val_accuracy: 0.9778\n",
            "Epoch 351/500\n",
            "15/15 [==============================] - 0s 5ms/step - loss: 0.0625 - accuracy: 0.9820 - val_loss: 0.0304 - val_accuracy: 0.9778\n",
            "Epoch 352/500\n",
            "15/15 [==============================] - 0s 5ms/step - loss: 0.0903 - accuracy: 0.9745 - val_loss: 0.0462 - val_accuracy: 0.9778\n",
            "Epoch 353/500\n",
            "15/15 [==============================] - 0s 5ms/step - loss: 0.0510 - accuracy: 0.9861 - val_loss: 0.0291 - val_accuracy: 0.9778\n",
            "Epoch 354/500\n",
            "15/15 [==============================] - 0s 5ms/step - loss: 0.0561 - accuracy: 0.9905 - val_loss: 0.0314 - val_accuracy: 0.9778\n",
            "Epoch 355/500\n",
            "15/15 [==============================] - 0s 5ms/step - loss: 0.0420 - accuracy: 0.9869 - val_loss: 0.0344 - val_accuracy: 0.9778\n",
            "Epoch 356/500\n",
            "15/15 [==============================] - 0s 5ms/step - loss: 0.0673 - accuracy: 0.9922 - val_loss: 0.0324 - val_accuracy: 0.9778\n",
            "Epoch 357/500\n",
            "15/15 [==============================] - 0s 5ms/step - loss: 0.0573 - accuracy: 0.9760 - val_loss: 0.0325 - val_accuracy: 0.9778\n",
            "Epoch 358/500\n",
            "15/15 [==============================] - 0s 5ms/step - loss: 0.0939 - accuracy: 0.9671 - val_loss: 0.0330 - val_accuracy: 0.9778\n",
            "Epoch 359/500\n",
            "15/15 [==============================] - 0s 5ms/step - loss: 0.0683 - accuracy: 0.9842 - val_loss: 0.0330 - val_accuracy: 0.9778\n",
            "Epoch 360/500\n",
            "15/15 [==============================] - 0s 5ms/step - loss: 0.0633 - accuracy: 0.9813 - val_loss: 0.0297 - val_accuracy: 0.9778\n",
            "Epoch 361/500\n",
            "15/15 [==============================] - 0s 5ms/step - loss: 0.0855 - accuracy: 0.9638 - val_loss: 0.0353 - val_accuracy: 0.9778\n",
            "Epoch 362/500\n",
            "15/15 [==============================] - 0s 5ms/step - loss: 0.0511 - accuracy: 0.9918 - val_loss: 0.0317 - val_accuracy: 0.9778\n",
            "Epoch 363/500\n",
            "15/15 [==============================] - 0s 5ms/step - loss: 0.0642 - accuracy: 0.9788 - val_loss: 0.0366 - val_accuracy: 0.9778\n",
            "Epoch 364/500\n",
            "15/15 [==============================] - 0s 5ms/step - loss: 0.0710 - accuracy: 0.9821 - val_loss: 0.0331 - val_accuracy: 0.9778\n",
            "Epoch 365/500\n",
            "15/15 [==============================] - 0s 5ms/step - loss: 0.0690 - accuracy: 0.9827 - val_loss: 0.0380 - val_accuracy: 0.9778\n",
            "Epoch 366/500\n",
            "15/15 [==============================] - 0s 5ms/step - loss: 0.1006 - accuracy: 0.9555 - val_loss: 0.0316 - val_accuracy: 0.9778\n",
            "Epoch 367/500\n",
            "15/15 [==============================] - 0s 5ms/step - loss: 0.0515 - accuracy: 0.9880 - val_loss: 0.0301 - val_accuracy: 0.9778\n",
            "Epoch 368/500\n",
            "15/15 [==============================] - 0s 5ms/step - loss: 0.0622 - accuracy: 0.9818 - val_loss: 0.0360 - val_accuracy: 0.9778\n",
            "Epoch 369/500\n",
            "15/15 [==============================] - 0s 5ms/step - loss: 0.0902 - accuracy: 0.9679 - val_loss: 0.0301 - val_accuracy: 0.9778\n",
            "Epoch 370/500\n",
            "15/15 [==============================] - 0s 4ms/step - loss: 0.0842 - accuracy: 0.9728 - val_loss: 0.0331 - val_accuracy: 0.9778\n",
            "Epoch 371/500\n",
            "15/15 [==============================] - 0s 5ms/step - loss: 0.0766 - accuracy: 0.9754 - val_loss: 0.0288 - val_accuracy: 0.9778\n",
            "Epoch 372/500\n",
            "15/15 [==============================] - 0s 5ms/step - loss: 0.0549 - accuracy: 0.9872 - val_loss: 0.0330 - val_accuracy: 0.9778\n",
            "Epoch 373/500\n",
            "15/15 [==============================] - 0s 5ms/step - loss: 0.0899 - accuracy: 0.9471 - val_loss: 0.0372 - val_accuracy: 0.9778\n",
            "Epoch 374/500\n",
            "15/15 [==============================] - 0s 5ms/step - loss: 0.0939 - accuracy: 0.9733 - val_loss: 0.0305 - val_accuracy: 0.9778\n",
            "Epoch 375/500\n",
            "15/15 [==============================] - 0s 5ms/step - loss: 0.0569 - accuracy: 0.9799 - val_loss: 0.0295 - val_accuracy: 0.9778\n",
            "Epoch 376/500\n",
            "15/15 [==============================] - 0s 6ms/step - loss: 0.0515 - accuracy: 0.9901 - val_loss: 0.0405 - val_accuracy: 0.9778\n",
            "Epoch 377/500\n",
            "15/15 [==============================] - 0s 5ms/step - loss: 0.0925 - accuracy: 0.9679 - val_loss: 0.0329 - val_accuracy: 0.9778\n",
            "Epoch 378/500\n",
            "15/15 [==============================] - 0s 5ms/step - loss: 0.0763 - accuracy: 0.9761 - val_loss: 0.0315 - val_accuracy: 0.9778\n",
            "Epoch 379/500\n",
            "15/15 [==============================] - 0s 6ms/step - loss: 0.0680 - accuracy: 0.9851 - val_loss: 0.0300 - val_accuracy: 0.9778\n",
            "Epoch 380/500\n",
            "15/15 [==============================] - 0s 6ms/step - loss: 0.0638 - accuracy: 0.9763 - val_loss: 0.0331 - val_accuracy: 0.9778\n",
            "Epoch 381/500\n",
            "15/15 [==============================] - 0s 5ms/step - loss: 0.0938 - accuracy: 0.9616 - val_loss: 0.0299 - val_accuracy: 0.9778\n",
            "Epoch 382/500\n",
            "15/15 [==============================] - 0s 5ms/step - loss: 0.0731 - accuracy: 0.9673 - val_loss: 0.0283 - val_accuracy: 0.9778\n",
            "Epoch 383/500\n",
            "15/15 [==============================] - 0s 5ms/step - loss: 0.0552 - accuracy: 0.9867 - val_loss: 0.0360 - val_accuracy: 0.9778\n",
            "Epoch 384/500\n",
            "15/15 [==============================] - 0s 5ms/step - loss: 0.0997 - accuracy: 0.9467 - val_loss: 0.0338 - val_accuracy: 0.9778\n",
            "Epoch 385/500\n",
            "15/15 [==============================] - 0s 5ms/step - loss: 0.0946 - accuracy: 0.9503 - val_loss: 0.0311 - val_accuracy: 0.9778\n",
            "Epoch 386/500\n",
            "15/15 [==============================] - 0s 5ms/step - loss: 0.0771 - accuracy: 0.9836 - val_loss: 0.0290 - val_accuracy: 0.9778\n",
            "Epoch 387/500\n",
            "15/15 [==============================] - 0s 5ms/step - loss: 0.0450 - accuracy: 0.9911 - val_loss: 0.0315 - val_accuracy: 0.9778\n",
            "Epoch 388/500\n",
            "15/15 [==============================] - 0s 5ms/step - loss: 0.0931 - accuracy: 0.9599 - val_loss: 0.0338 - val_accuracy: 0.9778\n",
            "Epoch 389/500\n",
            "15/15 [==============================] - 0s 5ms/step - loss: 0.0401 - accuracy: 0.9889 - val_loss: 0.0319 - val_accuracy: 0.9778\n",
            "Epoch 390/500\n",
            "15/15 [==============================] - 0s 5ms/step - loss: 0.0531 - accuracy: 0.9843 - val_loss: 0.0295 - val_accuracy: 0.9778\n",
            "Epoch 391/500\n",
            "15/15 [==============================] - 0s 5ms/step - loss: 0.0470 - accuracy: 0.9942 - val_loss: 0.0315 - val_accuracy: 0.9778\n",
            "Epoch 392/500\n",
            "15/15 [==============================] - 0s 5ms/step - loss: 0.0643 - accuracy: 0.9661 - val_loss: 0.0351 - val_accuracy: 0.9778\n",
            "Epoch 393/500\n",
            "15/15 [==============================] - 0s 5ms/step - loss: 0.0516 - accuracy: 0.9834 - val_loss: 0.0356 - val_accuracy: 0.9778\n",
            "Epoch 394/500\n",
            "15/15 [==============================] - 0s 5ms/step - loss: 0.0404 - accuracy: 0.9934 - val_loss: 0.0313 - val_accuracy: 0.9778\n",
            "Epoch 395/500\n",
            "15/15 [==============================] - 0s 5ms/step - loss: 0.0745 - accuracy: 0.9769 - val_loss: 0.0324 - val_accuracy: 0.9778\n",
            "Epoch 396/500\n",
            "15/15 [==============================] - 0s 5ms/step - loss: 0.0393 - accuracy: 0.9870 - val_loss: 0.0328 - val_accuracy: 0.9778\n",
            "Epoch 397/500\n",
            "15/15 [==============================] - 0s 5ms/step - loss: 0.0449 - accuracy: 0.9849 - val_loss: 0.0347 - val_accuracy: 0.9778\n",
            "Epoch 398/500\n",
            "15/15 [==============================] - 0s 5ms/step - loss: 0.0548 - accuracy: 0.9679 - val_loss: 0.0282 - val_accuracy: 0.9778\n",
            "Epoch 399/500\n",
            "15/15 [==============================] - 0s 5ms/step - loss: 0.0600 - accuracy: 0.9746 - val_loss: 0.0326 - val_accuracy: 0.9778\n",
            "Epoch 400/500\n",
            "15/15 [==============================] - 0s 6ms/step - loss: 0.1343 - accuracy: 0.9413 - val_loss: 0.0300 - val_accuracy: 0.9778\n",
            "Epoch 401/500\n",
            "15/15 [==============================] - 0s 5ms/step - loss: 0.0764 - accuracy: 0.9836 - val_loss: 0.0329 - val_accuracy: 0.9778\n",
            "Epoch 402/500\n",
            "15/15 [==============================] - 0s 5ms/step - loss: 0.0573 - accuracy: 0.9775 - val_loss: 0.0339 - val_accuracy: 0.9778\n",
            "Epoch 403/500\n",
            "15/15 [==============================] - 0s 5ms/step - loss: 0.0555 - accuracy: 0.9876 - val_loss: 0.0343 - val_accuracy: 0.9778\n",
            "Epoch 404/500\n",
            "15/15 [==============================] - 0s 5ms/step - loss: 0.0763 - accuracy: 0.9785 - val_loss: 0.0312 - val_accuracy: 0.9778\n",
            "Epoch 405/500\n",
            "15/15 [==============================] - 0s 5ms/step - loss: 0.0560 - accuracy: 0.9956 - val_loss: 0.0279 - val_accuracy: 0.9778\n",
            "Epoch 406/500\n",
            "15/15 [==============================] - 0s 5ms/step - loss: 0.1381 - accuracy: 0.9437 - val_loss: 0.0391 - val_accuracy: 0.9778\n",
            "Epoch 407/500\n",
            "15/15 [==============================] - 0s 5ms/step - loss: 0.0387 - accuracy: 0.9917 - val_loss: 0.0292 - val_accuracy: 0.9778\n",
            "Epoch 408/500\n",
            "15/15 [==============================] - 0s 6ms/step - loss: 0.1068 - accuracy: 0.9569 - val_loss: 0.0300 - val_accuracy: 0.9778\n",
            "Epoch 409/500\n",
            "15/15 [==============================] - 0s 5ms/step - loss: 0.0614 - accuracy: 0.9686 - val_loss: 0.0276 - val_accuracy: 0.9778\n",
            "Epoch 410/500\n",
            "15/15 [==============================] - 0s 5ms/step - loss: 0.1113 - accuracy: 0.9627 - val_loss: 0.0333 - val_accuracy: 0.9778\n",
            "Epoch 411/500\n",
            "15/15 [==============================] - 0s 5ms/step - loss: 0.1202 - accuracy: 0.9485 - val_loss: 0.0303 - val_accuracy: 0.9778\n",
            "Epoch 412/500\n",
            "15/15 [==============================] - 0s 5ms/step - loss: 0.1271 - accuracy: 0.9425 - val_loss: 0.0314 - val_accuracy: 0.9778\n",
            "Epoch 413/500\n",
            "15/15 [==============================] - 0s 6ms/step - loss: 0.0408 - accuracy: 0.9869 - val_loss: 0.0322 - val_accuracy: 0.9778\n",
            "Epoch 414/500\n",
            "15/15 [==============================] - 0s 5ms/step - loss: 0.0908 - accuracy: 0.9785 - val_loss: 0.0366 - val_accuracy: 0.9778\n",
            "Epoch 415/500\n",
            "15/15 [==============================] - 0s 5ms/step - loss: 0.0940 - accuracy: 0.9480 - val_loss: 0.0290 - val_accuracy: 0.9778\n",
            "Epoch 416/500\n",
            "15/15 [==============================] - 0s 5ms/step - loss: 0.0638 - accuracy: 0.9846 - val_loss: 0.0327 - val_accuracy: 0.9778\n",
            "Epoch 417/500\n",
            "15/15 [==============================] - 0s 5ms/step - loss: 0.1048 - accuracy: 0.9529 - val_loss: 0.0327 - val_accuracy: 0.9778\n",
            "Epoch 418/500\n",
            "15/15 [==============================] - 0s 5ms/step - loss: 0.0930 - accuracy: 0.9746 - val_loss: 0.0310 - val_accuracy: 0.9778\n",
            "Epoch 419/500\n",
            "15/15 [==============================] - 0s 5ms/step - loss: 0.0507 - accuracy: 0.9880 - val_loss: 0.0347 - val_accuracy: 0.9778\n",
            "Epoch 420/500\n",
            "15/15 [==============================] - 0s 5ms/step - loss: 0.0787 - accuracy: 0.9504 - val_loss: 0.0339 - val_accuracy: 0.9778\n",
            "Epoch 421/500\n",
            "15/15 [==============================] - 0s 5ms/step - loss: 0.0895 - accuracy: 0.9775 - val_loss: 0.0280 - val_accuracy: 0.9778\n",
            "Epoch 422/500\n",
            "15/15 [==============================] - 0s 5ms/step - loss: 0.0458 - accuracy: 0.9834 - val_loss: 0.0372 - val_accuracy: 0.9778\n",
            "Epoch 423/500\n",
            "15/15 [==============================] - 0s 5ms/step - loss: 0.0976 - accuracy: 0.9559 - val_loss: 0.0292 - val_accuracy: 0.9778\n",
            "Epoch 424/500\n",
            "15/15 [==============================] - 0s 5ms/step - loss: 0.0570 - accuracy: 0.9917 - val_loss: 0.0264 - val_accuracy: 1.0000\n",
            "Epoch 425/500\n",
            "15/15 [==============================] - 0s 5ms/step - loss: 0.0475 - accuracy: 0.9873 - val_loss: 0.0458 - val_accuracy: 0.9778\n",
            "Epoch 426/500\n",
            "15/15 [==============================] - 0s 5ms/step - loss: 0.0756 - accuracy: 0.9693 - val_loss: 0.0271 - val_accuracy: 0.9778\n",
            "Epoch 427/500\n",
            "15/15 [==============================] - 0s 5ms/step - loss: 0.0629 - accuracy: 0.9782 - val_loss: 0.0329 - val_accuracy: 0.9778\n",
            "Epoch 428/500\n",
            "15/15 [==============================] - 0s 5ms/step - loss: 0.0419 - accuracy: 0.9929 - val_loss: 0.0290 - val_accuracy: 0.9778\n",
            "Epoch 429/500\n",
            "15/15 [==============================] - 0s 5ms/step - loss: 0.0536 - accuracy: 0.9859 - val_loss: 0.0336 - val_accuracy: 0.9778\n",
            "Epoch 430/500\n",
            "15/15 [==============================] - 0s 5ms/step - loss: 0.1254 - accuracy: 0.9346 - val_loss: 0.0308 - val_accuracy: 0.9778\n",
            "Epoch 431/500\n",
            "15/15 [==============================] - 0s 5ms/step - loss: 0.0565 - accuracy: 0.9686 - val_loss: 0.0261 - val_accuracy: 1.0000\n",
            "Epoch 432/500\n",
            "15/15 [==============================] - 0s 5ms/step - loss: 0.1205 - accuracy: 0.9673 - val_loss: 0.0341 - val_accuracy: 0.9778\n",
            "Epoch 433/500\n",
            "15/15 [==============================] - 0s 5ms/step - loss: 0.0446 - accuracy: 0.9834 - val_loss: 0.0342 - val_accuracy: 0.9778\n",
            "Epoch 434/500\n",
            "15/15 [==============================] - 0s 5ms/step - loss: 0.0542 - accuracy: 0.9799 - val_loss: 0.0284 - val_accuracy: 0.9778\n",
            "Epoch 435/500\n",
            "15/15 [==============================] - 0s 5ms/step - loss: 0.0495 - accuracy: 0.9876 - val_loss: 0.0389 - val_accuracy: 0.9778\n",
            "Epoch 436/500\n",
            "15/15 [==============================] - 0s 5ms/step - loss: 0.0651 - accuracy: 0.9802 - val_loss: 0.0334 - val_accuracy: 0.9778\n",
            "Epoch 437/500\n",
            "15/15 [==============================] - 0s 5ms/step - loss: 0.0772 - accuracy: 0.9657 - val_loss: 0.0284 - val_accuracy: 0.9778\n",
            "Epoch 438/500\n",
            "15/15 [==============================] - 0s 5ms/step - loss: 0.0438 - accuracy: 0.9922 - val_loss: 0.0286 - val_accuracy: 0.9778\n",
            "Epoch 439/500\n",
            "15/15 [==============================] - 0s 6ms/step - loss: 0.1223 - accuracy: 0.9488 - val_loss: 0.0302 - val_accuracy: 0.9778\n",
            "Epoch 440/500\n",
            "15/15 [==============================] - 0s 5ms/step - loss: 0.0675 - accuracy: 0.9774 - val_loss: 0.0258 - val_accuracy: 1.0000\n",
            "Epoch 441/500\n",
            "15/15 [==============================] - 0s 5ms/step - loss: 0.0458 - accuracy: 0.9918 - val_loss: 0.0387 - val_accuracy: 0.9778\n",
            "Epoch 442/500\n",
            "15/15 [==============================] - 0s 5ms/step - loss: 0.0531 - accuracy: 0.9818 - val_loss: 0.0290 - val_accuracy: 0.9778\n",
            "Epoch 443/500\n",
            "15/15 [==============================] - 0s 6ms/step - loss: 0.1186 - accuracy: 0.9461 - val_loss: 0.0326 - val_accuracy: 0.9778\n",
            "Epoch 444/500\n",
            "15/15 [==============================] - 0s 5ms/step - loss: 0.0282 - accuracy: 0.9956 - val_loss: 0.0286 - val_accuracy: 0.9778\n",
            "Epoch 445/500\n",
            "15/15 [==============================] - 0s 5ms/step - loss: 0.0626 - accuracy: 0.9829 - val_loss: 0.0358 - val_accuracy: 0.9778\n",
            "Epoch 446/500\n",
            "15/15 [==============================] - 0s 5ms/step - loss: 0.0568 - accuracy: 0.9859 - val_loss: 0.0393 - val_accuracy: 0.9778\n",
            "Epoch 447/500\n",
            "15/15 [==============================] - 0s 5ms/step - loss: 0.1313 - accuracy: 0.9276 - val_loss: 0.0267 - val_accuracy: 0.9778\n",
            "Epoch 448/500\n",
            "15/15 [==============================] - 0s 5ms/step - loss: 0.0577 - accuracy: 0.9850 - val_loss: 0.0298 - val_accuracy: 0.9778\n",
            "Epoch 449/500\n",
            "15/15 [==============================] - 0s 5ms/step - loss: 0.0544 - accuracy: 0.9711 - val_loss: 0.0324 - val_accuracy: 0.9778\n",
            "Epoch 450/500\n",
            "15/15 [==============================] - 0s 5ms/step - loss: 0.0356 - accuracy: 0.9947 - val_loss: 0.0311 - val_accuracy: 0.9778\n",
            "Epoch 451/500\n",
            "15/15 [==============================] - 0s 5ms/step - loss: 0.0355 - accuracy: 0.9934 - val_loss: 0.0345 - val_accuracy: 0.9778\n",
            "Epoch 452/500\n",
            "15/15 [==============================] - 0s 5ms/step - loss: 0.0562 - accuracy: 0.9927 - val_loss: 0.0313 - val_accuracy: 0.9778\n",
            "Epoch 453/500\n",
            "15/15 [==============================] - 0s 5ms/step - loss: 0.1423 - accuracy: 0.9348 - val_loss: 0.0362 - val_accuracy: 0.9778\n",
            "Epoch 454/500\n",
            "15/15 [==============================] - 0s 5ms/step - loss: 0.0692 - accuracy: 0.9711 - val_loss: 0.0338 - val_accuracy: 0.9778\n",
            "Epoch 455/500\n",
            "15/15 [==============================] - 0s 5ms/step - loss: 0.0640 - accuracy: 0.9716 - val_loss: 0.0276 - val_accuracy: 0.9778\n",
            "Epoch 456/500\n",
            "15/15 [==============================] - 0s 5ms/step - loss: 0.0444 - accuracy: 0.9942 - val_loss: 0.0304 - val_accuracy: 0.9778\n",
            "Epoch 457/500\n",
            "15/15 [==============================] - 0s 5ms/step - loss: 0.0368 - accuracy: 0.9916 - val_loss: 0.0359 - val_accuracy: 0.9778\n",
            "Epoch 458/500\n",
            "15/15 [==============================] - 0s 5ms/step - loss: 0.0556 - accuracy: 0.9842 - val_loss: 0.0334 - val_accuracy: 0.9778\n",
            "Epoch 459/500\n",
            "15/15 [==============================] - 0s 5ms/step - loss: 0.0405 - accuracy: 0.9843 - val_loss: 0.0326 - val_accuracy: 0.9778\n",
            "Epoch 460/500\n",
            "15/15 [==============================] - 0s 5ms/step - loss: 0.0682 - accuracy: 0.9690 - val_loss: 0.0343 - val_accuracy: 0.9778\n",
            "Epoch 461/500\n",
            "15/15 [==============================] - 0s 5ms/step - loss: 0.0432 - accuracy: 0.9859 - val_loss: 0.0259 - val_accuracy: 1.0000\n",
            "Epoch 462/500\n",
            "15/15 [==============================] - 0s 5ms/step - loss: 0.0559 - accuracy: 0.9791 - val_loss: 0.0426 - val_accuracy: 0.9778\n",
            "Epoch 463/500\n",
            "15/15 [==============================] - 0s 6ms/step - loss: 0.0738 - accuracy: 0.9836 - val_loss: 0.0352 - val_accuracy: 0.9778\n",
            "Epoch 464/500\n",
            "15/15 [==============================] - 0s 6ms/step - loss: 0.0395 - accuracy: 0.9925 - val_loss: 0.0280 - val_accuracy: 0.9778\n",
            "Epoch 465/500\n",
            "15/15 [==============================] - 0s 5ms/step - loss: 0.0287 - accuracy: 0.9957 - val_loss: 0.0301 - val_accuracy: 0.9778\n",
            "Epoch 466/500\n",
            "15/15 [==============================] - 0s 5ms/step - loss: 0.0890 - accuracy: 0.9665 - val_loss: 0.0399 - val_accuracy: 0.9778\n",
            "Epoch 467/500\n",
            "15/15 [==============================] - 0s 5ms/step - loss: 0.0792 - accuracy: 0.9629 - val_loss: 0.0334 - val_accuracy: 0.9778\n",
            "Epoch 468/500\n",
            "15/15 [==============================] - 0s 5ms/step - loss: 0.0704 - accuracy: 0.9779 - val_loss: 0.0349 - val_accuracy: 0.9778\n",
            "Epoch 469/500\n",
            "15/15 [==============================] - 0s 5ms/step - loss: 0.0555 - accuracy: 0.9802 - val_loss: 0.0302 - val_accuracy: 0.9778\n",
            "Epoch 470/500\n",
            "15/15 [==============================] - 0s 6ms/step - loss: 0.0994 - accuracy: 0.9657 - val_loss: 0.0320 - val_accuracy: 0.9778\n",
            "Epoch 471/500\n",
            "15/15 [==============================] - 0s 5ms/step - loss: 0.0464 - accuracy: 0.9884 - val_loss: 0.0330 - val_accuracy: 0.9778\n",
            "Epoch 472/500\n",
            "15/15 [==============================] - 0s 5ms/step - loss: 0.0857 - accuracy: 0.9599 - val_loss: 0.0303 - val_accuracy: 0.9778\n",
            "Epoch 473/500\n",
            "15/15 [==============================] - 0s 5ms/step - loss: 0.0459 - accuracy: 0.9924 - val_loss: 0.0260 - val_accuracy: 0.9778\n",
            "Epoch 474/500\n",
            "15/15 [==============================] - 0s 5ms/step - loss: 0.0759 - accuracy: 0.9692 - val_loss: 0.0534 - val_accuracy: 0.9778\n",
            "Epoch 475/500\n",
            "15/15 [==============================] - 0s 5ms/step - loss: 0.0734 - accuracy: 0.9532 - val_loss: 0.0277 - val_accuracy: 0.9778\n",
            "Epoch 476/500\n",
            "15/15 [==============================] - 0s 6ms/step - loss: 0.0570 - accuracy: 0.9843 - val_loss: 0.0323 - val_accuracy: 0.9778\n",
            "Epoch 477/500\n",
            "15/15 [==============================] - 0s 5ms/step - loss: 0.0530 - accuracy: 0.9867 - val_loss: 0.0351 - val_accuracy: 0.9778\n",
            "Epoch 478/500\n",
            "15/15 [==============================] - 0s 5ms/step - loss: 0.0684 - accuracy: 0.9842 - val_loss: 0.0345 - val_accuracy: 0.9778\n",
            "Epoch 479/500\n",
            "15/15 [==============================] - 0s 5ms/step - loss: 0.0441 - accuracy: 0.9883 - val_loss: 0.0298 - val_accuracy: 0.9778\n",
            "Epoch 480/500\n",
            "15/15 [==============================] - 0s 6ms/step - loss: 0.0731 - accuracy: 0.9785 - val_loss: 0.0333 - val_accuracy: 0.9778\n",
            "Epoch 481/500\n",
            "15/15 [==============================] - 0s 5ms/step - loss: 0.0355 - accuracy: 0.9898 - val_loss: 0.0300 - val_accuracy: 0.9778\n",
            "Epoch 482/500\n",
            "15/15 [==============================] - 0s 5ms/step - loss: 0.0648 - accuracy: 0.9684 - val_loss: 0.0345 - val_accuracy: 0.9778\n",
            "Epoch 483/500\n",
            "15/15 [==============================] - 0s 5ms/step - loss: 0.0659 - accuracy: 0.9733 - val_loss: 0.0292 - val_accuracy: 0.9778\n",
            "Epoch 484/500\n",
            "15/15 [==============================] - 0s 5ms/step - loss: 0.0433 - accuracy: 0.9869 - val_loss: 0.0327 - val_accuracy: 0.9778\n",
            "Epoch 485/500\n",
            "15/15 [==============================] - 0s 6ms/step - loss: 0.0380 - accuracy: 0.9947 - val_loss: 0.0307 - val_accuracy: 0.9778\n",
            "Epoch 486/500\n",
            "15/15 [==============================] - 0s 5ms/step - loss: 0.0545 - accuracy: 0.9861 - val_loss: 0.0374 - val_accuracy: 0.9778\n",
            "Epoch 487/500\n",
            "15/15 [==============================] - 0s 5ms/step - loss: 0.0494 - accuracy: 0.9730 - val_loss: 0.0315 - val_accuracy: 0.9778\n",
            "Epoch 488/500\n",
            "15/15 [==============================] - 0s 6ms/step - loss: 0.0803 - accuracy: 0.9683 - val_loss: 0.0357 - val_accuracy: 0.9778\n",
            "Epoch 489/500\n",
            "15/15 [==============================] - 0s 5ms/step - loss: 0.0639 - accuracy: 0.9800 - val_loss: 0.0295 - val_accuracy: 0.9778\n",
            "Epoch 490/500\n",
            "15/15 [==============================] - 0s 6ms/step - loss: 0.0514 - accuracy: 0.9813 - val_loss: 0.0294 - val_accuracy: 0.9778\n",
            "Epoch 491/500\n",
            "15/15 [==============================] - 0s 5ms/step - loss: 0.0885 - accuracy: 0.9475 - val_loss: 0.0358 - val_accuracy: 0.9778\n",
            "Epoch 492/500\n",
            "15/15 [==============================] - 0s 5ms/step - loss: 0.0700 - accuracy: 0.9831 - val_loss: 0.0275 - val_accuracy: 0.9778\n",
            "Epoch 493/500\n",
            "15/15 [==============================] - 0s 6ms/step - loss: 0.0948 - accuracy: 0.9645 - val_loss: 0.0370 - val_accuracy: 0.9778\n",
            "Epoch 494/500\n",
            "15/15 [==============================] - 0s 6ms/step - loss: 0.0490 - accuracy: 0.9897 - val_loss: 0.0257 - val_accuracy: 0.9778\n",
            "Epoch 495/500\n",
            "15/15 [==============================] - 0s 5ms/step - loss: 0.0787 - accuracy: 0.9728 - val_loss: 0.0384 - val_accuracy: 0.9778\n",
            "Epoch 496/500\n",
            "15/15 [==============================] - 0s 5ms/step - loss: 0.0774 - accuracy: 0.9716 - val_loss: 0.0256 - val_accuracy: 0.9778\n",
            "Epoch 497/500\n",
            "15/15 [==============================] - 0s 5ms/step - loss: 0.0409 - accuracy: 0.9850 - val_loss: 0.0309 - val_accuracy: 0.9778\n",
            "Epoch 498/500\n",
            "15/15 [==============================] - 0s 5ms/step - loss: 0.1207 - accuracy: 0.9531 - val_loss: 0.0369 - val_accuracy: 0.9778\n",
            "Epoch 499/500\n",
            "15/15 [==============================] - 0s 6ms/step - loss: 0.0481 - accuracy: 0.9938 - val_loss: 0.0244 - val_accuracy: 1.0000\n",
            "Epoch 500/500\n",
            "15/15 [==============================] - 0s 6ms/step - loss: 0.0686 - accuracy: 0.9810 - val_loss: 0.0450 - val_accuracy: 0.9778\n"
          ],
          "name": "stdout"
        }
      ]
    },
    {
      "cell_type": "markdown",
      "metadata": {
        "id": "p4feD9-sGZiS"
      },
      "source": [
        "### 5)학습 결과 시각화"
      ]
    },
    {
      "cell_type": "code",
      "metadata": {
        "colab": {
          "base_uri": "https://localhost:8080/",
          "height": 378
        },
        "id": "Y1tIiDGNGMw8",
        "outputId": "4a15c724-857e-420b-af5b-5b4e4a455ec0"
      },
      "source": [
        "import matplotlib.pyplot as plt\r\n",
        "\r\n",
        "plt.figure(figsize = (9,6))\r\n",
        "plt.ylim(0, 1.2)\r\n",
        "plt.plot(History_iris.history['loss'])\r\n",
        "plt.plot(History_iris.history['val_loss'])\r\n",
        "plt.plot(History_iris.history['accuracy'])\r\n",
        "plt.plot(History_iris.history['val_accuracy'])\r\n",
        "plt.legend(['loss','val_loss','accuracy','val_accuracy'])\r\n",
        "plt.grid()\r\n",
        "plt.show()"
      ],
      "execution_count": 21,
      "outputs": [
        {
          "output_type": "display_data",
          "data": {
            "image/png": "[encoded data removed]",
            "text/plain": [
              "<Figure size 648x432 with 1 Axes>"
            ]
          },
          "metadata": {
            "tags": [],
            "needs_background": "light"
          }
        }
      ]
    },
    {
      "cell_type": "markdown",
      "metadata": {
        "id": "TjiNJu4aG4iM"
      },
      "source": [
        "### 6)Model Evaluate\r\n",
        "* Loss & Accuracy"
      ]
    },
    {
      "cell_type": "code",
      "metadata": {
        "colab": {
          "base_uri": "https://localhost:8080/"
        },
        "id": "Q7Q5NhOFGzUW",
        "outputId": "65a882bf-9c56-44f5-8f7b-77ec66a5ba51"
      },
      "source": [
        "loss, accuracy = Model_iris.evaluate(X_test, y_test)\r\n",
        "\r\n",
        "print('Loss = {:.2f}'.format(loss))\r\n",
        "print('Accuracy = {:.2f}'.format(accuracy))"
      ],
      "execution_count": 22,
      "outputs": [
        {
          "output_type": "stream",
          "text": [
            "2/2 [==============================] - 0s 4ms/step - loss: 0.0450 - accuracy: 0.9778\n",
            "Loss = 0.05\n",
            "Accuracy = 0.98\n"
          ],
          "name": "stdout"
        }
      ]
    },
    {
      "cell_type": "markdown",
      "metadata": {
        "id": "N6CZN0DiHNc1"
      },
      "source": [
        "### 7)Model Predict\r\n",
        "* Probability"
      ]
    },
    {
      "cell_type": "code",
      "metadata": {
        "colab": {
          "base_uri": "https://localhost:8080/"
        },
        "id": "YdwBrZT_HGlE",
        "outputId": "46e4258a-8fa5-4970-fe75-13d28c3c7019"
      },
      "source": [
        "import numpy as np\r\n",
        "\r\n",
        "np.set_printoptions(suppress = True, precision = 5)\r\n",
        "\r\n",
        "Model_iris.predict(X_test)"
      ],
      "execution_count": 24,
      "outputs": [
        {
          "output_type": "execute_result",
          "data": {
            "text/plain": [
              "array([[0.99996, 0.00001, 0.00003],\n",
              "       [0.99966, 0.00018, 0.00016],\n",
              "       [0.00137, 0.99831, 0.00032],\n",
              "       [0.     , 0.00012, 0.99988],\n",
              "       [0.99999, 0.     , 0.00001],\n",
              "       [0.00006, 0.99985, 0.00009],\n",
              "       [0.00001, 0.0142 , 0.98579],\n",
              "       [1.     , 0.     , 0.     ],\n",
              "       [0.     , 0.00087, 0.99913],\n",
              "       [0.99995, 0.00002, 0.00003],\n",
              "       [0.00012, 0.91014, 0.08974],\n",
              "       [0.     , 0.00852, 0.99148],\n",
              "       [0.00003, 0.99857, 0.0014 ],\n",
              "       [1.     , 0.     , 0.     ],\n",
              "       [0.99999, 0.     , 0.00001],\n",
              "       [0.00005, 0.99808, 0.00187],\n",
              "       [0.00004, 0.99257, 0.00739],\n",
              "       [0.99997, 0.00001, 0.00003],\n",
              "       [0.00001, 0.9998 , 0.00019],\n",
              "       [0.99999, 0.     , 0.     ],\n",
              "       [0.99995, 0.00001, 0.00003],\n",
              "       [0.99995, 0.00001, 0.00003],\n",
              "       [0.     , 0.00252, 0.99748],\n",
              "       [0.99998, 0.00001, 0.00002],\n",
              "       [0.00001, 0.10482, 0.89517],\n",
              "       [0.00002, 0.01081, 0.98917],\n",
              "       [0.99999, 0.     , 0.00001],\n",
              "       [0.00001, 0.99925, 0.00074],\n",
              "       [0.00002, 0.99921, 0.00078],\n",
              "       [0.00002, 0.0563 , 0.94368],\n",
              "       [1.     , 0.     , 0.     ],\n",
              "       [0.00001, 0.99951, 0.00048],\n",
              "       [1.     , 0.     , 0.     ],\n",
              "       [0.00008, 0.8068 , 0.19312],\n",
              "       [0.00003, 0.9977 , 0.00227],\n",
              "       [0.00003, 0.99989, 0.00008],\n",
              "       [0.     , 0.0002 , 0.9998 ],\n",
              "       [0.00005, 0.99974, 0.00021],\n",
              "       [0.99997, 0.00001, 0.00002],\n",
              "       [0.00003, 0.99885, 0.00111],\n",
              "       [0.     , 0.00021, 0.99979],\n",
              "       [0.99993, 0.00003, 0.00004],\n",
              "       [0.     , 0.00289, 0.99711],\n",
              "       [0.     , 0.0007 , 0.9993 ],\n",
              "       [0.00001, 0.05554, 0.94445]], dtype=float32)"
            ]
          },
          "metadata": {
            "tags": []
          },
          "execution_count": 24
        }
      ]
    },
    {
      "cell_type": "markdown",
      "metadata": {
        "id": "_w1tvYgTHeL0"
      },
      "source": [
        "* Class"
      ]
    },
    {
      "cell_type": "code",
      "metadata": {
        "colab": {
          "base_uri": "https://localhost:8080/"
        },
        "id": "Gpovr9YmHYZ3",
        "outputId": "df51812d-477b-45b2-b615-ca14484dd5d5"
      },
      "source": [
        "y_hat = Model_iris.predict_classes(X_test)\r\n",
        "\r\n",
        "y_hat"
      ],
      "execution_count": 25,
      "outputs": [
        {
          "output_type": "execute_result",
          "data": {
            "text/plain": [
              "array([0, 0, 1, 2, 0, 1, 2, 0, 2, 0, 1, 2, 1, 0, 0, 1, 1, 0, 1, 0, 0, 0,\n",
              "       2, 0, 2, 2, 0, 1, 1, 2, 0, 1, 0, 1, 1, 1, 2, 1, 0, 1, 2, 0, 2, 2,\n",
              "       2])"
            ]
          },
          "metadata": {
            "tags": []
          },
          "execution_count": 25
        }
      ]
    },
    {
      "cell_type": "markdown",
      "metadata": {
        "id": "0M8XN1FxHmBn"
      },
      "source": [
        "* Probability to Class"
      ]
    },
    {
      "cell_type": "code",
      "metadata": {
        "colab": {
          "base_uri": "https://localhost:8080/"
        },
        "id": "EzzdMmmaHjQi",
        "outputId": "20ee7e96-bf53-4496-f2fd-431505846f64"
      },
      "source": [
        "np.argmax(Model_iris.predict(X_test), axis = 1)"
      ],
      "execution_count": 26,
      "outputs": [
        {
          "output_type": "execute_result",
          "data": {
            "text/plain": [
              "array([0, 0, 1, 2, 0, 1, 2, 0, 2, 0, 1, 2, 1, 0, 0, 1, 1, 0, 1, 0, 0, 0,\n",
              "       2, 0, 2, 2, 0, 1, 1, 2, 0, 1, 0, 1, 1, 1, 2, 1, 0, 1, 2, 0, 2, 2,\n",
              "       2])"
            ]
          },
          "metadata": {
            "tags": []
          },
          "execution_count": 26
        }
      ]
    },
    {
      "cell_type": "markdown",
      "metadata": {
        "id": "KeePnj-bHxRp"
      },
      "source": [
        "* One-Hot Encoding to Array\r\n",
        "  * np.argmax() : 다차원 배열의 차원에 따라 가장 큰 값의 인덱스를 반환\r\n",
        "  * axis = 1 : 열 기준"
      ]
    },
    {
      "cell_type": "code",
      "metadata": {
        "colab": {
          "base_uri": "https://localhost:8080/"
        },
        "id": "7GIZgaaFHtK4",
        "outputId": "b6fd024e-69d4-4648-c9aa-f13b91030aaa"
      },
      "source": [
        "y = np.argmax(y_test, axis = 1)\r\n",
        "\r\n",
        "y"
      ],
      "execution_count": 27,
      "outputs": [
        {
          "output_type": "execute_result",
          "data": {
            "text/plain": [
              "array([0, 0, 1, 2, 0, 1, 2, 0, 2, 0, 1, 2, 1, 0, 0, 1, 1, 0, 1, 0, 0, 0,\n",
              "       2, 0, 2, 2, 0, 1, 1, 2, 0, 1, 0, 2, 1, 1, 2, 1, 0, 1, 2, 0, 2, 2,\n",
              "       2])"
            ]
          },
          "metadata": {
            "tags": []
          },
          "execution_count": 27
        }
      ]
    },
    {
      "cell_type": "markdown",
      "metadata": {
        "id": "Of_waWeEH-PN"
      },
      "source": [
        "* Confusion Matrix & Classification Report"
      ]
    },
    {
      "cell_type": "code",
      "metadata": {
        "colab": {
          "base_uri": "https://localhost:8080/"
        },
        "id": "AfDvZNJBH73g",
        "outputId": "3b5a3c57-4c34-4a54-de68-52c97015d5b1"
      },
      "source": [
        "from sklearn.metrics import confusion_matrix, classification_report\r\n",
        "\r\n",
        "confusion_matrix(y, y_hat)"
      ],
      "execution_count": 28,
      "outputs": [
        {
          "output_type": "execute_result",
          "data": {
            "text/plain": [
              "array([[17,  0,  0],\n",
              "       [ 0, 14,  0],\n",
              "       [ 0,  1, 13]])"
            ]
          },
          "metadata": {
            "tags": []
          },
          "execution_count": 28
        }
      ]
    },
    {
      "cell_type": "code",
      "metadata": {
        "colab": {
          "base_uri": "https://localhost:8080/"
        },
        "id": "hCclfnkxIIL4",
        "outputId": "aa00ac90-884c-4394-afdd-909eb3512bfe"
      },
      "source": [
        "print(classification_report(y, y_hat,\r\n",
        "                            target_names = ['setosa',\r\n",
        "                                            'virginica',\r\n",
        "                                            'versicolor']))"
      ],
      "execution_count": 29,
      "outputs": [
        {
          "output_type": "stream",
          "text": [
            "              precision    recall  f1-score   support\n",
            "\n",
            "      setosa       1.00      1.00      1.00        17\n",
            "   virginica       0.93      1.00      0.97        14\n",
            "  versicolor       1.00      0.93      0.96        14\n",
            "\n",
            "    accuracy                           0.98        45\n",
            "   macro avg       0.98      0.98      0.98        45\n",
            "weighted avg       0.98      0.98      0.98        45\n",
            "\n"
          ],
          "name": "stdout"
        }
      ]
    },
    {
      "cell_type": "markdown",
      "metadata": {
        "id": "mY7TpgzHIbNl"
      },
      "source": [
        "## 3.Model Save & Load\r\n",
        "### 1)File System\r\n",
        "* Save to Colab File System"
      ]
    },
    {
      "cell_type": "code",
      "metadata": {
        "colab": {
          "base_uri": "https://localhost:8080/"
        },
        "id": "-4W_wjD_IPzM",
        "outputId": "cf6e4a19-6f81-4c61-9c62-0ef059980a61"
      },
      "source": [
        "!ls -l"
      ],
      "execution_count": 30,
      "outputs": [
        {
          "output_type": "stream",
          "text": [
            "total 12\n",
            "-rw-r--r-- 1 root root 7979 Mar 17 07:29 model.png\n",
            "drwxr-xr-x 1 root root 4096 Mar  5 14:37 sample_data\n"
          ],
          "name": "stdout"
        }
      ]
    },
    {
      "cell_type": "code",
      "metadata": {
        "colab": {
          "base_uri": "https://localhost:8080/"
        },
        "id": "iUJqGnjTIgzR",
        "outputId": "82a3c53e-f5a1-42e0-aaba-e883e2e12449"
      },
      "source": [
        "Model_iris.save('Model_iris.h5')\r\n",
        "\r\n",
        "!ls -l"
      ],
      "execution_count": 31,
      "outputs": [
        {
          "output_type": "stream",
          "text": [
            "total 48\n",
            "-rw-r--r-- 1 root root 34592 Mar 17 07:42 Model_iris.h5\n",
            "-rw-r--r-- 1 root root  7979 Mar 17 07:29 model.png\n",
            "drwxr-xr-x 1 root root  4096 Mar  5 14:37 sample_data\n"
          ],
          "name": "stdout"
        }
      ]
    },
    {
      "cell_type": "markdown",
      "metadata": {
        "id": "q9y_IM3GInma"
      },
      "source": [
        "* Download Colab File System to Local File System"
      ]
    },
    {
      "cell_type": "code",
      "metadata": {
        "colab": {
          "base_uri": "https://localhost:8080/",
          "height": 17
        },
        "id": "Rbp2W5GsIlXh",
        "outputId": "6df4af63-b256-43d3-9f5e-eef92db59ac1"
      },
      "source": [
        "from google.colab import files\r\n",
        "\r\n",
        "files.download('Model_iris.h5')"
      ],
      "execution_count": 32,
      "outputs": [
        {
          "output_type": "display_data",
          "data": {
            "application/javascript": [
              "\n",
              "    async function download(id, filename, size) {\n",
              "      if (!google.colab.kernel.accessAllowed) {\n",
              "        return;\n",
              "      }\n",
              "      const div = document.createElement('div');\n",
              "      const label = document.createElement('label');\n",
              "      label.textContent = `Downloading \"${filename}\": `;\n",
              "      div.appendChild(label);\n",
              "      const progress = document.createElement('progress');\n",
              "      progress.max = size;\n",
              "      div.appendChild(progress);\n",
              "      document.body.appendChild(div);\n",
              "\n",
              "      const buffers = [];\n",
              "      let downloaded = 0;\n",
              "\n",
              "      const channel = await google.colab.kernel.comms.open(id);\n",
              "      // Send a message to notify the kernel that we're ready.\n",
              "      channel.send({})\n",
              "\n",
              "      for await (const message of channel.messages) {\n",
              "        // Send a message to notify the kernel that we're ready.\n",
              "        channel.send({})\n",
              "        if (message.buffers) {\n",
              "          for (const buffer of message.buffers) {\n",
              "            buffers.push(buffer);\n",
              "            downloaded += buffer.byteLength;\n",
              "            progress.value = downloaded;\n",
              "          }\n",
              "        }\n",
              "      }\n",
              "      const blob = new Blob(buffers, {type: 'application/binary'});\n",
              "      const a = document.createElement('a');\n",
              "      a.href = window.URL.createObjectURL(blob);\n",
              "      a.download = filename;\n",
              "      div.appendChild(a);\n",
              "      a.click();\n",
              "      div.remove();\n",
              "    }\n",
              "  "
            ],
            "text/plain": [
              "<IPython.core.display.Javascript object>"
            ]
          },
          "metadata": {
            "tags": []
          }
        },
        {
          "output_type": "display_data",
          "data": {
            "application/javascript": [
              "download(\"download_d54e6515-2b04-45d9-88ca-1ddc76a1f1b9\", \"Model_iris.h5\", 34592)"
            ],
            "text/plain": [
              "<IPython.core.display.Javascript object>"
            ]
          },
          "metadata": {
            "tags": []
          }
        }
      ]
    },
    {
      "cell_type": "markdown",
      "metadata": {
        "id": "mZVlhJqhI1bP"
      },
      "source": [
        "* Load from Colab File System"
      ]
    },
    {
      "cell_type": "code",
      "metadata": {
        "colab": {
          "base_uri": "https://localhost:8080/"
        },
        "id": "UcxbpUJhIvzL",
        "outputId": "8a8db5ff-a22f-4ad9-c5df-708782236e72"
      },
      "source": [
        "from keras.models import load_model\r\n",
        "\r\n",
        "Model_local = load_model('Model_iris.h5')\r\n",
        "\r\n",
        "Model_local.predict_classes(X_test)"
      ],
      "execution_count": 33,
      "outputs": [
        {
          "output_type": "execute_result",
          "data": {
            "text/plain": [
              "array([0, 0, 1, 2, 0, 1, 2, 0, 2, 0, 1, 2, 1, 0, 0, 1, 1, 0, 1, 0, 0, 0,\n",
              "       2, 0, 2, 2, 0, 1, 1, 2, 0, 1, 0, 1, 1, 1, 2, 1, 0, 1, 2, 0, 2, 2,\n",
              "       2])"
            ]
          },
          "metadata": {
            "tags": []
          },
          "execution_count": 33
        }
      ]
    },
    {
      "cell_type": "markdown",
      "metadata": {
        "id": "zPIoNrweJBzR"
      },
      "source": [
        "### 2)Google Drive\r\n",
        "* Mount Google Drive"
      ]
    },
    {
      "cell_type": "code",
      "metadata": {
        "colab": {
          "base_uri": "https://localhost:8080/"
        },
        "id": "h3784fqHJAUT",
        "outputId": "6b610d94-8497-4746-f3ef-c75a0c3a2739"
      },
      "source": [
        "from google.colab import drive\r\n",
        "\r\n",
        "drive.mount('/content/drive')"
      ],
      "execution_count": 34,
      "outputs": [
        {
          "output_type": "stream",
          "text": [
            "Mounted at /content/drive\n"
          ],
          "name": "stdout"
        }
      ]
    },
    {
      "cell_type": "markdown",
      "metadata": {
        "id": "6HmjagYoJS6X"
      },
      "source": [
        "* Check Mounted_Drive"
      ]
    },
    {
      "cell_type": "code",
      "metadata": {
        "colab": {
          "base_uri": "https://localhost:8080/"
        },
        "id": "CwXPZBAtJKjc",
        "outputId": "a5070592-00aa-470a-ca53-0e38ac64f1ef"
      },
      "source": [
        "!ls -l '/content/drive/My Drive/Colab Notebooks/datasets'"
      ],
      "execution_count": 35,
      "outputs": [
        {
          "output_type": "stream",
          "text": [
            "total 1740620\n",
            "-rw------- 1 root root      20066 Mar  4 04:45 cat.1700.jpg\n",
            "-rw------- 1 root root   69155672 Mar  4 04:46 creditCardFraud.zip\n",
            "-rw------- 1 root root   90618980 Mar  4 04:51 dogs_and_cats_small.zip\n",
            "drwx------ 2 root root       4096 Mar  9 04:26 image\n",
            "-rw------- 1 root root    8204887 Mar  4 04:45 Images_500.zip\n",
            "-rw------- 1 root root    4240457 Mar 15 04:04 Kaggle_Customer_Satisfaction.zip\n",
            "-rw------- 1 root root   12929865 Mar  4 04:42 Logo_Data.zip\n",
            "-rw------- 1 root root   18272469 Mar  4 04:50 MNIST.csv\n",
            "-rw------- 1 root root   22824989 Mar 11 00:24 Online_Retail.zip\n",
            "-rw------- 1 root root        741 Mar  4 04:44 PII.csv\n",
            "-rw------- 1 root root 1141460846 Mar  4 04:50 waferImages.zip\n",
            "-rw------- 1 root root  414658234 Mar  4 04:49 yolo_weight.zip\n"
          ],
          "name": "stdout"
        }
      ]
    },
    {
      "cell_type": "code",
      "metadata": {
        "colab": {
          "base_uri": "https://localhost:8080/",
          "height": 135
        },
        "id": "8nC9XtS5JZRh",
        "outputId": "76582870-cd3b-4aa7-9a68-9c96d7c6f5f2"
      },
      "source": [
        "import pandas as pd\r\n",
        "\r\n",
        "DF = pd.read_csv('/content/drive/My Drive/Colab Notebooks/datasets/PII.csv')\r\n",
        "\r\n",
        "DF.head(3)"
      ],
      "execution_count": 36,
      "outputs": [
        {
          "output_type": "execute_result",
          "data": {
            "text/html": [
              "<div>\n",
              "<style scoped>\n",
              "    .dataframe tbody tr th:only-of-type {\n",
              "        vertical-align: middle;\n",
              "    }\n",
              "\n",
              "    .dataframe tbody tr th {\n",
              "        vertical-align: top;\n",
              "    }\n",
              "\n",
              "    .dataframe thead th {\n",
              "        text-align: right;\n",
              "    }\n",
              "</style>\n",
              "<table border=\"1\" class=\"dataframe\">\n",
              "  <thead>\n",
              "    <tr style=\"text-align: right;\">\n",
              "      <th></th>\n",
              "      <th>Name</th>\n",
              "      <th>Gender</th>\n",
              "      <th>Age</th>\n",
              "      <th>Grade</th>\n",
              "      <th>Picture</th>\n",
              "      <th>BloodType</th>\n",
              "      <th>Height</th>\n",
              "      <th>Weight</th>\n",
              "    </tr>\n",
              "  </thead>\n",
              "  <tbody>\n",
              "    <tr>\n",
              "      <th>0</th>\n",
              "      <td>송태섭</td>\n",
              "      <td>남자</td>\n",
              "      <td>21</td>\n",
              "      <td>3</td>\n",
              "      <td>무</td>\n",
              "      <td>B</td>\n",
              "      <td>179.1</td>\n",
              "      <td>63.9</td>\n",
              "    </tr>\n",
              "    <tr>\n",
              "      <th>1</th>\n",
              "      <td>최유정</td>\n",
              "      <td>여자</td>\n",
              "      <td>23</td>\n",
              "      <td>1</td>\n",
              "      <td>유</td>\n",
              "      <td>A</td>\n",
              "      <td>177.1</td>\n",
              "      <td>54.9</td>\n",
              "    </tr>\n",
              "    <tr>\n",
              "      <th>2</th>\n",
              "      <td>이한나</td>\n",
              "      <td>여자</td>\n",
              "      <td>20</td>\n",
              "      <td>1</td>\n",
              "      <td>무</td>\n",
              "      <td>A</td>\n",
              "      <td>167.9</td>\n",
              "      <td>50.2</td>\n",
              "    </tr>\n",
              "  </tbody>\n",
              "</table>\n",
              "</div>"
            ],
            "text/plain": [
              "  Name Gender  Age  Grade Picture BloodType  Height  Weight\n",
              "0  송태섭     남자   21      3       무         B   179.1    63.9\n",
              "1  최유정     여자   23      1       유         A   177.1    54.9\n",
              "2  이한나     여자   20      1       무         A   167.9    50.2"
            ]
          },
          "metadata": {
            "tags": []
          },
          "execution_count": 36
        }
      ]
    },
    {
      "cell_type": "markdown",
      "metadata": {
        "id": "YycjafzMJk6w"
      },
      "source": [
        "* Save to Mounted Google Drive Directory"
      ]
    },
    {
      "cell_type": "code",
      "metadata": {
        "id": "AHuj-p_8JjLb"
      },
      "source": [
        "Model_iris.save('/content/drive/My Drive/Colab Notebooks/models/001_Model_iris.h5')"
      ],
      "execution_count": 42,
      "outputs": []
    },
    {
      "cell_type": "code",
      "metadata": {
        "colab": {
          "base_uri": "https://localhost:8080/"
        },
        "id": "mRC2-fglJvWR",
        "outputId": "dd650dcc-b734-424b-a736-d596de8b5fc5"
      },
      "source": [
        "!ls -l '/content/drive/My Drive/Colab Notebooks/models'"
      ],
      "execution_count": 43,
      "outputs": [
        {
          "output_type": "stream",
          "text": [
            "total 34\n",
            "-rw------- 1 root root 34592 Mar 17 07:50 001_Model_iris.h5\n"
          ],
          "name": "stdout"
        }
      ]
    },
    {
      "cell_type": "markdown",
      "metadata": {
        "id": "12ufow3AJ4rR"
      },
      "source": [
        "* Load from Mounted Google Drive Directory"
      ]
    },
    {
      "cell_type": "code",
      "metadata": {
        "colab": {
          "base_uri": "https://localhost:8080/"
        },
        "id": "vD88Om14J0Sj",
        "outputId": "f8ff4425-ef5e-4a4a-b969-b40404edf245"
      },
      "source": [
        "from keras.models import load_model\r\n",
        "\r\n",
        "Model_google = load_model('/content/drive/My Drive/Colab Notebooks/models/001_Model_iris.h5')\r\n",
        "\r\n",
        "Model_google.predict_classes(X_test)"
      ],
      "execution_count": 44,
      "outputs": [
        {
          "output_type": "execute_result",
          "data": {
            "text/plain": [
              "array([0, 0, 1, 2, 0, 1, 2, 0, 2, 0, 1, 2, 1, 0, 0, 1, 1, 0, 1, 0, 0, 0,\n",
              "       2, 0, 2, 2, 0, 1, 1, 2, 0, 1, 0, 1, 1, 1, 2, 1, 0, 1, 2, 0, 2, 2,\n",
              "       2])"
            ]
          },
          "metadata": {
            "tags": []
          },
          "execution_count": 44
        }
      ]
    },
    {
      "cell_type": "markdown",
      "metadata": {
        "id": "r_sw5gkxKoYZ"
      },
      "source": [
        "본 내용은 2021/03/17(수)에 학습한 내용입니다."
      ]
    }
  ]
}
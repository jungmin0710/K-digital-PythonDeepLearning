{
  "nbformat": 4,
  "nbformat_minor": 0,
  "metadata": {
    "colab": {
      "name": "Sentiment_Analysis_GPU.ipynb",
      "provenance": [],
      "authorship_tag": "ABX9TyNlxszTTWwPUiV/jqodA5w2",
      "include_colab_link": true
    },
    "kernelspec": {
      "name": "python3",
      "display_name": "Python 3"
    },
    "language_info": {
      "name": "python"
    },
    "accelerator": "GPU"
  },
  "cells": [
    {
      "cell_type": "markdown",
      "metadata": {
        "id": "view-in-github",
        "colab_type": "text"
      },
      "source": [
        "<a href=\"https://colab.research.google.com/github/jungmin0710/K-digital-PythonDeepLearning/blob/main/Sentiment_Analysis_GPU.ipynb\" target=\"_parent\"><img src=\"https://colab.research.google.com/assets/colab-badge.svg\" alt=\"Open In Colab\"/></a>"
      ]
    },
    {
      "cell_type": "markdown",
      "metadata": {
        "id": "zxXoRU6qSiPH"
      },
      "source": [
        "# Sentiment Analysis(감정분석)\n",
        "네이버 영화 리뷰 데이터"
      ]
    },
    {
      "cell_type": "code",
      "metadata": {
        "id": "2X09jGrxScNP"
      },
      "source": [
        "import warnings\n",
        "warnings.filterwarnings('ignore')"
      ],
      "execution_count": 2,
      "outputs": []
    },
    {
      "cell_type": "markdown",
      "metadata": {
        "id": "nVRj-tqES460"
      },
      "source": [
        "## 0.Import Packages"
      ]
    },
    {
      "cell_type": "code",
      "metadata": {
        "id": "Zv6n7NcSSo3c"
      },
      "source": [
        "import numpy as np \n",
        "import keras"
      ],
      "execution_count": 3,
      "outputs": []
    },
    {
      "cell_type": "markdown",
      "metadata": {
        "id": "jzJotknsS8Fw"
      },
      "source": [
        "## 1.Naver Sentiment Movie Corpus v1.0"
      ]
    },
    {
      "cell_type": "markdown",
      "metadata": {
        "id": "344JBZp4S9oW"
      },
      "source": [
        "### 1) File Download\n",
        "* Train : 150000 \n",
        "* Test : 50000"
      ]
    },
    {
      "cell_type": "code",
      "metadata": {
        "colab": {
          "base_uri": "https://localhost:8080/"
        },
        "id": "yxjYcxKES5pI",
        "outputId": "55154ec3-7227-4e1c-fc4b-218e0b4b4839"
      },
      "source": [
        "tr_url = 'https://raw.githubusercontent.com/e9t/nsmc/master/ratings_train.txt' \n",
        "path_to_train_file = keras.utils.get_file('train.txt', tr_url)\n",
        "\n",
        "te_url = 'https://raw.githubusercontent.com/e9t/nsmc/master/ratings_test.txt' \n",
        "path_to_test_file = keras.utils.get_file('test.txt', te_url)"
      ],
      "execution_count": 4,
      "outputs": [
        {
          "output_type": "stream",
          "text": [
            "Downloading data from https://raw.githubusercontent.com/e9t/nsmc/master/ratings_train.txt\n",
            "14630912/14628807 [==============================] - 0s 0us/step\n",
            "Downloading data from https://raw.githubusercontent.com/e9t/nsmc/master/ratings_test.txt\n",
            "4898816/4893335 [==============================] - 0s 0us/step\n"
          ],
          "name": "stdout"
        }
      ]
    },
    {
      "cell_type": "markdown",
      "metadata": {
        "id": "Un1hloLfTOpQ"
      },
      "source": [
        "### 2) 'X' Data\n",
        "* 각 열은 Tab으로 구분 \n",
        "* '0'-부정, '1'-긍정"
      ]
    },
    {
      "cell_type": "code",
      "metadata": {
        "colab": {
          "base_uri": "https://localhost:8080/"
        },
        "id": "OijHIYGKTHJO",
        "outputId": "6a203e9e-fa49-44cb-807b-d5de7eca1c52"
      },
      "source": [
        "train_text = open(path_to_train_file, 'rb').read().decode(encoding = 'utf-8') \n",
        "test_text = open(path_to_test_file, 'rb').read().decode(encoding = 'utf-8')\n",
        "\n",
        "print('Length of text: {} characters'.format(len(train_text))) \n",
        "print('Length of text: {} characters'.format(len(test_text))) \n",
        "print()\n",
        "print(train_text[:300])"
      ],
      "execution_count": 5,
      "outputs": [
        {
          "output_type": "stream",
          "text": [
            "Length of text: 6937271 characters\n",
            "Length of text: 2318260 characters\n",
            "\n",
            "id\tdocument\tlabel\n",
            "9976970\t아 더빙.. 진짜 짜증나네요 목소리\t0\n",
            "3819312\t흠...포스터보고 초딩영화줄....오버연기조차 가볍지 않구나\t1\n",
            "10265843\t너무재밓었다그래서보는것을추천한다\t0\n",
            "9045019\t교도소 이야기구먼 ..솔직히 재미는 없다..평점 조정\t0\n",
            "6483659\t사이몬페그의 익살스런 연기가 돋보였던 영화!스파이더맨에서 늙어보이기만 했던 커스틴 던스트가 너무나도 이뻐보였다\t1\n",
            "5403919\t막 걸음마 뗀 3세부터 초등학교 1학년생인 8살용영화.ㅋㅋㅋ...별반개도 아까움.\t0\n",
            "7797314\t원작의\n"
          ],
          "name": "stdout"
        }
      ]
    },
    {
      "cell_type": "markdown",
      "metadata": {
        "id": "DT667WS_ToEK"
      },
      "source": [
        "### 3) 'y' Label\n",
        "* 각 문장을 '\\n'으로 분리 후 3열(index번호 2)의 값을 정수로 추출"
      ]
    },
    {
      "cell_type": "code",
      "metadata": {
        "colab": {
          "base_uri": "https://localhost:8080/"
        },
        "id": "pNtpZwHnTZXa",
        "outputId": "ccfdf8a6-7df8-4ae8-d939-184498da1ae1"
      },
      "source": [
        "train_Y = np.array([[int(row.split('\\t')[2])] for row in train_text.split('\\n')[1:] if row.count('\\t')])\n",
        "test_Y = np.array([[int(row.split('\\t')[2])] for row in test_text.split('\\n')[1:] if row.count('\\t')])\n",
        "\n",
        "print(train_Y.shape, test_Y.shape) \n",
        "print(train_Y[:5])"
      ],
      "execution_count": 8,
      "outputs": [
        {
          "output_type": "stream",
          "text": [
            "(150000, 1) (50000, 1)\n",
            "[[0]\n",
            " [1]\n",
            " [0]\n",
            " [0]\n",
            " [1]]\n"
          ],
          "name": "stdout"
        }
      ]
    },
    {
      "cell_type": "markdown",
      "metadata": {
        "id": "agIC6c_uUcoG"
      },
      "source": [
        "## 2.Data Cleaning"
      ]
    },
    {
      "cell_type": "markdown",
      "metadata": {
        "id": "H2P9AlbjUd5A"
      },
      "source": [
        "### 1) 'X' Data Cleaning\n",
        "https://github.com/yoonkim/CNN_sentence/blob/master/process_data.py"
      ]
    },
    {
      "cell_type": "code",
      "metadata": {
        "id": "37Ah5h62T8Zo"
      },
      "source": [
        "import re\n",
        "\n",
        "def clean_str(string): \n",
        "  string = re.sub(r\"[^가-힣A-Za-z0-9(),!?\\'\\`]\", \" \", string) \n",
        "  string = re.sub(r\"\\'s\", \" \\'s\", string)\n",
        "  string = re.sub(r\"\\'ve\", \" \\'ve\", string) \n",
        "  string = re.sub(r\"n\\'t\", \" n\\'t\", string) \n",
        "  string = re.sub(r\"\\'re\", \" \\'re\", string) \n",
        "  string = re.sub(r\"\\'d\", \" \\'d\", string) \n",
        "  string = re.sub(r\"\\'ll\", \" \\'ll\", string)\n",
        "  string = re.sub(r\",\", \" , \", string) \n",
        "  string = re.sub(r\"!\", \" ! \", string) \n",
        "  string = re.sub(r\"\\(\", \" \\( \", string) \n",
        "  string = re.sub(r\"\\)\", \" \\) \", string) \n",
        "  string = re.sub(r\"\\?\", \" \\? \", string) \n",
        "  string = re.sub(r\"\\s{2,}\", \" \", string) \n",
        "  string = re.sub(r\"\\'{2,}\", \"\\'\", string) \n",
        "  string = re.sub(r\"\\'\", \"\", string)\n",
        "\n",
        "  return string.lower()\n",
        "\n",
        "train_text_X = [row.split('\\t')[1] for row in train_text.split('\\n')[1:] if row.count('\\t') > 0] \n",
        "train_text_X = [clean_str(sentence) for sentence in train_text_X]"
      ],
      "execution_count": 9,
      "outputs": []
    },
    {
      "cell_type": "markdown",
      "metadata": {
        "id": "l9nrLSnfU-jQ"
      },
      "source": [
        "### 2) 단어별 최대길이 조정 \n",
        "* 문장 내 단어별 길이 확인"
      ]
    },
    {
      "cell_type": "code",
      "metadata": {
        "colab": {
          "base_uri": "https://localhost:8080/"
        },
        "id": "jMx39I04U768",
        "outputId": "1fa69105-1772-4a9c-d8e2-7222f25b04e2"
      },
      "source": [
        "sentences = [sentence.split(' ') for sentence in train_text_X] \n",
        "\n",
        "for i in range(5): \n",
        "  print(sentences[i])"
      ],
      "execution_count": 10,
      "outputs": [
        {
          "output_type": "stream",
          "text": [
            "['아', '더빙', '진짜', '짜증나네요', '목소리']\n",
            "['흠', '포스터보고', '초딩영화줄', '오버연기조차', '가볍지', '않구나']\n",
            "['너무재밓었다그래서보는것을추천한다']\n",
            "['교도소', '이야기구먼', '솔직히', '재미는', '없다', '평점', '조정']\n",
            "['사이몬페그의', '익살스런', '연기가', '돋보였던', '영화', '!', '스파이더맨에서', '늙어보이기만', '했던', '커스틴', '던스트가', '너무나도', '이뻐보였다']\n"
          ],
          "name": "stdout"
        }
      ]
    },
    {
      "cell_type": "markdown",
      "metadata": {
        "id": "Ds4vr4SjVGSn"
      },
      "source": [
        "* 각 문장의 단어 길이 시각화"
      ]
    },
    {
      "cell_type": "code",
      "metadata": {
        "colab": {
          "base_uri": "https://localhost:8080/",
          "height": 282
        },
        "id": "49kUzv9qVEop",
        "outputId": "e6fabb10-e896-46e7-fced-586e6b4192f4"
      },
      "source": [
        "import matplotlib.pyplot as plt\n",
        "\n",
        "sentence_len = [len(sentence) for sentence in sentences] \n",
        "sentence_len.sort()\n",
        "\n",
        "plt.plot(sentence_len) \n",
        "plt.show() \n",
        "\n",
        "print(sum([int(i <= 25) for i in sentence_len]))"
      ],
      "execution_count": 11,
      "outputs": [
        {
          "output_type": "display_data",
          "data": {
            "image/png": "[encoded data removed]",
            "text/plain": [
              "<Figure size 432x288 with 1 Axes>"
            ]
          },
          "metadata": {
            "tags": [],
            "needs_background": "light"
          }
        },
        {
          "output_type": "stream",
          "text": [
            "142587\n"
          ],
          "name": "stdout"
        }
      ]
    },
    {
      "cell_type": "markdown",
      "metadata": {
        "id": "Op-_L2f5VN5H"
      },
      "source": [
        "* 단어의 앞에서부터 5글자로 자르기"
      ]
    },
    {
      "cell_type": "code",
      "metadata": {
        "colab": {
          "base_uri": "https://localhost:8080/"
        },
        "id": "o3iW-U3PVMA0",
        "outputId": "fee3f511-3303-4a5f-9010-84a963f3799f"
      },
      "source": [
        "sentences_new = []\n",
        "\n",
        "for sentence in sentences: \n",
        "  sentences_new.append([word[:5] for word in sentence][:25])\n",
        "\n",
        "sentences = sentences_new\n",
        "\n",
        "for i in range(5): \n",
        "  print(sentences[i])"
      ],
      "execution_count": 12,
      "outputs": [
        {
          "output_type": "stream",
          "text": [
            "['아', '더빙', '진짜', '짜증나네요', '목소리']\n",
            "['흠', '포스터보고', '초딩영화줄', '오버연기조', '가볍지', '않구나']\n",
            "['너무재밓었']\n",
            "['교도소', '이야기구먼', '솔직히', '재미는', '없다', '평점', '조정']\n",
            "['사이몬페그', '익살스런', '연기가', '돋보였던', '영화', '!', '스파이더맨', '늙어보이기', '했던', '커스틴', '던스트가', '너무나도', '이뻐보였다']\n"
          ],
          "name": "stdout"
        }
      ]
    },
    {
      "cell_type": "markdown",
      "metadata": {
        "id": "D-wVHWA5VaBN"
      },
      "source": [
        "## 3.'tokenizer( )' and 'pad_sequences( )'"
      ]
    },
    {
      "cell_type": "markdown",
      "metadata": {
        "id": "Jfyif25BVbi2"
      },
      "source": [
        "### 1) '20000'개 단어 사용"
      ]
    },
    {
      "cell_type": "code",
      "metadata": {
        "colab": {
          "base_uri": "https://localhost:8080/"
        },
        "id": "J25dqdIuVVO_",
        "outputId": "e1cab3aa-0a58-4a67-a492-811b9c5c5b4c"
      },
      "source": [
        "from keras.preprocessing.text import Tokenizer \n",
        "from keras.preprocessing.sequence import pad_sequences\n",
        "\n",
        "tokenizer = Tokenizer(num_words = 20000) \n",
        "tokenizer.fit_on_texts(sentences)\n",
        "train_X = tokenizer.texts_to_sequences(sentences) \n",
        "\n",
        "train_X = pad_sequences(train_X, padding = 'post') \n",
        "\n",
        "print(train_X[:5])"
      ],
      "execution_count": 13,
      "outputs": [
        {
          "output_type": "stream",
          "text": [
            "[[   25   884     8  5795  1111     0     0     0     0     0     0     0\n",
            "      0     0     0     0     0     0     0     0     0     0     0     0\n",
            "      0]\n",
            " [  588  5796  6697     0     0     0     0     0     0     0     0     0\n",
            "      0     0     0     0     0     0     0     0     0     0     0     0\n",
            "      0]\n",
            " [    0     0     0     0     0     0     0     0     0     0     0     0\n",
            "      0     0     0     0     0     0     0     0     0     0     0     0\n",
            "      0]\n",
            " [   71   346    31    35 10468     0     0     0     0     0     0     0\n",
            "      0     0     0     0     0     0     0     0     0     0     0     0\n",
            "      0]\n",
            " [  106  5338     4     2  2169   869   573     0     0     0     0     0\n",
            "      0     0     0     0     0     0     0     0     0     0     0     0\n",
            "      0]]\n"
          ],
          "name": "stdout"
        }
      ]
    },
    {
      "cell_type": "markdown",
      "metadata": {
        "id": "KidKrjcSVmVD"
      },
      "source": [
        "### 2) tokenizer( ) 동작 확인\n",
        "* 존재하는 단어 매핑 \n",
        "  * '경우는', '잊혀질'"
      ]
    },
    {
      "cell_type": "code",
      "metadata": {
        "colab": {
          "base_uri": "https://localhost:8080/"
        },
        "id": "hZRMYZRHVjso",
        "outputId": "6725a74f-0ac0-4733-f134-948d1edb43d6"
      },
      "source": [
        "print(tokenizer.index_word[19999]) \n",
        "print(tokenizer.index_word[20000])\n",
        "\n",
        "temp = tokenizer.texts_to_sequences(['#$#$#', '경우는', '잊혀질', '연기가']) \n",
        "print(temp)\n",
        "\n",
        "temp = pad_sequences(temp, padding = 'post') \n",
        "print(temp)"
      ],
      "execution_count": 14,
      "outputs": [
        {
          "output_type": "stream",
          "text": [
            "경우는\n",
            "잊혀질\n",
            "[[], [19999], [], [106]]\n",
            "[[    0]\n",
            " [19999]\n",
            " [    0]\n",
            " [  106]]\n"
          ],
          "name": "stdout"
        }
      ]
    },
    {
      "cell_type": "markdown",
      "metadata": {
        "id": "GsX8pm85VyJJ"
      },
      "source": [
        "## 4.Modeling"
      ]
    },
    {
      "cell_type": "markdown",
      "metadata": {
        "id": "LBrPrJrbV0Y7"
      },
      "source": [
        "### 1) Model Structure"
      ]
    },
    {
      "cell_type": "code",
      "metadata": {
        "colab": {
          "base_uri": "https://localhost:8080/"
        },
        "id": "blEbXFUwVvXC",
        "outputId": "b4dbe2ef-cb87-4691-8123-73b24b6240af"
      },
      "source": [
        "from keras import models, layers \n",
        "\n",
        "model = models.Sequential() \n",
        "\n",
        "model.add(layers.Embedding(20000, 300, input_length = 25))\n",
        "\n",
        "model.add(layers.LSTM(32)) \n",
        "model.add(layers.Dropout(0.5)) \n",
        "model.add(layers.Dense(2, activation = 'softmax'))\n",
        "\n",
        "model.compile(loss = 'sparse_categorical_crossentropy', \n",
        "              optimizer = 'adam', \n",
        "              metrics = ['accuracy'])\n",
        "\n",
        "model.summary()"
      ],
      "execution_count": 15,
      "outputs": [
        {
          "output_type": "stream",
          "text": [
            "Model: \"sequential\"\n",
            "_________________________________________________________________\n",
            "Layer (type)                 Output Shape              Param #   \n",
            "=================================================================\n",
            "embedding (Embedding)        (None, 25, 300)           6000000   \n",
            "_________________________________________________________________\n",
            "lstm (LSTM)                  (None, 32)                42624     \n",
            "_________________________________________________________________\n",
            "dropout (Dropout)            (None, 32)                0         \n",
            "_________________________________________________________________\n",
            "dense (Dense)                (None, 2)                 66        \n",
            "=================================================================\n",
            "Total params: 6,042,690\n",
            "Trainable params: 6,042,690\n",
            "Non-trainable params: 0\n",
            "_________________________________________________________________\n"
          ],
          "name": "stdout"
        }
      ]
    },
    {
      "cell_type": "markdown",
      "metadata": {
        "id": "9lSIotyiWD9q"
      },
      "source": [
        "### 2) Model Fit"
      ]
    },
    {
      "cell_type": "code",
      "metadata": {
        "colab": {
          "base_uri": "https://localhost:8080/"
        },
        "id": "kqkbKv4fWGUu",
        "outputId": "adc68221-fe97-4b84-cdad-271f4eda359b"
      },
      "source": [
        "%%time\n",
        "history = model.fit(train_X, train_Y, \n",
        "                    epochs = 10, \n",
        "                    batch_size = 128, \n",
        "                    validation_split = 0.2)"
      ],
      "execution_count": 16,
      "outputs": [
        {
          "output_type": "stream",
          "text": [
            "Epoch 1/10\n",
            "938/938 [==============================] - 89s 60ms/step - loss: 0.5133 - accuracy: 0.7197 - val_loss: 0.3906 - val_accuracy: 0.8191\n",
            "Epoch 2/10\n",
            "938/938 [==============================] - 55s 59ms/step - loss: 0.3214 - accuracy: 0.8526 - val_loss: 0.3954 - val_accuracy: 0.8200\n",
            "Epoch 3/10\n",
            "938/938 [==============================] - 56s 59ms/step - loss: 0.2656 - accuracy: 0.8748 - val_loss: 0.4333 - val_accuracy: 0.8152\n",
            "Epoch 4/10\n",
            "938/938 [==============================] - 55s 59ms/step - loss: 0.2211 - accuracy: 0.8935 - val_loss: 0.4958 - val_accuracy: 0.8155\n",
            "Epoch 5/10\n",
            "938/938 [==============================] - 55s 59ms/step - loss: 0.1891 - accuracy: 0.9083 - val_loss: 0.5676 - val_accuracy: 0.8061\n",
            "Epoch 6/10\n",
            "938/938 [==============================] - 56s 59ms/step - loss: 0.1608 - accuracy: 0.9219 - val_loss: 0.6690 - val_accuracy: 0.8017\n",
            "Epoch 7/10\n",
            "938/938 [==============================] - 55s 59ms/step - loss: 0.1449 - accuracy: 0.9270 - val_loss: 0.6837 - val_accuracy: 0.8037\n",
            "Epoch 8/10\n",
            "938/938 [==============================] - 55s 59ms/step - loss: 0.1294 - accuracy: 0.9328 - val_loss: 0.7983 - val_accuracy: 0.8030\n",
            "Epoch 9/10\n",
            "938/938 [==============================] - 56s 59ms/step - loss: 0.1200 - accuracy: 0.9370 - val_loss: 0.8256 - val_accuracy: 0.7993\n",
            "Epoch 10/10\n",
            "938/938 [==============================] - 55s 59ms/step - loss: 0.1150 - accuracy: 0.9389 - val_loss: 0.9082 - val_accuracy: 0.8021\n",
            "CPU times: user 15min 20s, sys: 27.5 s, total: 15min 47s\n",
            "Wall time: 9min 48s\n"
          ],
          "name": "stdout"
        }
      ]
    },
    {
      "cell_type": "markdown",
      "metadata": {
        "id": "JXh0jK7HWLaB"
      },
      "source": [
        "## 5.Validation"
      ]
    },
    {
      "cell_type": "markdown",
      "metadata": {
        "id": "nkmuZ2QtWMyt"
      },
      "source": [
        "### 1) Visualization"
      ]
    },
    {
      "cell_type": "code",
      "metadata": {
        "colab": {
          "base_uri": "https://localhost:8080/",
          "height": 261
        },
        "id": "Xd4BYHojWJhr",
        "outputId": "04657962-74b4-48f1-c765-b3e50d3ea8c0"
      },
      "source": [
        "import matplotlib.pyplot as plt \n",
        "\n",
        "plt.figure(figsize = (12, 4))\n",
        "\n",
        "plt.subplot(1, 2, 1) \n",
        "plt.plot(history.history['loss'], 'b-', label = 'loss') \n",
        "plt.plot(history.history['val_loss'], 'r--', label = 'val_loss')\n",
        "plt.xlabel('Epoch') \n",
        "plt.legend()\n",
        "\n",
        "plt.subplot(1, 2, 2) \n",
        "plt.plot(history.history['accuracy'], 'g-', label = 'accuracy') \n",
        "plt.plot(history.history['val_accuracy'], 'k--', label = 'val_accuracy') \n",
        "plt.xlabel('Epoch') \n",
        "plt.ylim(0.7, 1) \n",
        "plt.legend()\n",
        "\n",
        "plt.show()"
      ],
      "execution_count": 17,
      "outputs": [
        {
          "output_type": "display_data",
          "data": {
            "image/png": "[encoded data removed]",
            "text/plain": [
              "<Figure size 864x288 with 2 Axes>"
            ]
          },
          "metadata": {
            "tags": [],
            "needs_background": "light"
          }
        }
      ]
    },
    {
      "cell_type": "markdown",
      "metadata": {
        "id": "GpHmaVgTWcKZ"
      },
      "source": [
        "### 2) [Loss, Accuracy]"
      ]
    },
    {
      "cell_type": "code",
      "metadata": {
        "colab": {
          "base_uri": "https://localhost:8080/"
        },
        "id": "3A2KEjpJWemD",
        "outputId": "1b6ecfc6-9a5f-4c2a-cd8a-96779b2b8480"
      },
      "source": [
        "test_text_X = [row.split('\\t')[1] for row in test_text.split('\\n')[1:] if row.count('\\t') > 0] \n",
        "test_text_X = [clean_str(sentence) for sentence in test_text_X] \n",
        "\n",
        "sentences = [sentence.split(' ') for sentence in test_text_X] \n",
        "\n",
        "sentences_new = []\n",
        "\n",
        "for sentence in sentences: \n",
        "  sentences_new.append([word[:5] for word in sentence][:25]) \n",
        "sentences = sentences_new\n",
        "\n",
        "test_X = tokenizer.texts_to_sequences(sentences) \n",
        "test_X = pad_sequences(test_X, padding = 'post')\n",
        "\n",
        "model.evaluate(test_X, test_Y, verbose = 0)"
      ],
      "execution_count": 18,
      "outputs": [
        {
          "output_type": "execute_result",
          "data": {
            "text/plain": [
              "[0.9175328612327576, 0.7958599925041199]"
            ]
          },
          "metadata": {
            "tags": []
          },
          "execution_count": 18
        }
      ]
    },
    {
      "cell_type": "markdown",
      "metadata": {
        "id": "OzBCG6RNWseO"
      },
      "source": [
        "## 6.문장 감성 분석\n",
        "* 입력 단어에 따라서 감성 분석 결과 변화 \n",
        "  * 긍정('1') -> 부정('0')"
      ]
    },
    {
      "cell_type": "code",
      "metadata": {
        "colab": {
          "base_uri": "https://localhost:8080/"
        },
        "id": "tXgGtn_OXBxx",
        "outputId": "5bfc4758-5721-46be-cc89-7b53f6fa55d6"
      },
      "source": [
        "test_sentence = '재미있을 줄 알았는데 완전 실망했다. 너무 졸리고 돈이 아까웠다.' \n",
        "test_sentence = test_sentence.split(' ')\n",
        "\n",
        "test_sentences = [] \n",
        "now_sentence = []\n",
        "\n",
        "for word in test_sentence: \n",
        "  now_sentence.append(word)\n",
        "  test_sentences.append(now_sentence[:])\n",
        "\n",
        "test_X_1 = tokenizer.texts_to_sequences(test_sentences) \n",
        "test_X_1 = pad_sequences(test_X_1, padding = 'post', maxlen = 25)\n",
        "\n",
        "prediction = model.predict(test_X_1)\n",
        "\n",
        "for idx, sentence in enumerate(test_sentences): \n",
        "  print(sentence) \n",
        "  print(prediction[idx])"
      ],
      "execution_count": 19,
      "outputs": [
        {
          "output_type": "stream",
          "text": [
            "['재미있을']\n",
            "[0.01441751 0.9855825 ]\n",
            "['재미있을', '줄']\n",
            "[0.02130678 0.97869325]\n",
            "['재미있을', '줄', '알았는데']\n",
            "[0.04396742 0.9560325 ]\n",
            "['재미있을', '줄', '알았는데', '완전']\n",
            "[0.01207152 0.98792845]\n",
            "['재미있을', '줄', '알았는데', '완전', '실망했다.']\n",
            "[0.01207152 0.98792845]\n",
            "['재미있을', '줄', '알았는데', '완전', '실망했다.', '너무']\n",
            "[0.03124348 0.9687565 ]\n",
            "['재미있을', '줄', '알았는데', '완전', '실망했다.', '너무', '졸리고']\n",
            "[9.9956006e-01 4.3992093e-04]\n",
            "['재미있을', '줄', '알았는데', '완전', '실망했다.', '너무', '졸리고', '돈이']\n",
            "[9.998636e-01 1.363852e-04]\n",
            "['재미있을', '줄', '알았는데', '완전', '실망했다.', '너무', '졸리고', '돈이', '아까웠다.']\n",
            "[9.998636e-01 1.363852e-04]\n"
          ],
          "name": "stdout"
        }
      ]
    }
  ]
}